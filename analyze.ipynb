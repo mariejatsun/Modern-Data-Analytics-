{
 "cells": [
  {
   "cell_type": "code",
<<<<<<< Updated upstream
   "execution_count": 1,
=======
   "execution_count": 7,
>>>>>>> Stashed changes
   "metadata": {},
   "outputs": [],
   "source": [
    "# Import packages\n",
    "import pandas as pd"
   ]
  },
  {
   "cell_type": "markdown",
   "metadata": {},
   "source": [
    "# Check for Missing Values and Duplicates"
   ]
  },
  {
   "cell_type": "code",
<<<<<<< Updated upstream
   "execution_count": null,
   "metadata": {},
   "outputs": [],
   "source": [
    "# Paths 2020 Lin\n",
    "csv_path2020_euroSciVoc = \"C:/Users/gebruiker/Desktop/Schoolwerk/Modern Data Analytics/MDA/cordis-h2020projects-csv/euroSciVoc.csv\"\n",
    "csv_path2020_legalBasis = \"C:/Users/gebruiker/Desktop/Schoolwerk/Modern Data Analytics/MDA/cordis-h2020projects-csv/legalBasis.csv\"\n",
    "csv_path2020_organization = \"C:/Users/gebruiker/Desktop/Schoolwerk/Modern Data Analytics/MDA/cordis-h2020projects-csv/organization.csv\"\n",
    "csv_path2020_project = \"C:/Users/gebruiker/Desktop/Schoolwerk/Modern Data Analytics/MDA/cordis-h2020projects-csv/project.csv\"\n",
    "csv_path2020_topics = \"C:/Users/gebruiker/Desktop/Schoolwerk/Modern Data Analytics/MDA/cordis-h2020projects-csv/topics.csv\"\n",
    "csv_path2020_webItem = \"C:/Users/gebruiker/Desktop/Schoolwerk/Modern Data Analytics/MDA/cordis-h2020projects-csv/webItem.csv\"\n",
    "csv_path2020_webLink = \"C:/Users/gebruiker/Desktop/Schoolwerk/Modern Data Analytics/MDA/cordis-h2020projects-csv/webLink.csv\"\n",
=======
   "execution_count": 8,
   "metadata": {},
   "outputs": [],
   "source": [
    "# Paths horizon\n",
    "csv_path2020_euroSciVoc = \"./cordis-h2020projects-csv/euroSciVoc.csv\"\n",
    "csv_path2020_legalBasis = \"./cordis-h2020projects-csv/legalBasis.csv\"\n",
    "csv_path2020_organization = \"./cordis-h2020projects-csv/organization.csv\"\n",
    "csv_path2020_project = \"./cordis-h2020projects-csv/project.csv\"\n",
    "csv_path2020_topics = \"./cordis-h2020projects-csv/topics.csv\"\n",
    "csv_path2020_webItem = \"./cordis-h2020projects-csv/webItem.csv\"\n",
    "csv_path2020_webLink = \"./cordis-h2020projects-csv/webLink.csv\"\n",
>>>>>>> Stashed changes
    "\n",
    "csv_path2024_euroSciVoc = \"./cordis-HORIZONprojects-csv/euroSciVoc.csv\"\n",
    "csv_path2024_legalBasis = \"./cordis-HORIZONprojects-csv/legalBasis.csv\"\n",
    "csv_path2024_organization = \"./cordis-HORIZONprojects-csv/organization.csv\"\n",
    "csv_path2024_project = \"./cordis-HORIZONprojects-csv/project.csv\"\n",
    "csv_path2024_topics = \"./cordis-HORIZONprojects-csv/topics.csv\"\n",
    "csv_path2024_webItem = \"./cordis-HORIZONprojects-csv/webItem.csv\"\n",
    "csv_path2024_webLink = \"./cordis-HORIZONprojects-csv/webLink.csv\"\n",
    "\n"
   ]
  },
  {
   "cell_type": "code",
<<<<<<< Updated upstream
   "execution_count": 7,
   "metadata": {},
   "outputs": [],
   "source": [
    "# Paths Jana\n",
    "\n",
    "csv_path2020_euroSciVoc = \"/Users/janas/OneDrive/Documenten/KU LEUVEN/master 2/semester 2/data analytics/code/MDA/cordis-h2020projects-csv/euroSciVoc.csv\"\n",
    "csv_path2020_legalBasis = \"/Users/janas/OneDrive/Documenten/KU LEUVEN/master 2/semester 2/data analytics/code/MDA/cordis-h2020projects-csv/legalBasis.csv\"\n",
    "csv_path2020_organization = \"/Users/janas/OneDrive/Documenten/KU LEUVEN/master 2/semester 2/data analytics/code/MDA/cordis-h2020projects-csv/organization.csv\"\n",
    "csv_path2020_project = \"/Users/janas/OneDrive/Documenten/KU LEUVEN/master 2/semester 2/data analytics/code/MDA/cordis-h2020projects-csv/project.csv\"\n",
    "csv_path2020_topics = \"/Users/janas/OneDrive/Documenten/KU LEUVEN/master 2/semester 2/data analytics/code/MDA/cordis-h2020projects-csv/topics.csv\"\n",
    "csv_path2020_webItem = \"/Users/janas/OneDrive/Documenten/KU LEUVEN/master 2/semester 2/data analytics/code/MDA/cordis-h2020projects-csv/webItem.csv\"\n",
    "csv_path2020_webLink = \"/Users/janas/OneDrive/Documenten/KU LEUVEN/master 2/semester 2/data analytics/code/MDA/cordis-h2020projects-csv/webLink.csv\"\n",
    "csv_path2020_publications =\"/Users/janas/OneDrive/Documenten/KU LEUVEN/master 2/semester 2/data analytics/code/projectPublications2020.csv\"\n",
    "\n",
    "csv_path2024_euroSciVoc = \"/Users/janas/OneDrive/Documenten/KU LEUVEN/master 2/semester 2/data analytics/code/MDA/cordis-HORIZONprojects-csv/euroSciVoc.csv\"\n",
    "csv_path2024_legalBasis = \"/Users/janas/OneDrive/Documenten/KU LEUVEN/master 2/semester 2/data analytics/code/MDA/cordis-HORIZONprojects-csv/legalBasis.csv\"\n",
    "csv_path2024_organization = \"/Users/janas/OneDrive/Documenten/KU LEUVEN/master 2/semester 2/data analytics/code/MDA/cordis-HORIZONprojects-csv/organization.csv\"\n",
    "csv_path2024_project = \"/Users/janas/OneDrive/Documenten/KU LEUVEN/master 2/semester 2/data analytics/code/MDA/cordis-HORIZONprojects-csv/project.csv\"\n",
    "csv_path2024_topics = \"/Users/janas/OneDrive/Documenten/KU LEUVEN/master 2/semester 2/data analytics/code/MDA/cordis-HORIZONprojects-csv/topics.csv\"\n",
    "csv_path2024_webItem = \"/Users/janas/OneDrive/Documenten/KU LEUVEN/master 2/semester 2/data analytics/code/MDA/cordis-HORIZONprojects-csv/webItem.csv\"\n",
    "csv_path2024_webLink = \"/Users/janas/OneDrive/Documenten/KU LEUVEN/master 2/semester 2/data analytics/code/MDA/cordis-HORIZONprojects-csv/webLink.csv\"\n",
    "csv_path2024_publications = \"/Users/janas/OneDrive/Documenten/KU LEUVEN/master 2/semester 2/data analytics/code/projectPublications2024.csv\"\n"
   ]
  },
  {
   "cell_type": "code",
   "execution_count": null,
   "metadata": {},
   "outputs": [],
   "source": [
    "# Paths Sebastian\n",
    "\n"
   ]
  },
  {
   "cell_type": "code",
   "execution_count": null,
   "metadata": {},
   "outputs": [],
   "source": [
    "# Paths Marie\n",
    "\n"
   ]
  },
  {
   "cell_type": "code",
   "execution_count": 12,
=======
   "execution_count": 9,
>>>>>>> Stashed changes
   "metadata": {},
   "outputs": [
    {
     "name": "stdout",
     "output_type": "stream",
     "text": [
      "=== euroSciVoc ===\n",
      "Missing values:\n",
      " projectID                     0\n",
      "euroSciVocCode                0\n",
      "euroSciVocPath                0\n",
      "euroSciVocTitle               0\n",
      "euroSciVocDescription    114193\n",
      "dtype: int64\n",
      "Duplicated rows: 0 \n",
      "\n",
      "=== legalBasis ===\n",
      "Missing values:\n",
      " projectID                  0\n",
      "legalBasis                 0\n",
      "title                      0\n",
      "uniqueProgrammePart    30399\n",
      "dtype: int64\n",
      "Duplicated rows: 0 \n",
      "\n",
      "=== organization ===\n",
      "Missing values:\n",
      " projectID                  0\n",
      "projectAcronym             0\n",
      "organisationID             0\n",
      "vatNumber              23528\n",
      "name                       0\n",
      "shortName              40141\n",
      "SME                      516\n",
      "activityType             954\n",
      "street                  1209\n",
      "postCode                1986\n",
      "city                     522\n",
      "country                  264\n",
      "nutsCode                 618\n",
      "geolocation              232\n",
      "organizationURL        62539\n",
      "contactForm                0\n",
      "contentUpdateDate          0\n",
      "rcn                        0\n",
      "order                      0\n",
      "role                       0\n",
      "ecContribution          7769\n",
      "netEcContribution         37\n",
      "totalCost                187\n",
      "endOfParticipation         0\n",
      "active                176558\n",
      "dtype: int64\n",
      "Duplicated rows: 0 \n",
      "\n",
      "=== project ===\n",
      "Missing values:\n",
      " id                        0\n",
      "acronym                   0\n",
      "status                    0\n",
      "title                     0\n",
      "startDate                11\n",
      "endDate                  11\n",
      "totalCost                 0\n",
      "ecMaxContribution         0\n",
      "legalBasis                0\n",
      "topics                    0\n",
      "ecSignatureDate           0\n",
      "frameworkProgramme        0\n",
      "masterCall                0\n",
      "subCall                   0\n",
      "fundingScheme             1\n",
      "nature                34512\n",
      "objective                 0\n",
      "contentUpdateDate         0\n",
      "rcn                       0\n",
      "grantDoi                  0\n",
      "dtype: int64\n",
      "Duplicated rows: 0 \n",
      "\n",
      "=== topics ===\n",
      "Missing values:\n",
      " projectID    0\n",
      "topic        0\n",
      "title        0\n",
      "dtype: int64\n",
      "Duplicated rows: 0 \n",
      "\n",
      "=== webItem ===\n",
      "Missing values:\n",
      " language              0\n",
      "availableLanguages    0\n",
      "uri                   0\n",
      "title                 7\n",
      "type                  0\n",
      "source                0\n",
      "represents            3\n",
      "dtype: int64\n",
      "Duplicated rows: 0 \n",
      "\n",
      "=== webLink ===\n",
      "Missing values:\n",
      " projectID                  0\n",
      "physUrl                    0\n",
      "id                         2\n",
      "availableLanguages         0\n",
      "status                215063\n",
      "archivedDate          215064\n",
      "type                       0\n",
      "source                     0\n",
      "represents             19764\n",
      "dtype: int64\n",
      "Duplicated rows: 2 \n",
      "\n",
      "=== publications ===\n",
      "Missing values:\n",
      " id                        0\n",
      "title                     1\n",
      "isPublishedAs             1\n",
      "authors                  12\n",
      "journalTitle          32126\n",
      "journalNumber        170786\n",
      "publishedYear            53\n",
      "publishedPages       220030\n",
      "issn                 149228\n",
      "isbn                 397057\n",
      "doi                   84721\n",
      "projectID                 0\n",
      "projectAcronym            0\n",
      "collection                0\n",
      "contentUpdateDate         0\n",
      "rcn                       0\n",
      "dtype: int64\n",
      "Duplicated rows: 0 \n",
      "\n"
     ]
    }
   ],
   "source": [
    "## for horizon 2020 MISSING VALUES AND DUPLICATES\n",
    "\n",
    "# Dataframes inlezen\n",
    "df2020_euroSciVoc = pd.read_csv(csv_path2020_euroSciVoc, delimiter=\";\", on_bad_lines=\"skip\", low_memory=False)\n",
    "df2020_legalBasis = pd.read_csv(csv_path2020_legalBasis, delimiter=\";\", on_bad_lines=\"skip\", low_memory=False)\n",
    "df2020_organization = pd.read_csv(csv_path2020_organization, delimiter=\";\", on_bad_lines=\"skip\", low_memory=False)\n",
    "df2020_project = pd.read_csv(csv_path2020_project, delimiter=\";\", on_bad_lines=\"skip\", low_memory=False)\n",
    "df2020_topics = pd.read_csv(csv_path2020_topics, delimiter=\";\", on_bad_lines=\"skip\", low_memory=False)\n",
    "df2020_webItem = pd.read_csv(csv_path2020_webItem, delimiter=\";\", on_bad_lines=\"skip\", low_memory=False)\n",
    "df2020_webLink = pd.read_csv(csv_path2020_webLink, delimiter=\";\", on_bad_lines=\"skip\", low_memory=False)\n",
    "df2020_publications = pd.read_csv(csv_path2020_publications,delimiter=\";\", on_bad_lines=\"skip\", low_memory=False)\n",
    "\n",
    "# euroSciVoc\n",
    "print(\"=== euroSciVoc ===\")\n",
    "print(\"Missing values:\\n\", df2020_euroSciVoc.isnull().sum())\n",
    "print(\"Duplicated rows:\", df2020_euroSciVoc.duplicated().sum(), \"\\n\")\n",
    "\n",
    "# legalBasis\n",
    "print(\"=== legalBasis ===\")\n",
    "print(\"Missing values:\\n\", df2020_legalBasis.isnull().sum())\n",
    "print(\"Duplicated rows:\", df2020_legalBasis.duplicated().sum(), \"\\n\")\n",
    "\n",
    "# organization\n",
    "print(\"=== organization ===\")\n",
    "print(\"Missing values:\\n\", df2020_organization.isnull().sum())\n",
    "print(\"Duplicated rows:\", df2020_organization.duplicated().sum(), \"\\n\")\n",
    "\n",
    "# project\n",
    "print(\"=== project ===\")\n",
    "print(\"Missing values:\\n\", df2020_project.isnull().sum())\n",
    "print(\"Duplicated rows:\", df2020_project.duplicated().sum(), \"\\n\")\n",
    "\n",
    "# topics\n",
    "print(\"=== topics ===\")\n",
    "print(\"Missing values:\\n\", df2020_topics.isnull().sum())\n",
    "print(\"Duplicated rows:\", df2020_topics.duplicated().sum(), \"\\n\")\n",
    "\n",
    "# webItem\n",
    "print(\"=== webItem ===\")\n",
    "print(\"Missing values:\\n\", df2020_webItem.isnull().sum())\n",
    "print(\"Duplicated rows:\", df2020_webItem.duplicated().sum(), \"\\n\")\n",
    "\n",
    "# webLink\n",
    "print(\"=== webLink ===\")\n",
    "print(\"Missing values:\\n\", df2020_webLink.isnull().sum())\n",
    "print(\"Duplicated rows:\", df2020_webLink.duplicated().sum(), \"\\n\")\n",
    "\n",
    "# publications \n",
    "print(\"=== publications ===\")\n",
    "print(\"Missing values:\\n\", df2020_publications.isnull().sum())\n",
    "print(\"Duplicated rows:\", df2020_publications.duplicated().sum(), \"\\n\")\n",
    "\n",
    "## duplicates verwijderen, we hebben hier geen meerwaarde aan \n",
    "## bepaalde rijen waar gegevens ontbreken, verwijderen we ook. bv waar projectID, title, startdate, enddate, maxEcContribution, EcContribution, role, country ontbreekt \n",
    "\n",
    "# PROJECT — nodig voor analyse van tijd, categorie en funding\n",
    "df2020_project.drop_duplicates(inplace=True)\n",
    "df2020_project.dropna(subset=[\"id\", \"title\", \"startDate\", \"ecMaxContribution\"], inplace=True)\n",
    "\n",
    "# ORGANIZATION — nodig voor funding en coördinatierollen per land\n",
    "df2020_organization.drop_duplicates(inplace=True)\n",
    "df2020_organization.dropna(subset=[\"projectID\", \"organisationID\", \"role\", \"country\", \"ecContribution\"], inplace=True)\n",
    "\n",
    "# EUROSCIVOC — nodig om projecten aan categorieën te koppelen\n",
    "df2020_euroSciVoc.drop_duplicates(inplace=True)\n",
    "df2020_euroSciVoc.dropna(subset=[\"projectID\"], inplace=True)\n",
    "\n",
    "# PUBLICATIONS\n",
    "df2020_publications.drop_duplicates(inplace=True)\n",
    "df2020_publications.dropna(subset=[\"projectID\", \"doi\"], inplace= True)"
   ]
  },
  {
   "cell_type": "code",
<<<<<<< Updated upstream
   "execution_count": 13,
=======
   "execution_count": 10,
>>>>>>> Stashed changes
   "metadata": {},
   "outputs": [
    {
     "name": "stdout",
     "output_type": "stream",
     "text": [
      "=== euroSciVoc ===\n",
      "Missing values:\n",
      " projectID                    0\n",
      "euroSciVocCode               0\n",
      "euroSciVocPath               0\n",
      "euroSciVocTitle              0\n",
      "euroSciVocDescription    38789\n",
      "dtype: int64\n",
      "Duplicated rows: 0 \n",
      "\n",
      "=== legalBasis ===\n",
      "Missing values:\n",
      " projectID                 0\n",
      "legalBasis                0\n",
      "title                     0\n",
      "uniqueProgrammePart    5171\n",
      "dtype: int64\n",
      "Duplicated rows: 0 \n",
      "\n",
      "=== organization ===\n",
      "Missing values:\n",
      " projectID                  0\n",
      "projectAcronym             0\n",
      "organisationID             0\n",
      "vatNumber              15403\n",
      "name                       0\n",
      "shortName              25507\n",
      "SME                      263\n",
      "activityType              24\n",
      "street                   300\n",
      "postCode                 786\n",
      "city                     263\n",
      "country                   13\n",
      "nutsCode                 278\n",
      "geolocation              588\n",
      "organizationURL        38954\n",
      "contactForm                0\n",
      "contentUpdateDate          0\n",
      "rcn                        0\n",
      "order                      0\n",
      "role                       0\n",
      "ecContribution         15704\n",
      "netEcContribution         42\n",
      "totalCost                936\n",
      "endOfParticipation         0\n",
      "active                100249\n",
      "dtype: int64\n",
      "Duplicated rows: 0 \n",
      "\n",
      "=== project ===\n",
      "Missing values:\n",
      " id                        0\n",
      "acronym                   0\n",
      "status                    0\n",
      "title                     0\n",
      "startDate                 0\n",
      "endDate                   0\n",
      "totalCost                 0\n",
      "ecMaxContribution         0\n",
      "legalBasis                0\n",
      "topics                    0\n",
      "ecSignatureDate           1\n",
      "frameworkProgramme        0\n",
      "masterCall                0\n",
      "subCall                   0\n",
      "fundingScheme             1\n",
      "nature                15221\n",
      "objective                 0\n",
      "contentUpdateDate         0\n",
      "rcn                       0\n",
      "grantDoi                 58\n",
      "dtype: int64\n",
      "Duplicated rows: 0 \n",
      "\n",
      "=== topics ===\n",
      "Missing values:\n",
      " projectID    0\n",
      "topic        0\n",
      "title        0\n",
      "dtype: int64\n",
      "Duplicated rows: 0 \n",
      "\n",
      "=== webItem ===\n",
      "Missing values:\n",
      " language              0\n",
      "availableLanguages    0\n",
      "uri                   0\n",
      "title                 3\n",
      "type                  0\n",
      "source                0\n",
      "represents            1\n",
      "dtype: int64\n",
      "Duplicated rows: 0 \n",
      "\n",
      "=== webLink ===\n",
      "Missing values:\n",
      " projectID                 0\n",
      "physUrl                   0\n",
      "id                        0\n",
      "availableLanguages        0\n",
      "status                21440\n",
      "archivedDate          21440\n",
      "type                      0\n",
      "source                    0\n",
      "represents            13723\n",
      "dtype: int64\n",
      "Duplicated rows: 0 \n",
      "\n",
      "=== publications ===\n",
      "Missing values:\n",
      " id                       0\n",
      "title                    0\n",
      "isPublishedAs            0\n",
      "authors                 74\n",
      "journalTitle          2098\n",
      "journalNumber        13618\n",
      "publishedYear            1\n",
      "publishedPages       24130\n",
      "issn                  7000\n",
      "isbn                 23206\n",
      "doi                   2292\n",
      "projectID                0\n",
      "projectAcronym           0\n",
      "collection               0\n",
      "contentUpdateDate        0\n",
      "rcn                      1\n",
      "dtype: int64\n",
      "Duplicated rows: 0 \n",
      "\n"
     ]
    }
   ],
   "source": [
    "## for horizon 2024\n",
    "# Dataframes inlezen\n",
    "df2024_euroSciVoc = pd.read_csv(csv_path2024_euroSciVoc, delimiter=\";\", on_bad_lines=\"skip\", low_memory=False)\n",
    "df2024_legalBasis = pd.read_csv(csv_path2024_legalBasis, delimiter=\";\", on_bad_lines=\"skip\", low_memory=False)\n",
    "df2024_organization = pd.read_csv(csv_path2024_organization, delimiter=\";\", on_bad_lines=\"skip\", low_memory=False)\n",
    "df2024_project = pd.read_csv(csv_path2024_project, delimiter=\";\", on_bad_lines=\"skip\", low_memory=False)\n",
    "df2024_topics = pd.read_csv(csv_path2024_topics, delimiter=\";\", on_bad_lines=\"skip\", low_memory=False)\n",
    "df2024_webItem = pd.read_csv(csv_path2024_webItem, delimiter=\";\", on_bad_lines=\"skip\", low_memory=False)\n",
    "df2024_webLink = pd.read_csv(csv_path2024_webLink, delimiter=\";\", on_bad_lines=\"skip\", low_memory=False)\n",
    "df2024_publications=pd.read_csv(csv_path2024_publications,  delimiter=\";\", on_bad_lines=\"skip\", low_memory=False)\n",
    "\n",
    "# euroSciVoc\n",
    "print(\"=== euroSciVoc ===\")\n",
    "print(\"Missing values:\\n\", df2024_euroSciVoc.isnull().sum())\n",
    "print(\"Duplicated rows:\", df2024_euroSciVoc.duplicated().sum(), \"\\n\")\n",
    "\n",
    "# legalBasis\n",
    "print(\"=== legalBasis ===\")\n",
    "print(\"Missing values:\\n\", df2024_legalBasis.isnull().sum())\n",
    "print(\"Duplicated rows:\", df2024_legalBasis.duplicated().sum(), \"\\n\")\n",
    "\n",
    "# organization\n",
    "print(\"=== organization ===\")\n",
    "print(\"Missing values:\\n\", df2024_organization.isnull().sum())\n",
    "print(\"Duplicated rows:\", df2024_organization.duplicated().sum(), \"\\n\")\n",
    "\n",
    "# project\n",
    "print(\"=== project ===\")\n",
    "print(\"Missing values:\\n\", df2024_project.isnull().sum())\n",
    "print(\"Duplicated rows:\", df2024_project.duplicated().sum(), \"\\n\")\n",
    "\n",
    "# topics\n",
    "print(\"=== topics ===\")\n",
    "print(\"Missing values:\\n\", df2024_topics.isnull().sum())\n",
    "print(\"Duplicated rows:\", df2024_topics.duplicated().sum(), \"\\n\")\n",
    "\n",
    "# webItem\n",
    "print(\"=== webItem ===\")\n",
    "print(\"Missing values:\\n\", df2024_webItem.isnull().sum())\n",
    "print(\"Duplicated rows:\", df2024_webItem.duplicated().sum(), \"\\n\")\n",
    "\n",
    "# webLink\n",
    "print(\"=== webLink ===\")\n",
    "print(\"Missing values:\\n\", df2024_webLink.isnull().sum())\n",
    "print(\"Duplicated rows:\", df2024_webLink.duplicated().sum(), \"\\n\")\n",
    "\n",
    "# publications \n",
    "print(\"=== publications ===\")\n",
    "print(\"Missing values:\\n\", df2024_publications.isnull().sum())\n",
    "print(\"Duplicated rows:\", df2024_publications.duplicated().sum(), \"\\n\")\n",
    "\n",
    "## duplicates verwijderen, we hebben hier geen meerwaarde aan \n",
    "## bepaalde rijen waar gegevens ontbreken, verwijderen we ook. bv waar projectID, title, startdate, enddate, maxEcContribution, EcContribution, role, country ontbreekt \n",
    "\n",
    "# PROJECT — nodig voor analyse van tijd, categorie en funding\n",
    "df2024_project.drop_duplicates(inplace=True)\n",
    "df2024_project.dropna(subset=[\"id\", \"title\", \"startDate\", \"ecMaxContribution\"], inplace=True)\n",
    "\n",
    "# ORGANIZATION — nodig voor funding en coördinatierollen per land\n",
    "df2024_organization.drop_duplicates(inplace=True)\n",
    "df2024_organization.dropna(subset=[\"projectID\", \"organisationID\", \"role\", \"country\", \"ecContribution\"], inplace=True)\n",
    "\n",
    "# EUROSCIVOC — nodig om projecten aan categorieën te koppelen\n",
    "df2024_euroSciVoc.drop_duplicates(inplace=True)\n",
    "df2024_euroSciVoc.dropna(subset=[\"projectID\"], inplace=True)\n",
    "\n",
    "# PUBLICATIONS\n",
    "df2024_publications.drop_duplicates(inplace=True)\n",
    "df2024_publications.dropna(subset=[\"projectID\", \"doi\"], inplace= True)\n"
   ]
  },
  {
   "cell_type": "markdown",
   "metadata": {},
   "source": [
    "# Research Categories"
   ]
  },
  {
   "cell_type": "code",
<<<<<<< Updated upstream
   "execution_count": 14,
=======
   "execution_count": 11,
>>>>>>> Stashed changes
   "metadata": {},
   "outputs": [
    {
     "name": "stdout",
     "output_type": "stream",
     "text": [
      "\n",
      "Number of projects per category in 2020:\n",
      "                   category  count_2020  rel_2020\n",
      "           natural sciences       48421 42.402774\n",
      " engineering and technology       25267 22.126575\n",
      "medical and health sciences       17468 15.296910\n",
      "            social sciences       16024 14.032384\n",
      "                 humanities        4028  3.527362\n",
      "      agricultural sciences        2985  2.613996\n",
      "\n",
      "Number of projects per category in 2024:\n",
      "                   category  count_2024  rel_2024\n",
      "           natural sciences       18075 46.598262\n",
      " engineering and technology        6680 17.221377\n",
      "medical and health sciences        5985 15.429632\n",
      "            social sciences        5027 12.959860\n",
      "                 humanities        1739  4.483230\n",
      "      agricultural sciences        1283  3.307639\n"
     ]
    }
   ],
   "source": [
    "# Path: neem deze benamingen niet meer!\n",
    "#csv_path2020 = \"/Users/mariejatsun/Desktop/MDA Project/cordis-h2020projects-csv/euroSciVoc.csv\"\n",
    "#csv_path2024 = \"/Users/mariejatsun/Desktop/MDA Project/cordis-HORIZONprojects-csv/euroSciVoc.csv\"\n",
    "\n",
    "#JANA \n",
    "#csv_path2020 = \"/Users/janas/OneDrive/Documenten/KU LEUVEN/master 2/semester 2/data analytics/code/MDA/cordis-h2020projects-csv/euroSciVoc.csv\"\n",
    "#csv_path2024 = \"/Users/janas/OneDrive/Documenten/KU LEUVEN/master 2/semester 2/data analytics/code/MDA/cordis-HORIZONprojects-csv/euroSciVoc.csv\"\n",
    "\n",
    "# Load CSV's \n",
    "#df_2020 = pd.read_csv(csv_path2020, delimiter=\";\", on_bad_lines=\"skip\")\n",
    "#df_2024 = pd.read_csv(csv_path2024, delimiter=\";\", on_bad_lines=\"skip\")\n",
    "\n",
    "# Look if column euroSciVocPath exists\n",
    "if 'euroSciVocPath' not in df2020_euroSciVoc.columns or 'euroSciVocPath' not in df2024_euroSciVoc.columns:\n",
    "    raise ValueError(\"Column 'euroSciVocPath' not found\")\n",
    "\n",
    "# Extract category\n",
    "df2020_euroSciVoc['category2020'] = df2020_euroSciVoc['euroSciVocPath'].str.split('/').str[1]\n",
    "df2024_euroSciVoc['category2024'] = df2024_euroSciVoc['euroSciVocPath'].str.split('/').str[1]\n",
    "\n",
    "# Count rows per category\n",
    "category_counts_2020 = df2020_euroSciVoc['category2020'].value_counts().reset_index()\n",
    "category_counts_2024 = df2024_euroSciVoc['category2024'].value_counts().reset_index()\n",
    "\n",
    "# Choose column names\n",
    "category_counts_2020.columns = ['category', 'count_2020']\n",
    "category_counts_2024.columns = ['category', 'count_2024']\n",
    "\n",
    "# Relative counts\n",
    "category_counts_2020['rel_2020'] = (category_counts_2020['count_2020'] / category_counts_2020['count_2020'].sum()) * 100\n",
    "category_counts_2024['rel_2024'] = (category_counts_2024['count_2024'] / category_counts_2024['count_2024'].sum()) * 100\n",
    "# Print \n",
    "print(\"\\nNumber of projects per category in 2020:\")\n",
    "print(category_counts_2020.to_string(index=False))\n",
    "\n",
    "print(\"\\nNumber of projects per category in 2024:\")\n",
    "print(category_counts_2024.to_string(index=False))"
   ]
  },
  {
   "cell_type": "markdown",
   "metadata": {},
   "source": [
    "# Funding Distribution "
   ]
  },
  {
   "cell_type": "markdown",
   "metadata": {},
   "source": [
    "## Comparison Across countries"
   ]
  },
  {
   "cell_type": "markdown",
   "metadata": {},
   "source": [
    "### In organization.csv: columns ‘ecContribution’, ‘netEcContribution’"
   ]
  },
  {
   "cell_type": "code",
   "execution_count": 12,
   "metadata": {},
   "outputs": [
    {
     "name": "stdout",
     "output_type": "stream",
     "text": [
      "\n",
      "Funding distribution comparison (H2020 vs Horizon Europe):\n",
      "country  ecContribution_2020  netEcContribution_2020  ecContribution_2024  netEcContribution_2024\n",
      "     DE         1.008683e+10            1.010350e+10         7.143896e+09            7.133945e+09\n",
      "     FR         7.505264e+09            7.425600e+09         5.005581e+09            4.984713e+09\n",
      "     ES         6.370864e+09            6.367600e+09         4.525547e+09            4.542529e+09\n",
      "     IT         5.678991e+09            5.700749e+09         3.810964e+09            3.757276e+09\n",
      "     NL         5.360284e+09            5.364393e+09         3.791088e+09            3.772894e+09\n",
      "     BE         3.415569e+09            3.392041e+09         3.394415e+09            3.321351e+09\n",
      "     EL         1.716628e+09            1.726158e+09         1.677251e+09            1.677521e+09\n",
      "     SE         2.318316e+09            2.312439e+09         1.459772e+09            1.462400e+09\n",
      "     NO         1.697087e+09            1.707813e+09         1.423482e+09            1.417474e+09\n",
      "     AT         1.958192e+09            1.960487e+09         1.389145e+09            1.386762e+09\n",
      "     DK         1.762806e+09            1.757243e+09         1.253836e+09            1.253857e+09\n",
      "     FI         1.536417e+09            1.534254e+09         1.243751e+09            1.247015e+09\n",
      "     PT         1.144673e+09            1.156393e+09         9.932239e+08            9.959858e+08\n",
      "     IE         1.208678e+09            1.199757e+09         8.953368e+08            8.942632e+08\n",
      "     IL         1.277270e+09            1.277437e+09         8.145031e+08            8.117438e+08\n",
      "     PL         7.374395e+08            7.419918e+08         6.367603e+08            6.598673e+08\n",
      "     CZ         4.982076e+08            5.119571e+08         4.862941e+08            4.898418e+08\n",
      "     UK         7.819000e+09            7.820703e+09         4.171745e+08            4.193756e+08\n",
      "     SI         3.773216e+08            3.780377e+08         3.581567e+08            3.575677e+08\n",
      "     CY         3.195844e+08            3.187116e+08         2.985625e+08            2.974194e+08\n",
      "     RO         2.969726e+08            3.002786e+08         2.898332e+08            2.882779e+08\n",
      "     TR         2.777253e+08            2.776725e+08         2.898174e+08            2.898248e+08\n",
      "     EE         2.738367e+08            2.729647e+08         2.556724e+08            2.565753e+08\n",
      "     LU         2.008916e+08            2.005870e+08         2.018049e+08            1.998859e+08\n",
      "     HU         3.615326e+08            3.643732e+08         1.957782e+08            1.997156e+08\n",
      "     BG         1.592622e+08            1.605038e+08         1.631803e+08            1.633236e+08\n",
      "     LT         9.440430e+07            9.424771e+07         1.557564e+08            1.560771e+08\n",
      "     HR         1.366386e+08            1.377741e+08         1.315653e+08            1.345898e+08\n",
      "     RS         1.326523e+08            1.355651e+08         1.211271e+08            1.236866e+08\n",
      "     SK         1.353022e+08            1.364502e+08         1.086767e+08            1.089240e+08\n",
      "     CH         2.424885e+09            2.427941e+09         1.023286e+08            1.015884e+08\n",
      "     LV         1.163084e+08            1.169635e+08         9.810486e+07            9.766834e+07\n",
      "     US         1.150644e+08            1.223536e+08         6.834304e+07            6.891604e+07\n",
      "     UA         4.722899e+07            4.845097e+07         6.819317e+07            6.740865e+07\n",
      "     IS         1.440608e+08            1.437448e+08         6.173354e+07            6.168010e+07\n",
      "     ZA         6.172994e+07            6.173882e+07         6.081058e+07            6.189006e+07\n",
      "     MT         3.862427e+07            3.738414e+07         4.481112e+07            4.502375e+07\n",
      "     KE         3.197747e+07            3.188808e+07         3.902091e+07            3.957874e+07\n",
      "     UG         1.204876e+07            1.204876e+07         2.210654e+07            2.210654e+07\n",
      "     TZ         1.048716e+07            1.093077e+07         1.980800e+07            1.980800e+07\n",
      "     GH         1.350359e+07            1.352741e+07         1.732988e+07            1.732988e+07\n",
      "     CD         3.398773e+06            3.398773e+06         1.511995e+07            1.511995e+07\n",
      "     ET         5.852809e+06            5.852809e+06         1.492432e+07            1.492432e+07\n",
      "     NG         4.843348e+06            4.843348e+06         1.439501e+07            1.441453e+07\n",
      "     TN         1.305338e+07            1.313711e+07         1.302885e+07            1.317060e+07\n",
      "     SN         6.178805e+06            6.269616e+06         1.293037e+07            1.333919e+07\n",
      "     MZ         3.703048e+06            3.740866e+06         1.149498e+07            1.149498e+07\n",
      "     MK         1.341950e+07            1.440231e+07         1.125636e+07            1.216632e+07\n",
      "     CA         1.556232e+07            1.640283e+07         1.056181e+07            1.056181e+07\n",
      "     ZM         1.992412e+06            2.031193e+06         9.258258e+06            9.258258e+06\n",
      "     BA         8.500940e+06            8.597569e+06         9.022172e+06            9.022172e+06\n",
      "     BF         9.097828e+06            9.097828e+06         8.294277e+06            8.294277e+06\n",
      "     AU         1.127486e+07            1.218650e+07         7.925924e+06            7.925924e+06\n",
      "     AM         4.164550e+06            4.165423e+06         7.000505e+06            7.000505e+06\n",
      "     AL         5.608330e+06            5.812705e+06         6.943552e+06            6.943552e+06\n",
      "     NZ         2.636419e+06            2.636419e+06         6.558807e+06            6.558807e+06\n",
      "     MD         7.411553e+06            7.411553e+06         6.481232e+06            6.489982e+06\n",
      "     RW         2.132238e+06            2.132238e+06         6.246408e+06            6.246408e+06\n",
      "     ML         1.192419e+06            1.192419e+06         6.238854e+06            6.238854e+06\n",
      "     MA         7.425449e+06            7.895574e+06         5.760780e+06            5.760780e+06\n",
      "     GE         8.680018e+06            8.721383e+06         5.754641e+06            5.793641e+06\n",
      "     CO         8.884556e+06            8.884556e+06         5.418849e+06            5.328537e+06\n",
      "     CI         1.658742e+06            1.658742e+06         5.316089e+06            5.393589e+06\n",
      "     EG         4.199075e+06            4.247895e+06         5.156737e+06            5.212666e+06\n",
      "     CM         1.634837e+06            1.634837e+06         4.991261e+06            4.991261e+06\n",
      "     GA         1.231025e+06            1.231025e+06         4.933914e+06            4.933914e+06\n",
      "     MH         6.772500e+04            6.772500e+04         4.765775e+06            4.765775e+06\n",
      "     LB         4.282367e+06            4.282367e+06         4.469218e+06            4.469218e+06\n",
      "     ME         4.649608e+06            4.695360e+06         4.451191e+06            4.451191e+06\n",
      "     ZW         4.071250e+05            4.704812e+05         4.405044e+06            4.405044e+06\n",
      "     MG         2.235961e+06            1.834773e+06         4.383724e+06            4.923161e+06\n",
      "     TH         2.461661e+06            2.485436e+06         3.992089e+06            3.992089e+06\n",
      "     FO         4.625638e+06            4.782575e+06         3.747574e+06            3.747574e+06\n",
      "     KR         2.476388e+06            2.476388e+06         3.331506e+06            3.331506e+06\n",
      "     BJ         2.017571e+06            2.017571e+06         3.190926e+06            3.190926e+06\n",
      "     GL         2.729684e+06            2.729684e+06         3.142219e+06            3.142219e+06\n",
      "     CG         2.337500e+05            2.337500e+05         3.114554e+06            3.114554e+06\n",
      "     PK         1.874838e+06            1.874838e+06         2.603756e+06            2.603756e+06\n",
      "     SG         2.254912e+05            2.254912e+05         2.487379e+06            2.487379e+06\n",
      "     CV         6.124134e+05            6.790447e+05         2.438805e+06            2.438805e+06\n",
      "     BD         3.696078e+06            3.721278e+06         2.236436e+06            2.372936e+06\n",
      "     GN         0.000000e+00            0.000000e+00         2.118586e+06            2.118586e+06\n",
      "     IN         4.346050e+06            4.346050e+06         2.042263e+06            2.203403e+06\n",
      "     PH         1.503754e+06            1.503754e+06         1.840666e+06            1.840666e+06\n",
      "     PE         2.280832e+06            2.280832e+06         1.752900e+06            1.752900e+06\n",
      "     CR         1.349872e+06            1.349872e+06         1.603471e+06            1.603471e+06\n",
      "     BR         1.601164e+07            1.602755e+07         1.570174e+06            1.570174e+06\n",
      "     JO         5.661734e+06            5.653734e+06         1.517882e+06            1.517882e+06\n",
      "     MW         3.103414e+06            3.157039e+06         1.512789e+06            1.512789e+06\n",
      "     XK         2.480599e+06            2.480599e+06         1.508397e+06            1.508397e+06\n",
      "     CL         9.424322e+06            9.625184e+06         1.499475e+06            1.544225e+06\n",
      "     BI         5.861395e+04            5.861395e+04         1.498159e+06            1.498159e+06\n",
      "     KH         7.211815e+05            7.211815e+05         1.383488e+06            1.383488e+06\n",
      "     AR         8.921579e+06            8.980083e+06         1.343047e+06            1.343047e+06\n",
      "     JP         5.707611e+06            5.707611e+06         1.278940e+06            1.278940e+06\n",
      "     VN         2.904166e+06            2.938166e+06         1.162987e+06            1.162987e+06\n",
      "     BW         2.433806e+06            2.433806e+06         1.054269e+06            1.054269e+06\n",
      "     DZ         1.231150e+06            1.231150e+06         8.461973e+05            8.461973e+05\n",
      "     NI         3.300000e+05            3.300000e+05         7.301762e+05            7.301762e+05\n",
      "     LK         2.490662e+06            2.490662e+06         7.052175e+05            7.052175e+05\n",
      "     MU         1.321000e+06            1.321000e+06         6.970625e+05            6.412500e+05\n",
      "     SZ         3.387500e+05            3.387500e+05         5.725285e+05            5.725285e+05\n",
      "     GM         0.000000e+00            0.000000e+00         5.437500e+05            5.437500e+05\n",
      "     CN         5.136412e+06            5.169509e+06         5.040875e+05            5.040875e+05\n",
      "     EC         3.508018e+06            3.508018e+06         5.031980e+05            5.031980e+05\n",
      "     GT         1.859671e+05            1.859671e+05         4.696875e+05            4.696875e+05\n",
      "     TW         9.046171e+05            9.046171e+05         4.448612e+05            4.448612e+05\n",
      "     AW         0.000000e+00            0.000000e+00         4.381250e+05            4.381250e+05\n",
      "     LR         6.062500e+04            2.523750e+05         4.256992e+05            4.256992e+05\n",
      "     PS         2.933250e+05            2.933250e+05         3.960490e+05            3.960490e+05\n",
      "     KG         6.540325e+05            6.540325e+05         3.891750e+05            3.891750e+05\n",
      "     MX         9.883042e+05            9.883042e+05         3.328125e+05            3.328125e+05\n",
      "     MY         1.171178e+06            1.276556e+06         3.025000e+05            3.025000e+05\n",
      "     ID         2.250729e+06            2.282479e+06         2.656875e+05            2.656875e+05\n",
      "     IR         9.458372e+05            9.458372e+05         2.249725e+05            2.249725e+05\n",
      "     IQ         6.155059e+05            6.155059e+05         1.926250e+05            1.926250e+05\n",
      "     HT         0.000000e+00            0.000000e+00         1.900000e+05            1.900000e+05\n",
      "     BQ         3.068750e+05            0.000000e+00         1.845000e+05            1.845000e+05\n",
      "     TG         1.405180e+05            1.405180e+05         1.830625e+05            1.830625e+05\n",
      "     SL         1.441950e+07            2.062065e+07         1.602000e+05            1.602000e+05\n",
      "     SR         2.121750e+05            2.121750e+05         1.481350e+05            1.481350e+05\n",
      "     MV         4.996625e+04            4.996625e+04         1.407375e+05            1.407375e+05\n",
      "     MR         6.437500e+04            6.437500e+04         1.372188e+05            1.372188e+05\n",
      "     AF         1.402614e+04            1.402614e+04         1.202500e+05            1.202500e+05\n",
      "     PG         0.000000e+00            0.000000e+00         1.072500e+05            1.072500e+05\n",
      "     DJ         6.402700e+04            6.402700e+04         1.028125e+05            1.028125e+05\n",
      "     TD         1.540000e+05            1.540000e+05         1.028125e+05            1.028125e+05\n",
      "     PF         1.316119e+05            1.316119e+05         8.610000e+04            8.610000e+04\n",
      "     LS         2.325000e+04            2.325000e+04         8.259625e+04            8.259625e+04\n",
      "     UZ         3.248762e+05            3.248762e+05         6.475000e+04            6.475000e+04\n",
      "     VE         0.000000e+00            0.000000e+00         6.202500e+04            6.202500e+04\n",
      "     LY         4.335000e+04            4.335000e+04         5.737500e+04            5.737500e+04\n",
      "     UY         3.830441e+06            3.830441e+06         4.145268e+04            4.145268e+04\n",
      "     SD         3.000000e+04            7.403125e+04         3.637500e+04            3.637500e+04\n",
      "     KZ         3.021525e+05            3.429964e+05         3.606250e+04            3.606250e+04\n",
      "     AZ         6.851642e+05            6.851642e+05         1.857300e+04            1.857300e+04\n",
      "     CU         1.001066e+06            1.001066e+06         1.131750e+04            1.131750e+04\n",
      "     NC         9.546431e+05            1.083495e+06         2.518000e+03            2.518000e+03\n",
      "     BO         5.334300e+05            5.334300e+05         0.000000e+00            0.000000e+00\n",
      "     AO         1.430000e+05            1.430000e+05         0.000000e+00            0.000000e+00\n",
      "     AE         5.000000e+05            5.000000e+05         0.000000e+00            0.000000e+00\n",
      "     AI         1.253137e+06            1.253137e+06         0.000000e+00            0.000000e+00\n",
      "     DO         2.530750e+05            2.530750e+05         0.000000e+00            0.000000e+00\n",
      "     BH         0.000000e+00            0.000000e+00         0.000000e+00            0.000000e+00\n",
      "     BZ         2.000000e+04            2.000000e+04         0.000000e+00            0.000000e+00\n",
      "     BY         2.634142e+06            2.634142e+06         0.000000e+00            0.000000e+00\n",
      "     MM         5.000000e+04            5.000000e+04         0.000000e+00            0.000000e+00\n",
      "     MN         4.250000e+04            4.250000e+04         0.000000e+00            0.000000e+00\n",
      "     MC         0.000000e+00            0.000000e+00         0.000000e+00            0.000000e+00\n",
      "     LI         0.000000e+00            0.000000e+00         0.000000e+00            0.000000e+00\n",
      "     HK         5.550000e+05            5.550000e+05         0.000000e+00            0.000000e+00\n",
      "     GI         2.833820e+06            2.833820e+06         0.000000e+00            0.000000e+00\n",
      "     GD         2.813250e+04            2.813250e+04         0.000000e+00            0.000000e+00\n",
      "     HN         2.392500e+04            2.392500e+04         0.000000e+00            0.000000e+00\n",
      "     KW         0.000000e+00            0.000000e+00         0.000000e+00            0.000000e+00\n",
      "     GW         0.000000e+00            0.000000e+00         0.000000e+00            0.000000e+00\n",
      "     JE         0.000000e+00            0.000000e+00         0.000000e+00            0.000000e+00\n",
      "     JM         1.752558e+06            1.752558e+06         0.000000e+00            0.000000e+00\n",
      "     SC         7.950000e+04            7.950000e+04         0.000000e+00            0.000000e+00\n",
      "     SA         0.000000e+00            0.000000e+00         0.000000e+00            0.000000e+00\n",
      "     RU         3.742446e+06            3.742446e+06         0.000000e+00            0.000000e+00\n",
      "     QA         0.000000e+00            0.000000e+00         0.000000e+00            0.000000e+00\n",
      "     PY         2.645938e+05            2.645938e+05         0.000000e+00            0.000000e+00\n",
      "     NP         1.927916e+06            1.927916e+06         0.000000e+00            0.000000e+00\n",
      "     OM         0.000000e+00            0.000000e+00         0.000000e+00            0.000000e+00\n",
      "     PA         1.256062e+05            1.256062e+05         0.000000e+00            0.000000e+00\n",
      "     NE         1.724360e+06            1.724360e+06         0.000000e+00            2.792526e+05\n",
      "     TJ         3.872955e+05            3.872955e+05         0.000000e+00            0.000000e+00\n",
      "     SX         0.000000e+00            3.068750e+05         0.000000e+00            0.000000e+00\n",
      "     TM         7.980750e+04            7.980750e+04         0.000000e+00            0.000000e+00\n",
      "     VG         1.685532e+05            1.685532e+05         0.000000e+00            0.000000e+00\n",
      "     WF         0.000000e+00            0.000000e+00         0.000000e+00            0.000000e+00\n",
      "     YE         1.340738e+05            1.340738e+05         0.000000e+00            0.000000e+00\n",
      "     ZZ         8.357750e+04            8.357750e+04         0.000000e+00            0.000000e+00\n"
     ]
    }
   ],
   "source": [
    "# Paths \n",
    "#csv_path_2020 = \"/Users/mariejatsun/Desktop/MDA Project/cordis-h2020projects-csv/organization.csv\"\n",
    "#csv_path_2024 = \"/Users/mariejatsun/Desktop/MDA Project/cordis-HORIZONprojects-csv/organization.csv\"\n",
    "\n",
    "# Load CSV's\n",
    "#df_2020 = pd.read_csv(csv_path_2020, delimiter=\";\", on_bad_lines=\"skip\")\n",
    "#df_2024 = pd.read_csv(csv_path_2024, delimiter=\";\", on_bad_lines=\"skip\")\n",
    "\n",
    "# Look if required columns exist\n",
    "required_cols = ['country', 'ecContribution', 'netEcContribution']\n",
    "for col in required_cols:\n",
    "    if col not in df2020_organization.columns or col not in df2024_organization.columns:\n",
    "        raise ValueError(f\"Column '{col}' not found in one of the datasets\")\n",
    "\n",
    "# Group by country and sum contributions\n",
    "funding_2020 = df2020_organization.groupby('country')[['ecContribution', 'netEcContribution']].sum().reset_index()\n",
    "funding_2024 = df2024_organization.groupby('country')[['ecContribution', 'netEcContribution']].sum().reset_index()\n",
    "\n",
    "# Choose column names\n",
    "funding_2020.columns = ['country', 'ecContribution_2020', 'netEcContribution_2020']\n",
    "funding_2024.columns = ['country', 'ecContribution_2024', 'netEcContribution_2024']\n",
    "\n",
    "# Merge datasets on country\n",
    "merged_funding = pd.merge(funding_2020, funding_2024, on='country', how='outer').fillna(0)\n",
    "\n",
    "# Print \n",
    "print(\"\\nFunding distribution comparison (H2020 vs Horizon Europe):\")\n",
    "print(merged_funding.sort_values(by='ecContribution_2024', ascending=False).to_string(index=False))\n"
   ]
  },
  {
   "cell_type": "code",
   "execution_count": 15,
   "metadata": {},
   "outputs": [
    {
     "data": {
      "application/vnd.jupyter.widget-view+json": {
       "model_id": "1f949d86b5444c37a288e6fc9555ee6f",
       "version_major": 2,
       "version_minor": 0
      },
      "text/plain": [
       "ToggleButtons(description='Year:', options=('2020', '2024'), value='2020')"
      ]
     },
     "metadata": {},
     "output_type": "display_data"
    },
    {
     "data": {
      "application/vnd.plotly.v1+json": {
       "config": {
        "plotlyServerURL": "https://plot.ly"
       },
       "data": [
        {
         "geo": "geo",
         "hovertemplate": "<b>%{hovertext}</b><br><br>country=AE<br>ecContribution_2020=%{marker.size}<br>locations=%{location}<extra></extra>",
         "hovertext": [
          "AE"
         ],
         "legendgroup": "AE",
         "locationmode": "ISO-3",
         "locations": [
          "ARE"
         ],
         "marker": {
          "color": "#636efa",
          "size": {
           "bdata": "AAAAAICEHkE=",
           "dtype": "f8"
          },
          "sizemode": "area",
          "sizeref": 4034731.627476,
          "symbol": "circle"
         },
         "mode": "markers",
         "name": "AE",
         "showlegend": true,
         "type": "scattergeo"
        },
        {
         "geo": "geo",
         "hovertemplate": "<b>%{hovertext}</b><br><br>country=AF<br>ecContribution_2020=%{marker.size}<br>locations=%{location}<extra></extra>",
         "hovertext": [
          "AF"
         ],
         "legendgroup": "AF",
         "locationmode": "ISO-3",
         "locations": [
          "AFG"
         ],
         "marker": {
          "color": "#EF553B",
          "size": {
           "bdata": "uB6F6xFly0A=",
           "dtype": "f8"
          },
          "sizemode": "area",
          "sizeref": 4034731.627476,
          "symbol": "circle"
         },
         "mode": "markers",
         "name": "AF",
         "showlegend": true,
         "type": "scattergeo"
        },
        {
         "geo": "geo",
         "hovertemplate": "<b>%{hovertext}</b><br><br>country=AI<br>ecContribution_2020=%{marker.size}<br>locations=%{location}<extra></extra>",
         "hovertext": [
          "AI"
         ],
         "legendgroup": "AI",
         "locationmode": "ISO-3",
         "locations": [
          "AIA"
         ],
         "marker": {
          "color": "#00cc96",
          "size": {
           "bdata": "KVyPQhEfM0E=",
           "dtype": "f8"
          },
          "sizemode": "area",
          "sizeref": 4034731.627476,
          "symbol": "circle"
         },
         "mode": "markers",
         "name": "AI",
         "showlegend": true,
         "type": "scattergeo"
        },
        {
         "geo": "geo",
         "hovertemplate": "<b>%{hovertext}</b><br><br>country=AL<br>ecContribution_2020=%{marker.size}<br>locations=%{location}<extra></extra>",
         "hovertext": [
          "AL"
         ],
         "legendgroup": "AL",
         "locationmode": "ISO-3",
         "locations": [
          "ALB"
         ],
         "marker": {
          "color": "#ab63fa",
          "size": {
           "bdata": "cT0Kh+JkVUE=",
           "dtype": "f8"
          },
          "sizemode": "area",
          "sizeref": 4034731.627476,
          "symbol": "circle"
         },
         "mode": "markers",
         "name": "AL",
         "showlegend": true,
         "type": "scattergeo"
        },
        {
         "geo": "geo",
         "hovertemplate": "<b>%{hovertext}</b><br><br>country=AM<br>ecContribution_2020=%{marker.size}<br>locations=%{location}<extra></extra>",
         "hovertext": [
          "AM"
         ],
         "legendgroup": "AM",
         "locationmode": "ISO-3",
         "locations": [
          "ARM"
         ],
         "marker": {
          "color": "#FFA15A",
          "size": {
           "bdata": "H4Xr0eLFT0E=",
           "dtype": "f8"
          },
          "sizemode": "area",
          "sizeref": 4034731.627476,
          "symbol": "circle"
         },
         "mode": "markers",
         "name": "AM",
         "showlegend": true,
         "type": "scattergeo"
        },
        {
         "geo": "geo",
         "hovertemplate": "<b>%{hovertext}</b><br><br>country=AO<br>ecContribution_2020=%{marker.size}<br>locations=%{location}<extra></extra>",
         "hovertext": [
          "AO"
         ],
         "legendgroup": "AO",
         "locationmode": "ISO-3",
         "locations": [
          "AGO"
         ],
         "marker": {
          "color": "#19d3f3",
          "size": {
           "bdata": "AAAAAMB0AUE=",
           "dtype": "f8"
          },
          "sizemode": "area",
          "sizeref": 4034731.627476,
          "symbol": "circle"
         },
         "mode": "markers",
         "name": "AO",
         "showlegend": true,
         "type": "scattergeo"
        },
        {
         "geo": "geo",
         "hovertemplate": "<b>%{hovertext}</b><br><br>country=AR<br>ecContribution_2020=%{marker.size}<br>locations=%{location}<extra></extra>",
         "hovertext": [
          "AR"
         ],
         "legendgroup": "AR",
         "locationmode": "ISO-3",
         "locations": [
          "ARG"
         ],
         "marker": {
          "color": "#FF6692",
          "size": {
           "bdata": "9ihcZz0EYUE=",
           "dtype": "f8"
          },
          "sizemode": "area",
          "sizeref": 4034731.627476,
          "symbol": "circle"
         },
         "mode": "markers",
         "name": "AR",
         "showlegend": true,
         "type": "scattergeo"
        },
        {
         "geo": "geo",
         "hovertemplate": "<b>%{hovertext}</b><br><br>country=AT<br>ecContribution_2020=%{marker.size}<br>locations=%{location}<extra></extra>",
         "hovertext": [
          "AT"
         ],
         "legendgroup": "AT",
         "locationmode": "ISO-3",
         "locations": [
          "AUT"
         ],
         "marker": {
          "color": "#B6E880",
          "size": {
           "bdata": "PQqneegt3UE=",
           "dtype": "f8"
          },
          "sizemode": "area",
          "sizeref": 4034731.627476,
          "symbol": "circle"
         },
         "mode": "markers",
         "name": "AT",
         "showlegend": true,
         "type": "scattergeo"
        },
        {
         "geo": "geo",
         "hovertemplate": "<b>%{hovertext}</b><br><br>country=AU<br>ecContribution_2020=%{marker.size}<br>locations=%{location}<extra></extra>",
         "hovertext": [
          "AU"
         ],
         "legendgroup": "AU",
         "locationmode": "ISO-3",
         "locations": [
          "AUS"
         ],
         "marker": {
          "color": "#FF97FF",
          "size": {
           "bdata": "CtejEE6BZUE=",
           "dtype": "f8"
          },
          "sizemode": "area",
          "sizeref": 4034731.627476,
          "symbol": "circle"
         },
         "mode": "markers",
         "name": "AU",
         "showlegend": true,
         "type": "scattergeo"
        },
        {
         "geo": "geo",
         "hovertemplate": "<b>%{hovertext}</b><br><br>country=AW<br>ecContribution_2020=%{marker.size}<br>locations=%{location}<extra></extra>",
         "hovertext": [
          "AW"
         ],
         "legendgroup": "AW",
         "locationmode": "ISO-3",
         "locations": [
          "ABW"
         ],
         "marker": {
          "color": "#FECB52",
          "size": {
           "bdata": "AAAAAAAAAAA=",
           "dtype": "f8"
          },
          "sizemode": "area",
          "sizeref": 4034731.627476,
          "symbol": "circle"
         },
         "mode": "markers",
         "name": "AW",
         "showlegend": true,
         "type": "scattergeo"
        },
        {
         "geo": "geo",
         "hovertemplate": "<b>%{hovertext}</b><br><br>country=AZ<br>ecContribution_2020=%{marker.size}<br>locations=%{location}<extra></extra>",
         "hovertext": [
          "AZ"
         ],
         "legendgroup": "AZ",
         "locationmode": "ISO-3",
         "locations": [
          "AZE"
         ],
         "marker": {
          "color": "#636efa",
          "size": {
           "bdata": "ZmZmZtjoJEE=",
           "dtype": "f8"
          },
          "sizemode": "area",
          "sizeref": 4034731.627476,
          "symbol": "circle"
         },
         "mode": "markers",
         "name": "AZ",
         "showlegend": true,
         "type": "scattergeo"
        },
        {
         "geo": "geo",
         "hovertemplate": "<b>%{hovertext}</b><br><br>country=BA<br>ecContribution_2020=%{marker.size}<br>locations=%{location}<extra></extra>",
         "hovertext": [
          "BA"
         ],
         "legendgroup": "BA",
         "locationmode": "ISO-3",
         "locations": [
          "BIH"
         ],
         "marker": {
          "color": "#EF553B",
          "size": {
           "bdata": "SOF6jNk2YEE=",
           "dtype": "f8"
          },
          "sizemode": "area",
          "sizeref": 4034731.627476,
          "symbol": "circle"
         },
         "mode": "markers",
         "name": "BA",
         "showlegend": true,
         "type": "scattergeo"
        },
        {
         "geo": "geo",
         "hovertemplate": "<b>%{hovertext}</b><br><br>country=BD<br>ecContribution_2020=%{marker.size}<br>locations=%{location}<extra></extra>",
         "hovertext": [
          "BD"
         ],
         "legendgroup": "BD",
         "locationmode": "ISO-3",
         "locations": [
          "BGD"
         ],
         "marker": {
          "color": "#00cc96",
          "size": {
           "bdata": "KVyP4uYyTEE=",
           "dtype": "f8"
          },
          "sizemode": "area",
          "sizeref": 4034731.627476,
          "symbol": "circle"
         },
         "mode": "markers",
         "name": "BD",
         "showlegend": true,
         "type": "scattergeo"
        },
        {
         "geo": "geo",
         "hovertemplate": "<b>%{hovertext}</b><br><br>country=BE<br>ecContribution_2020=%{marker.size}<br>locations=%{location}<extra></extra>",
         "hovertext": [
          "BE"
         ],
         "legendgroup": "BE",
         "locationmode": "ISO-3",
         "locations": [
          "BEL"
         ],
         "marker": {
          "color": "#ab63fa",
          "size": {
           "bdata": "KVyXZK5y6UE=",
           "dtype": "f8"
          },
          "sizemode": "area",
          "sizeref": 4034731.627476,
          "symbol": "circle"
         },
         "mode": "markers",
         "name": "BE",
         "showlegend": true,
         "type": "scattergeo"
        },
        {
         "geo": "geo",
         "hovertemplate": "<b>%{hovertext}</b><br><br>country=BF<br>ecContribution_2020=%{marker.size}<br>locations=%{location}<extra></extra>",
         "hovertext": [
          "BF"
         ],
         "legendgroup": "BF",
         "locationmode": "ISO-3",
         "locations": [
          "BFA"
         ],
         "marker": {
          "color": "#FFA15A",
          "size": {
           "bdata": "UrgehUxaYUE=",
           "dtype": "f8"
          },
          "sizemode": "area",
          "sizeref": 4034731.627476,
          "symbol": "circle"
         },
         "mode": "markers",
         "name": "BF",
         "showlegend": true,
         "type": "scattergeo"
        },
        {
         "geo": "geo",
         "hovertemplate": "<b>%{hovertext}</b><br><br>country=BG<br>ecContribution_2020=%{marker.size}<br>locations=%{location}<extra></extra>",
         "hovertext": [
          "BG"
         ],
         "legendgroup": "BG",
         "locationmode": "ISO-3",
         "locations": [
          "BGR"
         ],
         "marker": {
          "color": "#19d3f3",
          "size": {
           "bdata": "9ijcLkz8okE=",
           "dtype": "f8"
          },
          "sizemode": "area",
          "sizeref": 4034731.627476,
          "symbol": "circle"
         },
         "mode": "markers",
         "name": "BG",
         "showlegend": true,
         "type": "scattergeo"
        },
        {
         "geo": "geo",
         "hovertemplate": "<b>%{hovertext}</b><br><br>country=BH<br>ecContribution_2020=%{marker.size}<br>locations=%{location}<extra></extra>",
         "hovertext": [
          "BH"
         ],
         "legendgroup": "BH",
         "locationmode": "ISO-3",
         "locations": [
          "BHR"
         ],
         "marker": {
          "color": "#FF6692",
          "size": {
           "bdata": "AAAAAAAAAAA=",
           "dtype": "f8"
          },
          "sizemode": "area",
          "sizeref": 4034731.627476,
          "symbol": "circle"
         },
         "mode": "markers",
         "name": "BH",
         "showlegend": true,
         "type": "scattergeo"
        },
        {
         "geo": "geo",
         "hovertemplate": "<b>%{hovertext}</b><br><br>country=BI<br>ecContribution_2020=%{marker.size}<br>locations=%{location}<extra></extra>",
         "hovertext": [
          "BI"
         ],
         "legendgroup": "BI",
         "locationmode": "ISO-3",
         "locations": [
          "BDI"
         ],
         "marker": {
          "color": "#B6E880",
          "size": {
           "bdata": "ZmZmZr6e7EA=",
           "dtype": "f8"
          },
          "sizemode": "area",
          "sizeref": 4034731.627476,
          "symbol": "circle"
         },
         "mode": "markers",
         "name": "BI",
         "showlegend": true,
         "type": "scattergeo"
        },
        {
         "geo": "geo",
         "hovertemplate": "<b>%{hovertext}</b><br><br>country=BJ<br>ecContribution_2020=%{marker.size}<br>locations=%{location}<extra></extra>",
         "hovertext": [
          "BJ"
         ],
         "legendgroup": "BJ",
         "locationmode": "ISO-3",
         "locations": [
          "BEN"
         ],
         "marker": {
          "color": "#FF97FF",
          "size": {
           "bdata": "FK5HYSPJPkE=",
           "dtype": "f8"
          },
          "sizemode": "area",
          "sizeref": 4034731.627476,
          "symbol": "circle"
         },
         "mode": "markers",
         "name": "BJ",
         "showlegend": true,
         "type": "scattergeo"
        },
        {
         "geo": "geo",
         "hovertemplate": "<b>%{hovertext}</b><br><br>country=BO<br>ecContribution_2020=%{marker.size}<br>locations=%{location}<extra></extra>",
         "hovertext": [
          "BO"
         ],
         "legendgroup": "BO",
         "locationmode": "ISO-3",
         "locations": [
          "BOL"
         ],
         "marker": {
          "color": "#FECB52",
          "size": {
           "bdata": "AAAAAGxHIEE=",
           "dtype": "f8"
          },
          "sizemode": "area",
          "sizeref": 4034731.627476,
          "symbol": "circle"
         },
         "mode": "markers",
         "name": "BO",
         "showlegend": true,
         "type": "scattergeo"
        },
        {
         "geo": "geo",
         "hovertemplate": "<b>%{hovertext}</b><br><br>country=BQ<br>ecContribution_2020=%{marker.size}<br>locations=%{location}<extra></extra>",
         "hovertext": [
          "BQ"
         ],
         "legendgroup": "BQ",
         "locationmode": "ISO-3",
         "locations": [
          "BES"
         ],
         "marker": {
          "color": "#636efa",
          "size": {
           "bdata": "AAAAAOy6EkE=",
           "dtype": "f8"
          },
          "sizemode": "area",
          "sizeref": 4034731.627476,
          "symbol": "circle"
         },
         "mode": "markers",
         "name": "BQ",
         "showlegend": true,
         "type": "scattergeo"
        },
        {
         "geo": "geo",
         "hovertemplate": "<b>%{hovertext}</b><br><br>country=BR<br>ecContribution_2020=%{marker.size}<br>locations=%{location}<extra></extra>",
         "hovertext": [
          "BR"
         ],
         "legendgroup": "BR",
         "locationmode": "ISO-3",
         "locations": [
          "BRA"
         ],
         "marker": {
          "color": "#EF553B",
          "size": {
           "bdata": "ZmZmdi+KbkE=",
           "dtype": "f8"
          },
          "sizemode": "area",
          "sizeref": 4034731.627476,
          "symbol": "circle"
         },
         "mode": "markers",
         "name": "BR",
         "showlegend": true,
         "type": "scattergeo"
        },
        {
         "geo": "geo",
         "hovertemplate": "<b>%{hovertext}</b><br><br>country=BW<br>ecContribution_2020=%{marker.size}<br>locations=%{location}<extra></extra>",
         "hovertext": [
          "BW"
         ],
         "legendgroup": "BW",
         "locationmode": "ISO-3",
         "locations": [
          "BWA"
         ],
         "marker": {
          "color": "#00cc96",
          "size": {
           "bdata": "UrgeBYeRQkE=",
           "dtype": "f8"
          },
          "sizemode": "area",
          "sizeref": 4034731.627476,
          "symbol": "circle"
         },
         "mode": "markers",
         "name": "BW",
         "showlegend": true,
         "type": "scattergeo"
        },
        {
         "geo": "geo",
         "hovertemplate": "<b>%{hovertext}</b><br><br>country=BY<br>ecContribution_2020=%{marker.size}<br>locations=%{location}<extra></extra>",
         "hovertext": [
          "BY"
         ],
         "legendgroup": "BY",
         "locationmode": "ISO-3",
         "locations": [
          "BLR"
         ],
         "marker": {
          "color": "#ab63fa",
          "size": {
           "bdata": "4XoULs8YREE=",
           "dtype": "f8"
          },
          "sizemode": "area",
          "sizeref": 4034731.627476,
          "symbol": "circle"
         },
         "mode": "markers",
         "name": "BY",
         "showlegend": true,
         "type": "scattergeo"
        },
        {
         "geo": "geo",
         "hovertemplate": "<b>%{hovertext}</b><br><br>country=BZ<br>ecContribution_2020=%{marker.size}<br>locations=%{location}<extra></extra>",
         "hovertext": [
          "BZ"
         ],
         "legendgroup": "BZ",
         "locationmode": "ISO-3",
         "locations": [
          "BLZ"
         ],
         "marker": {
          "color": "#FFA15A",
          "size": {
           "bdata": "AAAAAACI00A=",
           "dtype": "f8"
          },
          "sizemode": "area",
          "sizeref": 4034731.627476,
          "symbol": "circle"
         },
         "mode": "markers",
         "name": "BZ",
         "showlegend": true,
         "type": "scattergeo"
        },
        {
         "geo": "geo",
         "hovertemplate": "<b>%{hovertext}</b><br><br>country=CA<br>ecContribution_2020=%{marker.size}<br>locations=%{location}<extra></extra>",
         "hovertext": [
          "CA"
         ],
         "legendgroup": "CA",
         "locationmode": "ISO-3",
         "locations": [
          "CAN"
         ],
         "marker": {
          "color": "#19d3f3",
          "size": {
           "bdata": "hetRKMqubUE=",
           "dtype": "f8"
          },
          "sizemode": "area",
          "sizeref": 4034731.627476,
          "symbol": "circle"
         },
         "mode": "markers",
         "name": "CA",
         "showlegend": true,
         "type": "scattergeo"
        },
        {
         "geo": "geo",
         "hovertemplate": "<b>%{hovertext}</b><br><br>country=CD<br>ecContribution_2020=%{marker.size}<br>locations=%{location}<extra></extra>",
         "hovertext": [
          "CD"
         ],
         "legendgroup": "CD",
         "locationmode": "ISO-3",
         "locations": [
          "COD"
         ],
         "marker": {
          "color": "#FF6692",
          "size": {
           "bdata": "zczMTDruSUE=",
           "dtype": "f8"
          },
          "sizemode": "area",
          "sizeref": 4034731.627476,
          "symbol": "circle"
         },
         "mode": "markers",
         "name": "CD",
         "showlegend": true,
         "type": "scattergeo"
        },
        {
         "geo": "geo",
         "hovertemplate": "<b>%{hovertext}</b><br><br>country=CG<br>ecContribution_2020=%{marker.size}<br>locations=%{location}<extra></extra>",
         "hovertext": [
          "CG"
         ],
         "legendgroup": "CG",
         "locationmode": "ISO-3",
         "locations": [
          "COG"
         ],
         "marker": {
          "color": "#B6E880",
          "size": {
           "bdata": "AAAAALCIDEE=",
           "dtype": "f8"
          },
          "sizemode": "area",
          "sizeref": 4034731.627476,
          "symbol": "circle"
         },
         "mode": "markers",
         "name": "CG",
         "showlegend": true,
         "type": "scattergeo"
        },
        {
         "geo": "geo",
         "hovertemplate": "<b>%{hovertext}</b><br><br>country=CH<br>ecContribution_2020=%{marker.size}<br>locations=%{location}<extra></extra>",
         "hovertext": [
          "CH"
         ],
         "legendgroup": "CH",
         "locationmode": "ISO-3",
         "locations": [
          "CHE"
         ],
         "marker": {
          "color": "#FF97FF",
          "size": {
           "bdata": "rkeJBBoR4kE=",
           "dtype": "f8"
          },
          "sizemode": "area",
          "sizeref": 4034731.627476,
          "symbol": "circle"
         },
         "mode": "markers",
         "name": "CH",
         "showlegend": true,
         "type": "scattergeo"
        },
        {
         "geo": "geo",
         "hovertemplate": "<b>%{hovertext}</b><br><br>country=CI<br>ecContribution_2020=%{marker.size}<br>locations=%{location}<extra></extra>",
         "hovertext": [
          "CI"
         ],
         "legendgroup": "CI",
         "locationmode": "ISO-3",
         "locations": [
          "CIV"
         ],
         "marker": {
          "color": "#FECB52",
          "size": {
           "bdata": "FK5H4XVPOUE=",
           "dtype": "f8"
          },
          "sizemode": "area",
          "sizeref": 4034731.627476,
          "symbol": "circle"
         },
         "mode": "markers",
         "name": "CI",
         "showlegend": true,
         "type": "scattergeo"
        },
        {
         "geo": "geo",
         "hovertemplate": "<b>%{hovertext}</b><br><br>country=CL<br>ecContribution_2020=%{marker.size}<br>locations=%{location}<extra></extra>",
         "hovertext": [
          "CL"
         ],
         "legendgroup": "CL",
         "locationmode": "ISO-3",
         "locations": [
          "CHL"
         ],
         "marker": {
          "color": "#636efa",
          "size": {
           "bdata": "exSuN7j5YUE=",
           "dtype": "f8"
          },
          "sizemode": "area",
          "sizeref": 4034731.627476,
          "symbol": "circle"
         },
         "mode": "markers",
         "name": "CL",
         "showlegend": true,
         "type": "scattergeo"
        },
        {
         "geo": "geo",
         "hovertemplate": "<b>%{hovertext}</b><br><br>country=CM<br>ecContribution_2020=%{marker.size}<br>locations=%{location}<extra></extra>",
         "hovertext": [
          "CM"
         ],
         "legendgroup": "CM",
         "locationmode": "ISO-3",
         "locations": [
          "CMR"
         ],
         "marker": {
          "color": "#EF553B",
          "size": {
           "bdata": "CtejMBXyOEE=",
           "dtype": "f8"
          },
          "sizemode": "area",
          "sizeref": 4034731.627476,
          "symbol": "circle"
         },
         "mode": "markers",
         "name": "CM",
         "showlegend": true,
         "type": "scattergeo"
        },
        {
         "geo": "geo",
         "hovertemplate": "<b>%{hovertext}</b><br><br>country=CN<br>ecContribution_2020=%{marker.size}<br>locations=%{location}<extra></extra>",
         "hovertext": [
          "CN"
         ],
         "legendgroup": "CN",
         "locationmode": "ISO-3",
         "locations": [
          "CHN"
         ],
         "marker": {
          "color": "#00cc96",
          "size": {
           "bdata": "ZmZm9gaYU0E=",
           "dtype": "f8"
          },
          "sizemode": "area",
          "sizeref": 4034731.627476,
          "symbol": "circle"
         },
         "mode": "markers",
         "name": "CN",
         "showlegend": true,
         "type": "scattergeo"
        },
        {
         "geo": "geo",
         "hovertemplate": "<b>%{hovertext}</b><br><br>country=CO<br>ecContribution_2020=%{marker.size}<br>locations=%{location}<extra></extra>",
         "hovertext": [
          "CO"
         ],
         "legendgroup": "CO",
         "locationmode": "ISO-3",
         "locations": [
          "COL"
         ],
         "marker": {
          "color": "#ab63fa",
          "size": {
           "bdata": "AAAAeCnyYEE=",
           "dtype": "f8"
          },
          "sizemode": "area",
          "sizeref": 4034731.627476,
          "symbol": "circle"
         },
         "mode": "markers",
         "name": "CO",
         "showlegend": true,
         "type": "scattergeo"
        },
        {
         "geo": "geo",
         "hovertemplate": "<b>%{hovertext}</b><br><br>country=CR<br>ecContribution_2020=%{marker.size}<br>locations=%{location}<extra></extra>",
         "hovertext": [
          "CR"
         ],
         "legendgroup": "CR",
         "locationmode": "ISO-3",
         "locations": [
          "CRI"
         ],
         "marker": {
          "color": "#FFA15A",
          "size": {
           "bdata": "FK5HIfCYNEE=",
           "dtype": "f8"
          },
          "sizemode": "area",
          "sizeref": 4034731.627476,
          "symbol": "circle"
         },
         "mode": "markers",
         "name": "CR",
         "showlegend": true,
         "type": "scattergeo"
        },
        {
         "geo": "geo",
         "hovertemplate": "<b>%{hovertext}</b><br><br>country=CU<br>ecContribution_2020=%{marker.size}<br>locations=%{location}<extra></extra>",
         "hovertext": [
          "CU"
         ],
         "legendgroup": "CU",
         "locationmode": "ISO-3",
         "locations": [
          "CUB"
         ],
         "marker": {
          "color": "#19d3f3",
          "size": {
           "bdata": "Ctej8NSMLkE=",
           "dtype": "f8"
          },
          "sizemode": "area",
          "sizeref": 4034731.627476,
          "symbol": "circle"
         },
         "mode": "markers",
         "name": "CU",
         "showlegend": true,
         "type": "scattergeo"
        },
        {
         "geo": "geo",
         "hovertemplate": "<b>%{hovertext}</b><br><br>country=CV<br>ecContribution_2020=%{marker.size}<br>locations=%{location}<extra></extra>",
         "hovertext": [
          "CV"
         ],
         "legendgroup": "CV",
         "locationmode": "ISO-3",
         "locations": [
          "CPV"
         ],
         "marker": {
          "color": "#FF6692",
          "size": {
           "bdata": "H4Xr0XqwIkE=",
           "dtype": "f8"
          },
          "sizemode": "area",
          "sizeref": 4034731.627476,
          "symbol": "circle"
         },
         "mode": "markers",
         "name": "CV",
         "showlegend": true,
         "type": "scattergeo"
        },
        {
         "geo": "geo",
         "hovertemplate": "<b>%{hovertext}</b><br><br>country=CY<br>ecContribution_2020=%{marker.size}<br>locations=%{location}<extra></extra>",
         "hovertext": [
          "CY"
         ],
         "legendgroup": "CY",
         "locationmode": "ISO-3",
         "locations": [
          "CYP"
         ],
         "marker": {
          "color": "#B6E880",
          "size": {
           "bdata": "cT1KXngMs0E=",
           "dtype": "f8"
          },
          "sizemode": "area",
          "sizeref": 4034731.627476,
          "symbol": "circle"
         },
         "mode": "markers",
         "name": "CY",
         "showlegend": true,
         "type": "scattergeo"
        },
        {
         "geo": "geo",
         "hovertemplate": "<b>%{hovertext}</b><br><br>country=CZ<br>ecContribution_2020=%{marker.size}<br>locations=%{location}<extra></extra>",
         "hovertext": [
          "CZ"
         ],
         "legendgroup": "CZ",
         "locationmode": "ISO-3",
         "locations": [
          "CZE"
         ],
         "marker": {
          "color": "#FF97FF",
          "size": {
           "bdata": "16NwdguyvUE=",
           "dtype": "f8"
          },
          "sizemode": "area",
          "sizeref": 4034731.627476,
          "symbol": "circle"
         },
         "mode": "markers",
         "name": "CZ",
         "showlegend": true,
         "type": "scattergeo"
        },
        {
         "geo": "geo",
         "hovertemplate": "<b>%{hovertext}</b><br><br>country=DE<br>ecContribution_2020=%{marker.size}<br>locations=%{location}<extra></extra>",
         "hovertext": [
          "DE"
         ],
         "legendgroup": "DE",
         "locationmode": "ISO-3",
         "locations": [
          "DEU"
         ],
         "marker": {
          "color": "#FECB52",
          "size": {
           "bdata": "H4VlYMbJAkI=",
           "dtype": "f8"
          },
          "sizemode": "area",
          "sizeref": 4034731.627476,
          "symbol": "circle"
         },
         "mode": "markers",
         "name": "DE",
         "showlegend": true,
         "type": "scattergeo"
        },
        {
         "geo": "geo",
         "hovertemplate": "<b>%{hovertext}</b><br><br>country=DJ<br>ecContribution_2020=%{marker.size}<br>locations=%{location}<extra></extra>",
         "hovertext": [
          "DJ"
         ],
         "legendgroup": "DJ",
         "locationmode": "ISO-3",
         "locations": [
          "DJI"
         ],
         "marker": {
          "color": "#636efa",
          "size": {
           "bdata": "AAAAAGBD70A=",
           "dtype": "f8"
          },
          "sizemode": "area",
          "sizeref": 4034731.627476,
          "symbol": "circle"
         },
         "mode": "markers",
         "name": "DJ",
         "showlegend": true,
         "type": "scattergeo"
        },
        {
         "geo": "geo",
         "hovertemplate": "<b>%{hovertext}</b><br><br>country=DK<br>ecContribution_2020=%{marker.size}<br>locations=%{location}<extra></extra>",
         "hovertext": [
          "DK"
         ],
         "legendgroup": "DK",
         "locationmode": "ISO-3",
         "locations": [
          "DNK"
         ],
         "marker": {
          "color": "#EF553B",
          "size": {
           "bdata": "rkehnJJE2kE=",
           "dtype": "f8"
          },
          "sizemode": "area",
          "sizeref": 4034731.627476,
          "symbol": "circle"
         },
         "mode": "markers",
         "name": "DK",
         "showlegend": true,
         "type": "scattergeo"
        },
        {
         "geo": "geo",
         "hovertemplate": "<b>%{hovertext}</b><br><br>country=DO<br>ecContribution_2020=%{marker.size}<br>locations=%{location}<extra></extra>",
         "hovertext": [
          "DO"
         ],
         "legendgroup": "DO",
         "locationmode": "ISO-3",
         "locations": [
          "DOM"
         ],
         "marker": {
          "color": "#00cc96",
          "size": {
           "bdata": "AAAAAJjkDkE=",
           "dtype": "f8"
          },
          "sizemode": "area",
          "sizeref": 4034731.627476,
          "symbol": "circle"
         },
         "mode": "markers",
         "name": "DO",
         "showlegend": true,
         "type": "scattergeo"
        },
        {
         "geo": "geo",
         "hovertemplate": "<b>%{hovertext}</b><br><br>country=DZ<br>ecContribution_2020=%{marker.size}<br>locations=%{location}<extra></extra>",
         "hovertext": [
          "DZ"
         ],
         "legendgroup": "DZ",
         "locationmode": "ISO-3",
         "locations": [
          "DZA"
         ],
         "marker": {
          "color": "#ab63fa",
          "size": {
           "bdata": "4XoUbi7JMkE=",
           "dtype": "f8"
          },
          "sizemode": "area",
          "sizeref": 4034731.627476,
          "symbol": "circle"
         },
         "mode": "markers",
         "name": "DZ",
         "showlegend": true,
         "type": "scattergeo"
        },
        {
         "geo": "geo",
         "hovertemplate": "<b>%{hovertext}</b><br><br>country=EC<br>ecContribution_2020=%{marker.size}<br>locations=%{location}<extra></extra>",
         "hovertext": [
          "EC"
         ],
         "legendgroup": "EC",
         "locationmode": "ISO-3",
         "locations": [
          "ECU"
         ],
         "marker": {
          "color": "#FFA15A",
          "size": {
           "bdata": "kML1CJnDSkE=",
           "dtype": "f8"
          },
          "sizemode": "area",
          "sizeref": 4034731.627476,
          "symbol": "circle"
         },
         "mode": "markers",
         "name": "EC",
         "showlegend": true,
         "type": "scattergeo"
        },
        {
         "geo": "geo",
         "hovertemplate": "<b>%{hovertext}</b><br><br>country=EE<br>ecContribution_2020=%{marker.size}<br>locations=%{location}<extra></extra>",
         "hovertext": [
          "EE"
         ],
         "legendgroup": "EE",
         "locationmode": "ISO-3",
         "locations": [
          "EST"
         ],
         "marker": {
          "color": "#19d3f3",
          "size": {
           "bdata": "7FF4w2pSsEE=",
           "dtype": "f8"
          },
          "sizemode": "area",
          "sizeref": 4034731.627476,
          "symbol": "circle"
         },
         "mode": "markers",
         "name": "EE",
         "showlegend": true,
         "type": "scattergeo"
        },
        {
         "geo": "geo",
         "hovertemplate": "<b>%{hovertext}</b><br><br>country=EG<br>ecContribution_2020=%{marker.size}<br>locations=%{location}<extra></extra>",
         "hovertext": [
          "EG"
         ],
         "legendgroup": "EG",
         "locationmode": "ISO-3",
         "locations": [
          "EGY"
         ],
         "marker": {
          "color": "#FF6692",
          "size": {
           "bdata": "16NwragEUEE=",
           "dtype": "f8"
          },
          "sizemode": "area",
          "sizeref": 4034731.627476,
          "symbol": "circle"
         },
         "mode": "markers",
         "name": "EG",
         "showlegend": true,
         "type": "scattergeo"
        },
        {
         "geo": "geo",
         "hovertemplate": "<b>%{hovertext}</b><br><br>country=EL<br>ecContribution_2020=%{marker.size}<br>locations=%{location}<extra></extra>",
         "hovertext": [
          "EL"
         ],
         "legendgroup": "EL",
         "locationmode": "ISO-3",
         "locations": [
          null
         ],
         "marker": {
          "color": "#B6E880",
          "size": {
           "bdata": "MzOzsGqU2UE=",
           "dtype": "f8"
          },
          "sizemode": "area",
          "sizeref": 4034731.627476,
          "symbol": "circle"
         },
         "mode": "markers",
         "name": "EL",
         "showlegend": true,
         "type": "scattergeo"
        },
        {
         "geo": "geo",
         "hovertemplate": "<b>%{hovertext}</b><br><br>country=ES<br>ecContribution_2020=%{marker.size}<br>locations=%{location}<extra></extra>",
         "hovertext": [
          "ES"
         ],
         "legendgroup": "ES",
         "locationmode": "ISO-3",
         "locations": [
          "ESP"
         ],
         "marker": {
          "color": "#FF97FF",
          "size": {
           "bdata": "exTWnbq790E=",
           "dtype": "f8"
          },
          "sizemode": "area",
          "sizeref": 4034731.627476,
          "symbol": "circle"
         },
         "mode": "markers",
         "name": "ES",
         "showlegend": true,
         "type": "scattergeo"
        },
        {
         "geo": "geo",
         "hovertemplate": "<b>%{hovertext}</b><br><br>country=ET<br>ecContribution_2020=%{marker.size}<br>locations=%{location}<extra></extra>",
         "hovertext": [
          "ET"
         ],
         "legendgroup": "ET",
         "locationmode": "ISO-3",
         "locations": [
          "ETH"
         ],
         "marker": {
          "color": "#FECB52",
          "size": {
           "bdata": "4XoUPqJTVkE=",
           "dtype": "f8"
          },
          "sizemode": "area",
          "sizeref": 4034731.627476,
          "symbol": "circle"
         },
         "mode": "markers",
         "name": "ET",
         "showlegend": true,
         "type": "scattergeo"
        },
        {
         "geo": "geo",
         "hovertemplate": "<b>%{hovertext}</b><br><br>country=FI<br>ecContribution_2020=%{marker.size}<br>locations=%{location}<extra></extra>",
         "hovertext": [
          "FI"
         ],
         "legendgroup": "FI",
         "locationmode": "ISO-3",
         "locations": [
          "FIN"
         ],
         "marker": {
          "color": "#636efa",
          "size": {
           "bdata": "uB7l+fbk1kE=",
           "dtype": "f8"
          },
          "sizemode": "area",
          "sizeref": 4034731.627476,
          "symbol": "circle"
         },
         "mode": "markers",
         "name": "FI",
         "showlegend": true,
         "type": "scattergeo"
        },
        {
         "geo": "geo",
         "hovertemplate": "<b>%{hovertext}</b><br><br>country=FO<br>ecContribution_2020=%{marker.size}<br>locations=%{location}<extra></extra>",
         "hovertext": [
          "FO"
         ],
         "legendgroup": "FO",
         "locationmode": "ISO-3",
         "locations": [
          "FRO"
         ],
         "marker": {
          "color": "#EF553B",
          "size": {
           "bdata": "XI/ClTmlUUE=",
           "dtype": "f8"
          },
          "sizemode": "area",
          "sizeref": 4034731.627476,
          "symbol": "circle"
         },
         "mode": "markers",
         "name": "FO",
         "showlegend": true,
         "type": "scattergeo"
        },
        {
         "geo": "geo",
         "hovertemplate": "<b>%{hovertext}</b><br><br>country=FR<br>ecContribution_2020=%{marker.size}<br>locations=%{location}<extra></extra>",
         "hovertext": [
          "FR"
         ],
         "legendgroup": "FR",
         "locationmode": "ISO-3",
         "locations": [
          "FRA"
         ],
         "marker": {
          "color": "#00cc96",
          "size": {
           "bdata": "rkeZ35P1+0E=",
           "dtype": "f8"
          },
          "sizemode": "area",
          "sizeref": 4034731.627476,
          "symbol": "circle"
         },
         "mode": "markers",
         "name": "FR",
         "showlegend": true,
         "type": "scattergeo"
        },
        {
         "geo": "geo",
         "hovertemplate": "<b>%{hovertext}</b><br><br>country=GA<br>ecContribution_2020=%{marker.size}<br>locations=%{location}<extra></extra>",
         "hovertext": [
          "GA"
         ],
         "legendgroup": "GA",
         "locationmode": "ISO-3",
         "locations": [
          "GAB"
         ],
         "marker": {
          "color": "#ab63fa",
          "size": {
           "bdata": "AAAAALHIMkE=",
           "dtype": "f8"
          },
          "sizemode": "area",
          "sizeref": 4034731.627476,
          "symbol": "circle"
         },
         "mode": "markers",
         "name": "GA",
         "showlegend": true,
         "type": "scattergeo"
        },
        {
         "geo": "geo",
         "hovertemplate": "<b>%{hovertext}</b><br><br>country=GD<br>ecContribution_2020=%{marker.size}<br>locations=%{location}<extra></extra>",
         "hovertext": [
          "GD"
         ],
         "legendgroup": "GD",
         "locationmode": "ISO-3",
         "locations": [
          "GRD"
         ],
         "marker": {
          "color": "#FFA15A",
          "size": {
           "bdata": "AAAAACB520A=",
           "dtype": "f8"
          },
          "sizemode": "area",
          "sizeref": 4034731.627476,
          "symbol": "circle"
         },
         "mode": "markers",
         "name": "GD",
         "showlegend": true,
         "type": "scattergeo"
        },
        {
         "geo": "geo",
         "hovertemplate": "<b>%{hovertext}</b><br><br>country=GE<br>ecContribution_2020=%{marker.size}<br>locations=%{location}<extra></extra>",
         "hovertext": [
          "GE"
         ],
         "legendgroup": "GE",
         "locationmode": "ISO-3",
         "locations": [
          "GEO"
         ],
         "marker": {
          "color": "#19d3f3",
          "size": {
           "bdata": "exSuT0qOYEE=",
           "dtype": "f8"
          },
          "sizemode": "area",
          "sizeref": 4034731.627476,
          "symbol": "circle"
         },
         "mode": "markers",
         "name": "GE",
         "showlegend": true,
         "type": "scattergeo"
        },
        {
         "geo": "geo",
         "hovertemplate": "<b>%{hovertext}</b><br><br>country=GH<br>ecContribution_2020=%{marker.size}<br>locations=%{location}<extra></extra>",
         "hovertext": [
          "GH"
         ],
         "legendgroup": "GH",
         "locationmode": "ISO-3",
         "locations": [
          "GHA"
         ],
         "marker": {
          "color": "#FF6692",
          "size": {
           "bdata": "Fa5HcYzBaUE=",
           "dtype": "f8"
          },
          "sizemode": "area",
          "sizeref": 4034731.627476,
          "symbol": "circle"
         },
         "mode": "markers",
         "name": "GH",
         "showlegend": true,
         "type": "scattergeo"
        },
        {
         "geo": "geo",
         "hovertemplate": "<b>%{hovertext}</b><br><br>country=GI<br>ecContribution_2020=%{marker.size}<br>locations=%{location}<extra></extra>",
         "hovertext": [
          "GI"
         ],
         "legendgroup": "GI",
         "locationmode": "ISO-3",
         "locations": [
          "GIB"
         ],
         "marker": {
          "color": "#B6E880",
          "size": {
           "bdata": "mpmZGc6eRUE=",
           "dtype": "f8"
          },
          "sizemode": "area",
          "sizeref": 4034731.627476,
          "symbol": "circle"
         },
         "mode": "markers",
         "name": "GI",
         "showlegend": true,
         "type": "scattergeo"
        },
        {
         "geo": "geo",
         "hovertemplate": "<b>%{hovertext}</b><br><br>country=GL<br>ecContribution_2020=%{marker.size}<br>locations=%{location}<extra></extra>",
         "hovertext": [
          "GL"
         ],
         "legendgroup": "GL",
         "locationmode": "ISO-3",
         "locations": [
          "GRL"
         ],
         "marker": {
          "color": "#FF97FF",
          "size": {
           "bdata": "cT0KF2rTREE=",
           "dtype": "f8"
          },
          "sizemode": "area",
          "sizeref": 4034731.627476,
          "symbol": "circle"
         },
         "mode": "markers",
         "name": "GL",
         "showlegend": true,
         "type": "scattergeo"
        },
        {
         "geo": "geo",
         "hovertemplate": "<b>%{hovertext}</b><br><br>country=GM<br>ecContribution_2020=%{marker.size}<br>locations=%{location}<extra></extra>",
         "hovertext": [
          "GM"
         ],
         "legendgroup": "GM",
         "locationmode": "ISO-3",
         "locations": [
          "GMB"
         ],
         "marker": {
          "color": "#FECB52",
          "size": {
           "bdata": "AAAAAAAAAAA=",
           "dtype": "f8"
          },
          "sizemode": "area",
          "sizeref": 4034731.627476,
          "symbol": "circle"
         },
         "mode": "markers",
         "name": "GM",
         "showlegend": true,
         "type": "scattergeo"
        },
        {
         "geo": "geo",
         "hovertemplate": "<b>%{hovertext}</b><br><br>country=GN<br>ecContribution_2020=%{marker.size}<br>locations=%{location}<extra></extra>",
         "hovertext": [
          "GN"
         ],
         "legendgroup": "GN",
         "locationmode": "ISO-3",
         "locations": [
          "GIN"
         ],
         "marker": {
          "color": "#636efa",
          "size": {
           "bdata": "AAAAAAAAAAA=",
           "dtype": "f8"
          },
          "sizemode": "area",
          "sizeref": 4034731.627476,
          "symbol": "circle"
         },
         "mode": "markers",
         "name": "GN",
         "showlegend": true,
         "type": "scattergeo"
        },
        {
         "geo": "geo",
         "hovertemplate": "<b>%{hovertext}</b><br><br>country=GT<br>ecContribution_2020=%{marker.size}<br>locations=%{location}<extra></extra>",
         "hovertext": [
          "GT"
         ],
         "legendgroup": "GT",
         "locationmode": "ISO-3",
         "locations": [
          "GTM"
         ],
         "marker": {
          "color": "#EF553B",
          "size": {
           "bdata": "PgrXo3izBkE=",
           "dtype": "f8"
          },
          "sizemode": "area",
          "sizeref": 4034731.627476,
          "symbol": "circle"
         },
         "mode": "markers",
         "name": "GT",
         "showlegend": true,
         "type": "scattergeo"
        },
        {
         "geo": "geo",
         "hovertemplate": "<b>%{hovertext}</b><br><br>country=GW<br>ecContribution_2020=%{marker.size}<br>locations=%{location}<extra></extra>",
         "hovertext": [
          "GW"
         ],
         "legendgroup": "GW",
         "locationmode": "ISO-3",
         "locations": [
          "GNB"
         ],
         "marker": {
          "color": "#00cc96",
          "size": {
           "bdata": "AAAAAAAAAAA=",
           "dtype": "f8"
          },
          "sizemode": "area",
          "sizeref": 4034731.627476,
          "symbol": "circle"
         },
         "mode": "markers",
         "name": "GW",
         "showlegend": true,
         "type": "scattergeo"
        },
        {
         "geo": "geo",
         "hovertemplate": "<b>%{hovertext}</b><br><br>country=HK<br>ecContribution_2020=%{marker.size}<br>locations=%{location}<extra></extra>",
         "hovertext": [
          "HK"
         ],
         "legendgroup": "HK",
         "locationmode": "ISO-3",
         "locations": [
          "HKG"
         ],
         "marker": {
          "color": "#ab63fa",
          "size": {
           "bdata": "AAAAAPDvIEE=",
           "dtype": "f8"
          },
          "sizemode": "area",
          "sizeref": 4034731.627476,
          "symbol": "circle"
         },
         "mode": "markers",
         "name": "HK",
         "showlegend": true,
         "type": "scattergeo"
        },
        {
         "geo": "geo",
         "hovertemplate": "<b>%{hovertext}</b><br><br>country=HN<br>ecContribution_2020=%{marker.size}<br>locations=%{location}<extra></extra>",
         "hovertext": [
          "HN"
         ],
         "legendgroup": "HN",
         "locationmode": "ISO-3",
         "locations": [
          "HND"
         ],
         "marker": {
          "color": "#FFA15A",
          "size": {
           "bdata": "AAAAAEBd10A=",
           "dtype": "f8"
          },
          "sizemode": "area",
          "sizeref": 4034731.627476,
          "symbol": "circle"
         },
         "mode": "markers",
         "name": "HN",
         "showlegend": true,
         "type": "scattergeo"
        },
        {
         "geo": "geo",
         "hovertemplate": "<b>%{hovertext}</b><br><br>country=HR<br>ecContribution_2020=%{marker.size}<br>locations=%{location}<extra></extra>",
         "hovertext": [
          "HR"
         ],
         "legendgroup": "HR",
         "locationmode": "ISO-3",
         "locations": [
          "HRV"
         ],
         "marker": {
          "color": "#19d3f3",
          "size": {
           "bdata": "pHC9DuFJoEE=",
           "dtype": "f8"
          },
          "sizemode": "area",
          "sizeref": 4034731.627476,
          "symbol": "circle"
         },
         "mode": "markers",
         "name": "HR",
         "showlegend": true,
         "type": "scattergeo"
        },
        {
         "geo": "geo",
         "hovertemplate": "<b>%{hovertext}</b><br><br>country=HT<br>ecContribution_2020=%{marker.size}<br>locations=%{location}<extra></extra>",
         "hovertext": [
          "HT"
         ],
         "legendgroup": "HT",
         "locationmode": "ISO-3",
         "locations": [
          "HTI"
         ],
         "marker": {
          "color": "#FF6692",
          "size": {
           "bdata": "AAAAAAAAAAA=",
           "dtype": "f8"
          },
          "sizemode": "area",
          "sizeref": 4034731.627476,
          "symbol": "circle"
         },
         "mode": "markers",
         "name": "HT",
         "showlegend": true,
         "type": "scattergeo"
        },
        {
         "geo": "geo",
         "hovertemplate": "<b>%{hovertext}</b><br><br>country=HU<br>ecContribution_2020=%{marker.size}<br>locations=%{location}<extra></extra>",
         "hovertext": [
          "HU"
         ],
         "legendgroup": "HU",
         "locationmode": "ISO-3",
         "locations": [
          "HUN"
         ],
         "marker": {
          "color": "#B6E880",
          "size": {
           "bdata": "exRu0YyMtUE=",
           "dtype": "f8"
          },
          "sizemode": "area",
          "sizeref": 4034731.627476,
          "symbol": "circle"
         },
         "mode": "markers",
         "name": "HU",
         "showlegend": true,
         "type": "scattergeo"
        },
        {
         "geo": "geo",
         "hovertemplate": "<b>%{hovertext}</b><br><br>country=ID<br>ecContribution_2020=%{marker.size}<br>locations=%{location}<extra></extra>",
         "hovertext": [
          "ID"
         ],
         "legendgroup": "ID",
         "locationmode": "ISO-3",
         "locations": [
          "IDN"
         ],
         "marker": {
          "color": "#FF97FF",
          "size": {
           "bdata": "AAAAgPQrQUE=",
           "dtype": "f8"
          },
          "sizemode": "area",
          "sizeref": 4034731.627476,
          "symbol": "circle"
         },
         "mode": "markers",
         "name": "ID",
         "showlegend": true,
         "type": "scattergeo"
        },
        {
         "geo": "geo",
         "hovertemplate": "<b>%{hovertext}</b><br><br>country=IE<br>ecContribution_2020=%{marker.size}<br>locations=%{location}<extra></extra>",
         "hovertext": [
          "IE"
         ],
         "legendgroup": "IE",
         "locationmode": "ISO-3",
         "locations": [
          "IRL"
         ],
         "marker": {
          "color": "#FECB52",
          "size": {
           "bdata": "uB71YL0C0kE=",
           "dtype": "f8"
          },
          "sizemode": "area",
          "sizeref": 4034731.627476,
          "symbol": "circle"
         },
         "mode": "markers",
         "name": "IE",
         "showlegend": true,
         "type": "scattergeo"
        },
        {
         "geo": "geo",
         "hovertemplate": "<b>%{hovertext}</b><br><br>country=IL<br>ecContribution_2020=%{marker.size}<br>locations=%{location}<extra></extra>",
         "hovertext": [
          "IL"
         ],
         "legendgroup": "IL",
         "locationmode": "ISO-3",
         "locations": [
          "ISR"
         ],
         "marker": {
          "color": "#636efa",
          "size": {
           "bdata": "exTucmYI00E=",
           "dtype": "f8"
          },
          "sizemode": "area",
          "sizeref": 4034731.627476,
          "symbol": "circle"
         },
         "mode": "markers",
         "name": "IL",
         "showlegend": true,
         "type": "scattergeo"
        },
        {
         "geo": "geo",
         "hovertemplate": "<b>%{hovertext}</b><br><br>country=IN<br>ecContribution_2020=%{marker.size}<br>locations=%{location}<extra></extra>",
         "hovertext": [
          "IN"
         ],
         "legendgroup": "IN",
         "locationmode": "ISO-3",
         "locations": [
          "IND"
         ],
         "marker": {
          "color": "#EF553B",
          "size": {
           "bdata": "mpmZeTCUUEE=",
           "dtype": "f8"
          },
          "sizemode": "area",
          "sizeref": 4034731.627476,
          "symbol": "circle"
         },
         "mode": "markers",
         "name": "IN",
         "showlegend": true,
         "type": "scattergeo"
        },
        {
         "geo": "geo",
         "hovertemplate": "<b>%{hovertext}</b><br><br>country=IQ<br>ecContribution_2020=%{marker.size}<br>locations=%{location}<extra></extra>",
         "hovertext": [
          "IQ"
         ],
         "legendgroup": "IQ",
         "locationmode": "ISO-3",
         "locations": [
          "IRQ"
         ],
         "marker": {
          "color": "#00cc96",
          "size": {
           "bdata": "hetRuKPIIkE=",
           "dtype": "f8"
          },
          "sizemode": "area",
          "sizeref": 4034731.627476,
          "symbol": "circle"
         },
         "mode": "markers",
         "name": "IQ",
         "showlegend": true,
         "type": "scattergeo"
        },
        {
         "geo": "geo",
         "hovertemplate": "<b>%{hovertext}</b><br><br>country=IR<br>ecContribution_2020=%{marker.size}<br>locations=%{location}<extra></extra>",
         "hovertext": [
          "IR"
         ],
         "legendgroup": "IR",
         "locationmode": "ISO-3",
         "locations": [
          "IRN"
         ],
         "marker": {
          "color": "#ab63fa",
          "size": {
           "bdata": "uB6Fa1rdLEE=",
           "dtype": "f8"
          },
          "sizemode": "area",
          "sizeref": 4034731.627476,
          "symbol": "circle"
         },
         "mode": "markers",
         "name": "IR",
         "showlegend": true,
         "type": "scattergeo"
        },
        {
         "geo": "geo",
         "hovertemplate": "<b>%{hovertext}</b><br><br>country=IS<br>ecContribution_2020=%{marker.size}<br>locations=%{location}<extra></extra>",
         "hovertext": [
          "IS"
         ],
         "legendgroup": "IS",
         "locationmode": "ISO-3",
         "locations": [
          "ISL"
         ],
         "marker": {
          "color": "#FFA15A",
          "size": {
           "bdata": "MzOzpWIsoUE=",
           "dtype": "f8"
          },
          "sizemode": "area",
          "sizeref": 4034731.627476,
          "symbol": "circle"
         },
         "mode": "markers",
         "name": "IS",
         "showlegend": true,
         "type": "scattergeo"
        },
        {
         "geo": "geo",
         "hovertemplate": "<b>%{hovertext}</b><br><br>country=IT<br>ecContribution_2020=%{marker.size}<br>locations=%{location}<extra></extra>",
         "hovertext": [
          "IT"
         ],
         "legendgroup": "IT",
         "locationmode": "ISO-3",
         "locations": [
          "ITA"
         ],
         "marker": {
          "color": "#19d3f3",
          "size": {
           "bdata": "mpnVgegn9UE=",
           "dtype": "f8"
          },
          "sizemode": "area",
          "sizeref": 4034731.627476,
          "symbol": "circle"
         },
         "mode": "markers",
         "name": "IT",
         "showlegend": true,
         "type": "scattergeo"
        },
        {
         "geo": "geo",
         "hovertemplate": "<b>%{hovertext}</b><br><br>country=JE<br>ecContribution_2020=%{marker.size}<br>locations=%{location}<extra></extra>",
         "hovertext": [
          "JE"
         ],
         "legendgroup": "JE",
         "locationmode": "ISO-3",
         "locations": [
          "JEY"
         ],
         "marker": {
          "color": "#FF6692",
          "size": {
           "bdata": "AAAAAAAAAAA=",
           "dtype": "f8"
          },
          "sizemode": "area",
          "sizeref": 4034731.627476,
          "symbol": "circle"
         },
         "mode": "markers",
         "name": "JE",
         "showlegend": true,
         "type": "scattergeo"
        },
        {
         "geo": "geo",
         "hovertemplate": "<b>%{hovertext}</b><br><br>country=JM<br>ecContribution_2020=%{marker.size}<br>locations=%{location}<extra></extra>",
         "hovertext": [
          "JM"
         ],
         "legendgroup": "JM",
         "locationmode": "ISO-3",
         "locations": [
          "JAM"
         ],
         "marker": {
          "color": "#B6E880",
          "size": {
           "bdata": "9ihcj+29OkE=",
           "dtype": "f8"
          },
          "sizemode": "area",
          "sizeref": 4034731.627476,
          "symbol": "circle"
         },
         "mode": "markers",
         "name": "JM",
         "showlegend": true,
         "type": "scattergeo"
        },
        {
         "geo": "geo",
         "hovertemplate": "<b>%{hovertext}</b><br><br>country=JO<br>ecContribution_2020=%{marker.size}<br>locations=%{location}<extra></extra>",
         "hovertext": [
          "JO"
         ],
         "legendgroup": "JO",
         "locationmode": "ISO-3",
         "locations": [
          "JOR"
         ],
         "marker": {
          "color": "#FF97FF",
          "size": {
           "bdata": "hetRmAmZVUE=",
           "dtype": "f8"
          },
          "sizemode": "area",
          "sizeref": 4034731.627476,
          "symbol": "circle"
         },
         "mode": "markers",
         "name": "JO",
         "showlegend": true,
         "type": "scattergeo"
        },
        {
         "geo": "geo",
         "hovertemplate": "<b>%{hovertext}</b><br><br>country=JP<br>ecContribution_2020=%{marker.size}<br>locations=%{location}<extra></extra>",
         "hovertext": [
          "JP"
         ],
         "legendgroup": "JP",
         "locationmode": "ISO-3",
         "locations": [
          "JPN"
         ],
         "marker": {
          "color": "#FECB52",
          "size": {
           "bdata": "PQrXo9bFVUE=",
           "dtype": "f8"
          },
          "sizemode": "area",
          "sizeref": 4034731.627476,
          "symbol": "circle"
         },
         "mode": "markers",
         "name": "JP",
         "showlegend": true,
         "type": "scattergeo"
        },
        {
         "geo": "geo",
         "hovertemplate": "<b>%{hovertext}</b><br><br>country=KE<br>ecContribution_2020=%{marker.size}<br>locations=%{location}<extra></extra>",
         "hovertext": [
          "KE"
         ],
         "legendgroup": "KE",
         "locationmode": "ISO-3",
         "locations": [
          "KEN"
         ],
         "marker": {
          "color": "#636efa",
          "size": {
           "bdata": "H4Xrqf9+fkE=",
           "dtype": "f8"
          },
          "sizemode": "area",
          "sizeref": 4034731.627476,
          "symbol": "circle"
         },
         "mode": "markers",
         "name": "KE",
         "showlegend": true,
         "type": "scattergeo"
        },
        {
         "geo": "geo",
         "hovertemplate": "<b>%{hovertext}</b><br><br>country=KG<br>ecContribution_2020=%{marker.size}<br>locations=%{location}<extra></extra>",
         "hovertext": [
          "KG"
         ],
         "legendgroup": "KG",
         "locationmode": "ISO-3",
         "locations": [
          "KGZ"
         ],
         "marker": {
          "color": "#EF553B",
          "size": {
           "bdata": "AAAAAKH1I0E=",
           "dtype": "f8"
          },
          "sizemode": "area",
          "sizeref": 4034731.627476,
          "symbol": "circle"
         },
         "mode": "markers",
         "name": "KG",
         "showlegend": true,
         "type": "scattergeo"
        },
        {
         "geo": "geo",
         "hovertemplate": "<b>%{hovertext}</b><br><br>country=KH<br>ecContribution_2020=%{marker.size}<br>locations=%{location}<extra></extra>",
         "hovertext": [
          "KH"
         ],
         "legendgroup": "KH",
         "locationmode": "ISO-3",
         "locations": [
          "KHM"
         ],
         "marker": {
          "color": "#00cc96",
          "size": {
           "bdata": "AAAAADsCJkE=",
           "dtype": "f8"
          },
          "sizemode": "area",
          "sizeref": 4034731.627476,
          "symbol": "circle"
         },
         "mode": "markers",
         "name": "KH",
         "showlegend": true,
         "type": "scattergeo"
        },
        {
         "geo": "geo",
         "hovertemplate": "<b>%{hovertext}</b><br><br>country=KR<br>ecContribution_2020=%{marker.size}<br>locations=%{location}<extra></extra>",
         "hovertext": [
          "KR"
         ],
         "legendgroup": "KR",
         "locationmode": "ISO-3",
         "locations": [
          "KOR"
         ],
         "marker": {
          "color": "#ab63fa",
          "size": {
           "bdata": "AAAA4LHkQkE=",
           "dtype": "f8"
          },
          "sizemode": "area",
          "sizeref": 4034731.627476,
          "symbol": "circle"
         },
         "mode": "markers",
         "name": "KR",
         "showlegend": true,
         "type": "scattergeo"
        },
        {
         "geo": "geo",
         "hovertemplate": "<b>%{hovertext}</b><br><br>country=KW<br>ecContribution_2020=%{marker.size}<br>locations=%{location}<extra></extra>",
         "hovertext": [
          "KW"
         ],
         "legendgroup": "KW",
         "locationmode": "ISO-3",
         "locations": [
          "KWT"
         ],
         "marker": {
          "color": "#FFA15A",
          "size": {
           "bdata": "AAAAAAAAAAA=",
           "dtype": "f8"
          },
          "sizemode": "area",
          "sizeref": 4034731.627476,
          "symbol": "circle"
         },
         "mode": "markers",
         "name": "KW",
         "showlegend": true,
         "type": "scattergeo"
        },
        {
         "geo": "geo",
         "hovertemplate": "<b>%{hovertext}</b><br><br>country=KZ<br>ecContribution_2020=%{marker.size}<br>locations=%{location}<extra></extra>",
         "hovertext": [
          "KZ"
         ],
         "legendgroup": "KZ",
         "locationmode": "ISO-3",
         "locations": [
          "KAZ"
         ],
         "marker": {
          "color": "#19d3f3",
          "size": {
           "bdata": "AAAAACJxEkE=",
           "dtype": "f8"
          },
          "sizemode": "area",
          "sizeref": 4034731.627476,
          "symbol": "circle"
         },
         "mode": "markers",
         "name": "KZ",
         "showlegend": true,
         "type": "scattergeo"
        },
        {
         "geo": "geo",
         "hovertemplate": "<b>%{hovertext}</b><br><br>country=LB<br>ecContribution_2020=%{marker.size}<br>locations=%{location}<extra></extra>",
         "hovertext": [
          "LB"
         ],
         "legendgroup": "LB",
         "locationmode": "ISO-3",
         "locations": [
          "LBN"
         ],
         "marker": {
          "color": "#FF6692",
          "size": {
           "bdata": "w/UovP9VUEE=",
           "dtype": "f8"
          },
          "sizemode": "area",
          "sizeref": 4034731.627476,
          "symbol": "circle"
         },
         "mode": "markers",
         "name": "LB",
         "showlegend": true,
         "type": "scattergeo"
        },
        {
         "geo": "geo",
         "hovertemplate": "<b>%{hovertext}</b><br><br>country=LI<br>ecContribution_2020=%{marker.size}<br>locations=%{location}<extra></extra>",
         "hovertext": [
          "LI"
         ],
         "legendgroup": "LI",
         "locationmode": "ISO-3",
         "locations": [
          "LIE"
         ],
         "marker": {
          "color": "#B6E880",
          "size": {
           "bdata": "AAAAAAAAAAA=",
           "dtype": "f8"
          },
          "sizemode": "area",
          "sizeref": 4034731.627476,
          "symbol": "circle"
         },
         "mode": "markers",
         "name": "LI",
         "showlegend": true,
         "type": "scattergeo"
        },
        {
         "geo": "geo",
         "hovertemplate": "<b>%{hovertext}</b><br><br>country=LK<br>ecContribution_2020=%{marker.size}<br>locations=%{location}<extra></extra>",
         "hovertext": [
          "LK"
         ],
         "legendgroup": "LK",
         "locationmode": "ISO-3",
         "locations": [
          "LKA"
         ],
         "marker": {
          "color": "#FF97FF",
          "size": {
           "bdata": "AAAAQJMAQ0E=",
           "dtype": "f8"
          },
          "sizemode": "area",
          "sizeref": 4034731.627476,
          "symbol": "circle"
         },
         "mode": "markers",
         "name": "LK",
         "showlegend": true,
         "type": "scattergeo"
        },
        {
         "geo": "geo",
         "hovertemplate": "<b>%{hovertext}</b><br><br>country=LR<br>ecContribution_2020=%{marker.size}<br>locations=%{location}<extra></extra>",
         "hovertext": [
          "LR"
         ],
         "legendgroup": "LR",
         "locationmode": "ISO-3",
         "locations": [
          "LBR"
         ],
         "marker": {
          "color": "#FECB52",
          "size": {
           "bdata": "AAAAACCa7UA=",
           "dtype": "f8"
          },
          "sizemode": "area",
          "sizeref": 4034731.627476,
          "symbol": "circle"
         },
         "mode": "markers",
         "name": "LR",
         "showlegend": true,
         "type": "scattergeo"
        },
        {
         "geo": "geo",
         "hovertemplate": "<b>%{hovertext}</b><br><br>country=LS<br>ecContribution_2020=%{marker.size}<br>locations=%{location}<extra></extra>",
         "hovertext": [
          "LS"
         ],
         "legendgroup": "LS",
         "locationmode": "ISO-3",
         "locations": [
          "LSO"
         ],
         "marker": {
          "color": "#636efa",
          "size": {
           "bdata": "AAAAAIC01kA=",
           "dtype": "f8"
          },
          "sizemode": "area",
          "sizeref": 4034731.627476,
          "symbol": "circle"
         },
         "mode": "markers",
         "name": "LS",
         "showlegend": true,
         "type": "scattergeo"
        },
        {
         "geo": "geo",
         "hovertemplate": "<b>%{hovertext}</b><br><br>country=LT<br>ecContribution_2020=%{marker.size}<br>locations=%{location}<extra></extra>",
         "hovertext": [
          "LT"
         ],
         "legendgroup": "LT",
         "locationmode": "ISO-3",
         "locations": [
          "LTU"
         ],
         "marker": {
          "color": "#EF553B",
          "size": {
           "bdata": "pHA9PPuBlkE=",
           "dtype": "f8"
          },
          "sizemode": "area",
          "sizeref": 4034731.627476,
          "symbol": "circle"
         },
         "mode": "markers",
         "name": "LT",
         "showlegend": true,
         "type": "scattergeo"
        },
        {
         "geo": "geo",
         "hovertemplate": "<b>%{hovertext}</b><br><br>country=LU<br>ecContribution_2020=%{marker.size}<br>locations=%{location}<extra></extra>",
         "hovertext": [
          "LU"
         ],
         "legendgroup": "LU",
         "locationmode": "ISO-3",
         "locations": [
          "LUX"
         ],
         "marker": {
          "color": "#00cc96",
          "size": {
           "bdata": "AAAA/7nyp0E=",
           "dtype": "f8"
          },
          "sizemode": "area",
          "sizeref": 4034731.627476,
          "symbol": "circle"
         },
         "mode": "markers",
         "name": "LU",
         "showlegend": true,
         "type": "scattergeo"
        },
        {
         "geo": "geo",
         "hovertemplate": "<b>%{hovertext}</b><br><br>country=LV<br>ecContribution_2020=%{marker.size}<br>locations=%{location}<extra></extra>",
         "hovertext": [
          "LV"
         ],
         "legendgroup": "LV",
         "locationmode": "ISO-3",
         "locations": [
          "LVA"
         ],
         "marker": {
          "color": "#ab63fa",
          "size": {
           "bdata": "7FG4mua6m0E=",
           "dtype": "f8"
          },
          "sizemode": "area",
          "sizeref": 4034731.627476,
          "symbol": "circle"
         },
         "mode": "markers",
         "name": "LV",
         "showlegend": true,
         "type": "scattergeo"
        },
        {
         "geo": "geo",
         "hovertemplate": "<b>%{hovertext}</b><br><br>country=LY<br>ecContribution_2020=%{marker.size}<br>locations=%{location}<extra></extra>",
         "hovertext": [
          "LY"
         ],
         "legendgroup": "LY",
         "locationmode": "ISO-3",
         "locations": [
          "LBY"
         ],
         "marker": {
          "color": "#FFA15A",
          "size": {
           "bdata": "AAAAAMAq5UA=",
           "dtype": "f8"
          },
          "sizemode": "area",
          "sizeref": 4034731.627476,
          "symbol": "circle"
         },
         "mode": "markers",
         "name": "LY",
         "showlegend": true,
         "type": "scattergeo"
        },
        {
         "geo": "geo",
         "hovertemplate": "<b>%{hovertext}</b><br><br>country=MA<br>ecContribution_2020=%{marker.size}<br>locations=%{location}<extra></extra>",
         "hovertext": [
          "MA"
         ],
         "legendgroup": "MA",
         "locationmode": "ISO-3",
         "locations": [
          "MAR"
         ],
         "marker": {
          "color": "#19d3f3",
          "size": {
           "bdata": "cT0KN2pTXEE=",
           "dtype": "f8"
          },
          "sizemode": "area",
          "sizeref": 4034731.627476,
          "symbol": "circle"
         },
         "mode": "markers",
         "name": "MA",
         "showlegend": true,
         "type": "scattergeo"
        },
        {
         "geo": "geo",
         "hovertemplate": "<b>%{hovertext}</b><br><br>country=MC<br>ecContribution_2020=%{marker.size}<br>locations=%{location}<extra></extra>",
         "hovertext": [
          "MC"
         ],
         "legendgroup": "MC",
         "locationmode": "ISO-3",
         "locations": [
          "MCO"
         ],
         "marker": {
          "color": "#FF6692",
          "size": {
           "bdata": "AAAAAAAAAAA=",
           "dtype": "f8"
          },
          "sizemode": "area",
          "sizeref": 4034731.627476,
          "symbol": "circle"
         },
         "mode": "markers",
         "name": "MC",
         "showlegend": true,
         "type": "scattergeo"
        },
        {
         "geo": "geo",
         "hovertemplate": "<b>%{hovertext}</b><br><br>country=MD<br>ecContribution_2020=%{marker.size}<br>locations=%{location}<extra></extra>",
         "hovertext": [
          "MD"
         ],
         "legendgroup": "MD",
         "locationmode": "ISO-3",
         "locations": [
          "MDA"
         ],
         "marker": {
          "color": "#B6E880",
          "size": {
           "bdata": "MzMzM9hFXEE=",
           "dtype": "f8"
          },
          "sizemode": "area",
          "sizeref": 4034731.627476,
          "symbol": "circle"
         },
         "mode": "markers",
         "name": "MD",
         "showlegend": true,
         "type": "scattergeo"
        },
        {
         "geo": "geo",
         "hovertemplate": "<b>%{hovertext}</b><br><br>country=ME<br>ecContribution_2020=%{marker.size}<br>locations=%{location}<extra></extra>",
         "hovertext": [
          "ME"
         ],
         "legendgroup": "ME",
         "locationmode": "ISO-3",
         "locations": [
          "MNE"
         ],
         "marker": {
          "color": "#FF97FF",
          "size": {
           "bdata": "MzMz86G8UUE=",
           "dtype": "f8"
          },
          "sizemode": "area",
          "sizeref": 4034731.627476,
          "symbol": "circle"
         },
         "mode": "markers",
         "name": "ME",
         "showlegend": true,
         "type": "scattergeo"
        },
        {
         "geo": "geo",
         "hovertemplate": "<b>%{hovertext}</b><br><br>country=MG<br>ecContribution_2020=%{marker.size}<br>locations=%{location}<extra></extra>",
         "hovertext": [
          "MG"
         ],
         "legendgroup": "MG",
         "locationmode": "ISO-3",
         "locations": [
          "MDG"
         ],
         "marker": {
          "color": "#FECB52",
          "size": {
           "bdata": "CtejcBwPQUE=",
           "dtype": "f8"
          },
          "sizemode": "area",
          "sizeref": 4034731.627476,
          "symbol": "circle"
         },
         "mode": "markers",
         "name": "MG",
         "showlegend": true,
         "type": "scattergeo"
        },
        {
         "geo": "geo",
         "hovertemplate": "<b>%{hovertext}</b><br><br>country=MH<br>ecContribution_2020=%{marker.size}<br>locations=%{location}<extra></extra>",
         "hovertext": [
          "MH"
         ],
         "legendgroup": "MH",
         "locationmode": "ISO-3",
         "locations": [
          "MHL"
         ],
         "marker": {
          "color": "#636efa",
          "size": {
           "bdata": "AAAAANCI8EA=",
           "dtype": "f8"
          },
          "sizemode": "area",
          "sizeref": 4034731.627476,
          "symbol": "circle"
         },
         "mode": "markers",
         "name": "MH",
         "showlegend": true,
         "type": "scattergeo"
        },
        {
         "geo": "geo",
         "hovertemplate": "<b>%{hovertext}</b><br><br>country=MK<br>ecContribution_2020=%{marker.size}<br>locations=%{location}<extra></extra>",
         "hovertext": [
          "MK"
         ],
         "legendgroup": "MK",
         "locationmode": "ISO-3",
         "locations": [
          "MKD"
         ],
         "marker": {
          "color": "#EF553B",
          "size": {
           "bdata": "cT0KV32YaUE=",
           "dtype": "f8"
          },
          "sizemode": "area",
          "sizeref": 4034731.627476,
          "symbol": "circle"
         },
         "mode": "markers",
         "name": "MK",
         "showlegend": true,
         "type": "scattergeo"
        },
        {
         "geo": "geo",
         "hovertemplate": "<b>%{hovertext}</b><br><br>country=ML<br>ecContribution_2020=%{marker.size}<br>locations=%{location}<extra></extra>",
         "hovertext": [
          "ML"
         ],
         "legendgroup": "ML",
         "locationmode": "ISO-3",
         "locations": [
          "MLI"
         ],
         "marker": {
          "color": "#00cc96",
          "size": {
           "bdata": "AAAAwOIxMkE=",
           "dtype": "f8"
          },
          "sizemode": "area",
          "sizeref": 4034731.627476,
          "symbol": "circle"
         },
         "mode": "markers",
         "name": "ML",
         "showlegend": true,
         "type": "scattergeo"
        },
        {
         "geo": "geo",
         "hovertemplate": "<b>%{hovertext}</b><br><br>country=MM<br>ecContribution_2020=%{marker.size}<br>locations=%{location}<extra></extra>",
         "hovertext": [
          "MM"
         ],
         "legendgroup": "MM",
         "locationmode": "ISO-3",
         "locations": [
          "MMR"
         ],
         "marker": {
          "color": "#ab63fa",
          "size": {
           "bdata": "AAAAAABq6EA=",
           "dtype": "f8"
          },
          "sizemode": "area",
          "sizeref": 4034731.627476,
          "symbol": "circle"
         },
         "mode": "markers",
         "name": "MM",
         "showlegend": true,
         "type": "scattergeo"
        },
        {
         "geo": "geo",
         "hovertemplate": "<b>%{hovertext}</b><br><br>country=MN<br>ecContribution_2020=%{marker.size}<br>locations=%{location}<extra></extra>",
         "hovertext": [
          "MN"
         ],
         "legendgroup": "MN",
         "locationmode": "ISO-3",
         "locations": [
          "MNG"
         ],
         "marker": {
          "color": "#FFA15A",
          "size": {
           "bdata": "AAAAAIDA5EA=",
           "dtype": "f8"
          },
          "sizemode": "area",
          "sizeref": 4034731.627476,
          "symbol": "circle"
         },
         "mode": "markers",
         "name": "MN",
         "showlegend": true,
         "type": "scattergeo"
        },
        {
         "geo": "geo",
         "hovertemplate": "<b>%{hovertext}</b><br><br>country=MR<br>ecContribution_2020=%{marker.size}<br>locations=%{location}<extra></extra>",
         "hovertext": [
          "MR"
         ],
         "legendgroup": "MR",
         "locationmode": "ISO-3",
         "locations": [
          "MRT"
         ],
         "marker": {
          "color": "#19d3f3",
          "size": {
           "bdata": "AAAAAOBu70A=",
           "dtype": "f8"
          },
          "sizemode": "area",
          "sizeref": 4034731.627476,
          "symbol": "circle"
         },
         "mode": "markers",
         "name": "MR",
         "showlegend": true,
         "type": "scattergeo"
        },
        {
         "geo": "geo",
         "hovertemplate": "<b>%{hovertext}</b><br><br>country=MT<br>ecContribution_2020=%{marker.size}<br>locations=%{location}<extra></extra>",
         "hovertext": [
          "MT"
         ],
         "legendgroup": "MT",
         "locationmode": "ISO-3",
         "locations": [
          "MLT"
         ],
         "marker": {
          "color": "#FF6692",
          "size": {
           "bdata": "FK5HWeBqgkE=",
           "dtype": "f8"
          },
          "sizemode": "area",
          "sizeref": 4034731.627476,
          "symbol": "circle"
         },
         "mode": "markers",
         "name": "MT",
         "showlegend": true,
         "type": "scattergeo"
        },
        {
         "geo": "geo",
         "hovertemplate": "<b>%{hovertext}</b><br><br>country=MU<br>ecContribution_2020=%{marker.size}<br>locations=%{location}<extra></extra>",
         "hovertext": [
          "MU"
         ],
         "legendgroup": "MU",
         "locationmode": "ISO-3",
         "locations": [
          "MUS"
         ],
         "marker": {
          "color": "#B6E880",
          "size": {
           "bdata": "AAAAACgoNEE=",
           "dtype": "f8"
          },
          "sizemode": "area",
          "sizeref": 4034731.627476,
          "symbol": "circle"
         },
         "mode": "markers",
         "name": "MU",
         "showlegend": true,
         "type": "scattergeo"
        },
        {
         "geo": "geo",
         "hovertemplate": "<b>%{hovertext}</b><br><br>country=MV<br>ecContribution_2020=%{marker.size}<br>locations=%{location}<extra></extra>",
         "hovertext": [
          "MV"
         ],
         "legendgroup": "MV",
         "locationmode": "ISO-3",
         "locations": [
          "MDV"
         ],
         "marker": {
          "color": "#FF97FF",
          "size": {
           "bdata": "AAAAAMhl6EA=",
           "dtype": "f8"
          },
          "sizemode": "area",
          "sizeref": 4034731.627476,
          "symbol": "circle"
         },
         "mode": "markers",
         "name": "MV",
         "showlegend": true,
         "type": "scattergeo"
        },
        {
         "geo": "geo",
         "hovertemplate": "<b>%{hovertext}</b><br><br>country=MW<br>ecContribution_2020=%{marker.size}<br>locations=%{location}<extra></extra>",
         "hovertext": [
          "MW"
         ],
         "legendgroup": "MW",
         "locationmode": "ISO-3",
         "locations": [
          "MWI"
         ],
         "marker": {
          "color": "#FECB52",
          "size": {
           "bdata": "hetR2FqtR0E=",
           "dtype": "f8"
          },
          "sizemode": "area",
          "sizeref": 4034731.627476,
          "symbol": "circle"
         },
         "mode": "markers",
         "name": "MW",
         "showlegend": true,
         "type": "scattergeo"
        },
        {
         "geo": "geo",
         "hovertemplate": "<b>%{hovertext}</b><br><br>country=MX<br>ecContribution_2020=%{marker.size}<br>locations=%{location}<extra></extra>",
         "hovertext": [
          "MX"
         ],
         "legendgroup": "MX",
         "locationmode": "ISO-3",
         "locations": [
          "MEX"
         ],
         "marker": {
          "color": "#636efa",
          "size": {
           "bdata": "ZmZmZiApLkE=",
           "dtype": "f8"
          },
          "sizemode": "area",
          "sizeref": 4034731.627476,
          "symbol": "circle"
         },
         "mode": "markers",
         "name": "MX",
         "showlegend": true,
         "type": "scattergeo"
        },
        {
         "geo": "geo",
         "hovertemplate": "<b>%{hovertext}</b><br><br>country=MY<br>ecContribution_2020=%{marker.size}<br>locations=%{location}<extra></extra>",
         "hovertext": [
          "MY"
         ],
         "legendgroup": "MY",
         "locationmode": "ISO-3",
         "locations": [
          "MYS"
         ],
         "marker": {
          "color": "#EF553B",
          "size": {
           "bdata": "H4XrkeneMUE=",
           "dtype": "f8"
          },
          "sizemode": "area",
          "sizeref": 4034731.627476,
          "symbol": "circle"
         },
         "mode": "markers",
         "name": "MY",
         "showlegend": true,
         "type": "scattergeo"
        },
        {
         "geo": "geo",
         "hovertemplate": "<b>%{hovertext}</b><br><br>country=MZ<br>ecContribution_2020=%{marker.size}<br>locations=%{location}<extra></extra>",
         "hovertext": [
          "MZ"
         ],
         "legendgroup": "MZ",
         "locationmode": "ISO-3",
         "locations": [
          "MOZ"
         ],
         "marker": {
          "color": "#00cc96",
          "size": {
           "bdata": "ZmZmJoRATEE=",
           "dtype": "f8"
          },
          "sizemode": "area",
          "sizeref": 4034731.627476,
          "symbol": "circle"
         },
         "mode": "markers",
         "name": "MZ",
         "showlegend": true,
         "type": "scattergeo"
        },
        {
         "geo": "geo",
         "hovertemplate": "<b>%{hovertext}</b><br><br>country=NC<br>ecContribution_2020=%{marker.size}<br>locations=%{location}<extra></extra>",
         "hovertext": [
          "NC"
         ],
         "legendgroup": "NC",
         "locationmode": "ISO-3",
         "locations": [
          "NCL"
         ],
         "marker": {
          "color": "#ab63fa",
          "size": {
           "bdata": "j8L1KCYiLUE=",
           "dtype": "f8"
          },
          "sizemode": "area",
          "sizeref": 4034731.627476,
          "symbol": "circle"
         },
         "mode": "markers",
         "name": "NC",
         "showlegend": true,
         "type": "scattergeo"
        },
        {
         "geo": "geo",
         "hovertemplate": "<b>%{hovertext}</b><br><br>country=NE<br>ecContribution_2020=%{marker.size}<br>locations=%{location}<extra></extra>",
         "hovertext": [
          "NE"
         ],
         "legendgroup": "NE",
         "locationmode": "ISO-3",
         "locations": [
          "NER"
         ],
         "marker": {
          "color": "#FFA15A",
          "size": {
           "bdata": "AAAAAMhPOkE=",
           "dtype": "f8"
          },
          "sizemode": "area",
          "sizeref": 4034731.627476,
          "symbol": "circle"
         },
         "mode": "markers",
         "name": "NE",
         "showlegend": true,
         "type": "scattergeo"
        },
        {
         "geo": "geo",
         "hovertemplate": "<b>%{hovertext}</b><br><br>country=NG<br>ecContribution_2020=%{marker.size}<br>locations=%{location}<extra></extra>",
         "hovertext": [
          "NG"
         ],
         "legendgroup": "NG",
         "locationmode": "ISO-3",
         "locations": [
          "NGA"
         ],
         "marker": {
          "color": "#19d3f3",
          "size": {
           "bdata": "pHA96tR5UkE=",
           "dtype": "f8"
          },
          "sizemode": "area",
          "sizeref": 4034731.627476,
          "symbol": "circle"
         },
         "mode": "markers",
         "name": "NG",
         "showlegend": true,
         "type": "scattergeo"
        },
        {
         "geo": "geo",
         "hovertemplate": "<b>%{hovertext}</b><br><br>country=NI<br>ecContribution_2020=%{marker.size}<br>locations=%{location}<extra></extra>",
         "hovertext": [
          "NI"
         ],
         "legendgroup": "NI",
         "locationmode": "ISO-3",
         "locations": [
          "NIC"
         ],
         "marker": {
          "color": "#FF6692",
          "size": {
           "bdata": "AAAAAEAkFEE=",
           "dtype": "f8"
          },
          "sizemode": "area",
          "sizeref": 4034731.627476,
          "symbol": "circle"
         },
         "mode": "markers",
         "name": "NI",
         "showlegend": true,
         "type": "scattergeo"
        },
        {
         "geo": "geo",
         "hovertemplate": "<b>%{hovertext}</b><br><br>country=NL<br>ecContribution_2020=%{marker.size}<br>locations=%{location}<extra></extra>",
         "hovertext": [
          "NL"
         ],
         "legendgroup": "NL",
         "locationmode": "ISO-3",
         "locations": [
          "NLD"
         ],
         "marker": {
          "color": "#B6E880",
          "size": {
           "bdata": "XI86KPf380E=",
           "dtype": "f8"
          },
          "sizemode": "area",
          "sizeref": 4034731.627476,
          "symbol": "circle"
         },
         "mode": "markers",
         "name": "NL",
         "showlegend": true,
         "type": "scattergeo"
        },
        {
         "geo": "geo",
         "hovertemplate": "<b>%{hovertext}</b><br><br>country=NO<br>ecContribution_2020=%{marker.size}<br>locations=%{location}<extra></extra>",
         "hovertext": [
          "NO"
         ],
         "legendgroup": "NO",
         "locationmode": "ISO-3",
         "locations": [
          "NOR"
         ],
         "marker": {
          "color": "#FF97FF",
          "size": {
           "bdata": "XI+CaN9J2UE=",
           "dtype": "f8"
          },
          "sizemode": "area",
          "sizeref": 4034731.627476,
          "symbol": "circle"
         },
         "mode": "markers",
         "name": "NO",
         "showlegend": true,
         "type": "scattergeo"
        },
        {
         "geo": "geo",
         "hovertemplate": "<b>%{hovertext}</b><br><br>country=NP<br>ecContribution_2020=%{marker.size}<br>locations=%{location}<extra></extra>",
         "hovertext": [
          "NP"
         ],
         "legendgroup": "NP",
         "locationmode": "ISO-3",
         "locations": [
          "NPL"
         ],
         "marker": {
          "color": "#FECB52",
          "size": {
           "bdata": "AAAAQOxqPUE=",
           "dtype": "f8"
          },
          "sizemode": "area",
          "sizeref": 4034731.627476,
          "symbol": "circle"
         },
         "mode": "markers",
         "name": "NP",
         "showlegend": true,
         "type": "scattergeo"
        },
        {
         "geo": "geo",
         "hovertemplate": "<b>%{hovertext}</b><br><br>country=NZ<br>ecContribution_2020=%{marker.size}<br>locations=%{location}<extra></extra>",
         "hovertext": [
          "NZ"
         ],
         "legendgroup": "NZ",
         "locationmode": "ISO-3",
         "locations": [
          "NZL"
         ],
         "marker": {
          "color": "#636efa",
          "size": {
           "bdata": "AAAAgEEdREE=",
           "dtype": "f8"
          },
          "sizemode": "area",
          "sizeref": 4034731.627476,
          "symbol": "circle"
         },
         "mode": "markers",
         "name": "NZ",
         "showlegend": true,
         "type": "scattergeo"
        },
        {
         "geo": "geo",
         "hovertemplate": "<b>%{hovertext}</b><br><br>country=OM<br>ecContribution_2020=%{marker.size}<br>locations=%{location}<extra></extra>",
         "hovertext": [
          "OM"
         ],
         "legendgroup": "OM",
         "locationmode": "ISO-3",
         "locations": [
          "OMN"
         ],
         "marker": {
          "color": "#EF553B",
          "size": {
           "bdata": "AAAAAAAAAAA=",
           "dtype": "f8"
          },
          "sizemode": "area",
          "sizeref": 4034731.627476,
          "symbol": "circle"
         },
         "mode": "markers",
         "name": "OM",
         "showlegend": true,
         "type": "scattergeo"
        },
        {
         "geo": "geo",
         "hovertemplate": "<b>%{hovertext}</b><br><br>country=PA<br>ecContribution_2020=%{marker.size}<br>locations=%{location}<extra></extra>",
         "hovertext": [
          "PA"
         ],
         "legendgroup": "PA",
         "locationmode": "ISO-3",
         "locations": [
          "PAN"
         ],
         "marker": {
          "color": "#00cc96",
          "size": {
           "bdata": "AAAAAGSq/kA=",
           "dtype": "f8"
          },
          "sizemode": "area",
          "sizeref": 4034731.627476,
          "symbol": "circle"
         },
         "mode": "markers",
         "name": "PA",
         "showlegend": true,
         "type": "scattergeo"
        },
        {
         "geo": "geo",
         "hovertemplate": "<b>%{hovertext}</b><br><br>country=PE<br>ecContribution_2020=%{marker.size}<br>locations=%{location}<extra></extra>",
         "hovertext": [
          "PE"
         ],
         "legendgroup": "PE",
         "locationmode": "ISO-3",
         "locations": [
          "PER"
         ],
         "marker": {
          "color": "#ab63fa",
          "size": {
           "bdata": "mpmZ2b9mQUE=",
           "dtype": "f8"
          },
          "sizemode": "area",
          "sizeref": 4034731.627476,
          "symbol": "circle"
         },
         "mode": "markers",
         "name": "PE",
         "showlegend": true,
         "type": "scattergeo"
        },
        {
         "geo": "geo",
         "hovertemplate": "<b>%{hovertext}</b><br><br>country=PF<br>ecContribution_2020=%{marker.size}<br>locations=%{location}<extra></extra>",
         "hovertext": [
          "PF"
         ],
         "legendgroup": "PF",
         "locationmode": "ISO-3",
         "locations": [
          "PYF"
         ],
         "marker": {
          "color": "#FFA15A",
          "size": {
           "bdata": "7FG4Ht8QAEE=",
           "dtype": "f8"
          },
          "sizemode": "area",
          "sizeref": 4034731.627476,
          "symbol": "circle"
         },
         "mode": "markers",
         "name": "PF",
         "showlegend": true,
         "type": "scattergeo"
        },
        {
         "geo": "geo",
         "hovertemplate": "<b>%{hovertext}</b><br><br>country=PG<br>ecContribution_2020=%{marker.size}<br>locations=%{location}<extra></extra>",
         "hovertext": [
          "PG"
         ],
         "legendgroup": "PG",
         "locationmode": "ISO-3",
         "locations": [
          "PNG"
         ],
         "marker": {
          "color": "#19d3f3",
          "size": {
           "bdata": "AAAAAAAAAAA=",
           "dtype": "f8"
          },
          "sizemode": "area",
          "sizeref": 4034731.627476,
          "symbol": "circle"
         },
         "mode": "markers",
         "name": "PG",
         "showlegend": true,
         "type": "scattergeo"
        },
        {
         "geo": "geo",
         "hovertemplate": "<b>%{hovertext}</b><br><br>country=PH<br>ecContribution_2020=%{marker.size}<br>locations=%{location}<extra></extra>",
         "hovertext": [
          "PH"
         ],
         "legendgroup": "PH",
         "locationmode": "ISO-3",
         "locations": [
          "PHL"
         ],
         "marker": {
          "color": "#FF6692",
          "size": {
           "bdata": "AAAAwAnyNkE=",
           "dtype": "f8"
          },
          "sizemode": "area",
          "sizeref": 4034731.627476,
          "symbol": "circle"
         },
         "mode": "markers",
         "name": "PH",
         "showlegend": true,
         "type": "scattergeo"
        },
        {
         "geo": "geo",
         "hovertemplate": "<b>%{hovertext}</b><br><br>country=PK<br>ecContribution_2020=%{marker.size}<br>locations=%{location}<extra></extra>",
         "hovertext": [
          "PK"
         ],
         "legendgroup": "PK",
         "locationmode": "ISO-3",
         "locations": [
          "PAK"
         ],
         "marker": {
          "color": "#B6E880",
          "size": {
           "bdata": "ZmZm5pWbPEE=",
           "dtype": "f8"
          },
          "sizemode": "area",
          "sizeref": 4034731.627476,
          "symbol": "circle"
         },
         "mode": "markers",
         "name": "PK",
         "showlegend": true,
         "type": "scattergeo"
        },
        {
         "geo": "geo",
         "hovertemplate": "<b>%{hovertext}</b><br><br>country=PL<br>ecContribution_2020=%{marker.size}<br>locations=%{location}<extra></extra>",
         "hovertext": [
          "PL"
         ],
         "legendgroup": "PL",
         "locationmode": "ISO-3",
         "locations": [
          "POL"
         ],
         "marker": {
          "color": "#FF97FF",
          "size": {
           "bdata": "AACAjTf6xUE=",
           "dtype": "f8"
          },
          "sizemode": "area",
          "sizeref": 4034731.627476,
          "symbol": "circle"
         },
         "mode": "markers",
         "name": "PL",
         "showlegend": true,
         "type": "scattergeo"
        },
        {
         "geo": "geo",
         "hovertemplate": "<b>%{hovertext}</b><br><br>country=PS<br>ecContribution_2020=%{marker.size}<br>locations=%{location}<extra></extra>",
         "hovertext": [
          "PS"
         ],
         "legendgroup": "PS",
         "locationmode": "ISO-3",
         "locations": [
          "PSE"
         ],
         "marker": {
          "color": "#FECB52",
          "size": {
           "bdata": "AAAAADTnEUE=",
           "dtype": "f8"
          },
          "sizemode": "area",
          "sizeref": 4034731.627476,
          "symbol": "circle"
         },
         "mode": "markers",
         "name": "PS",
         "showlegend": true,
         "type": "scattergeo"
        },
        {
         "geo": "geo",
         "hovertemplate": "<b>%{hovertext}</b><br><br>country=PT<br>ecContribution_2020=%{marker.size}<br>locations=%{location}<extra></extra>",
         "hovertext": [
          "PT"
         ],
         "legendgroup": "PT",
         "locationmode": "ISO-3",
         "locations": [
          "PRT"
         ],
         "marker": {
          "color": "#636efa",
          "size": {
           "bdata": "MzOTwZQO0UE=",
           "dtype": "f8"
          },
          "sizemode": "area",
          "sizeref": 4034731.627476,
          "symbol": "circle"
         },
         "mode": "markers",
         "name": "PT",
         "showlegend": true,
         "type": "scattergeo"
        },
        {
         "geo": "geo",
         "hovertemplate": "<b>%{hovertext}</b><br><br>country=PY<br>ecContribution_2020=%{marker.size}<br>locations=%{location}<extra></extra>",
         "hovertext": [
          "PY"
         ],
         "legendgroup": "PY",
         "locationmode": "ISO-3",
         "locations": [
          "PRY"
         ],
         "marker": {
          "color": "#EF553B",
          "size": {
           "bdata": "AAAAAEcmEEE=",
           "dtype": "f8"
          },
          "sizemode": "area",
          "sizeref": 4034731.627476,
          "symbol": "circle"
         },
         "mode": "markers",
         "name": "PY",
         "showlegend": true,
         "type": "scattergeo"
        },
        {
         "geo": "geo",
         "hovertemplate": "<b>%{hovertext}</b><br><br>country=QA<br>ecContribution_2020=%{marker.size}<br>locations=%{location}<extra></extra>",
         "hovertext": [
          "QA"
         ],
         "legendgroup": "QA",
         "locationmode": "ISO-3",
         "locations": [
          "QAT"
         ],
         "marker": {
          "color": "#00cc96",
          "size": {
           "bdata": "AAAAAAAAAAA=",
           "dtype": "f8"
          },
          "sizemode": "area",
          "sizeref": 4034731.627476,
          "symbol": "circle"
         },
         "mode": "markers",
         "name": "QA",
         "showlegend": true,
         "type": "scattergeo"
        },
        {
         "geo": "geo",
         "hovertemplate": "<b>%{hovertext}</b><br><br>country=RO<br>ecContribution_2020=%{marker.size}<br>locations=%{location}<extra></extra>",
         "hovertext": [
          "RO"
         ],
         "legendgroup": "RO",
         "locationmode": "ISO-3",
         "locations": [
          "ROU"
         ],
         "marker": {
          "color": "#ab63fa",
          "size": {
           "bdata": "PQrXOXGzsUE=",
           "dtype": "f8"
          },
          "sizemode": "area",
          "sizeref": 4034731.627476,
          "symbol": "circle"
         },
         "mode": "markers",
         "name": "RO",
         "showlegend": true,
         "type": "scattergeo"
        },
        {
         "geo": "geo",
         "hovertemplate": "<b>%{hovertext}</b><br><br>country=RS<br>ecContribution_2020=%{marker.size}<br>locations=%{location}<extra></extra>",
         "hovertext": [
          "RS"
         ],
         "legendgroup": "RS",
         "locationmode": "ISO-3",
         "locations": [
          "SRB"
         ],
         "marker": {
          "color": "#FFA15A",
          "size": {
           "bdata": "61G4oHSgn0E=",
           "dtype": "f8"
          },
          "sizemode": "area",
          "sizeref": 4034731.627476,
          "symbol": "circle"
         },
         "mode": "markers",
         "name": "RS",
         "showlegend": true,
         "type": "scattergeo"
        },
        {
         "geo": "geo",
         "hovertemplate": "<b>%{hovertext}</b><br><br>country=RU<br>ecContribution_2020=%{marker.size}<br>locations=%{location}<extra></extra>",
         "hovertext": [
          "RU"
         ],
         "legendgroup": "RU",
         "locationmode": "ISO-3",
         "locations": [
          "RUS"
         ],
         "marker": {
          "color": "#19d3f3",
          "size": {
           "bdata": "H4Xr0XaNTEE=",
           "dtype": "f8"
          },
          "sizemode": "area",
          "sizeref": 4034731.627476,
          "symbol": "circle"
         },
         "mode": "markers",
         "name": "RU",
         "showlegend": true,
         "type": "scattergeo"
        },
        {
         "geo": "geo",
         "hovertemplate": "<b>%{hovertext}</b><br><br>country=RW<br>ecContribution_2020=%{marker.size}<br>locations=%{location}<extra></extra>",
         "hovertext": [
          "RW"
         ],
         "legendgroup": "RW",
         "locationmode": "ISO-3",
         "locations": [
          "RWA"
         ],
         "marker": {
          "color": "#FF6692",
          "size": {
           "bdata": "FK5HIYdEQEE=",
           "dtype": "f8"
          },
          "sizemode": "area",
          "sizeref": 4034731.627476,
          "symbol": "circle"
         },
         "mode": "markers",
         "name": "RW",
         "showlegend": true,
         "type": "scattergeo"
        },
        {
         "geo": "geo",
         "hovertemplate": "<b>%{hovertext}</b><br><br>country=SA<br>ecContribution_2020=%{marker.size}<br>locations=%{location}<extra></extra>",
         "hovertext": [
          "SA"
         ],
         "legendgroup": "SA",
         "locationmode": "ISO-3",
         "locations": [
          "SAU"
         ],
         "marker": {
          "color": "#B6E880",
          "size": {
           "bdata": "AAAAAAAAAAA=",
           "dtype": "f8"
          },
          "sizemode": "area",
          "sizeref": 4034731.627476,
          "symbol": "circle"
         },
         "mode": "markers",
         "name": "SA",
         "showlegend": true,
         "type": "scattergeo"
        },
        {
         "geo": "geo",
         "hovertemplate": "<b>%{hovertext}</b><br><br>country=SC<br>ecContribution_2020=%{marker.size}<br>locations=%{location}<extra></extra>",
         "hovertext": [
          "SC"
         ],
         "legendgroup": "SC",
         "locationmode": "ISO-3",
         "locations": [
          "SYC"
         ],
         "marker": {
          "color": "#FF97FF",
          "size": {
           "bdata": "AAAAAMBo80A=",
           "dtype": "f8"
          },
          "sizemode": "area",
          "sizeref": 4034731.627476,
          "symbol": "circle"
         },
         "mode": "markers",
         "name": "SC",
         "showlegend": true,
         "type": "scattergeo"
        },
        {
         "geo": "geo",
         "hovertemplate": "<b>%{hovertext}</b><br><br>country=SD<br>ecContribution_2020=%{marker.size}<br>locations=%{location}<extra></extra>",
         "hovertext": [
          "SD"
         ],
         "legendgroup": "SD",
         "locationmode": "ISO-3",
         "locations": [
          "SDN"
         ],
         "marker": {
          "color": "#FECB52",
          "size": {
           "bdata": "AAAAAABM3UA=",
           "dtype": "f8"
          },
          "sizemode": "area",
          "sizeref": 4034731.627476,
          "symbol": "circle"
         },
         "mode": "markers",
         "name": "SD",
         "showlegend": true,
         "type": "scattergeo"
        },
        {
         "geo": "geo",
         "hovertemplate": "<b>%{hovertext}</b><br><br>country=SE<br>ecContribution_2020=%{marker.size}<br>locations=%{location}<extra></extra>",
         "hovertext": [
          "SE"
         ],
         "legendgroup": "SE",
         "locationmode": "ISO-3",
         "locations": [
          "SWE"
         ],
         "marker": {
          "color": "#636efa",
          "size": {
           "bdata": "7FF4H9ZF4UE=",
           "dtype": "f8"
          },
          "sizemode": "area",
          "sizeref": 4034731.627476,
          "symbol": "circle"
         },
         "mode": "markers",
         "name": "SE",
         "showlegend": true,
         "type": "scattergeo"
        },
        {
         "geo": "geo",
         "hovertemplate": "<b>%{hovertext}</b><br><br>country=SG<br>ecContribution_2020=%{marker.size}<br>locations=%{location}<extra></extra>",
         "hovertext": [
          "SG"
         ],
         "legendgroup": "SG",
         "locationmode": "ISO-3",
         "locations": [
          "SGP"
         ],
         "marker": {
          "color": "#EF553B",
          "size": {
           "bdata": "AAAAAJqGC0E=",
           "dtype": "f8"
          },
          "sizemode": "area",
          "sizeref": 4034731.627476,
          "symbol": "circle"
         },
         "mode": "markers",
         "name": "SG",
         "showlegend": true,
         "type": "scattergeo"
        },
        {
         "geo": "geo",
         "hovertemplate": "<b>%{hovertext}</b><br><br>country=SI<br>ecContribution_2020=%{marker.size}<br>locations=%{location}<extra></extra>",
         "hovertext": [
          "SI"
         ],
         "legendgroup": "SI",
         "locationmode": "ISO-3",
         "locations": [
          "SVN"
         ],
         "marker": {
          "color": "#00cc96",
          "size": {
           "bdata": "ZmbmYXh9tkE=",
           "dtype": "f8"
          },
          "sizemode": "area",
          "sizeref": 4034731.627476,
          "symbol": "circle"
         },
         "mode": "markers",
         "name": "SI",
         "showlegend": true,
         "type": "scattergeo"
        },
        {
         "geo": "geo",
         "hovertemplate": "<b>%{hovertext}</b><br><br>country=SK<br>ecContribution_2020=%{marker.size}<br>locations=%{location}<extra></extra>",
         "hovertext": [
          "SK"
         ],
         "legendgroup": "SK",
         "locationmode": "ISO-3",
         "locations": [
          "SVK"
         ],
         "marker": {
          "color": "#ab63fa",
          "size": {
           "bdata": "UrgeIhghoEE=",
           "dtype": "f8"
          },
          "sizemode": "area",
          "sizeref": 4034731.627476,
          "symbol": "circle"
         },
         "mode": "markers",
         "name": "SK",
         "showlegend": true,
         "type": "scattergeo"
        },
        {
         "geo": "geo",
         "hovertemplate": "<b>%{hovertext}</b><br><br>country=SL<br>ecContribution_2020=%{marker.size}<br>locations=%{location}<extra></extra>",
         "hovertext": [
          "SL"
         ],
         "legendgroup": "SL",
         "locationmode": "ISO-3",
         "locations": [
          "SLE"
         ],
         "marker": {
          "color": "#FFA15A",
          "size": {
           "bdata": "rkfh+sSAa0E=",
           "dtype": "f8"
          },
          "sizemode": "area",
          "sizeref": 4034731.627476,
          "symbol": "circle"
         },
         "mode": "markers",
         "name": "SL",
         "showlegend": true,
         "type": "scattergeo"
        },
        {
         "geo": "geo",
         "hovertemplate": "<b>%{hovertext}</b><br><br>country=SN<br>ecContribution_2020=%{marker.size}<br>locations=%{location}<extra></extra>",
         "hovertext": [
          "SN"
         ],
         "legendgroup": "SN",
         "locationmode": "ISO-3",
         "locations": [
          "SEN"
         ],
         "marker": {
          "color": "#19d3f3",
          "size": {
           "bdata": "zczMXP2RV0E=",
           "dtype": "f8"
          },
          "sizemode": "area",
          "sizeref": 4034731.627476,
          "symbol": "circle"
         },
         "mode": "markers",
         "name": "SN",
         "showlegend": true,
         "type": "scattergeo"
        },
        {
         "geo": "geo",
         "hovertemplate": "<b>%{hovertext}</b><br><br>country=SR<br>ecContribution_2020=%{marker.size}<br>locations=%{location}<extra></extra>",
         "hovertext": [
          "SR"
         ],
         "legendgroup": "SR",
         "locationmode": "ISO-3",
         "locations": [
          "SUR"
         ],
         "marker": {
          "color": "#FF6692",
          "size": {
           "bdata": "AAAAAHjmCUE=",
           "dtype": "f8"
          },
          "sizemode": "area",
          "sizeref": 4034731.627476,
          "symbol": "circle"
         },
         "mode": "markers",
         "name": "SR",
         "showlegend": true,
         "type": "scattergeo"
        },
        {
         "geo": "geo",
         "hovertemplate": "<b>%{hovertext}</b><br><br>country=SX<br>ecContribution_2020=%{marker.size}<br>locations=%{location}<extra></extra>",
         "hovertext": [
          "SX"
         ],
         "legendgroup": "SX",
         "locationmode": "ISO-3",
         "locations": [
          "SXM"
         ],
         "marker": {
          "color": "#B6E880",
          "size": {
           "bdata": "AAAAAAAAAAA=",
           "dtype": "f8"
          },
          "sizemode": "area",
          "sizeref": 4034731.627476,
          "symbol": "circle"
         },
         "mode": "markers",
         "name": "SX",
         "showlegend": true,
         "type": "scattergeo"
        },
        {
         "geo": "geo",
         "hovertemplate": "<b>%{hovertext}</b><br><br>country=SZ<br>ecContribution_2020=%{marker.size}<br>locations=%{location}<extra></extra>",
         "hovertext": [
          "SZ"
         ],
         "legendgroup": "SZ",
         "locationmode": "ISO-3",
         "locations": [
          "SWZ"
         ],
         "marker": {
          "color": "#FF97FF",
          "size": {
           "bdata": "AAAAAPisFEE=",
           "dtype": "f8"
          },
          "sizemode": "area",
          "sizeref": 4034731.627476,
          "symbol": "circle"
         },
         "mode": "markers",
         "name": "SZ",
         "showlegend": true,
         "type": "scattergeo"
        },
        {
         "geo": "geo",
         "hovertemplate": "<b>%{hovertext}</b><br><br>country=TD<br>ecContribution_2020=%{marker.size}<br>locations=%{location}<extra></extra>",
         "hovertext": [
          "TD"
         ],
         "legendgroup": "TD",
         "locationmode": "ISO-3",
         "locations": [
          "TCD"
         ],
         "marker": {
          "color": "#FECB52",
          "size": {
           "bdata": "AAAAAIDMAkE=",
           "dtype": "f8"
          },
          "sizemode": "area",
          "sizeref": 4034731.627476,
          "symbol": "circle"
         },
         "mode": "markers",
         "name": "TD",
         "showlegend": true,
         "type": "scattergeo"
        },
        {
         "geo": "geo",
         "hovertemplate": "<b>%{hovertext}</b><br><br>country=TG<br>ecContribution_2020=%{marker.size}<br>locations=%{location}<extra></extra>",
         "hovertext": [
          "TG"
         ],
         "legendgroup": "TG",
         "locationmode": "ISO-3",
         "locations": [
          "TGO"
         ],
         "marker": {
          "color": "#636efa",
          "size": {
           "bdata": "AAAAADAnAUE=",
           "dtype": "f8"
          },
          "sizemode": "area",
          "sizeref": 4034731.627476,
          "symbol": "circle"
         },
         "mode": "markers",
         "name": "TG",
         "showlegend": true,
         "type": "scattergeo"
        },
        {
         "geo": "geo",
         "hovertemplate": "<b>%{hovertext}</b><br><br>country=TH<br>ecContribution_2020=%{marker.size}<br>locations=%{location}<extra></extra>",
         "hovertext": [
          "TH"
         ],
         "legendgroup": "TH",
         "locationmode": "ISO-3",
         "locations": [
          "THA"
         ],
         "marker": {
          "color": "#EF553B",
          "size": {
           "bdata": "UrgeZe7HQkE=",
           "dtype": "f8"
          },
          "sizemode": "area",
          "sizeref": 4034731.627476,
          "symbol": "circle"
         },
         "mode": "markers",
         "name": "TH",
         "showlegend": true,
         "type": "scattergeo"
        },
        {
         "geo": "geo",
         "hovertemplate": "<b>%{hovertext}</b><br><br>country=TJ<br>ecContribution_2020=%{marker.size}<br>locations=%{location}<extra></extra>",
         "hovertext": [
          "TJ"
         ],
         "legendgroup": "TJ",
         "locationmode": "ISO-3",
         "locations": [
          "TJK"
         ],
         "marker": {
          "color": "#00cc96",
          "size": {
           "bdata": "AAAAAH6jF0E=",
           "dtype": "f8"
          },
          "sizemode": "area",
          "sizeref": 4034731.627476,
          "symbol": "circle"
         },
         "mode": "markers",
         "name": "TJ",
         "showlegend": true,
         "type": "scattergeo"
        },
        {
         "geo": "geo",
         "hovertemplate": "<b>%{hovertext}</b><br><br>country=TM<br>ecContribution_2020=%{marker.size}<br>locations=%{location}<extra></extra>",
         "hovertext": [
          "TM"
         ],
         "legendgroup": "TM",
         "locationmode": "ISO-3",
         "locations": [
          "TKM"
         ],
         "marker": {
          "color": "#ab63fa",
          "size": {
           "bdata": "AAAAAPh780A=",
           "dtype": "f8"
          },
          "sizemode": "area",
          "sizeref": 4034731.627476,
          "symbol": "circle"
         },
         "mode": "markers",
         "name": "TM",
         "showlegend": true,
         "type": "scattergeo"
        },
        {
         "geo": "geo",
         "hovertemplate": "<b>%{hovertext}</b><br><br>country=TN<br>ecContribution_2020=%{marker.size}<br>locations=%{location}<extra></extra>",
         "hovertext": [
          "TN"
         ],
         "legendgroup": "TN",
         "locationmode": "ISO-3",
         "locations": [
          "TUN"
         ],
         "marker": {
          "color": "#FFA15A",
          "size": {
           "bdata": "j8L1GLjlaEE=",
           "dtype": "f8"
          },
          "sizemode": "area",
          "sizeref": 4034731.627476,
          "symbol": "circle"
         },
         "mode": "markers",
         "name": "TN",
         "showlegend": true,
         "type": "scattergeo"
        },
        {
         "geo": "geo",
         "hovertemplate": "<b>%{hovertext}</b><br><br>country=TR<br>ecContribution_2020=%{marker.size}<br>locations=%{location}<extra></extra>",
         "hovertext": [
          "TR"
         ],
         "legendgroup": "TR",
         "locationmode": "ISO-3",
         "locations": [
          "TUR"
         ],
         "marker": {
          "color": "#19d3f3",
          "size": {
           "bdata": "7FF4hsCNsEE=",
           "dtype": "f8"
          },
          "sizemode": "area",
          "sizeref": 4034731.627476,
          "symbol": "circle"
         },
         "mode": "markers",
         "name": "TR",
         "showlegend": true,
         "type": "scattergeo"
        },
        {
         "geo": "geo",
         "hovertemplate": "<b>%{hovertext}</b><br><br>country=TW<br>ecContribution_2020=%{marker.size}<br>locations=%{location}<extra></extra>",
         "hovertext": [
          "TW"
         ],
         "legendgroup": "TW",
         "locationmode": "ISO-3",
         "locations": [
          "TWN"
         ],
         "marker": {
          "color": "#FF6692",
          "size": {
           "bdata": "mpmZGVKbK0E=",
           "dtype": "f8"
          },
          "sizemode": "area",
          "sizeref": 4034731.627476,
          "symbol": "circle"
         },
         "mode": "markers",
         "name": "TW",
         "showlegend": true,
         "type": "scattergeo"
        },
        {
         "geo": "geo",
         "hovertemplate": "<b>%{hovertext}</b><br><br>country=TZ<br>ecContribution_2020=%{marker.size}<br>locations=%{location}<extra></extra>",
         "hovertext": [
          "TZ"
         ],
         "legendgroup": "TZ",
         "locationmode": "ISO-3",
         "locations": [
          "TZA"
         ],
         "marker": {
          "color": "#B6E880",
          "size": {
           "bdata": "cT0KV68AZEE=",
           "dtype": "f8"
          },
          "sizemode": "area",
          "sizeref": 4034731.627476,
          "symbol": "circle"
         },
         "mode": "markers",
         "name": "TZ",
         "showlegend": true,
         "type": "scattergeo"
        },
        {
         "geo": "geo",
         "hovertemplate": "<b>%{hovertext}</b><br><br>country=UA<br>ecContribution_2020=%{marker.size}<br>locations=%{location}<extra></extra>",
         "hovertext": [
          "UA"
         ],
         "legendgroup": "UA",
         "locationmode": "ISO-3",
         "locations": [
          "UKR"
         ],
         "marker": {
          "color": "#FF97FF",
          "size": {
           "bdata": "MzMzAUKFhkE=",
           "dtype": "f8"
          },
          "sizemode": "area",
          "sizeref": 4034731.627476,
          "symbol": "circle"
         },
         "mode": "markers",
         "name": "UA",
         "showlegend": true,
         "type": "scattergeo"
        },
        {
         "geo": "geo",
         "hovertemplate": "<b>%{hovertext}</b><br><br>country=UG<br>ecContribution_2020=%{marker.size}<br>locations=%{location}<extra></extra>",
         "hovertext": [
          "UG"
         ],
         "legendgroup": "UG",
         "locationmode": "ISO-3",
         "locations": [
          "UGA"
         ],
         "marker": {
          "color": "#FECB52",
          "size": {
           "bdata": "MzMzcy/7ZkE=",
           "dtype": "f8"
          },
          "sizemode": "area",
          "sizeref": 4034731.627476,
          "symbol": "circle"
         },
         "mode": "markers",
         "name": "UG",
         "showlegend": true,
         "type": "scattergeo"
        },
        {
         "geo": "geo",
         "hovertemplate": "<b>%{hovertext}</b><br><br>country=UK<br>ecContribution_2020=%{marker.size}<br>locations=%{location}<extra></extra>",
         "hovertext": [
          "UK"
         ],
         "legendgroup": "UK",
         "locationmode": "ISO-3",
         "locations": [
          null
         ],
         "marker": {
          "color": "#636efa",
          "size": {
           "bdata": "mpmZb8cg/UE=",
           "dtype": "f8"
          },
          "sizemode": "area",
          "sizeref": 4034731.627476,
          "symbol": "circle"
         },
         "mode": "markers",
         "name": "UK",
         "showlegend": true,
         "type": "scattergeo"
        },
        {
         "geo": "geo",
         "hovertemplate": "<b>%{hovertext}</b><br><br>country=US<br>ecContribution_2020=%{marker.size}<br>locations=%{location}<extra></extra>",
         "hovertext": [
          "US"
         ],
         "legendgroup": "US",
         "locationmode": "ISO-3",
         "locations": [
          "USA"
         ],
         "marker": {
          "color": "#EF553B",
          "size": {
           "bdata": "w/Uo9Phum0E=",
           "dtype": "f8"
          },
          "sizemode": "area",
          "sizeref": 4034731.627476,
          "symbol": "circle"
         },
         "mode": "markers",
         "name": "US",
         "showlegend": true,
         "type": "scattergeo"
        },
        {
         "geo": "geo",
         "hovertemplate": "<b>%{hovertext}</b><br><br>country=UY<br>ecContribution_2020=%{marker.size}<br>locations=%{location}<extra></extra>",
         "hovertext": [
          "UY"
         ],
         "legendgroup": "UY",
         "locationmode": "ISO-3",
         "locations": [
          "URY"
         ],
         "marker": {
          "color": "#00cc96",
          "size": {
           "bdata": "pHA9alQ5TUE=",
           "dtype": "f8"
          },
          "sizemode": "area",
          "sizeref": 4034731.627476,
          "symbol": "circle"
         },
         "mode": "markers",
         "name": "UY",
         "showlegend": true,
         "type": "scattergeo"
        },
        {
         "geo": "geo",
         "hovertemplate": "<b>%{hovertext}</b><br><br>country=UZ<br>ecContribution_2020=%{marker.size}<br>locations=%{location}<extra></extra>",
         "hovertext": [
          "UZ"
         ],
         "legendgroup": "UZ",
         "locationmode": "ISO-3",
         "locations": [
          "UZB"
         ],
         "marker": {
          "color": "#ab63fa",
          "size": {
           "bdata": "AAAAADHUE0E=",
           "dtype": "f8"
          },
          "sizemode": "area",
          "sizeref": 4034731.627476,
          "symbol": "circle"
         },
         "mode": "markers",
         "name": "UZ",
         "showlegend": true,
         "type": "scattergeo"
        },
        {
         "geo": "geo",
         "hovertemplate": "<b>%{hovertext}</b><br><br>country=VE<br>ecContribution_2020=%{marker.size}<br>locations=%{location}<extra></extra>",
         "hovertext": [
          "VE"
         ],
         "legendgroup": "VE",
         "locationmode": "ISO-3",
         "locations": [
          "VEN"
         ],
         "marker": {
          "color": "#FFA15A",
          "size": {
           "bdata": "AAAAAAAAAAA=",
           "dtype": "f8"
          },
          "sizemode": "area",
          "sizeref": 4034731.627476,
          "symbol": "circle"
         },
         "mode": "markers",
         "name": "VE",
         "showlegend": true,
         "type": "scattergeo"
        },
        {
         "geo": "geo",
         "hovertemplate": "<b>%{hovertext}</b><br><br>country=VG<br>ecContribution_2020=%{marker.size}<br>locations=%{location}<extra></extra>",
         "hovertext": [
          "VG"
         ],
         "legendgroup": "VG",
         "locationmode": "ISO-3",
         "locations": [
          "VGB"
         ],
         "marker": {
          "color": "#19d3f3",
          "size": {
           "bdata": "uB6F60mTBEE=",
           "dtype": "f8"
          },
          "sizemode": "area",
          "sizeref": 4034731.627476,
          "symbol": "circle"
         },
         "mode": "markers",
         "name": "VG",
         "showlegend": true,
         "type": "scattergeo"
        },
        {
         "geo": "geo",
         "hovertemplate": "<b>%{hovertext}</b><br><br>country=VN<br>ecContribution_2020=%{marker.size}<br>locations=%{location}<extra></extra>",
         "hovertext": [
          "VN"
         ],
         "legendgroup": "VN",
         "locationmode": "ISO-3",
         "locations": [
          "VNM"
         ],
         "marker": {
          "color": "#FF6692",
          "size": {
           "bdata": "AAAA4DIoRkE=",
           "dtype": "f8"
          },
          "sizemode": "area",
          "sizeref": 4034731.627476,
          "symbol": "circle"
         },
         "mode": "markers",
         "name": "VN",
         "showlegend": true,
         "type": "scattergeo"
        },
        {
         "geo": "geo",
         "hovertemplate": "<b>%{hovertext}</b><br><br>country=WF<br>ecContribution_2020=%{marker.size}<br>locations=%{location}<extra></extra>",
         "hovertext": [
          "WF"
         ],
         "legendgroup": "WF",
         "locationmode": "ISO-3",
         "locations": [
          "WLF"
         ],
         "marker": {
          "color": "#B6E880",
          "size": {
           "bdata": "AAAAAAAAAAA=",
           "dtype": "f8"
          },
          "sizemode": "area",
          "sizeref": 4034731.627476,
          "symbol": "circle"
         },
         "mode": "markers",
         "name": "WF",
         "showlegend": true,
         "type": "scattergeo"
        },
        {
         "geo": "geo",
         "hovertemplate": "<b>%{hovertext}</b><br><br>country=XK<br>ecContribution_2020=%{marker.size}<br>locations=%{location}<extra></extra>",
         "hovertext": [
          "XK"
         ],
         "legendgroup": "XK",
         "locationmode": "ISO-3",
         "locations": [
          null
         ],
         "marker": {
          "color": "#FF97FF",
          "size": {
           "bdata": "KVyPouvsQkE=",
           "dtype": "f8"
          },
          "sizemode": "area",
          "sizeref": 4034731.627476,
          "symbol": "circle"
         },
         "mode": "markers",
         "name": "XK",
         "showlegend": true,
         "type": "scattergeo"
        },
        {
         "geo": "geo",
         "hovertemplate": "<b>%{hovertext}</b><br><br>country=YE<br>ecContribution_2020=%{marker.size}<br>locations=%{location}<extra></extra>",
         "hovertext": [
          "YE"
         ],
         "legendgroup": "YE",
         "locationmode": "ISO-3",
         "locations": [
          "YEM"
         ],
         "marker": {
          "color": "#FECB52",
          "size": {
           "bdata": "AAAAAM5dAEE=",
           "dtype": "f8"
          },
          "sizemode": "area",
          "sizeref": 4034731.627476,
          "symbol": "circle"
         },
         "mode": "markers",
         "name": "YE",
         "showlegend": true,
         "type": "scattergeo"
        },
        {
         "geo": "geo",
         "hovertemplate": "<b>%{hovertext}</b><br><br>country=ZA<br>ecContribution_2020=%{marker.size}<br>locations=%{location}<extra></extra>",
         "hovertext": [
          "ZA"
         ],
         "legendgroup": "ZA",
         "locationmode": "ISO-3",
         "locations": [
          "ZAF"
         ],
         "marker": {
          "color": "#636efa",
          "size": {
           "bdata": "rkfhpmRvjUE=",
           "dtype": "f8"
          },
          "sizemode": "area",
          "sizeref": 4034731.627476,
          "symbol": "circle"
         },
         "mode": "markers",
         "name": "ZA",
         "showlegend": true,
         "type": "scattergeo"
        },
        {
         "geo": "geo",
         "hovertemplate": "<b>%{hovertext}</b><br><br>country=ZM<br>ecContribution_2020=%{marker.size}<br>locations=%{location}<extra></extra>",
         "hovertext": [
          "ZM"
         ],
         "legendgroup": "ZM",
         "locationmode": "ISO-3",
         "locations": [
          "ZMB"
         ],
         "marker": {
          "color": "#EF553B",
          "size": {
           "bdata": "FK5HodtmPkE=",
           "dtype": "f8"
          },
          "sizemode": "area",
          "sizeref": 4034731.627476,
          "symbol": "circle"
         },
         "mode": "markers",
         "name": "ZM",
         "showlegend": true,
         "type": "scattergeo"
        },
        {
         "geo": "geo",
         "hovertemplate": "<b>%{hovertext}</b><br><br>country=ZW<br>ecContribution_2020=%{marker.size}<br>locations=%{location}<extra></extra>",
         "hovertext": [
          "ZW"
         ],
         "legendgroup": "ZW",
         "locationmode": "ISO-3",
         "locations": [
          "ZWE"
         ],
         "marker": {
          "color": "#00cc96",
          "size": {
           "bdata": "AAAAAFTZGEE=",
           "dtype": "f8"
          },
          "sizemode": "area",
          "sizeref": 4034731.627476,
          "symbol": "circle"
         },
         "mode": "markers",
         "name": "ZW",
         "showlegend": true,
         "type": "scattergeo"
        },
        {
         "geo": "geo",
         "hovertemplate": "<b>%{hovertext}</b><br><br>country=ZZ<br>ecContribution_2020=%{marker.size}<br>locations=%{location}<extra></extra>",
         "hovertext": [
          "ZZ"
         ],
         "legendgroup": "ZZ",
         "locationmode": "ISO-3",
         "locations": [
          null
         ],
         "marker": {
          "color": "#ab63fa",
          "size": {
           "bdata": "AAAAAJhn9EA=",
           "dtype": "f8"
          },
          "sizemode": "area",
          "sizeref": 4034731.627476,
          "symbol": "circle"
         },
         "mode": "markers",
         "name": "ZZ",
         "showlegend": true,
         "type": "scattergeo"
        }
       ],
       "layout": {
        "geo": {
         "center": {},
         "coastlinecolor": "LightGray",
         "countrycolor": "LightGray",
         "domain": {
          "x": [
           0,
           1
          ],
          "y": [
           0,
           1
          ]
         },
         "projection": {
          "type": "natural earth"
         },
         "showcoastlines": true,
         "showcountries": true
        },
        "height": 600,
        "legend": {
         "itemsizing": "constant",
         "title": {
          "text": "country"
         },
         "tracegroupgap": 0
        },
        "margin": {
         "b": 0,
         "l": 0,
         "r": 0,
         "t": 50
        },
        "template": {
         "data": {
          "bar": [
           {
            "error_x": {
             "color": "#2a3f5f"
            },
            "error_y": {
             "color": "#2a3f5f"
            },
            "marker": {
             "line": {
              "color": "#E5ECF6",
              "width": 0.5
             },
             "pattern": {
              "fillmode": "overlay",
              "size": 10,
              "solidity": 0.2
             }
            },
            "type": "bar"
           }
          ],
          "barpolar": [
           {
            "marker": {
             "line": {
              "color": "#E5ECF6",
              "width": 0.5
             },
             "pattern": {
              "fillmode": "overlay",
              "size": 10,
              "solidity": 0.2
             }
            },
            "type": "barpolar"
           }
          ],
          "carpet": [
           {
            "aaxis": {
             "endlinecolor": "#2a3f5f",
             "gridcolor": "white",
             "linecolor": "white",
             "minorgridcolor": "white",
             "startlinecolor": "#2a3f5f"
            },
            "baxis": {
             "endlinecolor": "#2a3f5f",
             "gridcolor": "white",
             "linecolor": "white",
             "minorgridcolor": "white",
             "startlinecolor": "#2a3f5f"
            },
            "type": "carpet"
           }
          ],
          "choropleth": [
           {
            "colorbar": {
             "outlinewidth": 0,
             "ticks": ""
            },
            "type": "choropleth"
           }
          ],
          "contour": [
           {
            "colorbar": {
             "outlinewidth": 0,
             "ticks": ""
            },
            "colorscale": [
             [
              0,
              "#0d0887"
             ],
             [
              0.1111111111111111,
              "#46039f"
             ],
             [
              0.2222222222222222,
              "#7201a8"
             ],
             [
              0.3333333333333333,
              "#9c179e"
             ],
             [
              0.4444444444444444,
              "#bd3786"
             ],
             [
              0.5555555555555556,
              "#d8576b"
             ],
             [
              0.6666666666666666,
              "#ed7953"
             ],
             [
              0.7777777777777778,
              "#fb9f3a"
             ],
             [
              0.8888888888888888,
              "#fdca26"
             ],
             [
              1,
              "#f0f921"
             ]
            ],
            "type": "contour"
           }
          ],
          "contourcarpet": [
           {
            "colorbar": {
             "outlinewidth": 0,
             "ticks": ""
            },
            "type": "contourcarpet"
           }
          ],
          "heatmap": [
           {
            "colorbar": {
             "outlinewidth": 0,
             "ticks": ""
            },
            "colorscale": [
             [
              0,
              "#0d0887"
             ],
             [
              0.1111111111111111,
              "#46039f"
             ],
             [
              0.2222222222222222,
              "#7201a8"
             ],
             [
              0.3333333333333333,
              "#9c179e"
             ],
             [
              0.4444444444444444,
              "#bd3786"
             ],
             [
              0.5555555555555556,
              "#d8576b"
             ],
             [
              0.6666666666666666,
              "#ed7953"
             ],
             [
              0.7777777777777778,
              "#fb9f3a"
             ],
             [
              0.8888888888888888,
              "#fdca26"
             ],
             [
              1,
              "#f0f921"
             ]
            ],
            "type": "heatmap"
           }
          ],
          "histogram": [
           {
            "marker": {
             "pattern": {
              "fillmode": "overlay",
              "size": 10,
              "solidity": 0.2
             }
            },
            "type": "histogram"
           }
          ],
          "histogram2d": [
           {
            "colorbar": {
             "outlinewidth": 0,
             "ticks": ""
            },
            "colorscale": [
             [
              0,
              "#0d0887"
             ],
             [
              0.1111111111111111,
              "#46039f"
             ],
             [
              0.2222222222222222,
              "#7201a8"
             ],
             [
              0.3333333333333333,
              "#9c179e"
             ],
             [
              0.4444444444444444,
              "#bd3786"
             ],
             [
              0.5555555555555556,
              "#d8576b"
             ],
             [
              0.6666666666666666,
              "#ed7953"
             ],
             [
              0.7777777777777778,
              "#fb9f3a"
             ],
             [
              0.8888888888888888,
              "#fdca26"
             ],
             [
              1,
              "#f0f921"
             ]
            ],
            "type": "histogram2d"
           }
          ],
          "histogram2dcontour": [
           {
            "colorbar": {
             "outlinewidth": 0,
             "ticks": ""
            },
            "colorscale": [
             [
              0,
              "#0d0887"
             ],
             [
              0.1111111111111111,
              "#46039f"
             ],
             [
              0.2222222222222222,
              "#7201a8"
             ],
             [
              0.3333333333333333,
              "#9c179e"
             ],
             [
              0.4444444444444444,
              "#bd3786"
             ],
             [
              0.5555555555555556,
              "#d8576b"
             ],
             [
              0.6666666666666666,
              "#ed7953"
             ],
             [
              0.7777777777777778,
              "#fb9f3a"
             ],
             [
              0.8888888888888888,
              "#fdca26"
             ],
             [
              1,
              "#f0f921"
             ]
            ],
            "type": "histogram2dcontour"
           }
          ],
          "mesh3d": [
           {
            "colorbar": {
             "outlinewidth": 0,
             "ticks": ""
            },
            "type": "mesh3d"
           }
          ],
          "parcoords": [
           {
            "line": {
             "colorbar": {
              "outlinewidth": 0,
              "ticks": ""
             }
            },
            "type": "parcoords"
           }
          ],
          "pie": [
           {
            "automargin": true,
            "type": "pie"
           }
          ],
          "scatter": [
           {
            "fillpattern": {
             "fillmode": "overlay",
             "size": 10,
             "solidity": 0.2
            },
            "type": "scatter"
           }
          ],
          "scatter3d": [
           {
            "line": {
             "colorbar": {
              "outlinewidth": 0,
              "ticks": ""
             }
            },
            "marker": {
             "colorbar": {
              "outlinewidth": 0,
              "ticks": ""
             }
            },
            "type": "scatter3d"
           }
          ],
          "scattercarpet": [
           {
            "marker": {
             "colorbar": {
              "outlinewidth": 0,
              "ticks": ""
             }
            },
            "type": "scattercarpet"
           }
          ],
          "scattergeo": [
           {
            "marker": {
             "colorbar": {
              "outlinewidth": 0,
              "ticks": ""
             }
            },
            "type": "scattergeo"
           }
          ],
          "scattergl": [
           {
            "marker": {
             "colorbar": {
              "outlinewidth": 0,
              "ticks": ""
             }
            },
            "type": "scattergl"
           }
          ],
          "scattermap": [
           {
            "marker": {
             "colorbar": {
              "outlinewidth": 0,
              "ticks": ""
             }
            },
            "type": "scattermap"
           }
          ],
          "scattermapbox": [
           {
            "marker": {
             "colorbar": {
              "outlinewidth": 0,
              "ticks": ""
             }
            },
            "type": "scattermapbox"
           }
          ],
          "scatterpolar": [
           {
            "marker": {
             "colorbar": {
              "outlinewidth": 0,
              "ticks": ""
             }
            },
            "type": "scatterpolar"
           }
          ],
          "scatterpolargl": [
           {
            "marker": {
             "colorbar": {
              "outlinewidth": 0,
              "ticks": ""
             }
            },
            "type": "scatterpolargl"
           }
          ],
          "scatterternary": [
           {
            "marker": {
             "colorbar": {
              "outlinewidth": 0,
              "ticks": ""
             }
            },
            "type": "scatterternary"
           }
          ],
          "surface": [
           {
            "colorbar": {
             "outlinewidth": 0,
             "ticks": ""
            },
            "colorscale": [
             [
              0,
              "#0d0887"
             ],
             [
              0.1111111111111111,
              "#46039f"
             ],
             [
              0.2222222222222222,
              "#7201a8"
             ],
             [
              0.3333333333333333,
              "#9c179e"
             ],
             [
              0.4444444444444444,
              "#bd3786"
             ],
             [
              0.5555555555555556,
              "#d8576b"
             ],
             [
              0.6666666666666666,
              "#ed7953"
             ],
             [
              0.7777777777777778,
              "#fb9f3a"
             ],
             [
              0.8888888888888888,
              "#fdca26"
             ],
             [
              1,
              "#f0f921"
             ]
            ],
            "type": "surface"
           }
          ],
          "table": [
           {
            "cells": {
             "fill": {
              "color": "#EBF0F8"
             },
             "line": {
              "color": "white"
             }
            },
            "header": {
             "fill": {
              "color": "#C8D4E3"
             },
             "line": {
              "color": "white"
             }
            },
            "type": "table"
           }
          ]
         },
         "layout": {
          "annotationdefaults": {
           "arrowcolor": "#2a3f5f",
           "arrowhead": 0,
           "arrowwidth": 1
          },
          "autotypenumbers": "strict",
          "coloraxis": {
           "colorbar": {
            "outlinewidth": 0,
            "ticks": ""
           }
          },
          "colorscale": {
           "diverging": [
            [
             0,
             "#8e0152"
            ],
            [
             0.1,
             "#c51b7d"
            ],
            [
             0.2,
             "#de77ae"
            ],
            [
             0.3,
             "#f1b6da"
            ],
            [
             0.4,
             "#fde0ef"
            ],
            [
             0.5,
             "#f7f7f7"
            ],
            [
             0.6,
             "#e6f5d0"
            ],
            [
             0.7,
             "#b8e186"
            ],
            [
             0.8,
             "#7fbc41"
            ],
            [
             0.9,
             "#4d9221"
            ],
            [
             1,
             "#276419"
            ]
           ],
           "sequential": [
            [
             0,
             "#0d0887"
            ],
            [
             0.1111111111111111,
             "#46039f"
            ],
            [
             0.2222222222222222,
             "#7201a8"
            ],
            [
             0.3333333333333333,
             "#9c179e"
            ],
            [
             0.4444444444444444,
             "#bd3786"
            ],
            [
             0.5555555555555556,
             "#d8576b"
            ],
            [
             0.6666666666666666,
             "#ed7953"
            ],
            [
             0.7777777777777778,
             "#fb9f3a"
            ],
            [
             0.8888888888888888,
             "#fdca26"
            ],
            [
             1,
             "#f0f921"
            ]
           ],
           "sequentialminus": [
            [
             0,
             "#0d0887"
            ],
            [
             0.1111111111111111,
             "#46039f"
            ],
            [
             0.2222222222222222,
             "#7201a8"
            ],
            [
             0.3333333333333333,
             "#9c179e"
            ],
            [
             0.4444444444444444,
             "#bd3786"
            ],
            [
             0.5555555555555556,
             "#d8576b"
            ],
            [
             0.6666666666666666,
             "#ed7953"
            ],
            [
             0.7777777777777778,
             "#fb9f3a"
            ],
            [
             0.8888888888888888,
             "#fdca26"
            ],
            [
             1,
             "#f0f921"
            ]
           ]
          },
          "colorway": [
           "#636efa",
           "#EF553B",
           "#00cc96",
           "#ab63fa",
           "#FFA15A",
           "#19d3f3",
           "#FF6692",
           "#B6E880",
           "#FF97FF",
           "#FECB52"
          ],
          "font": {
           "color": "#2a3f5f"
          },
          "geo": {
           "bgcolor": "white",
           "lakecolor": "white",
           "landcolor": "#E5ECF6",
           "showlakes": true,
           "showland": true,
           "subunitcolor": "white"
          },
          "hoverlabel": {
           "align": "left"
          },
          "hovermode": "closest",
          "mapbox": {
           "style": "light"
          },
          "paper_bgcolor": "white",
          "plot_bgcolor": "#E5ECF6",
          "polar": {
           "angularaxis": {
            "gridcolor": "white",
            "linecolor": "white",
            "ticks": ""
           },
           "bgcolor": "#E5ECF6",
           "radialaxis": {
            "gridcolor": "white",
            "linecolor": "white",
            "ticks": ""
           }
          },
          "scene": {
           "xaxis": {
            "backgroundcolor": "#E5ECF6",
            "gridcolor": "white",
            "gridwidth": 2,
            "linecolor": "white",
            "showbackground": true,
            "ticks": "",
            "zerolinecolor": "white"
           },
           "yaxis": {
            "backgroundcolor": "#E5ECF6",
            "gridcolor": "white",
            "gridwidth": 2,
            "linecolor": "white",
            "showbackground": true,
            "ticks": "",
            "zerolinecolor": "white"
           },
           "zaxis": {
            "backgroundcolor": "#E5ECF6",
            "gridcolor": "white",
            "gridwidth": 2,
            "linecolor": "white",
            "showbackground": true,
            "ticks": "",
            "zerolinecolor": "white"
           }
          },
          "shapedefaults": {
           "line": {
            "color": "#2a3f5f"
           }
          },
          "ternary": {
           "aaxis": {
            "gridcolor": "white",
            "linecolor": "white",
            "ticks": ""
           },
           "baxis": {
            "gridcolor": "white",
            "linecolor": "white",
            "ticks": ""
           },
           "bgcolor": "#E5ECF6",
           "caxis": {
            "gridcolor": "white",
            "linecolor": "white",
            "ticks": ""
           }
          },
          "title": {
           "x": 0.05
          },
          "xaxis": {
           "automargin": true,
           "gridcolor": "white",
           "linecolor": "white",
           "ticks": "",
           "title": {
            "standoff": 15
           },
           "zerolinecolor": "white",
           "zerolinewidth": 2
          },
          "yaxis": {
           "automargin": true,
           "gridcolor": "white",
           "linecolor": "white",
           "ticks": "",
           "title": {
            "standoff": 15
           },
           "zerolinecolor": "white",
           "zerolinewidth": 2
          }
         }
        },
        "title": {
         "text": "Funding Levels in 2020"
        }
       }
      }
     },
     "metadata": {},
     "output_type": "display_data"
    },
    {
     "data": {
      "application/vnd.plotly.v1+json": {
       "config": {
        "plotlyServerURL": "https://plot.ly"
       },
       "data": [
        {
         "geo": "geo",
         "hovertemplate": "<b>%{hovertext}</b><br><br>country=AE<br>ecContribution_2024=%{marker.size}<br>locations=%{location}<extra></extra>",
         "hovertext": [
          "AE"
         ],
         "legendgroup": "AE",
         "locationmode": "ISO-3",
         "locations": [
          "ARE"
         ],
         "marker": {
          "color": "#636efa",
          "size": {
           "bdata": "AAAAAAAAAAA=",
           "dtype": "f8"
          },
          "sizemode": "area",
          "sizeref": 2857558.324432,
          "symbol": "circle"
         },
         "mode": "markers",
         "name": "AE",
         "showlegend": true,
         "type": "scattergeo"
        },
        {
         "geo": "geo",
         "hovertemplate": "<b>%{hovertext}</b><br><br>country=AF<br>ecContribution_2024=%{marker.size}<br>locations=%{location}<extra></extra>",
         "hovertext": [
          "AF"
         ],
         "legendgroup": "AF",
         "locationmode": "ISO-3",
         "locations": [
          "AFG"
         ],
         "marker": {
          "color": "#EF553B",
          "size": {
           "bdata": "AAAAAKBb/UA=",
           "dtype": "f8"
          },
          "sizemode": "area",
          "sizeref": 2857558.324432,
          "symbol": "circle"
         },
         "mode": "markers",
         "name": "AF",
         "showlegend": true,
         "type": "scattergeo"
        },
        {
         "geo": "geo",
         "hovertemplate": "<b>%{hovertext}</b><br><br>country=AI<br>ecContribution_2024=%{marker.size}<br>locations=%{location}<extra></extra>",
         "hovertext": [
          "AI"
         ],
         "legendgroup": "AI",
         "locationmode": "ISO-3",
         "locations": [
          "AIA"
         ],
         "marker": {
          "color": "#00cc96",
          "size": {
           "bdata": "AAAAAAAAAAA=",
           "dtype": "f8"
          },
          "sizemode": "area",
          "sizeref": 2857558.324432,
          "symbol": "circle"
         },
         "mode": "markers",
         "name": "AI",
         "showlegend": true,
         "type": "scattergeo"
        },
        {
         "geo": "geo",
         "hovertemplate": "<b>%{hovertext}</b><br><br>country=AL<br>ecContribution_2024=%{marker.size}<br>locations=%{location}<extra></extra>",
         "hovertext": [
          "AL"
         ],
         "legendgroup": "AL",
         "locationmode": "ISO-3",
         "locations": [
          "ALB"
         ],
         "marker": {
          "color": "#ab63fa",
          "size": {
           "bdata": "AAAAINB8WkE=",
           "dtype": "f8"
          },
          "sizemode": "area",
          "sizeref": 2857558.324432,
          "symbol": "circle"
         },
         "mode": "markers",
         "name": "AL",
         "showlegend": true,
         "type": "scattergeo"
        },
        {
         "geo": "geo",
         "hovertemplate": "<b>%{hovertext}</b><br><br>country=AM<br>ecContribution_2024=%{marker.size}<br>locations=%{location}<extra></extra>",
         "hovertext": [
          "AM"
         ],
         "legendgroup": "AM",
         "locationmode": "ISO-3",
         "locations": [
          "ARM"
         ],
         "marker": {
          "color": "#FFA15A",
          "size": {
           "bdata": "PgrXI260WkE=",
           "dtype": "f8"
          },
          "sizemode": "area",
          "sizeref": 2857558.324432,
          "symbol": "circle"
         },
         "mode": "markers",
         "name": "AM",
         "showlegend": true,
         "type": "scattergeo"
        },
        {
         "geo": "geo",
         "hovertemplate": "<b>%{hovertext}</b><br><br>country=AO<br>ecContribution_2024=%{marker.size}<br>locations=%{location}<extra></extra>",
         "hovertext": [
          "AO"
         ],
         "legendgroup": "AO",
         "locationmode": "ISO-3",
         "locations": [
          "AGO"
         ],
         "marker": {
          "color": "#19d3f3",
          "size": {
           "bdata": "AAAAAAAAAAA=",
           "dtype": "f8"
          },
          "sizemode": "area",
          "sizeref": 2857558.324432,
          "symbol": "circle"
         },
         "mode": "markers",
         "name": "AO",
         "showlegend": true,
         "type": "scattergeo"
        },
        {
         "geo": "geo",
         "hovertemplate": "<b>%{hovertext}</b><br><br>country=AR<br>ecContribution_2024=%{marker.size}<br>locations=%{location}<extra></extra>",
         "hovertext": [
          "AR"
         ],
         "legendgroup": "AR",
         "locationmode": "ISO-3",
         "locations": [
          "ARG"
         ],
         "marker": {
          "color": "#FF6692",
          "size": {
           "bdata": "AAAAQEd+NEE=",
           "dtype": "f8"
          },
          "sizemode": "area",
          "sizeref": 2857558.324432,
          "symbol": "circle"
         },
         "mode": "markers",
         "name": "AR",
         "showlegend": true,
         "type": "scattergeo"
        },
        {
         "geo": "geo",
         "hovertemplate": "<b>%{hovertext}</b><br><br>country=AT<br>ecContribution_2024=%{marker.size}<br>locations=%{location}<extra></extra>",
         "hovertext": [
          "AT"
         ],
         "legendgroup": "AT",
         "locationmode": "ISO-3",
         "locations": [
          "AUT"
         ],
         "marker": {
          "color": "#B6E880",
          "size": {
           "bdata": "mpm59yqz1EE=",
           "dtype": "f8"
          },
          "sizemode": "area",
          "sizeref": 2857558.324432,
          "symbol": "circle"
         },
         "mode": "markers",
         "name": "AT",
         "showlegend": true,
         "type": "scattergeo"
        },
        {
         "geo": "geo",
         "hovertemplate": "<b>%{hovertext}</b><br><br>country=AU<br>ecContribution_2024=%{marker.size}<br>locations=%{location}<extra></extra>",
         "hovertext": [
          "AU"
         ],
         "legendgroup": "AU",
         "locationmode": "ISO-3",
         "locations": [
          "AUS"
         ],
         "marker": {
          "color": "#FF97FF",
          "size": {
           "bdata": "uB6FGyk8XkE=",
           "dtype": "f8"
          },
          "sizemode": "area",
          "sizeref": 2857558.324432,
          "symbol": "circle"
         },
         "mode": "markers",
         "name": "AU",
         "showlegend": true,
         "type": "scattergeo"
        },
        {
         "geo": "geo",
         "hovertemplate": "<b>%{hovertext}</b><br><br>country=AW<br>ecContribution_2024=%{marker.size}<br>locations=%{location}<extra></extra>",
         "hovertext": [
          "AW"
         ],
         "legendgroup": "AW",
         "locationmode": "ISO-3",
         "locations": [
          "ABW"
         ],
         "marker": {
          "color": "#FECB52",
          "size": {
           "bdata": "AAAAALS9GkE=",
           "dtype": "f8"
          },
          "sizemode": "area",
          "sizeref": 2857558.324432,
          "symbol": "circle"
         },
         "mode": "markers",
         "name": "AW",
         "showlegend": true,
         "type": "scattergeo"
        },
        {
         "geo": "geo",
         "hovertemplate": "<b>%{hovertext}</b><br><br>country=AZ<br>ecContribution_2024=%{marker.size}<br>locations=%{location}<extra></extra>",
         "hovertext": [
          "AZ"
         ],
         "legendgroup": "AZ",
         "locationmode": "ISO-3",
         "locations": [
          "AZE"
         ],
         "marker": {
          "color": "#636efa",
          "size": {
           "bdata": "AAAAAEAj0kA=",
           "dtype": "f8"
          },
          "sizemode": "area",
          "sizeref": 2857558.324432,
          "symbol": "circle"
         },
         "mode": "markers",
         "name": "AZ",
         "showlegend": true,
         "type": "scattergeo"
        },
        {
         "geo": "geo",
         "hovertemplate": "<b>%{hovertext}</b><br><br>country=BA<br>ecContribution_2024=%{marker.size}<br>locations=%{location}<extra></extra>",
         "hovertext": [
          "BA"
         ],
         "legendgroup": "BA",
         "locationmode": "ISO-3",
         "locations": [
          "BIH"
         ],
         "marker": {
          "color": "#EF553B",
          "size": {
           "bdata": "9ihcd1s1YUE=",
           "dtype": "f8"
          },
          "sizemode": "area",
          "sizeref": 2857558.324432,
          "symbol": "circle"
         },
         "mode": "markers",
         "name": "BA",
         "showlegend": true,
         "type": "scattergeo"
        },
        {
         "geo": "geo",
         "hovertemplate": "<b>%{hovertext}</b><br><br>country=BD<br>ecContribution_2024=%{marker.size}<br>locations=%{location}<extra></extra>",
         "hovertext": [
          "BD"
         ],
         "legendgroup": "BD",
         "locationmode": "ISO-3",
         "locations": [
          "BGD"
         ],
         "marker": {
          "color": "#00cc96",
          "size": {
           "bdata": "AAAAQAoQQUE=",
           "dtype": "f8"
          },
          "sizemode": "area",
          "sizeref": 2857558.324432,
          "symbol": "circle"
         },
         "mode": "markers",
         "name": "BD",
         "showlegend": true,
         "type": "scattergeo"
        },
        {
         "geo": "geo",
         "hovertemplate": "<b>%{hovertext}</b><br><br>country=BE<br>ecContribution_2024=%{marker.size}<br>locations=%{location}<extra></extra>",
         "hovertext": [
          "BE"
         ],
         "legendgroup": "BE",
         "locationmode": "ISO-3",
         "locations": [
          "BEL"
         ],
         "marker": {
          "color": "#ab63fa",
          "size": {
           "bdata": "FK4PM1VK6UE=",
           "dtype": "f8"
          },
          "sizemode": "area",
          "sizeref": 2857558.324432,
          "symbol": "circle"
         },
         "mode": "markers",
         "name": "BE",
         "showlegend": true,
         "type": "scattergeo"
        },
        {
         "geo": "geo",
         "hovertemplate": "<b>%{hovertext}</b><br><br>country=BF<br>ecContribution_2024=%{marker.size}<br>locations=%{location}<extra></extra>",
         "hovertext": [
          "BF"
         ],
         "legendgroup": "BF",
         "locationmode": "ISO-3",
         "locations": [
          "BFA"
         ],
         "marker": {
          "color": "#FFA15A",
          "size": {
           "bdata": "16NwPeGjX0E=",
           "dtype": "f8"
          },
          "sizemode": "area",
          "sizeref": 2857558.324432,
          "symbol": "circle"
         },
         "mode": "markers",
         "name": "BF",
         "showlegend": true,
         "type": "scattergeo"
        },
        {
         "geo": "geo",
         "hovertemplate": "<b>%{hovertext}</b><br><br>country=BG<br>ecContribution_2024=%{marker.size}<br>locations=%{location}<extra></extra>",
         "hovertext": [
          "BG"
         ],
         "legendgroup": "BG",
         "locationmode": "ISO-3",
         "locations": [
          "BGR"
         ],
         "marker": {
          "color": "#19d3f3",
          "size": {
           "bdata": "exQu+t1zo0E=",
           "dtype": "f8"
          },
          "sizemode": "area",
          "sizeref": 2857558.324432,
          "symbol": "circle"
         },
         "mode": "markers",
         "name": "BG",
         "showlegend": true,
         "type": "scattergeo"
        },
        {
         "geo": "geo",
         "hovertemplate": "<b>%{hovertext}</b><br><br>country=BH<br>ecContribution_2024=%{marker.size}<br>locations=%{location}<extra></extra>",
         "hovertext": [
          "BH"
         ],
         "legendgroup": "BH",
         "locationmode": "ISO-3",
         "locations": [
          "BHR"
         ],
         "marker": {
          "color": "#FF6692",
          "size": {
           "bdata": "AAAAAAAAAAA=",
           "dtype": "f8"
          },
          "sizemode": "area",
          "sizeref": 2857558.324432,
          "symbol": "circle"
         },
         "mode": "markers",
         "name": "BH",
         "showlegend": true,
         "type": "scattergeo"
        },
        {
         "geo": "geo",
         "hovertemplate": "<b>%{hovertext}</b><br><br>country=BI<br>ecContribution_2024=%{marker.size}<br>locations=%{location}<extra></extra>",
         "hovertext": [
          "BI"
         ],
         "legendgroup": "BI",
         "locationmode": "ISO-3",
         "locations": [
          "BDI"
         ],
         "marker": {
          "color": "#B6E880",
          "size": {
           "bdata": "FK5HYS/cNkE=",
           "dtype": "f8"
          },
          "sizemode": "area",
          "sizeref": 2857558.324432,
          "symbol": "circle"
         },
         "mode": "markers",
         "name": "BI",
         "showlegend": true,
         "type": "scattergeo"
        },
        {
         "geo": "geo",
         "hovertemplate": "<b>%{hovertext}</b><br><br>country=BJ<br>ecContribution_2024=%{marker.size}<br>locations=%{location}<extra></extra>",
         "hovertext": [
          "BJ"
         ],
         "legendgroup": "BJ",
         "locationmode": "ISO-3",
         "locations": [
          "BEN"
         ],
         "marker": {
          "color": "#FF97FF",
          "size": {
           "bdata": "AAAAIEdYSEE=",
           "dtype": "f8"
          },
          "sizemode": "area",
          "sizeref": 2857558.324432,
          "symbol": "circle"
         },
         "mode": "markers",
         "name": "BJ",
         "showlegend": true,
         "type": "scattergeo"
        },
        {
         "geo": "geo",
         "hovertemplate": "<b>%{hovertext}</b><br><br>country=BO<br>ecContribution_2024=%{marker.size}<br>locations=%{location}<extra></extra>",
         "hovertext": [
          "BO"
         ],
         "legendgroup": "BO",
         "locationmode": "ISO-3",
         "locations": [
          "BOL"
         ],
         "marker": {
          "color": "#FECB52",
          "size": {
           "bdata": "AAAAAAAAAAA=",
           "dtype": "f8"
          },
          "sizemode": "area",
          "sizeref": 2857558.324432,
          "symbol": "circle"
         },
         "mode": "markers",
         "name": "BO",
         "showlegend": true,
         "type": "scattergeo"
        },
        {
         "geo": "geo",
         "hovertemplate": "<b>%{hovertext}</b><br><br>country=BQ<br>ecContribution_2024=%{marker.size}<br>locations=%{location}<extra></extra>",
         "hovertext": [
          "BQ"
         ],
         "legendgroup": "BQ",
         "locationmode": "ISO-3",
         "locations": [
          "BES"
         ],
         "marker": {
          "color": "#636efa",
          "size": {
           "bdata": "AAAAAKCFBkE=",
           "dtype": "f8"
          },
          "sizemode": "area",
          "sizeref": 2857558.324432,
          "symbol": "circle"
         },
         "mode": "markers",
         "name": "BQ",
         "showlegend": true,
         "type": "scattergeo"
        },
        {
         "geo": "geo",
         "hovertemplate": "<b>%{hovertext}</b><br><br>country=BR<br>ecContribution_2024=%{marker.size}<br>locations=%{location}<extra></extra>",
         "hovertext": [
          "BR"
         ],
         "legendgroup": "BR",
         "locationmode": "ISO-3",
         "locations": [
          "BRA"
         ],
         "marker": {
          "color": "#EF553B",
          "size": {
           "bdata": "MzMzs331N0E=",
           "dtype": "f8"
          },
          "sizemode": "area",
          "sizeref": 2857558.324432,
          "symbol": "circle"
         },
         "mode": "markers",
         "name": "BR",
         "showlegend": true,
         "type": "scattergeo"
        },
        {
         "geo": "geo",
         "hovertemplate": "<b>%{hovertext}</b><br><br>country=BW<br>ecContribution_2024=%{marker.size}<br>locations=%{location}<extra></extra>",
         "hovertext": [
          "BW"
         ],
         "legendgroup": "BW",
         "locationmode": "ISO-3",
         "locations": [
          "BWA"
         ],
         "marker": {
          "color": "#00cc96",
          "size": {
           "bdata": "zczMzDwWMEE=",
           "dtype": "f8"
          },
          "sizemode": "area",
          "sizeref": 2857558.324432,
          "symbol": "circle"
         },
         "mode": "markers",
         "name": "BW",
         "showlegend": true,
         "type": "scattergeo"
        },
        {
         "geo": "geo",
         "hovertemplate": "<b>%{hovertext}</b><br><br>country=BY<br>ecContribution_2024=%{marker.size}<br>locations=%{location}<extra></extra>",
         "hovertext": [
          "BY"
         ],
         "legendgroup": "BY",
         "locationmode": "ISO-3",
         "locations": [
          "BLR"
         ],
         "marker": {
          "color": "#ab63fa",
          "size": {
           "bdata": "AAAAAAAAAAA=",
           "dtype": "f8"
          },
          "sizemode": "area",
          "sizeref": 2857558.324432,
          "symbol": "circle"
         },
         "mode": "markers",
         "name": "BY",
         "showlegend": true,
         "type": "scattergeo"
        },
        {
         "geo": "geo",
         "hovertemplate": "<b>%{hovertext}</b><br><br>country=BZ<br>ecContribution_2024=%{marker.size}<br>locations=%{location}<extra></extra>",
         "hovertext": [
          "BZ"
         ],
         "legendgroup": "BZ",
         "locationmode": "ISO-3",
         "locations": [
          "BLZ"
         ],
         "marker": {
          "color": "#FFA15A",
          "size": {
           "bdata": "AAAAAAAAAAA=",
           "dtype": "f8"
          },
          "sizemode": "area",
          "sizeref": 2857558.324432,
          "symbol": "circle"
         },
         "mode": "markers",
         "name": "BZ",
         "showlegend": true,
         "type": "scattergeo"
        },
        {
         "geo": "geo",
         "hovertemplate": "<b>%{hovertext}</b><br><br>country=CA<br>ecContribution_2024=%{marker.size}<br>locations=%{location}<extra></extra>",
         "hovertext": [
          "CA"
         ],
         "legendgroup": "CA",
         "locationmode": "ISO-3",
         "locations": [
          "CAN"
         ],
         "marker": {
          "color": "#19d3f3",
          "size": {
           "bdata": "UrgeVSIlZEE=",
           "dtype": "f8"
          },
          "sizemode": "area",
          "sizeref": 2857558.324432,
          "symbol": "circle"
         },
         "mode": "markers",
         "name": "CA",
         "showlegend": true,
         "type": "scattergeo"
        },
        {
         "geo": "geo",
         "hovertemplate": "<b>%{hovertext}</b><br><br>country=CD<br>ecContribution_2024=%{marker.size}<br>locations=%{location}<extra></extra>",
         "hovertext": [
          "CD"
         ],
         "legendgroup": "CD",
         "locationmode": "ISO-3",
         "locations": [
          "COD"
         ],
         "marker": {
          "color": "#FF6692",
          "size": {
           "bdata": "pHA9qsnWbEE=",
           "dtype": "f8"
          },
          "sizemode": "area",
          "sizeref": 2857558.324432,
          "symbol": "circle"
         },
         "mode": "markers",
         "name": "CD",
         "showlegend": true,
         "type": "scattergeo"
        },
        {
         "geo": "geo",
         "hovertemplate": "<b>%{hovertext}</b><br><br>country=CG<br>ecContribution_2024=%{marker.size}<br>locations=%{location}<extra></extra>",
         "hovertext": [
          "CG"
         ],
         "legendgroup": "CG",
         "locationmode": "ISO-3",
         "locations": [
          "COG"
         ],
         "marker": {
          "color": "#B6E880",
          "size": {
           "bdata": "exSu5xzDR0E=",
           "dtype": "f8"
          },
          "sizemode": "area",
          "sizeref": 2857558.324432,
          "symbol": "circle"
         },
         "mode": "markers",
         "name": "CG",
         "showlegend": true,
         "type": "scattergeo"
        },
        {
         "geo": "geo",
         "hovertemplate": "<b>%{hovertext}</b><br><br>country=CH<br>ecContribution_2024=%{marker.size}<br>locations=%{location}<extra></extra>",
         "hovertext": [
          "CH"
         ],
         "legendgroup": "CH",
         "locationmode": "ISO-3",
         "locations": [
          "CHE"
         ],
         "marker": {
          "color": "#FF97FF",
          "size": {
           "bdata": "AAAAJqRlmEE=",
           "dtype": "f8"
          },
          "sizemode": "area",
          "sizeref": 2857558.324432,
          "symbol": "circle"
         },
         "mode": "markers",
         "name": "CH",
         "showlegend": true,
         "type": "scattergeo"
        },
        {
         "geo": "geo",
         "hovertemplate": "<b>%{hovertext}</b><br><br>country=CI<br>ecContribution_2024=%{marker.size}<br>locations=%{location}<extra></extra>",
         "hovertext": [
          "CI"
         ],
         "legendgroup": "CI",
         "locationmode": "ISO-3",
         "locations": [
          "CIV"
         ],
         "marker": {
          "color": "#FECB52",
          "size": {
           "bdata": "AAAAMH5HVEE=",
           "dtype": "f8"
          },
          "sizemode": "area",
          "sizeref": 2857558.324432,
          "symbol": "circle"
         },
         "mode": "markers",
         "name": "CI",
         "showlegend": true,
         "type": "scattergeo"
        },
        {
         "geo": "geo",
         "hovertemplate": "<b>%{hovertext}</b><br><br>country=CL<br>ecContribution_2024=%{marker.size}<br>locations=%{location}<extra></extra>",
         "hovertext": [
          "CL"
         ],
         "legendgroup": "CL",
         "locationmode": "ISO-3",
         "locations": [
          "CHL"
         ],
         "marker": {
          "color": "#636efa",
          "size": {
           "bdata": "AAAAAFPhNkE=",
           "dtype": "f8"
          },
          "sizemode": "area",
          "sizeref": 2857558.324432,
          "symbol": "circle"
         },
         "mode": "markers",
         "name": "CL",
         "showlegend": true,
         "type": "scattergeo"
        },
        {
         "geo": "geo",
         "hovertemplate": "<b>%{hovertext}</b><br><br>country=CM<br>ecContribution_2024=%{marker.size}<br>locations=%{location}<extra></extra>",
         "hovertext": [
          "CM"
         ],
         "legendgroup": "CM",
         "locationmode": "ISO-3",
         "locations": [
          "CMR"
         ],
         "marker": {
          "color": "#EF553B",
          "size": {
           "bdata": "FK5HIUcKU0E=",
           "dtype": "f8"
          },
          "sizemode": "area",
          "sizeref": 2857558.324432,
          "symbol": "circle"
         },
         "mode": "markers",
         "name": "CM",
         "showlegend": true,
         "type": "scattergeo"
        },
        {
         "geo": "geo",
         "hovertemplate": "<b>%{hovertext}</b><br><br>country=CN<br>ecContribution_2024=%{marker.size}<br>locations=%{location}<extra></extra>",
         "hovertext": [
          "CN"
         ],
         "legendgroup": "CN",
         "locationmode": "ISO-3",
         "locations": [
          "CHN"
         ],
         "marker": {
          "color": "#00cc96",
          "size": {
           "bdata": "AAAAAF7EHkE=",
           "dtype": "f8"
          },
          "sizemode": "area",
          "sizeref": 2857558.324432,
          "symbol": "circle"
         },
         "mode": "markers",
         "name": "CN",
         "showlegend": true,
         "type": "scattergeo"
        },
        {
         "geo": "geo",
         "hovertemplate": "<b>%{hovertext}</b><br><br>country=CO<br>ecContribution_2024=%{marker.size}<br>locations=%{location}<extra></extra>",
         "hovertext": [
          "CO"
         ],
         "legendgroup": "CO",
         "locationmode": "ISO-3",
         "locations": [
          "COL"
         ],
         "marker": {
          "color": "#ab63fa",
          "size": {
           "bdata": "UrgeVdirVEE=",
           "dtype": "f8"
          },
          "sizemode": "area",
          "sizeref": 2857558.324432,
          "symbol": "circle"
         },
         "mode": "markers",
         "name": "CO",
         "showlegend": true,
         "type": "scattergeo"
        },
        {
         "geo": "geo",
         "hovertemplate": "<b>%{hovertext}</b><br><br>country=CR<br>ecContribution_2024=%{marker.size}<br>locations=%{location}<extra></extra>",
         "hovertext": [
          "CR"
         ],
         "legendgroup": "CR",
         "locationmode": "ISO-3",
         "locations": [
          "CRI"
         ],
         "marker": {
          "color": "#FFA15A",
          "size": {
           "bdata": "AAAAQI93OEE=",
           "dtype": "f8"
          },
          "sizemode": "area",
          "sizeref": 2857558.324432,
          "symbol": "circle"
         },
         "mode": "markers",
         "name": "CR",
         "showlegend": true,
         "type": "scattergeo"
        },
        {
         "geo": "geo",
         "hovertemplate": "<b>%{hovertext}</b><br><br>country=CU<br>ecContribution_2024=%{marker.size}<br>locations=%{location}<extra></extra>",
         "hovertext": [
          "CU"
         ],
         "legendgroup": "CU",
         "locationmode": "ISO-3",
         "locations": [
          "CUB"
         ],
         "marker": {
          "color": "#19d3f3",
          "size": {
           "bdata": "AAAAAMAaxkA=",
           "dtype": "f8"
          },
          "sizemode": "area",
          "sizeref": 2857558.324432,
          "symbol": "circle"
         },
         "mode": "markers",
         "name": "CU",
         "showlegend": true,
         "type": "scattergeo"
        },
        {
         "geo": "geo",
         "hovertemplate": "<b>%{hovertext}</b><br><br>country=CV<br>ecContribution_2024=%{marker.size}<br>locations=%{location}<extra></extra>",
         "hovertext": [
          "CV"
         ],
         "legendgroup": "CV",
         "locationmode": "ISO-3",
         "locations": [
          "CPV"
         ],
         "marker": {
          "color": "#FF6692",
          "size": {
           "bdata": "AAAAYEqbQkE=",
           "dtype": "f8"
          },
          "sizemode": "area",
          "sizeref": 2857558.324432,
          "symbol": "circle"
         },
         "mode": "markers",
         "name": "CV",
         "showlegend": true,
         "type": "scattergeo"
        },
        {
         "geo": "geo",
         "hovertemplate": "<b>%{hovertext}</b><br><br>country=CY<br>ecContribution_2024=%{marker.size}<br>locations=%{location}<extra></extra>",
         "hovertext": [
          "CY"
         ],
         "legendgroup": "CY",
         "locationmode": "ISO-3",
         "locations": [
          "CYP"
         ],
         "marker": {
          "color": "#B6E880",
          "size": {
           "bdata": "pHB9t7PLsUE=",
           "dtype": "f8"
          },
          "sizemode": "area",
          "sizeref": 2857558.324432,
          "symbol": "circle"
         },
         "mode": "markers",
         "name": "CY",
         "showlegend": true,
         "type": "scattergeo"
        },
        {
         "geo": "geo",
         "hovertemplate": "<b>%{hovertext}</b><br><br>country=CZ<br>ecContribution_2024=%{marker.size}<br>locations=%{location}<extra></extra>",
         "hovertext": [
          "CZ"
         ],
         "legendgroup": "CZ",
         "locationmode": "ISO-3",
         "locations": [
          "CZE"
         ],
         "marker": {
          "color": "#FF97FF",
          "size": {
           "bdata": "exTuLkL8vEE=",
           "dtype": "f8"
          },
          "sizemode": "area",
          "sizeref": 2857558.324432,
          "symbol": "circle"
         },
         "mode": "markers",
         "name": "CZ",
         "showlegend": true,
         "type": "scattergeo"
        },
        {
         "geo": "geo",
         "hovertemplate": "<b>%{hovertext}</b><br><br>country=DE<br>ecContribution_2024=%{marker.size}<br>locations=%{location}<extra></extra>",
         "hovertext": [
          "DE"
         ],
         "legendgroup": "DE",
         "locationmode": "ISO-3",
         "locations": [
          "DEU"
         ],
         "marker": {
          "color": "#FECB52",
          "size": {
           "bdata": "rkcxMPOc+kE=",
           "dtype": "f8"
          },
          "sizemode": "area",
          "sizeref": 2857558.324432,
          "symbol": "circle"
         },
         "mode": "markers",
         "name": "DE",
         "showlegend": true,
         "type": "scattergeo"
        },
        {
         "geo": "geo",
         "hovertemplate": "<b>%{hovertext}</b><br><br>country=DJ<br>ecContribution_2024=%{marker.size}<br>locations=%{location}<extra></extra>",
         "hovertext": [
          "DJ"
         ],
         "legendgroup": "DJ",
         "locationmode": "ISO-3",
         "locations": [
          "DJI"
         ],
         "marker": {
          "color": "#636efa",
          "size": {
           "bdata": "AAAAAMgZ+UA=",
           "dtype": "f8"
          },
          "sizemode": "area",
          "sizeref": 2857558.324432,
          "symbol": "circle"
         },
         "mode": "markers",
         "name": "DJ",
         "showlegend": true,
         "type": "scattergeo"
        },
        {
         "geo": "geo",
         "hovertemplate": "<b>%{hovertext}</b><br><br>country=DK<br>ecContribution_2024=%{marker.size}<br>locations=%{location}<extra></extra>",
         "hovertext": [
          "DK"
         ],
         "legendgroup": "DK",
         "locationmode": "ISO-3",
         "locations": [
          "DNK"
         ],
         "marker": {
          "color": "#EF553B",
          "size": {
           "bdata": "MzPD5gCv0kE=",
           "dtype": "f8"
          },
          "sizemode": "area",
          "sizeref": 2857558.324432,
          "symbol": "circle"
         },
         "mode": "markers",
         "name": "DK",
         "showlegend": true,
         "type": "scattergeo"
        },
        {
         "geo": "geo",
         "hovertemplate": "<b>%{hovertext}</b><br><br>country=DO<br>ecContribution_2024=%{marker.size}<br>locations=%{location}<extra></extra>",
         "hovertext": [
          "DO"
         ],
         "legendgroup": "DO",
         "locationmode": "ISO-3",
         "locations": [
          "DOM"
         ],
         "marker": {
          "color": "#00cc96",
          "size": {
           "bdata": "AAAAAAAAAAA=",
           "dtype": "f8"
          },
          "sizemode": "area",
          "sizeref": 2857558.324432,
          "symbol": "circle"
         },
         "mode": "markers",
         "name": "DO",
         "showlegend": true,
         "type": "scattergeo"
        },
        {
         "geo": "geo",
         "hovertemplate": "<b>%{hovertext}</b><br><br>country=DZ<br>ecContribution_2024=%{marker.size}<br>locations=%{location}<extra></extra>",
         "hovertext": [
          "DZ"
         ],
         "legendgroup": "DZ",
         "locationmode": "ISO-3",
         "locations": [
          "DZA"
         ],
         "marker": {
          "color": "#ab63fa",
          "size": {
           "bdata": "MzMzs+rSKUE=",
           "dtype": "f8"
          },
          "sizemode": "area",
          "sizeref": 2857558.324432,
          "symbol": "circle"
         },
         "mode": "markers",
         "name": "DZ",
         "showlegend": true,
         "type": "scattergeo"
        },
        {
         "geo": "geo",
         "hovertemplate": "<b>%{hovertext}</b><br><br>country=EC<br>ecContribution_2024=%{marker.size}<br>locations=%{location}<extra></extra>",
         "hovertext": [
          "EC"
         ],
         "legendgroup": "EC",
         "locationmode": "ISO-3",
         "locations": [
          "ECU"
         ],
         "marker": {
          "color": "#FFA15A",
          "size": {
           "bdata": "AAAAAHi2HkE=",
           "dtype": "f8"
          },
          "sizemode": "area",
          "sizeref": 2857558.324432,
          "symbol": "circle"
         },
         "mode": "markers",
         "name": "EC",
         "showlegend": true,
         "type": "scattergeo"
        },
        {
         "geo": "geo",
         "hovertemplate": "<b>%{hovertext}</b><br><br>country=EE<br>ecContribution_2024=%{marker.size}<br>locations=%{location}<extra></extra>",
         "hovertext": [
          "EE"
         ],
         "legendgroup": "EE",
         "locationmode": "ISO-3",
         "locations": [
          "EST"
         ],
         "marker": {
          "color": "#19d3f3",
          "size": {
           "bdata": "UrgetoB6rkE=",
           "dtype": "f8"
          },
          "sizemode": "area",
          "sizeref": 2857558.324432,
          "symbol": "circle"
         },
         "mode": "markers",
         "name": "EE",
         "showlegend": true,
         "type": "scattergeo"
        },
        {
         "geo": "geo",
         "hovertemplate": "<b>%{hovertext}</b><br><br>country=EG<br>ecContribution_2024=%{marker.size}<br>locations=%{location}<extra></extra>",
         "hovertext": [
          "EG"
         ],
         "legendgroup": "EG",
         "locationmode": "ISO-3",
         "locations": [
          "EGY"
         ],
         "marker": {
          "color": "#FF6692",
          "size": {
           "bdata": "exSuN+CrU0E=",
           "dtype": "f8"
          },
          "sizemode": "area",
          "sizeref": 2857558.324432,
          "symbol": "circle"
         },
         "mode": "markers",
         "name": "EG",
         "showlegend": true,
         "type": "scattergeo"
        },
        {
         "geo": "geo",
         "hovertemplate": "<b>%{hovertext}</b><br><br>country=EL<br>ecContribution_2024=%{marker.size}<br>locations=%{location}<extra></extra>",
         "hovertext": [
          "EL"
         ],
         "legendgroup": "EL",
         "locationmode": "ISO-3",
         "locations": [
          null
         ],
         "marker": {
          "color": "#B6E880",
          "size": {
           "bdata": "AADwOTT+2EE=",
           "dtype": "f8"
          },
          "sizemode": "area",
          "sizeref": 2857558.324432,
          "symbol": "circle"
         },
         "mode": "markers",
         "name": "EL",
         "showlegend": true,
         "type": "scattergeo"
        },
        {
         "geo": "geo",
         "hovertemplate": "<b>%{hovertext}</b><br><br>country=ES<br>ecContribution_2024=%{marker.size}<br>locations=%{location}<extra></extra>",
         "hovertext": [
          "ES"
         ],
         "legendgroup": "ES",
         "locationmode": "ISO-3",
         "locations": [
          "ESP"
         ],
         "marker": {
          "color": "#FF97FF",
          "size": {
           "bdata": "16Ogw+Xb8EE=",
           "dtype": "f8"
          },
          "sizemode": "area",
          "sizeref": 2857558.324432,
          "symbol": "circle"
         },
         "mode": "markers",
         "name": "ES",
         "showlegend": true,
         "type": "scattergeo"
        },
        {
         "geo": "geo",
         "hovertemplate": "<b>%{hovertext}</b><br><br>country=ET<br>ecContribution_2024=%{marker.size}<br>locations=%{location}<extra></extra>",
         "hovertext": [
          "ET"
         ],
         "legendgroup": "ET",
         "locationmode": "ISO-3",
         "locations": [
          "ETH"
         ],
         "marker": {
          "color": "#FECB52",
          "size": {
           "bdata": "uB6FI0R3bEE=",
           "dtype": "f8"
          },
          "sizemode": "area",
          "sizeref": 2857558.324432,
          "symbol": "circle"
         },
         "mode": "markers",
         "name": "ET",
         "showlegend": true,
         "type": "scattergeo"
        },
        {
         "geo": "geo",
         "hovertemplate": "<b>%{hovertext}</b><br><br>country=FI<br>ecContribution_2024=%{marker.size}<br>locations=%{location}<extra></extra>",
         "hovertext": [
          "FI"
         ],
         "legendgroup": "FI",
         "locationmode": "ISO-3",
         "locations": [
          "FIN"
         ],
         "marker": {
          "color": "#636efa",
          "size": {
           "bdata": "FK6HbIiI0kE=",
           "dtype": "f8"
          },
          "sizemode": "area",
          "sizeref": 2857558.324432,
          "symbol": "circle"
         },
         "mode": "markers",
         "name": "FI",
         "showlegend": true,
         "type": "scattergeo"
        },
        {
         "geo": "geo",
         "hovertemplate": "<b>%{hovertext}</b><br><br>country=FO<br>ecContribution_2024=%{marker.size}<br>locations=%{location}<extra></extra>",
         "hovertext": [
          "FO"
         ],
         "legendgroup": "FO",
         "locationmode": "ISO-3",
         "locations": [
          "FRO"
         ],
         "marker": {
          "color": "#EF553B",
          "size": {
           "bdata": "kML1yHqXTEE=",
           "dtype": "f8"
          },
          "sizemode": "area",
          "sizeref": 2857558.324432,
          "symbol": "circle"
         },
         "mode": "markers",
         "name": "FO",
         "showlegend": true,
         "type": "scattergeo"
        },
        {
         "geo": "geo",
         "hovertemplate": "<b>%{hovertext}</b><br><br>country=FR<br>ecContribution_2024=%{marker.size}<br>locations=%{location}<extra></extra>",
         "hovertext": [
          "FR"
         ],
         "legendgroup": "FR",
         "locationmode": "ISO-3",
         "locations": [
          "FRA"
         ],
         "marker": {
          "color": "#00cc96",
          "size": {
           "bdata": "H4VznLGl8kE=",
           "dtype": "f8"
          },
          "sizemode": "area",
          "sizeref": 2857558.324432,
          "symbol": "circle"
         },
         "mode": "markers",
         "name": "FR",
         "showlegend": true,
         "type": "scattergeo"
        },
        {
         "geo": "geo",
         "hovertemplate": "<b>%{hovertext}</b><br><br>country=GA<br>ecContribution_2024=%{marker.size}<br>locations=%{location}<extra></extra>",
         "hovertext": [
          "GA"
         ],
         "legendgroup": "GA",
         "locationmode": "ISO-3",
         "locations": [
          "GAB"
         ],
         "marker": {
          "color": "#ab63fa",
          "size": {
           "bdata": "uB6Fa0bSUkE=",
           "dtype": "f8"
          },
          "sizemode": "area",
          "sizeref": 2857558.324432,
          "symbol": "circle"
         },
         "mode": "markers",
         "name": "GA",
         "showlegend": true,
         "type": "scattergeo"
        },
        {
         "geo": "geo",
         "hovertemplate": "<b>%{hovertext}</b><br><br>country=GD<br>ecContribution_2024=%{marker.size}<br>locations=%{location}<extra></extra>",
         "hovertext": [
          "GD"
         ],
         "legendgroup": "GD",
         "locationmode": "ISO-3",
         "locations": [
          "GRD"
         ],
         "marker": {
          "color": "#FFA15A",
          "size": {
           "bdata": "AAAAAAAAAAA=",
           "dtype": "f8"
          },
          "sizemode": "area",
          "sizeref": 2857558.324432,
          "symbol": "circle"
         },
         "mode": "markers",
         "name": "GD",
         "showlegend": true,
         "type": "scattergeo"
        },
        {
         "geo": "geo",
         "hovertemplate": "<b>%{hovertext}</b><br><br>country=GE<br>ecContribution_2024=%{marker.size}<br>locations=%{location}<extra></extra>",
         "hovertext": [
          "GE"
         ],
         "legendgroup": "GE",
         "locationmode": "ISO-3",
         "locations": [
          "GEO"
         ],
         "marker": {
          "color": "#19d3f3",
          "size": {
           "bdata": "H4XrMcTzVUE=",
           "dtype": "f8"
          },
          "sizemode": "area",
          "sizeref": 2857558.324432,
          "symbol": "circle"
         },
         "mode": "markers",
         "name": "GE",
         "showlegend": true,
         "type": "scattergeo"
        },
        {
         "geo": "geo",
         "hovertemplate": "<b>%{hovertext}</b><br><br>country=GH<br>ecContribution_2024=%{marker.size}<br>locations=%{location}<extra></extra>",
         "hovertext": [
          "GH"
         ],
         "legendgroup": "GH",
         "locationmode": "ISO-3",
         "locations": [
          "GHA"
         ],
         "marker": {
          "color": "#FF6692",
          "size": {
           "bdata": "H4XrXe2GcEE=",
           "dtype": "f8"
          },
          "sizemode": "area",
          "sizeref": 2857558.324432,
          "symbol": "circle"
         },
         "mode": "markers",
         "name": "GH",
         "showlegend": true,
         "type": "scattergeo"
        },
        {
         "geo": "geo",
         "hovertemplate": "<b>%{hovertext}</b><br><br>country=GI<br>ecContribution_2024=%{marker.size}<br>locations=%{location}<extra></extra>",
         "hovertext": [
          "GI"
         ],
         "legendgroup": "GI",
         "locationmode": "ISO-3",
         "locations": [
          "GIB"
         ],
         "marker": {
          "color": "#B6E880",
          "size": {
           "bdata": "AAAAAAAAAAA=",
           "dtype": "f8"
          },
          "sizemode": "area",
          "sizeref": 2857558.324432,
          "symbol": "circle"
         },
         "mode": "markers",
         "name": "GI",
         "showlegend": true,
         "type": "scattergeo"
        },
        {
         "geo": "geo",
         "hovertemplate": "<b>%{hovertext}</b><br><br>country=GL<br>ecContribution_2024=%{marker.size}<br>locations=%{location}<extra></extra>",
         "hovertext": [
          "GL"
         ],
         "legendgroup": "GL",
         "locationmode": "ISO-3",
         "locations": [
          "GRL"
         ],
         "marker": {
          "color": "#FF97FF",
          "size": {
           "bdata": "uB6FayX5R0E=",
           "dtype": "f8"
          },
          "sizemode": "area",
          "sizeref": 2857558.324432,
          "symbol": "circle"
         },
         "mode": "markers",
         "name": "GL",
         "showlegend": true,
         "type": "scattergeo"
        },
        {
         "geo": "geo",
         "hovertemplate": "<b>%{hovertext}</b><br><br>country=GM<br>ecContribution_2024=%{marker.size}<br>locations=%{location}<extra></extra>",
         "hovertext": [
          "GM"
         ],
         "legendgroup": "GM",
         "locationmode": "ISO-3",
         "locations": [
          "GMB"
         ],
         "marker": {
          "color": "#FECB52",
          "size": {
           "bdata": "AAAAAAyYIEE=",
           "dtype": "f8"
          },
          "sizemode": "area",
          "sizeref": 2857558.324432,
          "symbol": "circle"
         },
         "mode": "markers",
         "name": "GM",
         "showlegend": true,
         "type": "scattergeo"
        },
        {
         "geo": "geo",
         "hovertemplate": "<b>%{hovertext}</b><br><br>country=GN<br>ecContribution_2024=%{marker.size}<br>locations=%{location}<extra></extra>",
         "hovertext": [
          "GN"
         ],
         "legendgroup": "GN",
         "locationmode": "ISO-3",
         "locations": [
          "GIN"
         ],
         "marker": {
          "color": "#636efa",
          "size": {
           "bdata": "AAAAIN0pQEE=",
           "dtype": "f8"
          },
          "sizemode": "area",
          "sizeref": 2857558.324432,
          "symbol": "circle"
         },
         "mode": "markers",
         "name": "GN",
         "showlegend": true,
         "type": "scattergeo"
        },
        {
         "geo": "geo",
         "hovertemplate": "<b>%{hovertext}</b><br><br>country=GT<br>ecContribution_2024=%{marker.size}<br>locations=%{location}<extra></extra>",
         "hovertext": [
          "GT"
         ],
         "legendgroup": "GT",
         "locationmode": "ISO-3",
         "locations": [
          "GTM"
         ],
         "marker": {
          "color": "#EF553B",
          "size": {
           "bdata": "AAAAAN6qHEE=",
           "dtype": "f8"
          },
          "sizemode": "area",
          "sizeref": 2857558.324432,
          "symbol": "circle"
         },
         "mode": "markers",
         "name": "GT",
         "showlegend": true,
         "type": "scattergeo"
        },
        {
         "geo": "geo",
         "hovertemplate": "<b>%{hovertext}</b><br><br>country=GW<br>ecContribution_2024=%{marker.size}<br>locations=%{location}<extra></extra>",
         "hovertext": [
          "GW"
         ],
         "legendgroup": "GW",
         "locationmode": "ISO-3",
         "locations": [
          "GNB"
         ],
         "marker": {
          "color": "#00cc96",
          "size": {
           "bdata": "AAAAAAAAAAA=",
           "dtype": "f8"
          },
          "sizemode": "area",
          "sizeref": 2857558.324432,
          "symbol": "circle"
         },
         "mode": "markers",
         "name": "GW",
         "showlegend": true,
         "type": "scattergeo"
        },
        {
         "geo": "geo",
         "hovertemplate": "<b>%{hovertext}</b><br><br>country=HK<br>ecContribution_2024=%{marker.size}<br>locations=%{location}<extra></extra>",
         "hovertext": [
          "HK"
         ],
         "legendgroup": "HK",
         "locationmode": "ISO-3",
         "locations": [
          "HKG"
         ],
         "marker": {
          "color": "#ab63fa",
          "size": {
           "bdata": "AAAAAAAAAAA=",
           "dtype": "f8"
          },
          "sizemode": "area",
          "sizeref": 2857558.324432,
          "symbol": "circle"
         },
         "mode": "markers",
         "name": "HK",
         "showlegend": true,
         "type": "scattergeo"
        },
        {
         "geo": "geo",
         "hovertemplate": "<b>%{hovertext}</b><br><br>country=HN<br>ecContribution_2024=%{marker.size}<br>locations=%{location}<extra></extra>",
         "hovertext": [
          "HN"
         ],
         "legendgroup": "HN",
         "locationmode": "ISO-3",
         "locations": [
          "HND"
         ],
         "marker": {
          "color": "#FFA15A",
          "size": {
           "bdata": "AAAAAAAAAAA=",
           "dtype": "f8"
          },
          "sizemode": "area",
          "sizeref": 2857558.324432,
          "symbol": "circle"
         },
         "mode": "markers",
         "name": "HN",
         "showlegend": true,
         "type": "scattergeo"
        },
        {
         "geo": "geo",
         "hovertemplate": "<b>%{hovertext}</b><br><br>country=HR<br>ecContribution_2024=%{marker.size}<br>locations=%{location}<extra></extra>",
         "hovertext": [
          "HR"
         ],
         "legendgroup": "HR",
         "locationmode": "ISO-3",
         "locations": [
          "HRV"
         ],
         "marker": {
          "color": "#19d3f3",
          "size": {
           "bdata": "wvUoDhten0E=",
           "dtype": "f8"
          },
          "sizemode": "area",
          "sizeref": 2857558.324432,
          "symbol": "circle"
         },
         "mode": "markers",
         "name": "HR",
         "showlegend": true,
         "type": "scattergeo"
        },
        {
         "geo": "geo",
         "hovertemplate": "<b>%{hovertext}</b><br><br>country=HT<br>ecContribution_2024=%{marker.size}<br>locations=%{location}<extra></extra>",
         "hovertext": [
          "HT"
         ],
         "legendgroup": "HT",
         "locationmode": "ISO-3",
         "locations": [
          "HTI"
         ],
         "marker": {
          "color": "#FF6692",
          "size": {
           "bdata": "AAAAAIAxB0E=",
           "dtype": "f8"
          },
          "sizemode": "area",
          "sizeref": 2857558.324432,
          "symbol": "circle"
         },
         "mode": "markers",
         "name": "HT",
         "showlegend": true,
         "type": "scattergeo"
        },
        {
         "geo": "geo",
         "hovertemplate": "<b>%{hovertext}</b><br><br>country=HU<br>ecContribution_2024=%{marker.size}<br>locations=%{location}<extra></extra>",
         "hovertext": [
          "HU"
         ],
         "legendgroup": "HU",
         "locationmode": "ISO-3",
         "locations": [
          "HUN"
         ],
         "marker": {
          "color": "#B6E880",
          "size": {
           "bdata": "7FG4zqxWp0E=",
           "dtype": "f8"
          },
          "sizemode": "area",
          "sizeref": 2857558.324432,
          "symbol": "circle"
         },
         "mode": "markers",
         "name": "HU",
         "showlegend": true,
         "type": "scattergeo"
        },
        {
         "geo": "geo",
         "hovertemplate": "<b>%{hovertext}</b><br><br>country=ID<br>ecContribution_2024=%{marker.size}<br>locations=%{location}<extra></extra>",
         "hovertext": [
          "ID"
         ],
         "legendgroup": "ID",
         "locationmode": "ISO-3",
         "locations": [
          "IDN"
         ],
         "marker": {
          "color": "#FF97FF",
          "size": {
           "bdata": "AAAAAF43EEE=",
           "dtype": "f8"
          },
          "sizemode": "area",
          "sizeref": 2857558.324432,
          "symbol": "circle"
         },
         "mode": "markers",
         "name": "ID",
         "showlegend": true,
         "type": "scattergeo"
        },
        {
         "geo": "geo",
         "hovertemplate": "<b>%{hovertext}</b><br><br>country=IE<br>ecContribution_2024=%{marker.size}<br>locations=%{location}<extra></extra>",
         "hovertext": [
          "IE"
         ],
         "legendgroup": "IE",
         "locationmode": "ISO-3",
         "locations": [
          "IRL"
         ],
         "marker": {
          "color": "#FECB52",
          "size": {
           "bdata": "7FE4tOCuykE=",
           "dtype": "f8"
          },
          "sizemode": "area",
          "sizeref": 2857558.324432,
          "symbol": "circle"
         },
         "mode": "markers",
         "name": "IE",
         "showlegend": true,
         "type": "scattergeo"
        },
        {
         "geo": "geo",
         "hovertemplate": "<b>%{hovertext}</b><br><br>country=IL<br>ecContribution_2024=%{marker.size}<br>locations=%{location}<extra></extra>",
         "hovertext": [
          "IL"
         ],
         "legendgroup": "IL",
         "locationmode": "ISO-3",
         "locations": [
          "ISR"
         ],
         "marker": {
          "color": "#636efa",
          "size": {
           "bdata": "UrgeZipGyEE=",
           "dtype": "f8"
          },
          "sizemode": "area",
          "sizeref": 2857558.324432,
          "symbol": "circle"
         },
         "mode": "markers",
         "name": "IL",
         "showlegend": true,
         "type": "scattergeo"
        },
        {
         "geo": "geo",
         "hovertemplate": "<b>%{hovertext}</b><br><br>country=IN<br>ecContribution_2024=%{marker.size}<br>locations=%{location}<extra></extra>",
         "hovertext": [
          "IN"
         ],
         "legendgroup": "IN",
         "locationmode": "ISO-3",
         "locations": [
          "IND"
         ],
         "marker": {
          "color": "#EF553B",
          "size": {
           "bdata": "16Nw/ZYpP0E=",
           "dtype": "f8"
          },
          "sizemode": "area",
          "sizeref": 2857558.324432,
          "symbol": "circle"
         },
         "mode": "markers",
         "name": "IN",
         "showlegend": true,
         "type": "scattergeo"
        },
        {
         "geo": "geo",
         "hovertemplate": "<b>%{hovertext}</b><br><br>country=IQ<br>ecContribution_2024=%{marker.size}<br>locations=%{location}<extra></extra>",
         "hovertext": [
          "IQ"
         ],
         "legendgroup": "IQ",
         "locationmode": "ISO-3",
         "locations": [
          "IRQ"
         ],
         "marker": {
          "color": "#00cc96",
          "size": {
           "bdata": "AAAAAIiDB0E=",
           "dtype": "f8"
          },
          "sizemode": "area",
          "sizeref": 2857558.324432,
          "symbol": "circle"
         },
         "mode": "markers",
         "name": "IQ",
         "showlegend": true,
         "type": "scattergeo"
        },
        {
         "geo": "geo",
         "hovertemplate": "<b>%{hovertext}</b><br><br>country=IR<br>ecContribution_2024=%{marker.size}<br>locations=%{location}<extra></extra>",
         "hovertext": [
          "IR"
         ],
         "legendgroup": "IR",
         "locationmode": "ISO-3",
         "locations": [
          "IRN"
         ],
         "marker": {
          "color": "#ab63fa",
          "size": {
           "bdata": "AAAAAGR2C0E=",
           "dtype": "f8"
          },
          "sizemode": "area",
          "sizeref": 2857558.324432,
          "symbol": "circle"
         },
         "mode": "markers",
         "name": "IR",
         "showlegend": true,
         "type": "scattergeo"
        },
        {
         "geo": "geo",
         "hovertemplate": "<b>%{hovertext}</b><br><br>country=IS<br>ecContribution_2024=%{marker.size}<br>locations=%{location}<extra></extra>",
         "hovertext": [
          "IS"
         ],
         "legendgroup": "IS",
         "locationmode": "ISO-3",
         "locations": [
          "ISL"
         ],
         "marker": {
          "color": "#FFA15A",
          "size": {
           "bdata": "4XoUBtVvjUE=",
           "dtype": "f8"
          },
          "sizemode": "area",
          "sizeref": 2857558.324432,
          "symbol": "circle"
         },
         "mode": "markers",
         "name": "IS",
         "showlegend": true,
         "type": "scattergeo"
        },
        {
         "geo": "geo",
         "hovertemplate": "<b>%{hovertext}</b><br><br>country=IT<br>ecContribution_2024=%{marker.size}<br>locations=%{location}<extra></extra>",
         "hovertext": [
          "IT"
         ],
         "legendgroup": "IT",
         "locationmode": "ISO-3",
         "locations": [
          "ITA"
         ],
         "marker": {
          "color": "#19d3f3",
          "size": {
           "bdata": "SOHaQtZk7EE=",
           "dtype": "f8"
          },
          "sizemode": "area",
          "sizeref": 2857558.324432,
          "symbol": "circle"
         },
         "mode": "markers",
         "name": "IT",
         "showlegend": true,
         "type": "scattergeo"
        },
        {
         "geo": "geo",
         "hovertemplate": "<b>%{hovertext}</b><br><br>country=JE<br>ecContribution_2024=%{marker.size}<br>locations=%{location}<extra></extra>",
         "hovertext": [
          "JE"
         ],
         "legendgroup": "JE",
         "locationmode": "ISO-3",
         "locations": [
          "JEY"
         ],
         "marker": {
          "color": "#FF6692",
          "size": {
           "bdata": "AAAAAAAAAAA=",
           "dtype": "f8"
          },
          "sizemode": "area",
          "sizeref": 2857558.324432,
          "symbol": "circle"
         },
         "mode": "markers",
         "name": "JE",
         "showlegend": true,
         "type": "scattergeo"
        },
        {
         "geo": "geo",
         "hovertemplate": "<b>%{hovertext}</b><br><br>country=JM<br>ecContribution_2024=%{marker.size}<br>locations=%{location}<extra></extra>",
         "hovertext": [
          "JM"
         ],
         "legendgroup": "JM",
         "locationmode": "ISO-3",
         "locations": [
          "JAM"
         ],
         "marker": {
          "color": "#B6E880",
          "size": {
           "bdata": "AAAAAAAAAAA=",
           "dtype": "f8"
          },
          "sizemode": "area",
          "sizeref": 2857558.324432,
          "symbol": "circle"
         },
         "mode": "markers",
         "name": "JM",
         "showlegend": true,
         "type": "scattergeo"
        },
        {
         "geo": "geo",
         "hovertemplate": "<b>%{hovertext}</b><br><br>country=JO<br>ecContribution_2024=%{marker.size}<br>locations=%{location}<extra></extra>",
         "hovertext": [
          "JO"
         ],
         "legendgroup": "JO",
         "locationmode": "ISO-3",
         "locations": [
          "JOR"
         ],
         "marker": {
          "color": "#FF97FF",
          "size": {
           "bdata": "AAAAgDopN0E=",
           "dtype": "f8"
          },
          "sizemode": "area",
          "sizeref": 2857558.324432,
          "symbol": "circle"
         },
         "mode": "markers",
         "name": "JO",
         "showlegend": true,
         "type": "scattergeo"
        },
        {
         "geo": "geo",
         "hovertemplate": "<b>%{hovertext}</b><br><br>country=JP<br>ecContribution_2024=%{marker.size}<br>locations=%{location}<extra></extra>",
         "hovertext": [
          "JP"
         ],
         "legendgroup": "JP",
         "locationmode": "ISO-3",
         "locations": [
          "JPN"
         ],
         "marker": {
          "color": "#FECB52",
          "size": {
           "bdata": "FK5HYdyDM0E=",
           "dtype": "f8"
          },
          "sizemode": "area",
          "sizeref": 2857558.324432,
          "symbol": "circle"
         },
         "mode": "markers",
         "name": "JP",
         "showlegend": true,
         "type": "scattergeo"
        },
        {
         "geo": "geo",
         "hovertemplate": "<b>%{hovertext}</b><br><br>country=KE<br>ecContribution_2024=%{marker.size}<br>locations=%{location}<extra></extra>",
         "hovertext": [
          "KE"
         ],
         "legendgroup": "KE",
         "locationmode": "ISO-3",
         "locations": [
          "KEN"
         ],
         "marker": {
          "color": "#636efa",
          "size": {
           "bdata": "CtejikubgkE=",
           "dtype": "f8"
          },
          "sizemode": "area",
          "sizeref": 2857558.324432,
          "symbol": "circle"
         },
         "mode": "markers",
         "name": "KE",
         "showlegend": true,
         "type": "scattergeo"
        },
        {
         "geo": "geo",
         "hovertemplate": "<b>%{hovertext}</b><br><br>country=KG<br>ecContribution_2024=%{marker.size}<br>locations=%{location}<extra></extra>",
         "hovertext": [
          "KG"
         ],
         "legendgroup": "KG",
         "locationmode": "ISO-3",
         "locations": [
          "KGZ"
         ],
         "marker": {
          "color": "#EF553B",
          "size": {
           "bdata": "AAAAANzAF0E=",
           "dtype": "f8"
          },
          "sizemode": "area",
          "sizeref": 2857558.324432,
          "symbol": "circle"
         },
         "mode": "markers",
         "name": "KG",
         "showlegend": true,
         "type": "scattergeo"
        },
        {
         "geo": "geo",
         "hovertemplate": "<b>%{hovertext}</b><br><br>country=KH<br>ecContribution_2024=%{marker.size}<br>locations=%{location}<extra></extra>",
         "hovertext": [
          "KH"
         ],
         "legendgroup": "KH",
         "locationmode": "ISO-3",
         "locations": [
          "KHM"
         ],
         "marker": {
          "color": "#00cc96",
          "size": {
           "bdata": "AAAAgD8cNUE=",
           "dtype": "f8"
          },
          "sizemode": "area",
          "sizeref": 2857558.324432,
          "symbol": "circle"
         },
         "mode": "markers",
         "name": "KH",
         "showlegend": true,
         "type": "scattergeo"
        },
        {
         "geo": "geo",
         "hovertemplate": "<b>%{hovertext}</b><br><br>country=KR<br>ecContribution_2024=%{marker.size}<br>locations=%{location}<extra></extra>",
         "hovertext": [
          "KR"
         ],
         "legendgroup": "KR",
         "locationmode": "ISO-3",
         "locations": [
          "KOR"
         ],
         "marker": {
          "color": "#ab63fa",
          "size": {
           "bdata": "AAAAINlqSUE=",
           "dtype": "f8"
          },
          "sizemode": "area",
          "sizeref": 2857558.324432,
          "symbol": "circle"
         },
         "mode": "markers",
         "name": "KR",
         "showlegend": true,
         "type": "scattergeo"
        },
        {
         "geo": "geo",
         "hovertemplate": "<b>%{hovertext}</b><br><br>country=KW<br>ecContribution_2024=%{marker.size}<br>locations=%{location}<extra></extra>",
         "hovertext": [
          "KW"
         ],
         "legendgroup": "KW",
         "locationmode": "ISO-3",
         "locations": [
          "KWT"
         ],
         "marker": {
          "color": "#FFA15A",
          "size": {
           "bdata": "AAAAAAAAAAA=",
           "dtype": "f8"
          },
          "sizemode": "area",
          "sizeref": 2857558.324432,
          "symbol": "circle"
         },
         "mode": "markers",
         "name": "KW",
         "showlegend": true,
         "type": "scattergeo"
        },
        {
         "geo": "geo",
         "hovertemplate": "<b>%{hovertext}</b><br><br>country=KZ<br>ecContribution_2024=%{marker.size}<br>locations=%{location}<extra></extra>",
         "hovertext": [
          "KZ"
         ],
         "legendgroup": "KZ",
         "locationmode": "ISO-3",
         "locations": [
          "KAZ"
         ],
         "marker": {
          "color": "#19d3f3",
          "size": {
           "bdata": "AAAAANCb4UA=",
           "dtype": "f8"
          },
          "sizemode": "area",
          "sizeref": 2857558.324432,
          "symbol": "circle"
         },
         "mode": "markers",
         "name": "KZ",
         "showlegend": true,
         "type": "scattergeo"
        },
        {
         "geo": "geo",
         "hovertemplate": "<b>%{hovertext}</b><br><br>country=LB<br>ecContribution_2024=%{marker.size}<br>locations=%{location}<extra></extra>",
         "hovertext": [
          "LB"
         ],
         "legendgroup": "LB",
         "locationmode": "ISO-3",
         "locations": [
          "LBN"
         ],
         "marker": {
          "color": "#FF6692",
          "size": {
           "bdata": "hetReHgMUUE=",
           "dtype": "f8"
          },
          "sizemode": "area",
          "sizeref": 2857558.324432,
          "symbol": "circle"
         },
         "mode": "markers",
         "name": "LB",
         "showlegend": true,
         "type": "scattergeo"
        },
        {
         "geo": "geo",
         "hovertemplate": "<b>%{hovertext}</b><br><br>country=LI<br>ecContribution_2024=%{marker.size}<br>locations=%{location}<extra></extra>",
         "hovertext": [
          "LI"
         ],
         "legendgroup": "LI",
         "locationmode": "ISO-3",
         "locations": [
          "LIE"
         ],
         "marker": {
          "color": "#B6E880",
          "size": {
           "bdata": "AAAAAAAAAAA=",
           "dtype": "f8"
          },
          "sizemode": "area",
          "sizeref": 2857558.324432,
          "symbol": "circle"
         },
         "mode": "markers",
         "name": "LI",
         "showlegend": true,
         "type": "scattergeo"
        },
        {
         "geo": "geo",
         "hovertemplate": "<b>%{hovertext}</b><br><br>country=LK<br>ecContribution_2024=%{marker.size}<br>locations=%{location}<extra></extra>",
         "hovertext": [
          "LK"
         ],
         "legendgroup": "LK",
         "locationmode": "ISO-3",
         "locations": [
          "LKA"
         ],
         "marker": {
          "color": "#FF97FF",
          "size": {
           "bdata": "AAAAAIOFJUE=",
           "dtype": "f8"
          },
          "sizemode": "area",
          "sizeref": 2857558.324432,
          "symbol": "circle"
         },
         "mode": "markers",
         "name": "LK",
         "showlegend": true,
         "type": "scattergeo"
        },
        {
         "geo": "geo",
         "hovertemplate": "<b>%{hovertext}</b><br><br>country=LR<br>ecContribution_2024=%{marker.size}<br>locations=%{location}<extra></extra>",
         "hovertext": [
          "LR"
         ],
         "legendgroup": "LR",
         "locationmode": "ISO-3",
         "locations": [
          "LBR"
         ],
         "marker": {
          "color": "#FECB52",
          "size": {
           "bdata": "AAAAAI37GUE=",
           "dtype": "f8"
          },
          "sizemode": "area",
          "sizeref": 2857558.324432,
          "symbol": "circle"
         },
         "mode": "markers",
         "name": "LR",
         "showlegend": true,
         "type": "scattergeo"
        },
        {
         "geo": "geo",
         "hovertemplate": "<b>%{hovertext}</b><br><br>country=LS<br>ecContribution_2024=%{marker.size}<br>locations=%{location}<extra></extra>",
         "hovertext": [
          "LS"
         ],
         "legendgroup": "LS",
         "locationmode": "ISO-3",
         "locations": [
          "LSO"
         ],
         "marker": {
          "color": "#636efa",
          "size": {
           "bdata": "AAAAAEQq9EA=",
           "dtype": "f8"
          },
          "sizemode": "area",
          "sizeref": 2857558.324432,
          "symbol": "circle"
         },
         "mode": "markers",
         "name": "LS",
         "showlegend": true,
         "type": "scattergeo"
        },
        {
         "geo": "geo",
         "hovertemplate": "<b>%{hovertext}</b><br><br>country=LT<br>ecContribution_2024=%{marker.size}<br>locations=%{location}<extra></extra>",
         "hovertext": [
          "LT"
         ],
         "legendgroup": "LT",
         "locationmode": "ISO-3",
         "locations": [
          "LTU"
         ],
         "marker": {
          "color": "#EF553B",
          "size": {
           "bdata": "exQuGU+RokE=",
           "dtype": "f8"
          },
          "sizemode": "area",
          "sizeref": 2857558.324432,
          "symbol": "circle"
         },
         "mode": "markers",
         "name": "LT",
         "showlegend": true,
         "type": "scattergeo"
        },
        {
         "geo": "geo",
         "hovertemplate": "<b>%{hovertext}</b><br><br>country=LU<br>ecContribution_2024=%{marker.size}<br>locations=%{location}<extra></extra>",
         "hovertext": [
          "LU"
         ],
         "legendgroup": "LU",
         "locationmode": "ISO-3",
         "locations": [
          "LUX"
         ],
         "marker": {
          "color": "#00cc96",
          "size": {
           "bdata": "ZmZmxJgOqEE=",
           "dtype": "f8"
          },
          "sizemode": "area",
          "sizeref": 2857558.324432,
          "symbol": "circle"
         },
         "mode": "markers",
         "name": "LU",
         "showlegend": true,
         "type": "scattergeo"
        },
        {
         "geo": "geo",
         "hovertemplate": "<b>%{hovertext}</b><br><br>country=LV<br>ecContribution_2024=%{marker.size}<br>locations=%{location}<extra></extra>",
         "hovertext": [
          "LV"
         ],
         "legendgroup": "LV",
         "locationmode": "ISO-3",
         "locations": [
          "LVA"
         ],
         "marker": {
          "color": "#ab63fa",
          "size": {
           "bdata": "j8L1Xdhjl0E=",
           "dtype": "f8"
          },
          "sizemode": "area",
          "sizeref": 2857558.324432,
          "symbol": "circle"
         },
         "mode": "markers",
         "name": "LV",
         "showlegend": true,
         "type": "scattergeo"
        },
        {
         "geo": "geo",
         "hovertemplate": "<b>%{hovertext}</b><br><br>country=LY<br>ecContribution_2024=%{marker.size}<br>locations=%{location}<extra></extra>",
         "hovertext": [
          "LY"
         ],
         "legendgroup": "LY",
         "locationmode": "ISO-3",
         "locations": [
          "LBY"
         ],
         "marker": {
          "color": "#FFA15A",
          "size": {
           "bdata": "AAAAAOAD7EA=",
           "dtype": "f8"
          },
          "sizemode": "area",
          "sizeref": 2857558.324432,
          "symbol": "circle"
         },
         "mode": "markers",
         "name": "LY",
         "showlegend": true,
         "type": "scattergeo"
        },
        {
         "geo": "geo",
         "hovertemplate": "<b>%{hovertext}</b><br><br>country=MA<br>ecContribution_2024=%{marker.size}<br>locations=%{location}<extra></extra>",
         "hovertext": [
          "MA"
         ],
         "legendgroup": "MA",
         "locationmode": "ISO-3",
         "locations": [
          "MAR"
         ],
         "marker": {
          "color": "#19d3f3",
          "size": {
           "bdata": "XI/C9cL5VUE=",
           "dtype": "f8"
          },
          "sizemode": "area",
          "sizeref": 2857558.324432,
          "symbol": "circle"
         },
         "mode": "markers",
         "name": "MA",
         "showlegend": true,
         "type": "scattergeo"
        },
        {
         "geo": "geo",
         "hovertemplate": "<b>%{hovertext}</b><br><br>country=MC<br>ecContribution_2024=%{marker.size}<br>locations=%{location}<extra></extra>",
         "hovertext": [
          "MC"
         ],
         "legendgroup": "MC",
         "locationmode": "ISO-3",
         "locations": [
          "MCO"
         ],
         "marker": {
          "color": "#FF6692",
          "size": {
           "bdata": "AAAAAAAAAAA=",
           "dtype": "f8"
          },
          "sizemode": "area",
          "sizeref": 2857558.324432,
          "symbol": "circle"
         },
         "mode": "markers",
         "name": "MC",
         "showlegend": true,
         "type": "scattergeo"
        },
        {
         "geo": "geo",
         "hovertemplate": "<b>%{hovertext}</b><br><br>country=MD<br>ecContribution_2024=%{marker.size}<br>locations=%{location}<extra></extra>",
         "hovertext": [
          "MD"
         ],
         "legendgroup": "MD",
         "locationmode": "ISO-3",
         "locations": [
          "MDA"
         ],
         "marker": {
          "color": "#B6E880",
          "size": {
           "bdata": "pHA9GlS5WEE=",
           "dtype": "f8"
          },
          "sizemode": "area",
          "sizeref": 2857558.324432,
          "symbol": "circle"
         },
         "mode": "markers",
         "name": "MD",
         "showlegend": true,
         "type": "scattergeo"
        },
        {
         "geo": "geo",
         "hovertemplate": "<b>%{hovertext}</b><br><br>country=ME<br>ecContribution_2024=%{marker.size}<br>locations=%{location}<extra></extra>",
         "hovertext": [
          "ME"
         ],
         "legendgroup": "ME",
         "locationmode": "ISO-3",
         "locations": [
          "MNE"
         ],
         "marker": {
          "color": "#FF97FF",
          "size": {
           "bdata": "7FG43t36UEE=",
           "dtype": "f8"
          },
          "sizemode": "area",
          "sizeref": 2857558.324432,
          "symbol": "circle"
         },
         "mode": "markers",
         "name": "ME",
         "showlegend": true,
         "type": "scattergeo"
        },
        {
         "geo": "geo",
         "hovertemplate": "<b>%{hovertext}</b><br><br>country=MG<br>ecContribution_2024=%{marker.size}<br>locations=%{location}<extra></extra>",
         "hovertext": [
          "MG"
         ],
         "legendgroup": "MG",
         "locationmode": "ISO-3",
         "locations": [
          "MDG"
         ],
         "marker": {
          "color": "#FECB52",
          "size": {
           "bdata": "pHA96vq4UEE=",
           "dtype": "f8"
          },
          "sizemode": "area",
          "sizeref": 2857558.324432,
          "symbol": "circle"
         },
         "mode": "markers",
         "name": "MG",
         "showlegend": true,
         "type": "scattergeo"
        },
        {
         "geo": "geo",
         "hovertemplate": "<b>%{hovertext}</b><br><br>country=MH<br>ecContribution_2024=%{marker.size}<br>locations=%{location}<extra></extra>",
         "hovertext": [
          "MH"
         ],
         "legendgroup": "MH",
         "locationmode": "ISO-3",
         "locations": [
          "MHL"
         ],
         "marker": {
          "color": "#636efa",
          "size": {
           "bdata": "AAAAwBMuUkE=",
           "dtype": "f8"
          },
          "sizemode": "area",
          "sizeref": 2857558.324432,
          "symbol": "circle"
         },
         "mode": "markers",
         "name": "MH",
         "showlegend": true,
         "type": "scattergeo"
        },
        {
         "geo": "geo",
         "hovertemplate": "<b>%{hovertext}</b><br><br>country=MK<br>ecContribution_2024=%{marker.size}<br>locations=%{location}<extra></extra>",
         "hovertext": [
          "MK"
         ],
         "legendgroup": "MK",
         "locationmode": "ISO-3",
         "locations": [
          "MKD"
         ],
         "marker": {
          "color": "#EF553B",
          "size": {
           "bdata": "XI/CnUV4ZUE=",
           "dtype": "f8"
          },
          "sizemode": "area",
          "sizeref": 2857558.324432,
          "symbol": "circle"
         },
         "mode": "markers",
         "name": "MK",
         "showlegend": true,
         "type": "scattergeo"
        },
        {
         "geo": "geo",
         "hovertemplate": "<b>%{hovertext}</b><br><br>country=ML<br>ecContribution_2024=%{marker.size}<br>locations=%{location}<extra></extra>",
         "hovertext": [
          "ML"
         ],
         "legendgroup": "ML",
         "locationmode": "ISO-3",
         "locations": [
          "MLI"
         ],
         "marker": {
          "color": "#00cc96",
          "size": {
           "bdata": "uB6Fi6HMV0E=",
           "dtype": "f8"
          },
          "sizemode": "area",
          "sizeref": 2857558.324432,
          "symbol": "circle"
         },
         "mode": "markers",
         "name": "ML",
         "showlegend": true,
         "type": "scattergeo"
        },
        {
         "geo": "geo",
         "hovertemplate": "<b>%{hovertext}</b><br><br>country=MM<br>ecContribution_2024=%{marker.size}<br>locations=%{location}<extra></extra>",
         "hovertext": [
          "MM"
         ],
         "legendgroup": "MM",
         "locationmode": "ISO-3",
         "locations": [
          "MMR"
         ],
         "marker": {
          "color": "#ab63fa",
          "size": {
           "bdata": "AAAAAAAAAAA=",
           "dtype": "f8"
          },
          "sizemode": "area",
          "sizeref": 2857558.324432,
          "symbol": "circle"
         },
         "mode": "markers",
         "name": "MM",
         "showlegend": true,
         "type": "scattergeo"
        },
        {
         "geo": "geo",
         "hovertemplate": "<b>%{hovertext}</b><br><br>country=MN<br>ecContribution_2024=%{marker.size}<br>locations=%{location}<extra></extra>",
         "hovertext": [
          "MN"
         ],
         "legendgroup": "MN",
         "locationmode": "ISO-3",
         "locations": [
          "MNG"
         ],
         "marker": {
          "color": "#FFA15A",
          "size": {
           "bdata": "AAAAAAAAAAA=",
           "dtype": "f8"
          },
          "sizemode": "area",
          "sizeref": 2857558.324432,
          "symbol": "circle"
         },
         "mode": "markers",
         "name": "MN",
         "showlegend": true,
         "type": "scattergeo"
        },
        {
         "geo": "geo",
         "hovertemplate": "<b>%{hovertext}</b><br><br>country=MR<br>ecContribution_2024=%{marker.size}<br>locations=%{location}<extra></extra>",
         "hovertext": [
          "MR"
         ],
         "legendgroup": "MR",
         "locationmode": "ISO-3",
         "locations": [
          "MRT"
         ],
         "marker": {
          "color": "#19d3f3",
          "size": {
           "bdata": "AAAAABbAAEE=",
           "dtype": "f8"
          },
          "sizemode": "area",
          "sizeref": 2857558.324432,
          "symbol": "circle"
         },
         "mode": "markers",
         "name": "MR",
         "showlegend": true,
         "type": "scattergeo"
        },
        {
         "geo": "geo",
         "hovertemplate": "<b>%{hovertext}</b><br><br>country=MT<br>ecContribution_2024=%{marker.size}<br>locations=%{location}<extra></extra>",
         "hovertext": [
          "MT"
         ],
         "legendgroup": "MT",
         "locationmode": "ISO-3",
         "locations": [
          "MLT"
         ],
         "marker": {
          "color": "#FF6692",
          "size": {
           "bdata": "9ihclRtehUE=",
           "dtype": "f8"
          },
          "sizemode": "area",
          "sizeref": 2857558.324432,
          "symbol": "circle"
         },
         "mode": "markers",
         "name": "MT",
         "showlegend": true,
         "type": "scattergeo"
        },
        {
         "geo": "geo",
         "hovertemplate": "<b>%{hovertext}</b><br><br>country=MU<br>ecContribution_2024=%{marker.size}<br>locations=%{location}<extra></extra>",
         "hovertext": [
          "MU"
         ],
         "legendgroup": "MU",
         "locationmode": "ISO-3",
         "locations": [
          "MUS"
         ],
         "marker": {
          "color": "#B6E880",
          "size": {
           "bdata": "AAAAAM1FJUE=",
           "dtype": "f8"
          },
          "sizemode": "area",
          "sizeref": 2857558.324432,
          "symbol": "circle"
         },
         "mode": "markers",
         "name": "MU",
         "showlegend": true,
         "type": "scattergeo"
        },
        {
         "geo": "geo",
         "hovertemplate": "<b>%{hovertext}</b><br><br>country=MV<br>ecContribution_2024=%{marker.size}<br>locations=%{location}<extra></extra>",
         "hovertext": [
          "MV"
         ],
         "legendgroup": "MV",
         "locationmode": "ISO-3",
         "locations": [
          "MDV"
         ],
         "marker": {
          "color": "#FF97FF",
          "size": {
           "bdata": "AAAAAAwuAUE=",
           "dtype": "f8"
          },
          "sizemode": "area",
          "sizeref": 2857558.324432,
          "symbol": "circle"
         },
         "mode": "markers",
         "name": "MV",
         "showlegend": true,
         "type": "scattergeo"
        },
        {
         "geo": "geo",
         "hovertemplate": "<b>%{hovertext}</b><br><br>country=MW<br>ecContribution_2024=%{marker.size}<br>locations=%{location}<extra></extra>",
         "hovertext": [
          "MW"
         ],
         "legendgroup": "MW",
         "locationmode": "ISO-3",
         "locations": [
          "MWI"
         ],
         "marker": {
          "color": "#FECB52",
          "size": {
           "bdata": "MzMzs1QVN0E=",
           "dtype": "f8"
          },
          "sizemode": "area",
          "sizeref": 2857558.324432,
          "symbol": "circle"
         },
         "mode": "markers",
         "name": "MW",
         "showlegend": true,
         "type": "scattergeo"
        },
        {
         "geo": "geo",
         "hovertemplate": "<b>%{hovertext}</b><br><br>country=MX<br>ecContribution_2024=%{marker.size}<br>locations=%{location}<extra></extra>",
         "hovertext": [
          "MX"
         ],
         "legendgroup": "MX",
         "locationmode": "ISO-3",
         "locations": [
          "MEX"
         ],
         "marker": {
          "color": "#636efa",
          "size": {
           "bdata": "AAAAADJQFEE=",
           "dtype": "f8"
          },
          "sizemode": "area",
          "sizeref": 2857558.324432,
          "symbol": "circle"
         },
         "mode": "markers",
         "name": "MX",
         "showlegend": true,
         "type": "scattergeo"
        },
        {
         "geo": "geo",
         "hovertemplate": "<b>%{hovertext}</b><br><br>country=MY<br>ecContribution_2024=%{marker.size}<br>locations=%{location}<extra></extra>",
         "hovertext": [
          "MY"
         ],
         "legendgroup": "MY",
         "locationmode": "ISO-3",
         "locations": [
          "MYS"
         ],
         "marker": {
          "color": "#EF553B",
          "size": {
           "bdata": "AAAAAJB2EkE=",
           "dtype": "f8"
          },
          "sizemode": "area",
          "sizeref": 2857558.324432,
          "symbol": "circle"
         },
         "mode": "markers",
         "name": "MY",
         "showlegend": true,
         "type": "scattergeo"
        },
        {
         "geo": "geo",
         "hovertemplate": "<b>%{hovertext}</b><br><br>country=MZ<br>ecContribution_2024=%{marker.size}<br>locations=%{location}<extra></extra>",
         "hovertext": [
          "MZ"
         ],
         "legendgroup": "MZ",
         "locationmode": "ISO-3",
         "locations": [
          "MOZ"
         ],
         "marker": {
          "color": "#00cc96",
          "size": {
           "bdata": "4XoUTsjsZUE=",
           "dtype": "f8"
          },
          "sizemode": "area",
          "sizeref": 2857558.324432,
          "symbol": "circle"
         },
         "mode": "markers",
         "name": "MZ",
         "showlegend": true,
         "type": "scattergeo"
        },
        {
         "geo": "geo",
         "hovertemplate": "<b>%{hovertext}</b><br><br>country=NC<br>ecContribution_2024=%{marker.size}<br>locations=%{location}<extra></extra>",
         "hovertext": [
          "NC"
         ],
         "legendgroup": "NC",
         "locationmode": "ISO-3",
         "locations": [
          "NCL"
         ],
         "marker": {
          "color": "#ab63fa",
          "size": {
           "bdata": "AAAAAACso0A=",
           "dtype": "f8"
          },
          "sizemode": "area",
          "sizeref": 2857558.324432,
          "symbol": "circle"
         },
         "mode": "markers",
         "name": "NC",
         "showlegend": true,
         "type": "scattergeo"
        },
        {
         "geo": "geo",
         "hovertemplate": "<b>%{hovertext}</b><br><br>country=NE<br>ecContribution_2024=%{marker.size}<br>locations=%{location}<extra></extra>",
         "hovertext": [
          "NE"
         ],
         "legendgroup": "NE",
         "locationmode": "ISO-3",
         "locations": [
          "NER"
         ],
         "marker": {
          "color": "#FFA15A",
          "size": {
           "bdata": "AAAAAAAAAAA=",
           "dtype": "f8"
          },
          "sizemode": "area",
          "sizeref": 2857558.324432,
          "symbol": "circle"
         },
         "mode": "markers",
         "name": "NE",
         "showlegend": true,
         "type": "scattergeo"
        },
        {
         "geo": "geo",
         "hovertemplate": "<b>%{hovertext}</b><br><br>country=NG<br>ecContribution_2024=%{marker.size}<br>locations=%{location}<extra></extra>",
         "hovertext": [
          "NG"
         ],
         "legendgroup": "NG",
         "locationmode": "ISO-3",
         "locations": [
          "NGA"
         ],
         "marker": {
          "color": "#19d3f3",
          "size": {
           "bdata": "MzMz09B0a0E=",
           "dtype": "f8"
          },
          "sizemode": "area",
          "sizeref": 2857558.324432,
          "symbol": "circle"
         },
         "mode": "markers",
         "name": "NG",
         "showlegend": true,
         "type": "scattergeo"
        },
        {
         "geo": "geo",
         "hovertemplate": "<b>%{hovertext}</b><br><br>country=NI<br>ecContribution_2024=%{marker.size}<br>locations=%{location}<extra></extra>",
         "hovertext": [
          "NI"
         ],
         "legendgroup": "NI",
         "locationmode": "ISO-3",
         "locations": [
          "NIC"
         ],
         "marker": {
          "color": "#FF6692",
          "size": {
           "bdata": "AAAAgIBIJkE=",
           "dtype": "f8"
          },
          "sizemode": "area",
          "sizeref": 2857558.324432,
          "symbol": "circle"
         },
         "mode": "markers",
         "name": "NI",
         "showlegend": true,
         "type": "scattergeo"
        },
        {
         "geo": "geo",
         "hovertemplate": "<b>%{hovertext}</b><br><br>country=NL<br>ecContribution_2024=%{marker.size}<br>locations=%{location}<extra></extra>",
         "hovertext": [
          "NL"
         ],
         "legendgroup": "NL",
         "locationmode": "ISO-3",
         "locations": [
          "NLD"
         ],
         "marker": {
          "color": "#B6E880",
          "size": {
           "bdata": "MzNTX+0+7EE=",
           "dtype": "f8"
          },
          "sizemode": "area",
          "sizeref": 2857558.324432,
          "symbol": "circle"
         },
         "mode": "markers",
         "name": "NL",
         "showlegend": true,
         "type": "scattergeo"
        },
        {
         "geo": "geo",
         "hovertemplate": "<b>%{hovertext}</b><br><br>country=NO<br>ecContribution_2024=%{marker.size}<br>locations=%{location}<extra></extra>",
         "hovertext": [
          "NO"
         ],
         "legendgroup": "NO",
         "locationmode": "ISO-3",
         "locations": [
          "NOR"
         ],
         "marker": {
          "color": "#FF97FF",
          "size": {
           "bdata": "FK5H8SY21UE=",
           "dtype": "f8"
          },
          "sizemode": "area",
          "sizeref": 2857558.324432,
          "symbol": "circle"
         },
         "mode": "markers",
         "name": "NO",
         "showlegend": true,
         "type": "scattergeo"
        },
        {
         "geo": "geo",
         "hovertemplate": "<b>%{hovertext}</b><br><br>country=NP<br>ecContribution_2024=%{marker.size}<br>locations=%{location}<extra></extra>",
         "hovertext": [
          "NP"
         ],
         "legendgroup": "NP",
         "locationmode": "ISO-3",
         "locations": [
          "NPL"
         ],
         "marker": {
          "color": "#FECB52",
          "size": {
           "bdata": "AAAAAAAAAAA=",
           "dtype": "f8"
          },
          "sizemode": "area",
          "sizeref": 2857558.324432,
          "symbol": "circle"
         },
         "mode": "markers",
         "name": "NP",
         "showlegend": true,
         "type": "scattergeo"
        },
        {
         "geo": "geo",
         "hovertemplate": "<b>%{hovertext}</b><br><br>country=NZ<br>ecContribution_2024=%{marker.size}<br>locations=%{location}<extra></extra>",
         "hovertext": [
          "NZ"
         ],
         "legendgroup": "NZ",
         "locationmode": "ISO-3",
         "locations": [
          "NZL"
         ],
         "marker": {
          "color": "#636efa",
          "size": {
           "bdata": "4XoUvhUFWUE=",
           "dtype": "f8"
          },
          "sizemode": "area",
          "sizeref": 2857558.324432,
          "symbol": "circle"
         },
         "mode": "markers",
         "name": "NZ",
         "showlegend": true,
         "type": "scattergeo"
        },
        {
         "geo": "geo",
         "hovertemplate": "<b>%{hovertext}</b><br><br>country=OM<br>ecContribution_2024=%{marker.size}<br>locations=%{location}<extra></extra>",
         "hovertext": [
          "OM"
         ],
         "legendgroup": "OM",
         "locationmode": "ISO-3",
         "locations": [
          "OMN"
         ],
         "marker": {
          "color": "#EF553B",
          "size": {
           "bdata": "AAAAAAAAAAA=",
           "dtype": "f8"
          },
          "sizemode": "area",
          "sizeref": 2857558.324432,
          "symbol": "circle"
         },
         "mode": "markers",
         "name": "OM",
         "showlegend": true,
         "type": "scattergeo"
        },
        {
         "geo": "geo",
         "hovertemplate": "<b>%{hovertext}</b><br><br>country=PA<br>ecContribution_2024=%{marker.size}<br>locations=%{location}<extra></extra>",
         "hovertext": [
          "PA"
         ],
         "legendgroup": "PA",
         "locationmode": "ISO-3",
         "locations": [
          "PAN"
         ],
         "marker": {
          "color": "#00cc96",
          "size": {
           "bdata": "AAAAAAAAAAA=",
           "dtype": "f8"
          },
          "sizemode": "area",
          "sizeref": 2857558.324432,
          "symbol": "circle"
         },
         "mode": "markers",
         "name": "PA",
         "showlegend": true,
         "type": "scattergeo"
        },
        {
         "geo": "geo",
         "hovertemplate": "<b>%{hovertext}</b><br><br>country=PE<br>ecContribution_2024=%{marker.size}<br>locations=%{location}<extra></extra>",
         "hovertext": [
          "PE"
         ],
         "legendgroup": "PE",
         "locationmode": "ISO-3",
         "locations": [
          "PER"
         ],
         "marker": {
          "color": "#ab63fa",
          "size": {
           "bdata": "AAAAAES/OkE=",
           "dtype": "f8"
          },
          "sizemode": "area",
          "sizeref": 2857558.324432,
          "symbol": "circle"
         },
         "mode": "markers",
         "name": "PE",
         "showlegend": true,
         "type": "scattergeo"
        },
        {
         "geo": "geo",
         "hovertemplate": "<b>%{hovertext}</b><br><br>country=PF<br>ecContribution_2024=%{marker.size}<br>locations=%{location}<extra></extra>",
         "hovertext": [
          "PF"
         ],
         "legendgroup": "PF",
         "locationmode": "ISO-3",
         "locations": [
          "PYF"
         ],
         "marker": {
          "color": "#FFA15A",
          "size": {
           "bdata": "AAAAAEAF9UA=",
           "dtype": "f8"
          },
          "sizemode": "area",
          "sizeref": 2857558.324432,
          "symbol": "circle"
         },
         "mode": "markers",
         "name": "PF",
         "showlegend": true,
         "type": "scattergeo"
        },
        {
         "geo": "geo",
         "hovertemplate": "<b>%{hovertext}</b><br><br>country=PG<br>ecContribution_2024=%{marker.size}<br>locations=%{location}<extra></extra>",
         "hovertext": [
          "PG"
         ],
         "legendgroup": "PG",
         "locationmode": "ISO-3",
         "locations": [
          "PNG"
         ],
         "marker": {
          "color": "#19d3f3",
          "size": {
           "bdata": "AAAAACAv+kA=",
           "dtype": "f8"
          },
          "sizemode": "area",
          "sizeref": 2857558.324432,
          "symbol": "circle"
         },
         "mode": "markers",
         "name": "PG",
         "showlegend": true,
         "type": "scattergeo"
        },
        {
         "geo": "geo",
         "hovertemplate": "<b>%{hovertext}</b><br><br>country=PH<br>ecContribution_2024=%{marker.size}<br>locations=%{location}<extra></extra>",
         "hovertext": [
          "PH"
         ],
         "legendgroup": "PH",
         "locationmode": "ISO-3",
         "locations": [
          "PHL"
         ],
         "marker": {
          "color": "#FF6692",
          "size": {
           "bdata": "FK5H4RkWPEE=",
           "dtype": "f8"
          },
          "sizemode": "area",
          "sizeref": 2857558.324432,
          "symbol": "circle"
         },
         "mode": "markers",
         "name": "PH",
         "showlegend": true,
         "type": "scattergeo"
        },
        {
         "geo": "geo",
         "hovertemplate": "<b>%{hovertext}</b><br><br>country=PK<br>ecContribution_2024=%{marker.size}<br>locations=%{location}<extra></extra>",
         "hovertext": [
          "PK"
         ],
         "legendgroup": "PK",
         "locationmode": "ISO-3",
         "locations": [
          "PAK"
         ],
         "marker": {
          "color": "#B6E880",
          "size": {
           "bdata": "AAAAwHXdQ0E=",
           "dtype": "f8"
          },
          "sizemode": "area",
          "sizeref": 2857558.324432,
          "symbol": "circle"
         },
         "mode": "markers",
         "name": "PK",
         "showlegend": true,
         "type": "scattergeo"
        },
        {
         "geo": "geo",
         "hovertemplate": "<b>%{hovertext}</b><br><br>country=PL<br>ecContribution_2024=%{marker.size}<br>locations=%{location}<extra></extra>",
         "hovertext": [
          "PL"
         ],
         "legendgroup": "PL",
         "locationmode": "ISO-3",
         "locations": [
          "POL"
         ],
         "marker": {
          "color": "#FF97FF",
          "size": {
           "bdata": "7FGYcxj6wkE=",
           "dtype": "f8"
          },
          "sizemode": "area",
          "sizeref": 2857558.324432,
          "symbol": "circle"
         },
         "mode": "markers",
         "name": "PL",
         "showlegend": true,
         "type": "scattergeo"
        },
        {
         "geo": "geo",
         "hovertemplate": "<b>%{hovertext}</b><br><br>country=PS<br>ecContribution_2024=%{marker.size}<br>locations=%{location}<extra></extra>",
         "hovertext": [
          "PS"
         ],
         "legendgroup": "PS",
         "locationmode": "ISO-3",
         "locations": [
          "PSE"
         ],
         "marker": {
          "color": "#FECB52",
          "size": {
           "bdata": "AAAAAEQsGEE=",
           "dtype": "f8"
          },
          "sizemode": "area",
          "sizeref": 2857558.324432,
          "symbol": "circle"
         },
         "mode": "markers",
         "name": "PS",
         "showlegend": true,
         "type": "scattergeo"
        },
        {
         "geo": "geo",
         "hovertemplate": "<b>%{hovertext}</b><br><br>country=PT<br>ecContribution_2024=%{marker.size}<br>locations=%{location}<extra></extra>",
         "hovertext": [
          "PT"
         ],
         "legendgroup": "PT",
         "locationmode": "ISO-3",
         "locations": [
          "PRT"
         ],
         "marker": {
          "color": "#636efa",
          "size": {
           "bdata": "PQoXhbKZzUE=",
           "dtype": "f8"
          },
          "sizemode": "area",
          "sizeref": 2857558.324432,
          "symbol": "circle"
         },
         "mode": "markers",
         "name": "PT",
         "showlegend": true,
         "type": "scattergeo"
        },
        {
         "geo": "geo",
         "hovertemplate": "<b>%{hovertext}</b><br><br>country=PY<br>ecContribution_2024=%{marker.size}<br>locations=%{location}<extra></extra>",
         "hovertext": [
          "PY"
         ],
         "legendgroup": "PY",
         "locationmode": "ISO-3",
         "locations": [
          "PRY"
         ],
         "marker": {
          "color": "#EF553B",
          "size": {
           "bdata": "AAAAAAAAAAA=",
           "dtype": "f8"
          },
          "sizemode": "area",
          "sizeref": 2857558.324432,
          "symbol": "circle"
         },
         "mode": "markers",
         "name": "PY",
         "showlegend": true,
         "type": "scattergeo"
        },
        {
         "geo": "geo",
         "hovertemplate": "<b>%{hovertext}</b><br><br>country=QA<br>ecContribution_2024=%{marker.size}<br>locations=%{location}<extra></extra>",
         "hovertext": [
          "QA"
         ],
         "legendgroup": "QA",
         "locationmode": "ISO-3",
         "locations": [
          "QAT"
         ],
         "marker": {
          "color": "#00cc96",
          "size": {
           "bdata": "AAAAAAAAAAA=",
           "dtype": "f8"
          },
          "sizemode": "area",
          "sizeref": 2857558.324432,
          "symbol": "circle"
         },
         "mode": "markers",
         "name": "QA",
         "showlegend": true,
         "type": "scattergeo"
        },
        {
         "geo": "geo",
         "hovertemplate": "<b>%{hovertext}</b><br><br>country=RO<br>ecContribution_2024=%{marker.size}<br>locations=%{location}<extra></extra>",
         "hovertext": [
          "RO"
         ],
         "legendgroup": "RO",
         "locationmode": "ISO-3",
         "locations": [
          "ROU"
         ],
         "marker": {
          "color": "#ab63fa",
          "size": {
           "bdata": "PQpXF4FGsUE=",
           "dtype": "f8"
          },
          "sizemode": "area",
          "sizeref": 2857558.324432,
          "symbol": "circle"
         },
         "mode": "markers",
         "name": "RO",
         "showlegend": true,
         "type": "scattergeo"
        },
        {
         "geo": "geo",
         "hovertemplate": "<b>%{hovertext}</b><br><br>country=RS<br>ecContribution_2024=%{marker.size}<br>locations=%{location}<extra></extra>",
         "hovertext": [
          "RS"
         ],
         "legendgroup": "RS",
         "locationmode": "ISO-3",
         "locations": [
          "SRB"
         ],
         "marker": {
          "color": "#FFA15A",
          "size": {
           "bdata": "16NwpQPhnEE=",
           "dtype": "f8"
          },
          "sizemode": "area",
          "sizeref": 2857558.324432,
          "symbol": "circle"
         },
         "mode": "markers",
         "name": "RS",
         "showlegend": true,
         "type": "scattergeo"
        },
        {
         "geo": "geo",
         "hovertemplate": "<b>%{hovertext}</b><br><br>country=RU<br>ecContribution_2024=%{marker.size}<br>locations=%{location}<extra></extra>",
         "hovertext": [
          "RU"
         ],
         "legendgroup": "RU",
         "locationmode": "ISO-3",
         "locations": [
          "RUS"
         ],
         "marker": {
          "color": "#19d3f3",
          "size": {
           "bdata": "AAAAAAAAAAA=",
           "dtype": "f8"
          },
          "sizemode": "area",
          "sizeref": 2857558.324432,
          "symbol": "circle"
         },
         "mode": "markers",
         "name": "RU",
         "showlegend": true,
         "type": "scattergeo"
        },
        {
         "geo": "geo",
         "hovertemplate": "<b>%{hovertext}</b><br><br>country=RW<br>ecContribution_2024=%{marker.size}<br>locations=%{location}<extra></extra>",
         "hovertext": [
          "RW"
         ],
         "legendgroup": "RW",
         "locationmode": "ISO-3",
         "locations": [
          "RWA"
         ],
         "marker": {
          "color": "#FF6692",
          "size": {
           "bdata": "hetR+AHUV0E=",
           "dtype": "f8"
          },
          "sizemode": "area",
          "sizeref": 2857558.324432,
          "symbol": "circle"
         },
         "mode": "markers",
         "name": "RW",
         "showlegend": true,
         "type": "scattergeo"
        },
        {
         "geo": "geo",
         "hovertemplate": "<b>%{hovertext}</b><br><br>country=SA<br>ecContribution_2024=%{marker.size}<br>locations=%{location}<extra></extra>",
         "hovertext": [
          "SA"
         ],
         "legendgroup": "SA",
         "locationmode": "ISO-3",
         "locations": [
          "SAU"
         ],
         "marker": {
          "color": "#B6E880",
          "size": {
           "bdata": "AAAAAAAAAAA=",
           "dtype": "f8"
          },
          "sizemode": "area",
          "sizeref": 2857558.324432,
          "symbol": "circle"
         },
         "mode": "markers",
         "name": "SA",
         "showlegend": true,
         "type": "scattergeo"
        },
        {
         "geo": "geo",
         "hovertemplate": "<b>%{hovertext}</b><br><br>country=SC<br>ecContribution_2024=%{marker.size}<br>locations=%{location}<extra></extra>",
         "hovertext": [
          "SC"
         ],
         "legendgroup": "SC",
         "locationmode": "ISO-3",
         "locations": [
          "SYC"
         ],
         "marker": {
          "color": "#FF97FF",
          "size": {
           "bdata": "AAAAAAAAAAA=",
           "dtype": "f8"
          },
          "sizemode": "area",
          "sizeref": 2857558.324432,
          "symbol": "circle"
         },
         "mode": "markers",
         "name": "SC",
         "showlegend": true,
         "type": "scattergeo"
        },
        {
         "geo": "geo",
         "hovertemplate": "<b>%{hovertext}</b><br><br>country=SD<br>ecContribution_2024=%{marker.size}<br>locations=%{location}<extra></extra>",
         "hovertext": [
          "SD"
         ],
         "legendgroup": "SD",
         "locationmode": "ISO-3",
         "locations": [
          "SDN"
         ],
         "marker": {
          "color": "#FECB52",
          "size": {
           "bdata": "AAAAAODC4UA=",
           "dtype": "f8"
          },
          "sizemode": "area",
          "sizeref": 2857558.324432,
          "symbol": "circle"
         },
         "mode": "markers",
         "name": "SD",
         "showlegend": true,
         "type": "scattergeo"
        },
        {
         "geo": "geo",
         "hovertemplate": "<b>%{hovertext}</b><br><br>country=SE<br>ecContribution_2024=%{marker.size}<br>locations=%{location}<extra></extra>",
         "hovertext": [
          "SE"
         ],
         "legendgroup": "SE",
         "locationmode": "ISO-3",
         "locations": [
          "SWE"
         ],
         "marker": {
          "color": "#636efa",
          "size": {
           "bdata": "Zma2w5bA1UE=",
           "dtype": "f8"
          },
          "sizemode": "area",
          "sizeref": 2857558.324432,
          "symbol": "circle"
         },
         "mode": "markers",
         "name": "SE",
         "showlegend": true,
         "type": "scattergeo"
        },
        {
         "geo": "geo",
         "hovertemplate": "<b>%{hovertext}</b><br><br>country=SG<br>ecContribution_2024=%{marker.size}<br>locations=%{location}<extra></extra>",
         "hovertext": [
          "SG"
         ],
         "legendgroup": "SG",
         "locationmode": "ISO-3",
         "locations": [
          "SGP"
         ],
         "marker": {
          "color": "#EF553B",
          "size": {
           "bdata": "AAAAYCn6QkE=",
           "dtype": "f8"
          },
          "sizemode": "area",
          "sizeref": 2857558.324432,
          "symbol": "circle"
         },
         "mode": "markers",
         "name": "SG",
         "showlegend": true,
         "type": "scattergeo"
        },
        {
         "geo": "geo",
         "hovertemplate": "<b>%{hovertext}</b><br><br>country=SI<br>ecContribution_2024=%{marker.size}<br>locations=%{location}<extra></extra>",
         "hovertext": [
          "SI"
         ],
         "legendgroup": "SI",
         "locationmode": "ISO-3",
         "locations": [
          "SVN"
         ],
         "marker": {
          "color": "#00cc96",
          "size": {
           "bdata": "PQoXkAlZtUE=",
           "dtype": "f8"
          },
          "sizemode": "area",
          "sizeref": 2857558.324432,
          "symbol": "circle"
         },
         "mode": "markers",
         "name": "SI",
         "showlegend": true,
         "type": "scattergeo"
        },
        {
         "geo": "geo",
         "hovertemplate": "<b>%{hovertext}</b><br><br>country=SK<br>ecContribution_2024=%{marker.size}<br>locations=%{location}<extra></extra>",
         "hovertext": [
          "SK"
         ],
         "legendgroup": "SK",
         "locationmode": "ISO-3",
         "locations": [
          "SVK"
         ],
         "marker": {
          "color": "#ab63fa",
          "size": {
           "bdata": "cT0K3RnpmUE=",
           "dtype": "f8"
          },
          "sizemode": "area",
          "sizeref": 2857558.324432,
          "symbol": "circle"
         },
         "mode": "markers",
         "name": "SK",
         "showlegend": true,
         "type": "scattergeo"
        },
        {
         "geo": "geo",
         "hovertemplate": "<b>%{hovertext}</b><br><br>country=SL<br>ecContribution_2024=%{marker.size}<br>locations=%{location}<extra></extra>",
         "hovertext": [
          "SL"
         ],
         "legendgroup": "SL",
         "locationmode": "ISO-3",
         "locations": [
          "SLE"
         ],
         "marker": {
          "color": "#FFA15A",
          "size": {
           "bdata": "AAAAAECOA0E=",
           "dtype": "f8"
          },
          "sizemode": "area",
          "sizeref": 2857558.324432,
          "symbol": "circle"
         },
         "mode": "markers",
         "name": "SL",
         "showlegend": true,
         "type": "scattergeo"
        },
        {
         "geo": "geo",
         "hovertemplate": "<b>%{hovertext}</b><br><br>country=SN<br>ecContribution_2024=%{marker.size}<br>locations=%{location}<extra></extra>",
         "hovertext": [
          "SN"
         ],
         "legendgroup": "SN",
         "locationmode": "ISO-3",
         "locations": [
          "SEN"
         ],
         "marker": {
          "color": "#19d3f3",
          "size": {
           "bdata": "cT0KV6ipaEE=",
           "dtype": "f8"
          },
          "sizemode": "area",
          "sizeref": 2857558.324432,
          "symbol": "circle"
         },
         "mode": "markers",
         "name": "SN",
         "showlegend": true,
         "type": "scattergeo"
        },
        {
         "geo": "geo",
         "hovertemplate": "<b>%{hovertext}</b><br><br>country=SR<br>ecContribution_2024=%{marker.size}<br>locations=%{location}<extra></extra>",
         "hovertext": [
          "SR"
         ],
         "legendgroup": "SR",
         "locationmode": "ISO-3",
         "locations": [
          "SUR"
         ],
         "marker": {
          "color": "#FF6692",
          "size": {
           "bdata": "AAAAADgVAkE=",
           "dtype": "f8"
          },
          "sizemode": "area",
          "sizeref": 2857558.324432,
          "symbol": "circle"
         },
         "mode": "markers",
         "name": "SR",
         "showlegend": true,
         "type": "scattergeo"
        },
        {
         "geo": "geo",
         "hovertemplate": "<b>%{hovertext}</b><br><br>country=SX<br>ecContribution_2024=%{marker.size}<br>locations=%{location}<extra></extra>",
         "hovertext": [
          "SX"
         ],
         "legendgroup": "SX",
         "locationmode": "ISO-3",
         "locations": [
          "SXM"
         ],
         "marker": {
          "color": "#B6E880",
          "size": {
           "bdata": "AAAAAAAAAAA=",
           "dtype": "f8"
          },
          "sizemode": "area",
          "sizeref": 2857558.324432,
          "symbol": "circle"
         },
         "mode": "markers",
         "name": "SX",
         "showlegend": true,
         "type": "scattergeo"
        },
        {
         "geo": "geo",
         "hovertemplate": "<b>%{hovertext}</b><br><br>country=SZ<br>ecContribution_2024=%{marker.size}<br>locations=%{location}<extra></extra>",
         "hovertext": [
          "SZ"
         ],
         "legendgroup": "SZ",
         "locationmode": "ISO-3",
         "locations": [
          "SWZ"
         ],
         "marker": {
          "color": "#FF97FF",
          "size": {
           "bdata": "AAAAAOF4IUE=",
           "dtype": "f8"
          },
          "sizemode": "area",
          "sizeref": 2857558.324432,
          "symbol": "circle"
         },
         "mode": "markers",
         "name": "SZ",
         "showlegend": true,
         "type": "scattergeo"
        },
        {
         "geo": "geo",
         "hovertemplate": "<b>%{hovertext}</b><br><br>country=TD<br>ecContribution_2024=%{marker.size}<br>locations=%{location}<extra></extra>",
         "hovertext": [
          "TD"
         ],
         "legendgroup": "TD",
         "locationmode": "ISO-3",
         "locations": [
          "TCD"
         ],
         "marker": {
          "color": "#FECB52",
          "size": {
           "bdata": "AAAAAMgZ+UA=",
           "dtype": "f8"
          },
          "sizemode": "area",
          "sizeref": 2857558.324432,
          "symbol": "circle"
         },
         "mode": "markers",
         "name": "TD",
         "showlegend": true,
         "type": "scattergeo"
        },
        {
         "geo": "geo",
         "hovertemplate": "<b>%{hovertext}</b><br><br>country=TG<br>ecContribution_2024=%{marker.size}<br>locations=%{location}<extra></extra>",
         "hovertext": [
          "TG"
         ],
         "legendgroup": "TG",
         "locationmode": "ISO-3",
         "locations": [
          "TGO"
         ],
         "marker": {
          "color": "#636efa",
          "size": {
           "bdata": "AAAAALRYBkE=",
           "dtype": "f8"
          },
          "sizemode": "area",
          "sizeref": 2857558.324432,
          "symbol": "circle"
         },
         "mode": "markers",
         "name": "TG",
         "showlegend": true,
         "type": "scattergeo"
        },
        {
         "geo": "geo",
         "hovertemplate": "<b>%{hovertext}</b><br><br>country=TH<br>ecContribution_2024=%{marker.size}<br>locations=%{location}<extra></extra>",
         "hovertext": [
          "TH"
         ],
         "legendgroup": "TH",
         "locationmode": "ISO-3",
         "locations": [
          "THA"
         ],
         "marker": {
          "color": "#EF553B",
          "size": {
           "bdata": "AAAAYAx1TkE=",
           "dtype": "f8"
          },
          "sizemode": "area",
          "sizeref": 2857558.324432,
          "symbol": "circle"
         },
         "mode": "markers",
         "name": "TH",
         "showlegend": true,
         "type": "scattergeo"
        },
        {
         "geo": "geo",
         "hovertemplate": "<b>%{hovertext}</b><br><br>country=TJ<br>ecContribution_2024=%{marker.size}<br>locations=%{location}<extra></extra>",
         "hovertext": [
          "TJ"
         ],
         "legendgroup": "TJ",
         "locationmode": "ISO-3",
         "locations": [
          "TJK"
         ],
         "marker": {
          "color": "#00cc96",
          "size": {
           "bdata": "AAAAAAAAAAA=",
           "dtype": "f8"
          },
          "sizemode": "area",
          "sizeref": 2857558.324432,
          "symbol": "circle"
         },
         "mode": "markers",
         "name": "TJ",
         "showlegend": true,
         "type": "scattergeo"
        },
        {
         "geo": "geo",
         "hovertemplate": "<b>%{hovertext}</b><br><br>country=TM<br>ecContribution_2024=%{marker.size}<br>locations=%{location}<extra></extra>",
         "hovertext": [
          "TM"
         ],
         "legendgroup": "TM",
         "locationmode": "ISO-3",
         "locations": [
          "TKM"
         ],
         "marker": {
          "color": "#ab63fa",
          "size": {
           "bdata": "AAAAAAAAAAA=",
           "dtype": "f8"
          },
          "sizemode": "area",
          "sizeref": 2857558.324432,
          "symbol": "circle"
         },
         "mode": "markers",
         "name": "TM",
         "showlegend": true,
         "type": "scattergeo"
        },
        {
         "geo": "geo",
         "hovertemplate": "<b>%{hovertext}</b><br><br>country=TN<br>ecContribution_2024=%{marker.size}<br>locations=%{location}<extra></extra>",
         "hovertext": [
          "TN"
         ],
         "legendgroup": "TN",
         "locationmode": "ISO-3",
         "locations": [
          "TUN"
         ],
         "marker": {
          "color": "#FFA15A",
          "size": {
           "bdata": "rkfhmr7ZaEE=",
           "dtype": "f8"
          },
          "sizemode": "area",
          "sizeref": 2857558.324432,
          "symbol": "circle"
         },
         "mode": "markers",
         "name": "TN",
         "showlegend": true,
         "type": "scattergeo"
        },
        {
         "geo": "geo",
         "hovertemplate": "<b>%{hovertext}</b><br><br>country=TR<br>ecContribution_2024=%{marker.size}<br>locations=%{location}<extra></extra>",
         "hovertext": [
          "TR"
         ],
         "legendgroup": "TR",
         "locationmode": "ISO-3",
         "locations": [
          "TUR"
         ],
         "marker": {
          "color": "#19d3f3",
          "size": {
           "bdata": "H4XrQUNGsUE=",
           "dtype": "f8"
          },
          "sizemode": "area",
          "sizeref": 2857558.324432,
          "symbol": "circle"
         },
         "mode": "markers",
         "name": "TR",
         "showlegend": true,
         "type": "scattergeo"
        },
        {
         "geo": "geo",
         "hovertemplate": "<b>%{hovertext}</b><br><br>country=TW<br>ecContribution_2024=%{marker.size}<br>locations=%{location}<extra></extra>",
         "hovertext": [
          "TW"
         ],
         "legendgroup": "TW",
         "locationmode": "ISO-3",
         "locations": [
          "TWN"
         ],
         "marker": {
          "color": "#FF6692",
          "size": {
           "bdata": "AAAAAPUmG0E=",
           "dtype": "f8"
          },
          "sizemode": "area",
          "sizeref": 2857558.324432,
          "symbol": "circle"
         },
         "mode": "markers",
         "name": "TW",
         "showlegend": true,
         "type": "scattergeo"
        },
        {
         "geo": "geo",
         "hovertemplate": "<b>%{hovertext}</b><br><br>country=TZ<br>ecContribution_2024=%{marker.size}<br>locations=%{location}<extra></extra>",
         "hovertext": [
          "TZ"
         ],
         "legendgroup": "TZ",
         "locationmode": "ISO-3",
         "locations": [
          "TZA"
         ],
         "marker": {
          "color": "#B6E880",
          "size": {
           "bdata": "KVyPMvDjckE=",
           "dtype": "f8"
          },
          "sizemode": "area",
          "sizeref": 2857558.324432,
          "symbol": "circle"
         },
         "mode": "markers",
         "name": "TZ",
         "showlegend": true,
         "type": "scattergeo"
        },
        {
         "geo": "geo",
         "hovertemplate": "<b>%{hovertext}</b><br><br>country=UA<br>ecContribution_2024=%{marker.size}<br>locations=%{location}<extra></extra>",
         "hovertext": [
          "UA"
         ],
         "legendgroup": "UA",
         "locationmode": "ISO-3",
         "locations": [
          "UKR"
         ],
         "marker": {
          "color": "#FF97FF",
          "size": {
           "bdata": "61G4Oy5CkEE=",
           "dtype": "f8"
          },
          "sizemode": "area",
          "sizeref": 2857558.324432,
          "symbol": "circle"
         },
         "mode": "markers",
         "name": "UA",
         "showlegend": true,
         "type": "scattergeo"
        },
        {
         "geo": "geo",
         "hovertemplate": "<b>%{hovertext}</b><br><br>country=UG<br>ecContribution_2024=%{marker.size}<br>locations=%{location}<extra></extra>",
         "hovertext": [
          "UG"
         ],
         "legendgroup": "UG",
         "locationmode": "ISO-3",
         "locations": [
          "UGA"
         ],
         "marker": {
          "color": "#FECB52",
          "size": {
           "bdata": "61G41hoVdUE=",
           "dtype": "f8"
          },
          "sizemode": "area",
          "sizeref": 2857558.324432,
          "symbol": "circle"
         },
         "mode": "markers",
         "name": "UG",
         "showlegend": true,
         "type": "scattergeo"
        },
        {
         "geo": "geo",
         "hovertemplate": "<b>%{hovertext}</b><br><br>country=UK<br>ecContribution_2024=%{marker.size}<br>locations=%{location}<extra></extra>",
         "hovertext": [
          "UK"
         ],
         "legendgroup": "UK",
         "locationmode": "ISO-3",
         "locations": [
          null
         ],
         "marker": {
          "color": "#636efa",
          "size": {
           "bdata": "MzOz2JPduEE=",
           "dtype": "f8"
          },
          "sizemode": "area",
          "sizeref": 2857558.324432,
          "symbol": "circle"
         },
         "mode": "markers",
         "name": "UK",
         "showlegend": true,
         "type": "scattergeo"
        },
        {
         "geo": "geo",
         "hovertemplate": "<b>%{hovertext}</b><br><br>country=US<br>ecContribution_2024=%{marker.size}<br>locations=%{location}<extra></extra>",
         "hovertext": [
          "US"
         ],
         "legendgroup": "US",
         "locationmode": "ISO-3",
         "locations": [
          "USA"
         ],
         "marker": {
          "color": "#EF553B",
          "size": {
           "bdata": "FK5HEFRLkEE=",
           "dtype": "f8"
          },
          "sizemode": "area",
          "sizeref": 2857558.324432,
          "symbol": "circle"
         },
         "mode": "markers",
         "name": "US",
         "showlegend": true,
         "type": "scattergeo"
        },
        {
         "geo": "geo",
         "hovertemplate": "<b>%{hovertext}</b><br><br>country=UY<br>ecContribution_2024=%{marker.size}<br>locations=%{location}<extra></extra>",
         "hovertext": [
          "UY"
         ],
         "legendgroup": "UY",
         "locationmode": "ISO-3",
         "locations": [
          "URY"
         ],
         "marker": {
          "color": "#00cc96",
          "size": {
           "bdata": "KVyPwpU95EA=",
           "dtype": "f8"
          },
          "sizemode": "area",
          "sizeref": 2857558.324432,
          "symbol": "circle"
         },
         "mode": "markers",
         "name": "UY",
         "showlegend": true,
         "type": "scattergeo"
        },
        {
         "geo": "geo",
         "hovertemplate": "<b>%{hovertext}</b><br><br>country=UZ<br>ecContribution_2024=%{marker.size}<br>locations=%{location}<extra></extra>",
         "hovertext": [
          "UZ"
         ],
         "legendgroup": "UZ",
         "locationmode": "ISO-3",
         "locations": [
          "UZB"
         ],
         "marker": {
          "color": "#ab63fa",
          "size": {
           "bdata": "AAAAAMCd70A=",
           "dtype": "f8"
          },
          "sizemode": "area",
          "sizeref": 2857558.324432,
          "symbol": "circle"
         },
         "mode": "markers",
         "name": "UZ",
         "showlegend": true,
         "type": "scattergeo"
        },
        {
         "geo": "geo",
         "hovertemplate": "<b>%{hovertext}</b><br><br>country=VE<br>ecContribution_2024=%{marker.size}<br>locations=%{location}<extra></extra>",
         "hovertext": [
          "VE"
         ],
         "legendgroup": "VE",
         "locationmode": "ISO-3",
         "locations": [
          "VEN"
         ],
         "marker": {
          "color": "#FFA15A",
          "size": {
           "bdata": "AAAAACBJ7kA=",
           "dtype": "f8"
          },
          "sizemode": "area",
          "sizeref": 2857558.324432,
          "symbol": "circle"
         },
         "mode": "markers",
         "name": "VE",
         "showlegend": true,
         "type": "scattergeo"
        },
        {
         "geo": "geo",
         "hovertemplate": "<b>%{hovertext}</b><br><br>country=VG<br>ecContribution_2024=%{marker.size}<br>locations=%{location}<extra></extra>",
         "hovertext": [
          "VG"
         ],
         "legendgroup": "VG",
         "locationmode": "ISO-3",
         "locations": [
          "VGB"
         ],
         "marker": {
          "color": "#19d3f3",
          "size": {
           "bdata": "AAAAAAAAAAA=",
           "dtype": "f8"
          },
          "sizemode": "area",
          "sizeref": 2857558.324432,
          "symbol": "circle"
         },
         "mode": "markers",
         "name": "VG",
         "showlegend": true,
         "type": "scattergeo"
        },
        {
         "geo": "geo",
         "hovertemplate": "<b>%{hovertext}</b><br><br>country=VN<br>ecContribution_2024=%{marker.size}<br>locations=%{location}<extra></extra>",
         "hovertext": [
          "VN"
         ],
         "legendgroup": "VN",
         "locationmode": "ISO-3",
         "locations": [
          "VNM"
         ],
         "marker": {
          "color": "#FF6692",
          "size": {
           "bdata": "AAAAAOu+MUE=",
           "dtype": "f8"
          },
          "sizemode": "area",
          "sizeref": 2857558.324432,
          "symbol": "circle"
         },
         "mode": "markers",
         "name": "VN",
         "showlegend": true,
         "type": "scattergeo"
        },
        {
         "geo": "geo",
         "hovertemplate": "<b>%{hovertext}</b><br><br>country=WF<br>ecContribution_2024=%{marker.size}<br>locations=%{location}<extra></extra>",
         "hovertext": [
          "WF"
         ],
         "legendgroup": "WF",
         "locationmode": "ISO-3",
         "locations": [
          "WLF"
         ],
         "marker": {
          "color": "#B6E880",
          "size": {
           "bdata": "AAAAAAAAAAA=",
           "dtype": "f8"
          },
          "sizemode": "area",
          "sizeref": 2857558.324432,
          "symbol": "circle"
         },
         "mode": "markers",
         "name": "WF",
         "showlegend": true,
         "type": "scattergeo"
        },
        {
         "geo": "geo",
         "hovertemplate": "<b>%{hovertext}</b><br><br>country=XK<br>ecContribution_2024=%{marker.size}<br>locations=%{location}<extra></extra>",
         "hovertext": [
          "XK"
         ],
         "legendgroup": "XK",
         "locationmode": "ISO-3",
         "locations": [
          null
         ],
         "marker": {
          "color": "#FF97FF",
          "size": {
           "bdata": "AAAAQC0EN0E=",
           "dtype": "f8"
          },
          "sizemode": "area",
          "sizeref": 2857558.324432,
          "symbol": "circle"
         },
         "mode": "markers",
         "name": "XK",
         "showlegend": true,
         "type": "scattergeo"
        },
        {
         "geo": "geo",
         "hovertemplate": "<b>%{hovertext}</b><br><br>country=YE<br>ecContribution_2024=%{marker.size}<br>locations=%{location}<extra></extra>",
         "hovertext": [
          "YE"
         ],
         "legendgroup": "YE",
         "locationmode": "ISO-3",
         "locations": [
          "YEM"
         ],
         "marker": {
          "color": "#FECB52",
          "size": {
           "bdata": "AAAAAAAAAAA=",
           "dtype": "f8"
          },
          "sizemode": "area",
          "sizeref": 2857558.324432,
          "symbol": "circle"
         },
         "mode": "markers",
         "name": "YE",
         "showlegend": true,
         "type": "scattergeo"
        },
        {
         "geo": "geo",
         "hovertemplate": "<b>%{hovertext}</b><br><br>country=ZA<br>ecContribution_2024=%{marker.size}<br>locations=%{location}<extra></extra>",
         "hovertext": [
          "ZA"
         ],
         "legendgroup": "ZA",
         "locationmode": "ISO-3",
         "locations": [
          "ZAF"
         ],
         "marker": {
          "color": "#636efa",
          "size": {
           "bdata": "FK5HpSr/jEE=",
           "dtype": "f8"
          },
          "sizemode": "area",
          "sizeref": 2857558.324432,
          "symbol": "circle"
         },
         "mode": "markers",
         "name": "ZA",
         "showlegend": true,
         "type": "scattergeo"
        },
        {
         "geo": "geo",
         "hovertemplate": "<b>%{hovertext}</b><br><br>country=ZM<br>ecContribution_2024=%{marker.size}<br>locations=%{location}<extra></extra>",
         "hovertext": [
          "ZM"
         ],
         "legendgroup": "ZM",
         "locationmode": "ISO-3",
         "locations": [
          "ZMB"
         ],
         "marker": {
          "color": "#EF553B",
          "size": {
           "bdata": "exSuT6KoYUE=",
           "dtype": "f8"
          },
          "sizemode": "area",
          "sizeref": 2857558.324432,
          "symbol": "circle"
         },
         "mode": "markers",
         "name": "ZM",
         "showlegend": true,
         "type": "scattergeo"
        },
        {
         "geo": "geo",
         "hovertemplate": "<b>%{hovertext}</b><br><br>country=ZW<br>ecContribution_2024=%{marker.size}<br>locations=%{location}<extra></extra>",
         "hovertext": [
          "ZW"
         ],
         "legendgroup": "ZW",
         "locationmode": "ISO-3",
         "locations": [
          "ZWE"
         ],
         "marker": {
          "color": "#00cc96",
          "size": {
           "bdata": "9ihcD83NUEE=",
           "dtype": "f8"
          },
          "sizemode": "area",
          "sizeref": 2857558.324432,
          "symbol": "circle"
         },
         "mode": "markers",
         "name": "ZW",
         "showlegend": true,
         "type": "scattergeo"
        },
        {
         "geo": "geo",
         "hovertemplate": "<b>%{hovertext}</b><br><br>country=ZZ<br>ecContribution_2024=%{marker.size}<br>locations=%{location}<extra></extra>",
         "hovertext": [
          "ZZ"
         ],
         "legendgroup": "ZZ",
         "locationmode": "ISO-3",
         "locations": [
          null
         ],
         "marker": {
          "color": "#ab63fa",
          "size": {
           "bdata": "AAAAAAAAAAA=",
           "dtype": "f8"
          },
          "sizemode": "area",
          "sizeref": 2857558.324432,
          "symbol": "circle"
         },
         "mode": "markers",
         "name": "ZZ",
         "showlegend": true,
         "type": "scattergeo"
        }
       ],
       "layout": {
        "geo": {
         "center": {},
         "coastlinecolor": "LightGray",
         "countrycolor": "LightGray",
         "domain": {
          "x": [
           0,
           1
          ],
          "y": [
           0,
           1
          ]
         },
         "projection": {
          "type": "natural earth"
         },
         "showcoastlines": true,
         "showcountries": true
        },
        "height": 600,
        "legend": {
         "itemsizing": "constant",
         "title": {
          "text": "country"
         },
         "tracegroupgap": 0
        },
        "margin": {
         "b": 0,
         "l": 0,
         "r": 0,
         "t": 50
        },
        "template": {
         "data": {
          "bar": [
           {
            "error_x": {
             "color": "#2a3f5f"
            },
            "error_y": {
             "color": "#2a3f5f"
            },
            "marker": {
             "line": {
              "color": "#E5ECF6",
              "width": 0.5
             },
             "pattern": {
              "fillmode": "overlay",
              "size": 10,
              "solidity": 0.2
             }
            },
            "type": "bar"
           }
          ],
          "barpolar": [
           {
            "marker": {
             "line": {
              "color": "#E5ECF6",
              "width": 0.5
             },
             "pattern": {
              "fillmode": "overlay",
              "size": 10,
              "solidity": 0.2
             }
            },
            "type": "barpolar"
           }
          ],
          "carpet": [
           {
            "aaxis": {
             "endlinecolor": "#2a3f5f",
             "gridcolor": "white",
             "linecolor": "white",
             "minorgridcolor": "white",
             "startlinecolor": "#2a3f5f"
            },
            "baxis": {
             "endlinecolor": "#2a3f5f",
             "gridcolor": "white",
             "linecolor": "white",
             "minorgridcolor": "white",
             "startlinecolor": "#2a3f5f"
            },
            "type": "carpet"
           }
          ],
          "choropleth": [
           {
            "colorbar": {
             "outlinewidth": 0,
             "ticks": ""
            },
            "type": "choropleth"
           }
          ],
          "contour": [
           {
            "colorbar": {
             "outlinewidth": 0,
             "ticks": ""
            },
            "colorscale": [
             [
              0,
              "#0d0887"
             ],
             [
              0.1111111111111111,
              "#46039f"
             ],
             [
              0.2222222222222222,
              "#7201a8"
             ],
             [
              0.3333333333333333,
              "#9c179e"
             ],
             [
              0.4444444444444444,
              "#bd3786"
             ],
             [
              0.5555555555555556,
              "#d8576b"
             ],
             [
              0.6666666666666666,
              "#ed7953"
             ],
             [
              0.7777777777777778,
              "#fb9f3a"
             ],
             [
              0.8888888888888888,
              "#fdca26"
             ],
             [
              1,
              "#f0f921"
             ]
            ],
            "type": "contour"
           }
          ],
          "contourcarpet": [
           {
            "colorbar": {
             "outlinewidth": 0,
             "ticks": ""
            },
            "type": "contourcarpet"
           }
          ],
          "heatmap": [
           {
            "colorbar": {
             "outlinewidth": 0,
             "ticks": ""
            },
            "colorscale": [
             [
              0,
              "#0d0887"
             ],
             [
              0.1111111111111111,
              "#46039f"
             ],
             [
              0.2222222222222222,
              "#7201a8"
             ],
             [
              0.3333333333333333,
              "#9c179e"
             ],
             [
              0.4444444444444444,
              "#bd3786"
             ],
             [
              0.5555555555555556,
              "#d8576b"
             ],
             [
              0.6666666666666666,
              "#ed7953"
             ],
             [
              0.7777777777777778,
              "#fb9f3a"
             ],
             [
              0.8888888888888888,
              "#fdca26"
             ],
             [
              1,
              "#f0f921"
             ]
            ],
            "type": "heatmap"
           }
          ],
          "histogram": [
           {
            "marker": {
             "pattern": {
              "fillmode": "overlay",
              "size": 10,
              "solidity": 0.2
             }
            },
            "type": "histogram"
           }
          ],
          "histogram2d": [
           {
            "colorbar": {
             "outlinewidth": 0,
             "ticks": ""
            },
            "colorscale": [
             [
              0,
              "#0d0887"
             ],
             [
              0.1111111111111111,
              "#46039f"
             ],
             [
              0.2222222222222222,
              "#7201a8"
             ],
             [
              0.3333333333333333,
              "#9c179e"
             ],
             [
              0.4444444444444444,
              "#bd3786"
             ],
             [
              0.5555555555555556,
              "#d8576b"
             ],
             [
              0.6666666666666666,
              "#ed7953"
             ],
             [
              0.7777777777777778,
              "#fb9f3a"
             ],
             [
              0.8888888888888888,
              "#fdca26"
             ],
             [
              1,
              "#f0f921"
             ]
            ],
            "type": "histogram2d"
           }
          ],
          "histogram2dcontour": [
           {
            "colorbar": {
             "outlinewidth": 0,
             "ticks": ""
            },
            "colorscale": [
             [
              0,
              "#0d0887"
             ],
             [
              0.1111111111111111,
              "#46039f"
             ],
             [
              0.2222222222222222,
              "#7201a8"
             ],
             [
              0.3333333333333333,
              "#9c179e"
             ],
             [
              0.4444444444444444,
              "#bd3786"
             ],
             [
              0.5555555555555556,
              "#d8576b"
             ],
             [
              0.6666666666666666,
              "#ed7953"
             ],
             [
              0.7777777777777778,
              "#fb9f3a"
             ],
             [
              0.8888888888888888,
              "#fdca26"
             ],
             [
              1,
              "#f0f921"
             ]
            ],
            "type": "histogram2dcontour"
           }
          ],
          "mesh3d": [
           {
            "colorbar": {
             "outlinewidth": 0,
             "ticks": ""
            },
            "type": "mesh3d"
           }
          ],
          "parcoords": [
           {
            "line": {
             "colorbar": {
              "outlinewidth": 0,
              "ticks": ""
             }
            },
            "type": "parcoords"
           }
          ],
          "pie": [
           {
            "automargin": true,
            "type": "pie"
           }
          ],
          "scatter": [
           {
            "fillpattern": {
             "fillmode": "overlay",
             "size": 10,
             "solidity": 0.2
            },
            "type": "scatter"
           }
          ],
          "scatter3d": [
           {
            "line": {
             "colorbar": {
              "outlinewidth": 0,
              "ticks": ""
             }
            },
            "marker": {
             "colorbar": {
              "outlinewidth": 0,
              "ticks": ""
             }
            },
            "type": "scatter3d"
           }
          ],
          "scattercarpet": [
           {
            "marker": {
             "colorbar": {
              "outlinewidth": 0,
              "ticks": ""
             }
            },
            "type": "scattercarpet"
           }
          ],
          "scattergeo": [
           {
            "marker": {
             "colorbar": {
              "outlinewidth": 0,
              "ticks": ""
             }
            },
            "type": "scattergeo"
           }
          ],
          "scattergl": [
           {
            "marker": {
             "colorbar": {
              "outlinewidth": 0,
              "ticks": ""
             }
            },
            "type": "scattergl"
           }
          ],
          "scattermap": [
           {
            "marker": {
             "colorbar": {
              "outlinewidth": 0,
              "ticks": ""
             }
            },
            "type": "scattermap"
           }
          ],
          "scattermapbox": [
           {
            "marker": {
             "colorbar": {
              "outlinewidth": 0,
              "ticks": ""
             }
            },
            "type": "scattermapbox"
           }
          ],
          "scatterpolar": [
           {
            "marker": {
             "colorbar": {
              "outlinewidth": 0,
              "ticks": ""
             }
            },
            "type": "scatterpolar"
           }
          ],
          "scatterpolargl": [
           {
            "marker": {
             "colorbar": {
              "outlinewidth": 0,
              "ticks": ""
             }
            },
            "type": "scatterpolargl"
           }
          ],
          "scatterternary": [
           {
            "marker": {
             "colorbar": {
              "outlinewidth": 0,
              "ticks": ""
             }
            },
            "type": "scatterternary"
           }
          ],
          "surface": [
           {
            "colorbar": {
             "outlinewidth": 0,
             "ticks": ""
            },
            "colorscale": [
             [
              0,
              "#0d0887"
             ],
             [
              0.1111111111111111,
              "#46039f"
             ],
             [
              0.2222222222222222,
              "#7201a8"
             ],
             [
              0.3333333333333333,
              "#9c179e"
             ],
             [
              0.4444444444444444,
              "#bd3786"
             ],
             [
              0.5555555555555556,
              "#d8576b"
             ],
             [
              0.6666666666666666,
              "#ed7953"
             ],
             [
              0.7777777777777778,
              "#fb9f3a"
             ],
             [
              0.8888888888888888,
              "#fdca26"
             ],
             [
              1,
              "#f0f921"
             ]
            ],
            "type": "surface"
           }
          ],
          "table": [
           {
            "cells": {
             "fill": {
              "color": "#EBF0F8"
             },
             "line": {
              "color": "white"
             }
            },
            "header": {
             "fill": {
              "color": "#C8D4E3"
             },
             "line": {
              "color": "white"
             }
            },
            "type": "table"
           }
          ]
         },
         "layout": {
          "annotationdefaults": {
           "arrowcolor": "#2a3f5f",
           "arrowhead": 0,
           "arrowwidth": 1
          },
          "autotypenumbers": "strict",
          "coloraxis": {
           "colorbar": {
            "outlinewidth": 0,
            "ticks": ""
           }
          },
          "colorscale": {
           "diverging": [
            [
             0,
             "#8e0152"
            ],
            [
             0.1,
             "#c51b7d"
            ],
            [
             0.2,
             "#de77ae"
            ],
            [
             0.3,
             "#f1b6da"
            ],
            [
             0.4,
             "#fde0ef"
            ],
            [
             0.5,
             "#f7f7f7"
            ],
            [
             0.6,
             "#e6f5d0"
            ],
            [
             0.7,
             "#b8e186"
            ],
            [
             0.8,
             "#7fbc41"
            ],
            [
             0.9,
             "#4d9221"
            ],
            [
             1,
             "#276419"
            ]
           ],
           "sequential": [
            [
             0,
             "#0d0887"
            ],
            [
             0.1111111111111111,
             "#46039f"
            ],
            [
             0.2222222222222222,
             "#7201a8"
            ],
            [
             0.3333333333333333,
             "#9c179e"
            ],
            [
             0.4444444444444444,
             "#bd3786"
            ],
            [
             0.5555555555555556,
             "#d8576b"
            ],
            [
             0.6666666666666666,
             "#ed7953"
            ],
            [
             0.7777777777777778,
             "#fb9f3a"
            ],
            [
             0.8888888888888888,
             "#fdca26"
            ],
            [
             1,
             "#f0f921"
            ]
           ],
           "sequentialminus": [
            [
             0,
             "#0d0887"
            ],
            [
             0.1111111111111111,
             "#46039f"
            ],
            [
             0.2222222222222222,
             "#7201a8"
            ],
            [
             0.3333333333333333,
             "#9c179e"
            ],
            [
             0.4444444444444444,
             "#bd3786"
            ],
            [
             0.5555555555555556,
             "#d8576b"
            ],
            [
             0.6666666666666666,
             "#ed7953"
            ],
            [
             0.7777777777777778,
             "#fb9f3a"
            ],
            [
             0.8888888888888888,
             "#fdca26"
            ],
            [
             1,
             "#f0f921"
            ]
           ]
          },
          "colorway": [
           "#636efa",
           "#EF553B",
           "#00cc96",
           "#ab63fa",
           "#FFA15A",
           "#19d3f3",
           "#FF6692",
           "#B6E880",
           "#FF97FF",
           "#FECB52"
          ],
          "font": {
           "color": "#2a3f5f"
          },
          "geo": {
           "bgcolor": "white",
           "lakecolor": "white",
           "landcolor": "#E5ECF6",
           "showlakes": true,
           "showland": true,
           "subunitcolor": "white"
          },
          "hoverlabel": {
           "align": "left"
          },
          "hovermode": "closest",
          "mapbox": {
           "style": "light"
          },
          "paper_bgcolor": "white",
          "plot_bgcolor": "#E5ECF6",
          "polar": {
           "angularaxis": {
            "gridcolor": "white",
            "linecolor": "white",
            "ticks": ""
           },
           "bgcolor": "#E5ECF6",
           "radialaxis": {
            "gridcolor": "white",
            "linecolor": "white",
            "ticks": ""
           }
          },
          "scene": {
           "xaxis": {
            "backgroundcolor": "#E5ECF6",
            "gridcolor": "white",
            "gridwidth": 2,
            "linecolor": "white",
            "showbackground": true,
            "ticks": "",
            "zerolinecolor": "white"
           },
           "yaxis": {
            "backgroundcolor": "#E5ECF6",
            "gridcolor": "white",
            "gridwidth": 2,
            "linecolor": "white",
            "showbackground": true,
            "ticks": "",
            "zerolinecolor": "white"
           },
           "zaxis": {
            "backgroundcolor": "#E5ECF6",
            "gridcolor": "white",
            "gridwidth": 2,
            "linecolor": "white",
            "showbackground": true,
            "ticks": "",
            "zerolinecolor": "white"
           }
          },
          "shapedefaults": {
           "line": {
            "color": "#2a3f5f"
           }
          },
          "ternary": {
           "aaxis": {
            "gridcolor": "white",
            "linecolor": "white",
            "ticks": ""
           },
           "baxis": {
            "gridcolor": "white",
            "linecolor": "white",
            "ticks": ""
           },
           "bgcolor": "#E5ECF6",
           "caxis": {
            "gridcolor": "white",
            "linecolor": "white",
            "ticks": ""
           }
          },
          "title": {
           "x": 0.05
          },
          "xaxis": {
           "automargin": true,
           "gridcolor": "white",
           "linecolor": "white",
           "ticks": "",
           "title": {
            "standoff": 15
           },
           "zerolinecolor": "white",
           "zerolinewidth": 2
          },
          "yaxis": {
           "automargin": true,
           "gridcolor": "white",
           "linecolor": "white",
           "ticks": "",
           "title": {
            "standoff": 15
           },
           "zerolinecolor": "white",
           "zerolinewidth": 2
          }
         }
        },
        "title": {
         "text": "Funding Levels in 2024"
        }
       }
      }
     },
     "metadata": {},
     "output_type": "display_data"
    }
   ],
   "source": [
    "import pandas as pd\n",
    "import plotly.express as px\n",
    "from ipywidgets import widgets\n",
    "from IPython.display import display\n",
    "import plotly.io as pio\n",
    "import pycountry\n",
    "\n",
    "#pio.renderers.default = \"browser\"\n",
    "\n",
    "# Ensure merged_funding contains the necessary columns\n",
    "# merged_funding should have columns: 'country', 'ecMaxContribution_2020', 'ecMaxContribution_2024'\n",
    "\n",
    "# Function to convert 2-letter ISO codes to 3-letter ISO codes\n",
    "def convert_iso2_to_iso3(iso2_code):\n",
    "    try:\n",
    "        return pycountry.countries.get(alpha_2=iso2_code).alpha_3\n",
    "    except AttributeError:\n",
    "        return None  # Return None if the code is invalid or not found\n",
    "\n",
    "\n",
    "# Add ISO country codes for mapping (if not already present)\n",
    "# Replace this mapping with the actual ISO codes for your dataset\n",
    "merged_funding['iso_alpha'] = merged_funding['country']\n",
    "#print(merged_funding['iso_alpha'])\n",
    "# Function to create the map\n",
    "def create_map(data, year, funding_column):\n",
    "    funding = data[funding_column]\n",
    "    locations = data['country'].apply(lambda x: convert_iso2_to_iso3(x) if isinstance(x, str) else None)\n",
    "    fig = px.scatter_geo(\n",
    "        data,\n",
    "        locations=locations,\n",
    "        locationmode=\"ISO-3\",\n",
    "        color=\"country\",\n",
    "        size_max = 50,\n",
    "        size=funding,\n",
    "        hover_name=\"country\",\n",
    "        projection=\"natural earth\",\n",
    "        title=f\"Funding Levels in {year}\",\n",
    "    \n",
    "    )\n",
    "    fig.update_geos(\n",
    "        showcountries=True,\n",
    "        countrycolor=\"LightGray\",\n",
    "        showcoastlines=True,\n",
    "        coastlinecolor=\"LightGray\",\n",
    "    )\n",
    "    fig.update_layout(\n",
    "        margin={\"r\": 0, \"t\": 50, \"l\": 0, \"b\": 0},\n",
    "        height=600,\n",
    "    )\n",
    "    return fig\n",
    "\n",
    "# Create toggle button\n",
    "toggle = widgets.ToggleButtons(\n",
    "    options=['2020', '2024'],\n",
    "    description='Year:',\n",
    "    button_style='',\n",
    ")\n",
    "\n",
    "# Function to update the map based on the toggle\n",
    "def update_map(change):\n",
    "    if change['new'] == '2020':\n",
    "        fig = create_map(merged_funding, 2020, 'ecContribution_2020')\n",
    "    else:\n",
    "        fig = create_map(merged_funding, 2024, 'ecContribution_2024')\n",
    "    fig.show()\n",
    "\n",
    "# Attach the update function to the toggle button\n",
    "toggle.observe(update_map, names='value')\n",
    "\n",
    "# Display the toggle button\n",
    "display(toggle)\n",
    "\n",
    "# Show the initial map\n",
    "fig = create_map(merged_funding, 2020, 'ecContribution_2020')\n",
    "fig.show()"
   ]
  },
  {
   "cell_type": "code",
   "execution_count": 14,
   "metadata": {},
   "outputs": [
    {
     "name": "stdout",
     "output_type": "stream",
     "text": [
      "     ecContribution_2020  ecContribution_2024\n",
      "0              500000.00                 0.00\n",
      "1               14026.14            120250.00\n",
      "2             1253137.26                 0.00\n",
      "3             5608330.11           6943552.50\n",
      "4             4164549.64           7000504.56\n",
      "..                   ...                  ...\n",
      "169            134073.75                 0.00\n",
      "170          61729940.86          60810580.66\n",
      "171           1992411.63           9258258.49\n",
      "172            407125.00           4405044.24\n",
      "173             83577.50                 0.00\n",
      "\n",
      "[174 rows x 2 columns]\n"
     ]
    }
   ],
   "source": [
    "\n",
    "print(merged_funding[['ecContribution_2020', 'ecContribution_2024']])"
   ]
  },
  {
   "cell_type": "markdown",
   "metadata": {},
   "source": [
    "### In project.csv: column ‘maxEcContribution’"
   ]
  },
  {
   "cell_type": "markdown",
   "metadata": {},
   "source": [
    "Moeilijkheid: er is geen kolom 'country' in project.csv, daarom kan je organization.csv en project.csv mergen op de id-kolom. Hier zitten nog errors en ik moet er nog naar kijken. Nog op te lossen want nu staan er NaNs"
   ]
  },
  {
   "cell_type": "code",
   "execution_count": 16,
   "metadata": {},
   "outputs": [
    {
     "name": "stdout",
     "output_type": "stream",
     "text": [
      "\n",
      "Max EC Contribution per country (coördinatorprojecten):\n",
      "country  ecMaxContribution_2020  ecMaxContribution_2024\n",
      "     DE            4911352081.0            3815181852.0\n",
      "     FR            3191528550.0            2282783353.0\n",
      "     ES            2703481168.0            2129561363.0\n",
      "     NL            2794752324.0            1948764545.0\n",
      "     IT            2348587602.0            1695295845.0\n",
      "     BE            1603021508.0            1360957846.0\n",
      "     EL             795728541.0            1020446106.0\n",
      "     NO             815352937.0             839075429.0\n",
      "     FI             717178702.0             695767408.0\n",
      "     AT             897824634.0             656324903.0\n",
      "     SE            1163297469.0             643339839.0\n",
      "     IL             807546656.0             611225087.0\n",
      "     DK             758007530.0             500659806.0\n",
      "     IE             595899602.0             458084355.0\n",
      "     PT             449795379.0             425846983.0\n",
      "     PL             217583828.0             239319278.0\n",
      "     CZ             165836808.0             165548199.0\n",
      "     LU              62447591.0             132416847.0\n",
      "     UK            3556067527.0             123942735.0\n",
      "     EE             112119018.0             119281661.0\n",
      "     TR              70885031.0             101293319.0\n",
      "     CY             158033947.0              85412994.0\n",
      "     SI             131164840.0              85185978.0\n",
      "     RO              55901083.0              79187800.0\n",
      "     HU             140189818.0              71078264.0\n",
      "     LT              33984456.0              47895205.0\n",
      "     LV              43837871.0              46500915.0\n",
      "     HR              25190145.0              42568836.0\n",
      "     SK              39541361.0              40042831.0\n",
      "     RS              18364023.0              38738179.0\n",
      "     BG              47927336.0              38160685.0\n",
      "     IS              42891345.0              36900970.0\n",
      "     CH            1526834733.0              29553967.0\n",
      "     UA               9652747.0              12529170.0\n",
      "     MT              10804378.0              10879349.0\n",
      "     ZA                300000.0               6681990.0\n",
      "     KE               6000000.0               5000000.0\n",
      "     NG                     0.0               4984995.0\n",
      "     AM                250000.0               3340625.0\n",
      "     GE                397500.0               2812670.0\n",
      "     TN               3076163.0               2761301.0\n",
      "     BA                301656.0               1746875.0\n",
      "     AL                     0.0               1499124.0\n",
      "     MK                115295.0               1329875.0\n",
      "     AU                     0.0               1298944.0\n",
      "     MD                134350.0                223500.0\n",
      "     CL                 50000.0                     0.0\n",
      "     AE                500000.0                     0.0\n",
      "     AI                 50000.0                     0.0\n",
      "     GL                 50000.0                     0.0\n",
      "     GH                     0.0                     0.0\n",
      "     FO                350000.0                     0.0\n",
      "     CA                300000.0                     0.0\n",
      "     NC               1288000.0                     0.0\n",
      "     ME                165966.0                     0.0\n",
      "     US                 69125.0                     0.0\n",
      "     UY               1355972.0                     0.0\n"
     ]
    }
   ],
   "source": [
    "# Paths\n",
    "#proj_path_2020 = \"/Users/mariejatsun/Desktop/MDA Project/cordis-h2020projects-csv/project.csv\"\n",
    "#org_path_2020  = \"/Users/mariejatsun/Desktop/MDA Project/cordis-h2020projects-csv/organization.csv\"\n",
    "#proj_path_2024 = \"/Users/mariejatsun/Desktop/MDA Project/cordis-HORIZONprojects-csv/project.csv\"\n",
    "#org_path_2024  = \"/Users/mariejatsun/Desktop/MDA Project/cordis-HORIZONprojects-csv/organization.csv\"\n",
    "\n",
    "# Load CSV's\n",
    "#df_proj_2020 = pd.read_csv(proj_path_2020, delimiter=\";\", on_bad_lines=\"skip\")\n",
    "#df_org_2020  = pd.read_csv(org_path_2020, delimiter=\";\", on_bad_lines=\"skip\")\n",
    "#df_proj_2024 = pd.read_csv(proj_path_2024, delimiter=\";\", on_bad_lines=\"skip\")\n",
    "#df_org_2024  = pd.read_csv(org_path_2024, delimiter=\";\", on_bad_lines=\"skip\")\n",
    "\n",
    "# Check if required columns exist\n",
    "for df, name in [(df2020_project, \"project.csv 2020\"), (df2024_project, \"project.csv 2024\")]:\n",
    "    if 'ecMaxContribution' not in df.columns:\n",
    "        raise ValueError(f\"Kolom 'ecMaxContribution' ontbreekt in {name}\")\n",
    "if 'id' not in df2024_project.columns or 'projectID' not in df2020_organization.columns:\n",
    "    raise ValueError(\"Verkeerde kolomnamen in 2020 datasets\")\n",
    "if 'id' not in df2024_project.columns or 'projectID' not in df2020_organization.columns:\n",
    "    raise ValueError(\"Verkeerde kolomnamen in 2024 datasets\")\n",
    "if 'country' not in df2020_organization.columns or 'country' not in df2024_organization.columns:\n",
    "    raise ValueError(\"Kolom 'country' ontbreekt in organization.csv\")\n",
    "\n",
    "df2020_project['ecMaxContribution'] = pd.to_numeric(df2020_project['ecMaxContribution'], errors='coerce')\n",
    "df2024_project['ecMaxContribution'] = pd.to_numeric(df2024_project['ecMaxContribution'], errors='coerce')\n",
    "\n",
    "# Merge datasets\n",
    "merged_2020 = pd.merge(\n",
    "    df2020_project[['id', 'ecMaxContribution']],\n",
    "    df2020_organization[['projectID', 'role', 'country']],\n",
    "    left_on='id',\n",
    "    right_on='projectID'\n",
    ")\n",
    "merged_2024 = pd.merge(\n",
    "    df2024_project[['id', 'ecMaxContribution']],\n",
    "    df2024_organization[['projectID', 'role', 'country']],\n",
    "    left_on='id',\n",
    "    right_on='projectID'\n",
    ")\n",
    "\n",
    "# \n",
    "coordinators_2020 = merged_2020[merged_2020['role'] == 'coordinator']\n",
    "coordinators_2024 = merged_2024[merged_2024['role'] == 'coordinator']\n",
    "\n",
    "# Som per land\n",
    "funding_2020 = coordinators_2020.groupby('country')['ecMaxContribution'].sum().reset_index()\n",
    "funding_2024 = coordinators_2024.groupby('country')['ecMaxContribution'].sum().reset_index()\n",
    "\n",
    "# Kolomnamen aanpassen\n",
    "funding_2020.columns = ['country', 'ecMaxContribution_2020']\n",
    "funding_2024.columns = ['country', 'ecMaxContribution_2024']\n",
    "\n",
    "# Mergen en printen\n",
    "merged_funding = pd.merge(funding_2020, funding_2024, on='country', how='outer').fillna(0)\n",
    "merged_funding['ecMaxContribution_2024'] = pd.to_numeric(merged_funding['ecMaxContribution_2024'], errors='coerce')\n",
    "merged_funding['ecMaxContribution_2020'] = pd.to_numeric(merged_funding['ecMaxContribution_2020'], errors='coerce')\n",
    "merged_funding = merged_funding.sort_values(by='ecMaxContribution_2024', ascending=False)\n",
    "\n",
    "\n",
    "print(\"\\nMax EC Contribution per country (coördinatorprojecten):\")\n",
    "print(merged_funding.to_string(index=False))\n"
   ]
  },
  {
   "cell_type": "code",
   "execution_count": 17,
   "metadata": {},
   "outputs": [
    {
     "name": "stdout",
     "output_type": "stream",
     "text": [
      "Unique countries in 2020: 167\n",
      "Unique countries in 2024: 140\n",
      "Coordinator countries 2020: 55\n",
      "Coordinator countries 2024: 49\n",
      "Total unique coordinator countries across both years: 57\n"
     ]
    }
   ],
   "source": [
    "print(\"Unique countries in 2020:\", df2020_organization['country'].nunique())\n",
    "print(\"Unique countries in 2024:\", df2024_organization['country'].nunique())\n",
    "\n",
    "print(\"Coordinator countries 2020:\", coordinators_2020['country'].nunique())\n",
    "print(\"Coordinator countries 2024:\", coordinators_2024['country'].nunique())\n",
    "\n",
    "countries_2020 = set(coordinators_2020['country'].unique())\n",
    "countries_2024 = set(coordinators_2024['country'].unique())\n",
    "all_countries = countries_2020.union(countries_2024)\n",
    "\n",
    "print(\"Total unique coordinator countries across both years:\", len(all_countries))\n"
   ]
  },
  {
   "cell_type": "markdown",
   "metadata": {},
   "source": [
    "## Comparison Accross Research Categories"
   ]
  },
  {
   "cell_type": "code",
   "execution_count": 18,
   "metadata": {},
   "outputs": [
    {
     "name": "stdout",
     "output_type": "stream",
     "text": [
      "\n",
      "Max EC Contribution per category (2020 vs 2024):\n",
      "                   category  ecMaxContribution_2020  ecMaxContribution_2024\n",
      "           natural sciences            4.188656e+10            2.407886e+10\n",
      " engineering and technology            1.992267e+10            9.217157e+09\n",
      "medical and health sciences            1.594889e+10            8.291876e+09\n",
      "            social sciences            1.258005e+10            6.775588e+09\n",
      "                 humanities            2.889835e+09            1.652460e+09\n",
      "      agricultural sciences            2.111892e+09            1.404707e+09\n"
     ]
    }
   ],
   "source": [
    "# Ensure numeric\n",
    "df2020_project['ecMaxContribution'] = pd.to_numeric(df2020_project['ecMaxContribution'], errors='coerce')\n",
    "df2024_project['ecMaxContribution'] = pd.to_numeric(df2024_project['ecMaxContribution'], errors='coerce')\n",
    "\n",
    "# Merge euroSciVoc with project\n",
    "merged_2020_RC = pd.merge(df2020_euroSciVoc[['projectID', 'category2020']],\n",
    "                       df2020_project[['id', 'ecMaxContribution']],\n",
    "                       left_on='projectID', right_on='id')\n",
    "\n",
    "merged_2024_RC = pd.merge(df2024_euroSciVoc[['projectID', 'category2024']],\n",
    "                       df2024_project[['id', 'ecMaxContribution']],\n",
    "                       left_on='projectID', right_on='id')\n",
    "\n",
    "# Drop rows with missing categories (optional)\n",
    "merged_2020_RC = merged_2020_RC.dropna(subset=['category2020'])\n",
    "merged_2024_RC = merged_2024_RC.dropna(subset=['category2024'])\n",
    "\n",
    "# Group and sum\n",
    "funding_2020_RC = merged_2020_RC.groupby('category2020')['ecMaxContribution'].sum().reset_index()\n",
    "funding_2024_RC = merged_2024_RC.groupby('category2024')['ecMaxContribution'].sum().reset_index()\n",
    "\n",
    "# Rename columns\n",
    "funding_2020_RC.columns = ['category', 'ecMaxContribution_2020']\n",
    "funding_2024_RC.columns = ['category', 'ecMaxContribution_2024']\n",
    "\n",
    "# Merge and sort\n",
    "merged_funding_RC = pd.merge(funding_2020_RC, funding_2024_RC, on='category', how='outer').fillna(0)\n",
    "merged_funding_RC = merged_funding_RC.sort_values(by='ecMaxContribution_2024', ascending=False)\n",
    "\n",
    "# Show result\n",
    "print(\"\\nMax EC Contribution per category (2020 vs 2024):\")\n",
    "print(merged_funding_RC.to_string(index=False))\n"
   ]
  },
  {
   "cell_type": "markdown",
   "metadata": {},
   "source": [
    "# Research Output accross Countries"
   ]
  },
  {
   "cell_type": "markdown",
   "metadata": {},
   "source": [
    "Eigenlijk niet zeker of dit nuttig is aangezien nog niet alle publicaties van Horizon2021-2027 gepubliceerd zijn ofc. 24138 vs 440775 pubicaties is wel groot verschil, ni? Also, die csv-files moeten dan nog in git gezet worden"
   ]
  },
  {
   "cell_type": "code",
   "execution_count": 19,
   "metadata": {},
   "outputs": [
    {
     "ename": "FileNotFoundError",
     "evalue": "[Errno 2] No such file or directory: 'C:/Users/gebruiker/Downloads/projectPublications.csv'",
     "output_type": "error",
     "traceback": [
      "\u001b[31m---------------------------------------------------------------------------\u001b[39m",
      "\u001b[31mFileNotFoundError\u001b[39m                         Traceback (most recent call last)",
      "\u001b[36mCell\u001b[39m\u001b[36m \u001b[39m\u001b[32mIn[19]\u001b[39m\u001b[32m, line 2\u001b[39m\n\u001b[32m      1\u001b[39m path = \u001b[33m\"\u001b[39m\u001b[33mC:/Users/gebruiker/Downloads/projectPublications.csv\u001b[39m\u001b[33m\"\u001b[39m\n\u001b[32m----> \u001b[39m\u001b[32m2\u001b[39m test = \u001b[43mpd\u001b[49m\u001b[43m.\u001b[49m\u001b[43mread_csv\u001b[49m\u001b[43m(\u001b[49m\u001b[43mpath\u001b[49m\u001b[43m,\u001b[49m\u001b[43mdelimiter\u001b[49m\u001b[43m=\u001b[49m\u001b[33;43m\"\u001b[39;49m\u001b[33;43m;\u001b[39;49m\u001b[33;43m\"\u001b[39;49m\u001b[43m,\u001b[49m\u001b[43m \u001b[49m\u001b[43mon_bad_lines\u001b[49m\u001b[43m=\u001b[49m\u001b[33;43m\"\u001b[39;49m\u001b[33;43mskip\u001b[39;49m\u001b[33;43m\"\u001b[39;49m\u001b[43m,\u001b[49m\u001b[43m \u001b[49m\u001b[43mlow_memory\u001b[49m\u001b[43m=\u001b[49m\u001b[38;5;28;43;01mFalse\u001b[39;49;00m\u001b[43m)\u001b[49m\n",
      "\u001b[36mFile \u001b[39m\u001b[32m~/code/MDA/venv/lib/python3.13/site-packages/pandas/io/parsers/readers.py:1026\u001b[39m, in \u001b[36mread_csv\u001b[39m\u001b[34m(filepath_or_buffer, sep, delimiter, header, names, index_col, usecols, dtype, engine, converters, true_values, false_values, skipinitialspace, skiprows, skipfooter, nrows, na_values, keep_default_na, na_filter, verbose, skip_blank_lines, parse_dates, infer_datetime_format, keep_date_col, date_parser, date_format, dayfirst, cache_dates, iterator, chunksize, compression, thousands, decimal, lineterminator, quotechar, quoting, doublequote, escapechar, comment, encoding, encoding_errors, dialect, on_bad_lines, delim_whitespace, low_memory, memory_map, float_precision, storage_options, dtype_backend)\u001b[39m\n\u001b[32m   1013\u001b[39m kwds_defaults = _refine_defaults_read(\n\u001b[32m   1014\u001b[39m     dialect,\n\u001b[32m   1015\u001b[39m     delimiter,\n\u001b[32m   (...)\u001b[39m\u001b[32m   1022\u001b[39m     dtype_backend=dtype_backend,\n\u001b[32m   1023\u001b[39m )\n\u001b[32m   1024\u001b[39m kwds.update(kwds_defaults)\n\u001b[32m-> \u001b[39m\u001b[32m1026\u001b[39m \u001b[38;5;28;01mreturn\u001b[39;00m \u001b[43m_read\u001b[49m\u001b[43m(\u001b[49m\u001b[43mfilepath_or_buffer\u001b[49m\u001b[43m,\u001b[49m\u001b[43m \u001b[49m\u001b[43mkwds\u001b[49m\u001b[43m)\u001b[49m\n",
      "\u001b[36mFile \u001b[39m\u001b[32m~/code/MDA/venv/lib/python3.13/site-packages/pandas/io/parsers/readers.py:620\u001b[39m, in \u001b[36m_read\u001b[39m\u001b[34m(filepath_or_buffer, kwds)\u001b[39m\n\u001b[32m    617\u001b[39m _validate_names(kwds.get(\u001b[33m\"\u001b[39m\u001b[33mnames\u001b[39m\u001b[33m\"\u001b[39m, \u001b[38;5;28;01mNone\u001b[39;00m))\n\u001b[32m    619\u001b[39m \u001b[38;5;66;03m# Create the parser.\u001b[39;00m\n\u001b[32m--> \u001b[39m\u001b[32m620\u001b[39m parser = \u001b[43mTextFileReader\u001b[49m\u001b[43m(\u001b[49m\u001b[43mfilepath_or_buffer\u001b[49m\u001b[43m,\u001b[49m\u001b[43m \u001b[49m\u001b[43m*\u001b[49m\u001b[43m*\u001b[49m\u001b[43mkwds\u001b[49m\u001b[43m)\u001b[49m\n\u001b[32m    622\u001b[39m \u001b[38;5;28;01mif\u001b[39;00m chunksize \u001b[38;5;129;01mor\u001b[39;00m iterator:\n\u001b[32m    623\u001b[39m     \u001b[38;5;28;01mreturn\u001b[39;00m parser\n",
      "\u001b[36mFile \u001b[39m\u001b[32m~/code/MDA/venv/lib/python3.13/site-packages/pandas/io/parsers/readers.py:1620\u001b[39m, in \u001b[36mTextFileReader.__init__\u001b[39m\u001b[34m(self, f, engine, **kwds)\u001b[39m\n\u001b[32m   1617\u001b[39m     \u001b[38;5;28mself\u001b[39m.options[\u001b[33m\"\u001b[39m\u001b[33mhas_index_names\u001b[39m\u001b[33m\"\u001b[39m] = kwds[\u001b[33m\"\u001b[39m\u001b[33mhas_index_names\u001b[39m\u001b[33m\"\u001b[39m]\n\u001b[32m   1619\u001b[39m \u001b[38;5;28mself\u001b[39m.handles: IOHandles | \u001b[38;5;28;01mNone\u001b[39;00m = \u001b[38;5;28;01mNone\u001b[39;00m\n\u001b[32m-> \u001b[39m\u001b[32m1620\u001b[39m \u001b[38;5;28mself\u001b[39m._engine = \u001b[38;5;28;43mself\u001b[39;49m\u001b[43m.\u001b[49m\u001b[43m_make_engine\u001b[49m\u001b[43m(\u001b[49m\u001b[43mf\u001b[49m\u001b[43m,\u001b[49m\u001b[43m \u001b[49m\u001b[38;5;28;43mself\u001b[39;49m\u001b[43m.\u001b[49m\u001b[43mengine\u001b[49m\u001b[43m)\u001b[49m\n",
      "\u001b[36mFile \u001b[39m\u001b[32m~/code/MDA/venv/lib/python3.13/site-packages/pandas/io/parsers/readers.py:1880\u001b[39m, in \u001b[36mTextFileReader._make_engine\u001b[39m\u001b[34m(self, f, engine)\u001b[39m\n\u001b[32m   1878\u001b[39m     \u001b[38;5;28;01mif\u001b[39;00m \u001b[33m\"\u001b[39m\u001b[33mb\u001b[39m\u001b[33m\"\u001b[39m \u001b[38;5;129;01mnot\u001b[39;00m \u001b[38;5;129;01min\u001b[39;00m mode:\n\u001b[32m   1879\u001b[39m         mode += \u001b[33m\"\u001b[39m\u001b[33mb\u001b[39m\u001b[33m\"\u001b[39m\n\u001b[32m-> \u001b[39m\u001b[32m1880\u001b[39m \u001b[38;5;28mself\u001b[39m.handles = \u001b[43mget_handle\u001b[49m\u001b[43m(\u001b[49m\n\u001b[32m   1881\u001b[39m \u001b[43m    \u001b[49m\u001b[43mf\u001b[49m\u001b[43m,\u001b[49m\n\u001b[32m   1882\u001b[39m \u001b[43m    \u001b[49m\u001b[43mmode\u001b[49m\u001b[43m,\u001b[49m\n\u001b[32m   1883\u001b[39m \u001b[43m    \u001b[49m\u001b[43mencoding\u001b[49m\u001b[43m=\u001b[49m\u001b[38;5;28;43mself\u001b[39;49m\u001b[43m.\u001b[49m\u001b[43moptions\u001b[49m\u001b[43m.\u001b[49m\u001b[43mget\u001b[49m\u001b[43m(\u001b[49m\u001b[33;43m\"\u001b[39;49m\u001b[33;43mencoding\u001b[39;49m\u001b[33;43m\"\u001b[39;49m\u001b[43m,\u001b[49m\u001b[43m \u001b[49m\u001b[38;5;28;43;01mNone\u001b[39;49;00m\u001b[43m)\u001b[49m\u001b[43m,\u001b[49m\n\u001b[32m   1884\u001b[39m \u001b[43m    \u001b[49m\u001b[43mcompression\u001b[49m\u001b[43m=\u001b[49m\u001b[38;5;28;43mself\u001b[39;49m\u001b[43m.\u001b[49m\u001b[43moptions\u001b[49m\u001b[43m.\u001b[49m\u001b[43mget\u001b[49m\u001b[43m(\u001b[49m\u001b[33;43m\"\u001b[39;49m\u001b[33;43mcompression\u001b[39;49m\u001b[33;43m\"\u001b[39;49m\u001b[43m,\u001b[49m\u001b[43m \u001b[49m\u001b[38;5;28;43;01mNone\u001b[39;49;00m\u001b[43m)\u001b[49m\u001b[43m,\u001b[49m\n\u001b[32m   1885\u001b[39m \u001b[43m    \u001b[49m\u001b[43mmemory_map\u001b[49m\u001b[43m=\u001b[49m\u001b[38;5;28;43mself\u001b[39;49m\u001b[43m.\u001b[49m\u001b[43moptions\u001b[49m\u001b[43m.\u001b[49m\u001b[43mget\u001b[49m\u001b[43m(\u001b[49m\u001b[33;43m\"\u001b[39;49m\u001b[33;43mmemory_map\u001b[39;49m\u001b[33;43m\"\u001b[39;49m\u001b[43m,\u001b[49m\u001b[43m \u001b[49m\u001b[38;5;28;43;01mFalse\u001b[39;49;00m\u001b[43m)\u001b[49m\u001b[43m,\u001b[49m\n\u001b[32m   1886\u001b[39m \u001b[43m    \u001b[49m\u001b[43mis_text\u001b[49m\u001b[43m=\u001b[49m\u001b[43mis_text\u001b[49m\u001b[43m,\u001b[49m\n\u001b[32m   1887\u001b[39m \u001b[43m    \u001b[49m\u001b[43merrors\u001b[49m\u001b[43m=\u001b[49m\u001b[38;5;28;43mself\u001b[39;49m\u001b[43m.\u001b[49m\u001b[43moptions\u001b[49m\u001b[43m.\u001b[49m\u001b[43mget\u001b[49m\u001b[43m(\u001b[49m\u001b[33;43m\"\u001b[39;49m\u001b[33;43mencoding_errors\u001b[39;49m\u001b[33;43m\"\u001b[39;49m\u001b[43m,\u001b[49m\u001b[43m \u001b[49m\u001b[33;43m\"\u001b[39;49m\u001b[33;43mstrict\u001b[39;49m\u001b[33;43m\"\u001b[39;49m\u001b[43m)\u001b[49m\u001b[43m,\u001b[49m\n\u001b[32m   1888\u001b[39m \u001b[43m    \u001b[49m\u001b[43mstorage_options\u001b[49m\u001b[43m=\u001b[49m\u001b[38;5;28;43mself\u001b[39;49m\u001b[43m.\u001b[49m\u001b[43moptions\u001b[49m\u001b[43m.\u001b[49m\u001b[43mget\u001b[49m\u001b[43m(\u001b[49m\u001b[33;43m\"\u001b[39;49m\u001b[33;43mstorage_options\u001b[39;49m\u001b[33;43m\"\u001b[39;49m\u001b[43m,\u001b[49m\u001b[43m \u001b[49m\u001b[38;5;28;43;01mNone\u001b[39;49;00m\u001b[43m)\u001b[49m\u001b[43m,\u001b[49m\n\u001b[32m   1889\u001b[39m \u001b[43m\u001b[49m\u001b[43m)\u001b[49m\n\u001b[32m   1890\u001b[39m \u001b[38;5;28;01massert\u001b[39;00m \u001b[38;5;28mself\u001b[39m.handles \u001b[38;5;129;01mis\u001b[39;00m \u001b[38;5;129;01mnot\u001b[39;00m \u001b[38;5;28;01mNone\u001b[39;00m\n\u001b[32m   1891\u001b[39m f = \u001b[38;5;28mself\u001b[39m.handles.handle\n",
      "\u001b[36mFile \u001b[39m\u001b[32m~/code/MDA/venv/lib/python3.13/site-packages/pandas/io/common.py:873\u001b[39m, in \u001b[36mget_handle\u001b[39m\u001b[34m(path_or_buf, mode, encoding, compression, memory_map, is_text, errors, storage_options)\u001b[39m\n\u001b[32m    868\u001b[39m \u001b[38;5;28;01melif\u001b[39;00m \u001b[38;5;28misinstance\u001b[39m(handle, \u001b[38;5;28mstr\u001b[39m):\n\u001b[32m    869\u001b[39m     \u001b[38;5;66;03m# Check whether the filename is to be opened in binary mode.\u001b[39;00m\n\u001b[32m    870\u001b[39m     \u001b[38;5;66;03m# Binary mode does not support 'encoding' and 'newline'.\u001b[39;00m\n\u001b[32m    871\u001b[39m     \u001b[38;5;28;01mif\u001b[39;00m ioargs.encoding \u001b[38;5;129;01mand\u001b[39;00m \u001b[33m\"\u001b[39m\u001b[33mb\u001b[39m\u001b[33m\"\u001b[39m \u001b[38;5;129;01mnot\u001b[39;00m \u001b[38;5;129;01min\u001b[39;00m ioargs.mode:\n\u001b[32m    872\u001b[39m         \u001b[38;5;66;03m# Encoding\u001b[39;00m\n\u001b[32m--> \u001b[39m\u001b[32m873\u001b[39m         handle = \u001b[38;5;28;43mopen\u001b[39;49m\u001b[43m(\u001b[49m\n\u001b[32m    874\u001b[39m \u001b[43m            \u001b[49m\u001b[43mhandle\u001b[49m\u001b[43m,\u001b[49m\n\u001b[32m    875\u001b[39m \u001b[43m            \u001b[49m\u001b[43mioargs\u001b[49m\u001b[43m.\u001b[49m\u001b[43mmode\u001b[49m\u001b[43m,\u001b[49m\n\u001b[32m    876\u001b[39m \u001b[43m            \u001b[49m\u001b[43mencoding\u001b[49m\u001b[43m=\u001b[49m\u001b[43mioargs\u001b[49m\u001b[43m.\u001b[49m\u001b[43mencoding\u001b[49m\u001b[43m,\u001b[49m\n\u001b[32m    877\u001b[39m \u001b[43m            \u001b[49m\u001b[43merrors\u001b[49m\u001b[43m=\u001b[49m\u001b[43merrors\u001b[49m\u001b[43m,\u001b[49m\n\u001b[32m    878\u001b[39m \u001b[43m            \u001b[49m\u001b[43mnewline\u001b[49m\u001b[43m=\u001b[49m\u001b[33;43m\"\u001b[39;49m\u001b[33;43m\"\u001b[39;49m\u001b[43m,\u001b[49m\n\u001b[32m    879\u001b[39m \u001b[43m        \u001b[49m\u001b[43m)\u001b[49m\n\u001b[32m    880\u001b[39m     \u001b[38;5;28;01melse\u001b[39;00m:\n\u001b[32m    881\u001b[39m         \u001b[38;5;66;03m# Binary mode\u001b[39;00m\n\u001b[32m    882\u001b[39m         handle = \u001b[38;5;28mopen\u001b[39m(handle, ioargs.mode)\n",
      "\u001b[31mFileNotFoundError\u001b[39m: [Errno 2] No such file or directory: 'C:/Users/gebruiker/Downloads/projectPublications.csv'"
     ]
    }
   ],
   "source": [
    "path = \"C:/Users/gebruiker/Downloads/projectPublications.csv\"\n",
    "test = pd.read_csv(path,delimiter=\";\", on_bad_lines=\"skip\", low_memory=False)"
   ]
  },
  {
   "cell_type": "code",
   "execution_count": 20,
   "metadata": {},
   "outputs": [
    {
     "ename": "FileNotFoundError",
     "evalue": "[Errno 2] No such file or directory: 'C:/Users/gebruiker/Downloads/projectPublications2.csv'",
     "output_type": "error",
     "traceback": [
      "\u001b[31m---------------------------------------------------------------------------\u001b[39m",
      "\u001b[31mFileNotFoundError\u001b[39m                         Traceback (most recent call last)",
      "\u001b[36mCell\u001b[39m\u001b[36m \u001b[39m\u001b[32mIn[20]\u001b[39m\u001b[32m, line 2\u001b[39m\n\u001b[32m      1\u001b[39m path2 = \u001b[33m\"\u001b[39m\u001b[33mC:/Users/gebruiker/Downloads/projectPublications2.csv\u001b[39m\u001b[33m\"\u001b[39m\n\u001b[32m----> \u001b[39m\u001b[32m2\u001b[39m test2 = \u001b[43mpd\u001b[49m\u001b[43m.\u001b[49m\u001b[43mread_csv\u001b[49m\u001b[43m(\u001b[49m\u001b[43mpath2\u001b[49m\u001b[43m,\u001b[49m\u001b[43mdelimiter\u001b[49m\u001b[43m=\u001b[49m\u001b[33;43m\"\u001b[39;49m\u001b[33;43m;\u001b[39;49m\u001b[33;43m\"\u001b[39;49m\u001b[43m,\u001b[49m\u001b[43m \u001b[49m\u001b[43mon_bad_lines\u001b[49m\u001b[43m=\u001b[49m\u001b[33;43m\"\u001b[39;49m\u001b[33;43mskip\u001b[39;49m\u001b[33;43m\"\u001b[39;49m\u001b[43m,\u001b[49m\u001b[43m \u001b[49m\u001b[43mlow_memory\u001b[49m\u001b[43m=\u001b[49m\u001b[38;5;28;43;01mFalse\u001b[39;49;00m\u001b[43m)\u001b[49m\n\u001b[32m      3\u001b[39m \u001b[38;5;28mprint\u001b[39m(test2.shape[\u001b[32m0\u001b[39m])\n",
      "\u001b[36mFile \u001b[39m\u001b[32m~/code/MDA/venv/lib/python3.13/site-packages/pandas/io/parsers/readers.py:1026\u001b[39m, in \u001b[36mread_csv\u001b[39m\u001b[34m(filepath_or_buffer, sep, delimiter, header, names, index_col, usecols, dtype, engine, converters, true_values, false_values, skipinitialspace, skiprows, skipfooter, nrows, na_values, keep_default_na, na_filter, verbose, skip_blank_lines, parse_dates, infer_datetime_format, keep_date_col, date_parser, date_format, dayfirst, cache_dates, iterator, chunksize, compression, thousands, decimal, lineterminator, quotechar, quoting, doublequote, escapechar, comment, encoding, encoding_errors, dialect, on_bad_lines, delim_whitespace, low_memory, memory_map, float_precision, storage_options, dtype_backend)\u001b[39m\n\u001b[32m   1013\u001b[39m kwds_defaults = _refine_defaults_read(\n\u001b[32m   1014\u001b[39m     dialect,\n\u001b[32m   1015\u001b[39m     delimiter,\n\u001b[32m   (...)\u001b[39m\u001b[32m   1022\u001b[39m     dtype_backend=dtype_backend,\n\u001b[32m   1023\u001b[39m )\n\u001b[32m   1024\u001b[39m kwds.update(kwds_defaults)\n\u001b[32m-> \u001b[39m\u001b[32m1026\u001b[39m \u001b[38;5;28;01mreturn\u001b[39;00m \u001b[43m_read\u001b[49m\u001b[43m(\u001b[49m\u001b[43mfilepath_or_buffer\u001b[49m\u001b[43m,\u001b[49m\u001b[43m \u001b[49m\u001b[43mkwds\u001b[49m\u001b[43m)\u001b[49m\n",
      "\u001b[36mFile \u001b[39m\u001b[32m~/code/MDA/venv/lib/python3.13/site-packages/pandas/io/parsers/readers.py:620\u001b[39m, in \u001b[36m_read\u001b[39m\u001b[34m(filepath_or_buffer, kwds)\u001b[39m\n\u001b[32m    617\u001b[39m _validate_names(kwds.get(\u001b[33m\"\u001b[39m\u001b[33mnames\u001b[39m\u001b[33m\"\u001b[39m, \u001b[38;5;28;01mNone\u001b[39;00m))\n\u001b[32m    619\u001b[39m \u001b[38;5;66;03m# Create the parser.\u001b[39;00m\n\u001b[32m--> \u001b[39m\u001b[32m620\u001b[39m parser = \u001b[43mTextFileReader\u001b[49m\u001b[43m(\u001b[49m\u001b[43mfilepath_or_buffer\u001b[49m\u001b[43m,\u001b[49m\u001b[43m \u001b[49m\u001b[43m*\u001b[49m\u001b[43m*\u001b[49m\u001b[43mkwds\u001b[49m\u001b[43m)\u001b[49m\n\u001b[32m    622\u001b[39m \u001b[38;5;28;01mif\u001b[39;00m chunksize \u001b[38;5;129;01mor\u001b[39;00m iterator:\n\u001b[32m    623\u001b[39m     \u001b[38;5;28;01mreturn\u001b[39;00m parser\n",
      "\u001b[36mFile \u001b[39m\u001b[32m~/code/MDA/venv/lib/python3.13/site-packages/pandas/io/parsers/readers.py:1620\u001b[39m, in \u001b[36mTextFileReader.__init__\u001b[39m\u001b[34m(self, f, engine, **kwds)\u001b[39m\n\u001b[32m   1617\u001b[39m     \u001b[38;5;28mself\u001b[39m.options[\u001b[33m\"\u001b[39m\u001b[33mhas_index_names\u001b[39m\u001b[33m\"\u001b[39m] = kwds[\u001b[33m\"\u001b[39m\u001b[33mhas_index_names\u001b[39m\u001b[33m\"\u001b[39m]\n\u001b[32m   1619\u001b[39m \u001b[38;5;28mself\u001b[39m.handles: IOHandles | \u001b[38;5;28;01mNone\u001b[39;00m = \u001b[38;5;28;01mNone\u001b[39;00m\n\u001b[32m-> \u001b[39m\u001b[32m1620\u001b[39m \u001b[38;5;28mself\u001b[39m._engine = \u001b[38;5;28;43mself\u001b[39;49m\u001b[43m.\u001b[49m\u001b[43m_make_engine\u001b[49m\u001b[43m(\u001b[49m\u001b[43mf\u001b[49m\u001b[43m,\u001b[49m\u001b[43m \u001b[49m\u001b[38;5;28;43mself\u001b[39;49m\u001b[43m.\u001b[49m\u001b[43mengine\u001b[49m\u001b[43m)\u001b[49m\n",
      "\u001b[36mFile \u001b[39m\u001b[32m~/code/MDA/venv/lib/python3.13/site-packages/pandas/io/parsers/readers.py:1880\u001b[39m, in \u001b[36mTextFileReader._make_engine\u001b[39m\u001b[34m(self, f, engine)\u001b[39m\n\u001b[32m   1878\u001b[39m     \u001b[38;5;28;01mif\u001b[39;00m \u001b[33m\"\u001b[39m\u001b[33mb\u001b[39m\u001b[33m\"\u001b[39m \u001b[38;5;129;01mnot\u001b[39;00m \u001b[38;5;129;01min\u001b[39;00m mode:\n\u001b[32m   1879\u001b[39m         mode += \u001b[33m\"\u001b[39m\u001b[33mb\u001b[39m\u001b[33m\"\u001b[39m\n\u001b[32m-> \u001b[39m\u001b[32m1880\u001b[39m \u001b[38;5;28mself\u001b[39m.handles = \u001b[43mget_handle\u001b[49m\u001b[43m(\u001b[49m\n\u001b[32m   1881\u001b[39m \u001b[43m    \u001b[49m\u001b[43mf\u001b[49m\u001b[43m,\u001b[49m\n\u001b[32m   1882\u001b[39m \u001b[43m    \u001b[49m\u001b[43mmode\u001b[49m\u001b[43m,\u001b[49m\n\u001b[32m   1883\u001b[39m \u001b[43m    \u001b[49m\u001b[43mencoding\u001b[49m\u001b[43m=\u001b[49m\u001b[38;5;28;43mself\u001b[39;49m\u001b[43m.\u001b[49m\u001b[43moptions\u001b[49m\u001b[43m.\u001b[49m\u001b[43mget\u001b[49m\u001b[43m(\u001b[49m\u001b[33;43m\"\u001b[39;49m\u001b[33;43mencoding\u001b[39;49m\u001b[33;43m\"\u001b[39;49m\u001b[43m,\u001b[49m\u001b[43m \u001b[49m\u001b[38;5;28;43;01mNone\u001b[39;49;00m\u001b[43m)\u001b[49m\u001b[43m,\u001b[49m\n\u001b[32m   1884\u001b[39m \u001b[43m    \u001b[49m\u001b[43mcompression\u001b[49m\u001b[43m=\u001b[49m\u001b[38;5;28;43mself\u001b[39;49m\u001b[43m.\u001b[49m\u001b[43moptions\u001b[49m\u001b[43m.\u001b[49m\u001b[43mget\u001b[49m\u001b[43m(\u001b[49m\u001b[33;43m\"\u001b[39;49m\u001b[33;43mcompression\u001b[39;49m\u001b[33;43m\"\u001b[39;49m\u001b[43m,\u001b[49m\u001b[43m \u001b[49m\u001b[38;5;28;43;01mNone\u001b[39;49;00m\u001b[43m)\u001b[49m\u001b[43m,\u001b[49m\n\u001b[32m   1885\u001b[39m \u001b[43m    \u001b[49m\u001b[43mmemory_map\u001b[49m\u001b[43m=\u001b[49m\u001b[38;5;28;43mself\u001b[39;49m\u001b[43m.\u001b[49m\u001b[43moptions\u001b[49m\u001b[43m.\u001b[49m\u001b[43mget\u001b[49m\u001b[43m(\u001b[49m\u001b[33;43m\"\u001b[39;49m\u001b[33;43mmemory_map\u001b[39;49m\u001b[33;43m\"\u001b[39;49m\u001b[43m,\u001b[49m\u001b[43m \u001b[49m\u001b[38;5;28;43;01mFalse\u001b[39;49;00m\u001b[43m)\u001b[49m\u001b[43m,\u001b[49m\n\u001b[32m   1886\u001b[39m \u001b[43m    \u001b[49m\u001b[43mis_text\u001b[49m\u001b[43m=\u001b[49m\u001b[43mis_text\u001b[49m\u001b[43m,\u001b[49m\n\u001b[32m   1887\u001b[39m \u001b[43m    \u001b[49m\u001b[43merrors\u001b[49m\u001b[43m=\u001b[49m\u001b[38;5;28;43mself\u001b[39;49m\u001b[43m.\u001b[49m\u001b[43moptions\u001b[49m\u001b[43m.\u001b[49m\u001b[43mget\u001b[49m\u001b[43m(\u001b[49m\u001b[33;43m\"\u001b[39;49m\u001b[33;43mencoding_errors\u001b[39;49m\u001b[33;43m\"\u001b[39;49m\u001b[43m,\u001b[49m\u001b[43m \u001b[49m\u001b[33;43m\"\u001b[39;49m\u001b[33;43mstrict\u001b[39;49m\u001b[33;43m\"\u001b[39;49m\u001b[43m)\u001b[49m\u001b[43m,\u001b[49m\n\u001b[32m   1888\u001b[39m \u001b[43m    \u001b[49m\u001b[43mstorage_options\u001b[49m\u001b[43m=\u001b[49m\u001b[38;5;28;43mself\u001b[39;49m\u001b[43m.\u001b[49m\u001b[43moptions\u001b[49m\u001b[43m.\u001b[49m\u001b[43mget\u001b[49m\u001b[43m(\u001b[49m\u001b[33;43m\"\u001b[39;49m\u001b[33;43mstorage_options\u001b[39;49m\u001b[33;43m\"\u001b[39;49m\u001b[43m,\u001b[49m\u001b[43m \u001b[49m\u001b[38;5;28;43;01mNone\u001b[39;49;00m\u001b[43m)\u001b[49m\u001b[43m,\u001b[49m\n\u001b[32m   1889\u001b[39m \u001b[43m\u001b[49m\u001b[43m)\u001b[49m\n\u001b[32m   1890\u001b[39m \u001b[38;5;28;01massert\u001b[39;00m \u001b[38;5;28mself\u001b[39m.handles \u001b[38;5;129;01mis\u001b[39;00m \u001b[38;5;129;01mnot\u001b[39;00m \u001b[38;5;28;01mNone\u001b[39;00m\n\u001b[32m   1891\u001b[39m f = \u001b[38;5;28mself\u001b[39m.handles.handle\n",
      "\u001b[36mFile \u001b[39m\u001b[32m~/code/MDA/venv/lib/python3.13/site-packages/pandas/io/common.py:873\u001b[39m, in \u001b[36mget_handle\u001b[39m\u001b[34m(path_or_buf, mode, encoding, compression, memory_map, is_text, errors, storage_options)\u001b[39m\n\u001b[32m    868\u001b[39m \u001b[38;5;28;01melif\u001b[39;00m \u001b[38;5;28misinstance\u001b[39m(handle, \u001b[38;5;28mstr\u001b[39m):\n\u001b[32m    869\u001b[39m     \u001b[38;5;66;03m# Check whether the filename is to be opened in binary mode.\u001b[39;00m\n\u001b[32m    870\u001b[39m     \u001b[38;5;66;03m# Binary mode does not support 'encoding' and 'newline'.\u001b[39;00m\n\u001b[32m    871\u001b[39m     \u001b[38;5;28;01mif\u001b[39;00m ioargs.encoding \u001b[38;5;129;01mand\u001b[39;00m \u001b[33m\"\u001b[39m\u001b[33mb\u001b[39m\u001b[33m\"\u001b[39m \u001b[38;5;129;01mnot\u001b[39;00m \u001b[38;5;129;01min\u001b[39;00m ioargs.mode:\n\u001b[32m    872\u001b[39m         \u001b[38;5;66;03m# Encoding\u001b[39;00m\n\u001b[32m--> \u001b[39m\u001b[32m873\u001b[39m         handle = \u001b[38;5;28;43mopen\u001b[39;49m\u001b[43m(\u001b[49m\n\u001b[32m    874\u001b[39m \u001b[43m            \u001b[49m\u001b[43mhandle\u001b[49m\u001b[43m,\u001b[49m\n\u001b[32m    875\u001b[39m \u001b[43m            \u001b[49m\u001b[43mioargs\u001b[49m\u001b[43m.\u001b[49m\u001b[43mmode\u001b[49m\u001b[43m,\u001b[49m\n\u001b[32m    876\u001b[39m \u001b[43m            \u001b[49m\u001b[43mencoding\u001b[49m\u001b[43m=\u001b[49m\u001b[43mioargs\u001b[49m\u001b[43m.\u001b[49m\u001b[43mencoding\u001b[49m\u001b[43m,\u001b[49m\n\u001b[32m    877\u001b[39m \u001b[43m            \u001b[49m\u001b[43merrors\u001b[49m\u001b[43m=\u001b[49m\u001b[43merrors\u001b[49m\u001b[43m,\u001b[49m\n\u001b[32m    878\u001b[39m \u001b[43m            \u001b[49m\u001b[43mnewline\u001b[49m\u001b[43m=\u001b[49m\u001b[33;43m\"\u001b[39;49m\u001b[33;43m\"\u001b[39;49m\u001b[43m,\u001b[49m\n\u001b[32m    879\u001b[39m \u001b[43m        \u001b[49m\u001b[43m)\u001b[49m\n\u001b[32m    880\u001b[39m     \u001b[38;5;28;01melse\u001b[39;00m:\n\u001b[32m    881\u001b[39m         \u001b[38;5;66;03m# Binary mode\u001b[39;00m\n\u001b[32m    882\u001b[39m         handle = \u001b[38;5;28mopen\u001b[39m(handle, ioargs.mode)\n",
      "\u001b[31mFileNotFoundError\u001b[39m: [Errno 2] No such file or directory: 'C:/Users/gebruiker/Downloads/projectPublications2.csv'"
     ]
    }
   ],
   "source": [
    "path2 = \"C:/Users/gebruiker/Downloads/projectPublications2.csv\"\n",
    "test2 = pd.read_csv(path2,delimiter=\";\", on_bad_lines=\"skip\", low_memory=False)\n",
    "print(test2.shape[0])"
   ]
  },
  {
   "cell_type": "code",
   "execution_count": 21,
   "metadata": {},
   "outputs": [
    {
     "ename": "NameError",
     "evalue": "name 'test' is not defined",
     "output_type": "error",
     "traceback": [
      "\u001b[31m---------------------------------------------------------------------------\u001b[39m",
      "\u001b[31mNameError\u001b[39m                                 Traceback (most recent call last)",
      "\u001b[36mCell\u001b[39m\u001b[36m \u001b[39m\u001b[32mIn[21]\u001b[39m\u001b[32m, line 1\u001b[39m\n\u001b[32m----> \u001b[39m\u001b[32m1\u001b[39m \u001b[38;5;28mprint\u001b[39m(\u001b[43mtest\u001b[49m.shape[\u001b[32m0\u001b[39m])\n",
      "\u001b[31mNameError\u001b[39m: name 'test' is not defined"
     ]
    }
   ],
   "source": [
    "print(test.shape[0])"
   ]
  },
  {
   "cell_type": "markdown",
   "metadata": {},
   "source": [
    "# Coordination Roles"
   ]
  },
  {
   "cell_type": "code",
   "execution_count": null,
   "metadata": {},
   "outputs": [],
   "source": []
  }
 ],
 "metadata": {
  "kernelspec": {
<<<<<<< Updated upstream
   "display_name": "Python (MDA)",
=======
   "display_name": "venv",
>>>>>>> Stashed changes
   "language": "python",
   "name": "mda"
  },
  "language_info": {
   "codemirror_mode": {
    "name": "ipython",
    "version": 3
   },
   "file_extension": ".py",
   "mimetype": "text/x-python",
   "name": "python",
   "nbconvert_exporter": "python",
   "pygments_lexer": "ipython3",
<<<<<<< Updated upstream
   "version": "3.11.11"
=======
   "version": "3.13.1"
>>>>>>> Stashed changes
  }
 },
 "nbformat": 4,
 "nbformat_minor": 2
}
