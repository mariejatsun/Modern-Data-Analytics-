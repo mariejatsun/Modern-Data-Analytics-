{
 "cells": [
  {
   "cell_type": "code",
   "execution_count": 1,
   "metadata": {},
   "outputs": [],
   "source": [
    "import pandas as pd"
   ]
  },
  {
   "cell_type": "markdown",
   "metadata": {},
   "source": [
    "# Research Categories"
   ]
  },
  {
   "cell_type": "code",
   "execution_count": null,
   "metadata": {},
   "outputs": [
    {
     "name": "stdout",
     "output_type": "stream",
     "text": [
      "\n",
      "Number of projects per category in 2020:\n",
      "                   category  count_2020\n",
      "           natural sciences       48421\n",
      " engineering and technology       25267\n",
      "medical and health sciences       17468\n",
      "            social sciences       16024\n",
      "                 humanities        4028\n",
      "      agricultural sciences        2985\n",
      "\n",
      "Number of projects per category in 2024:\n",
      "                   category  count_2024\n",
      "           natural sciences       18075\n",
      " engineering and technology        6680\n",
      "medical and health sciences        5985\n",
      "            social sciences        5027\n",
      "                 humanities        1739\n",
      "      agricultural sciences        1283\n"
     ]
    }
   ],
   "source": [
    "# Path\n",
    "csv_path2020 = \"/Users/mariejatsun/Desktop/MDA Project/cordis-h2020projects-csv/euroSciVoc.csv\"\n",
    "csv_path2024 = \"/Users/mariejatsun/Desktop/MDA Project/cordis-HORIZONprojects-csv/euroSciVoc.csv\"\n",
    "\n",
    "# Load CSV's \n",
    "df_2020 = pd.read_csv(csv_path2020, delimiter=\";\", on_bad_lines=\"skip\")\n",
    "df_2024 = pd.read_csv(csv_path2024, delimiter=\";\", on_bad_lines=\"skip\")\n",
    "\n",
    "# Look if column euroSciVocPath exists\n",
    "if 'euroSciVocPath' not in df_2020.columns or 'euroSciVocPath' not in df_2024.columns:\n",
    "    raise ValueError(\"Column 'euroSciVocPath' not found\")\n",
    "\n",
    "# Extract category\n",
    "df_2020['category2020'] = df_2020['euroSciVocPath'].str.split('/').str[1]\n",
    "df_2024['category2024'] = df_2024['euroSciVocPath'].str.split('/').str[1]\n",
    "\n",
    "# Count rows per category\n",
    "category_counts_2020 = df_2020['category2020'].value_counts().reset_index()\n",
    "category_counts_2024 = df_2024['category2024'].value_counts().reset_index()\n",
    "\n",
    "# Choose column names\n",
    "category_counts_2020.columns = ['category', 'count_2020']\n",
    "category_counts_2024.columns = ['category', 'count_2024']\n",
    "\n",
    "# Print \n",
    "print(\"\\nNumber of projects per category in 2020:\")\n",
    "print(category_counts_2020.to_string(index=False))\n",
    "\n",
    "print(\"\\nNumber of projects per category in 2024:\")\n",
    "print(category_counts_2024.to_string(index=False))\n"
   ]
  },
  {
   "cell_type": "markdown",
   "metadata": {},
   "source": [
    "# Funding Distribution "
   ]
  },
  {
   "cell_type": "code",
   "execution_count": null,
   "metadata": {},
   "outputs": [],
   "source": []
  },
  {
   "cell_type": "code",
   "execution_count": null,
   "metadata": {},
   "outputs": [],
   "source": []
  }
 ],
 "metadata": {
  "kernelspec": {
   "display_name": "MDA",
   "language": "python",
   "name": "python3"
  },
  "language_info": {
   "codemirror_mode": {
    "name": "ipython",
    "version": 3
   },
   "file_extension": ".py",
   "mimetype": "text/x-python",
   "name": "python",
   "nbconvert_exporter": "python",
   "pygments_lexer": "ipython3",
   "version": "3.13.2"
  }
 },
 "nbformat": 4,
 "nbformat_minor": 2
}
