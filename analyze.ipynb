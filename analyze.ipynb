{
 "cells": [
  {
   "cell_type": "code",
   "execution_count": 23,
   "metadata": {},
   "outputs": [],
   "source": [
    "# Import packages\n",
    "import pandas as pd\n",
    "import numpy as np\n",
    "import itertools\n",
    "from collections import Counter\n",
    "\n",
    "# Plots\n",
    "import matplotlib.pyplot as plt\n",
    "import pycountry\n",
    "import plotly.express as px\n",
    "from ipywidgets import Dropdown, Output, VBox\n",
    "from IPython.display import display, HTML\n",
    "import ipywidgets as widgets\n",
    "\n",
    "# Clustering\n",
    "from sklearn.cluster import DBSCAN\n",
    "from sklearn.cluster import KMeans\n",
    "from sklearn.cluster import SpectralClustering"
   ]
  },
  {
   "cell_type": "markdown",
   "metadata": {},
   "source": [
    "# Check for Missing Values and Duplicates"
   ]
  },
  {
   "cell_type": "code",
   "execution_count": 24,
   "metadata": {},
   "outputs": [],
   "source": [
    "# Paths 2020 and 2024\n",
    "csv_path2020_euroSciVoc = \"./cordis-h2020projects-csv/euroSciVoc.csv\"\n",
    "csv_path2020_legalBasis = \"./cordis-h2020projects-csv/legalBasis.csv\"\n",
    "csv_path2020_organization = \"./cordis-h2020projects-csv/organization.csv\"\n",
    "csv_path2020_project = \"./cordis-h2020projects-csv/project.csv\"\n",
    "csv_path2020_topics = \"./cordis-h2020projects-csv/topics.csv\"\n",
    "csv_path2020_webItem = \"./cordis-h2020projects-csv/webItem.csv\"\n",
    "csv_path2020_webLink = \"./cordis-h2020projects-csv/webLink.csv\"\n",
    "csv_path2020_publication = \"./cordis-h2020projects-csv/projectPublications2020.csv\"\n",
    "\n",
    "csv_path2024_euroSciVoc = \"./cordis-HORIZONprojects-csv/euroSciVoc.csv\"\n",
    "csv_path2024_legalBasis = \"./cordis-HORIZONprojects-csv/legalBasis.csv\"\n",
    "csv_path2024_organization = \"./cordis-HORIZONprojects-csv/organization.csv\"\n",
    "csv_path2024_project = \"./cordis-HORIZONprojects-csv/project.csv\"\n",
    "csv_path2024_topics = \"./cordis-HORIZONprojects-csv/topics.csv\"\n",
    "csv_path2024_webItem = \"./cordis-HORIZONprojects-csv/webItem.csv\"\n",
    "csv_path2024_webLink = \"./cordis-HORIZONprojects-csv/webLink.csv\"\n",
    "csv_path2024_publication = \"./cordis-HORIZONprojects-csv/projectPublications2024.csv\"\n",
    "\n"
   ]
  },
  {
   "cell_type": "code",
   "execution_count": 25,
   "metadata": {},
   "outputs": [
    {
     "name": "stdout",
     "output_type": "stream",
     "text": [
      "=== euroSciVoc ===\n",
      "Missing values:\n",
      " projectID                     0\n",
      "euroSciVocCode                0\n",
      "euroSciVocPath                0\n",
      "euroSciVocTitle               0\n",
      "euroSciVocDescription    114193\n",
      "dtype: int64\n",
      "Duplicated rows: 0 \n",
      "\n",
      "=== legalBasis ===\n",
      "Missing values:\n",
      " projectID                  0\n",
      "legalBasis                 0\n",
      "title                      0\n",
      "uniqueProgrammePart    30399\n",
      "dtype: int64\n",
      "Duplicated rows: 0 \n",
      "\n",
      "=== organization ===\n",
      "Missing values:\n",
      " projectID                  0\n",
      "projectAcronym             0\n",
      "organisationID             0\n",
      "vatNumber              23528\n",
      "name                       0\n",
      "shortName              40141\n",
      "SME                      516\n",
      "activityType             954\n",
      "street                  1209\n",
      "postCode                1986\n",
      "city                     522\n",
      "country                  264\n",
      "nutsCode                 618\n",
      "geolocation              232\n",
      "organizationURL        62539\n",
      "contactForm                0\n",
      "contentUpdateDate          0\n",
      "rcn                        0\n",
      "order                      0\n",
      "role                       0\n",
      "ecContribution          7769\n",
      "netEcContribution         37\n",
      "totalCost                187\n",
      "endOfParticipation         0\n",
      "active                176558\n",
      "dtype: int64\n",
      "Duplicated rows: 0 \n",
      "\n",
      "=== project ===\n",
      "Missing values:\n",
      " id                        0\n",
      "acronym                   0\n",
      "status                    0\n",
      "title                     0\n",
      "startDate                11\n",
      "endDate                  11\n",
      "totalCost                 0\n",
      "ecMaxContribution         0\n",
      "legalBasis                0\n",
      "topics                    0\n",
      "ecSignatureDate           0\n",
      "frameworkProgramme        0\n",
      "masterCall                0\n",
      "subCall                   0\n",
      "fundingScheme             1\n",
      "nature                34512\n",
      "objective                 0\n",
      "contentUpdateDate         0\n",
      "rcn                       0\n",
      "grantDoi                  0\n",
      "dtype: int64\n",
      "Duplicated rows: 0 \n",
      "\n",
      "=== topics ===\n",
      "Missing values:\n",
      " projectID    0\n",
      "topic        0\n",
      "title        0\n",
      "dtype: int64\n",
      "Duplicated rows: 0 \n",
      "\n",
      "=== webItem ===\n",
      "Missing values:\n",
      " language              0\n",
      "availableLanguages    0\n",
      "uri                   0\n",
      "title                 7\n",
      "type                  0\n",
      "source                0\n",
      "represents            3\n",
      "dtype: int64\n",
      "Duplicated rows: 0 \n",
      "\n",
      "=== webLink ===\n",
      "Missing values:\n",
      " projectID                  0\n",
      "physUrl                    0\n",
      "id                         2\n",
      "availableLanguages         0\n",
      "status                215063\n",
      "archivedDate          215064\n",
      "type                       0\n",
      "source                     0\n",
      "represents             19764\n",
      "dtype: int64\n",
      "Duplicated rows: 2 \n",
      "\n",
      "=== publications ===\n",
      "Missing values:\n",
      " id                        0\n",
      "title                     1\n",
      "isPublishedAs             1\n",
      "authors                  12\n",
      "journalTitle          32126\n",
      "journalNumber        170786\n",
      "publishedYear            53\n",
      "publishedPages       220030\n",
      "issn                 149228\n",
      "isbn                 397057\n",
      "doi                   84721\n",
      "projectID                 0\n",
      "projectAcronym            0\n",
      "collection                0\n",
      "contentUpdateDate         0\n",
      "rcn                       0\n",
      "dtype: int64\n",
      "Duplicated rows: 0 \n",
      "\n"
     ]
    }
   ],
   "source": [
    "## for horizon 2020 MISSING VALUES AND DUPLICATES\n",
    "\n",
    "# Dataframes inlezen\n",
    "df2020_euroSciVoc = pd.read_csv(csv_path2020_euroSciVoc, delimiter=\";\", on_bad_lines=\"skip\", low_memory=False)\n",
    "df2020_legalBasis = pd.read_csv(csv_path2020_legalBasis, delimiter=\";\", on_bad_lines=\"skip\", low_memory=False)\n",
    "df2020_organization = pd.read_csv(csv_path2020_organization, delimiter=\";\", on_bad_lines=\"skip\", low_memory=False)\n",
    "df2020_project = pd.read_csv(csv_path2020_project, delimiter=\";\", on_bad_lines=\"skip\", low_memory=False)\n",
    "df2020_topics = pd.read_csv(csv_path2020_topics, delimiter=\";\", on_bad_lines=\"skip\", low_memory=False)\n",
    "df2020_webItem = pd.read_csv(csv_path2020_webItem, delimiter=\";\", on_bad_lines=\"skip\", low_memory=False)\n",
    "df2020_webLink = pd.read_csv(csv_path2020_webLink, delimiter=\";\", on_bad_lines=\"skip\", low_memory=False)\n",
    "df2020_publication = pd.read_csv(csv_path2020_publication,delimiter=\";\", on_bad_lines=\"skip\", low_memory=False)\n",
    "\n",
    "# euroSciVoc\n",
    "print(\"=== euroSciVoc ===\")\n",
    "print(\"Missing values:\\n\", df2020_euroSciVoc.isnull().sum())\n",
    "print(\"Duplicated rows:\", df2020_euroSciVoc.duplicated().sum(), \"\\n\")\n",
    "\n",
    "# legalBasis\n",
    "print(\"=== legalBasis ===\")\n",
    "print(\"Missing values:\\n\", df2020_legalBasis.isnull().sum())\n",
    "print(\"Duplicated rows:\", df2020_legalBasis.duplicated().sum(), \"\\n\")\n",
    "\n",
    "# organization\n",
    "print(\"=== organization ===\")\n",
    "print(\"Missing values:\\n\", df2020_organization.isnull().sum())\n",
    "print(\"Duplicated rows:\", df2020_organization.duplicated().sum(), \"\\n\")\n",
    "\n",
    "# project\n",
    "print(\"=== project ===\")\n",
    "print(\"Missing values:\\n\", df2020_project.isnull().sum())\n",
    "print(\"Duplicated rows:\", df2020_project.duplicated().sum(), \"\\n\")\n",
    "\n",
    "# topics\n",
    "print(\"=== topics ===\")\n",
    "print(\"Missing values:\\n\", df2020_topics.isnull().sum())\n",
    "print(\"Duplicated rows:\", df2020_topics.duplicated().sum(), \"\\n\")\n",
    "\n",
    "# webItem\n",
    "print(\"=== webItem ===\")\n",
    "print(\"Missing values:\\n\", df2020_webItem.isnull().sum())\n",
    "print(\"Duplicated rows:\", df2020_webItem.duplicated().sum(), \"\\n\")\n",
    "\n",
    "# webLink\n",
    "print(\"=== webLink ===\")\n",
    "print(\"Missing values:\\n\", df2020_webLink.isnull().sum())\n",
    "print(\"Duplicated rows:\", df2020_webLink.duplicated().sum(), \"\\n\")\n",
    "\n",
    "# publications \n",
    "print(\"=== publications ===\")\n",
    "print(\"Missing values:\\n\", df2020_publication.isnull().sum())\n",
    "print(\"Duplicated rows:\", df2020_publication.duplicated().sum(), \"\\n\")\n",
    "\n",
    "## duplicates verwijderen, we hebben hier geen meerwaarde aan \n",
    "## bepaalde rijen waar gegevens ontbreken, verwijderen we ook. bv waar projectID, title, startdate, enddate, maxEcContribution, EcContribution, role, country ontbreekt \n",
    "\n",
    "# PROJECT — nodig voor analyse van tijd, categorie en funding\n",
    "df2020_project.drop_duplicates(inplace=True)\n",
    "df2020_project.dropna(subset=[\"id\", \"title\", \"startDate\", \"ecMaxContribution\"], inplace=True)\n",
    "\n",
    "# ORGANIZATION — nodig voor funding en coördinatierollen per land\n",
    "df2020_organization.drop_duplicates(inplace=True)\n",
    "df2020_organization.dropna(subset=[\"projectID\", \"organisationID\", \"role\", \"country\", \"ecContribution\"], inplace=True)\n",
    "\n",
    "# EUROSCIVOC — nodig om projecten aan categorieën te koppelen\n",
    "df2020_euroSciVoc.drop_duplicates(inplace=True)\n",
    "df2020_euroSciVoc.dropna(subset=[\"projectID\"], inplace=True)\n",
    "\n",
    "# PUBLICATIONS\n",
    "df2020_publication.drop_duplicates(inplace=True)\n",
    "df2020_publication.dropna(subset=[\"projectID\", \"doi\"], inplace= True)"
   ]
  },
  {
   "cell_type": "code",
   "execution_count": 26,
   "metadata": {},
   "outputs": [
    {
     "name": "stdout",
     "output_type": "stream",
     "text": [
      "=== euroSciVoc ===\n",
      "Missing values:\n",
      " projectID                    0\n",
      "euroSciVocCode               0\n",
      "euroSciVocPath               0\n",
      "euroSciVocTitle              0\n",
      "euroSciVocDescription    38789\n",
      "dtype: int64\n",
      "Duplicated rows: 0 \n",
      "\n",
      "=== legalBasis ===\n",
      "Missing values:\n",
      " projectID                 0\n",
      "legalBasis                0\n",
      "title                     0\n",
      "uniqueProgrammePart    5171\n",
      "dtype: int64\n",
      "Duplicated rows: 0 \n",
      "\n",
      "=== organization ===\n",
      "Missing values:\n",
      " projectID                  0\n",
      "projectAcronym             0\n",
      "organisationID             0\n",
      "vatNumber              15403\n",
      "name                       0\n",
      "shortName              25507\n",
      "SME                      263\n",
      "activityType              24\n",
      "street                   300\n",
      "postCode                 786\n",
      "city                     263\n",
      "country                   13\n",
      "nutsCode                 278\n",
      "geolocation              588\n",
      "organizationURL        38954\n",
      "contactForm                0\n",
      "contentUpdateDate          0\n",
      "rcn                        0\n",
      "order                      0\n",
      "role                       0\n",
      "ecContribution         15704\n",
      "netEcContribution         42\n",
      "totalCost                936\n",
      "endOfParticipation         0\n",
      "active                100249\n",
      "dtype: int64\n",
      "Duplicated rows: 0 \n",
      "\n",
      "=== project ===\n",
      "Missing values:\n",
      " id                        0\n",
      "acronym                   0\n",
      "status                    0\n",
      "title                     0\n",
      "startDate                 0\n",
      "endDate                   0\n",
      "totalCost                 0\n",
      "ecMaxContribution         0\n",
      "legalBasis                0\n",
      "topics                    0\n",
      "ecSignatureDate           1\n",
      "frameworkProgramme        0\n",
      "masterCall                0\n",
      "subCall                   0\n",
      "fundingScheme             1\n",
      "nature                15221\n",
      "objective                 0\n",
      "contentUpdateDate         0\n",
      "rcn                       0\n",
      "grantDoi                 58\n",
      "dtype: int64\n",
      "Duplicated rows: 0 \n",
      "\n",
      "=== topics ===\n",
      "Missing values:\n",
      " projectID    0\n",
      "topic        0\n",
      "title        0\n",
      "dtype: int64\n",
      "Duplicated rows: 0 \n",
      "\n",
      "=== webItem ===\n",
      "Missing values:\n",
      " language              0\n",
      "availableLanguages    0\n",
      "uri                   0\n",
      "title                 3\n",
      "type                  0\n",
      "source                0\n",
      "represents            1\n",
      "dtype: int64\n",
      "Duplicated rows: 0 \n",
      "\n",
      "=== webLink ===\n",
      "Missing values:\n",
      " projectID                 0\n",
      "physUrl                   0\n",
      "id                        0\n",
      "availableLanguages        0\n",
      "status                21440\n",
      "archivedDate          21440\n",
      "type                      0\n",
      "source                    0\n",
      "represents            13723\n",
      "dtype: int64\n",
      "Duplicated rows: 0 \n",
      "\n",
      "=== publications ===\n",
      "Missing values:\n",
      " id                       0\n",
      "title                    0\n",
      "isPublishedAs            0\n",
      "authors                 74\n",
      "journalTitle          2098\n",
      "journalNumber        13618\n",
      "publishedYear            1\n",
      "publishedPages       24130\n",
      "issn                  7000\n",
      "isbn                 23206\n",
      "doi                   2292\n",
      "projectID                0\n",
      "projectAcronym           0\n",
      "collection               0\n",
      "contentUpdateDate        0\n",
      "rcn                      1\n",
      "dtype: int64\n",
      "Duplicated rows: 0 \n",
      "\n"
     ]
    }
   ],
   "source": [
    "## for horizon 2024\n",
    "# Dataframes inlezen\n",
    "df2024_euroSciVoc = pd.read_csv(csv_path2024_euroSciVoc, delimiter=\";\", on_bad_lines=\"skip\", low_memory=False)\n",
    "df2024_legalBasis = pd.read_csv(csv_path2024_legalBasis, delimiter=\";\", on_bad_lines=\"skip\", low_memory=False)\n",
    "df2024_organization = pd.read_csv(csv_path2024_organization, delimiter=\";\", on_bad_lines=\"skip\", low_memory=False)\n",
    "df2024_project = pd.read_csv(csv_path2024_project, delimiter=\";\", on_bad_lines=\"skip\", low_memory=False)\n",
    "df2024_topics = pd.read_csv(csv_path2024_topics, delimiter=\";\", on_bad_lines=\"skip\", low_memory=False)\n",
    "df2024_webItem = pd.read_csv(csv_path2024_webItem, delimiter=\";\", on_bad_lines=\"skip\", low_memory=False)\n",
    "df2024_webLink = pd.read_csv(csv_path2024_webLink, delimiter=\";\", on_bad_lines=\"skip\", low_memory=False)\n",
    "df2024_publication=pd.read_csv(csv_path2024_publication,  delimiter=\";\", on_bad_lines=\"skip\", low_memory=False)\n",
    "\n",
    "# euroSciVoc\n",
    "print(\"=== euroSciVoc ===\")\n",
    "print(\"Missing values:\\n\", df2024_euroSciVoc.isnull().sum())\n",
    "print(\"Duplicated rows:\", df2024_euroSciVoc.duplicated().sum(), \"\\n\")\n",
    "\n",
    "# legalBasis\n",
    "print(\"=== legalBasis ===\")\n",
    "print(\"Missing values:\\n\", df2024_legalBasis.isnull().sum())\n",
    "print(\"Duplicated rows:\", df2024_legalBasis.duplicated().sum(), \"\\n\")\n",
    "\n",
    "# organization\n",
    "print(\"=== organization ===\")\n",
    "print(\"Missing values:\\n\", df2024_organization.isnull().sum())\n",
    "print(\"Duplicated rows:\", df2024_organization.duplicated().sum(), \"\\n\")\n",
    "\n",
    "# project\n",
    "print(\"=== project ===\")\n",
    "print(\"Missing values:\\n\", df2024_project.isnull().sum())\n",
    "print(\"Duplicated rows:\", df2024_project.duplicated().sum(), \"\\n\")\n",
    "\n",
    "# topics\n",
    "print(\"=== topics ===\")\n",
    "print(\"Missing values:\\n\", df2024_topics.isnull().sum())\n",
    "print(\"Duplicated rows:\", df2024_topics.duplicated().sum(), \"\\n\")\n",
    "\n",
    "# webItem\n",
    "print(\"=== webItem ===\")\n",
    "print(\"Missing values:\\n\", df2024_webItem.isnull().sum())\n",
    "print(\"Duplicated rows:\", df2024_webItem.duplicated().sum(), \"\\n\")\n",
    "\n",
    "# webLink\n",
    "print(\"=== webLink ===\")\n",
    "print(\"Missing values:\\n\", df2024_webLink.isnull().sum())\n",
    "print(\"Duplicated rows:\", df2024_webLink.duplicated().sum(), \"\\n\")\n",
    "\n",
    "# publications \n",
    "print(\"=== publications ===\")\n",
    "print(\"Missing values:\\n\", df2024_publication.isnull().sum())\n",
    "print(\"Duplicated rows:\", df2024_publication.duplicated().sum(), \"\\n\")\n",
    "\n",
    "## duplicates verwijderen, we hebben hier geen meerwaarde aan \n",
    "## bepaalde rijen waar gegevens ontbreken, verwijderen we ook. bv waar projectID, title, startdate, enddate, maxEcContribution, EcContribution, role, country ontbreekt \n",
    "\n",
    "# PROJECT — nodig voor analyse van tijd, categorie en funding\n",
    "df2024_project.drop_duplicates(inplace=True)\n",
    "df2024_project.dropna(subset=[\"id\", \"title\", \"startDate\", \"ecMaxContribution\"], inplace=True)\n",
    "\n",
    "# ORGANIZATION — nodig voor funding en coördinatierollen per land\n",
    "df2024_organization.drop_duplicates(inplace=True)\n",
    "df2024_organization.dropna(subset=[\"projectID\", \"organisationID\", \"role\", \"country\", \"ecContribution\"], inplace=True)\n",
    "\n",
    "# EUROSCIVOC — nodig om projecten aan categorieën te koppelen\n",
    "df2024_euroSciVoc.drop_duplicates(inplace=True)\n",
    "df2024_euroSciVoc.dropna(subset=[\"projectID\"], inplace=True)\n",
    "\n",
    "# PUBLICATIONS\n",
    "df2024_publication.drop_duplicates(inplace=True)\n",
    "df2024_publication.dropna(subset=[\"projectID\", \"doi\"], inplace= True)\n"
   ]
  },
  {
   "cell_type": "markdown",
   "metadata": {},
   "source": [
    "# Research Categories"
   ]
  },
  {
   "cell_type": "code",
   "execution_count": 5,
   "metadata": {},
   "outputs": [
    {
     "name": "stdout",
     "output_type": "stream",
     "text": [
      "\n",
      "Number of projects per category in 2020:\n",
      "                   category  count_2020\n",
      "           natural sciences       48421\n",
      " engineering and technology       25267\n",
      "medical and health sciences       17468\n",
      "            social sciences       16024\n",
      "                 humanities        4028\n",
      "      agricultural sciences        2985\n",
      "\n",
      "Number of projects per category in 2024:\n",
      "                   category  count_2024\n",
      "           natural sciences       18075\n",
      " engineering and technology        6680\n",
      "medical and health sciences        5985\n",
      "            social sciences        5027\n",
      "                 humanities        1739\n",
      "      agricultural sciences        1283\n"
     ]
    }
   ],
   "source": [
    "# Look if column euroSciVocPath exists\n",
    "if 'euroSciVocPath' not in df2020_euroSciVoc.columns or 'euroSciVocPath' not in df2024_euroSciVoc.columns:\n",
    "    raise ValueError(\"Column 'euroSciVocPath' not found\")\n",
    "\n",
    "# Extract category\n",
    "df2020_euroSciVoc['category2020'] = df2020_euroSciVoc['euroSciVocPath'].str.split('/').str[1]\n",
    "df2024_euroSciVoc['category2024'] = df2024_euroSciVoc['euroSciVocPath'].str.split('/').str[1]\n",
    "\n",
    "# Count rows per category\n",
    "category_counts_2020 = df2020_euroSciVoc['category2020'].value_counts().reset_index()\n",
    "category_counts_2024 = df2024_euroSciVoc['category2024'].value_counts().reset_index()\n",
    "\n",
    "# Choose column names\n",
    "category_counts_2020.columns = ['category', 'count_2020']\n",
    "category_counts_2024.columns = ['category', 'count_2024']\n",
    "\n",
    "# Print \n",
    "print(\"\\nNumber of projects per category in 2020:\")\n",
    "print(category_counts_2020.to_string(index=False))\n",
    "\n",
    "print(\"\\nNumber of projects per category in 2024:\")\n",
    "print(category_counts_2024.to_string(index=False))"
   ]
  },
  {
   "cell_type": "code",
   "execution_count": 6,
   "metadata": {},
   "outputs": [
    {
     "name": "stdout",
     "output_type": "stream",
     "text": [
      "                   category  project_count  Year\n",
      " engineering and technology            351  2014\n",
      "           natural sciences            213  2014\n",
      "            social sciences            165  2014\n",
      "medical and health sciences            127  2014\n",
      "      agricultural sciences             24  2014\n",
      "                 humanities              6  2014\n",
      "           natural sciences           7656  2015\n",
      " engineering and technology           4255  2015\n",
      "medical and health sciences           2624  2015\n",
      "            social sciences           2464  2015\n",
      "                 humanities            453  2015\n",
      "      agricultural sciences            442  2015\n",
      "           natural sciences           7827  2016\n",
      " engineering and technology           4258  2016\n",
      "medical and health sciences           2724  2016\n",
      "            social sciences           2641  2016\n",
      "                 humanities            623  2016\n",
      "      agricultural sciences            420  2016\n",
      "           natural sciences           7273  2017\n",
      " engineering and technology           4327  2017\n",
      "medical and health sciences           2719  2017\n",
      "            social sciences           2692  2017\n",
      "                 humanities            531  2017\n",
      "      agricultural sciences            420  2017\n",
      "           natural sciences           6576  2018\n",
      " engineering and technology           3720  2018\n",
      "medical and health sciences           2453  2018\n",
      "            social sciences           2262  2018\n",
      "                 humanities            510  2018\n",
      "      agricultural sciences            480  2018\n",
      "           natural sciences           6387  2019\n",
      " engineering and technology           3515  2019\n",
      "medical and health sciences           2661  2019\n",
      "            social sciences           2179  2019\n",
      "                 humanities            544  2019\n",
      "      agricultural sciences            462  2019\n",
      "           natural sciences           5475  2020\n",
      " engineering and technology           2390  2020\n",
      "medical and health sciences           1993  2020\n",
      "            social sciences           1539  2020\n",
      "                 humanities            480  2020\n",
      "      agricultural sciences            328  2020\n",
      "           natural sciences           5478  2021\n",
      " engineering and technology           1944  2021\n",
      "medical and health sciences           1782  2021\n",
      "            social sciences           1577  2021\n",
      "                 humanities            588  2021\n",
      "      agricultural sciences            315  2021\n",
      "           natural sciences           4919  2022\n",
      " engineering and technology           1900  2022\n",
      "medical and health sciences           1691  2022\n",
      "            social sciences           1484  2022\n",
      "                 humanities            522  2022\n",
      "      agricultural sciences            363  2022\n",
      "           natural sciences           6143  2023\n",
      " engineering and technology           2266  2023\n",
      "medical and health sciences           2071  2023\n",
      "            social sciences           1619  2023\n",
      "                 humanities            594  2023\n",
      "      agricultural sciences            410  2023\n",
      "           natural sciences           5958  2024\n",
      " engineering and technology           2173  2024\n",
      "medical and health sciences           1887  2024\n",
      "            social sciences           1624  2024\n",
      "                 humanities            547  2024\n",
      "      agricultural sciences            428  2024\n",
      "           natural sciences           2155  2025\n",
      "medical and health sciences            616  2025\n",
      " engineering and technology            590  2025\n",
      "            social sciences            582  2025\n",
      "                 humanities            270  2025\n",
      "      agricultural sciences            149  2025\n",
      "medical and health sciences              2  2026\n",
      "            social sciences              1  2026\n"
     ]
    }
   ],
   "source": [
    "# Load project files\n",
    "df2020_proj = pd.read_csv(csv_path2020_project, delimiter=\";\", on_bad_lines=\"skip\", low_memory=False)\n",
    "df2024_proj = pd.read_csv(csv_path2024_project, delimiter=\";\", on_bad_lines=\"skip\", low_memory=False)\n",
    "\n",
    "# Combine project data\n",
    "df_proj = pd.concat([df2020_proj, df2024_proj], ignore_index=True)\n",
    "\n",
    "# Extract year from startDate\n",
    "df_proj['startYear'] = pd.to_datetime(df_proj['startDate'], errors='coerce').dt.year\n",
    "\n",
    "# Load euroscivoc files\n",
    "df2020_euro = pd.read_csv(csv_path2020_euroSciVoc, delimiter=\";\", on_bad_lines=\"skip\", low_memory=False)\n",
    "df2024_euro = pd.read_csv(csv_path2024_euroSciVoc, delimiter=\";\", on_bad_lines=\"skip\", low_memory=False)\n",
    "\n",
    "# Combine euroSciVoc data\n",
    "df_euro = pd.concat([df2020_euro, df2024_euro], ignore_index=True)\n",
    "\n",
    "# Check if 'euroSciVocPath' exists\n",
    "if 'euroSciVocPath' not in df_euro.columns:\n",
    "    raise ValueError(\"Column 'euroSciVocPath' not found\")\n",
    "\n",
    "# Extract category\n",
    "df_euro['category'] = df_euro['euroSciVocPath'].str.split('/').str[1]\n",
    "\n",
    "# Merge euroSciVoc with project info\n",
    "df_merged = df_euro.merge(df_proj, left_on='projectID', right_on='id')\n",
    "\n",
    "# Count projects per category per year\n",
    "category_per_year = df_merged.groupby(['startYear', 'category']).size().reset_index(name='project_count')\n",
    "\n",
    "# Fix year column format\n",
    "category_per_year['Year'] = category_per_year['startYear'].astype('Int64')\n",
    "category_per_year = category_per_year.drop(columns='startYear')\n",
    "\n",
    "# Print\n",
    "print(category_per_year.sort_values(['Year', 'project_count'], ascending=[True, False]).to_string(index=False))\n",
    "\n",
    "category_per_year.to_csv(\"category_per_year\", index = False)\n"
   ]
  },
  {
   "cell_type": "code",
   "execution_count": 7,
   "metadata": {},
   "outputs": [
    {
     "data": {
      "image/png": "[encoded data removed]",
      "text/plain": [
       "<Figure size 1000x500 with 1 Axes>"
      ]
     },
     "metadata": {},
     "output_type": "display_data"
    }
   ],
   "source": [
    "# Filter de juiste categorie\n",
    "eng_tech = category_per_year[category_per_year['category'] == 'engineering and technology']\n",
    "\n",
    "# Plotten\n",
    "plt.figure(figsize=(10, 5))\n",
    "plt.plot(eng_tech['Year'], eng_tech['project_count'], marker='o', color='orange')\n",
    "plt.title('Engineering and Technology Projects Over Time')\n",
    "plt.xlabel('Year')\n",
    "plt.ylabel('Number of Projects')\n",
    "plt.grid(True)\n",
    "plt.tight_layout()\n",
    "plt.show()\n"
   ]
  },
  {
   "cell_type": "code",
   "execution_count": 8,
   "metadata": {},
   "outputs": [
    {
     "data": {
      "application/vnd.jupyter.widget-view+json": {
       "model_id": "1effcdfa41ea4f3e8ba1b5b78b585ef4",
       "version_major": 2,
       "version_minor": 0
      },
      "text/plain": [
       "VBox(children=(Dropdown(description='Categorie:', index=1, options=('agricultural sciences', 'engineering and …"
      ]
     },
     "metadata": {},
     "output_type": "display_data"
    }
   ],
   "source": [
    "# Output-widget\n",
    "out = Output()\n",
    "\n",
    "# Alle categorieën\n",
    "categories = sorted(category_per_year['category'].dropna().unique())\n",
    "\n",
    "# Dropdown-widget\n",
    "dropdown = Dropdown(\n",
    "    options=categories,\n",
    "    value='engineering and technology',\n",
    "    description='Categorie:'\n",
    ")\n",
    "\n",
    "# Plotfunctie\n",
    "def create_plot(selected_cat):\n",
    "    data = category_per_year[category_per_year['category'] == selected_cat]\n",
    "    fig = px.line(\n",
    "        data,\n",
    "        x='Year',\n",
    "        y='project_count',\n",
    "        markers=True,\n",
    "        title=f'{selected_cat.capitalize()} Projects Over Time',\n",
    "        labels={'project_count': 'Number of Projects'}\n",
    "    )\n",
    "    fig.update_layout(\n",
    "        height=500,\n",
    "        margin={\"r\": 0, \"t\": 50, \"l\": 0, \"b\": 0}\n",
    "    )\n",
    "    return fig\n",
    "\n",
    "# Update-functie\n",
    "def update_plot(change):\n",
    "    with out:\n",
    "        out.clear_output(wait=True)\n",
    "        selected = change['new']\n",
    "        fig = create_plot(selected)\n",
    "        display(HTML(fig.to_html(include_plotlyjs='cdn')))\n",
    "\n",
    "# Koppel de update-functie aan dropdown\n",
    "dropdown.observe(update_plot, names='value')\n",
    "\n",
    "# UI tonen\n",
    "display(VBox([dropdown, out]))\n",
    "\n",
    "# Initieel plot weergeven\n",
    "with out:\n",
    "    fig = create_plot(dropdown.value)\n",
    "    display(HTML(fig.to_html(include_plotlyjs='cdn')))\n"
   ]
  },
  {
   "cell_type": "markdown",
   "metadata": {},
   "source": [
    "# Funding Distribution "
   ]
  },
  {
   "cell_type": "markdown",
   "metadata": {},
   "source": [
    "## Comparison Across countries"
   ]
  },
  {
   "cell_type": "markdown",
   "metadata": {},
   "source": [
    "### In organization.csv: columns ‘ecContribution’, ‘netEcContribution’"
   ]
  },
  {
   "cell_type": "code",
   "execution_count": 9,
   "metadata": {},
   "outputs": [],
   "source": [
    "# Look if required columns exist\n",
    "required_cols = ['country', 'ecContribution', 'netEcContribution']\n",
    "for col in required_cols:\n",
    "    if col not in df2020_organization.columns or col not in df2024_organization.columns:\n",
    "        raise ValueError(f\"Column '{col}' not found in one of the datasets\")\n",
    "\n",
    "# Group by country and sum contributions\n",
    "funding_2020 = df2020_organization.groupby('country')[['ecContribution', 'netEcContribution']].sum().reset_index()\n",
    "funding_2024 = df2024_organization.groupby('country')[['ecContribution', 'netEcContribution']].sum().reset_index()\n",
    "\n",
    "# Choose column names\n",
    "funding_2020.columns = ['country', 'ecContribution_2020', 'netEcContribution_2020']\n",
    "funding_2024.columns = ['country', 'ecContribution_2024', 'netEcContribution_2024']\n",
    "\n",
    "# Merge datasets on country\n",
    "merged_funding = pd.merge(funding_2020, funding_2024, on='country', how='outer').fillna(0)\n",
    "\n",
    "# Print \n",
    "# print(\"\\nFunding distribution comparison (H2020 vs Horizon Europe):\")\n",
    "# print(merged_funding.sort_values(by='ecContribution_2024', ascending=False).to_string(index=False))\n",
    "\n",
    "merged_funding.to_csv(\"merged_funding.csv\", index=False)"
   ]
  },
  {
   "cell_type": "code",
   "execution_count": 10,
   "metadata": {},
   "outputs": [
    {
     "data": {
      "application/vnd.jupyter.widget-view+json": {
       "model_id": "8b5efd6da86c4dc2ad16954ad500fa67",
       "version_major": 2,
       "version_minor": 0
      },
      "text/plain": [
       "VBox(children=(ToggleButtons(description='Year:', options=('2020', '2024'), value='2020'), Output()))"
      ]
     },
     "metadata": {},
     "output_type": "display_data"
    }
   ],
   "source": [
    "# ISO2 naar ISO3\n",
    "def convert_iso2_to_iso3(iso2_code):\n",
    "    try:\n",
    "        return pycountry.countries.get(alpha_2=iso2_code).alpha_3\n",
    "    except:\n",
    "        return None\n",
    "\n",
    "# Kaartfunctie\n",
    "def create_map(data, year, funding_column):\n",
    "    data = merged_funding.copy()\n",
    "    data[\"iso_alpha\"] = data[\"country\"].apply(convert_iso2_to_iso3)\n",
    "    fig = px.scatter_geo(\n",
    "        data,\n",
    "        locations=\"iso_alpha\",\n",
    "        locationmode=\"ISO-3\",\n",
    "        size=funding_column,\n",
    "        hover_name=\"country\",\n",
    "        projection=\"natural earth\",\n",
    "        title=f\"Funding Levels in {year}\",\n",
    "        size_max=50\n",
    "    )\n",
    "    fig.update_geos(\n",
    "        showcountries=True,\n",
    "        countrycolor=\"LightGray\",\n",
    "        showcoastlines=True,\n",
    "        coastlinecolor=\"LightGray\",\n",
    "    )\n",
    "    fig.update_layout(\n",
    "        margin={\"r\": 0, \"t\": 50, \"l\": 0, \"b\": 0},\n",
    "        height=600,\n",
    "    )\n",
    "    return fig\n",
    "\n",
    "# Output-widget\n",
    "out = Output()\n",
    "\n",
    "# Toggle-knop\n",
    "toggle = widgets.ToggleButtons(\n",
    "    options=['2020', '2024'],\n",
    "    description='Year:',\n",
    "    button_style=''\n",
    ")\n",
    "\n",
    "# Update-functie\n",
    "def update_map(change):\n",
    "    with out:\n",
    "        out.clear_output(wait=True)\n",
    "        year = change['new']\n",
    "        col = 'ecContribution_2020' if year == '2020' else 'ecContribution_2024'\n",
    "        fig = create_map(merged_funding, int(year), col)\n",
    "        html = fig.to_html(include_plotlyjs='cdn')\n",
    "        display(HTML(html))\n",
    "\n",
    "# Koppel functie\n",
    "toggle.observe(update_map, names='value')\n",
    "\n",
    "# UI tonen\n",
    "display(VBox([toggle, out]))\n",
    "\n",
    "# Start met 2020-kaart\n",
    "toggle.value = '2020'  # Triggert automatisch de juiste kaart"
   ]
  },
  {
   "cell_type": "markdown",
   "metadata": {},
   "source": [
    "## Network analysis"
   ]
  },
  {
   "cell_type": "code",
   "execution_count": 11,
   "metadata": {},
   "outputs": [],
   "source": [
    "\n",
    "def country_network_matrices(df, id_col='projectID', country_col='country'):\n",
    "    \"\"\"\n",
    "    Build:\n",
    "      • network_df  : symmetric country‑by‑country co‑operation counts\n",
    "      • distance_df : 1 – 1/n transformation of network_df\n",
    "      • norm_df     : distance_df normalised by row+column totals\n",
    "    Returns the three dataframes in that order.\n",
    "    \"\"\"\n",
    "\n",
    "    # ── 1. Project‑country incidence matrix (binary) ────────────────────────────\n",
    "    incidence = (df[[id_col, country_col]]\n",
    "                 .drop_duplicates()              # one flag per project–country\n",
    "                 .assign(val=1)\n",
    "                 .pivot(index=id_col, columns=country_col, values='val')\n",
    "                 .fillna(0)\n",
    "                 .astype(int))\n",
    "\n",
    "    # ── 2. Co‑operation counts between countries (adjacency) ───────────────────\n",
    "    network_df = incidence.T @ incidence          # matrix multiplication\n",
    "    np.fill_diagonal(network_df.values, 0)        # remove self‑loops\n",
    "    network_df = network_df.astype(int)\n",
    "\n",
    "    # ── 3. Distance matrix: 1 – 1/n ────────────────────────────────────────────\n",
    "    with np.errstate(divide='ignore'):            # suppress divide‑by‑zero warnings\n",
    "        distance_df = 1 - 1 / network_df.replace(0, np.nan)\n",
    "    distance_df = distance_df.fillna(0)\n",
    "\n",
    "    # ── 4. Normalised matrix: d_ij / (total_i + total_j) ───────────────────────\n",
    "    totals = distance_df.sum(axis=1).to_numpy()          # row sums as 1‑D array\n",
    "    denom  = totals[:, None] + totals[None, :]           # outer sum\n",
    "    norm    = np.divide(distance_df.values,\n",
    "                        denom,\n",
    "                        out=np.zeros_like(distance_df.values),\n",
    "                        where=denom != 0)                # avoid /0\n",
    "    norm_df = pd.DataFrame(norm,\n",
    "                           index=distance_df.index,\n",
    "                           columns=distance_df.columns)\n",
    "\n",
    "    return network_df, distance_df, norm_df\n"
   ]
  },
  {
   "cell_type": "code",
   "execution_count": 12,
   "metadata": {},
   "outputs": [],
   "source": [
    "network_df2020, distance_df2020, norm_df2020 = country_network_matrices(df2020_organization)\n",
    "network_df2024, distance_df2024, norm_df2024 = country_network_matrices(df2024_organization)"
   ]
  },
  {
   "cell_type": "code",
   "execution_count": 13,
   "metadata": {},
   "outputs": [],
   "source": [
    "network_df2020.to_csv('landen_samenwerking_matrix2020.csv')\n",
    "network_df2024.to_csv('landen_samenwerking_matrix2024.csv')"
   ]
  },
  {
   "cell_type": "code",
   "execution_count": 14,
   "metadata": {},
   "outputs": [],
   "source": [
    "# ───── Helper: ISO2 → ISO3 ─────\n",
    "def iso2_to_iso3(code: str) -> str | None:\n",
    "    try:\n",
    "        return pycountry.countries.get(alpha_2=code).alpha_3\n",
    "    except:\n",
    "        return None\n",
    "\n",
    "# ───── Run clustering on a norm_df ─────\n",
    "def cluster_dataframe(norm_df: pd.DataFrame, algo, name: str) -> pd.DataFrame:\n",
    "    if getattr(algo, \"metric\", None) == \"precomputed\" or getattr(algo, \"affinity\", \"\") == \"precomputed\":\n",
    "        algo.fit(norm_df)\n",
    "    else:\n",
    "        algo.fit(norm_df.values)\n",
    "\n",
    "    return (\n",
    "        pd.DataFrame({\n",
    "            \"country\": norm_df.index,\n",
    "            \"cluster\": algo.labels_.astype(str)\n",
    "        })\n",
    "        .assign(iso_alpha=lambda df: df[\"country\"].map(iso2_to_iso3))\n",
    "        .dropna(subset=[\"iso_alpha\"])\n",
    "    )\n",
    "\n",
    "# ───── Plot clustering result ─────\n",
    "def cluster_map(df: pd.DataFrame, title: str) -> px.choropleth:\n",
    "    fig = px.choropleth(\n",
    "        df,\n",
    "        locations=\"iso_alpha\",\n",
    "        color=\"cluster\",\n",
    "        hover_name=\"country\",\n",
    "        color_discrete_sequence=px.colors.qualitative.Set3,\n",
    "        projection=\"natural earth\",\n",
    "        title=title\n",
    "    )\n",
    "    fig.update_geos(showcountries=True, countrycolor=\"LightGray\",\n",
    "                    showcoastlines=True, coastlinecolor=\"Gray\")\n",
    "    fig.update_layout(margin=dict(r=0, l=0, t=50, b=0))\n",
    "    return fig\n"
   ]
  },
  {
   "cell_type": "code",
   "execution_count": null,
   "metadata": {},
   "outputs": [],
   "source": [
    "# Parameters\n",
    "N_CLUSTERS = 5\n",
    "EPS        = 1\n",
    "\n",
    "# Algorithms\n",
    "clusterers = {\n",
    "    \"K-means\":   KMeans(n_clusters=N_CLUSTERS, n_init=\"auto\", random_state=42),\n",
    "    \"Spectral\":  SpectralClustering(n_clusters=N_CLUSTERS, affinity=\"precomputed\", random_state=42),\n",
    "    \"DBSCAN\":    DBSCAN(eps=EPS, metric=\"precomputed\")\n",
    "}\n",
    "\n",
    "# Your precomputed matrices\n",
    "distance_matrices = {\n",
    "    2020: norm_df2020,\n",
    "    2024: norm_df2024\n",
    "}\n",
    "\n",
    "# Run all and store results\n",
    "figs = {}\n",
    "\n",
    "for year, norm_df in distance_matrices.items():\n",
    "    for algo_name, algo in clusterers.items():\n",
    "        df_clustered = cluster_dataframe(norm_df, algo, algo_name)\n",
    "        figs[(year, algo_name)] = cluster_map(\n",
    "            df_clustered,\n",
    "            f\"{algo_name} clustering — international cooperation ({year})\"\n",
    "        )\n",
    "\n",
    "# Example: show or export\n",
    "figs[(2024, \"K-means\")].show()\n",
    "figs[(2020, \"K-means\")].show()\n",
    "\n",
    "# figs[(2024, \"K-means\")].write_html(\"kmeans_2024.html\")\n"
   ]
  },
  {
   "cell_type": "code",
   "execution_count": 18,
   "metadata": {},
   "outputs": [],
   "source": [
    "# DBScan\n",
    "dbscan = DBSCAN(eps=1, metric='precomputed')\n",
    "clustering = dbscan.fit(norm_df)\n",
    "labels = clustering.labels_"
   ]
  },
  {
   "cell_type": "code",
   "execution_count": 20,
   "metadata": {},
   "outputs": [
    {
     "data": {
      "application/vnd.plotly.v1+json": {
       "config": {
        "plotlyServerURL": "https://plot.ly"
       },
       "data": [
        {
         "colorscale": [
          [
           0,
           "rgb(141,211,199)"
          ],
          [
           1,
           "rgb(141,211,199)"
          ]
         ],
         "geo": "geo",
         "hovertemplate": "<b>%{hovertext}</b><br><br>cluster=1<br>iso_alpha=%{location}<extra></extra>",
         "hovertext": [
          "AE",
          "AF",
          "AI",
          "AO",
          "BD",
          "BH",
          "BI",
          "BO",
          "BQ",
          "BZ",
          "CD",
          "CG",
          "CR",
          "CU",
          "CV",
          "DJ",
          "DO",
          "GA",
          "GD",
          "GI",
          "GT",
          "HN",
          "IQ",
          "IR",
          "JE",
          "JM",
          "KG",
          "KH",
          "KW",
          "KZ",
          "LI",
          "LK",
          "LR",
          "LS",
          "LY",
          "MC",
          "MG",
          "MH",
          "ML",
          "MM",
          "MN",
          "MR",
          "MU",
          "MV",
          "NC",
          "NE",
          "NI",
          "NP",
          "OM",
          "PA",
          "PF",
          "PK",
          "PS",
          "PY",
          "QA",
          "SA",
          "SC",
          "SD",
          "SG",
          "SL",
          "SR",
          "SX",
          "SZ",
          "TD",
          "TG",
          "TJ",
          "TM",
          "UZ",
          "VG",
          "WF",
          "YE",
          "ZW"
         ],
         "locations": [
          "ARE",
          "AFG",
          "AIA",
          "AGO",
          "BGD",
          "BHR",
          "BDI",
          "BOL",
          "BES",
          "BLZ",
          "COD",
          "COG",
          "CRI",
          "CUB",
          "CPV",
          "DJI",
          "DOM",
          "GAB",
          "GRD",
          "GIB",
          "GTM",
          "HND",
          "IRQ",
          "IRN",
          "JEY",
          "JAM",
          "KGZ",
          "KHM",
          "KWT",
          "KAZ",
          "LIE",
          "LKA",
          "LBR",
          "LSO",
          "LBY",
          "MCO",
          "MDG",
          "MHL",
          "MLI",
          "MMR",
          "MNG",
          "MRT",
          "MUS",
          "MDV",
          "NCL",
          "NER",
          "NIC",
          "NPL",
          "OMN",
          "PAN",
          "PYF",
          "PAK",
          "PSE",
          "PRY",
          "QAT",
          "SAU",
          "SYC",
          "SDN",
          "SGP",
          "SLE",
          "SUR",
          "SXM",
          "SWZ",
          "TCD",
          "TGO",
          "TJK",
          "TKM",
          "UZB",
          "VGB",
          "WLF",
          "YEM",
          "ZWE"
         ],
         "name": "1",
         "showlegend": true,
         "showscale": false,
         "type": "choropleth",
         "z": [
          1,
          1,
          1,
          1,
          1,
          1,
          1,
          1,
          1,
          1,
          1,
          1,
          1,
          1,
          1,
          1,
          1,
          1,
          1,
          1,
          1,
          1,
          1,
          1,
          1,
          1,
          1,
          1,
          1,
          1,
          1,
          1,
          1,
          1,
          1,
          1,
          1,
          1,
          1,
          1,
          1,
          1,
          1,
          1,
          1,
          1,
          1,
          1,
          1,
          1,
          1,
          1,
          1,
          1,
          1,
          1,
          1,
          1,
          1,
          1,
          1,
          1,
          1,
          1,
          1,
          1,
          1,
          1,
          1,
          1,
          1,
          1
         ]
        },
        {
         "colorscale": [
          [
           0,
           "rgb(255,255,179)"
          ],
          [
           1,
           "rgb(255,255,179)"
          ]
         ],
         "geo": "geo",
         "hovertemplate": "<b>%{hovertext}</b><br><br>cluster=3<br>iso_alpha=%{location}<extra></extra>",
         "hovertext": [
          "AL",
          "AM",
          "AZ",
          "BA",
          "BG",
          "BY",
          "CY",
          "EE",
          "GE",
          "HR",
          "IL",
          "IS",
          "LT",
          "LU",
          "LV",
          "MD",
          "ME",
          "MK",
          "MT",
          "RS",
          "SK",
          "UA"
         ],
         "locations": [
          "ALB",
          "ARM",
          "AZE",
          "BIH",
          "BGR",
          "BLR",
          "CYP",
          "EST",
          "GEO",
          "HRV",
          "ISR",
          "ISL",
          "LTU",
          "LUX",
          "LVA",
          "MDA",
          "MNE",
          "MKD",
          "MLT",
          "SRB",
          "SVK",
          "UKR"
         ],
         "name": "3",
         "showlegend": true,
         "showscale": false,
         "type": "choropleth",
         "z": [
          1,
          1,
          1,
          1,
          1,
          1,
          1,
          1,
          1,
          1,
          1,
          1,
          1,
          1,
          1,
          1,
          1,
          1,
          1,
          1,
          1,
          1
         ]
        },
        {
         "colorscale": [
          [
           0,
           "rgb(190,186,218)"
          ],
          [
           1,
           "rgb(190,186,218)"
          ]
         ],
         "geo": "geo",
         "hovertemplate": "<b>%{hovertext}</b><br><br>cluster=4<br>iso_alpha=%{location}<extra></extra>",
         "hovertext": [
          "AR",
          "AU",
          "BR",
          "CA",
          "CL",
          "CN",
          "CO",
          "EC",
          "FO",
          "GL",
          "HK",
          "ID",
          "IN",
          "JO",
          "JP",
          "KR",
          "LB",
          "MX",
          "MY",
          "NZ",
          "PE",
          "PH",
          "RU",
          "TH",
          "TW",
          "US",
          "UY",
          "VN"
         ],
         "locations": [
          "ARG",
          "AUS",
          "BRA",
          "CAN",
          "CHL",
          "CHN",
          "COL",
          "ECU",
          "FRO",
          "GRL",
          "HKG",
          "IDN",
          "IND",
          "JOR",
          "JPN",
          "KOR",
          "LBN",
          "MEX",
          "MYS",
          "NZL",
          "PER",
          "PHL",
          "RUS",
          "THA",
          "TWN",
          "USA",
          "URY",
          "VNM"
         ],
         "name": "4",
         "showlegend": true,
         "showscale": false,
         "type": "choropleth",
         "z": [
          1,
          1,
          1,
          1,
          1,
          1,
          1,
          1,
          1,
          1,
          1,
          1,
          1,
          1,
          1,
          1,
          1,
          1,
          1,
          1,
          1,
          1,
          1,
          1,
          1,
          1,
          1,
          1
         ]
        },
        {
         "colorscale": [
          [
           0,
           "rgb(251,128,114)"
          ],
          [
           1,
           "rgb(251,128,114)"
          ]
         ],
         "geo": "geo",
         "hovertemplate": "<b>%{hovertext}</b><br><br>cluster=0<br>iso_alpha=%{location}<extra></extra>",
         "hovertext": [
          "AT",
          "BE",
          "CH",
          "CZ",
          "DE",
          "DK",
          "ES",
          "FI",
          "FR",
          "HU",
          "IE",
          "IT",
          "NL",
          "NO",
          "PL",
          "PT",
          "RO",
          "SE",
          "SI",
          "TR",
          "ZA"
         ],
         "locations": [
          "AUT",
          "BEL",
          "CHE",
          "CZE",
          "DEU",
          "DNK",
          "ESP",
          "FIN",
          "FRA",
          "HUN",
          "IRL",
          "ITA",
          "NLD",
          "NOR",
          "POL",
          "PRT",
          "ROU",
          "SWE",
          "SVN",
          "TUR",
          "ZAF"
         ],
         "name": "0",
         "showlegend": true,
         "showscale": false,
         "type": "choropleth",
         "z": [
          1,
          1,
          1,
          1,
          1,
          1,
          1,
          1,
          1,
          1,
          1,
          1,
          1,
          1,
          1,
          1,
          1,
          1,
          1,
          1,
          1
         ]
        },
        {
         "colorscale": [
          [
           0,
           "rgb(128,177,211)"
          ],
          [
           1,
           "rgb(128,177,211)"
          ]
         ],
         "geo": "geo",
         "hovertemplate": "<b>%{hovertext}</b><br><br>cluster=2<br>iso_alpha=%{location}<extra></extra>",
         "hovertext": [
          "BF",
          "BJ",
          "BW",
          "CI",
          "CM",
          "DZ",
          "EG",
          "ET",
          "GH",
          "KE",
          "MA",
          "MW",
          "MZ",
          "NG",
          "RW",
          "SN",
          "TN",
          "TZ",
          "UG",
          "ZM"
         ],
         "locations": [
          "BFA",
          "BEN",
          "BWA",
          "CIV",
          "CMR",
          "DZA",
          "EGY",
          "ETH",
          "GHA",
          "KEN",
          "MAR",
          "MWI",
          "MOZ",
          "NGA",
          "RWA",
          "SEN",
          "TUN",
          "TZA",
          "UGA",
          "ZMB"
         ],
         "name": "2",
         "showlegend": true,
         "showscale": false,
         "type": "choropleth",
         "z": [
          1,
          1,
          1,
          1,
          1,
          1,
          1,
          1,
          1,
          1,
          1,
          1,
          1,
          1,
          1,
          1,
          1,
          1,
          1,
          1
         ]
        }
       ],
       "layout": {
        "geo": {
         "center": {},
         "coastlinecolor": "Gray",
         "countrycolor": "LightGray",
         "domain": {
          "x": [
           0,
           1
          ],
          "y": [
           0,
           1
          ]
         },
         "projection": {
          "type": "natural earth"
         },
         "showcoastlines": true,
         "showcountries": true
        },
        "legend": {
         "title": {
          "text": "cluster"
         },
         "tracegroupgap": 0
        },
        "margin": {
         "b": 0,
         "l": 0,
         "r": 0,
         "t": 50
        },
        "template": {
         "data": {
          "bar": [
           {
            "error_x": {
             "color": "#2a3f5f"
            },
            "error_y": {
             "color": "#2a3f5f"
            },
            "marker": {
             "line": {
              "color": "#E5ECF6",
              "width": 0.5
             },
             "pattern": {
              "fillmode": "overlay",
              "size": 10,
              "solidity": 0.2
             }
            },
            "type": "bar"
           }
          ],
          "barpolar": [
           {
            "marker": {
             "line": {
              "color": "#E5ECF6",
              "width": 0.5
             },
             "pattern": {
              "fillmode": "overlay",
              "size": 10,
              "solidity": 0.2
             }
            },
            "type": "barpolar"
           }
          ],
          "carpet": [
           {
            "aaxis": {
             "endlinecolor": "#2a3f5f",
             "gridcolor": "white",
             "linecolor": "white",
             "minorgridcolor": "white",
             "startlinecolor": "#2a3f5f"
            },
            "baxis": {
             "endlinecolor": "#2a3f5f",
             "gridcolor": "white",
             "linecolor": "white",
             "minorgridcolor": "white",
             "startlinecolor": "#2a3f5f"
            },
            "type": "carpet"
           }
          ],
          "choropleth": [
           {
            "colorbar": {
             "outlinewidth": 0,
             "ticks": ""
            },
            "type": "choropleth"
           }
          ],
          "contour": [
           {
            "colorbar": {
             "outlinewidth": 0,
             "ticks": ""
            },
            "colorscale": [
             [
              0,
              "#0d0887"
             ],
             [
              0.1111111111111111,
              "#46039f"
             ],
             [
              0.2222222222222222,
              "#7201a8"
             ],
             [
              0.3333333333333333,
              "#9c179e"
             ],
             [
              0.4444444444444444,
              "#bd3786"
             ],
             [
              0.5555555555555556,
              "#d8576b"
             ],
             [
              0.6666666666666666,
              "#ed7953"
             ],
             [
              0.7777777777777778,
              "#fb9f3a"
             ],
             [
              0.8888888888888888,
              "#fdca26"
             ],
             [
              1,
              "#f0f921"
             ]
            ],
            "type": "contour"
           }
          ],
          "contourcarpet": [
           {
            "colorbar": {
             "outlinewidth": 0,
             "ticks": ""
            },
            "type": "contourcarpet"
           }
          ],
          "heatmap": [
           {
            "colorbar": {
             "outlinewidth": 0,
             "ticks": ""
            },
            "colorscale": [
             [
              0,
              "#0d0887"
             ],
             [
              0.1111111111111111,
              "#46039f"
             ],
             [
              0.2222222222222222,
              "#7201a8"
             ],
             [
              0.3333333333333333,
              "#9c179e"
             ],
             [
              0.4444444444444444,
              "#bd3786"
             ],
             [
              0.5555555555555556,
              "#d8576b"
             ],
             [
              0.6666666666666666,
              "#ed7953"
             ],
             [
              0.7777777777777778,
              "#fb9f3a"
             ],
             [
              0.8888888888888888,
              "#fdca26"
             ],
             [
              1,
              "#f0f921"
             ]
            ],
            "type": "heatmap"
           }
          ],
          "histogram": [
           {
            "marker": {
             "pattern": {
              "fillmode": "overlay",
              "size": 10,
              "solidity": 0.2
             }
            },
            "type": "histogram"
           }
          ],
          "histogram2d": [
           {
            "colorbar": {
             "outlinewidth": 0,
             "ticks": ""
            },
            "colorscale": [
             [
              0,
              "#0d0887"
             ],
             [
              0.1111111111111111,
              "#46039f"
             ],
             [
              0.2222222222222222,
              "#7201a8"
             ],
             [
              0.3333333333333333,
              "#9c179e"
             ],
             [
              0.4444444444444444,
              "#bd3786"
             ],
             [
              0.5555555555555556,
              "#d8576b"
             ],
             [
              0.6666666666666666,
              "#ed7953"
             ],
             [
              0.7777777777777778,
              "#fb9f3a"
             ],
             [
              0.8888888888888888,
              "#fdca26"
             ],
             [
              1,
              "#f0f921"
             ]
            ],
            "type": "histogram2d"
           }
          ],
          "histogram2dcontour": [
           {
            "colorbar": {
             "outlinewidth": 0,
             "ticks": ""
            },
            "colorscale": [
             [
              0,
              "#0d0887"
             ],
             [
              0.1111111111111111,
              "#46039f"
             ],
             [
              0.2222222222222222,
              "#7201a8"
             ],
             [
              0.3333333333333333,
              "#9c179e"
             ],
             [
              0.4444444444444444,
              "#bd3786"
             ],
             [
              0.5555555555555556,
              "#d8576b"
             ],
             [
              0.6666666666666666,
              "#ed7953"
             ],
             [
              0.7777777777777778,
              "#fb9f3a"
             ],
             [
              0.8888888888888888,
              "#fdca26"
             ],
             [
              1,
              "#f0f921"
             ]
            ],
            "type": "histogram2dcontour"
           }
          ],
          "mesh3d": [
           {
            "colorbar": {
             "outlinewidth": 0,
             "ticks": ""
            },
            "type": "mesh3d"
           }
          ],
          "parcoords": [
           {
            "line": {
             "colorbar": {
              "outlinewidth": 0,
              "ticks": ""
             }
            },
            "type": "parcoords"
           }
          ],
          "pie": [
           {
            "automargin": true,
            "type": "pie"
           }
          ],
          "scatter": [
           {
            "fillpattern": {
             "fillmode": "overlay",
             "size": 10,
             "solidity": 0.2
            },
            "type": "scatter"
           }
          ],
          "scatter3d": [
           {
            "line": {
             "colorbar": {
              "outlinewidth": 0,
              "ticks": ""
             }
            },
            "marker": {
             "colorbar": {
              "outlinewidth": 0,
              "ticks": ""
             }
            },
            "type": "scatter3d"
           }
          ],
          "scattercarpet": [
           {
            "marker": {
             "colorbar": {
              "outlinewidth": 0,
              "ticks": ""
             }
            },
            "type": "scattercarpet"
           }
          ],
          "scattergeo": [
           {
            "marker": {
             "colorbar": {
              "outlinewidth": 0,
              "ticks": ""
             }
            },
            "type": "scattergeo"
           }
          ],
          "scattergl": [
           {
            "marker": {
             "colorbar": {
              "outlinewidth": 0,
              "ticks": ""
             }
            },
            "type": "scattergl"
           }
          ],
          "scattermap": [
           {
            "marker": {
             "colorbar": {
              "outlinewidth": 0,
              "ticks": ""
             }
            },
            "type": "scattermap"
           }
          ],
          "scattermapbox": [
           {
            "marker": {
             "colorbar": {
              "outlinewidth": 0,
              "ticks": ""
             }
            },
            "type": "scattermapbox"
           }
          ],
          "scatterpolar": [
           {
            "marker": {
             "colorbar": {
              "outlinewidth": 0,
              "ticks": ""
             }
            },
            "type": "scatterpolar"
           }
          ],
          "scatterpolargl": [
           {
            "marker": {
             "colorbar": {
              "outlinewidth": 0,
              "ticks": ""
             }
            },
            "type": "scatterpolargl"
           }
          ],
          "scatterternary": [
           {
            "marker": {
             "colorbar": {
              "outlinewidth": 0,
              "ticks": ""
             }
            },
            "type": "scatterternary"
           }
          ],
          "surface": [
           {
            "colorbar": {
             "outlinewidth": 0,
             "ticks": ""
            },
            "colorscale": [
             [
              0,
              "#0d0887"
             ],
             [
              0.1111111111111111,
              "#46039f"
             ],
             [
              0.2222222222222222,
              "#7201a8"
             ],
             [
              0.3333333333333333,
              "#9c179e"
             ],
             [
              0.4444444444444444,
              "#bd3786"
             ],
             [
              0.5555555555555556,
              "#d8576b"
             ],
             [
              0.6666666666666666,
              "#ed7953"
             ],
             [
              0.7777777777777778,
              "#fb9f3a"
             ],
             [
              0.8888888888888888,
              "#fdca26"
             ],
             [
              1,
              "#f0f921"
             ]
            ],
            "type": "surface"
           }
          ],
          "table": [
           {
            "cells": {
             "fill": {
              "color": "#EBF0F8"
             },
             "line": {
              "color": "white"
             }
            },
            "header": {
             "fill": {
              "color": "#C8D4E3"
             },
             "line": {
              "color": "white"
             }
            },
            "type": "table"
           }
          ]
         },
         "layout": {
          "annotationdefaults": {
           "arrowcolor": "#2a3f5f",
           "arrowhead": 0,
           "arrowwidth": 1
          },
          "autotypenumbers": "strict",
          "coloraxis": {
           "colorbar": {
            "outlinewidth": 0,
            "ticks": ""
           }
          },
          "colorscale": {
           "diverging": [
            [
             0,
             "#8e0152"
            ],
            [
             0.1,
             "#c51b7d"
            ],
            [
             0.2,
             "#de77ae"
            ],
            [
             0.3,
             "#f1b6da"
            ],
            [
             0.4,
             "#fde0ef"
            ],
            [
             0.5,
             "#f7f7f7"
            ],
            [
             0.6,
             "#e6f5d0"
            ],
            [
             0.7,
             "#b8e186"
            ],
            [
             0.8,
             "#7fbc41"
            ],
            [
             0.9,
             "#4d9221"
            ],
            [
             1,
             "#276419"
            ]
           ],
           "sequential": [
            [
             0,
             "#0d0887"
            ],
            [
             0.1111111111111111,
             "#46039f"
            ],
            [
             0.2222222222222222,
             "#7201a8"
            ],
            [
             0.3333333333333333,
             "#9c179e"
            ],
            [
             0.4444444444444444,
             "#bd3786"
            ],
            [
             0.5555555555555556,
             "#d8576b"
            ],
            [
             0.6666666666666666,
             "#ed7953"
            ],
            [
             0.7777777777777778,
             "#fb9f3a"
            ],
            [
             0.8888888888888888,
             "#fdca26"
            ],
            [
             1,
             "#f0f921"
            ]
           ],
           "sequentialminus": [
            [
             0,
             "#0d0887"
            ],
            [
             0.1111111111111111,
             "#46039f"
            ],
            [
             0.2222222222222222,
             "#7201a8"
            ],
            [
             0.3333333333333333,
             "#9c179e"
            ],
            [
             0.4444444444444444,
             "#bd3786"
            ],
            [
             0.5555555555555556,
             "#d8576b"
            ],
            [
             0.6666666666666666,
             "#ed7953"
            ],
            [
             0.7777777777777778,
             "#fb9f3a"
            ],
            [
             0.8888888888888888,
             "#fdca26"
            ],
            [
             1,
             "#f0f921"
            ]
           ]
          },
          "colorway": [
           "#636efa",
           "#EF553B",
           "#00cc96",
           "#ab63fa",
           "#FFA15A",
           "#19d3f3",
           "#FF6692",
           "#B6E880",
           "#FF97FF",
           "#FECB52"
          ],
          "font": {
           "color": "#2a3f5f"
          },
          "geo": {
           "bgcolor": "white",
           "lakecolor": "white",
           "landcolor": "#E5ECF6",
           "showlakes": true,
           "showland": true,
           "subunitcolor": "white"
          },
          "hoverlabel": {
           "align": "left"
          },
          "hovermode": "closest",
          "mapbox": {
           "style": "light"
          },
          "paper_bgcolor": "white",
          "plot_bgcolor": "#E5ECF6",
          "polar": {
           "angularaxis": {
            "gridcolor": "white",
            "linecolor": "white",
            "ticks": ""
           },
           "bgcolor": "#E5ECF6",
           "radialaxis": {
            "gridcolor": "white",
            "linecolor": "white",
            "ticks": ""
           }
          },
          "scene": {
           "xaxis": {
            "backgroundcolor": "#E5ECF6",
            "gridcolor": "white",
            "gridwidth": 2,
            "linecolor": "white",
            "showbackground": true,
            "ticks": "",
            "zerolinecolor": "white"
           },
           "yaxis": {
            "backgroundcolor": "#E5ECF6",
            "gridcolor": "white",
            "gridwidth": 2,
            "linecolor": "white",
            "showbackground": true,
            "ticks": "",
            "zerolinecolor": "white"
           },
           "zaxis": {
            "backgroundcolor": "#E5ECF6",
            "gridcolor": "white",
            "gridwidth": 2,
            "linecolor": "white",
            "showbackground": true,
            "ticks": "",
            "zerolinecolor": "white"
           }
          },
          "shapedefaults": {
           "line": {
            "color": "#2a3f5f"
           }
          },
          "ternary": {
           "aaxis": {
            "gridcolor": "white",
            "linecolor": "white",
            "ticks": ""
           },
           "baxis": {
            "gridcolor": "white",
            "linecolor": "white",
            "ticks": ""
           },
           "bgcolor": "#E5ECF6",
           "caxis": {
            "gridcolor": "white",
            "linecolor": "white",
            "ticks": ""
           }
          },
          "title": {
           "x": 0.05
          },
          "xaxis": {
           "automargin": true,
           "gridcolor": "white",
           "linecolor": "white",
           "ticks": "",
           "title": {
            "standoff": 15
           },
           "zerolinecolor": "white",
           "zerolinewidth": 2
          },
          "yaxis": {
           "automargin": true,
           "gridcolor": "white",
           "linecolor": "white",
           "ticks": "",
           "title": {
            "standoff": 15
           },
           "zerolinecolor": "white",
           "zerolinewidth": 2
          }
         }
        },
        "title": {
         "text": "K-means clustering — international cooperation (2020)"
        }
       }
      }
     },
     "metadata": {},
     "output_type": "display_data"
    },
    {
     "data": {
      "application/vnd.plotly.v1+json": {
       "config": {
        "plotlyServerURL": "https://plot.ly"
       },
       "data": [
        {
         "colorscale": [
          [
           0,
           "rgb(141,211,199)"
          ],
          [
           1,
           "rgb(141,211,199)"
          ]
         ],
         "geo": "geo",
         "hovertemplate": "<b>%{hovertext}</b><br><br>cluster=0<br>iso_alpha=%{location}<extra></extra>",
         "hovertext": [
          "AE",
          "AF",
          "AI",
          "AL",
          "AM",
          "AO",
          "AR",
          "AT",
          "AU",
          "AZ",
          "BA",
          "BD",
          "BE",
          "BG",
          "BH",
          "BO",
          "BQ",
          "BR",
          "BY",
          "BZ",
          "CA",
          "CD",
          "CG",
          "CH",
          "CL",
          "CN",
          "CO",
          "CR",
          "CU",
          "CY",
          "CZ",
          "DE",
          "DJ",
          "DK",
          "DO",
          "EC",
          "EE",
          "EG",
          "ES",
          "FI",
          "FO",
          "FR",
          "GA",
          "GD",
          "GE",
          "GI",
          "GL",
          "GT",
          "HK",
          "HN",
          "HR",
          "HU",
          "ID",
          "IE",
          "IL",
          "IN",
          "IQ",
          "IR",
          "IS",
          "IT",
          "JE",
          "JM",
          "JO",
          "JP",
          "KH",
          "KR",
          "KW",
          "LB",
          "LI",
          "LR",
          "LS",
          "LT",
          "LU",
          "LV",
          "LY",
          "MA",
          "MC",
          "MD",
          "ME",
          "MH",
          "MK",
          "MM",
          "MN",
          "MR",
          "MT",
          "MU",
          "MV",
          "MX",
          "MY",
          "NI",
          "NL",
          "NO",
          "NP",
          "NZ",
          "OM",
          "PA",
          "PE",
          "PH",
          "PL",
          "PS",
          "PT",
          "PY",
          "QA",
          "RO",
          "RS",
          "RU",
          "SA",
          "SC",
          "SE",
          "SG",
          "SI",
          "SK",
          "SR",
          "SX",
          "SZ",
          "TD",
          "TG",
          "TH",
          "TM",
          "TN",
          "TR",
          "TW",
          "UA",
          "US",
          "UY",
          "VG",
          "VN",
          "WF",
          "YE",
          "ZA"
         ],
         "locations": [
          "ARE",
          "AFG",
          "AIA",
          "ALB",
          "ARM",
          "AGO",
          "ARG",
          "AUT",
          "AUS",
          "AZE",
          "BIH",
          "BGD",
          "BEL",
          "BGR",
          "BHR",
          "BOL",
          "BES",
          "BRA",
          "BLR",
          "BLZ",
          "CAN",
          "COD",
          "COG",
          "CHE",
          "CHL",
          "CHN",
          "COL",
          "CRI",
          "CUB",
          "CYP",
          "CZE",
          "DEU",
          "DJI",
          "DNK",
          "DOM",
          "ECU",
          "EST",
          "EGY",
          "ESP",
          "FIN",
          "FRO",
          "FRA",
          "GAB",
          "GRD",
          "GEO",
          "GIB",
          "GRL",
          "GTM",
          "HKG",
          "HND",
          "HRV",
          "HUN",
          "IDN",
          "IRL",
          "ISR",
          "IND",
          "IRQ",
          "IRN",
          "ISL",
          "ITA",
          "JEY",
          "JAM",
          "JOR",
          "JPN",
          "KHM",
          "KOR",
          "KWT",
          "LBN",
          "LIE",
          "LBR",
          "LSO",
          "LTU",
          "LUX",
          "LVA",
          "LBY",
          "MAR",
          "MCO",
          "MDA",
          "MNE",
          "MHL",
          "MKD",
          "MMR",
          "MNG",
          "MRT",
          "MLT",
          "MUS",
          "MDV",
          "MEX",
          "MYS",
          "NIC",
          "NLD",
          "NOR",
          "NPL",
          "NZL",
          "OMN",
          "PAN",
          "PER",
          "PHL",
          "POL",
          "PSE",
          "PRT",
          "PRY",
          "QAT",
          "ROU",
          "SRB",
          "RUS",
          "SAU",
          "SYC",
          "SWE",
          "SGP",
          "SVN",
          "SVK",
          "SUR",
          "SXM",
          "SWZ",
          "TCD",
          "TGO",
          "THA",
          "TKM",
          "TUN",
          "TUR",
          "TWN",
          "UKR",
          "USA",
          "URY",
          "VGB",
          "VNM",
          "WLF",
          "YEM",
          "ZAF"
         ],
         "name": "0",
         "showlegend": true,
         "showscale": false,
         "type": "choropleth",
         "z": [
          1,
          1,
          1,
          1,
          1,
          1,
          1,
          1,
          1,
          1,
          1,
          1,
          1,
          1,
          1,
          1,
          1,
          1,
          1,
          1,
          1,
          1,
          1,
          1,
          1,
          1,
          1,
          1,
          1,
          1,
          1,
          1,
          1,
          1,
          1,
          1,
          1,
          1,
          1,
          1,
          1,
          1,
          1,
          1,
          1,
          1,
          1,
          1,
          1,
          1,
          1,
          1,
          1,
          1,
          1,
          1,
          1,
          1,
          1,
          1,
          1,
          1,
          1,
          1,
          1,
          1,
          1,
          1,
          1,
          1,
          1,
          1,
          1,
          1,
          1,
          1,
          1,
          1,
          1,
          1,
          1,
          1,
          1,
          1,
          1,
          1,
          1,
          1,
          1,
          1,
          1,
          1,
          1,
          1,
          1,
          1,
          1,
          1,
          1,
          1,
          1,
          1,
          1,
          1,
          1,
          1,
          1,
          1,
          1,
          1,
          1,
          1,
          1,
          1,
          1,
          1,
          1,
          1,
          1,
          1,
          1,
          1,
          1,
          1,
          1,
          1,
          1,
          1,
          1,
          1
         ]
        },
        {
         "colorscale": [
          [
           0,
           "rgb(255,255,179)"
          ],
          [
           1,
           "rgb(255,255,179)"
          ]
         ],
         "geo": "geo",
         "hovertemplate": "<b>%{hovertext}</b><br><br>cluster=3<br>iso_alpha=%{location}<extra></extra>",
         "hovertext": [
          "BF",
          "BI",
          "BJ",
          "BW",
          "CI",
          "CM",
          "CV",
          "DZ",
          "ET",
          "GH",
          "KE",
          "LK",
          "MG",
          "ML",
          "MW",
          "MZ",
          "NE",
          "NG",
          "PK",
          "RW",
          "SL",
          "SN",
          "TZ",
          "UG",
          "ZM"
         ],
         "locations": [
          "BFA",
          "BDI",
          "BEN",
          "BWA",
          "CIV",
          "CMR",
          "CPV",
          "DZA",
          "ETH",
          "GHA",
          "KEN",
          "LKA",
          "MDG",
          "MLI",
          "MWI",
          "MOZ",
          "NER",
          "NGA",
          "PAK",
          "RWA",
          "SLE",
          "SEN",
          "TZA",
          "UGA",
          "ZMB"
         ],
         "name": "3",
         "showlegend": true,
         "showscale": false,
         "type": "choropleth",
         "z": [
          1,
          1,
          1,
          1,
          1,
          1,
          1,
          1,
          1,
          1,
          1,
          1,
          1,
          1,
          1,
          1,
          1,
          1,
          1,
          1,
          1,
          1,
          1,
          1,
          1
         ]
        },
        {
         "colorscale": [
          [
           0,
           "rgb(190,186,218)"
          ],
          [
           1,
           "rgb(190,186,218)"
          ]
         ],
         "geo": "geo",
         "hovertemplate": "<b>%{hovertext}</b><br><br>cluster=4<br>iso_alpha=%{location}<extra></extra>",
         "hovertext": [
          "KG",
          "KZ",
          "TJ",
          "UZ"
         ],
         "locations": [
          "KGZ",
          "KAZ",
          "TJK",
          "UZB"
         ],
         "name": "4",
         "showlegend": true,
         "showscale": false,
         "type": "choropleth",
         "z": [
          1,
          1,
          1,
          1
         ]
        },
        {
         "colorscale": [
          [
           0,
           "rgb(251,128,114)"
          ],
          [
           1,
           "rgb(251,128,114)"
          ]
         ],
         "geo": "geo",
         "hovertemplate": "<b>%{hovertext}</b><br><br>cluster=1<br>iso_alpha=%{location}<extra></extra>",
         "hovertext": [
          "NC",
          "PF"
         ],
         "locations": [
          "NCL",
          "PYF"
         ],
         "name": "1",
         "showlegend": true,
         "showscale": false,
         "type": "choropleth",
         "z": [
          1,
          1
         ]
        },
        {
         "colorscale": [
          [
           0,
           "rgb(128,177,211)"
          ],
          [
           1,
           "rgb(128,177,211)"
          ]
         ],
         "geo": "geo",
         "hovertemplate": "<b>%{hovertext}</b><br><br>cluster=2<br>iso_alpha=%{location}<extra></extra>",
         "hovertext": [
          "SD",
          "ZW"
         ],
         "locations": [
          "SDN",
          "ZWE"
         ],
         "name": "2",
         "showlegend": true,
         "showscale": false,
         "type": "choropleth",
         "z": [
          1,
          1
         ]
        }
       ],
       "layout": {
        "geo": {
         "center": {},
         "coastlinecolor": "Gray",
         "countrycolor": "LightGray",
         "domain": {
          "x": [
           0,
           1
          ],
          "y": [
           0,
           1
          ]
         },
         "projection": {
          "type": "natural earth"
         },
         "showcoastlines": true,
         "showcountries": true
        },
        "legend": {
         "title": {
          "text": "cluster"
         },
         "tracegroupgap": 0
        },
        "margin": {
         "b": 0,
         "l": 0,
         "r": 0,
         "t": 50
        },
        "template": {
         "data": {
          "bar": [
           {
            "error_x": {
             "color": "#2a3f5f"
            },
            "error_y": {
             "color": "#2a3f5f"
            },
            "marker": {
             "line": {
              "color": "#E5ECF6",
              "width": 0.5
             },
             "pattern": {
              "fillmode": "overlay",
              "size": 10,
              "solidity": 0.2
             }
            },
            "type": "bar"
           }
          ],
          "barpolar": [
           {
            "marker": {
             "line": {
              "color": "#E5ECF6",
              "width": 0.5
             },
             "pattern": {
              "fillmode": "overlay",
              "size": 10,
              "solidity": 0.2
             }
            },
            "type": "barpolar"
           }
          ],
          "carpet": [
           {
            "aaxis": {
             "endlinecolor": "#2a3f5f",
             "gridcolor": "white",
             "linecolor": "white",
             "minorgridcolor": "white",
             "startlinecolor": "#2a3f5f"
            },
            "baxis": {
             "endlinecolor": "#2a3f5f",
             "gridcolor": "white",
             "linecolor": "white",
             "minorgridcolor": "white",
             "startlinecolor": "#2a3f5f"
            },
            "type": "carpet"
           }
          ],
          "choropleth": [
           {
            "colorbar": {
             "outlinewidth": 0,
             "ticks": ""
            },
            "type": "choropleth"
           }
          ],
          "contour": [
           {
            "colorbar": {
             "outlinewidth": 0,
             "ticks": ""
            },
            "colorscale": [
             [
              0,
              "#0d0887"
             ],
             [
              0.1111111111111111,
              "#46039f"
             ],
             [
              0.2222222222222222,
              "#7201a8"
             ],
             [
              0.3333333333333333,
              "#9c179e"
             ],
             [
              0.4444444444444444,
              "#bd3786"
             ],
             [
              0.5555555555555556,
              "#d8576b"
             ],
             [
              0.6666666666666666,
              "#ed7953"
             ],
             [
              0.7777777777777778,
              "#fb9f3a"
             ],
             [
              0.8888888888888888,
              "#fdca26"
             ],
             [
              1,
              "#f0f921"
             ]
            ],
            "type": "contour"
           }
          ],
          "contourcarpet": [
           {
            "colorbar": {
             "outlinewidth": 0,
             "ticks": ""
            },
            "type": "contourcarpet"
           }
          ],
          "heatmap": [
           {
            "colorbar": {
             "outlinewidth": 0,
             "ticks": ""
            },
            "colorscale": [
             [
              0,
              "#0d0887"
             ],
             [
              0.1111111111111111,
              "#46039f"
             ],
             [
              0.2222222222222222,
              "#7201a8"
             ],
             [
              0.3333333333333333,
              "#9c179e"
             ],
             [
              0.4444444444444444,
              "#bd3786"
             ],
             [
              0.5555555555555556,
              "#d8576b"
             ],
             [
              0.6666666666666666,
              "#ed7953"
             ],
             [
              0.7777777777777778,
              "#fb9f3a"
             ],
             [
              0.8888888888888888,
              "#fdca26"
             ],
             [
              1,
              "#f0f921"
             ]
            ],
            "type": "heatmap"
           }
          ],
          "histogram": [
           {
            "marker": {
             "pattern": {
              "fillmode": "overlay",
              "size": 10,
              "solidity": 0.2
             }
            },
            "type": "histogram"
           }
          ],
          "histogram2d": [
           {
            "colorbar": {
             "outlinewidth": 0,
             "ticks": ""
            },
            "colorscale": [
             [
              0,
              "#0d0887"
             ],
             [
              0.1111111111111111,
              "#46039f"
             ],
             [
              0.2222222222222222,
              "#7201a8"
             ],
             [
              0.3333333333333333,
              "#9c179e"
             ],
             [
              0.4444444444444444,
              "#bd3786"
             ],
             [
              0.5555555555555556,
              "#d8576b"
             ],
             [
              0.6666666666666666,
              "#ed7953"
             ],
             [
              0.7777777777777778,
              "#fb9f3a"
             ],
             [
              0.8888888888888888,
              "#fdca26"
             ],
             [
              1,
              "#f0f921"
             ]
            ],
            "type": "histogram2d"
           }
          ],
          "histogram2dcontour": [
           {
            "colorbar": {
             "outlinewidth": 0,
             "ticks": ""
            },
            "colorscale": [
             [
              0,
              "#0d0887"
             ],
             [
              0.1111111111111111,
              "#46039f"
             ],
             [
              0.2222222222222222,
              "#7201a8"
             ],
             [
              0.3333333333333333,
              "#9c179e"
             ],
             [
              0.4444444444444444,
              "#bd3786"
             ],
             [
              0.5555555555555556,
              "#d8576b"
             ],
             [
              0.6666666666666666,
              "#ed7953"
             ],
             [
              0.7777777777777778,
              "#fb9f3a"
             ],
             [
              0.8888888888888888,
              "#fdca26"
             ],
             [
              1,
              "#f0f921"
             ]
            ],
            "type": "histogram2dcontour"
           }
          ],
          "mesh3d": [
           {
            "colorbar": {
             "outlinewidth": 0,
             "ticks": ""
            },
            "type": "mesh3d"
           }
          ],
          "parcoords": [
           {
            "line": {
             "colorbar": {
              "outlinewidth": 0,
              "ticks": ""
             }
            },
            "type": "parcoords"
           }
          ],
          "pie": [
           {
            "automargin": true,
            "type": "pie"
           }
          ],
          "scatter": [
           {
            "fillpattern": {
             "fillmode": "overlay",
             "size": 10,
             "solidity": 0.2
            },
            "type": "scatter"
           }
          ],
          "scatter3d": [
           {
            "line": {
             "colorbar": {
              "outlinewidth": 0,
              "ticks": ""
             }
            },
            "marker": {
             "colorbar": {
              "outlinewidth": 0,
              "ticks": ""
             }
            },
            "type": "scatter3d"
           }
          ],
          "scattercarpet": [
           {
            "marker": {
             "colorbar": {
              "outlinewidth": 0,
              "ticks": ""
             }
            },
            "type": "scattercarpet"
           }
          ],
          "scattergeo": [
           {
            "marker": {
             "colorbar": {
              "outlinewidth": 0,
              "ticks": ""
             }
            },
            "type": "scattergeo"
           }
          ],
          "scattergl": [
           {
            "marker": {
             "colorbar": {
              "outlinewidth": 0,
              "ticks": ""
             }
            },
            "type": "scattergl"
           }
          ],
          "scattermap": [
           {
            "marker": {
             "colorbar": {
              "outlinewidth": 0,
              "ticks": ""
             }
            },
            "type": "scattermap"
           }
          ],
          "scattermapbox": [
           {
            "marker": {
             "colorbar": {
              "outlinewidth": 0,
              "ticks": ""
             }
            },
            "type": "scattermapbox"
           }
          ],
          "scatterpolar": [
           {
            "marker": {
             "colorbar": {
              "outlinewidth": 0,
              "ticks": ""
             }
            },
            "type": "scatterpolar"
           }
          ],
          "scatterpolargl": [
           {
            "marker": {
             "colorbar": {
              "outlinewidth": 0,
              "ticks": ""
             }
            },
            "type": "scatterpolargl"
           }
          ],
          "scatterternary": [
           {
            "marker": {
             "colorbar": {
              "outlinewidth": 0,
              "ticks": ""
             }
            },
            "type": "scatterternary"
           }
          ],
          "surface": [
           {
            "colorbar": {
             "outlinewidth": 0,
             "ticks": ""
            },
            "colorscale": [
             [
              0,
              "#0d0887"
             ],
             [
              0.1111111111111111,
              "#46039f"
             ],
             [
              0.2222222222222222,
              "#7201a8"
             ],
             [
              0.3333333333333333,
              "#9c179e"
             ],
             [
              0.4444444444444444,
              "#bd3786"
             ],
             [
              0.5555555555555556,
              "#d8576b"
             ],
             [
              0.6666666666666666,
              "#ed7953"
             ],
             [
              0.7777777777777778,
              "#fb9f3a"
             ],
             [
              0.8888888888888888,
              "#fdca26"
             ],
             [
              1,
              "#f0f921"
             ]
            ],
            "type": "surface"
           }
          ],
          "table": [
           {
            "cells": {
             "fill": {
              "color": "#EBF0F8"
             },
             "line": {
              "color": "white"
             }
            },
            "header": {
             "fill": {
              "color": "#C8D4E3"
             },
             "line": {
              "color": "white"
             }
            },
            "type": "table"
           }
          ]
         },
         "layout": {
          "annotationdefaults": {
           "arrowcolor": "#2a3f5f",
           "arrowhead": 0,
           "arrowwidth": 1
          },
          "autotypenumbers": "strict",
          "coloraxis": {
           "colorbar": {
            "outlinewidth": 0,
            "ticks": ""
           }
          },
          "colorscale": {
           "diverging": [
            [
             0,
             "#8e0152"
            ],
            [
             0.1,
             "#c51b7d"
            ],
            [
             0.2,
             "#de77ae"
            ],
            [
             0.3,
             "#f1b6da"
            ],
            [
             0.4,
             "#fde0ef"
            ],
            [
             0.5,
             "#f7f7f7"
            ],
            [
             0.6,
             "#e6f5d0"
            ],
            [
             0.7,
             "#b8e186"
            ],
            [
             0.8,
             "#7fbc41"
            ],
            [
             0.9,
             "#4d9221"
            ],
            [
             1,
             "#276419"
            ]
           ],
           "sequential": [
            [
             0,
             "#0d0887"
            ],
            [
             0.1111111111111111,
             "#46039f"
            ],
            [
             0.2222222222222222,
             "#7201a8"
            ],
            [
             0.3333333333333333,
             "#9c179e"
            ],
            [
             0.4444444444444444,
             "#bd3786"
            ],
            [
             0.5555555555555556,
             "#d8576b"
            ],
            [
             0.6666666666666666,
             "#ed7953"
            ],
            [
             0.7777777777777778,
             "#fb9f3a"
            ],
            [
             0.8888888888888888,
             "#fdca26"
            ],
            [
             1,
             "#f0f921"
            ]
           ],
           "sequentialminus": [
            [
             0,
             "#0d0887"
            ],
            [
             0.1111111111111111,
             "#46039f"
            ],
            [
             0.2222222222222222,
             "#7201a8"
            ],
            [
             0.3333333333333333,
             "#9c179e"
            ],
            [
             0.4444444444444444,
             "#bd3786"
            ],
            [
             0.5555555555555556,
             "#d8576b"
            ],
            [
             0.6666666666666666,
             "#ed7953"
            ],
            [
             0.7777777777777778,
             "#fb9f3a"
            ],
            [
             0.8888888888888888,
             "#fdca26"
            ],
            [
             1,
             "#f0f921"
            ]
           ]
          },
          "colorway": [
           "#636efa",
           "#EF553B",
           "#00cc96",
           "#ab63fa",
           "#FFA15A",
           "#19d3f3",
           "#FF6692",
           "#B6E880",
           "#FF97FF",
           "#FECB52"
          ],
          "font": {
           "color": "#2a3f5f"
          },
          "geo": {
           "bgcolor": "white",
           "lakecolor": "white",
           "landcolor": "#E5ECF6",
           "showlakes": true,
           "showland": true,
           "subunitcolor": "white"
          },
          "hoverlabel": {
           "align": "left"
          },
          "hovermode": "closest",
          "mapbox": {
           "style": "light"
          },
          "paper_bgcolor": "white",
          "plot_bgcolor": "#E5ECF6",
          "polar": {
           "angularaxis": {
            "gridcolor": "white",
            "linecolor": "white",
            "ticks": ""
           },
           "bgcolor": "#E5ECF6",
           "radialaxis": {
            "gridcolor": "white",
            "linecolor": "white",
            "ticks": ""
           }
          },
          "scene": {
           "xaxis": {
            "backgroundcolor": "#E5ECF6",
            "gridcolor": "white",
            "gridwidth": 2,
            "linecolor": "white",
            "showbackground": true,
            "ticks": "",
            "zerolinecolor": "white"
           },
           "yaxis": {
            "backgroundcolor": "#E5ECF6",
            "gridcolor": "white",
            "gridwidth": 2,
            "linecolor": "white",
            "showbackground": true,
            "ticks": "",
            "zerolinecolor": "white"
           },
           "zaxis": {
            "backgroundcolor": "#E5ECF6",
            "gridcolor": "white",
            "gridwidth": 2,
            "linecolor": "white",
            "showbackground": true,
            "ticks": "",
            "zerolinecolor": "white"
           }
          },
          "shapedefaults": {
           "line": {
            "color": "#2a3f5f"
           }
          },
          "ternary": {
           "aaxis": {
            "gridcolor": "white",
            "linecolor": "white",
            "ticks": ""
           },
           "baxis": {
            "gridcolor": "white",
            "linecolor": "white",
            "ticks": ""
           },
           "bgcolor": "#E5ECF6",
           "caxis": {
            "gridcolor": "white",
            "linecolor": "white",
            "ticks": ""
           }
          },
          "title": {
           "x": 0.05
          },
          "xaxis": {
           "automargin": true,
           "gridcolor": "white",
           "linecolor": "white",
           "ticks": "",
           "title": {
            "standoff": 15
           },
           "zerolinecolor": "white",
           "zerolinewidth": 2
          },
          "yaxis": {
           "automargin": true,
           "gridcolor": "white",
           "linecolor": "white",
           "ticks": "",
           "title": {
            "standoff": 15
           },
           "zerolinecolor": "white",
           "zerolinewidth": 2
          }
         }
        },
        "title": {
         "text": "Spectral clustering — international cooperation (2020)"
        }
       }
      }
     },
     "metadata": {},
     "output_type": "display_data"
    },
    {
     "data": {
      "application/vnd.plotly.v1+json": {
       "config": {
        "plotlyServerURL": "https://plot.ly"
       },
       "data": [
        {
         "colorscale": [
          [
           0,
           "rgb(141,211,199)"
          ],
          [
           1,
           "rgb(141,211,199)"
          ]
         ],
         "geo": "geo",
         "hovertemplate": "<b>%{hovertext}</b><br><br>cluster=0<br>iso_alpha=%{location}<extra></extra>",
         "hovertext": [
          "AE",
          "AF",
          "AI",
          "AL",
          "AM",
          "AO",
          "AR",
          "AT",
          "AU",
          "AZ",
          "BA",
          "BD",
          "BE",
          "BF",
          "BG",
          "BH",
          "BI",
          "BJ",
          "BO",
          "BQ",
          "BR",
          "BW",
          "BY",
          "BZ",
          "CA",
          "CD",
          "CG",
          "CH",
          "CI",
          "CL",
          "CM",
          "CN",
          "CO",
          "CR",
          "CU",
          "CV",
          "CY",
          "CZ",
          "DE",
          "DJ",
          "DK",
          "DO",
          "DZ",
          "EC",
          "EE",
          "EG",
          "ES",
          "ET",
          "FI",
          "FO",
          "FR",
          "GA",
          "GD",
          "GE",
          "GH",
          "GI",
          "GL",
          "GT",
          "HK",
          "HN",
          "HR",
          "HU",
          "ID",
          "IE",
          "IL",
          "IN",
          "IQ",
          "IR",
          "IS",
          "IT",
          "JE",
          "JM",
          "JO",
          "JP",
          "KE",
          "KG",
          "KH",
          "KR",
          "KW",
          "KZ",
          "LB",
          "LI",
          "LK",
          "LR",
          "LS",
          "LT",
          "LU",
          "LV",
          "LY",
          "MA",
          "MC",
          "MD",
          "ME",
          "MG",
          "MH",
          "MK",
          "ML",
          "MM",
          "MN",
          "MR",
          "MT",
          "MU",
          "MV",
          "MW",
          "MX",
          "MY",
          "MZ",
          "NC",
          "NE",
          "NG",
          "NI",
          "NL",
          "NO",
          "NP",
          "NZ",
          "OM",
          "PA",
          "PE",
          "PF",
          "PH",
          "PK",
          "PL",
          "PS",
          "PT",
          "PY",
          "QA",
          "RO",
          "RS",
          "RU",
          "RW",
          "SA",
          "SC",
          "SD",
          "SE",
          "SG",
          "SI",
          "SK",
          "SL",
          "SN",
          "SR",
          "SX",
          "SZ",
          "TD",
          "TG",
          "TH",
          "TJ",
          "TM",
          "TN",
          "TR",
          "TW",
          "TZ",
          "UA",
          "UG",
          "US",
          "UY",
          "UZ",
          "VG",
          "VN",
          "WF",
          "YE",
          "ZA",
          "ZM",
          "ZW"
         ],
         "locations": [
          "ARE",
          "AFG",
          "AIA",
          "ALB",
          "ARM",
          "AGO",
          "ARG",
          "AUT",
          "AUS",
          "AZE",
          "BIH",
          "BGD",
          "BEL",
          "BFA",
          "BGR",
          "BHR",
          "BDI",
          "BEN",
          "BOL",
          "BES",
          "BRA",
          "BWA",
          "BLR",
          "BLZ",
          "CAN",
          "COD",
          "COG",
          "CHE",
          "CIV",
          "CHL",
          "CMR",
          "CHN",
          "COL",
          "CRI",
          "CUB",
          "CPV",
          "CYP",
          "CZE",
          "DEU",
          "DJI",
          "DNK",
          "DOM",
          "DZA",
          "ECU",
          "EST",
          "EGY",
          "ESP",
          "ETH",
          "FIN",
          "FRO",
          "FRA",
          "GAB",
          "GRD",
          "GEO",
          "GHA",
          "GIB",
          "GRL",
          "GTM",
          "HKG",
          "HND",
          "HRV",
          "HUN",
          "IDN",
          "IRL",
          "ISR",
          "IND",
          "IRQ",
          "IRN",
          "ISL",
          "ITA",
          "JEY",
          "JAM",
          "JOR",
          "JPN",
          "KEN",
          "KGZ",
          "KHM",
          "KOR",
          "KWT",
          "KAZ",
          "LBN",
          "LIE",
          "LKA",
          "LBR",
          "LSO",
          "LTU",
          "LUX",
          "LVA",
          "LBY",
          "MAR",
          "MCO",
          "MDA",
          "MNE",
          "MDG",
          "MHL",
          "MKD",
          "MLI",
          "MMR",
          "MNG",
          "MRT",
          "MLT",
          "MUS",
          "MDV",
          "MWI",
          "MEX",
          "MYS",
          "MOZ",
          "NCL",
          "NER",
          "NGA",
          "NIC",
          "NLD",
          "NOR",
          "NPL",
          "NZL",
          "OMN",
          "PAN",
          "PER",
          "PYF",
          "PHL",
          "PAK",
          "POL",
          "PSE",
          "PRT",
          "PRY",
          "QAT",
          "ROU",
          "SRB",
          "RUS",
          "RWA",
          "SAU",
          "SYC",
          "SDN",
          "SWE",
          "SGP",
          "SVN",
          "SVK",
          "SLE",
          "SEN",
          "SUR",
          "SXM",
          "SWZ",
          "TCD",
          "TGO",
          "THA",
          "TJK",
          "TKM",
          "TUN",
          "TUR",
          "TWN",
          "TZA",
          "UKR",
          "UGA",
          "USA",
          "URY",
          "UZB",
          "VGB",
          "VNM",
          "WLF",
          "YEM",
          "ZAF",
          "ZMB",
          "ZWE"
         ],
         "name": "0",
         "showlegend": true,
         "showscale": false,
         "type": "choropleth",
         "z": [
          1,
          1,
          1,
          1,
          1,
          1,
          1,
          1,
          1,
          1,
          1,
          1,
          1,
          1,
          1,
          1,
          1,
          1,
          1,
          1,
          1,
          1,
          1,
          1,
          1,
          1,
          1,
          1,
          1,
          1,
          1,
          1,
          1,
          1,
          1,
          1,
          1,
          1,
          1,
          1,
          1,
          1,
          1,
          1,
          1,
          1,
          1,
          1,
          1,
          1,
          1,
          1,
          1,
          1,
          1,
          1,
          1,
          1,
          1,
          1,
          1,
          1,
          1,
          1,
          1,
          1,
          1,
          1,
          1,
          1,
          1,
          1,
          1,
          1,
          1,
          1,
          1,
          1,
          1,
          1,
          1,
          1,
          1,
          1,
          1,
          1,
          1,
          1,
          1,
          1,
          1,
          1,
          1,
          1,
          1,
          1,
          1,
          1,
          1,
          1,
          1,
          1,
          1,
          1,
          1,
          1,
          1,
          1,
          1,
          1,
          1,
          1,
          1,
          1,
          1,
          1,
          1,
          1,
          1,
          1,
          1,
          1,
          1,
          1,
          1,
          1,
          1,
          1,
          1,
          1,
          1,
          1,
          1,
          1,
          1,
          1,
          1,
          1,
          1,
          1,
          1,
          1,
          1,
          1,
          1,
          1,
          1,
          1,
          1,
          1,
          1,
          1,
          1,
          1,
          1,
          1,
          1,
          1,
          1,
          1,
          1,
          1,
          1
         ]
        }
       ],
       "layout": {
        "geo": {
         "center": {},
         "coastlinecolor": "Gray",
         "countrycolor": "LightGray",
         "domain": {
          "x": [
           0,
           1
          ],
          "y": [
           0,
           1
          ]
         },
         "projection": {
          "type": "natural earth"
         },
         "showcoastlines": true,
         "showcountries": true
        },
        "legend": {
         "title": {
          "text": "cluster"
         },
         "tracegroupgap": 0
        },
        "margin": {
         "b": 0,
         "l": 0,
         "r": 0,
         "t": 50
        },
        "template": {
         "data": {
          "bar": [
           {
            "error_x": {
             "color": "#2a3f5f"
            },
            "error_y": {
             "color": "#2a3f5f"
            },
            "marker": {
             "line": {
              "color": "#E5ECF6",
              "width": 0.5
             },
             "pattern": {
              "fillmode": "overlay",
              "size": 10,
              "solidity": 0.2
             }
            },
            "type": "bar"
           }
          ],
          "barpolar": [
           {
            "marker": {
             "line": {
              "color": "#E5ECF6",
              "width": 0.5
             },
             "pattern": {
              "fillmode": "overlay",
              "size": 10,
              "solidity": 0.2
             }
            },
            "type": "barpolar"
           }
          ],
          "carpet": [
           {
            "aaxis": {
             "endlinecolor": "#2a3f5f",
             "gridcolor": "white",
             "linecolor": "white",
             "minorgridcolor": "white",
             "startlinecolor": "#2a3f5f"
            },
            "baxis": {
             "endlinecolor": "#2a3f5f",
             "gridcolor": "white",
             "linecolor": "white",
             "minorgridcolor": "white",
             "startlinecolor": "#2a3f5f"
            },
            "type": "carpet"
           }
          ],
          "choropleth": [
           {
            "colorbar": {
             "outlinewidth": 0,
             "ticks": ""
            },
            "type": "choropleth"
           }
          ],
          "contour": [
           {
            "colorbar": {
             "outlinewidth": 0,
             "ticks": ""
            },
            "colorscale": [
             [
              0,
              "#0d0887"
             ],
             [
              0.1111111111111111,
              "#46039f"
             ],
             [
              0.2222222222222222,
              "#7201a8"
             ],
             [
              0.3333333333333333,
              "#9c179e"
             ],
             [
              0.4444444444444444,
              "#bd3786"
             ],
             [
              0.5555555555555556,
              "#d8576b"
             ],
             [
              0.6666666666666666,
              "#ed7953"
             ],
             [
              0.7777777777777778,
              "#fb9f3a"
             ],
             [
              0.8888888888888888,
              "#fdca26"
             ],
             [
              1,
              "#f0f921"
             ]
            ],
            "type": "contour"
           }
          ],
          "contourcarpet": [
           {
            "colorbar": {
             "outlinewidth": 0,
             "ticks": ""
            },
            "type": "contourcarpet"
           }
          ],
          "heatmap": [
           {
            "colorbar": {
             "outlinewidth": 0,
             "ticks": ""
            },
            "colorscale": [
             [
              0,
              "#0d0887"
             ],
             [
              0.1111111111111111,
              "#46039f"
             ],
             [
              0.2222222222222222,
              "#7201a8"
             ],
             [
              0.3333333333333333,
              "#9c179e"
             ],
             [
              0.4444444444444444,
              "#bd3786"
             ],
             [
              0.5555555555555556,
              "#d8576b"
             ],
             [
              0.6666666666666666,
              "#ed7953"
             ],
             [
              0.7777777777777778,
              "#fb9f3a"
             ],
             [
              0.8888888888888888,
              "#fdca26"
             ],
             [
              1,
              "#f0f921"
             ]
            ],
            "type": "heatmap"
           }
          ],
          "histogram": [
           {
            "marker": {
             "pattern": {
              "fillmode": "overlay",
              "size": 10,
              "solidity": 0.2
             }
            },
            "type": "histogram"
           }
          ],
          "histogram2d": [
           {
            "colorbar": {
             "outlinewidth": 0,
             "ticks": ""
            },
            "colorscale": [
             [
              0,
              "#0d0887"
             ],
             [
              0.1111111111111111,
              "#46039f"
             ],
             [
              0.2222222222222222,
              "#7201a8"
             ],
             [
              0.3333333333333333,
              "#9c179e"
             ],
             [
              0.4444444444444444,
              "#bd3786"
             ],
             [
              0.5555555555555556,
              "#d8576b"
             ],
             [
              0.6666666666666666,
              "#ed7953"
             ],
             [
              0.7777777777777778,
              "#fb9f3a"
             ],
             [
              0.8888888888888888,
              "#fdca26"
             ],
             [
              1,
              "#f0f921"
             ]
            ],
            "type": "histogram2d"
           }
          ],
          "histogram2dcontour": [
           {
            "colorbar": {
             "outlinewidth": 0,
             "ticks": ""
            },
            "colorscale": [
             [
              0,
              "#0d0887"
             ],
             [
              0.1111111111111111,
              "#46039f"
             ],
             [
              0.2222222222222222,
              "#7201a8"
             ],
             [
              0.3333333333333333,
              "#9c179e"
             ],
             [
              0.4444444444444444,
              "#bd3786"
             ],
             [
              0.5555555555555556,
              "#d8576b"
             ],
             [
              0.6666666666666666,
              "#ed7953"
             ],
             [
              0.7777777777777778,
              "#fb9f3a"
             ],
             [
              0.8888888888888888,
              "#fdca26"
             ],
             [
              1,
              "#f0f921"
             ]
            ],
            "type": "histogram2dcontour"
           }
          ],
          "mesh3d": [
           {
            "colorbar": {
             "outlinewidth": 0,
             "ticks": ""
            },
            "type": "mesh3d"
           }
          ],
          "parcoords": [
           {
            "line": {
             "colorbar": {
              "outlinewidth": 0,
              "ticks": ""
             }
            },
            "type": "parcoords"
           }
          ],
          "pie": [
           {
            "automargin": true,
            "type": "pie"
           }
          ],
          "scatter": [
           {
            "fillpattern": {
             "fillmode": "overlay",
             "size": 10,
             "solidity": 0.2
            },
            "type": "scatter"
           }
          ],
          "scatter3d": [
           {
            "line": {
             "colorbar": {
              "outlinewidth": 0,
              "ticks": ""
             }
            },
            "marker": {
             "colorbar": {
              "outlinewidth": 0,
              "ticks": ""
             }
            },
            "type": "scatter3d"
           }
          ],
          "scattercarpet": [
           {
            "marker": {
             "colorbar": {
              "outlinewidth": 0,
              "ticks": ""
             }
            },
            "type": "scattercarpet"
           }
          ],
          "scattergeo": [
           {
            "marker": {
             "colorbar": {
              "outlinewidth": 0,
              "ticks": ""
             }
            },
            "type": "scattergeo"
           }
          ],
          "scattergl": [
           {
            "marker": {
             "colorbar": {
              "outlinewidth": 0,
              "ticks": ""
             }
            },
            "type": "scattergl"
           }
          ],
          "scattermap": [
           {
            "marker": {
             "colorbar": {
              "outlinewidth": 0,
              "ticks": ""
             }
            },
            "type": "scattermap"
           }
          ],
          "scattermapbox": [
           {
            "marker": {
             "colorbar": {
              "outlinewidth": 0,
              "ticks": ""
             }
            },
            "type": "scattermapbox"
           }
          ],
          "scatterpolar": [
           {
            "marker": {
             "colorbar": {
              "outlinewidth": 0,
              "ticks": ""
             }
            },
            "type": "scatterpolar"
           }
          ],
          "scatterpolargl": [
           {
            "marker": {
             "colorbar": {
              "outlinewidth": 0,
              "ticks": ""
             }
            },
            "type": "scatterpolargl"
           }
          ],
          "scatterternary": [
           {
            "marker": {
             "colorbar": {
              "outlinewidth": 0,
              "ticks": ""
             }
            },
            "type": "scatterternary"
           }
          ],
          "surface": [
           {
            "colorbar": {
             "outlinewidth": 0,
             "ticks": ""
            },
            "colorscale": [
             [
              0,
              "#0d0887"
             ],
             [
              0.1111111111111111,
              "#46039f"
             ],
             [
              0.2222222222222222,
              "#7201a8"
             ],
             [
              0.3333333333333333,
              "#9c179e"
             ],
             [
              0.4444444444444444,
              "#bd3786"
             ],
             [
              0.5555555555555556,
              "#d8576b"
             ],
             [
              0.6666666666666666,
              "#ed7953"
             ],
             [
              0.7777777777777778,
              "#fb9f3a"
             ],
             [
              0.8888888888888888,
              "#fdca26"
             ],
             [
              1,
              "#f0f921"
             ]
            ],
            "type": "surface"
           }
          ],
          "table": [
           {
            "cells": {
             "fill": {
              "color": "#EBF0F8"
             },
             "line": {
              "color": "white"
             }
            },
            "header": {
             "fill": {
              "color": "#C8D4E3"
             },
             "line": {
              "color": "white"
             }
            },
            "type": "table"
           }
          ]
         },
         "layout": {
          "annotationdefaults": {
           "arrowcolor": "#2a3f5f",
           "arrowhead": 0,
           "arrowwidth": 1
          },
          "autotypenumbers": "strict",
          "coloraxis": {
           "colorbar": {
            "outlinewidth": 0,
            "ticks": ""
           }
          },
          "colorscale": {
           "diverging": [
            [
             0,
             "#8e0152"
            ],
            [
             0.1,
             "#c51b7d"
            ],
            [
             0.2,
             "#de77ae"
            ],
            [
             0.3,
             "#f1b6da"
            ],
            [
             0.4,
             "#fde0ef"
            ],
            [
             0.5,
             "#f7f7f7"
            ],
            [
             0.6,
             "#e6f5d0"
            ],
            [
             0.7,
             "#b8e186"
            ],
            [
             0.8,
             "#7fbc41"
            ],
            [
             0.9,
             "#4d9221"
            ],
            [
             1,
             "#276419"
            ]
           ],
           "sequential": [
            [
             0,
             "#0d0887"
            ],
            [
             0.1111111111111111,
             "#46039f"
            ],
            [
             0.2222222222222222,
             "#7201a8"
            ],
            [
             0.3333333333333333,
             "#9c179e"
            ],
            [
             0.4444444444444444,
             "#bd3786"
            ],
            [
             0.5555555555555556,
             "#d8576b"
            ],
            [
             0.6666666666666666,
             "#ed7953"
            ],
            [
             0.7777777777777778,
             "#fb9f3a"
            ],
            [
             0.8888888888888888,
             "#fdca26"
            ],
            [
             1,
             "#f0f921"
            ]
           ],
           "sequentialminus": [
            [
             0,
             "#0d0887"
            ],
            [
             0.1111111111111111,
             "#46039f"
            ],
            [
             0.2222222222222222,
             "#7201a8"
            ],
            [
             0.3333333333333333,
             "#9c179e"
            ],
            [
             0.4444444444444444,
             "#bd3786"
            ],
            [
             0.5555555555555556,
             "#d8576b"
            ],
            [
             0.6666666666666666,
             "#ed7953"
            ],
            [
             0.7777777777777778,
             "#fb9f3a"
            ],
            [
             0.8888888888888888,
             "#fdca26"
            ],
            [
             1,
             "#f0f921"
            ]
           ]
          },
          "colorway": [
           "#636efa",
           "#EF553B",
           "#00cc96",
           "#ab63fa",
           "#FFA15A",
           "#19d3f3",
           "#FF6692",
           "#B6E880",
           "#FF97FF",
           "#FECB52"
          ],
          "font": {
           "color": "#2a3f5f"
          },
          "geo": {
           "bgcolor": "white",
           "lakecolor": "white",
           "landcolor": "#E5ECF6",
           "showlakes": true,
           "showland": true,
           "subunitcolor": "white"
          },
          "hoverlabel": {
           "align": "left"
          },
          "hovermode": "closest",
          "mapbox": {
           "style": "light"
          },
          "paper_bgcolor": "white",
          "plot_bgcolor": "#E5ECF6",
          "polar": {
           "angularaxis": {
            "gridcolor": "white",
            "linecolor": "white",
            "ticks": ""
           },
           "bgcolor": "#E5ECF6",
           "radialaxis": {
            "gridcolor": "white",
            "linecolor": "white",
            "ticks": ""
           }
          },
          "scene": {
           "xaxis": {
            "backgroundcolor": "#E5ECF6",
            "gridcolor": "white",
            "gridwidth": 2,
            "linecolor": "white",
            "showbackground": true,
            "ticks": "",
            "zerolinecolor": "white"
           },
           "yaxis": {
            "backgroundcolor": "#E5ECF6",
            "gridcolor": "white",
            "gridwidth": 2,
            "linecolor": "white",
            "showbackground": true,
            "ticks": "",
            "zerolinecolor": "white"
           },
           "zaxis": {
            "backgroundcolor": "#E5ECF6",
            "gridcolor": "white",
            "gridwidth": 2,
            "linecolor": "white",
            "showbackground": true,
            "ticks": "",
            "zerolinecolor": "white"
           }
          },
          "shapedefaults": {
           "line": {
            "color": "#2a3f5f"
           }
          },
          "ternary": {
           "aaxis": {
            "gridcolor": "white",
            "linecolor": "white",
            "ticks": ""
           },
           "baxis": {
            "gridcolor": "white",
            "linecolor": "white",
            "ticks": ""
           },
           "bgcolor": "#E5ECF6",
           "caxis": {
            "gridcolor": "white",
            "linecolor": "white",
            "ticks": ""
           }
          },
          "title": {
           "x": 0.05
          },
          "xaxis": {
           "automargin": true,
           "gridcolor": "white",
           "linecolor": "white",
           "ticks": "",
           "title": {
            "standoff": 15
           },
           "zerolinecolor": "white",
           "zerolinewidth": 2
          },
          "yaxis": {
           "automargin": true,
           "gridcolor": "white",
           "linecolor": "white",
           "ticks": "",
           "title": {
            "standoff": 15
           },
           "zerolinecolor": "white",
           "zerolinewidth": 2
          }
         }
        },
        "title": {
         "text": "DBSCAN clustering — international cooperation (2020)"
        }
       }
      }
     },
     "metadata": {},
     "output_type": "display_data"
    },
    {
     "data": {
      "application/vnd.plotly.v1+json": {
       "config": {
        "plotlyServerURL": "https://plot.ly"
       },
       "data": [
        {
         "colorscale": [
          [
           0,
           "rgb(141,211,199)"
          ],
          [
           1,
           "rgb(141,211,199)"
          ]
         ],
         "geo": "geo",
         "hovertemplate": "<b>%{hovertext}</b><br><br>cluster=0<br>iso_alpha=%{location}<extra></extra>",
         "hovertext": [
          "AF",
          "AR",
          "AU",
          "AW",
          "BD",
          "BI",
          "BQ",
          "BR",
          "BW",
          "CA",
          "CG",
          "CL",
          "CN",
          "CO",
          "CR",
          "CU",
          "CV",
          "DJ",
          "DZ",
          "EC",
          "GL",
          "GM",
          "GN",
          "GT",
          "GW",
          "HT",
          "ID",
          "IN",
          "IQ",
          "IR",
          "JO",
          "JP",
          "KG",
          "KH",
          "KR",
          "KZ",
          "LB",
          "LK",
          "LR",
          "LS",
          "LY",
          "MG",
          "MH",
          "MR",
          "MU",
          "MV",
          "MX",
          "MY",
          "NC",
          "NE",
          "NI",
          "NZ",
          "PE",
          "PF",
          "PG",
          "PH",
          "PK",
          "PS",
          "SD",
          "SG",
          "SL",
          "SR",
          "SZ",
          "TD",
          "TG",
          "TH",
          "TW",
          "UY",
          "UZ",
          "VE",
          "VN",
          "ZW"
         ],
         "locations": [
          "AFG",
          "ARG",
          "AUS",
          "ABW",
          "BGD",
          "BDI",
          "BES",
          "BRA",
          "BWA",
          "CAN",
          "COG",
          "CHL",
          "CHN",
          "COL",
          "CRI",
          "CUB",
          "CPV",
          "DJI",
          "DZA",
          "ECU",
          "GRL",
          "GMB",
          "GIN",
          "GTM",
          "GNB",
          "HTI",
          "IDN",
          "IND",
          "IRQ",
          "IRN",
          "JOR",
          "JPN",
          "KGZ",
          "KHM",
          "KOR",
          "KAZ",
          "LBN",
          "LKA",
          "LBR",
          "LSO",
          "LBY",
          "MDG",
          "MHL",
          "MRT",
          "MUS",
          "MDV",
          "MEX",
          "MYS",
          "NCL",
          "NER",
          "NIC",
          "NZL",
          "PER",
          "PYF",
          "PNG",
          "PHL",
          "PAK",
          "PSE",
          "SDN",
          "SGP",
          "SLE",
          "SUR",
          "SWZ",
          "TCD",
          "TGO",
          "THA",
          "TWN",
          "URY",
          "UZB",
          "VEN",
          "VNM",
          "ZWE"
         ],
         "name": "0",
         "showlegend": true,
         "showscale": false,
         "type": "choropleth",
         "z": [
          1,
          1,
          1,
          1,
          1,
          1,
          1,
          1,
          1,
          1,
          1,
          1,
          1,
          1,
          1,
          1,
          1,
          1,
          1,
          1,
          1,
          1,
          1,
          1,
          1,
          1,
          1,
          1,
          1,
          1,
          1,
          1,
          1,
          1,
          1,
          1,
          1,
          1,
          1,
          1,
          1,
          1,
          1,
          1,
          1,
          1,
          1,
          1,
          1,
          1,
          1,
          1,
          1,
          1,
          1,
          1,
          1,
          1,
          1,
          1,
          1,
          1,
          1,
          1,
          1,
          1,
          1,
          1,
          1,
          1,
          1,
          1
         ]
        },
        {
         "colorscale": [
          [
           0,
           "rgb(255,255,179)"
          ],
          [
           1,
           "rgb(255,255,179)"
          ]
         ],
         "geo": "geo",
         "hovertemplate": "<b>%{hovertext}</b><br><br>cluster=1<br>iso_alpha=%{location}<extra></extra>",
         "hovertext": [
          "AL",
          "AM",
          "AZ",
          "BA",
          "BG",
          "CH",
          "CY",
          "CZ",
          "EE",
          "FO",
          "GE",
          "HR",
          "HU",
          "IE",
          "IL",
          "IS",
          "LT",
          "LU",
          "LV",
          "MA",
          "MD",
          "ME",
          "MK",
          "MT",
          "PL",
          "RO",
          "RS",
          "SI",
          "SK",
          "TN",
          "TR",
          "UA",
          "US"
         ],
         "locations": [
          "ALB",
          "ARM",
          "AZE",
          "BIH",
          "BGR",
          "CHE",
          "CYP",
          "CZE",
          "EST",
          "FRO",
          "GEO",
          "HRV",
          "HUN",
          "IRL",
          "ISR",
          "ISL",
          "LTU",
          "LUX",
          "LVA",
          "MAR",
          "MDA",
          "MNE",
          "MKD",
          "MLT",
          "POL",
          "ROU",
          "SRB",
          "SVN",
          "SVK",
          "TUN",
          "TUR",
          "UKR",
          "USA"
         ],
         "name": "1",
         "showlegend": true,
         "showscale": false,
         "type": "choropleth",
         "z": [
          1,
          1,
          1,
          1,
          1,
          1,
          1,
          1,
          1,
          1,
          1,
          1,
          1,
          1,
          1,
          1,
          1,
          1,
          1,
          1,
          1,
          1,
          1,
          1,
          1,
          1,
          1,
          1,
          1,
          1,
          1,
          1,
          1
         ]
        },
        {
         "colorscale": [
          [
           0,
           "rgb(190,186,218)"
          ],
          [
           1,
           "rgb(190,186,218)"
          ]
         ],
         "geo": "geo",
         "hovertemplate": "<b>%{hovertext}</b><br><br>cluster=2<br>iso_alpha=%{location}<extra></extra>",
         "hovertext": [
          "AT",
          "BE",
          "DE",
          "DK",
          "ES",
          "FI",
          "FR",
          "IT",
          "NL",
          "NO",
          "PT",
          "SE",
          "ZA"
         ],
         "locations": [
          "AUT",
          "BEL",
          "DEU",
          "DNK",
          "ESP",
          "FIN",
          "FRA",
          "ITA",
          "NLD",
          "NOR",
          "PRT",
          "SWE",
          "ZAF"
         ],
         "name": "2",
         "showlegend": true,
         "showscale": false,
         "type": "choropleth",
         "z": [
          1,
          1,
          1,
          1,
          1,
          1,
          1,
          1,
          1,
          1,
          1,
          1,
          1
         ]
        },
        {
         "colorscale": [
          [
           0,
           "rgb(251,128,114)"
          ],
          [
           1,
           "rgb(251,128,114)"
          ]
         ],
         "geo": "geo",
         "hovertemplate": "<b>%{hovertext}</b><br><br>cluster=4<br>iso_alpha=%{location}<extra></extra>",
         "hovertext": [
          "BF",
          "ET",
          "GH",
          "KE",
          "MZ",
          "NG",
          "RW",
          "SN",
          "UG",
          "ZM"
         ],
         "locations": [
          "BFA",
          "ETH",
          "GHA",
          "KEN",
          "MOZ",
          "NGA",
          "RWA",
          "SEN",
          "UGA",
          "ZMB"
         ],
         "name": "4",
         "showlegend": true,
         "showscale": false,
         "type": "choropleth",
         "z": [
          1,
          1,
          1,
          1,
          1,
          1,
          1,
          1,
          1,
          1
         ]
        },
        {
         "colorscale": [
          [
           0,
           "rgb(128,177,211)"
          ],
          [
           1,
           "rgb(128,177,211)"
          ]
         ],
         "geo": "geo",
         "hovertemplate": "<b>%{hovertext}</b><br><br>cluster=3<br>iso_alpha=%{location}<extra></extra>",
         "hovertext": [
          "BJ",
          "CD",
          "CI",
          "CM",
          "EG",
          "GA",
          "ML",
          "MW",
          "TZ"
         ],
         "locations": [
          "BEN",
          "COD",
          "CIV",
          "CMR",
          "EGY",
          "GAB",
          "MLI",
          "MWI",
          "TZA"
         ],
         "name": "3",
         "showlegend": true,
         "showscale": false,
         "type": "choropleth",
         "z": [
          1,
          1,
          1,
          1,
          1,
          1,
          1,
          1,
          1
         ]
        }
       ],
       "layout": {
        "geo": {
         "center": {},
         "coastlinecolor": "Gray",
         "countrycolor": "LightGray",
         "domain": {
          "x": [
           0,
           1
          ],
          "y": [
           0,
           1
          ]
         },
         "projection": {
          "type": "natural earth"
         },
         "showcoastlines": true,
         "showcountries": true
        },
        "legend": {
         "title": {
          "text": "cluster"
         },
         "tracegroupgap": 0
        },
        "margin": {
         "b": 0,
         "l": 0,
         "r": 0,
         "t": 50
        },
        "template": {
         "data": {
          "bar": [
           {
            "error_x": {
             "color": "#2a3f5f"
            },
            "error_y": {
             "color": "#2a3f5f"
            },
            "marker": {
             "line": {
              "color": "#E5ECF6",
              "width": 0.5
             },
             "pattern": {
              "fillmode": "overlay",
              "size": 10,
              "solidity": 0.2
             }
            },
            "type": "bar"
           }
          ],
          "barpolar": [
           {
            "marker": {
             "line": {
              "color": "#E5ECF6",
              "width": 0.5
             },
             "pattern": {
              "fillmode": "overlay",
              "size": 10,
              "solidity": 0.2
             }
            },
            "type": "barpolar"
           }
          ],
          "carpet": [
           {
            "aaxis": {
             "endlinecolor": "#2a3f5f",
             "gridcolor": "white",
             "linecolor": "white",
             "minorgridcolor": "white",
             "startlinecolor": "#2a3f5f"
            },
            "baxis": {
             "endlinecolor": "#2a3f5f",
             "gridcolor": "white",
             "linecolor": "white",
             "minorgridcolor": "white",
             "startlinecolor": "#2a3f5f"
            },
            "type": "carpet"
           }
          ],
          "choropleth": [
           {
            "colorbar": {
             "outlinewidth": 0,
             "ticks": ""
            },
            "type": "choropleth"
           }
          ],
          "contour": [
           {
            "colorbar": {
             "outlinewidth": 0,
             "ticks": ""
            },
            "colorscale": [
             [
              0,
              "#0d0887"
             ],
             [
              0.1111111111111111,
              "#46039f"
             ],
             [
              0.2222222222222222,
              "#7201a8"
             ],
             [
              0.3333333333333333,
              "#9c179e"
             ],
             [
              0.4444444444444444,
              "#bd3786"
             ],
             [
              0.5555555555555556,
              "#d8576b"
             ],
             [
              0.6666666666666666,
              "#ed7953"
             ],
             [
              0.7777777777777778,
              "#fb9f3a"
             ],
             [
              0.8888888888888888,
              "#fdca26"
             ],
             [
              1,
              "#f0f921"
             ]
            ],
            "type": "contour"
           }
          ],
          "contourcarpet": [
           {
            "colorbar": {
             "outlinewidth": 0,
             "ticks": ""
            },
            "type": "contourcarpet"
           }
          ],
          "heatmap": [
           {
            "colorbar": {
             "outlinewidth": 0,
             "ticks": ""
            },
            "colorscale": [
             [
              0,
              "#0d0887"
             ],
             [
              0.1111111111111111,
              "#46039f"
             ],
             [
              0.2222222222222222,
              "#7201a8"
             ],
             [
              0.3333333333333333,
              "#9c179e"
             ],
             [
              0.4444444444444444,
              "#bd3786"
             ],
             [
              0.5555555555555556,
              "#d8576b"
             ],
             [
              0.6666666666666666,
              "#ed7953"
             ],
             [
              0.7777777777777778,
              "#fb9f3a"
             ],
             [
              0.8888888888888888,
              "#fdca26"
             ],
             [
              1,
              "#f0f921"
             ]
            ],
            "type": "heatmap"
           }
          ],
          "histogram": [
           {
            "marker": {
             "pattern": {
              "fillmode": "overlay",
              "size": 10,
              "solidity": 0.2
             }
            },
            "type": "histogram"
           }
          ],
          "histogram2d": [
           {
            "colorbar": {
             "outlinewidth": 0,
             "ticks": ""
            },
            "colorscale": [
             [
              0,
              "#0d0887"
             ],
             [
              0.1111111111111111,
              "#46039f"
             ],
             [
              0.2222222222222222,
              "#7201a8"
             ],
             [
              0.3333333333333333,
              "#9c179e"
             ],
             [
              0.4444444444444444,
              "#bd3786"
             ],
             [
              0.5555555555555556,
              "#d8576b"
             ],
             [
              0.6666666666666666,
              "#ed7953"
             ],
             [
              0.7777777777777778,
              "#fb9f3a"
             ],
             [
              0.8888888888888888,
              "#fdca26"
             ],
             [
              1,
              "#f0f921"
             ]
            ],
            "type": "histogram2d"
           }
          ],
          "histogram2dcontour": [
           {
            "colorbar": {
             "outlinewidth": 0,
             "ticks": ""
            },
            "colorscale": [
             [
              0,
              "#0d0887"
             ],
             [
              0.1111111111111111,
              "#46039f"
             ],
             [
              0.2222222222222222,
              "#7201a8"
             ],
             [
              0.3333333333333333,
              "#9c179e"
             ],
             [
              0.4444444444444444,
              "#bd3786"
             ],
             [
              0.5555555555555556,
              "#d8576b"
             ],
             [
              0.6666666666666666,
              "#ed7953"
             ],
             [
              0.7777777777777778,
              "#fb9f3a"
             ],
             [
              0.8888888888888888,
              "#fdca26"
             ],
             [
              1,
              "#f0f921"
             ]
            ],
            "type": "histogram2dcontour"
           }
          ],
          "mesh3d": [
           {
            "colorbar": {
             "outlinewidth": 0,
             "ticks": ""
            },
            "type": "mesh3d"
           }
          ],
          "parcoords": [
           {
            "line": {
             "colorbar": {
              "outlinewidth": 0,
              "ticks": ""
             }
            },
            "type": "parcoords"
           }
          ],
          "pie": [
           {
            "automargin": true,
            "type": "pie"
           }
          ],
          "scatter": [
           {
            "fillpattern": {
             "fillmode": "overlay",
             "size": 10,
             "solidity": 0.2
            },
            "type": "scatter"
           }
          ],
          "scatter3d": [
           {
            "line": {
             "colorbar": {
              "outlinewidth": 0,
              "ticks": ""
             }
            },
            "marker": {
             "colorbar": {
              "outlinewidth": 0,
              "ticks": ""
             }
            },
            "type": "scatter3d"
           }
          ],
          "scattercarpet": [
           {
            "marker": {
             "colorbar": {
              "outlinewidth": 0,
              "ticks": ""
             }
            },
            "type": "scattercarpet"
           }
          ],
          "scattergeo": [
           {
            "marker": {
             "colorbar": {
              "outlinewidth": 0,
              "ticks": ""
             }
            },
            "type": "scattergeo"
           }
          ],
          "scattergl": [
           {
            "marker": {
             "colorbar": {
              "outlinewidth": 0,
              "ticks": ""
             }
            },
            "type": "scattergl"
           }
          ],
          "scattermap": [
           {
            "marker": {
             "colorbar": {
              "outlinewidth": 0,
              "ticks": ""
             }
            },
            "type": "scattermap"
           }
          ],
          "scattermapbox": [
           {
            "marker": {
             "colorbar": {
              "outlinewidth": 0,
              "ticks": ""
             }
            },
            "type": "scattermapbox"
           }
          ],
          "scatterpolar": [
           {
            "marker": {
             "colorbar": {
              "outlinewidth": 0,
              "ticks": ""
             }
            },
            "type": "scatterpolar"
           }
          ],
          "scatterpolargl": [
           {
            "marker": {
             "colorbar": {
              "outlinewidth": 0,
              "ticks": ""
             }
            },
            "type": "scatterpolargl"
           }
          ],
          "scatterternary": [
           {
            "marker": {
             "colorbar": {
              "outlinewidth": 0,
              "ticks": ""
             }
            },
            "type": "scatterternary"
           }
          ],
          "surface": [
           {
            "colorbar": {
             "outlinewidth": 0,
             "ticks": ""
            },
            "colorscale": [
             [
              0,
              "#0d0887"
             ],
             [
              0.1111111111111111,
              "#46039f"
             ],
             [
              0.2222222222222222,
              "#7201a8"
             ],
             [
              0.3333333333333333,
              "#9c179e"
             ],
             [
              0.4444444444444444,
              "#bd3786"
             ],
             [
              0.5555555555555556,
              "#d8576b"
             ],
             [
              0.6666666666666666,
              "#ed7953"
             ],
             [
              0.7777777777777778,
              "#fb9f3a"
             ],
             [
              0.8888888888888888,
              "#fdca26"
             ],
             [
              1,
              "#f0f921"
             ]
            ],
            "type": "surface"
           }
          ],
          "table": [
           {
            "cells": {
             "fill": {
              "color": "#EBF0F8"
             },
             "line": {
              "color": "white"
             }
            },
            "header": {
             "fill": {
              "color": "#C8D4E3"
             },
             "line": {
              "color": "white"
             }
            },
            "type": "table"
           }
          ]
         },
         "layout": {
          "annotationdefaults": {
           "arrowcolor": "#2a3f5f",
           "arrowhead": 0,
           "arrowwidth": 1
          },
          "autotypenumbers": "strict",
          "coloraxis": {
           "colorbar": {
            "outlinewidth": 0,
            "ticks": ""
           }
          },
          "colorscale": {
           "diverging": [
            [
             0,
             "#8e0152"
            ],
            [
             0.1,
             "#c51b7d"
            ],
            [
             0.2,
             "#de77ae"
            ],
            [
             0.3,
             "#f1b6da"
            ],
            [
             0.4,
             "#fde0ef"
            ],
            [
             0.5,
             "#f7f7f7"
            ],
            [
             0.6,
             "#e6f5d0"
            ],
            [
             0.7,
             "#b8e186"
            ],
            [
             0.8,
             "#7fbc41"
            ],
            [
             0.9,
             "#4d9221"
            ],
            [
             1,
             "#276419"
            ]
           ],
           "sequential": [
            [
             0,
             "#0d0887"
            ],
            [
             0.1111111111111111,
             "#46039f"
            ],
            [
             0.2222222222222222,
             "#7201a8"
            ],
            [
             0.3333333333333333,
             "#9c179e"
            ],
            [
             0.4444444444444444,
             "#bd3786"
            ],
            [
             0.5555555555555556,
             "#d8576b"
            ],
            [
             0.6666666666666666,
             "#ed7953"
            ],
            [
             0.7777777777777778,
             "#fb9f3a"
            ],
            [
             0.8888888888888888,
             "#fdca26"
            ],
            [
             1,
             "#f0f921"
            ]
           ],
           "sequentialminus": [
            [
             0,
             "#0d0887"
            ],
            [
             0.1111111111111111,
             "#46039f"
            ],
            [
             0.2222222222222222,
             "#7201a8"
            ],
            [
             0.3333333333333333,
             "#9c179e"
            ],
            [
             0.4444444444444444,
             "#bd3786"
            ],
            [
             0.5555555555555556,
             "#d8576b"
            ],
            [
             0.6666666666666666,
             "#ed7953"
            ],
            [
             0.7777777777777778,
             "#fb9f3a"
            ],
            [
             0.8888888888888888,
             "#fdca26"
            ],
            [
             1,
             "#f0f921"
            ]
           ]
          },
          "colorway": [
           "#636efa",
           "#EF553B",
           "#00cc96",
           "#ab63fa",
           "#FFA15A",
           "#19d3f3",
           "#FF6692",
           "#B6E880",
           "#FF97FF",
           "#FECB52"
          ],
          "font": {
           "color": "#2a3f5f"
          },
          "geo": {
           "bgcolor": "white",
           "lakecolor": "white",
           "landcolor": "#E5ECF6",
           "showlakes": true,
           "showland": true,
           "subunitcolor": "white"
          },
          "hoverlabel": {
           "align": "left"
          },
          "hovermode": "closest",
          "mapbox": {
           "style": "light"
          },
          "paper_bgcolor": "white",
          "plot_bgcolor": "#E5ECF6",
          "polar": {
           "angularaxis": {
            "gridcolor": "white",
            "linecolor": "white",
            "ticks": ""
           },
           "bgcolor": "#E5ECF6",
           "radialaxis": {
            "gridcolor": "white",
            "linecolor": "white",
            "ticks": ""
           }
          },
          "scene": {
           "xaxis": {
            "backgroundcolor": "#E5ECF6",
            "gridcolor": "white",
            "gridwidth": 2,
            "linecolor": "white",
            "showbackground": true,
            "ticks": "",
            "zerolinecolor": "white"
           },
           "yaxis": {
            "backgroundcolor": "#E5ECF6",
            "gridcolor": "white",
            "gridwidth": 2,
            "linecolor": "white",
            "showbackground": true,
            "ticks": "",
            "zerolinecolor": "white"
           },
           "zaxis": {
            "backgroundcolor": "#E5ECF6",
            "gridcolor": "white",
            "gridwidth": 2,
            "linecolor": "white",
            "showbackground": true,
            "ticks": "",
            "zerolinecolor": "white"
           }
          },
          "shapedefaults": {
           "line": {
            "color": "#2a3f5f"
           }
          },
          "ternary": {
           "aaxis": {
            "gridcolor": "white",
            "linecolor": "white",
            "ticks": ""
           },
           "baxis": {
            "gridcolor": "white",
            "linecolor": "white",
            "ticks": ""
           },
           "bgcolor": "#E5ECF6",
           "caxis": {
            "gridcolor": "white",
            "linecolor": "white",
            "ticks": ""
           }
          },
          "title": {
           "x": 0.05
          },
          "xaxis": {
           "automargin": true,
           "gridcolor": "white",
           "linecolor": "white",
           "ticks": "",
           "title": {
            "standoff": 15
           },
           "zerolinecolor": "white",
           "zerolinewidth": 2
          },
          "yaxis": {
           "automargin": true,
           "gridcolor": "white",
           "linecolor": "white",
           "ticks": "",
           "title": {
            "standoff": 15
           },
           "zerolinecolor": "white",
           "zerolinewidth": 2
          }
         }
        },
        "title": {
         "text": "K-means clustering — international cooperation (2024)"
        }
       }
      }
     },
     "metadata": {},
     "output_type": "display_data"
    },
    {
     "data": {
      "application/vnd.plotly.v1+json": {
       "config": {
        "plotlyServerURL": "https://plot.ly"
       },
       "data": [
        {
         "colorscale": [
          [
           0,
           "rgb(141,211,199)"
          ],
          [
           1,
           "rgb(141,211,199)"
          ]
         ],
         "geo": "geo",
         "hovertemplate": "<b>%{hovertext}</b><br><br>cluster=0<br>iso_alpha=%{location}<extra></extra>",
         "hovertext": [
          "AF",
          "AL",
          "AM",
          "AR",
          "AT",
          "AU",
          "AZ",
          "BA",
          "BD",
          "BE",
          "BG",
          "BQ",
          "CA",
          "CH",
          "CU",
          "CV",
          "CY",
          "CZ",
          "DE",
          "DJ",
          "DK",
          "EE",
          "EG",
          "ES",
          "ET",
          "FI",
          "FO",
          "FR",
          "GE",
          "GL",
          "GM",
          "GW",
          "HR",
          "HT",
          "HU",
          "ID",
          "IE",
          "IL",
          "IQ",
          "IR",
          "IS",
          "IT",
          "JO",
          "KZ",
          "LB",
          "LR",
          "LS",
          "LT",
          "LU",
          "LV",
          "LY",
          "MA",
          "MD",
          "ME",
          "MH",
          "MK",
          "MR",
          "MT",
          "MV",
          "MY",
          "MZ",
          "NC",
          "NE",
          "NI",
          "NL",
          "NO",
          "NZ",
          "PE",
          "PG",
          "PK",
          "PL",
          "PT",
          "RO",
          "RS",
          "SD",
          "SE",
          "SG",
          "SI",
          "SK",
          "SR",
          "TD",
          "TH",
          "TN",
          "TR",
          "TW",
          "UA",
          "US",
          "UY",
          "UZ",
          "VE",
          "VN",
          "ZA"
         ],
         "locations": [
          "AFG",
          "ALB",
          "ARM",
          "ARG",
          "AUT",
          "AUS",
          "AZE",
          "BIH",
          "BGD",
          "BEL",
          "BGR",
          "BES",
          "CAN",
          "CHE",
          "CUB",
          "CPV",
          "CYP",
          "CZE",
          "DEU",
          "DJI",
          "DNK",
          "EST",
          "EGY",
          "ESP",
          "ETH",
          "FIN",
          "FRO",
          "FRA",
          "GEO",
          "GRL",
          "GMB",
          "GNB",
          "HRV",
          "HTI",
          "HUN",
          "IDN",
          "IRL",
          "ISR",
          "IRQ",
          "IRN",
          "ISL",
          "ITA",
          "JOR",
          "KAZ",
          "LBN",
          "LBR",
          "LSO",
          "LTU",
          "LUX",
          "LVA",
          "LBY",
          "MAR",
          "MDA",
          "MNE",
          "MHL",
          "MKD",
          "MRT",
          "MLT",
          "MDV",
          "MYS",
          "MOZ",
          "NCL",
          "NER",
          "NIC",
          "NLD",
          "NOR",
          "NZL",
          "PER",
          "PNG",
          "PAK",
          "POL",
          "PRT",
          "ROU",
          "SRB",
          "SDN",
          "SWE",
          "SGP",
          "SVN",
          "SVK",
          "SUR",
          "TCD",
          "THA",
          "TUN",
          "TUR",
          "TWN",
          "UKR",
          "USA",
          "URY",
          "UZB",
          "VEN",
          "VNM",
          "ZAF"
         ],
         "name": "0",
         "showlegend": true,
         "showscale": false,
         "type": "choropleth",
         "z": [
          1,
          1,
          1,
          1,
          1,
          1,
          1,
          1,
          1,
          1,
          1,
          1,
          1,
          1,
          1,
          1,
          1,
          1,
          1,
          1,
          1,
          1,
          1,
          1,
          1,
          1,
          1,
          1,
          1,
          1,
          1,
          1,
          1,
          1,
          1,
          1,
          1,
          1,
          1,
          1,
          1,
          1,
          1,
          1,
          1,
          1,
          1,
          1,
          1,
          1,
          1,
          1,
          1,
          1,
          1,
          1,
          1,
          1,
          1,
          1,
          1,
          1,
          1,
          1,
          1,
          1,
          1,
          1,
          1,
          1,
          1,
          1,
          1,
          1,
          1,
          1,
          1,
          1,
          1,
          1,
          1,
          1,
          1,
          1,
          1,
          1,
          1,
          1,
          1,
          1,
          1,
          1
         ]
        },
        {
         "colorscale": [
          [
           0,
           "rgb(255,255,179)"
          ],
          [
           1,
           "rgb(255,255,179)"
          ]
         ],
         "geo": "geo",
         "hovertemplate": "<b>%{hovertext}</b><br><br>cluster=1<br>iso_alpha=%{location}<extra></extra>",
         "hovertext": [
          "AW",
          "BW",
          "CN",
          "GT",
          "IN",
          "JP",
          "KG",
          "KH",
          "KR",
          "LK",
          "MG",
          "MU",
          "MX",
          "PF",
          "PH",
          "PS",
          "SL",
          "ZW"
         ],
         "locations": [
          "ABW",
          "BWA",
          "CHN",
          "GTM",
          "IND",
          "JPN",
          "KGZ",
          "KHM",
          "KOR",
          "LKA",
          "MDG",
          "MUS",
          "MEX",
          "PYF",
          "PHL",
          "PSE",
          "SLE",
          "ZWE"
         ],
         "name": "1",
         "showlegend": true,
         "showscale": false,
         "type": "choropleth",
         "z": [
          1,
          1,
          1,
          1,
          1,
          1,
          1,
          1,
          1,
          1,
          1,
          1,
          1,
          1,
          1,
          1,
          1,
          1
         ]
        },
        {
         "colorscale": [
          [
           0,
           "rgb(190,186,218)"
          ],
          [
           1,
           "rgb(190,186,218)"
          ]
         ],
         "geo": "geo",
         "hovertemplate": "<b>%{hovertext}</b><br><br>cluster=3<br>iso_alpha=%{location}<extra></extra>",
         "hovertext": [
          "BF",
          "BI",
          "BJ",
          "CD",
          "CG",
          "CI",
          "CM",
          "DZ",
          "GA",
          "GH",
          "GN",
          "KE",
          "ML",
          "MW",
          "NG",
          "RW",
          "SN",
          "TG",
          "TZ",
          "UG",
          "ZM"
         ],
         "locations": [
          "BFA",
          "BDI",
          "BEN",
          "COD",
          "COG",
          "CIV",
          "CMR",
          "DZA",
          "GAB",
          "GHA",
          "GIN",
          "KEN",
          "MLI",
          "MWI",
          "NGA",
          "RWA",
          "SEN",
          "TGO",
          "TZA",
          "UGA",
          "ZMB"
         ],
         "name": "3",
         "showlegend": true,
         "showscale": false,
         "type": "choropleth",
         "z": [
          1,
          1,
          1,
          1,
          1,
          1,
          1,
          1,
          1,
          1,
          1,
          1,
          1,
          1,
          1,
          1,
          1,
          1,
          1,
          1,
          1
         ]
        },
        {
         "colorscale": [
          [
           0,
           "rgb(251,128,114)"
          ],
          [
           1,
           "rgb(251,128,114)"
          ]
         ],
         "geo": "geo",
         "hovertemplate": "<b>%{hovertext}</b><br><br>cluster=4<br>iso_alpha=%{location}<extra></extra>",
         "hovertext": [
          "BR",
          "CL",
          "CO",
          "CR",
          "EC"
         ],
         "locations": [
          "BRA",
          "CHL",
          "COL",
          "CRI",
          "ECU"
         ],
         "name": "4",
         "showlegend": true,
         "showscale": false,
         "type": "choropleth",
         "z": [
          1,
          1,
          1,
          1,
          1
         ]
        },
        {
         "colorscale": [
          [
           0,
           "rgb(128,177,211)"
          ],
          [
           1,
           "rgb(128,177,211)"
          ]
         ],
         "geo": "geo",
         "hovertemplate": "<b>%{hovertext}</b><br><br>cluster=2<br>iso_alpha=%{location}<extra></extra>",
         "hovertext": [
          "SZ"
         ],
         "locations": [
          "SWZ"
         ],
         "name": "2",
         "showlegend": true,
         "showscale": false,
         "type": "choropleth",
         "z": [
          1
         ]
        }
       ],
       "layout": {
        "geo": {
         "center": {},
         "coastlinecolor": "Gray",
         "countrycolor": "LightGray",
         "domain": {
          "x": [
           0,
           1
          ],
          "y": [
           0,
           1
          ]
         },
         "projection": {
          "type": "natural earth"
         },
         "showcoastlines": true,
         "showcountries": true
        },
        "legend": {
         "title": {
          "text": "cluster"
         },
         "tracegroupgap": 0
        },
        "margin": {
         "b": 0,
         "l": 0,
         "r": 0,
         "t": 50
        },
        "template": {
         "data": {
          "bar": [
           {
            "error_x": {
             "color": "#2a3f5f"
            },
            "error_y": {
             "color": "#2a3f5f"
            },
            "marker": {
             "line": {
              "color": "#E5ECF6",
              "width": 0.5
             },
             "pattern": {
              "fillmode": "overlay",
              "size": 10,
              "solidity": 0.2
             }
            },
            "type": "bar"
           }
          ],
          "barpolar": [
           {
            "marker": {
             "line": {
              "color": "#E5ECF6",
              "width": 0.5
             },
             "pattern": {
              "fillmode": "overlay",
              "size": 10,
              "solidity": 0.2
             }
            },
            "type": "barpolar"
           }
          ],
          "carpet": [
           {
            "aaxis": {
             "endlinecolor": "#2a3f5f",
             "gridcolor": "white",
             "linecolor": "white",
             "minorgridcolor": "white",
             "startlinecolor": "#2a3f5f"
            },
            "baxis": {
             "endlinecolor": "#2a3f5f",
             "gridcolor": "white",
             "linecolor": "white",
             "minorgridcolor": "white",
             "startlinecolor": "#2a3f5f"
            },
            "type": "carpet"
           }
          ],
          "choropleth": [
           {
            "colorbar": {
             "outlinewidth": 0,
             "ticks": ""
            },
            "type": "choropleth"
           }
          ],
          "contour": [
           {
            "colorbar": {
             "outlinewidth": 0,
             "ticks": ""
            },
            "colorscale": [
             [
              0,
              "#0d0887"
             ],
             [
              0.1111111111111111,
              "#46039f"
             ],
             [
              0.2222222222222222,
              "#7201a8"
             ],
             [
              0.3333333333333333,
              "#9c179e"
             ],
             [
              0.4444444444444444,
              "#bd3786"
             ],
             [
              0.5555555555555556,
              "#d8576b"
             ],
             [
              0.6666666666666666,
              "#ed7953"
             ],
             [
              0.7777777777777778,
              "#fb9f3a"
             ],
             [
              0.8888888888888888,
              "#fdca26"
             ],
             [
              1,
              "#f0f921"
             ]
            ],
            "type": "contour"
           }
          ],
          "contourcarpet": [
           {
            "colorbar": {
             "outlinewidth": 0,
             "ticks": ""
            },
            "type": "contourcarpet"
           }
          ],
          "heatmap": [
           {
            "colorbar": {
             "outlinewidth": 0,
             "ticks": ""
            },
            "colorscale": [
             [
              0,
              "#0d0887"
             ],
             [
              0.1111111111111111,
              "#46039f"
             ],
             [
              0.2222222222222222,
              "#7201a8"
             ],
             [
              0.3333333333333333,
              "#9c179e"
             ],
             [
              0.4444444444444444,
              "#bd3786"
             ],
             [
              0.5555555555555556,
              "#d8576b"
             ],
             [
              0.6666666666666666,
              "#ed7953"
             ],
             [
              0.7777777777777778,
              "#fb9f3a"
             ],
             [
              0.8888888888888888,
              "#fdca26"
             ],
             [
              1,
              "#f0f921"
             ]
            ],
            "type": "heatmap"
           }
          ],
          "histogram": [
           {
            "marker": {
             "pattern": {
              "fillmode": "overlay",
              "size": 10,
              "solidity": 0.2
             }
            },
            "type": "histogram"
           }
          ],
          "histogram2d": [
           {
            "colorbar": {
             "outlinewidth": 0,
             "ticks": ""
            },
            "colorscale": [
             [
              0,
              "#0d0887"
             ],
             [
              0.1111111111111111,
              "#46039f"
             ],
             [
              0.2222222222222222,
              "#7201a8"
             ],
             [
              0.3333333333333333,
              "#9c179e"
             ],
             [
              0.4444444444444444,
              "#bd3786"
             ],
             [
              0.5555555555555556,
              "#d8576b"
             ],
             [
              0.6666666666666666,
              "#ed7953"
             ],
             [
              0.7777777777777778,
              "#fb9f3a"
             ],
             [
              0.8888888888888888,
              "#fdca26"
             ],
             [
              1,
              "#f0f921"
             ]
            ],
            "type": "histogram2d"
           }
          ],
          "histogram2dcontour": [
           {
            "colorbar": {
             "outlinewidth": 0,
             "ticks": ""
            },
            "colorscale": [
             [
              0,
              "#0d0887"
             ],
             [
              0.1111111111111111,
              "#46039f"
             ],
             [
              0.2222222222222222,
              "#7201a8"
             ],
             [
              0.3333333333333333,
              "#9c179e"
             ],
             [
              0.4444444444444444,
              "#bd3786"
             ],
             [
              0.5555555555555556,
              "#d8576b"
             ],
             [
              0.6666666666666666,
              "#ed7953"
             ],
             [
              0.7777777777777778,
              "#fb9f3a"
             ],
             [
              0.8888888888888888,
              "#fdca26"
             ],
             [
              1,
              "#f0f921"
             ]
            ],
            "type": "histogram2dcontour"
           }
          ],
          "mesh3d": [
           {
            "colorbar": {
             "outlinewidth": 0,
             "ticks": ""
            },
            "type": "mesh3d"
           }
          ],
          "parcoords": [
           {
            "line": {
             "colorbar": {
              "outlinewidth": 0,
              "ticks": ""
             }
            },
            "type": "parcoords"
           }
          ],
          "pie": [
           {
            "automargin": true,
            "type": "pie"
           }
          ],
          "scatter": [
           {
            "fillpattern": {
             "fillmode": "overlay",
             "size": 10,
             "solidity": 0.2
            },
            "type": "scatter"
           }
          ],
          "scatter3d": [
           {
            "line": {
             "colorbar": {
              "outlinewidth": 0,
              "ticks": ""
             }
            },
            "marker": {
             "colorbar": {
              "outlinewidth": 0,
              "ticks": ""
             }
            },
            "type": "scatter3d"
           }
          ],
          "scattercarpet": [
           {
            "marker": {
             "colorbar": {
              "outlinewidth": 0,
              "ticks": ""
             }
            },
            "type": "scattercarpet"
           }
          ],
          "scattergeo": [
           {
            "marker": {
             "colorbar": {
              "outlinewidth": 0,
              "ticks": ""
             }
            },
            "type": "scattergeo"
           }
          ],
          "scattergl": [
           {
            "marker": {
             "colorbar": {
              "outlinewidth": 0,
              "ticks": ""
             }
            },
            "type": "scattergl"
           }
          ],
          "scattermap": [
           {
            "marker": {
             "colorbar": {
              "outlinewidth": 0,
              "ticks": ""
             }
            },
            "type": "scattermap"
           }
          ],
          "scattermapbox": [
           {
            "marker": {
             "colorbar": {
              "outlinewidth": 0,
              "ticks": ""
             }
            },
            "type": "scattermapbox"
           }
          ],
          "scatterpolar": [
           {
            "marker": {
             "colorbar": {
              "outlinewidth": 0,
              "ticks": ""
             }
            },
            "type": "scatterpolar"
           }
          ],
          "scatterpolargl": [
           {
            "marker": {
             "colorbar": {
              "outlinewidth": 0,
              "ticks": ""
             }
            },
            "type": "scatterpolargl"
           }
          ],
          "scatterternary": [
           {
            "marker": {
             "colorbar": {
              "outlinewidth": 0,
              "ticks": ""
             }
            },
            "type": "scatterternary"
           }
          ],
          "surface": [
           {
            "colorbar": {
             "outlinewidth": 0,
             "ticks": ""
            },
            "colorscale": [
             [
              0,
              "#0d0887"
             ],
             [
              0.1111111111111111,
              "#46039f"
             ],
             [
              0.2222222222222222,
              "#7201a8"
             ],
             [
              0.3333333333333333,
              "#9c179e"
             ],
             [
              0.4444444444444444,
              "#bd3786"
             ],
             [
              0.5555555555555556,
              "#d8576b"
             ],
             [
              0.6666666666666666,
              "#ed7953"
             ],
             [
              0.7777777777777778,
              "#fb9f3a"
             ],
             [
              0.8888888888888888,
              "#fdca26"
             ],
             [
              1,
              "#f0f921"
             ]
            ],
            "type": "surface"
           }
          ],
          "table": [
           {
            "cells": {
             "fill": {
              "color": "#EBF0F8"
             },
             "line": {
              "color": "white"
             }
            },
            "header": {
             "fill": {
              "color": "#C8D4E3"
             },
             "line": {
              "color": "white"
             }
            },
            "type": "table"
           }
          ]
         },
         "layout": {
          "annotationdefaults": {
           "arrowcolor": "#2a3f5f",
           "arrowhead": 0,
           "arrowwidth": 1
          },
          "autotypenumbers": "strict",
          "coloraxis": {
           "colorbar": {
            "outlinewidth": 0,
            "ticks": ""
           }
          },
          "colorscale": {
           "diverging": [
            [
             0,
             "#8e0152"
            ],
            [
             0.1,
             "#c51b7d"
            ],
            [
             0.2,
             "#de77ae"
            ],
            [
             0.3,
             "#f1b6da"
            ],
            [
             0.4,
             "#fde0ef"
            ],
            [
             0.5,
             "#f7f7f7"
            ],
            [
             0.6,
             "#e6f5d0"
            ],
            [
             0.7,
             "#b8e186"
            ],
            [
             0.8,
             "#7fbc41"
            ],
            [
             0.9,
             "#4d9221"
            ],
            [
             1,
             "#276419"
            ]
           ],
           "sequential": [
            [
             0,
             "#0d0887"
            ],
            [
             0.1111111111111111,
             "#46039f"
            ],
            [
             0.2222222222222222,
             "#7201a8"
            ],
            [
             0.3333333333333333,
             "#9c179e"
            ],
            [
             0.4444444444444444,
             "#bd3786"
            ],
            [
             0.5555555555555556,
             "#d8576b"
            ],
            [
             0.6666666666666666,
             "#ed7953"
            ],
            [
             0.7777777777777778,
             "#fb9f3a"
            ],
            [
             0.8888888888888888,
             "#fdca26"
            ],
            [
             1,
             "#f0f921"
            ]
           ],
           "sequentialminus": [
            [
             0,
             "#0d0887"
            ],
            [
             0.1111111111111111,
             "#46039f"
            ],
            [
             0.2222222222222222,
             "#7201a8"
            ],
            [
             0.3333333333333333,
             "#9c179e"
            ],
            [
             0.4444444444444444,
             "#bd3786"
            ],
            [
             0.5555555555555556,
             "#d8576b"
            ],
            [
             0.6666666666666666,
             "#ed7953"
            ],
            [
             0.7777777777777778,
             "#fb9f3a"
            ],
            [
             0.8888888888888888,
             "#fdca26"
            ],
            [
             1,
             "#f0f921"
            ]
           ]
          },
          "colorway": [
           "#636efa",
           "#EF553B",
           "#00cc96",
           "#ab63fa",
           "#FFA15A",
           "#19d3f3",
           "#FF6692",
           "#B6E880",
           "#FF97FF",
           "#FECB52"
          ],
          "font": {
           "color": "#2a3f5f"
          },
          "geo": {
           "bgcolor": "white",
           "lakecolor": "white",
           "landcolor": "#E5ECF6",
           "showlakes": true,
           "showland": true,
           "subunitcolor": "white"
          },
          "hoverlabel": {
           "align": "left"
          },
          "hovermode": "closest",
          "mapbox": {
           "style": "light"
          },
          "paper_bgcolor": "white",
          "plot_bgcolor": "#E5ECF6",
          "polar": {
           "angularaxis": {
            "gridcolor": "white",
            "linecolor": "white",
            "ticks": ""
           },
           "bgcolor": "#E5ECF6",
           "radialaxis": {
            "gridcolor": "white",
            "linecolor": "white",
            "ticks": ""
           }
          },
          "scene": {
           "xaxis": {
            "backgroundcolor": "#E5ECF6",
            "gridcolor": "white",
            "gridwidth": 2,
            "linecolor": "white",
            "showbackground": true,
            "ticks": "",
            "zerolinecolor": "white"
           },
           "yaxis": {
            "backgroundcolor": "#E5ECF6",
            "gridcolor": "white",
            "gridwidth": 2,
            "linecolor": "white",
            "showbackground": true,
            "ticks": "",
            "zerolinecolor": "white"
           },
           "zaxis": {
            "backgroundcolor": "#E5ECF6",
            "gridcolor": "white",
            "gridwidth": 2,
            "linecolor": "white",
            "showbackground": true,
            "ticks": "",
            "zerolinecolor": "white"
           }
          },
          "shapedefaults": {
           "line": {
            "color": "#2a3f5f"
           }
          },
          "ternary": {
           "aaxis": {
            "gridcolor": "white",
            "linecolor": "white",
            "ticks": ""
           },
           "baxis": {
            "gridcolor": "white",
            "linecolor": "white",
            "ticks": ""
           },
           "bgcolor": "#E5ECF6",
           "caxis": {
            "gridcolor": "white",
            "linecolor": "white",
            "ticks": ""
           }
          },
          "title": {
           "x": 0.05
          },
          "xaxis": {
           "automargin": true,
           "gridcolor": "white",
           "linecolor": "white",
           "ticks": "",
           "title": {
            "standoff": 15
           },
           "zerolinecolor": "white",
           "zerolinewidth": 2
          },
          "yaxis": {
           "automargin": true,
           "gridcolor": "white",
           "linecolor": "white",
           "ticks": "",
           "title": {
            "standoff": 15
           },
           "zerolinecolor": "white",
           "zerolinewidth": 2
          }
         }
        },
        "title": {
         "text": "Spectral clustering — international cooperation (2024)"
        }
       }
      }
     },
     "metadata": {},
     "output_type": "display_data"
    },
    {
     "data": {
      "application/vnd.plotly.v1+json": {
       "config": {
        "plotlyServerURL": "https://plot.ly"
       },
       "data": [
        {
         "colorscale": [
          [
           0,
           "rgb(141,211,199)"
          ],
          [
           1,
           "rgb(141,211,199)"
          ]
         ],
         "geo": "geo",
         "hovertemplate": "<b>%{hovertext}</b><br><br>cluster=0<br>iso_alpha=%{location}<extra></extra>",
         "hovertext": [
          "AF",
          "AL",
          "AM",
          "AR",
          "AT",
          "AU",
          "AW",
          "AZ",
          "BA",
          "BD",
          "BE",
          "BF",
          "BG",
          "BI",
          "BJ",
          "BQ",
          "BR",
          "BW",
          "CA",
          "CD",
          "CG",
          "CH",
          "CI",
          "CL",
          "CM",
          "CN",
          "CO",
          "CR",
          "CU",
          "CV",
          "CY",
          "CZ",
          "DE",
          "DJ",
          "DK",
          "DZ",
          "EC",
          "EE",
          "EG",
          "ES",
          "ET",
          "FI",
          "FO",
          "FR",
          "GA",
          "GE",
          "GH",
          "GL",
          "GM",
          "GN",
          "GT",
          "GW",
          "HR",
          "HT",
          "HU",
          "ID",
          "IE",
          "IL",
          "IN",
          "IQ",
          "IR",
          "IS",
          "IT",
          "JO",
          "JP",
          "KE",
          "KG",
          "KH",
          "KR",
          "KZ",
          "LB",
          "LK",
          "LR",
          "LS",
          "LT",
          "LU",
          "LV",
          "LY",
          "MA",
          "MD",
          "ME",
          "MG",
          "MH",
          "MK",
          "ML",
          "MR",
          "MT",
          "MU",
          "MV",
          "MW",
          "MX",
          "MY",
          "MZ",
          "NC",
          "NE",
          "NG",
          "NI",
          "NL",
          "NO",
          "NZ",
          "PE",
          "PF",
          "PG",
          "PH",
          "PK",
          "PL",
          "PS",
          "PT",
          "RO",
          "RS",
          "RW",
          "SD",
          "SE",
          "SG",
          "SI",
          "SK",
          "SL",
          "SN",
          "SR",
          "SZ",
          "TD",
          "TG",
          "TH",
          "TN",
          "TR",
          "TW",
          "TZ",
          "UA",
          "UG",
          "US",
          "UY",
          "UZ",
          "VE",
          "VN",
          "ZA",
          "ZM",
          "ZW"
         ],
         "locations": [
          "AFG",
          "ALB",
          "ARM",
          "ARG",
          "AUT",
          "AUS",
          "ABW",
          "AZE",
          "BIH",
          "BGD",
          "BEL",
          "BFA",
          "BGR",
          "BDI",
          "BEN",
          "BES",
          "BRA",
          "BWA",
          "CAN",
          "COD",
          "COG",
          "CHE",
          "CIV",
          "CHL",
          "CMR",
          "CHN",
          "COL",
          "CRI",
          "CUB",
          "CPV",
          "CYP",
          "CZE",
          "DEU",
          "DJI",
          "DNK",
          "DZA",
          "ECU",
          "EST",
          "EGY",
          "ESP",
          "ETH",
          "FIN",
          "FRO",
          "FRA",
          "GAB",
          "GEO",
          "GHA",
          "GRL",
          "GMB",
          "GIN",
          "GTM",
          "GNB",
          "HRV",
          "HTI",
          "HUN",
          "IDN",
          "IRL",
          "ISR",
          "IND",
          "IRQ",
          "IRN",
          "ISL",
          "ITA",
          "JOR",
          "JPN",
          "KEN",
          "KGZ",
          "KHM",
          "KOR",
          "KAZ",
          "LBN",
          "LKA",
          "LBR",
          "LSO",
          "LTU",
          "LUX",
          "LVA",
          "LBY",
          "MAR",
          "MDA",
          "MNE",
          "MDG",
          "MHL",
          "MKD",
          "MLI",
          "MRT",
          "MLT",
          "MUS",
          "MDV",
          "MWI",
          "MEX",
          "MYS",
          "MOZ",
          "NCL",
          "NER",
          "NGA",
          "NIC",
          "NLD",
          "NOR",
          "NZL",
          "PER",
          "PYF",
          "PNG",
          "PHL",
          "PAK",
          "POL",
          "PSE",
          "PRT",
          "ROU",
          "SRB",
          "RWA",
          "SDN",
          "SWE",
          "SGP",
          "SVN",
          "SVK",
          "SLE",
          "SEN",
          "SUR",
          "SWZ",
          "TCD",
          "TGO",
          "THA",
          "TUN",
          "TUR",
          "TWN",
          "TZA",
          "UKR",
          "UGA",
          "USA",
          "URY",
          "UZB",
          "VEN",
          "VNM",
          "ZAF",
          "ZMB",
          "ZWE"
         ],
         "name": "0",
         "showlegend": true,
         "showscale": false,
         "type": "choropleth",
         "z": [
          1,
          1,
          1,
          1,
          1,
          1,
          1,
          1,
          1,
          1,
          1,
          1,
          1,
          1,
          1,
          1,
          1,
          1,
          1,
          1,
          1,
          1,
          1,
          1,
          1,
          1,
          1,
          1,
          1,
          1,
          1,
          1,
          1,
          1,
          1,
          1,
          1,
          1,
          1,
          1,
          1,
          1,
          1,
          1,
          1,
          1,
          1,
          1,
          1,
          1,
          1,
          1,
          1,
          1,
          1,
          1,
          1,
          1,
          1,
          1,
          1,
          1,
          1,
          1,
          1,
          1,
          1,
          1,
          1,
          1,
          1,
          1,
          1,
          1,
          1,
          1,
          1,
          1,
          1,
          1,
          1,
          1,
          1,
          1,
          1,
          1,
          1,
          1,
          1,
          1,
          1,
          1,
          1,
          1,
          1,
          1,
          1,
          1,
          1,
          1,
          1,
          1,
          1,
          1,
          1,
          1,
          1,
          1,
          1,
          1,
          1,
          1,
          1,
          1,
          1,
          1,
          1,
          1,
          1,
          1,
          1,
          1,
          1,
          1,
          1,
          1,
          1,
          1,
          1,
          1,
          1,
          1,
          1,
          1,
          1,
          1,
          1
         ]
        }
       ],
       "layout": {
        "geo": {
         "center": {},
         "coastlinecolor": "Gray",
         "countrycolor": "LightGray",
         "domain": {
          "x": [
           0,
           1
          ],
          "y": [
           0,
           1
          ]
         },
         "projection": {
          "type": "natural earth"
         },
         "showcoastlines": true,
         "showcountries": true
        },
        "legend": {
         "title": {
          "text": "cluster"
         },
         "tracegroupgap": 0
        },
        "margin": {
         "b": 0,
         "l": 0,
         "r": 0,
         "t": 50
        },
        "template": {
         "data": {
          "bar": [
           {
            "error_x": {
             "color": "#2a3f5f"
            },
            "error_y": {
             "color": "#2a3f5f"
            },
            "marker": {
             "line": {
              "color": "#E5ECF6",
              "width": 0.5
             },
             "pattern": {
              "fillmode": "overlay",
              "size": 10,
              "solidity": 0.2
             }
            },
            "type": "bar"
           }
          ],
          "barpolar": [
           {
            "marker": {
             "line": {
              "color": "#E5ECF6",
              "width": 0.5
             },
             "pattern": {
              "fillmode": "overlay",
              "size": 10,
              "solidity": 0.2
             }
            },
            "type": "barpolar"
           }
          ],
          "carpet": [
           {
            "aaxis": {
             "endlinecolor": "#2a3f5f",
             "gridcolor": "white",
             "linecolor": "white",
             "minorgridcolor": "white",
             "startlinecolor": "#2a3f5f"
            },
            "baxis": {
             "endlinecolor": "#2a3f5f",
             "gridcolor": "white",
             "linecolor": "white",
             "minorgridcolor": "white",
             "startlinecolor": "#2a3f5f"
            },
            "type": "carpet"
           }
          ],
          "choropleth": [
           {
            "colorbar": {
             "outlinewidth": 0,
             "ticks": ""
            },
            "type": "choropleth"
           }
          ],
          "contour": [
           {
            "colorbar": {
             "outlinewidth": 0,
             "ticks": ""
            },
            "colorscale": [
             [
              0,
              "#0d0887"
             ],
             [
              0.1111111111111111,
              "#46039f"
             ],
             [
              0.2222222222222222,
              "#7201a8"
             ],
             [
              0.3333333333333333,
              "#9c179e"
             ],
             [
              0.4444444444444444,
              "#bd3786"
             ],
             [
              0.5555555555555556,
              "#d8576b"
             ],
             [
              0.6666666666666666,
              "#ed7953"
             ],
             [
              0.7777777777777778,
              "#fb9f3a"
             ],
             [
              0.8888888888888888,
              "#fdca26"
             ],
             [
              1,
              "#f0f921"
             ]
            ],
            "type": "contour"
           }
          ],
          "contourcarpet": [
           {
            "colorbar": {
             "outlinewidth": 0,
             "ticks": ""
            },
            "type": "contourcarpet"
           }
          ],
          "heatmap": [
           {
            "colorbar": {
             "outlinewidth": 0,
             "ticks": ""
            },
            "colorscale": [
             [
              0,
              "#0d0887"
             ],
             [
              0.1111111111111111,
              "#46039f"
             ],
             [
              0.2222222222222222,
              "#7201a8"
             ],
             [
              0.3333333333333333,
              "#9c179e"
             ],
             [
              0.4444444444444444,
              "#bd3786"
             ],
             [
              0.5555555555555556,
              "#d8576b"
             ],
             [
              0.6666666666666666,
              "#ed7953"
             ],
             [
              0.7777777777777778,
              "#fb9f3a"
             ],
             [
              0.8888888888888888,
              "#fdca26"
             ],
             [
              1,
              "#f0f921"
             ]
            ],
            "type": "heatmap"
           }
          ],
          "histogram": [
           {
            "marker": {
             "pattern": {
              "fillmode": "overlay",
              "size": 10,
              "solidity": 0.2
             }
            },
            "type": "histogram"
           }
          ],
          "histogram2d": [
           {
            "colorbar": {
             "outlinewidth": 0,
             "ticks": ""
            },
            "colorscale": [
             [
              0,
              "#0d0887"
             ],
             [
              0.1111111111111111,
              "#46039f"
             ],
             [
              0.2222222222222222,
              "#7201a8"
             ],
             [
              0.3333333333333333,
              "#9c179e"
             ],
             [
              0.4444444444444444,
              "#bd3786"
             ],
             [
              0.5555555555555556,
              "#d8576b"
             ],
             [
              0.6666666666666666,
              "#ed7953"
             ],
             [
              0.7777777777777778,
              "#fb9f3a"
             ],
             [
              0.8888888888888888,
              "#fdca26"
             ],
             [
              1,
              "#f0f921"
             ]
            ],
            "type": "histogram2d"
           }
          ],
          "histogram2dcontour": [
           {
            "colorbar": {
             "outlinewidth": 0,
             "ticks": ""
            },
            "colorscale": [
             [
              0,
              "#0d0887"
             ],
             [
              0.1111111111111111,
              "#46039f"
             ],
             [
              0.2222222222222222,
              "#7201a8"
             ],
             [
              0.3333333333333333,
              "#9c179e"
             ],
             [
              0.4444444444444444,
              "#bd3786"
             ],
             [
              0.5555555555555556,
              "#d8576b"
             ],
             [
              0.6666666666666666,
              "#ed7953"
             ],
             [
              0.7777777777777778,
              "#fb9f3a"
             ],
             [
              0.8888888888888888,
              "#fdca26"
             ],
             [
              1,
              "#f0f921"
             ]
            ],
            "type": "histogram2dcontour"
           }
          ],
          "mesh3d": [
           {
            "colorbar": {
             "outlinewidth": 0,
             "ticks": ""
            },
            "type": "mesh3d"
           }
          ],
          "parcoords": [
           {
            "line": {
             "colorbar": {
              "outlinewidth": 0,
              "ticks": ""
             }
            },
            "type": "parcoords"
           }
          ],
          "pie": [
           {
            "automargin": true,
            "type": "pie"
           }
          ],
          "scatter": [
           {
            "fillpattern": {
             "fillmode": "overlay",
             "size": 10,
             "solidity": 0.2
            },
            "type": "scatter"
           }
          ],
          "scatter3d": [
           {
            "line": {
             "colorbar": {
              "outlinewidth": 0,
              "ticks": ""
             }
            },
            "marker": {
             "colorbar": {
              "outlinewidth": 0,
              "ticks": ""
             }
            },
            "type": "scatter3d"
           }
          ],
          "scattercarpet": [
           {
            "marker": {
             "colorbar": {
              "outlinewidth": 0,
              "ticks": ""
             }
            },
            "type": "scattercarpet"
           }
          ],
          "scattergeo": [
           {
            "marker": {
             "colorbar": {
              "outlinewidth": 0,
              "ticks": ""
             }
            },
            "type": "scattergeo"
           }
          ],
          "scattergl": [
           {
            "marker": {
             "colorbar": {
              "outlinewidth": 0,
              "ticks": ""
             }
            },
            "type": "scattergl"
           }
          ],
          "scattermap": [
           {
            "marker": {
             "colorbar": {
              "outlinewidth": 0,
              "ticks": ""
             }
            },
            "type": "scattermap"
           }
          ],
          "scattermapbox": [
           {
            "marker": {
             "colorbar": {
              "outlinewidth": 0,
              "ticks": ""
             }
            },
            "type": "scattermapbox"
           }
          ],
          "scatterpolar": [
           {
            "marker": {
             "colorbar": {
              "outlinewidth": 0,
              "ticks": ""
             }
            },
            "type": "scatterpolar"
           }
          ],
          "scatterpolargl": [
           {
            "marker": {
             "colorbar": {
              "outlinewidth": 0,
              "ticks": ""
             }
            },
            "type": "scatterpolargl"
           }
          ],
          "scatterternary": [
           {
            "marker": {
             "colorbar": {
              "outlinewidth": 0,
              "ticks": ""
             }
            },
            "type": "scatterternary"
           }
          ],
          "surface": [
           {
            "colorbar": {
             "outlinewidth": 0,
             "ticks": ""
            },
            "colorscale": [
             [
              0,
              "#0d0887"
             ],
             [
              0.1111111111111111,
              "#46039f"
             ],
             [
              0.2222222222222222,
              "#7201a8"
             ],
             [
              0.3333333333333333,
              "#9c179e"
             ],
             [
              0.4444444444444444,
              "#bd3786"
             ],
             [
              0.5555555555555556,
              "#d8576b"
             ],
             [
              0.6666666666666666,
              "#ed7953"
             ],
             [
              0.7777777777777778,
              "#fb9f3a"
             ],
             [
              0.8888888888888888,
              "#fdca26"
             ],
             [
              1,
              "#f0f921"
             ]
            ],
            "type": "surface"
           }
          ],
          "table": [
           {
            "cells": {
             "fill": {
              "color": "#EBF0F8"
             },
             "line": {
              "color": "white"
             }
            },
            "header": {
             "fill": {
              "color": "#C8D4E3"
             },
             "line": {
              "color": "white"
             }
            },
            "type": "table"
           }
          ]
         },
         "layout": {
          "annotationdefaults": {
           "arrowcolor": "#2a3f5f",
           "arrowhead": 0,
           "arrowwidth": 1
          },
          "autotypenumbers": "strict",
          "coloraxis": {
           "colorbar": {
            "outlinewidth": 0,
            "ticks": ""
           }
          },
          "colorscale": {
           "diverging": [
            [
             0,
             "#8e0152"
            ],
            [
             0.1,
             "#c51b7d"
            ],
            [
             0.2,
             "#de77ae"
            ],
            [
             0.3,
             "#f1b6da"
            ],
            [
             0.4,
             "#fde0ef"
            ],
            [
             0.5,
             "#f7f7f7"
            ],
            [
             0.6,
             "#e6f5d0"
            ],
            [
             0.7,
             "#b8e186"
            ],
            [
             0.8,
             "#7fbc41"
            ],
            [
             0.9,
             "#4d9221"
            ],
            [
             1,
             "#276419"
            ]
           ],
           "sequential": [
            [
             0,
             "#0d0887"
            ],
            [
             0.1111111111111111,
             "#46039f"
            ],
            [
             0.2222222222222222,
             "#7201a8"
            ],
            [
             0.3333333333333333,
             "#9c179e"
            ],
            [
             0.4444444444444444,
             "#bd3786"
            ],
            [
             0.5555555555555556,
             "#d8576b"
            ],
            [
             0.6666666666666666,
             "#ed7953"
            ],
            [
             0.7777777777777778,
             "#fb9f3a"
            ],
            [
             0.8888888888888888,
             "#fdca26"
            ],
            [
             1,
             "#f0f921"
            ]
           ],
           "sequentialminus": [
            [
             0,
             "#0d0887"
            ],
            [
             0.1111111111111111,
             "#46039f"
            ],
            [
             0.2222222222222222,
             "#7201a8"
            ],
            [
             0.3333333333333333,
             "#9c179e"
            ],
            [
             0.4444444444444444,
             "#bd3786"
            ],
            [
             0.5555555555555556,
             "#d8576b"
            ],
            [
             0.6666666666666666,
             "#ed7953"
            ],
            [
             0.7777777777777778,
             "#fb9f3a"
            ],
            [
             0.8888888888888888,
             "#fdca26"
            ],
            [
             1,
             "#f0f921"
            ]
           ]
          },
          "colorway": [
           "#636efa",
           "#EF553B",
           "#00cc96",
           "#ab63fa",
           "#FFA15A",
           "#19d3f3",
           "#FF6692",
           "#B6E880",
           "#FF97FF",
           "#FECB52"
          ],
          "font": {
           "color": "#2a3f5f"
          },
          "geo": {
           "bgcolor": "white",
           "lakecolor": "white",
           "landcolor": "#E5ECF6",
           "showlakes": true,
           "showland": true,
           "subunitcolor": "white"
          },
          "hoverlabel": {
           "align": "left"
          },
          "hovermode": "closest",
          "mapbox": {
           "style": "light"
          },
          "paper_bgcolor": "white",
          "plot_bgcolor": "#E5ECF6",
          "polar": {
           "angularaxis": {
            "gridcolor": "white",
            "linecolor": "white",
            "ticks": ""
           },
           "bgcolor": "#E5ECF6",
           "radialaxis": {
            "gridcolor": "white",
            "linecolor": "white",
            "ticks": ""
           }
          },
          "scene": {
           "xaxis": {
            "backgroundcolor": "#E5ECF6",
            "gridcolor": "white",
            "gridwidth": 2,
            "linecolor": "white",
            "showbackground": true,
            "ticks": "",
            "zerolinecolor": "white"
           },
           "yaxis": {
            "backgroundcolor": "#E5ECF6",
            "gridcolor": "white",
            "gridwidth": 2,
            "linecolor": "white",
            "showbackground": true,
            "ticks": "",
            "zerolinecolor": "white"
           },
           "zaxis": {
            "backgroundcolor": "#E5ECF6",
            "gridcolor": "white",
            "gridwidth": 2,
            "linecolor": "white",
            "showbackground": true,
            "ticks": "",
            "zerolinecolor": "white"
           }
          },
          "shapedefaults": {
           "line": {
            "color": "#2a3f5f"
           }
          },
          "ternary": {
           "aaxis": {
            "gridcolor": "white",
            "linecolor": "white",
            "ticks": ""
           },
           "baxis": {
            "gridcolor": "white",
            "linecolor": "white",
            "ticks": ""
           },
           "bgcolor": "#E5ECF6",
           "caxis": {
            "gridcolor": "white",
            "linecolor": "white",
            "ticks": ""
           }
          },
          "title": {
           "x": 0.05
          },
          "xaxis": {
           "automargin": true,
           "gridcolor": "white",
           "linecolor": "white",
           "ticks": "",
           "title": {
            "standoff": 15
           },
           "zerolinecolor": "white",
           "zerolinewidth": 2
          },
          "yaxis": {
           "automargin": true,
           "gridcolor": "white",
           "linecolor": "white",
           "ticks": "",
           "title": {
            "standoff": 15
           },
           "zerolinecolor": "white",
           "zerolinewidth": 2
          }
         }
        },
        "title": {
         "text": "DBSCAN clustering — international cooperation (2024)"
        }
       }
      }
     },
     "metadata": {},
     "output_type": "display_data"
    }
   ],
   "source": [
    "# Show all plots for 2020 and 2024\n",
    "for year in [2020, 2024]:\n",
    "    for algo_name in clusterers.keys():\n",
    "        figs[(year, algo_name)].show()"
   ]
  },
  {
   "cell_type": "markdown",
   "metadata": {},
   "source": [
    "Clusteren per 1 jaar "
   ]
  },
  {
   "cell_type": "code",
   "execution_count": 21,
   "metadata": {},
   "outputs": [],
   "source": [
    "def cluster_projects_for_year(year: int, df_project_2020, df_project_2024,\n",
    "                              df_org_2020, df_org_2024):\n",
    "    # Combineer projectdata\n",
    "    df_projects_all = pd.concat([\n",
    "        df_project_2020.assign(source_year=2020),\n",
    "        df_project_2024.assign(source_year=2024)\n",
    "    ])\n",
    "    \n",
    "    # Filter op opgegeven startjaar\n",
    "    df_projects_all['startDate'] = pd.to_datetime(df_projects_all['startDate'], errors='coerce')\n",
    "    project_ids = df_projects_all[df_projects_all['startDate'].dt.year == year]['id']\n",
    "    \n",
    "    # Combineer organization data\n",
    "    df_org_all = pd.concat([df_org_2020, df_org_2024])\n",
    "    \n",
    "    # Filter organization data op relevante projecten\n",
    "    df_filtered_org = df_org_all[df_org_all['projectID'].isin(project_ids)]\n",
    "\n",
    "    # Bereken matrices\n",
    "    network_df, distance_df, norm_df = country_network_matrices(df_filtered_org)\n",
    "\n",
    "    # Clusteringsalgoritmen\n",
    "    N_CLUSTERS = 5\n",
    "    EPS        = 1\n",
    "\n",
    "    clusterers = {\n",
    "        \"K-means\":   KMeans(n_clusters=N_CLUSTERS, n_init=\"auto\", random_state=42),\n",
    "        \"Spectral\":  SpectralClustering(n_clusters=N_CLUSTERS, affinity=\"precomputed\", random_state=42),\n",
    "        \"DBSCAN\":    DBSCAN(eps=EPS, metric=\"precomputed\")\n",
    "    }\n",
    "\n",
    "    # Resultaten opslaan\n",
    "    figs = {}\n",
    "\n",
    "    for algo_name, algo in clusterers.items():\n",
    "        if algo_name == \"Spectral\":\n",
    "            input_matrix = 1 - norm_df\n",
    "        else:\n",
    "            input_matrix = norm_df\n",
    "\n",
    "        df_clustered = cluster_dataframe(input_matrix, algo, algo_name)\n",
    "        figs[algo_name] = cluster_map(\n",
    "            df_clustered,\n",
    "            f\"{algo_name} clustering — international cooperation ({year})\"\n",
    "        )\n",
    "\n",
    "    # Toon plots\n",
    "    for fig in figs.values():\n",
    "        fig.show()\n"
   ]
  },
  {
   "cell_type": "code",
   "execution_count": 22,
   "metadata": {},
   "outputs": [
    {
     "data": {
      "application/vnd.plotly.v1+json": {
       "config": {
        "plotlyServerURL": "https://plot.ly"
       },
       "data": [
        {
         "colorscale": [
          [
           0,
           "rgb(141,211,199)"
          ],
          [
           1,
           "rgb(141,211,199)"
          ]
         ],
         "geo": "geo",
         "hovertemplate": "<b>%{hovertext}</b><br><br>cluster=1<br>iso_alpha=%{location}<extra></extra>",
         "hovertext": [
          "AL",
          "AM",
          "AT",
          "AZ",
          "BA",
          "BE",
          "BG",
          "BY",
          "CH",
          "CY",
          "CZ",
          "DE",
          "DK",
          "EE",
          "ES",
          "FI",
          "FR",
          "GE",
          "HR",
          "HU",
          "IE",
          "IL",
          "IT",
          "LT",
          "LU",
          "LV",
          "MD",
          "ME",
          "MK",
          "MT",
          "NL",
          "NO",
          "PL",
          "PT",
          "RO",
          "RS",
          "SE",
          "SI",
          "SK",
          "TR",
          "UA"
         ],
         "locations": [
          "ALB",
          "ARM",
          "AUT",
          "AZE",
          "BIH",
          "BEL",
          "BGR",
          "BLR",
          "CHE",
          "CYP",
          "CZE",
          "DEU",
          "DNK",
          "EST",
          "ESP",
          "FIN",
          "FRA",
          "GEO",
          "HRV",
          "HUN",
          "IRL",
          "ISR",
          "ITA",
          "LTU",
          "LUX",
          "LVA",
          "MDA",
          "MNE",
          "MKD",
          "MLT",
          "NLD",
          "NOR",
          "POL",
          "PRT",
          "ROU",
          "SRB",
          "SWE",
          "SVN",
          "SVK",
          "TUR",
          "UKR"
         ],
         "name": "1",
         "showlegend": true,
         "showscale": false,
         "type": "choropleth",
         "z": [
          1,
          1,
          1,
          1,
          1,
          1,
          1,
          1,
          1,
          1,
          1,
          1,
          1,
          1,
          1,
          1,
          1,
          1,
          1,
          1,
          1,
          1,
          1,
          1,
          1,
          1,
          1,
          1,
          1,
          1,
          1,
          1,
          1,
          1,
          1,
          1,
          1,
          1,
          1,
          1,
          1
         ]
        },
        {
         "colorscale": [
          [
           0,
           "rgb(255,255,179)"
          ],
          [
           1,
           "rgb(255,255,179)"
          ]
         ],
         "geo": "geo",
         "hovertemplate": "<b>%{hovertext}</b><br><br>cluster=0<br>iso_alpha=%{location}<extra></extra>",
         "hovertext": [
          "AO",
          "BD",
          "BF",
          "BJ",
          "BO",
          "CI",
          "CM",
          "CR",
          "CV",
          "DZ",
          "EC",
          "EG",
          "ET",
          "FO",
          "GH",
          "GI",
          "GL",
          "HK",
          "HN",
          "ID",
          "IR",
          "JO",
          "KE",
          "KG",
          "KH",
          "LB",
          "LI",
          "LK",
          "MA",
          "MG",
          "MN",
          "MY",
          "MZ",
          "NP",
          "NZ",
          "PA",
          "PH",
          "PK",
          "PY",
          "SA",
          "SG",
          "SN",
          "SZ",
          "TH",
          "TJ",
          "TN",
          "TW",
          "TZ",
          "UG",
          "VN"
         ],
         "locations": [
          "AGO",
          "BGD",
          "BFA",
          "BEN",
          "BOL",
          "CIV",
          "CMR",
          "CRI",
          "CPV",
          "DZA",
          "ECU",
          "EGY",
          "ETH",
          "FRO",
          "GHA",
          "GIB",
          "GRL",
          "HKG",
          "HND",
          "IDN",
          "IRN",
          "JOR",
          "KEN",
          "KGZ",
          "KHM",
          "LBN",
          "LIE",
          "LKA",
          "MAR",
          "MDG",
          "MNG",
          "MYS",
          "MOZ",
          "NPL",
          "NZL",
          "PAN",
          "PHL",
          "PAK",
          "PRY",
          "SAU",
          "SGP",
          "SEN",
          "SWZ",
          "THA",
          "TJK",
          "TUN",
          "TWN",
          "TZA",
          "UGA",
          "VNM"
         ],
         "name": "0",
         "showlegend": true,
         "showscale": false,
         "type": "choropleth",
         "z": [
          1,
          1,
          1,
          1,
          1,
          1,
          1,
          1,
          1,
          1,
          1,
          1,
          1,
          1,
          1,
          1,
          1,
          1,
          1,
          1,
          1,
          1,
          1,
          1,
          1,
          1,
          1,
          1,
          1,
          1,
          1,
          1,
          1,
          1,
          1,
          1,
          1,
          1,
          1,
          1,
          1,
          1,
          1,
          1,
          1,
          1,
          1,
          1,
          1,
          1
         ]
        },
        {
         "colorscale": [
          [
           0,
           "rgb(190,186,218)"
          ],
          [
           1,
           "rgb(190,186,218)"
          ]
         ],
         "geo": "geo",
         "hovertemplate": "<b>%{hovertext}</b><br><br>cluster=2<br>iso_alpha=%{location}<extra></extra>",
         "hovertext": [
          "AR",
          "BR",
          "CL",
          "CO",
          "MX",
          "PE",
          "UY"
         ],
         "locations": [
          "ARG",
          "BRA",
          "CHL",
          "COL",
          "MEX",
          "PER",
          "URY"
         ],
         "name": "2",
         "showlegend": true,
         "showscale": false,
         "type": "choropleth",
         "z": [
          1,
          1,
          1,
          1,
          1,
          1,
          1
         ]
        },
        {
         "colorscale": [
          [
           0,
           "rgb(251,128,114)"
          ],
          [
           1,
           "rgb(251,128,114)"
          ]
         ],
         "geo": "geo",
         "hovertemplate": "<b>%{hovertext}</b><br><br>cluster=4<br>iso_alpha=%{location}<extra></extra>",
         "hovertext": [
          "AU",
          "CA",
          "CN",
          "IN",
          "IS",
          "JP",
          "KR",
          "RU",
          "US",
          "ZA"
         ],
         "locations": [
          "AUS",
          "CAN",
          "CHN",
          "IND",
          "ISL",
          "JPN",
          "KOR",
          "RUS",
          "USA",
          "ZAF"
         ],
         "name": "4",
         "showlegend": true,
         "showscale": false,
         "type": "choropleth",
         "z": [
          1,
          1,
          1,
          1,
          1,
          1,
          1,
          1,
          1,
          1
         ]
        },
        {
         "colorscale": [
          [
           0,
           "rgb(128,177,211)"
          ],
          [
           1,
           "rgb(128,177,211)"
          ]
         ],
         "geo": "geo",
         "hovertemplate": "<b>%{hovertext}</b><br><br>cluster=3<br>iso_alpha=%{location}<extra></extra>",
         "hovertext": [
          "MW"
         ],
         "locations": [
          "MWI"
         ],
         "name": "3",
         "showlegend": true,
         "showscale": false,
         "type": "choropleth",
         "z": [
          1
         ]
        }
       ],
       "layout": {
        "geo": {
         "center": {},
         "coastlinecolor": "Gray",
         "countrycolor": "LightGray",
         "domain": {
          "x": [
           0,
           1
          ],
          "y": [
           0,
           1
          ]
         },
         "projection": {
          "type": "natural earth"
         },
         "showcoastlines": true,
         "showcountries": true
        },
        "legend": {
         "title": {
          "text": "cluster"
         },
         "tracegroupgap": 0
        },
        "margin": {
         "b": 0,
         "l": 0,
         "r": 0,
         "t": 50
        },
        "template": {
         "data": {
          "bar": [
           {
            "error_x": {
             "color": "#2a3f5f"
            },
            "error_y": {
             "color": "#2a3f5f"
            },
            "marker": {
             "line": {
              "color": "#E5ECF6",
              "width": 0.5
             },
             "pattern": {
              "fillmode": "overlay",
              "size": 10,
              "solidity": 0.2
             }
            },
            "type": "bar"
           }
          ],
          "barpolar": [
           {
            "marker": {
             "line": {
              "color": "#E5ECF6",
              "width": 0.5
             },
             "pattern": {
              "fillmode": "overlay",
              "size": 10,
              "solidity": 0.2
             }
            },
            "type": "barpolar"
           }
          ],
          "carpet": [
           {
            "aaxis": {
             "endlinecolor": "#2a3f5f",
             "gridcolor": "white",
             "linecolor": "white",
             "minorgridcolor": "white",
             "startlinecolor": "#2a3f5f"
            },
            "baxis": {
             "endlinecolor": "#2a3f5f",
             "gridcolor": "white",
             "linecolor": "white",
             "minorgridcolor": "white",
             "startlinecolor": "#2a3f5f"
            },
            "type": "carpet"
           }
          ],
          "choropleth": [
           {
            "colorbar": {
             "outlinewidth": 0,
             "ticks": ""
            },
            "type": "choropleth"
           }
          ],
          "contour": [
           {
            "colorbar": {
             "outlinewidth": 0,
             "ticks": ""
            },
            "colorscale": [
             [
              0,
              "#0d0887"
             ],
             [
              0.1111111111111111,
              "#46039f"
             ],
             [
              0.2222222222222222,
              "#7201a8"
             ],
             [
              0.3333333333333333,
              "#9c179e"
             ],
             [
              0.4444444444444444,
              "#bd3786"
             ],
             [
              0.5555555555555556,
              "#d8576b"
             ],
             [
              0.6666666666666666,
              "#ed7953"
             ],
             [
              0.7777777777777778,
              "#fb9f3a"
             ],
             [
              0.8888888888888888,
              "#fdca26"
             ],
             [
              1,
              "#f0f921"
             ]
            ],
            "type": "contour"
           }
          ],
          "contourcarpet": [
           {
            "colorbar": {
             "outlinewidth": 0,
             "ticks": ""
            },
            "type": "contourcarpet"
           }
          ],
          "heatmap": [
           {
            "colorbar": {
             "outlinewidth": 0,
             "ticks": ""
            },
            "colorscale": [
             [
              0,
              "#0d0887"
             ],
             [
              0.1111111111111111,
              "#46039f"
             ],
             [
              0.2222222222222222,
              "#7201a8"
             ],
             [
              0.3333333333333333,
              "#9c179e"
             ],
             [
              0.4444444444444444,
              "#bd3786"
             ],
             [
              0.5555555555555556,
              "#d8576b"
             ],
             [
              0.6666666666666666,
              "#ed7953"
             ],
             [
              0.7777777777777778,
              "#fb9f3a"
             ],
             [
              0.8888888888888888,
              "#fdca26"
             ],
             [
              1,
              "#f0f921"
             ]
            ],
            "type": "heatmap"
           }
          ],
          "histogram": [
           {
            "marker": {
             "pattern": {
              "fillmode": "overlay",
              "size": 10,
              "solidity": 0.2
             }
            },
            "type": "histogram"
           }
          ],
          "histogram2d": [
           {
            "colorbar": {
             "outlinewidth": 0,
             "ticks": ""
            },
            "colorscale": [
             [
              0,
              "#0d0887"
             ],
             [
              0.1111111111111111,
              "#46039f"
             ],
             [
              0.2222222222222222,
              "#7201a8"
             ],
             [
              0.3333333333333333,
              "#9c179e"
             ],
             [
              0.4444444444444444,
              "#bd3786"
             ],
             [
              0.5555555555555556,
              "#d8576b"
             ],
             [
              0.6666666666666666,
              "#ed7953"
             ],
             [
              0.7777777777777778,
              "#fb9f3a"
             ],
             [
              0.8888888888888888,
              "#fdca26"
             ],
             [
              1,
              "#f0f921"
             ]
            ],
            "type": "histogram2d"
           }
          ],
          "histogram2dcontour": [
           {
            "colorbar": {
             "outlinewidth": 0,
             "ticks": ""
            },
            "colorscale": [
             [
              0,
              "#0d0887"
             ],
             [
              0.1111111111111111,
              "#46039f"
             ],
             [
              0.2222222222222222,
              "#7201a8"
             ],
             [
              0.3333333333333333,
              "#9c179e"
             ],
             [
              0.4444444444444444,
              "#bd3786"
             ],
             [
              0.5555555555555556,
              "#d8576b"
             ],
             [
              0.6666666666666666,
              "#ed7953"
             ],
             [
              0.7777777777777778,
              "#fb9f3a"
             ],
             [
              0.8888888888888888,
              "#fdca26"
             ],
             [
              1,
              "#f0f921"
             ]
            ],
            "type": "histogram2dcontour"
           }
          ],
          "mesh3d": [
           {
            "colorbar": {
             "outlinewidth": 0,
             "ticks": ""
            },
            "type": "mesh3d"
           }
          ],
          "parcoords": [
           {
            "line": {
             "colorbar": {
              "outlinewidth": 0,
              "ticks": ""
             }
            },
            "type": "parcoords"
           }
          ],
          "pie": [
           {
            "automargin": true,
            "type": "pie"
           }
          ],
          "scatter": [
           {
            "fillpattern": {
             "fillmode": "overlay",
             "size": 10,
             "solidity": 0.2
            },
            "type": "scatter"
           }
          ],
          "scatter3d": [
           {
            "line": {
             "colorbar": {
              "outlinewidth": 0,
              "ticks": ""
             }
            },
            "marker": {
             "colorbar": {
              "outlinewidth": 0,
              "ticks": ""
             }
            },
            "type": "scatter3d"
           }
          ],
          "scattercarpet": [
           {
            "marker": {
             "colorbar": {
              "outlinewidth": 0,
              "ticks": ""
             }
            },
            "type": "scattercarpet"
           }
          ],
          "scattergeo": [
           {
            "marker": {
             "colorbar": {
              "outlinewidth": 0,
              "ticks": ""
             }
            },
            "type": "scattergeo"
           }
          ],
          "scattergl": [
           {
            "marker": {
             "colorbar": {
              "outlinewidth": 0,
              "ticks": ""
             }
            },
            "type": "scattergl"
           }
          ],
          "scattermap": [
           {
            "marker": {
             "colorbar": {
              "outlinewidth": 0,
              "ticks": ""
             }
            },
            "type": "scattermap"
           }
          ],
          "scattermapbox": [
           {
            "marker": {
             "colorbar": {
              "outlinewidth": 0,
              "ticks": ""
             }
            },
            "type": "scattermapbox"
           }
          ],
          "scatterpolar": [
           {
            "marker": {
             "colorbar": {
              "outlinewidth": 0,
              "ticks": ""
             }
            },
            "type": "scatterpolar"
           }
          ],
          "scatterpolargl": [
           {
            "marker": {
             "colorbar": {
              "outlinewidth": 0,
              "ticks": ""
             }
            },
            "type": "scatterpolargl"
           }
          ],
          "scatterternary": [
           {
            "marker": {
             "colorbar": {
              "outlinewidth": 0,
              "ticks": ""
             }
            },
            "type": "scatterternary"
           }
          ],
          "surface": [
           {
            "colorbar": {
             "outlinewidth": 0,
             "ticks": ""
            },
            "colorscale": [
             [
              0,
              "#0d0887"
             ],
             [
              0.1111111111111111,
              "#46039f"
             ],
             [
              0.2222222222222222,
              "#7201a8"
             ],
             [
              0.3333333333333333,
              "#9c179e"
             ],
             [
              0.4444444444444444,
              "#bd3786"
             ],
             [
              0.5555555555555556,
              "#d8576b"
             ],
             [
              0.6666666666666666,
              "#ed7953"
             ],
             [
              0.7777777777777778,
              "#fb9f3a"
             ],
             [
              0.8888888888888888,
              "#fdca26"
             ],
             [
              1,
              "#f0f921"
             ]
            ],
            "type": "surface"
           }
          ],
          "table": [
           {
            "cells": {
             "fill": {
              "color": "#EBF0F8"
             },
             "line": {
              "color": "white"
             }
            },
            "header": {
             "fill": {
              "color": "#C8D4E3"
             },
             "line": {
              "color": "white"
             }
            },
            "type": "table"
           }
          ]
         },
         "layout": {
          "annotationdefaults": {
           "arrowcolor": "#2a3f5f",
           "arrowhead": 0,
           "arrowwidth": 1
          },
          "autotypenumbers": "strict",
          "coloraxis": {
           "colorbar": {
            "outlinewidth": 0,
            "ticks": ""
           }
          },
          "colorscale": {
           "diverging": [
            [
             0,
             "#8e0152"
            ],
            [
             0.1,
             "#c51b7d"
            ],
            [
             0.2,
             "#de77ae"
            ],
            [
             0.3,
             "#f1b6da"
            ],
            [
             0.4,
             "#fde0ef"
            ],
            [
             0.5,
             "#f7f7f7"
            ],
            [
             0.6,
             "#e6f5d0"
            ],
            [
             0.7,
             "#b8e186"
            ],
            [
             0.8,
             "#7fbc41"
            ],
            [
             0.9,
             "#4d9221"
            ],
            [
             1,
             "#276419"
            ]
           ],
           "sequential": [
            [
             0,
             "#0d0887"
            ],
            [
             0.1111111111111111,
             "#46039f"
            ],
            [
             0.2222222222222222,
             "#7201a8"
            ],
            [
             0.3333333333333333,
             "#9c179e"
            ],
            [
             0.4444444444444444,
             "#bd3786"
            ],
            [
             0.5555555555555556,
             "#d8576b"
            ],
            [
             0.6666666666666666,
             "#ed7953"
            ],
            [
             0.7777777777777778,
             "#fb9f3a"
            ],
            [
             0.8888888888888888,
             "#fdca26"
            ],
            [
             1,
             "#f0f921"
            ]
           ],
           "sequentialminus": [
            [
             0,
             "#0d0887"
            ],
            [
             0.1111111111111111,
             "#46039f"
            ],
            [
             0.2222222222222222,
             "#7201a8"
            ],
            [
             0.3333333333333333,
             "#9c179e"
            ],
            [
             0.4444444444444444,
             "#bd3786"
            ],
            [
             0.5555555555555556,
             "#d8576b"
            ],
            [
             0.6666666666666666,
             "#ed7953"
            ],
            [
             0.7777777777777778,
             "#fb9f3a"
            ],
            [
             0.8888888888888888,
             "#fdca26"
            ],
            [
             1,
             "#f0f921"
            ]
           ]
          },
          "colorway": [
           "#636efa",
           "#EF553B",
           "#00cc96",
           "#ab63fa",
           "#FFA15A",
           "#19d3f3",
           "#FF6692",
           "#B6E880",
           "#FF97FF",
           "#FECB52"
          ],
          "font": {
           "color": "#2a3f5f"
          },
          "geo": {
           "bgcolor": "white",
           "lakecolor": "white",
           "landcolor": "#E5ECF6",
           "showlakes": true,
           "showland": true,
           "subunitcolor": "white"
          },
          "hoverlabel": {
           "align": "left"
          },
          "hovermode": "closest",
          "mapbox": {
           "style": "light"
          },
          "paper_bgcolor": "white",
          "plot_bgcolor": "#E5ECF6",
          "polar": {
           "angularaxis": {
            "gridcolor": "white",
            "linecolor": "white",
            "ticks": ""
           },
           "bgcolor": "#E5ECF6",
           "radialaxis": {
            "gridcolor": "white",
            "linecolor": "white",
            "ticks": ""
           }
          },
          "scene": {
           "xaxis": {
            "backgroundcolor": "#E5ECF6",
            "gridcolor": "white",
            "gridwidth": 2,
            "linecolor": "white",
            "showbackground": true,
            "ticks": "",
            "zerolinecolor": "white"
           },
           "yaxis": {
            "backgroundcolor": "#E5ECF6",
            "gridcolor": "white",
            "gridwidth": 2,
            "linecolor": "white",
            "showbackground": true,
            "ticks": "",
            "zerolinecolor": "white"
           },
           "zaxis": {
            "backgroundcolor": "#E5ECF6",
            "gridcolor": "white",
            "gridwidth": 2,
            "linecolor": "white",
            "showbackground": true,
            "ticks": "",
            "zerolinecolor": "white"
           }
          },
          "shapedefaults": {
           "line": {
            "color": "#2a3f5f"
           }
          },
          "ternary": {
           "aaxis": {
            "gridcolor": "white",
            "linecolor": "white",
            "ticks": ""
           },
           "baxis": {
            "gridcolor": "white",
            "linecolor": "white",
            "ticks": ""
           },
           "bgcolor": "#E5ECF6",
           "caxis": {
            "gridcolor": "white",
            "linecolor": "white",
            "ticks": ""
           }
          },
          "title": {
           "x": 0.05
          },
          "xaxis": {
           "automargin": true,
           "gridcolor": "white",
           "linecolor": "white",
           "ticks": "",
           "title": {
            "standoff": 15
           },
           "zerolinecolor": "white",
           "zerolinewidth": 2
          },
          "yaxis": {
           "automargin": true,
           "gridcolor": "white",
           "linecolor": "white",
           "ticks": "",
           "title": {
            "standoff": 15
           },
           "zerolinecolor": "white",
           "zerolinewidth": 2
          }
         }
        },
        "title": {
         "text": "K-means clustering — international cooperation (2019)"
        }
       }
      }
     },
     "metadata": {},
     "output_type": "display_data"
    },
    {
     "data": {
      "application/vnd.plotly.v1+json": {
       "config": {
        "plotlyServerURL": "https://plot.ly"
       },
       "data": [
        {
         "colorscale": [
          [
           0,
           "rgb(141,211,199)"
          ],
          [
           1,
           "rgb(141,211,199)"
          ]
         ],
         "geo": "geo",
         "hovertemplate": "<b>%{hovertext}</b><br><br>cluster=3<br>iso_alpha=%{location}<extra></extra>",
         "hovertext": [
          "AL",
          "AM",
          "AR",
          "AU",
          "AZ",
          "BA",
          "BD",
          "BR",
          "BY",
          "CA",
          "CL",
          "CN",
          "CO",
          "EE",
          "EG",
          "ET",
          "FO",
          "GE",
          "GL",
          "HK",
          "HR",
          "IN",
          "IR",
          "IS",
          "JO",
          "JP",
          "KE",
          "KR",
          "LB",
          "LT",
          "LU",
          "LV",
          "MD",
          "ME",
          "MK",
          "MT",
          "MX",
          "NZ",
          "PA",
          "PH",
          "RO",
          "RS",
          "RU",
          "SA",
          "SI",
          "SK",
          "SN",
          "TH",
          "TN",
          "TR",
          "TW",
          "UA",
          "UG",
          "VN",
          "ZA"
         ],
         "locations": [
          "ALB",
          "ARM",
          "ARG",
          "AUS",
          "AZE",
          "BIH",
          "BGD",
          "BRA",
          "BLR",
          "CAN",
          "CHL",
          "CHN",
          "COL",
          "EST",
          "EGY",
          "ETH",
          "FRO",
          "GEO",
          "GRL",
          "HKG",
          "HRV",
          "IND",
          "IRN",
          "ISL",
          "JOR",
          "JPN",
          "KEN",
          "KOR",
          "LBN",
          "LTU",
          "LUX",
          "LVA",
          "MDA",
          "MNE",
          "MKD",
          "MLT",
          "MEX",
          "NZL",
          "PAN",
          "PHL",
          "ROU",
          "SRB",
          "RUS",
          "SAU",
          "SVN",
          "SVK",
          "SEN",
          "THA",
          "TUN",
          "TUR",
          "TWN",
          "UKR",
          "UGA",
          "VNM",
          "ZAF"
         ],
         "name": "3",
         "showlegend": true,
         "showscale": false,
         "type": "choropleth",
         "z": [
          1,
          1,
          1,
          1,
          1,
          1,
          1,
          1,
          1,
          1,
          1,
          1,
          1,
          1,
          1,
          1,
          1,
          1,
          1,
          1,
          1,
          1,
          1,
          1,
          1,
          1,
          1,
          1,
          1,
          1,
          1,
          1,
          1,
          1,
          1,
          1,
          1,
          1,
          1,
          1,
          1,
          1,
          1,
          1,
          1,
          1,
          1,
          1,
          1,
          1,
          1,
          1,
          1,
          1,
          1
         ]
        },
        {
         "colorscale": [
          [
           0,
           "rgb(255,255,179)"
          ],
          [
           1,
           "rgb(255,255,179)"
          ]
         ],
         "geo": "geo",
         "hovertemplate": "<b>%{hovertext}</b><br><br>cluster=1<br>iso_alpha=%{location}<extra></extra>",
         "hovertext": [
          "AO",
          "AT",
          "BE",
          "BF",
          "BG",
          "BJ",
          "BO",
          "CH",
          "CI",
          "CM",
          "CR",
          "CV",
          "CY",
          "CZ",
          "DE",
          "DK",
          "DZ",
          "EC",
          "ES",
          "FI",
          "FR",
          "GI",
          "HN",
          "HU",
          "IE",
          "IL",
          "IT",
          "KG",
          "KH",
          "LI",
          "LK",
          "MA",
          "MG",
          "MN",
          "MY",
          "MZ",
          "NL",
          "NO",
          "NP",
          "PE",
          "PK",
          "PL",
          "PT",
          "PY",
          "SE",
          "SG",
          "SZ",
          "TJ",
          "TZ",
          "US",
          "UY"
         ],
         "locations": [
          "AGO",
          "AUT",
          "BEL",
          "BFA",
          "BGR",
          "BEN",
          "BOL",
          "CHE",
          "CIV",
          "CMR",
          "CRI",
          "CPV",
          "CYP",
          "CZE",
          "DEU",
          "DNK",
          "DZA",
          "ECU",
          "ESP",
          "FIN",
          "FRA",
          "GIB",
          "HND",
          "HUN",
          "IRL",
          "ISR",
          "ITA",
          "KGZ",
          "KHM",
          "LIE",
          "LKA",
          "MAR",
          "MDG",
          "MNG",
          "MYS",
          "MOZ",
          "NLD",
          "NOR",
          "NPL",
          "PER",
          "PAK",
          "POL",
          "PRT",
          "PRY",
          "SWE",
          "SGP",
          "SWZ",
          "TJK",
          "TZA",
          "USA",
          "URY"
         ],
         "name": "1",
         "showlegend": true,
         "showscale": false,
         "type": "choropleth",
         "z": [
          1,
          1,
          1,
          1,
          1,
          1,
          1,
          1,
          1,
          1,
          1,
          1,
          1,
          1,
          1,
          1,
          1,
          1,
          1,
          1,
          1,
          1,
          1,
          1,
          1,
          1,
          1,
          1,
          1,
          1,
          1,
          1,
          1,
          1,
          1,
          1,
          1,
          1,
          1,
          1,
          1,
          1,
          1,
          1,
          1,
          1,
          1,
          1,
          1,
          1,
          1
         ]
        },
        {
         "colorscale": [
          [
           0,
           "rgb(190,186,218)"
          ],
          [
           1,
           "rgb(190,186,218)"
          ]
         ],
         "geo": "geo",
         "hovertemplate": "<b>%{hovertext}</b><br><br>cluster=0<br>iso_alpha=%{location}<extra></extra>",
         "hovertext": [
          "GH"
         ],
         "locations": [
          "GHA"
         ],
         "name": "0",
         "showlegend": true,
         "showscale": false,
         "type": "choropleth",
         "z": [
          1
         ]
        },
        {
         "colorscale": [
          [
           0,
           "rgb(251,128,114)"
          ],
          [
           1,
           "rgb(251,128,114)"
          ]
         ],
         "geo": "geo",
         "hovertemplate": "<b>%{hovertext}</b><br><br>cluster=4<br>iso_alpha=%{location}<extra></extra>",
         "hovertext": [
          "ID"
         ],
         "locations": [
          "IDN"
         ],
         "name": "4",
         "showlegend": true,
         "showscale": false,
         "type": "choropleth",
         "z": [
          1
         ]
        },
        {
         "colorscale": [
          [
           0,
           "rgb(128,177,211)"
          ],
          [
           1,
           "rgb(128,177,211)"
          ]
         ],
         "geo": "geo",
         "hovertemplate": "<b>%{hovertext}</b><br><br>cluster=2<br>iso_alpha=%{location}<extra></extra>",
         "hovertext": [
          "MW"
         ],
         "locations": [
          "MWI"
         ],
         "name": "2",
         "showlegend": true,
         "showscale": false,
         "type": "choropleth",
         "z": [
          1
         ]
        }
       ],
       "layout": {
        "geo": {
         "center": {},
         "coastlinecolor": "Gray",
         "countrycolor": "LightGray",
         "domain": {
          "x": [
           0,
           1
          ],
          "y": [
           0,
           1
          ]
         },
         "projection": {
          "type": "natural earth"
         },
         "showcoastlines": true,
         "showcountries": true
        },
        "legend": {
         "title": {
          "text": "cluster"
         },
         "tracegroupgap": 0
        },
        "margin": {
         "b": 0,
         "l": 0,
         "r": 0,
         "t": 50
        },
        "template": {
         "data": {
          "bar": [
           {
            "error_x": {
             "color": "#2a3f5f"
            },
            "error_y": {
             "color": "#2a3f5f"
            },
            "marker": {
             "line": {
              "color": "#E5ECF6",
              "width": 0.5
             },
             "pattern": {
              "fillmode": "overlay",
              "size": 10,
              "solidity": 0.2
             }
            },
            "type": "bar"
           }
          ],
          "barpolar": [
           {
            "marker": {
             "line": {
              "color": "#E5ECF6",
              "width": 0.5
             },
             "pattern": {
              "fillmode": "overlay",
              "size": 10,
              "solidity": 0.2
             }
            },
            "type": "barpolar"
           }
          ],
          "carpet": [
           {
            "aaxis": {
             "endlinecolor": "#2a3f5f",
             "gridcolor": "white",
             "linecolor": "white",
             "minorgridcolor": "white",
             "startlinecolor": "#2a3f5f"
            },
            "baxis": {
             "endlinecolor": "#2a3f5f",
             "gridcolor": "white",
             "linecolor": "white",
             "minorgridcolor": "white",
             "startlinecolor": "#2a3f5f"
            },
            "type": "carpet"
           }
          ],
          "choropleth": [
           {
            "colorbar": {
             "outlinewidth": 0,
             "ticks": ""
            },
            "type": "choropleth"
           }
          ],
          "contour": [
           {
            "colorbar": {
             "outlinewidth": 0,
             "ticks": ""
            },
            "colorscale": [
             [
              0,
              "#0d0887"
             ],
             [
              0.1111111111111111,
              "#46039f"
             ],
             [
              0.2222222222222222,
              "#7201a8"
             ],
             [
              0.3333333333333333,
              "#9c179e"
             ],
             [
              0.4444444444444444,
              "#bd3786"
             ],
             [
              0.5555555555555556,
              "#d8576b"
             ],
             [
              0.6666666666666666,
              "#ed7953"
             ],
             [
              0.7777777777777778,
              "#fb9f3a"
             ],
             [
              0.8888888888888888,
              "#fdca26"
             ],
             [
              1,
              "#f0f921"
             ]
            ],
            "type": "contour"
           }
          ],
          "contourcarpet": [
           {
            "colorbar": {
             "outlinewidth": 0,
             "ticks": ""
            },
            "type": "contourcarpet"
           }
          ],
          "heatmap": [
           {
            "colorbar": {
             "outlinewidth": 0,
             "ticks": ""
            },
            "colorscale": [
             [
              0,
              "#0d0887"
             ],
             [
              0.1111111111111111,
              "#46039f"
             ],
             [
              0.2222222222222222,
              "#7201a8"
             ],
             [
              0.3333333333333333,
              "#9c179e"
             ],
             [
              0.4444444444444444,
              "#bd3786"
             ],
             [
              0.5555555555555556,
              "#d8576b"
             ],
             [
              0.6666666666666666,
              "#ed7953"
             ],
             [
              0.7777777777777778,
              "#fb9f3a"
             ],
             [
              0.8888888888888888,
              "#fdca26"
             ],
             [
              1,
              "#f0f921"
             ]
            ],
            "type": "heatmap"
           }
          ],
          "histogram": [
           {
            "marker": {
             "pattern": {
              "fillmode": "overlay",
              "size": 10,
              "solidity": 0.2
             }
            },
            "type": "histogram"
           }
          ],
          "histogram2d": [
           {
            "colorbar": {
             "outlinewidth": 0,
             "ticks": ""
            },
            "colorscale": [
             [
              0,
              "#0d0887"
             ],
             [
              0.1111111111111111,
              "#46039f"
             ],
             [
              0.2222222222222222,
              "#7201a8"
             ],
             [
              0.3333333333333333,
              "#9c179e"
             ],
             [
              0.4444444444444444,
              "#bd3786"
             ],
             [
              0.5555555555555556,
              "#d8576b"
             ],
             [
              0.6666666666666666,
              "#ed7953"
             ],
             [
              0.7777777777777778,
              "#fb9f3a"
             ],
             [
              0.8888888888888888,
              "#fdca26"
             ],
             [
              1,
              "#f0f921"
             ]
            ],
            "type": "histogram2d"
           }
          ],
          "histogram2dcontour": [
           {
            "colorbar": {
             "outlinewidth": 0,
             "ticks": ""
            },
            "colorscale": [
             [
              0,
              "#0d0887"
             ],
             [
              0.1111111111111111,
              "#46039f"
             ],
             [
              0.2222222222222222,
              "#7201a8"
             ],
             [
              0.3333333333333333,
              "#9c179e"
             ],
             [
              0.4444444444444444,
              "#bd3786"
             ],
             [
              0.5555555555555556,
              "#d8576b"
             ],
             [
              0.6666666666666666,
              "#ed7953"
             ],
             [
              0.7777777777777778,
              "#fb9f3a"
             ],
             [
              0.8888888888888888,
              "#fdca26"
             ],
             [
              1,
              "#f0f921"
             ]
            ],
            "type": "histogram2dcontour"
           }
          ],
          "mesh3d": [
           {
            "colorbar": {
             "outlinewidth": 0,
             "ticks": ""
            },
            "type": "mesh3d"
           }
          ],
          "parcoords": [
           {
            "line": {
             "colorbar": {
              "outlinewidth": 0,
              "ticks": ""
             }
            },
            "type": "parcoords"
           }
          ],
          "pie": [
           {
            "automargin": true,
            "type": "pie"
           }
          ],
          "scatter": [
           {
            "fillpattern": {
             "fillmode": "overlay",
             "size": 10,
             "solidity": 0.2
            },
            "type": "scatter"
           }
          ],
          "scatter3d": [
           {
            "line": {
             "colorbar": {
              "outlinewidth": 0,
              "ticks": ""
             }
            },
            "marker": {
             "colorbar": {
              "outlinewidth": 0,
              "ticks": ""
             }
            },
            "type": "scatter3d"
           }
          ],
          "scattercarpet": [
           {
            "marker": {
             "colorbar": {
              "outlinewidth": 0,
              "ticks": ""
             }
            },
            "type": "scattercarpet"
           }
          ],
          "scattergeo": [
           {
            "marker": {
             "colorbar": {
              "outlinewidth": 0,
              "ticks": ""
             }
            },
            "type": "scattergeo"
           }
          ],
          "scattergl": [
           {
            "marker": {
             "colorbar": {
              "outlinewidth": 0,
              "ticks": ""
             }
            },
            "type": "scattergl"
           }
          ],
          "scattermap": [
           {
            "marker": {
             "colorbar": {
              "outlinewidth": 0,
              "ticks": ""
             }
            },
            "type": "scattermap"
           }
          ],
          "scattermapbox": [
           {
            "marker": {
             "colorbar": {
              "outlinewidth": 0,
              "ticks": ""
             }
            },
            "type": "scattermapbox"
           }
          ],
          "scatterpolar": [
           {
            "marker": {
             "colorbar": {
              "outlinewidth": 0,
              "ticks": ""
             }
            },
            "type": "scatterpolar"
           }
          ],
          "scatterpolargl": [
           {
            "marker": {
             "colorbar": {
              "outlinewidth": 0,
              "ticks": ""
             }
            },
            "type": "scatterpolargl"
           }
          ],
          "scatterternary": [
           {
            "marker": {
             "colorbar": {
              "outlinewidth": 0,
              "ticks": ""
             }
            },
            "type": "scatterternary"
           }
          ],
          "surface": [
           {
            "colorbar": {
             "outlinewidth": 0,
             "ticks": ""
            },
            "colorscale": [
             [
              0,
              "#0d0887"
             ],
             [
              0.1111111111111111,
              "#46039f"
             ],
             [
              0.2222222222222222,
              "#7201a8"
             ],
             [
              0.3333333333333333,
              "#9c179e"
             ],
             [
              0.4444444444444444,
              "#bd3786"
             ],
             [
              0.5555555555555556,
              "#d8576b"
             ],
             [
              0.6666666666666666,
              "#ed7953"
             ],
             [
              0.7777777777777778,
              "#fb9f3a"
             ],
             [
              0.8888888888888888,
              "#fdca26"
             ],
             [
              1,
              "#f0f921"
             ]
            ],
            "type": "surface"
           }
          ],
          "table": [
           {
            "cells": {
             "fill": {
              "color": "#EBF0F8"
             },
             "line": {
              "color": "white"
             }
            },
            "header": {
             "fill": {
              "color": "#C8D4E3"
             },
             "line": {
              "color": "white"
             }
            },
            "type": "table"
           }
          ]
         },
         "layout": {
          "annotationdefaults": {
           "arrowcolor": "#2a3f5f",
           "arrowhead": 0,
           "arrowwidth": 1
          },
          "autotypenumbers": "strict",
          "coloraxis": {
           "colorbar": {
            "outlinewidth": 0,
            "ticks": ""
           }
          },
          "colorscale": {
           "diverging": [
            [
             0,
             "#8e0152"
            ],
            [
             0.1,
             "#c51b7d"
            ],
            [
             0.2,
             "#de77ae"
            ],
            [
             0.3,
             "#f1b6da"
            ],
            [
             0.4,
             "#fde0ef"
            ],
            [
             0.5,
             "#f7f7f7"
            ],
            [
             0.6,
             "#e6f5d0"
            ],
            [
             0.7,
             "#b8e186"
            ],
            [
             0.8,
             "#7fbc41"
            ],
            [
             0.9,
             "#4d9221"
            ],
            [
             1,
             "#276419"
            ]
           ],
           "sequential": [
            [
             0,
             "#0d0887"
            ],
            [
             0.1111111111111111,
             "#46039f"
            ],
            [
             0.2222222222222222,
             "#7201a8"
            ],
            [
             0.3333333333333333,
             "#9c179e"
            ],
            [
             0.4444444444444444,
             "#bd3786"
            ],
            [
             0.5555555555555556,
             "#d8576b"
            ],
            [
             0.6666666666666666,
             "#ed7953"
            ],
            [
             0.7777777777777778,
             "#fb9f3a"
            ],
            [
             0.8888888888888888,
             "#fdca26"
            ],
            [
             1,
             "#f0f921"
            ]
           ],
           "sequentialminus": [
            [
             0,
             "#0d0887"
            ],
            [
             0.1111111111111111,
             "#46039f"
            ],
            [
             0.2222222222222222,
             "#7201a8"
            ],
            [
             0.3333333333333333,
             "#9c179e"
            ],
            [
             0.4444444444444444,
             "#bd3786"
            ],
            [
             0.5555555555555556,
             "#d8576b"
            ],
            [
             0.6666666666666666,
             "#ed7953"
            ],
            [
             0.7777777777777778,
             "#fb9f3a"
            ],
            [
             0.8888888888888888,
             "#fdca26"
            ],
            [
             1,
             "#f0f921"
            ]
           ]
          },
          "colorway": [
           "#636efa",
           "#EF553B",
           "#00cc96",
           "#ab63fa",
           "#FFA15A",
           "#19d3f3",
           "#FF6692",
           "#B6E880",
           "#FF97FF",
           "#FECB52"
          ],
          "font": {
           "color": "#2a3f5f"
          },
          "geo": {
           "bgcolor": "white",
           "lakecolor": "white",
           "landcolor": "#E5ECF6",
           "showlakes": true,
           "showland": true,
           "subunitcolor": "white"
          },
          "hoverlabel": {
           "align": "left"
          },
          "hovermode": "closest",
          "mapbox": {
           "style": "light"
          },
          "paper_bgcolor": "white",
          "plot_bgcolor": "#E5ECF6",
          "polar": {
           "angularaxis": {
            "gridcolor": "white",
            "linecolor": "white",
            "ticks": ""
           },
           "bgcolor": "#E5ECF6",
           "radialaxis": {
            "gridcolor": "white",
            "linecolor": "white",
            "ticks": ""
           }
          },
          "scene": {
           "xaxis": {
            "backgroundcolor": "#E5ECF6",
            "gridcolor": "white",
            "gridwidth": 2,
            "linecolor": "white",
            "showbackground": true,
            "ticks": "",
            "zerolinecolor": "white"
           },
           "yaxis": {
            "backgroundcolor": "#E5ECF6",
            "gridcolor": "white",
            "gridwidth": 2,
            "linecolor": "white",
            "showbackground": true,
            "ticks": "",
            "zerolinecolor": "white"
           },
           "zaxis": {
            "backgroundcolor": "#E5ECF6",
            "gridcolor": "white",
            "gridwidth": 2,
            "linecolor": "white",
            "showbackground": true,
            "ticks": "",
            "zerolinecolor": "white"
           }
          },
          "shapedefaults": {
           "line": {
            "color": "#2a3f5f"
           }
          },
          "ternary": {
           "aaxis": {
            "gridcolor": "white",
            "linecolor": "white",
            "ticks": ""
           },
           "baxis": {
            "gridcolor": "white",
            "linecolor": "white",
            "ticks": ""
           },
           "bgcolor": "#E5ECF6",
           "caxis": {
            "gridcolor": "white",
            "linecolor": "white",
            "ticks": ""
           }
          },
          "title": {
           "x": 0.05
          },
          "xaxis": {
           "automargin": true,
           "gridcolor": "white",
           "linecolor": "white",
           "ticks": "",
           "title": {
            "standoff": 15
           },
           "zerolinecolor": "white",
           "zerolinewidth": 2
          },
          "yaxis": {
           "automargin": true,
           "gridcolor": "white",
           "linecolor": "white",
           "ticks": "",
           "title": {
            "standoff": 15
           },
           "zerolinecolor": "white",
           "zerolinewidth": 2
          }
         }
        },
        "title": {
         "text": "Spectral clustering — international cooperation (2019)"
        }
       }
      }
     },
     "metadata": {},
     "output_type": "display_data"
    },
    {
     "data": {
      "application/vnd.plotly.v1+json": {
       "config": {
        "plotlyServerURL": "https://plot.ly"
       },
       "data": [
        {
         "colorscale": [
          [
           0,
           "rgb(141,211,199)"
          ],
          [
           1,
           "rgb(141,211,199)"
          ]
         ],
         "geo": "geo",
         "hovertemplate": "<b>%{hovertext}</b><br><br>cluster=0<br>iso_alpha=%{location}<extra></extra>",
         "hovertext": [
          "AL",
          "AM",
          "AO",
          "AR",
          "AT",
          "AU",
          "AZ",
          "BA",
          "BD",
          "BE",
          "BF",
          "BG",
          "BJ",
          "BO",
          "BR",
          "BY",
          "CA",
          "CH",
          "CI",
          "CL",
          "CM",
          "CN",
          "CO",
          "CR",
          "CV",
          "CY",
          "CZ",
          "DE",
          "DK",
          "DZ",
          "EC",
          "EE",
          "EG",
          "ES",
          "ET",
          "FI",
          "FO",
          "FR",
          "GE",
          "GH",
          "GI",
          "GL",
          "HK",
          "HN",
          "HR",
          "HU",
          "ID",
          "IE",
          "IL",
          "IN",
          "IR",
          "IS",
          "IT",
          "JO",
          "JP",
          "KE",
          "KG",
          "KH",
          "KR",
          "LB",
          "LI",
          "LK",
          "LT",
          "LU",
          "LV",
          "MA",
          "MD",
          "ME",
          "MG",
          "MK",
          "MN",
          "MT",
          "MW",
          "MX",
          "MY",
          "MZ",
          "NL",
          "NO",
          "NP",
          "NZ",
          "PA",
          "PE",
          "PH",
          "PK",
          "PL",
          "PT",
          "PY",
          "RO",
          "RS",
          "RU",
          "SA",
          "SE",
          "SG",
          "SI",
          "SK",
          "SN",
          "SZ",
          "TH",
          "TJ",
          "TN",
          "TR",
          "TW",
          "TZ",
          "UA",
          "UG",
          "US",
          "UY",
          "VN",
          "ZA"
         ],
         "locations": [
          "ALB",
          "ARM",
          "AGO",
          "ARG",
          "AUT",
          "AUS",
          "AZE",
          "BIH",
          "BGD",
          "BEL",
          "BFA",
          "BGR",
          "BEN",
          "BOL",
          "BRA",
          "BLR",
          "CAN",
          "CHE",
          "CIV",
          "CHL",
          "CMR",
          "CHN",
          "COL",
          "CRI",
          "CPV",
          "CYP",
          "CZE",
          "DEU",
          "DNK",
          "DZA",
          "ECU",
          "EST",
          "EGY",
          "ESP",
          "ETH",
          "FIN",
          "FRO",
          "FRA",
          "GEO",
          "GHA",
          "GIB",
          "GRL",
          "HKG",
          "HND",
          "HRV",
          "HUN",
          "IDN",
          "IRL",
          "ISR",
          "IND",
          "IRN",
          "ISL",
          "ITA",
          "JOR",
          "JPN",
          "KEN",
          "KGZ",
          "KHM",
          "KOR",
          "LBN",
          "LIE",
          "LKA",
          "LTU",
          "LUX",
          "LVA",
          "MAR",
          "MDA",
          "MNE",
          "MDG",
          "MKD",
          "MNG",
          "MLT",
          "MWI",
          "MEX",
          "MYS",
          "MOZ",
          "NLD",
          "NOR",
          "NPL",
          "NZL",
          "PAN",
          "PER",
          "PHL",
          "PAK",
          "POL",
          "PRT",
          "PRY",
          "ROU",
          "SRB",
          "RUS",
          "SAU",
          "SWE",
          "SGP",
          "SVN",
          "SVK",
          "SEN",
          "SWZ",
          "THA",
          "TJK",
          "TUN",
          "TUR",
          "TWN",
          "TZA",
          "UKR",
          "UGA",
          "USA",
          "URY",
          "VNM",
          "ZAF"
         ],
         "name": "0",
         "showlegend": true,
         "showscale": false,
         "type": "choropleth",
         "z": [
          1,
          1,
          1,
          1,
          1,
          1,
          1,
          1,
          1,
          1,
          1,
          1,
          1,
          1,
          1,
          1,
          1,
          1,
          1,
          1,
          1,
          1,
          1,
          1,
          1,
          1,
          1,
          1,
          1,
          1,
          1,
          1,
          1,
          1,
          1,
          1,
          1,
          1,
          1,
          1,
          1,
          1,
          1,
          1,
          1,
          1,
          1,
          1,
          1,
          1,
          1,
          1,
          1,
          1,
          1,
          1,
          1,
          1,
          1,
          1,
          1,
          1,
          1,
          1,
          1,
          1,
          1,
          1,
          1,
          1,
          1,
          1,
          1,
          1,
          1,
          1,
          1,
          1,
          1,
          1,
          1,
          1,
          1,
          1,
          1,
          1,
          1,
          1,
          1,
          1,
          1,
          1,
          1,
          1,
          1,
          1,
          1,
          1,
          1,
          1,
          1,
          1,
          1,
          1,
          1,
          1,
          1,
          1,
          1
         ]
        }
       ],
       "layout": {
        "geo": {
         "center": {},
         "coastlinecolor": "Gray",
         "countrycolor": "LightGray",
         "domain": {
          "x": [
           0,
           1
          ],
          "y": [
           0,
           1
          ]
         },
         "projection": {
          "type": "natural earth"
         },
         "showcoastlines": true,
         "showcountries": true
        },
        "legend": {
         "title": {
          "text": "cluster"
         },
         "tracegroupgap": 0
        },
        "margin": {
         "b": 0,
         "l": 0,
         "r": 0,
         "t": 50
        },
        "template": {
         "data": {
          "bar": [
           {
            "error_x": {
             "color": "#2a3f5f"
            },
            "error_y": {
             "color": "#2a3f5f"
            },
            "marker": {
             "line": {
              "color": "#E5ECF6",
              "width": 0.5
             },
             "pattern": {
              "fillmode": "overlay",
              "size": 10,
              "solidity": 0.2
             }
            },
            "type": "bar"
           }
          ],
          "barpolar": [
           {
            "marker": {
             "line": {
              "color": "#E5ECF6",
              "width": 0.5
             },
             "pattern": {
              "fillmode": "overlay",
              "size": 10,
              "solidity": 0.2
             }
            },
            "type": "barpolar"
           }
          ],
          "carpet": [
           {
            "aaxis": {
             "endlinecolor": "#2a3f5f",
             "gridcolor": "white",
             "linecolor": "white",
             "minorgridcolor": "white",
             "startlinecolor": "#2a3f5f"
            },
            "baxis": {
             "endlinecolor": "#2a3f5f",
             "gridcolor": "white",
             "linecolor": "white",
             "minorgridcolor": "white",
             "startlinecolor": "#2a3f5f"
            },
            "type": "carpet"
           }
          ],
          "choropleth": [
           {
            "colorbar": {
             "outlinewidth": 0,
             "ticks": ""
            },
            "type": "choropleth"
           }
          ],
          "contour": [
           {
            "colorbar": {
             "outlinewidth": 0,
             "ticks": ""
            },
            "colorscale": [
             [
              0,
              "#0d0887"
             ],
             [
              0.1111111111111111,
              "#46039f"
             ],
             [
              0.2222222222222222,
              "#7201a8"
             ],
             [
              0.3333333333333333,
              "#9c179e"
             ],
             [
              0.4444444444444444,
              "#bd3786"
             ],
             [
              0.5555555555555556,
              "#d8576b"
             ],
             [
              0.6666666666666666,
              "#ed7953"
             ],
             [
              0.7777777777777778,
              "#fb9f3a"
             ],
             [
              0.8888888888888888,
              "#fdca26"
             ],
             [
              1,
              "#f0f921"
             ]
            ],
            "type": "contour"
           }
          ],
          "contourcarpet": [
           {
            "colorbar": {
             "outlinewidth": 0,
             "ticks": ""
            },
            "type": "contourcarpet"
           }
          ],
          "heatmap": [
           {
            "colorbar": {
             "outlinewidth": 0,
             "ticks": ""
            },
            "colorscale": [
             [
              0,
              "#0d0887"
             ],
             [
              0.1111111111111111,
              "#46039f"
             ],
             [
              0.2222222222222222,
              "#7201a8"
             ],
             [
              0.3333333333333333,
              "#9c179e"
             ],
             [
              0.4444444444444444,
              "#bd3786"
             ],
             [
              0.5555555555555556,
              "#d8576b"
             ],
             [
              0.6666666666666666,
              "#ed7953"
             ],
             [
              0.7777777777777778,
              "#fb9f3a"
             ],
             [
              0.8888888888888888,
              "#fdca26"
             ],
             [
              1,
              "#f0f921"
             ]
            ],
            "type": "heatmap"
           }
          ],
          "histogram": [
           {
            "marker": {
             "pattern": {
              "fillmode": "overlay",
              "size": 10,
              "solidity": 0.2
             }
            },
            "type": "histogram"
           }
          ],
          "histogram2d": [
           {
            "colorbar": {
             "outlinewidth": 0,
             "ticks": ""
            },
            "colorscale": [
             [
              0,
              "#0d0887"
             ],
             [
              0.1111111111111111,
              "#46039f"
             ],
             [
              0.2222222222222222,
              "#7201a8"
             ],
             [
              0.3333333333333333,
              "#9c179e"
             ],
             [
              0.4444444444444444,
              "#bd3786"
             ],
             [
              0.5555555555555556,
              "#d8576b"
             ],
             [
              0.6666666666666666,
              "#ed7953"
             ],
             [
              0.7777777777777778,
              "#fb9f3a"
             ],
             [
              0.8888888888888888,
              "#fdca26"
             ],
             [
              1,
              "#f0f921"
             ]
            ],
            "type": "histogram2d"
           }
          ],
          "histogram2dcontour": [
           {
            "colorbar": {
             "outlinewidth": 0,
             "ticks": ""
            },
            "colorscale": [
             [
              0,
              "#0d0887"
             ],
             [
              0.1111111111111111,
              "#46039f"
             ],
             [
              0.2222222222222222,
              "#7201a8"
             ],
             [
              0.3333333333333333,
              "#9c179e"
             ],
             [
              0.4444444444444444,
              "#bd3786"
             ],
             [
              0.5555555555555556,
              "#d8576b"
             ],
             [
              0.6666666666666666,
              "#ed7953"
             ],
             [
              0.7777777777777778,
              "#fb9f3a"
             ],
             [
              0.8888888888888888,
              "#fdca26"
             ],
             [
              1,
              "#f0f921"
             ]
            ],
            "type": "histogram2dcontour"
           }
          ],
          "mesh3d": [
           {
            "colorbar": {
             "outlinewidth": 0,
             "ticks": ""
            },
            "type": "mesh3d"
           }
          ],
          "parcoords": [
           {
            "line": {
             "colorbar": {
              "outlinewidth": 0,
              "ticks": ""
             }
            },
            "type": "parcoords"
           }
          ],
          "pie": [
           {
            "automargin": true,
            "type": "pie"
           }
          ],
          "scatter": [
           {
            "fillpattern": {
             "fillmode": "overlay",
             "size": 10,
             "solidity": 0.2
            },
            "type": "scatter"
           }
          ],
          "scatter3d": [
           {
            "line": {
             "colorbar": {
              "outlinewidth": 0,
              "ticks": ""
             }
            },
            "marker": {
             "colorbar": {
              "outlinewidth": 0,
              "ticks": ""
             }
            },
            "type": "scatter3d"
           }
          ],
          "scattercarpet": [
           {
            "marker": {
             "colorbar": {
              "outlinewidth": 0,
              "ticks": ""
             }
            },
            "type": "scattercarpet"
           }
          ],
          "scattergeo": [
           {
            "marker": {
             "colorbar": {
              "outlinewidth": 0,
              "ticks": ""
             }
            },
            "type": "scattergeo"
           }
          ],
          "scattergl": [
           {
            "marker": {
             "colorbar": {
              "outlinewidth": 0,
              "ticks": ""
             }
            },
            "type": "scattergl"
           }
          ],
          "scattermap": [
           {
            "marker": {
             "colorbar": {
              "outlinewidth": 0,
              "ticks": ""
             }
            },
            "type": "scattermap"
           }
          ],
          "scattermapbox": [
           {
            "marker": {
             "colorbar": {
              "outlinewidth": 0,
              "ticks": ""
             }
            },
            "type": "scattermapbox"
           }
          ],
          "scatterpolar": [
           {
            "marker": {
             "colorbar": {
              "outlinewidth": 0,
              "ticks": ""
             }
            },
            "type": "scatterpolar"
           }
          ],
          "scatterpolargl": [
           {
            "marker": {
             "colorbar": {
              "outlinewidth": 0,
              "ticks": ""
             }
            },
            "type": "scatterpolargl"
           }
          ],
          "scatterternary": [
           {
            "marker": {
             "colorbar": {
              "outlinewidth": 0,
              "ticks": ""
             }
            },
            "type": "scatterternary"
           }
          ],
          "surface": [
           {
            "colorbar": {
             "outlinewidth": 0,
             "ticks": ""
            },
            "colorscale": [
             [
              0,
              "#0d0887"
             ],
             [
              0.1111111111111111,
              "#46039f"
             ],
             [
              0.2222222222222222,
              "#7201a8"
             ],
             [
              0.3333333333333333,
              "#9c179e"
             ],
             [
              0.4444444444444444,
              "#bd3786"
             ],
             [
              0.5555555555555556,
              "#d8576b"
             ],
             [
              0.6666666666666666,
              "#ed7953"
             ],
             [
              0.7777777777777778,
              "#fb9f3a"
             ],
             [
              0.8888888888888888,
              "#fdca26"
             ],
             [
              1,
              "#f0f921"
             ]
            ],
            "type": "surface"
           }
          ],
          "table": [
           {
            "cells": {
             "fill": {
              "color": "#EBF0F8"
             },
             "line": {
              "color": "white"
             }
            },
            "header": {
             "fill": {
              "color": "#C8D4E3"
             },
             "line": {
              "color": "white"
             }
            },
            "type": "table"
           }
          ]
         },
         "layout": {
          "annotationdefaults": {
           "arrowcolor": "#2a3f5f",
           "arrowhead": 0,
           "arrowwidth": 1
          },
          "autotypenumbers": "strict",
          "coloraxis": {
           "colorbar": {
            "outlinewidth": 0,
            "ticks": ""
           }
          },
          "colorscale": {
           "diverging": [
            [
             0,
             "#8e0152"
            ],
            [
             0.1,
             "#c51b7d"
            ],
            [
             0.2,
             "#de77ae"
            ],
            [
             0.3,
             "#f1b6da"
            ],
            [
             0.4,
             "#fde0ef"
            ],
            [
             0.5,
             "#f7f7f7"
            ],
            [
             0.6,
             "#e6f5d0"
            ],
            [
             0.7,
             "#b8e186"
            ],
            [
             0.8,
             "#7fbc41"
            ],
            [
             0.9,
             "#4d9221"
            ],
            [
             1,
             "#276419"
            ]
           ],
           "sequential": [
            [
             0,
             "#0d0887"
            ],
            [
             0.1111111111111111,
             "#46039f"
            ],
            [
             0.2222222222222222,
             "#7201a8"
            ],
            [
             0.3333333333333333,
             "#9c179e"
            ],
            [
             0.4444444444444444,
             "#bd3786"
            ],
            [
             0.5555555555555556,
             "#d8576b"
            ],
            [
             0.6666666666666666,
             "#ed7953"
            ],
            [
             0.7777777777777778,
             "#fb9f3a"
            ],
            [
             0.8888888888888888,
             "#fdca26"
            ],
            [
             1,
             "#f0f921"
            ]
           ],
           "sequentialminus": [
            [
             0,
             "#0d0887"
            ],
            [
             0.1111111111111111,
             "#46039f"
            ],
            [
             0.2222222222222222,
             "#7201a8"
            ],
            [
             0.3333333333333333,
             "#9c179e"
            ],
            [
             0.4444444444444444,
             "#bd3786"
            ],
            [
             0.5555555555555556,
             "#d8576b"
            ],
            [
             0.6666666666666666,
             "#ed7953"
            ],
            [
             0.7777777777777778,
             "#fb9f3a"
            ],
            [
             0.8888888888888888,
             "#fdca26"
            ],
            [
             1,
             "#f0f921"
            ]
           ]
          },
          "colorway": [
           "#636efa",
           "#EF553B",
           "#00cc96",
           "#ab63fa",
           "#FFA15A",
           "#19d3f3",
           "#FF6692",
           "#B6E880",
           "#FF97FF",
           "#FECB52"
          ],
          "font": {
           "color": "#2a3f5f"
          },
          "geo": {
           "bgcolor": "white",
           "lakecolor": "white",
           "landcolor": "#E5ECF6",
           "showlakes": true,
           "showland": true,
           "subunitcolor": "white"
          },
          "hoverlabel": {
           "align": "left"
          },
          "hovermode": "closest",
          "mapbox": {
           "style": "light"
          },
          "paper_bgcolor": "white",
          "plot_bgcolor": "#E5ECF6",
          "polar": {
           "angularaxis": {
            "gridcolor": "white",
            "linecolor": "white",
            "ticks": ""
           },
           "bgcolor": "#E5ECF6",
           "radialaxis": {
            "gridcolor": "white",
            "linecolor": "white",
            "ticks": ""
           }
          },
          "scene": {
           "xaxis": {
            "backgroundcolor": "#E5ECF6",
            "gridcolor": "white",
            "gridwidth": 2,
            "linecolor": "white",
            "showbackground": true,
            "ticks": "",
            "zerolinecolor": "white"
           },
           "yaxis": {
            "backgroundcolor": "#E5ECF6",
            "gridcolor": "white",
            "gridwidth": 2,
            "linecolor": "white",
            "showbackground": true,
            "ticks": "",
            "zerolinecolor": "white"
           },
           "zaxis": {
            "backgroundcolor": "#E5ECF6",
            "gridcolor": "white",
            "gridwidth": 2,
            "linecolor": "white",
            "showbackground": true,
            "ticks": "",
            "zerolinecolor": "white"
           }
          },
          "shapedefaults": {
           "line": {
            "color": "#2a3f5f"
           }
          },
          "ternary": {
           "aaxis": {
            "gridcolor": "white",
            "linecolor": "white",
            "ticks": ""
           },
           "baxis": {
            "gridcolor": "white",
            "linecolor": "white",
            "ticks": ""
           },
           "bgcolor": "#E5ECF6",
           "caxis": {
            "gridcolor": "white",
            "linecolor": "white",
            "ticks": ""
           }
          },
          "title": {
           "x": 0.05
          },
          "xaxis": {
           "automargin": true,
           "gridcolor": "white",
           "linecolor": "white",
           "ticks": "",
           "title": {
            "standoff": 15
           },
           "zerolinecolor": "white",
           "zerolinewidth": 2
          },
          "yaxis": {
           "automargin": true,
           "gridcolor": "white",
           "linecolor": "white",
           "ticks": "",
           "title": {
            "standoff": 15
           },
           "zerolinecolor": "white",
           "zerolinewidth": 2
          }
         }
        },
        "title": {
         "text": "DBSCAN clustering — international cooperation (2019)"
        }
       }
      }
     },
     "metadata": {},
     "output_type": "display_data"
    }
   ],
   "source": [
    "cluster_projects_for_year(\n",
    "    2019,\n",
    "    df2020_project, df2024_project,\n",
    "    df2020_organization, df2024_organization\n",
    ")\n"
   ]
  },
  {
   "cell_type": "code",
   "execution_count": null,
   "metadata": {},
   "outputs": [
    {
     "data": {
      "application/vnd.jupyter.widget-view+json": {
       "model_id": "fcb524bc3dd54c59aa85cdf6051ac6df",
       "version_major": 2,
       "version_minor": 0
      },
      "text/plain": [
       "VBox(children=(Dropdown(description='Startjaar:', options=(np.int64(2014), np.int64(2015), np.int64(2016), np.…"
      ]
     },
     "metadata": {},
     "output_type": "display_data"
    }
   ],
   "source": [
    "import pandas as pd\n",
    "import numpy as np\n",
    "from sklearn.cluster import KMeans, DBSCAN, SpectralClustering\n",
    "from ipywidgets import Dropdown, VBox, Output\n",
    "from IPython.display import display, HTML\n",
    "import plotly.express as px\n",
    "import pycountry\n",
    "\n",
    "# Functie om ISO2 → ISO3 om te zetten\n",
    "def iso2_to_iso3(code: str) -> str | None:\n",
    "    try:\n",
    "        return pycountry.countries.get(alpha_2=code).alpha_3\n",
    "    except:\n",
    "        return None\n",
    "\n",
    "# Matrixfunctie\n",
    "def country_network_matrices(df, id_col='projectID', country_col='country'):\n",
    "    incidence = (df[[id_col, country_col]]\n",
    "                 .drop_duplicates()\n",
    "                 .assign(val=1)\n",
    "                 .pivot(index=id_col, columns=country_col, values='val')\n",
    "                 .fillna(0)\n",
    "                 .astype(int))\n",
    "\n",
    "    network_df = incidence.T @ incidence\n",
    "    np.fill_diagonal(network_df.values, 0)\n",
    "    network_df = network_df.astype(int)\n",
    "\n",
    "    with np.errstate(divide='ignore'):\n",
    "        distance_df = 1 - 1 / network_df.replace(0, np.nan)\n",
    "    distance_df = distance_df.fillna(0)\n",
    "\n",
    "    totals = distance_df.sum(axis=1).to_numpy()\n",
    "    denom = totals[:, None] + totals[None, :]\n",
    "    norm = np.divide(distance_df.values, denom,\n",
    "                     out=np.zeros_like(distance_df.values),\n",
    "                     where=denom != 0)\n",
    "\n",
    "    norm_df = pd.DataFrame(norm, index=distance_df.index, columns=distance_df.columns)\n",
    "    return network_df, distance_df, norm_df\n",
    "\n",
    "# Clusteringfunctie\n",
    "def cluster_dataframe(norm_df: pd.DataFrame, algo, name: str) -> pd.DataFrame:\n",
    "    if getattr(algo, \"metric\", None) == \"precomputed\" or getattr(algo, \"affinity\", \"\") == \"precomputed\":\n",
    "        algo.fit(norm_df)\n",
    "    else:\n",
    "        algo.fit(norm_df.values)\n",
    "\n",
    "    return (\n",
    "        pd.DataFrame({\n",
    "            \"country\": norm_df.index,\n",
    "            \"cluster\": algo.labels_.astype(str)\n",
    "        })\n",
    "        .assign(iso_alpha=lambda df: df[\"country\"].map(iso2_to_iso3))\n",
    "        .dropna(subset=[\"iso_alpha\"])\n",
    "    )\n",
    "\n",
    "# Plotfunctie\n",
    "def cluster_map(df: pd.DataFrame, title: str) -> px.choropleth:\n",
    "    fig = px.choropleth(\n",
    "        df,\n",
    "        locations=\"iso_alpha\",\n",
    "        color=\"cluster\",\n",
    "        hover_name=\"country\",\n",
    "        color_discrete_sequence=px.colors.qualitative.Set3,\n",
    "        projection=\"natural earth\",\n",
    "        title=title\n",
    "    )\n",
    "    fig.update_geos(showcountries=True, countrycolor=\"LightGray\",\n",
    "                    showcoastlines=True, coastlinecolor=\"Gray\")\n",
    "    fig.update_layout(margin=dict(r=0, l=0, t=50, b=0))\n",
    "    return fig\n",
    "\n",
    "# Kernfunctie: clustering voor één jaar\n",
    "def cluster_projects_for_year(selected_year: int) -> list:\n",
    "    df_projects_all = pd.concat([\n",
    "        df2020_project.assign(source=2020),\n",
    "        df2024_project.assign(source=2024)\n",
    "    ])\n",
    "    df_projects_all['startDate'] = pd.to_datetime(df_projects_all['startDate'], errors='coerce')\n",
    "    project_ids = df_projects_all[df_projects_all['startDate'].dt.year == selected_year]['id']\n",
    "    df_org_all = pd.concat([df2020_organization, df2024_organization])\n",
    "    df_filtered_org = df_org_all[df_org_all['projectID'].isin(project_ids)]\n",
    "\n",
    "    if df_filtered_org.empty:\n",
    "        return []\n",
    "\n",
    "    _, _, norm_df = country_network_matrices(df_filtered_org)\n",
    "\n",
    "    clusterers = {\n",
    "        \"K-means\":   KMeans(n_clusters=5, n_init=\"auto\", random_state=42),\n",
    "        \"Spectral\":  SpectralClustering(n_clusters=5, affinity=\"precomputed\", random_state=42),\n",
    "        \"DBSCAN\":    DBSCAN(eps=1, metric=\"precomputed\")\n",
    "    }\n",
    "\n",
    "    figs = []\n",
    "    for algo_name, algo in clusterers.items():\n",
    "        input_matrix = 1 - norm_df if algo_name == \"Spectral\" else norm_df\n",
    "        df_clustered = cluster_dataframe(input_matrix, algo, algo_name)\n",
    "        fig = cluster_map(df_clustered, f\"{algo_name} clustering — international cooperation ({selected_year})\")\n",
    "        figs.append(fig)\n",
    "\n",
    "    return figs\n",
    "\n",
    "# Unieke jaartallen ophalen\n",
    "df_combined = pd.concat([df2020_project, df2024_project])\n",
    "df_combined['startDate'] = pd.to_datetime(df_combined['startDate'], errors='coerce')\n",
    "available_years = sorted(df_combined['startDate'].dt.year.dropna().unique().astype(int))\n",
    "\n",
    "# UI: dropdown + output\n",
    "dropdown = Dropdown(\n",
    "    options=available_years,\n",
    "    value=available_years[0],\n",
    "    description='Startjaar:'\n",
    ")\n",
    "\n",
    "out = Output()\n",
    "\n",
    "def update_plot(change):\n",
    "    with out:\n",
    "        out.clear_output(wait=True)\n",
    "        year = change['new']\n",
    "        figs = cluster_projects_for_year(year)\n",
    "        if figs:\n",
    "            for fig in figs:\n",
    "                display(HTML(fig.to_html(include_plotlyjs='cdn')))\n",
    "        else:\n",
    "            print(\"Geen projecten gevonden voor dit jaar.\")\n",
    "\n",
    "# Observeer dropdown\n",
    "dropdown.observe(update_plot, names='value')\n",
    "\n",
    "# Toon interface\n",
    "display(VBox([dropdown, out]))\n",
    "\n",
    "# Toon initiële plot\n",
    "with out:\n",
    "    initial_figs = cluster_projects_for_year(dropdown.value)\n",
    "    for fig in initial_figs:\n",
    "        display(HTML(fig.to_html(include_plotlyjs='cdn')))\n"
   ]
  },
  {
   "cell_type": "code",
   "execution_count": null,
   "metadata": {},
   "outputs": [
    {
     "data": {
      "application/vnd.jupyter.widget-view+json": {
       "model_id": "035f853c99f0482ab1c9560ad1ef70fe",
       "version_major": 2,
       "version_minor": 0
      },
      "text/plain": [
       "VBox(children=(HBox(children=(Dropdown(description='Startjaar:', options=(np.int64(2014), np.int64(2015), np.i…"
      ]
     },
     "metadata": {},
     "output_type": "display_data"
    }
   ],
   "source": [
    "from ipywidgets import Dropdown, VBox, HBox, Output\n",
    "from IPython.display import display, HTML\n",
    "\n",
    "# Clustering methodes\n",
    "CLUSTERERS = {\n",
    "    \"K-means\":   KMeans(n_clusters=5, n_init=\"auto\", random_state=42),\n",
    "    \"Spectral\":  SpectralClustering(n_clusters=5, affinity=\"precomputed\", random_state=42),\n",
    "    \"DBSCAN\":    DBSCAN(eps=1, metric=\"precomputed\")\n",
    "}\n",
    "\n",
    "# Alle beschikbare jaren\n",
    "df_combined = pd.concat([df2020_project, df2024_project])\n",
    "df_combined['startDate'] = pd.to_datetime(df_combined['startDate'], errors='coerce')\n",
    "available_years = sorted(df_combined['startDate'].dt.year.dropna().unique().astype(int))\n",
    "\n",
    "# Dropdowns\n",
    "year_dropdown = Dropdown(\n",
    "    options=available_years,\n",
    "    value=available_years[0],\n",
    "    description='Startjaar:'\n",
    ")\n",
    "\n",
    "method_dropdown = Dropdown(\n",
    "    options=list(CLUSTERERS.keys()),\n",
    "    value=\"K-means\",\n",
    "    description='Methode:'\n",
    ")\n",
    "\n",
    "# Output-widget\n",
    "out = Output()\n",
    "\n",
    "# Plot-updatefunctie\n",
    "def update_plot(*args):\n",
    "    with out:\n",
    "        out.clear_output(wait=True)\n",
    "        year = year_dropdown.value\n",
    "        method = method_dropdown.value\n",
    "\n",
    "        # Filter projecten en organisaties\n",
    "        df_projects_all = pd.concat([\n",
    "            df2020_project.assign(source=2020),\n",
    "            df2024_project.assign(source=2024)\n",
    "        ])\n",
    "        df_projects_all['startDate'] = pd.to_datetime(df_projects_all['startDate'], errors='coerce')\n",
    "        project_ids = df_projects_all[df_projects_all['startDate'].dt.year == year]['id']\n",
    "        df_org_all = pd.concat([df2020_organization, df2024_organization])\n",
    "        df_filtered_org = df_org_all[df_org_all['projectID'].isin(project_ids)]\n",
    "\n",
    "        if df_filtered_org.empty:\n",
    "            print(\"Geen projecten gevonden voor dit jaar.\")\n",
    "            return\n",
    "\n",
    "        _, _, norm_df = country_network_matrices(df_filtered_org)\n",
    "\n",
    "        algo = CLUSTERERS[method]\n",
    "        input_matrix = 1 - norm_df if method == \"Spectral\" else norm_df\n",
    "        df_clustered = cluster_dataframe(input_matrix, algo, method)\n",
    "        fig = cluster_map(df_clustered, f\"{method} clustering — international cooperation ({year})\")\n",
    "        display(HTML(fig.to_html(include_plotlyjs='cdn')))\n",
    "\n",
    "# Koppel update aan dropdowns\n",
    "year_dropdown.observe(update_plot, names='value')\n",
    "method_dropdown.observe(update_plot, names='value')\n",
    "\n",
    "# UI tonen\n",
    "display(VBox([HBox([year_dropdown, method_dropdown]), out]))\n",
    "\n",
    "# Initieel plot\n",
    "update_plot()\n"
   ]
  }
 ],
 "metadata": {
  "kernelspec": {
   "display_name": "MDA",
   "language": "python",
   "name": "python3"
  },
  "language_info": {
   "codemirror_mode": {
    "name": "ipython",
    "version": 3
   },
   "file_extension": ".py",
   "mimetype": "text/x-python",
   "name": "python",
   "nbconvert_exporter": "python",
   "pygments_lexer": "ipython3",
   "version": "3.13.2"
  }
 },
 "nbformat": 4,
 "nbformat_minor": 2
}
