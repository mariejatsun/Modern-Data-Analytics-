{
 "cells": [
  {
   "cell_type": "code",
   "execution_count": 3,
   "metadata": {},
   "outputs": [],
   "source": [
    "# Import packages\n",
    "import pandas as pd\n",
    "import pycountry\n",
    "import plotly.express as px\n"
   ]
  },
  {
   "cell_type": "markdown",
   "metadata": {},
   "source": [
    "# Check for Missing Values and Duplicates"
   ]
  },
  {
   "cell_type": "code",
   "execution_count": 4,
   "metadata": {},
   "outputs": [],
   "source": [
    "# Paths 2020 and 2024\n",
    "csv_path2020_euroSciVoc = \"./cordis-h2020projects-csv/euroSciVoc.csv\"\n",
    "csv_path2020_legalBasis = \"./cordis-h2020projects-csv/legalBasis.csv\"\n",
    "csv_path2020_organization = \"./cordis-h2020projects-csv/organization.csv\"\n",
    "csv_path2020_project = \"./cordis-h2020projects-csv/project.csv\"\n",
    "csv_path2020_topics = \"./cordis-h2020projects-csv/topics.csv\"\n",
    "csv_path2020_webItem = \"./cordis-h2020projects-csv/webItem.csv\"\n",
    "csv_path2020_webLink = \"./cordis-h2020projects-csv/webLink.csv\"\n",
    "csv_path2020_publication = \"./cordis-h2020projects-csv/projectPublications2020.csv\"\n",
    "\n",
    "csv_path2024_euroSciVoc = \"./cordis-HORIZONprojects-csv/euroSciVoc.csv\"\n",
    "csv_path2024_legalBasis = \"./cordis-HORIZONprojects-csv/legalBasis.csv\"\n",
    "csv_path2024_organization = \"./cordis-HORIZONprojects-csv/organization.csv\"\n",
    "csv_path2024_project = \"./cordis-HORIZONprojects-csv/project.csv\"\n",
    "csv_path2024_topics = \"./cordis-HORIZONprojects-csv/topics.csv\"\n",
    "csv_path2024_webItem = \"./cordis-HORIZONprojects-csv/webItem.csv\"\n",
    "csv_path2024_webLink = \"./cordis-HORIZONprojects-csv/webLink.csv\"\n",
    "csv_path2024_publication = \"./cordis-HORIZONprojects-csv/projectPublications2024.csv\"\n",
    "\n"
   ]
  },
  {
   "cell_type": "code",
   "execution_count": 5,
   "metadata": {},
   "outputs": [
    {
     "name": "stdout",
     "output_type": "stream",
     "text": [
      "=== euroSciVoc ===\n",
      "Missing values:\n",
      " projectID                     0\n",
      "euroSciVocCode                0\n",
      "euroSciVocPath                0\n",
      "euroSciVocTitle               0\n",
      "euroSciVocDescription    114193\n",
      "dtype: int64\n",
      "Duplicated rows: 0 \n",
      "\n",
      "=== legalBasis ===\n",
      "Missing values:\n",
      " projectID                  0\n",
      "legalBasis                 0\n",
      "title                      0\n",
      "uniqueProgrammePart    30399\n",
      "dtype: int64\n",
      "Duplicated rows: 0 \n",
      "\n",
      "=== organization ===\n",
      "Missing values:\n",
      " projectID                  0\n",
      "projectAcronym             0\n",
      "organisationID             0\n",
      "vatNumber              23528\n",
      "name                       0\n",
      "shortName              40141\n",
      "SME                      516\n",
      "activityType             954\n",
      "street                  1209\n",
      "postCode                1986\n",
      "city                     522\n",
      "country                  264\n",
      "nutsCode                 618\n",
      "geolocation              232\n",
      "organizationURL        62539\n",
      "contactForm                0\n",
      "contentUpdateDate          0\n",
      "rcn                        0\n",
      "order                      0\n",
      "role                       0\n",
      "ecContribution          7769\n",
      "netEcContribution         37\n",
      "totalCost                187\n",
      "endOfParticipation         0\n",
      "active                176558\n",
      "dtype: int64\n",
      "Duplicated rows: 0 \n",
      "\n",
      "=== project ===\n",
      "Missing values:\n",
      " id                        0\n",
      "acronym                   0\n",
      "status                    0\n",
      "title                     0\n",
      "startDate                11\n",
      "endDate                  11\n",
      "totalCost                 0\n",
      "ecMaxContribution         0\n",
      "legalBasis                0\n",
      "topics                    0\n",
      "ecSignatureDate           0\n",
      "frameworkProgramme        0\n",
      "masterCall                0\n",
      "subCall                   0\n",
      "fundingScheme             1\n",
      "nature                34512\n",
      "objective                 0\n",
      "contentUpdateDate         0\n",
      "rcn                       0\n",
      "grantDoi                  0\n",
      "dtype: int64\n",
      "Duplicated rows: 0 \n",
      "\n",
      "=== topics ===\n",
      "Missing values:\n",
      " projectID    0\n",
      "topic        0\n",
      "title        0\n",
      "dtype: int64\n",
      "Duplicated rows: 0 \n",
      "\n",
      "=== webItem ===\n",
      "Missing values:\n",
      " language              0\n",
      "availableLanguages    0\n",
      "uri                   0\n",
      "title                 7\n",
      "type                  0\n",
      "source                0\n",
      "represents            3\n",
      "dtype: int64\n",
      "Duplicated rows: 0 \n",
      "\n",
      "=== webLink ===\n",
      "Missing values:\n",
      " projectID                  0\n",
      "physUrl                    0\n",
      "id                         2\n",
      "availableLanguages         0\n",
      "status                215063\n",
      "archivedDate          215064\n",
      "type                       0\n",
      "source                     0\n",
      "represents             19764\n",
      "dtype: int64\n",
      "Duplicated rows: 2 \n",
      "\n",
      "=== publications ===\n",
      "Missing values:\n",
      " id                        0\n",
      "title                     1\n",
      "isPublishedAs             1\n",
      "authors                  12\n",
      "journalTitle          32126\n",
      "journalNumber        170786\n",
      "publishedYear            53\n",
      "publishedPages       220030\n",
      "issn                 149228\n",
      "isbn                 397057\n",
      "doi                   84721\n",
      "projectID                 0\n",
      "projectAcronym            0\n",
      "collection                0\n",
      "contentUpdateDate         0\n",
      "rcn                       0\n",
      "dtype: int64\n",
      "Duplicated rows: 0 \n",
      "\n"
     ]
    }
   ],
   "source": [
    "## for horizon 2020 MISSING VALUES AND DUPLICATES\n",
    "\n",
    "# Dataframes inlezen\n",
    "df2020_euroSciVoc = pd.read_csv(csv_path2020_euroSciVoc, delimiter=\";\", on_bad_lines=\"skip\", low_memory=False)\n",
    "df2020_legalBasis = pd.read_csv(csv_path2020_legalBasis, delimiter=\";\", on_bad_lines=\"skip\", low_memory=False)\n",
    "df2020_organization = pd.read_csv(csv_path2020_organization, delimiter=\";\", on_bad_lines=\"skip\", low_memory=False)\n",
    "df2020_project = pd.read_csv(csv_path2020_project, delimiter=\";\", on_bad_lines=\"skip\", low_memory=False)\n",
    "df2020_topics = pd.read_csv(csv_path2020_topics, delimiter=\";\", on_bad_lines=\"skip\", low_memory=False)\n",
    "df2020_webItem = pd.read_csv(csv_path2020_webItem, delimiter=\";\", on_bad_lines=\"skip\", low_memory=False)\n",
    "df2020_webLink = pd.read_csv(csv_path2020_webLink, delimiter=\";\", on_bad_lines=\"skip\", low_memory=False)\n",
    "df2020_publication = pd.read_csv(csv_path2020_publication,delimiter=\";\", on_bad_lines=\"skip\", low_memory=False)\n",
    "\n",
    "# euroSciVoc\n",
    "print(\"=== euroSciVoc ===\")\n",
    "print(\"Missing values:\\n\", df2020_euroSciVoc.isnull().sum())\n",
    "print(\"Duplicated rows:\", df2020_euroSciVoc.duplicated().sum(), \"\\n\")\n",
    "\n",
    "# legalBasis\n",
    "print(\"=== legalBasis ===\")\n",
    "print(\"Missing values:\\n\", df2020_legalBasis.isnull().sum())\n",
    "print(\"Duplicated rows:\", df2020_legalBasis.duplicated().sum(), \"\\n\")\n",
    "\n",
    "# organization\n",
    "print(\"=== organization ===\")\n",
    "print(\"Missing values:\\n\", df2020_organization.isnull().sum())\n",
    "print(\"Duplicated rows:\", df2020_organization.duplicated().sum(), \"\\n\")\n",
    "\n",
    "# project\n",
    "print(\"=== project ===\")\n",
    "print(\"Missing values:\\n\", df2020_project.isnull().sum())\n",
    "print(\"Duplicated rows:\", df2020_project.duplicated().sum(), \"\\n\")\n",
    "\n",
    "# topics\n",
    "print(\"=== topics ===\")\n",
    "print(\"Missing values:\\n\", df2020_topics.isnull().sum())\n",
    "print(\"Duplicated rows:\", df2020_topics.duplicated().sum(), \"\\n\")\n",
    "\n",
    "# webItem\n",
    "print(\"=== webItem ===\")\n",
    "print(\"Missing values:\\n\", df2020_webItem.isnull().sum())\n",
    "print(\"Duplicated rows:\", df2020_webItem.duplicated().sum(), \"\\n\")\n",
    "\n",
    "# webLink\n",
    "print(\"=== webLink ===\")\n",
    "print(\"Missing values:\\n\", df2020_webLink.isnull().sum())\n",
    "print(\"Duplicated rows:\", df2020_webLink.duplicated().sum(), \"\\n\")\n",
    "\n",
    "# publications \n",
    "print(\"=== publications ===\")\n",
    "print(\"Missing values:\\n\", df2020_publication.isnull().sum())\n",
    "print(\"Duplicated rows:\", df2020_publication.duplicated().sum(), \"\\n\")\n",
    "\n",
    "## duplicates verwijderen, we hebben hier geen meerwaarde aan \n",
    "## bepaalde rijen waar gegevens ontbreken, verwijderen we ook. bv waar projectID, title, startdate, enddate, maxEcContribution, EcContribution, role, country ontbreekt \n",
    "\n",
    "# PROJECT — nodig voor analyse van tijd, categorie en funding\n",
    "df2020_project.drop_duplicates(inplace=True)\n",
    "df2020_project.dropna(subset=[\"id\", \"title\", \"startDate\", \"ecMaxContribution\"], inplace=True)\n",
    "\n",
    "# ORGANIZATION — nodig voor funding en coördinatierollen per land\n",
    "df2020_organization.drop_duplicates(inplace=True)\n",
    "df2020_organization.dropna(subset=[\"projectID\", \"organisationID\", \"role\", \"country\", \"ecContribution\"], inplace=True)\n",
    "\n",
    "# EUROSCIVOC — nodig om projecten aan categorieën te koppelen\n",
    "df2020_euroSciVoc.drop_duplicates(inplace=True)\n",
    "df2020_euroSciVoc.dropna(subset=[\"projectID\"], inplace=True)\n",
    "\n",
    "# PUBLICATIONS\n",
    "df2020_publication.drop_duplicates(inplace=True)\n",
    "df2020_publication.dropna(subset=[\"projectID\", \"doi\"], inplace= True)"
   ]
  },
  {
   "cell_type": "code",
   "execution_count": 6,
   "metadata": {},
   "outputs": [
    {
     "name": "stdout",
     "output_type": "stream",
     "text": [
      "=== euroSciVoc ===\n",
      "Missing values:\n",
      " projectID                    0\n",
      "euroSciVocCode               0\n",
      "euroSciVocPath               0\n",
      "euroSciVocTitle              0\n",
      "euroSciVocDescription    38789\n",
      "dtype: int64\n",
      "Duplicated rows: 0 \n",
      "\n",
      "=== legalBasis ===\n",
      "Missing values:\n",
      " projectID                 0\n",
      "legalBasis                0\n",
      "title                     0\n",
      "uniqueProgrammePart    5171\n",
      "dtype: int64\n",
      "Duplicated rows: 0 \n",
      "\n",
      "=== organization ===\n",
      "Missing values:\n",
      " projectID                  0\n",
      "projectAcronym             0\n",
      "organisationID             0\n",
      "vatNumber              15403\n",
      "name                       0\n",
      "shortName              25507\n",
      "SME                      263\n",
      "activityType              24\n",
      "street                   300\n",
      "postCode                 786\n",
      "city                     263\n",
      "country                   13\n",
      "nutsCode                 278\n",
      "geolocation              588\n",
      "organizationURL        38954\n",
      "contactForm                0\n",
      "contentUpdateDate          0\n",
      "rcn                        0\n",
      "order                      0\n",
      "role                       0\n",
      "ecContribution         15704\n",
      "netEcContribution         42\n",
      "totalCost                936\n",
      "endOfParticipation         0\n",
      "active                100249\n",
      "dtype: int64\n",
      "Duplicated rows: 0 \n",
      "\n",
      "=== project ===\n",
      "Missing values:\n",
      " id                        0\n",
      "acronym                   0\n",
      "status                    0\n",
      "title                     0\n",
      "startDate                 0\n",
      "endDate                   0\n",
      "totalCost                 0\n",
      "ecMaxContribution         0\n",
      "legalBasis                0\n",
      "topics                    0\n",
      "ecSignatureDate           1\n",
      "frameworkProgramme        0\n",
      "masterCall                0\n",
      "subCall                   0\n",
      "fundingScheme             1\n",
      "nature                15221\n",
      "objective                 0\n",
      "contentUpdateDate         0\n",
      "rcn                       0\n",
      "grantDoi                 58\n",
      "dtype: int64\n",
      "Duplicated rows: 0 \n",
      "\n",
      "=== topics ===\n",
      "Missing values:\n",
      " projectID    0\n",
      "topic        0\n",
      "title        0\n",
      "dtype: int64\n",
      "Duplicated rows: 0 \n",
      "\n",
      "=== webItem ===\n",
      "Missing values:\n",
      " language              0\n",
      "availableLanguages    0\n",
      "uri                   0\n",
      "title                 3\n",
      "type                  0\n",
      "source                0\n",
      "represents            1\n",
      "dtype: int64\n",
      "Duplicated rows: 0 \n",
      "\n",
      "=== webLink ===\n",
      "Missing values:\n",
      " projectID                 0\n",
      "physUrl                   0\n",
      "id                        0\n",
      "availableLanguages        0\n",
      "status                21440\n",
      "archivedDate          21440\n",
      "type                      0\n",
      "source                    0\n",
      "represents            13723\n",
      "dtype: int64\n",
      "Duplicated rows: 0 \n",
      "\n",
      "=== publications ===\n",
      "Missing values:\n",
      " id                       0\n",
      "title                    0\n",
      "isPublishedAs            0\n",
      "authors                 74\n",
      "journalTitle          2098\n",
      "journalNumber        13618\n",
      "publishedYear            1\n",
      "publishedPages       24130\n",
      "issn                  7000\n",
      "isbn                 23206\n",
      "doi                   2292\n",
      "projectID                0\n",
      "projectAcronym           0\n",
      "collection               0\n",
      "contentUpdateDate        0\n",
      "rcn                      1\n",
      "dtype: int64\n",
      "Duplicated rows: 0 \n",
      "\n"
     ]
    }
   ],
   "source": [
    "## for horizon 2024\n",
    "# Dataframes inlezen\n",
    "df2024_euroSciVoc = pd.read_csv(csv_path2024_euroSciVoc, delimiter=\";\", on_bad_lines=\"skip\", low_memory=False)\n",
    "df2024_legalBasis = pd.read_csv(csv_path2024_legalBasis, delimiter=\";\", on_bad_lines=\"skip\", low_memory=False)\n",
    "df2024_organization = pd.read_csv(csv_path2024_organization, delimiter=\";\", on_bad_lines=\"skip\", low_memory=False)\n",
    "df2024_project = pd.read_csv(csv_path2024_project, delimiter=\";\", on_bad_lines=\"skip\", low_memory=False)\n",
    "df2024_topics = pd.read_csv(csv_path2024_topics, delimiter=\";\", on_bad_lines=\"skip\", low_memory=False)\n",
    "df2024_webItem = pd.read_csv(csv_path2024_webItem, delimiter=\";\", on_bad_lines=\"skip\", low_memory=False)\n",
    "df2024_webLink = pd.read_csv(csv_path2024_webLink, delimiter=\";\", on_bad_lines=\"skip\", low_memory=False)\n",
    "df2024_publication=pd.read_csv(csv_path2024_publication,  delimiter=\";\", on_bad_lines=\"skip\", low_memory=False)\n",
    "\n",
    "# euroSciVoc\n",
    "print(\"=== euroSciVoc ===\")\n",
    "print(\"Missing values:\\n\", df2024_euroSciVoc.isnull().sum())\n",
    "print(\"Duplicated rows:\", df2024_euroSciVoc.duplicated().sum(), \"\\n\")\n",
    "\n",
    "# legalBasis\n",
    "print(\"=== legalBasis ===\")\n",
    "print(\"Missing values:\\n\", df2024_legalBasis.isnull().sum())\n",
    "print(\"Duplicated rows:\", df2024_legalBasis.duplicated().sum(), \"\\n\")\n",
    "\n",
    "# organization\n",
    "print(\"=== organization ===\")\n",
    "print(\"Missing values:\\n\", df2024_organization.isnull().sum())\n",
    "print(\"Duplicated rows:\", df2024_organization.duplicated().sum(), \"\\n\")\n",
    "\n",
    "# project\n",
    "print(\"=== project ===\")\n",
    "print(\"Missing values:\\n\", df2024_project.isnull().sum())\n",
    "print(\"Duplicated rows:\", df2024_project.duplicated().sum(), \"\\n\")\n",
    "\n",
    "# topics\n",
    "print(\"=== topics ===\")\n",
    "print(\"Missing values:\\n\", df2024_topics.isnull().sum())\n",
    "print(\"Duplicated rows:\", df2024_topics.duplicated().sum(), \"\\n\")\n",
    "\n",
    "# webItem\n",
    "print(\"=== webItem ===\")\n",
    "print(\"Missing values:\\n\", df2024_webItem.isnull().sum())\n",
    "print(\"Duplicated rows:\", df2024_webItem.duplicated().sum(), \"\\n\")\n",
    "\n",
    "# webLink\n",
    "print(\"=== webLink ===\")\n",
    "print(\"Missing values:\\n\", df2024_webLink.isnull().sum())\n",
    "print(\"Duplicated rows:\", df2024_webLink.duplicated().sum(), \"\\n\")\n",
    "\n",
    "# publications \n",
    "print(\"=== publications ===\")\n",
    "print(\"Missing values:\\n\", df2024_publication.isnull().sum())\n",
    "print(\"Duplicated rows:\", df2024_publication.duplicated().sum(), \"\\n\")\n",
    "\n",
    "## duplicates verwijderen, we hebben hier geen meerwaarde aan \n",
    "## bepaalde rijen waar gegevens ontbreken, verwijderen we ook. bv waar projectID, title, startdate, enddate, maxEcContribution, EcContribution, role, country ontbreekt \n",
    "\n",
    "# PROJECT — nodig voor analyse van tijd, categorie en funding\n",
    "df2024_project.drop_duplicates(inplace=True)\n",
    "df2024_project.dropna(subset=[\"id\", \"title\", \"startDate\", \"ecMaxContribution\"], inplace=True)\n",
    "\n",
    "# ORGANIZATION — nodig voor funding en coördinatierollen per land\n",
    "df2024_organization.drop_duplicates(inplace=True)\n",
    "df2024_organization.dropna(subset=[\"projectID\", \"organisationID\", \"role\", \"country\", \"ecContribution\"], inplace=True)\n",
    "\n",
    "# EUROSCIVOC — nodig om projecten aan categorieën te koppelen\n",
    "df2024_euroSciVoc.drop_duplicates(inplace=True)\n",
    "df2024_euroSciVoc.dropna(subset=[\"projectID\"], inplace=True)\n",
    "\n",
    "# PUBLICATIONS\n",
    "df2024_publication.drop_duplicates(inplace=True)\n",
    "df2024_publication.dropna(subset=[\"projectID\", \"doi\"], inplace= True)\n"
   ]
  },
  {
   "cell_type": "markdown",
   "metadata": {},
   "source": [
    "# Research Categories"
   ]
  },
  {
   "cell_type": "code",
   "execution_count": 7,
   "metadata": {},
   "outputs": [
    {
     "name": "stdout",
     "output_type": "stream",
     "text": [
      "\n",
      "Number of projects per category in 2020:\n",
      "                   category  count_2020\n",
      "           natural sciences       48421\n",
      " engineering and technology       25267\n",
      "medical and health sciences       17468\n",
      "            social sciences       16024\n",
      "                 humanities        4028\n",
      "      agricultural sciences        2985\n",
      "\n",
      "Number of projects per category in 2024:\n",
      "                   category  count_2024\n",
      "           natural sciences       18075\n",
      " engineering and technology        6680\n",
      "medical and health sciences        5985\n",
      "            social sciences        5027\n",
      "                 humanities        1739\n",
      "      agricultural sciences        1283\n"
     ]
    }
   ],
   "source": [
    "# Look if column euroSciVocPath exists\n",
    "if 'euroSciVocPath' not in df2020_euroSciVoc.columns or 'euroSciVocPath' not in df2024_euroSciVoc.columns:\n",
    "    raise ValueError(\"Column 'euroSciVocPath' not found\")\n",
    "\n",
    "# Extract category\n",
    "df2020_euroSciVoc['category2020'] = df2020_euroSciVoc['euroSciVocPath'].str.split('/').str[1]\n",
    "df2024_euroSciVoc['category2024'] = df2024_euroSciVoc['euroSciVocPath'].str.split('/').str[1]\n",
    "\n",
    "# Count rows per category\n",
    "category_counts_2020 = df2020_euroSciVoc['category2020'].value_counts().reset_index()\n",
    "category_counts_2024 = df2024_euroSciVoc['category2024'].value_counts().reset_index()\n",
    "\n",
    "# Choose column names\n",
    "category_counts_2020.columns = ['category', 'count_2020']\n",
    "category_counts_2024.columns = ['category', 'count_2024']\n",
    "\n",
    "# Print \n",
    "print(\"\\nNumber of projects per category in 2020:\")\n",
    "print(category_counts_2020.to_string(index=False))\n",
    "\n",
    "print(\"\\nNumber of projects per category in 2024:\")\n",
    "print(category_counts_2024.to_string(index=False))"
   ]
  },
  {
   "cell_type": "code",
   "execution_count": 8,
   "metadata": {},
   "outputs": [
    {
     "name": "stdout",
     "output_type": "stream",
     "text": [
      "                   category  project_count  Year\n",
      " engineering and technology            351  2014\n",
      "           natural sciences            213  2014\n",
      "            social sciences            165  2014\n",
      "medical and health sciences            127  2014\n",
      "      agricultural sciences             24  2014\n",
      "                 humanities              6  2014\n",
      "           natural sciences           7656  2015\n",
      " engineering and technology           4255  2015\n",
      "medical and health sciences           2624  2015\n",
      "            social sciences           2464  2015\n",
      "                 humanities            453  2015\n",
      "      agricultural sciences            442  2015\n",
      "           natural sciences           7827  2016\n",
      " engineering and technology           4258  2016\n",
      "medical and health sciences           2724  2016\n",
      "            social sciences           2641  2016\n",
      "                 humanities            623  2016\n",
      "      agricultural sciences            420  2016\n",
      "           natural sciences           7273  2017\n",
      " engineering and technology           4327  2017\n",
      "medical and health sciences           2719  2017\n",
      "            social sciences           2692  2017\n",
      "                 humanities            531  2017\n",
      "      agricultural sciences            420  2017\n",
      "           natural sciences           6576  2018\n",
      " engineering and technology           3720  2018\n",
      "medical and health sciences           2453  2018\n",
      "            social sciences           2262  2018\n",
      "                 humanities            510  2018\n",
      "      agricultural sciences            480  2018\n",
      "           natural sciences           6387  2019\n",
      " engineering and technology           3515  2019\n",
      "medical and health sciences           2661  2019\n",
      "            social sciences           2179  2019\n",
      "                 humanities            544  2019\n",
      "      agricultural sciences            462  2019\n",
      "           natural sciences           5475  2020\n",
      " engineering and technology           2390  2020\n",
      "medical and health sciences           1993  2020\n",
      "            social sciences           1539  2020\n",
      "                 humanities            480  2020\n",
      "      agricultural sciences            328  2020\n",
      "           natural sciences           5478  2021\n",
      " engineering and technology           1944  2021\n",
      "medical and health sciences           1782  2021\n",
      "            social sciences           1577  2021\n",
      "                 humanities            588  2021\n",
      "      agricultural sciences            315  2021\n",
      "           natural sciences           4919  2022\n",
      " engineering and technology           1900  2022\n",
      "medical and health sciences           1691  2022\n",
      "            social sciences           1484  2022\n",
      "                 humanities            522  2022\n",
      "      agricultural sciences            363  2022\n",
      "           natural sciences           6143  2023\n",
      " engineering and technology           2266  2023\n",
      "medical and health sciences           2071  2023\n",
      "            social sciences           1619  2023\n",
      "                 humanities            594  2023\n",
      "      agricultural sciences            410  2023\n",
      "           natural sciences           5958  2024\n",
      " engineering and technology           2173  2024\n",
      "medical and health sciences           1887  2024\n",
      "            social sciences           1624  2024\n",
      "                 humanities            547  2024\n",
      "      agricultural sciences            428  2024\n",
      "           natural sciences           2155  2025\n",
      "medical and health sciences            616  2025\n",
      " engineering and technology            590  2025\n",
      "            social sciences            582  2025\n",
      "                 humanities            270  2025\n",
      "      agricultural sciences            149  2025\n",
      "medical and health sciences              2  2026\n",
      "            social sciences              1  2026\n"
     ]
    }
   ],
   "source": [
    "import pandas as pd\n",
    "\n",
    "# Load project files\n",
    "df2020_proj = pd.read_csv(csv_path2020_project, delimiter=\";\", on_bad_lines=\"skip\", low_memory=False)\n",
    "df2024_proj = pd.read_csv(csv_path2024_project, delimiter=\";\", on_bad_lines=\"skip\", low_memory=False)\n",
    "\n",
    "# Combine project data\n",
    "df_proj = pd.concat([df2020_proj, df2024_proj], ignore_index=True)\n",
    "\n",
    "# Extract year from startDate\n",
    "df_proj['startYear'] = pd.to_datetime(df_proj['startDate'], errors='coerce').dt.year\n",
    "\n",
    "# Load euroscivoc files\n",
    "df2020_euro = pd.read_csv(csv_path2020_euroSciVoc, delimiter=\";\", on_bad_lines=\"skip\", low_memory=False)\n",
    "df2024_euro = pd.read_csv(csv_path2024_euroSciVoc, delimiter=\";\", on_bad_lines=\"skip\", low_memory=False)\n",
    "\n",
    "# Combine euroSciVoc data\n",
    "df_euro = pd.concat([df2020_euro, df2024_euro], ignore_index=True)\n",
    "\n",
    "# Check if 'euroSciVocPath' exists\n",
    "if 'euroSciVocPath' not in df_euro.columns:\n",
    "    raise ValueError(\"Column 'euroSciVocPath' not found\")\n",
    "\n",
    "# Extract category\n",
    "df_euro['category'] = df_euro['euroSciVocPath'].str.split('/').str[1]\n",
    "\n",
    "# Merge euroSciVoc with project info\n",
    "df_merged = df_euro.merge(df_proj, left_on='projectID', right_on='id')\n",
    "\n",
    "# Count projects per category per year\n",
    "category_per_year = df_merged.groupby(['startYear', 'category']).size().reset_index(name='project_count')\n",
    "\n",
    "# Fix year column format\n",
    "category_per_year['Year'] = category_per_year['startYear'].astype('Int64')\n",
    "category_per_year = category_per_year.drop(columns='startYear')\n",
    "\n",
    "# Print\n",
    "print(category_per_year.sort_values(['Year', 'project_count'], ascending=[True, False]).to_string(index=False))\n",
    "\n",
    "category_per_year.to_csv(\"category_per_year\", index = False)\n"
   ]
  },
  {
   "cell_type": "code",
   "execution_count": 9,
   "metadata": {},
   "outputs": [
    {
     "data": {
      "image/png": "[encoded data removed]",
      "text/plain": [
       "<Figure size 1000x500 with 1 Axes>"
      ]
     },
     "metadata": {},
     "output_type": "display_data"
    }
   ],
   "source": [
    "import matplotlib.pyplot as plt\n",
    "\n",
    "# Filter de juiste categorie\n",
    "eng_tech = category_per_year[category_per_year['category'] == 'engineering and technology']\n",
    "\n",
    "# Plotten\n",
    "plt.figure(figsize=(10, 5))\n",
    "plt.plot(eng_tech['Year'], eng_tech['project_count'], marker='o', color='orange')\n",
    "plt.title('Engineering and Technology Projects Over Time')\n",
    "plt.xlabel('Year')\n",
    "plt.ylabel('Number of Projects')\n",
    "plt.grid(True)\n",
    "plt.tight_layout()\n",
    "plt.show()\n"
   ]
  },
  {
   "cell_type": "code",
   "execution_count": null,
   "metadata": {},
   "outputs": [
    {
     "data": {
      "application/vnd.jupyter.widget-view+json": {
       "model_id": "f5d2e98ebeec4ba2baad2fa64850723e",
       "version_major": 2,
       "version_minor": 0
      },
      "text/plain": [
       "VBox(children=(Dropdown(description='Categorie:', index=1, options=('agricultural sciences', 'engineering and …"
      ]
     },
     "metadata": {},
     "output_type": "display_data"
    }
   ],
   "source": [
    "import plotly.express as px\n",
    "from ipywidgets import Dropdown, Output, VBox\n",
    "from IPython.display import display, HTML\n",
    "\n",
    "# Output-widget\n",
    "out = Output()\n",
    "\n",
    "# Alle categorieën\n",
    "categories = sorted(category_per_year['category'].dropna().unique())\n",
    "\n",
    "# Dropdown-widget\n",
    "dropdown = Dropdown(\n",
    "    options=categories,\n",
    "    value='engineering and technology',\n",
    "    description='Categorie:'\n",
    ")\n",
    "\n",
    "# Plotfunctie\n",
    "def create_plot(selected_cat):\n",
    "    data = category_per_year[category_per_year['category'] == selected_cat]\n",
    "    fig = px.line(\n",
    "        data,\n",
    "        x='Year',\n",
    "        y='project_count',\n",
    "        markers=True,\n",
    "        title=f'{selected_cat.capitalize()} Projects Over Time',\n",
    "        labels={'project_count': 'Number of Projects'}\n",
    "    )\n",
    "    fig.update_layout(\n",
    "        height=500,\n",
    "        margin={\"r\": 0, \"t\": 50, \"l\": 0, \"b\": 0}\n",
    "    )\n",
    "    return fig\n",
    "\n",
    "# Update-functie\n",
    "def update_plot(change):\n",
    "    with out:\n",
    "        out.clear_output(wait=True)\n",
    "        selected = change['new']\n",
    "        fig = create_plot(selected)\n",
    "        display(HTML(fig.to_html(include_plotlyjs='cdn')))\n",
    "\n",
    "# Koppel de update-functie aan dropdown\n",
    "dropdown.observe(update_plot, names='value')\n",
    "\n",
    "# UI tonen\n",
    "display(VBox([dropdown, out]))\n",
    "\n",
    "# Initieel plot weergeven\n",
    "with out:\n",
    "    fig = create_plot(dropdown.value)\n",
    "    display(HTML(fig.to_html(include_plotlyjs='cdn')))\n"
   ]
  },
  {
   "cell_type": "markdown",
   "metadata": {},
   "source": [
    "# Funding Distribution "
   ]
  },
  {
   "cell_type": "markdown",
   "metadata": {},
   "source": [
    "## Comparison Across countries"
   ]
  },
  {
   "cell_type": "markdown",
   "metadata": {},
   "source": [
    "### In organization.csv: columns ‘ecContribution’, ‘netEcContribution’"
   ]
  },
  {
   "cell_type": "code",
   "execution_count": 11,
   "metadata": {},
   "outputs": [
    {
     "name": "stdout",
     "output_type": "stream",
     "text": [
      "\n",
      "Funding distribution comparison (H2020 vs Horizon Europe):\n",
      "country  ecContribution_2020  netEcContribution_2020  ecContribution_2024  netEcContribution_2024\n",
      "     DE         1.008683e+10            1.010350e+10         7.143896e+09            7.133945e+09\n",
      "     FR         7.505264e+09            7.425600e+09         5.005581e+09            4.984713e+09\n",
      "     ES         6.370864e+09            6.367600e+09         4.525547e+09            4.542529e+09\n",
      "     IT         5.678991e+09            5.700749e+09         3.810964e+09            3.757276e+09\n",
      "     NL         5.360284e+09            5.364393e+09         3.791088e+09            3.772894e+09\n",
      "     BE         3.415569e+09            3.392041e+09         3.394415e+09            3.321351e+09\n",
      "     EL         1.716628e+09            1.726158e+09         1.677251e+09            1.677521e+09\n",
      "     SE         2.318316e+09            2.312439e+09         1.459772e+09            1.462400e+09\n",
      "     NO         1.697087e+09            1.707813e+09         1.423482e+09            1.417474e+09\n",
      "     AT         1.958192e+09            1.960487e+09         1.389145e+09            1.386762e+09\n",
      "     DK         1.762806e+09            1.757243e+09         1.253836e+09            1.253857e+09\n",
      "     FI         1.536417e+09            1.534254e+09         1.243751e+09            1.247015e+09\n",
      "     PT         1.144673e+09            1.156393e+09         9.932239e+08            9.959858e+08\n",
      "     IE         1.208678e+09            1.199757e+09         8.953368e+08            8.942632e+08\n",
      "     IL         1.277270e+09            1.277437e+09         8.145031e+08            8.117438e+08\n",
      "     PL         7.374395e+08            7.419918e+08         6.367603e+08            6.598673e+08\n",
      "     CZ         4.982076e+08            5.119571e+08         4.862941e+08            4.898418e+08\n",
      "     UK         7.819000e+09            7.820703e+09         4.171745e+08            4.193756e+08\n",
      "     SI         3.773216e+08            3.780377e+08         3.581567e+08            3.575677e+08\n",
      "     CY         3.195844e+08            3.187116e+08         2.985625e+08            2.974194e+08\n",
      "     RO         2.969726e+08            3.002786e+08         2.898332e+08            2.882779e+08\n",
      "     TR         2.777253e+08            2.776725e+08         2.898174e+08            2.898248e+08\n",
      "     EE         2.738367e+08            2.729647e+08         2.556724e+08            2.565753e+08\n",
      "     LU         2.008916e+08            2.005870e+08         2.018049e+08            1.998859e+08\n",
      "     HU         3.615326e+08            3.643732e+08         1.957782e+08            1.997156e+08\n",
      "     BG         1.592622e+08            1.605038e+08         1.631803e+08            1.633236e+08\n",
      "     LT         9.440430e+07            9.424771e+07         1.557564e+08            1.560771e+08\n",
      "     HR         1.366386e+08            1.377741e+08         1.315653e+08            1.345898e+08\n",
      "     RS         1.326523e+08            1.355651e+08         1.211271e+08            1.236866e+08\n",
      "     SK         1.353022e+08            1.364502e+08         1.086767e+08            1.089240e+08\n",
      "     CH         2.424885e+09            2.427941e+09         1.023286e+08            1.015884e+08\n",
      "     LV         1.163084e+08            1.169635e+08         9.810486e+07            9.766834e+07\n",
      "     US         1.150644e+08            1.223536e+08         6.834304e+07            6.891604e+07\n",
      "     UA         4.722899e+07            4.845097e+07         6.819317e+07            6.740865e+07\n",
      "     IS         1.440608e+08            1.437448e+08         6.173354e+07            6.168010e+07\n",
      "     ZA         6.172994e+07            6.173882e+07         6.081058e+07            6.189006e+07\n",
      "     MT         3.862427e+07            3.738414e+07         4.481112e+07            4.502375e+07\n",
      "     KE         3.197747e+07            3.188808e+07         3.902091e+07            3.957874e+07\n",
      "     UG         1.204876e+07            1.204876e+07         2.210654e+07            2.210654e+07\n",
      "     TZ         1.048716e+07            1.093077e+07         1.980800e+07            1.980800e+07\n",
      "     GH         1.350359e+07            1.352741e+07         1.732988e+07            1.732988e+07\n",
      "     CD         3.398773e+06            3.398773e+06         1.511995e+07            1.511995e+07\n",
      "     ET         5.852809e+06            5.852809e+06         1.492432e+07            1.492432e+07\n",
      "     NG         4.843348e+06            4.843348e+06         1.439501e+07            1.441453e+07\n",
      "     TN         1.305338e+07            1.313711e+07         1.302885e+07            1.317060e+07\n",
      "     SN         6.178805e+06            6.269616e+06         1.293037e+07            1.333919e+07\n",
      "     MZ         3.703048e+06            3.740866e+06         1.149498e+07            1.149498e+07\n",
      "     MK         1.341950e+07            1.440231e+07         1.125636e+07            1.216632e+07\n",
      "     CA         1.556232e+07            1.640283e+07         1.056181e+07            1.056181e+07\n",
      "     ZM         1.992412e+06            2.031193e+06         9.258258e+06            9.258258e+06\n",
      "     BA         8.500940e+06            8.597569e+06         9.022172e+06            9.022172e+06\n",
      "     BF         9.097828e+06            9.097828e+06         8.294277e+06            8.294277e+06\n",
      "     AU         1.127486e+07            1.218650e+07         7.925924e+06            7.925924e+06\n",
      "     AM         4.164550e+06            4.165423e+06         7.000505e+06            7.000505e+06\n",
      "     AL         5.608330e+06            5.812705e+06         6.943552e+06            6.943552e+06\n",
      "     NZ         2.636419e+06            2.636419e+06         6.558807e+06            6.558807e+06\n",
      "     MD         7.411553e+06            7.411553e+06         6.481232e+06            6.489982e+06\n",
      "     RW         2.132238e+06            2.132238e+06         6.246408e+06            6.246408e+06\n",
      "     ML         1.192419e+06            1.192419e+06         6.238854e+06            6.238854e+06\n",
      "     MA         7.425449e+06            7.895574e+06         5.760780e+06            5.760780e+06\n",
      "     GE         8.680018e+06            8.721383e+06         5.754641e+06            5.793641e+06\n",
      "     CO         8.884556e+06            8.884556e+06         5.418849e+06            5.328537e+06\n",
      "     CI         1.658742e+06            1.658742e+06         5.316089e+06            5.393589e+06\n",
      "     EG         4.199075e+06            4.247895e+06         5.156737e+06            5.212666e+06\n",
      "     CM         1.634837e+06            1.634837e+06         4.991261e+06            4.991261e+06\n",
      "     GA         1.231025e+06            1.231025e+06         4.933914e+06            4.933914e+06\n",
      "     MH         6.772500e+04            6.772500e+04         4.765775e+06            4.765775e+06\n",
      "     LB         4.282367e+06            4.282367e+06         4.469218e+06            4.469218e+06\n",
      "     ME         4.649608e+06            4.695360e+06         4.451191e+06            4.451191e+06\n",
      "     ZW         4.071250e+05            4.704812e+05         4.405044e+06            4.405044e+06\n",
      "     MG         2.235961e+06            1.834773e+06         4.383724e+06            4.923161e+06\n",
      "     TH         2.461661e+06            2.485436e+06         3.992089e+06            3.992089e+06\n",
      "     FO         4.625638e+06            4.782575e+06         3.747574e+06            3.747574e+06\n",
      "     KR         2.476388e+06            2.476388e+06         3.331506e+06            3.331506e+06\n",
      "     BJ         2.017571e+06            2.017571e+06         3.190926e+06            3.190926e+06\n",
      "     GL         2.729684e+06            2.729684e+06         3.142219e+06            3.142219e+06\n",
      "     CG         2.337500e+05            2.337500e+05         3.114554e+06            3.114554e+06\n",
      "     PK         1.874838e+06            1.874838e+06         2.603756e+06            2.603756e+06\n",
      "     SG         2.254912e+05            2.254912e+05         2.487379e+06            2.487379e+06\n",
      "     CV         6.124134e+05            6.790447e+05         2.438805e+06            2.438805e+06\n",
      "     BD         3.696078e+06            3.721278e+06         2.236436e+06            2.372936e+06\n",
      "     GN         0.000000e+00            0.000000e+00         2.118586e+06            2.118586e+06\n",
      "     IN         4.346050e+06            4.346050e+06         2.042263e+06            2.203403e+06\n",
      "     PH         1.503754e+06            1.503754e+06         1.840666e+06            1.840666e+06\n",
      "     PE         2.280832e+06            2.280832e+06         1.752900e+06            1.752900e+06\n",
      "     CR         1.349872e+06            1.349872e+06         1.603471e+06            1.603471e+06\n",
      "     BR         1.601164e+07            1.602755e+07         1.570174e+06            1.570174e+06\n",
      "     JO         5.661734e+06            5.653734e+06         1.517882e+06            1.517882e+06\n",
      "     MW         3.103414e+06            3.157039e+06         1.512789e+06            1.512789e+06\n",
      "     XK         2.480599e+06            2.480599e+06         1.508397e+06            1.508397e+06\n",
      "     CL         9.424322e+06            9.625184e+06         1.499475e+06            1.544225e+06\n",
      "     BI         5.861395e+04            5.861395e+04         1.498159e+06            1.498159e+06\n",
      "     KH         7.211815e+05            7.211815e+05         1.383488e+06            1.383488e+06\n",
      "     AR         8.921579e+06            8.980083e+06         1.343047e+06            1.343047e+06\n",
      "     JP         5.707611e+06            5.707611e+06         1.278940e+06            1.278940e+06\n",
      "     VN         2.904166e+06            2.938166e+06         1.162987e+06            1.162987e+06\n",
      "     BW         2.433806e+06            2.433806e+06         1.054269e+06            1.054269e+06\n",
      "     DZ         1.231150e+06            1.231150e+06         8.461973e+05            8.461973e+05\n",
      "     NI         3.300000e+05            3.300000e+05         7.301762e+05            7.301762e+05\n",
      "     LK         2.490662e+06            2.490662e+06         7.052175e+05            7.052175e+05\n",
      "     MU         1.321000e+06            1.321000e+06         6.970625e+05            6.412500e+05\n",
      "     SZ         3.387500e+05            3.387500e+05         5.725285e+05            5.725285e+05\n",
      "     GM         0.000000e+00            0.000000e+00         5.437500e+05            5.437500e+05\n",
      "     CN         5.136412e+06            5.169509e+06         5.040875e+05            5.040875e+05\n",
      "     EC         3.508018e+06            3.508018e+06         5.031980e+05            5.031980e+05\n",
      "     GT         1.859671e+05            1.859671e+05         4.696875e+05            4.696875e+05\n",
      "     TW         9.046171e+05            9.046171e+05         4.448612e+05            4.448612e+05\n",
      "     AW         0.000000e+00            0.000000e+00         4.381250e+05            4.381250e+05\n",
      "     LR         6.062500e+04            2.523750e+05         4.256992e+05            4.256992e+05\n",
      "     PS         2.933250e+05            2.933250e+05         3.960490e+05            3.960490e+05\n",
      "     KG         6.540325e+05            6.540325e+05         3.891750e+05            3.891750e+05\n",
      "     MX         9.883042e+05            9.883042e+05         3.328125e+05            3.328125e+05\n",
      "     MY         1.171178e+06            1.276556e+06         3.025000e+05            3.025000e+05\n",
      "     ID         2.250729e+06            2.282479e+06         2.656875e+05            2.656875e+05\n",
      "     IR         9.458372e+05            9.458372e+05         2.249725e+05            2.249725e+05\n",
      "     IQ         6.155059e+05            6.155059e+05         1.926250e+05            1.926250e+05\n",
      "     HT         0.000000e+00            0.000000e+00         1.900000e+05            1.900000e+05\n",
      "     BQ         3.068750e+05            0.000000e+00         1.845000e+05            1.845000e+05\n",
      "     TG         1.405180e+05            1.405180e+05         1.830625e+05            1.830625e+05\n",
      "     SL         1.441950e+07            2.062065e+07         1.602000e+05            1.602000e+05\n",
      "     SR         2.121750e+05            2.121750e+05         1.481350e+05            1.481350e+05\n",
      "     MV         4.996625e+04            4.996625e+04         1.407375e+05            1.407375e+05\n",
      "     MR         6.437500e+04            6.437500e+04         1.372188e+05            1.372188e+05\n",
      "     AF         1.402614e+04            1.402614e+04         1.202500e+05            1.202500e+05\n",
      "     PG         0.000000e+00            0.000000e+00         1.072500e+05            1.072500e+05\n",
      "     DJ         6.402700e+04            6.402700e+04         1.028125e+05            1.028125e+05\n",
      "     TD         1.540000e+05            1.540000e+05         1.028125e+05            1.028125e+05\n",
      "     PF         1.316119e+05            1.316119e+05         8.610000e+04            8.610000e+04\n",
      "     LS         2.325000e+04            2.325000e+04         8.259625e+04            8.259625e+04\n",
      "     UZ         3.248762e+05            3.248762e+05         6.475000e+04            6.475000e+04\n",
      "     VE         0.000000e+00            0.000000e+00         6.202500e+04            6.202500e+04\n",
      "     LY         4.335000e+04            4.335000e+04         5.737500e+04            5.737500e+04\n",
      "     UY         3.830441e+06            3.830441e+06         4.145268e+04            4.145268e+04\n",
      "     SD         3.000000e+04            7.403125e+04         3.637500e+04            3.637500e+04\n",
      "     KZ         3.021525e+05            3.429964e+05         3.606250e+04            3.606250e+04\n",
      "     AZ         6.851642e+05            6.851642e+05         1.857300e+04            1.857300e+04\n",
      "     CU         1.001066e+06            1.001066e+06         1.131750e+04            1.131750e+04\n",
      "     NC         9.546431e+05            1.083495e+06         2.518000e+03            2.518000e+03\n",
      "     BO         5.334300e+05            5.334300e+05         0.000000e+00            0.000000e+00\n",
      "     AO         1.430000e+05            1.430000e+05         0.000000e+00            0.000000e+00\n",
      "     AE         5.000000e+05            5.000000e+05         0.000000e+00            0.000000e+00\n",
      "     AI         1.253137e+06            1.253137e+06         0.000000e+00            0.000000e+00\n",
      "     DO         2.530750e+05            2.530750e+05         0.000000e+00            0.000000e+00\n",
      "     BH         0.000000e+00            0.000000e+00         0.000000e+00            0.000000e+00\n",
      "     BZ         2.000000e+04            2.000000e+04         0.000000e+00            0.000000e+00\n",
      "     BY         2.634142e+06            2.634142e+06         0.000000e+00            0.000000e+00\n",
      "     MM         5.000000e+04            5.000000e+04         0.000000e+00            0.000000e+00\n",
      "     MN         4.250000e+04            4.250000e+04         0.000000e+00            0.000000e+00\n",
      "     MC         0.000000e+00            0.000000e+00         0.000000e+00            0.000000e+00\n",
      "     LI         0.000000e+00            0.000000e+00         0.000000e+00            0.000000e+00\n",
      "     HK         5.550000e+05            5.550000e+05         0.000000e+00            0.000000e+00\n",
      "     GI         2.833820e+06            2.833820e+06         0.000000e+00            0.000000e+00\n",
      "     GD         2.813250e+04            2.813250e+04         0.000000e+00            0.000000e+00\n",
      "     HN         2.392500e+04            2.392500e+04         0.000000e+00            0.000000e+00\n",
      "     KW         0.000000e+00            0.000000e+00         0.000000e+00            0.000000e+00\n",
      "     GW         0.000000e+00            0.000000e+00         0.000000e+00            0.000000e+00\n",
      "     JE         0.000000e+00            0.000000e+00         0.000000e+00            0.000000e+00\n",
      "     JM         1.752558e+06            1.752558e+06         0.000000e+00            0.000000e+00\n",
      "     SC         7.950000e+04            7.950000e+04         0.000000e+00            0.000000e+00\n",
      "     SA         0.000000e+00            0.000000e+00         0.000000e+00            0.000000e+00\n",
      "     RU         3.742446e+06            3.742446e+06         0.000000e+00            0.000000e+00\n",
      "     QA         0.000000e+00            0.000000e+00         0.000000e+00            0.000000e+00\n",
      "     PY         2.645938e+05            2.645938e+05         0.000000e+00            0.000000e+00\n",
      "     NP         1.927916e+06            1.927916e+06         0.000000e+00            0.000000e+00\n",
      "     OM         0.000000e+00            0.000000e+00         0.000000e+00            0.000000e+00\n",
      "     PA         1.256062e+05            1.256062e+05         0.000000e+00            0.000000e+00\n",
      "     NE         1.724360e+06            1.724360e+06         0.000000e+00            2.792526e+05\n",
      "     TJ         3.872955e+05            3.872955e+05         0.000000e+00            0.000000e+00\n",
      "     SX         0.000000e+00            3.068750e+05         0.000000e+00            0.000000e+00\n",
      "     TM         7.980750e+04            7.980750e+04         0.000000e+00            0.000000e+00\n",
      "     VG         1.685532e+05            1.685532e+05         0.000000e+00            0.000000e+00\n",
      "     WF         0.000000e+00            0.000000e+00         0.000000e+00            0.000000e+00\n",
      "     YE         1.340738e+05            1.340738e+05         0.000000e+00            0.000000e+00\n",
      "     ZZ         8.357750e+04            8.357750e+04         0.000000e+00            0.000000e+00\n"
     ]
    }
   ],
   "source": [
    "# Paths \n",
    "#csv_path_2020 = \"/Users/mariejatsun/Desktop/MDA Project/cordis-h2020projects-csv/organization.csv\"\n",
    "#csv_path_2024 = \"/Users/mariejatsun/Desktop/MDA Project/cordis-HORIZONprojects-csv/organization.csv\"\n",
    "\n",
    "# Load CSV's\n",
    "#df_2020 = pd.read_csv(csv_path_2020, delimiter=\";\", on_bad_lines=\"skip\")\n",
    "#df_2024 = pd.read_csv(csv_path_2024, delimiter=\";\", on_bad_lines=\"skip\")\n",
    "\n",
    "# Look if required columns exist\n",
    "required_cols = ['country', 'ecContribution', 'netEcContribution']\n",
    "for col in required_cols:\n",
    "    if col not in df2020_organization.columns or col not in df2024_organization.columns:\n",
    "        raise ValueError(f\"Column '{col}' not found in one of the datasets\")\n",
    "\n",
    "# Group by country and sum contributions\n",
    "funding_2020 = df2020_organization.groupby('country')[['ecContribution', 'netEcContribution']].sum().reset_index()\n",
    "funding_2024 = df2024_organization.groupby('country')[['ecContribution', 'netEcContribution']].sum().reset_index()\n",
    "\n",
    "# Choose column names\n",
    "funding_2020.columns = ['country', 'ecContribution_2020', 'netEcContribution_2020']\n",
    "funding_2024.columns = ['country', 'ecContribution_2024', 'netEcContribution_2024']\n",
    "\n",
    "# Merge datasets on country\n",
    "merged_funding = pd.merge(funding_2020, funding_2024, on='country', how='outer').fillna(0)\n",
    "\n",
    "# Print \n",
    "print(\"\\nFunding distribution comparison (H2020 vs Horizon Europe):\")\n",
    "print(merged_funding.sort_values(by='ecContribution_2024', ascending=False).to_string(index=False))\n",
    "\n",
    "merged_funding.to_csv(\"merged_funding.csv\", index=False)"
   ]
  },
  {
   "cell_type": "code",
   "execution_count": 15,
   "metadata": {},
   "outputs": [
    {
     "data": {
      "application/vnd.jupyter.widget-view+json": {
       "model_id": "74a6afd151e845dba3e77b1bfa998f45",
       "version_major": 2,
       "version_minor": 0
      },
      "text/plain": [
       "VBox(children=(ToggleButtons(description='Year:', options=('2020', '2024'), value='2020'), Output()))"
      ]
     },
     "metadata": {},
     "output_type": "display_data"
    }
   ],
   "source": [
    "import plotly.express as px\n",
    "import pycountry\n",
    "from ipywidgets import widgets, Output, VBox\n",
    "from IPython.display import display, HTML\n",
    "\n",
    "# ISO2 naar ISO3\n",
    "def convert_iso2_to_iso3(iso2_code):\n",
    "    try:\n",
    "        return pycountry.countries.get(alpha_2=iso2_code).alpha_3\n",
    "    except:\n",
    "        return None\n",
    "\n",
    "# Kaartfunctie\n",
    "def create_map(data, year, funding_column):\n",
    "    data = merged_funding.copy()\n",
    "    data[\"iso_alpha\"] = data[\"country\"].apply(convert_iso2_to_iso3)\n",
    "    fig = px.scatter_geo(\n",
    "        data,\n",
    "        locations=\"iso_alpha\",\n",
    "        locationmode=\"ISO-3\",\n",
    "        size=funding_column,\n",
    "        hover_name=\"country\",\n",
    "        projection=\"natural earth\",\n",
    "        title=f\"Funding Levels in {year}\",\n",
    "        size_max=50\n",
    "    )\n",
    "    fig.update_geos(\n",
    "        showcountries=True,\n",
    "        countrycolor=\"LightGray\",\n",
    "        showcoastlines=True,\n",
    "        coastlinecolor=\"LightGray\",\n",
    "    )\n",
    "    fig.update_layout(\n",
    "        margin={\"r\": 0, \"t\": 50, \"l\": 0, \"b\": 0},\n",
    "        height=600,\n",
    "    )\n",
    "    return fig\n",
    "\n",
    "# Output-widget\n",
    "out = Output()\n",
    "\n",
    "# Toggle-knop\n",
    "toggle = widgets.ToggleButtons(\n",
    "    options=['2020', '2024'],\n",
    "    description='Year:',\n",
    "    button_style=''\n",
    ")\n",
    "\n",
    "# Update-functie\n",
    "def update_map(change):\n",
    "    with out:\n",
    "        out.clear_output(wait=True)\n",
    "        year = change['new']\n",
    "        col = 'ecContribution_2020' if year == '2020' else 'ecContribution_2024'\n",
    "        fig = create_map(merged_funding, int(year), col)\n",
    "        html = fig.to_html(include_plotlyjs='cdn')\n",
    "        display(HTML(html))\n",
    "\n",
    "# Koppel functie\n",
    "toggle.observe(update_map, names='value')\n",
    "\n",
    "# UI tonen\n",
    "display(VBox([toggle, out]))\n",
    "\n",
    "# Start met 2020-kaart\n",
    "toggle.value = '2020'  # Triggert automatisch de juiste kaart\n"
   ]
  },
  {
   "cell_type": "markdown",
   "metadata": {},
   "source": [
    "### In project.csv: column ‘maxEcContribution’"
   ]
  },
  {
   "cell_type": "markdown",
   "metadata": {},
   "source": [
    "Moeilijkheid: er is geen kolom 'country' in project.csv, daarom kan je organization.csv en project.csv mergen op de id-kolom. Hier zitten nog errors en ik moet er nog naar kijken. Nog op te lossen want nu staan er NaNs"
   ]
  },
  {
   "cell_type": "code",
   "execution_count": 14,
   "metadata": {},
   "outputs": [
    {
     "name": "stdout",
     "output_type": "stream",
     "text": [
      "\n",
      "Max EC Contribution per country (coördinatorprojecten):\n",
      "country  ecMaxContribution_2020  ecMaxContribution_2024\n",
      "     DE            4911352081.0            3815181852.0\n",
      "     FR            3191528550.0            2282783353.0\n",
      "     ES            2703481168.0            2129561363.0\n",
      "     NL            2794752324.0            1948764545.0\n",
      "     IT            2348587602.0            1695295845.0\n",
      "     BE            1603021508.0            1360957846.0\n",
      "     EL             795728541.0            1020446106.0\n",
      "     NO             815352937.0             839075429.0\n",
      "     FI             717178702.0             695767408.0\n",
      "     AT             897824634.0             656324903.0\n",
      "     SE            1163297469.0             643339839.0\n",
      "     IL             807546656.0             611225087.0\n",
      "     DK             758007530.0             500659806.0\n",
      "     IE             595899602.0             458084355.0\n",
      "     PT             449795379.0             425846983.0\n",
      "     PL             217583828.0             239319278.0\n",
      "     CZ             165836808.0             165548199.0\n",
      "     LU              62447591.0             132416847.0\n",
      "     UK            3556067527.0             123942735.0\n",
      "     EE             112119018.0             119281661.0\n",
      "     TR              70885031.0             101293319.0\n",
      "     CY             158033947.0              85412994.0\n",
      "     SI             131164840.0              85185978.0\n",
      "     RO              55901083.0              79187800.0\n",
      "     HU             140189818.0              71078264.0\n",
      "     LT              33984456.0              47895205.0\n",
      "     LV              43837871.0              46500915.0\n",
      "     HR              25190145.0              42568836.0\n",
      "     SK              39541361.0              40042831.0\n",
      "     RS              18364023.0              38738179.0\n",
      "     BG              47927336.0              38160685.0\n",
      "     IS              42891345.0              36900970.0\n",
      "     CH            1526834733.0              29553967.0\n",
      "     UA               9652747.0              12529170.0\n",
      "     MT              10804378.0              10879349.0\n",
      "     ZA                300000.0               6681990.0\n",
      "     KE               6000000.0               5000000.0\n",
      "     NG                     0.0               4984995.0\n",
      "     AM                250000.0               3340625.0\n",
      "     GE                397500.0               2812670.0\n",
      "     TN               3076163.0               2761301.0\n",
      "     BA                301656.0               1746875.0\n",
      "     AL                     0.0               1499124.0\n",
      "     MK                115295.0               1329875.0\n",
      "     AU                     0.0               1298944.0\n",
      "     MD                134350.0                223500.0\n",
      "     CL                 50000.0                     0.0\n",
      "     AE                500000.0                     0.0\n",
      "     AI                 50000.0                     0.0\n",
      "     GL                 50000.0                     0.0\n",
      "     GH                     0.0                     0.0\n",
      "     FO                350000.0                     0.0\n",
      "     CA                300000.0                     0.0\n",
      "     NC               1288000.0                     0.0\n",
      "     ME                165966.0                     0.0\n",
      "     US                 69125.0                     0.0\n",
      "     UY               1355972.0                     0.0\n"
     ]
    }
   ],
   "source": [
    "# Paths\n",
    "#proj_path_2020 = \"/Users/mariejatsun/Desktop/MDA Project/cordis-h2020projects-csv/project.csv\"\n",
    "#org_path_2020  = \"/Users/mariejatsun/Desktop/MDA Project/cordis-h2020projects-csv/organization.csv\"\n",
    "#proj_path_2024 = \"/Users/mariejatsun/Desktop/MDA Project/cordis-HORIZONprojects-csv/project.csv\"\n",
    "#org_path_2024  = \"/Users/mariejatsun/Desktop/MDA Project/cordis-HORIZONprojects-csv/organization.csv\"\n",
    "\n",
    "# Load CSV's\n",
    "#df_proj_2020 = pd.read_csv(proj_path_2020, delimiter=\";\", on_bad_lines=\"skip\")\n",
    "#df_org_2020  = pd.read_csv(org_path_2020, delimiter=\";\", on_bad_lines=\"skip\")\n",
    "#df_proj_2024 = pd.read_csv(proj_path_2024, delimiter=\";\", on_bad_lines=\"skip\")\n",
    "#df_org_2024  = pd.read_csv(org_path_2024, delimiter=\";\", on_bad_lines=\"skip\")\n",
    "\n",
    "# Check if required columns exist\n",
    "for df, name in [(df2020_project, \"project.csv 2020\"), (df2024_project, \"project.csv 2024\")]:\n",
    "    if 'ecMaxContribution' not in df.columns:\n",
    "        raise ValueError(f\"Kolom 'ecMaxContribution' ontbreekt in {name}\")\n",
    "if 'id' not in df2024_project.columns or 'projectID' not in df2020_organization.columns:\n",
    "    raise ValueError(\"Verkeerde kolomnamen in 2020 datasets\")\n",
    "if 'id' not in df2024_project.columns or 'projectID' not in df2020_organization.columns:\n",
    "    raise ValueError(\"Verkeerde kolomnamen in 2024 datasets\")\n",
    "if 'country' not in df2020_organization.columns or 'country' not in df2024_organization.columns:\n",
    "    raise ValueError(\"Kolom 'country' ontbreekt in organization.csv\")\n",
    "\n",
    "df2020_project['ecMaxContribution'] = pd.to_numeric(df2020_project['ecMaxContribution'], errors='coerce')\n",
    "df2024_project['ecMaxContribution'] = pd.to_numeric(df2024_project['ecMaxContribution'], errors='coerce')\n",
    "\n",
    "# Merge datasets\n",
    "merged_2020 = pd.merge(\n",
    "    df2020_project[['id', 'ecMaxContribution']],\n",
    "    df2020_organization[['projectID', 'role', 'country']],\n",
    "    left_on='id',\n",
    "    right_on='projectID'\n",
    ")\n",
    "merged_2024 = pd.merge(\n",
    "    df2024_project[['id', 'ecMaxContribution']],\n",
    "    df2024_organization[['projectID', 'role', 'country']],\n",
    "    left_on='id',\n",
    "    right_on='projectID'\n",
    ")\n",
    "\n",
    "# \n",
    "coordinators_2020 = merged_2020[merged_2020['role'] == 'coordinator']\n",
    "coordinators_2024 = merged_2024[merged_2024['role'] == 'coordinator']\n",
    "\n",
    "# Som per land\n",
    "funding_2020 = coordinators_2020.groupby('country')['ecMaxContribution'].sum().reset_index()\n",
    "funding_2024 = coordinators_2024.groupby('country')['ecMaxContribution'].sum().reset_index()\n",
    "\n",
    "# Kolomnamen aanpassen\n",
    "funding_2020.columns = ['country', 'ecMaxContribution_2020']\n",
    "funding_2024.columns = ['country', 'ecMaxContribution_2024']\n",
    "\n",
    "# Mergen en printen\n",
    "merged_funding = pd.merge(funding_2020, funding_2024, on='country', how='outer').fillna(0)\n",
    "merged_funding['ecMaxContribution_2024'] = pd.to_numeric(merged_funding['ecMaxContribution_2024'], errors='coerce')\n",
    "merged_funding['ecMaxContribution_2020'] = pd.to_numeric(merged_funding['ecMaxContribution_2020'], errors='coerce')\n",
    "merged_funding = merged_funding.sort_values(by='ecMaxContribution_2024', ascending=False)\n",
    "\n",
    "\n",
    "print(\"\\nMax EC Contribution per country (coördinatorprojecten):\")\n",
    "print(merged_funding.to_string(index=False))\n"
   ]
  },
  {
   "cell_type": "code",
   "execution_count": 15,
   "metadata": {},
   "outputs": [
    {
     "name": "stdout",
     "output_type": "stream",
     "text": [
      "Unique countries in 2020: 167\n",
      "Unique countries in 2024: 140\n",
      "Coordinator countries 2020: 55\n",
      "Coordinator countries 2024: 49\n",
      "Total unique coordinator countries across both years: 57\n"
     ]
    }
   ],
   "source": [
    "print(\"Unique countries in 2020:\", df2020_organization['country'].nunique())\n",
    "print(\"Unique countries in 2024:\", df2024_organization['country'].nunique())\n",
    "\n",
    "print(\"Coordinator countries 2020:\", coordinators_2020['country'].nunique())\n",
    "print(\"Coordinator countries 2024:\", coordinators_2024['country'].nunique())\n",
    "\n",
    "countries_2020 = set(coordinators_2020['country'].unique())\n",
    "countries_2024 = set(coordinators_2024['country'].unique())\n",
    "all_countries = countries_2020.union(countries_2024)\n",
    "\n",
    "print(\"Total unique coordinator countries across both years:\", len(all_countries))\n"
   ]
  },
  {
   "cell_type": "markdown",
   "metadata": {},
   "source": [
    "## Comparison Accross Research Categories"
   ]
  },
  {
   "cell_type": "code",
   "execution_count": 16,
   "metadata": {},
   "outputs": [
    {
     "name": "stdout",
     "output_type": "stream",
     "text": [
      "\n",
      "Max EC Contribution per category (2020 vs 2024):\n",
      "                   category  ecMaxContribution_2020  ecMaxContribution_2024\n",
      "           natural sciences            4.188656e+10            2.407886e+10\n",
      " engineering and technology            1.992267e+10            9.217157e+09\n",
      "medical and health sciences            1.594889e+10            8.291876e+09\n",
      "            social sciences            1.258005e+10            6.775588e+09\n",
      "                 humanities            2.889835e+09            1.652460e+09\n",
      "      agricultural sciences            2.111892e+09            1.404707e+09\n"
     ]
    }
   ],
   "source": [
    "# Ensure numeric\n",
    "df2020_project['ecMaxContribution'] = pd.to_numeric(df2020_project['ecMaxContribution'], errors='coerce')\n",
    "df2024_project['ecMaxContribution'] = pd.to_numeric(df2024_project['ecMaxContribution'], errors='coerce')\n",
    "\n",
    "# Merge euroSciVoc with project\n",
    "merged_2020_RC = pd.merge(df2020_euroSciVoc[['projectID', 'category2020']],\n",
    "                       df2020_project[['id', 'ecMaxContribution']],\n",
    "                       left_on='projectID', right_on='id')\n",
    "\n",
    "merged_2024_RC = pd.merge(df2024_euroSciVoc[['projectID', 'category2024']],\n",
    "                       df2024_project[['id', 'ecMaxContribution']],\n",
    "                       left_on='projectID', right_on='id')\n",
    "\n",
    "# Drop rows with missing categories (optional)\n",
    "merged_2020_RC = merged_2020_RC.dropna(subset=['category2020'])\n",
    "merged_2024_RC = merged_2024_RC.dropna(subset=['category2024'])\n",
    "\n",
    "# Group and sum\n",
    "funding_2020_RC = merged_2020_RC.groupby('category2020')['ecMaxContribution'].sum().reset_index()\n",
    "funding_2024_RC = merged_2024_RC.groupby('category2024')['ecMaxContribution'].sum().reset_index()\n",
    "\n",
    "# Rename columns\n",
    "funding_2020_RC.columns = ['category', 'ecMaxContribution_2020']\n",
    "funding_2024_RC.columns = ['category', 'ecMaxContribution_2024']\n",
    "\n",
    "# Merge and sort\n",
    "merged_funding_RC = pd.merge(funding_2020_RC, funding_2024_RC, on='category', how='outer').fillna(0)\n",
    "merged_funding_RC = merged_funding_RC.sort_values(by='ecMaxContribution_2024', ascending=False)\n",
    "\n",
    "# Show result\n",
    "print(\"\\nMax EC Contribution per category (2020 vs 2024):\")\n",
    "print(merged_funding_RC.to_string(index=False))\n"
   ]
  },
  {
   "cell_type": "markdown",
   "metadata": {},
   "source": [
    "# Research Output accross Countries"
   ]
  },
  {
   "cell_type": "markdown",
   "metadata": {},
   "source": [
    "Eigenlijk niet zeker of dit nuttig is aangezien nog niet alle publicaties van Horizon2021-2027 gepubliceerd zijn ofc. 24138 vs 440775 pubicaties is wel groot verschil, ni? Also, die csv-files moeten dan nog in git gezet worden"
   ]
  },
  {
   "cell_type": "code",
   "execution_count": 55,
   "metadata": {},
   "outputs": [
    {
     "ename": "FileNotFoundError",
     "evalue": "[Errno 2] No such file or directory: 'C:/Users/gebruiker/Downloads/projectPublications.csv'",
     "output_type": "error",
     "traceback": [
      "\u001b[31m---------------------------------------------------------------------------\u001b[39m",
      "\u001b[31mFileNotFoundError\u001b[39m                         Traceback (most recent call last)",
      "\u001b[36mCell\u001b[39m\u001b[36m \u001b[39m\u001b[32mIn[55]\u001b[39m\u001b[32m, line 2\u001b[39m\n\u001b[32m      1\u001b[39m path = \u001b[33m\"\u001b[39m\u001b[33mC:/Users/gebruiker/Downloads/projectPublications.csv\u001b[39m\u001b[33m\"\u001b[39m\n\u001b[32m----> \u001b[39m\u001b[32m2\u001b[39m test = \u001b[43mpd\u001b[49m\u001b[43m.\u001b[49m\u001b[43mread_csv\u001b[49m\u001b[43m(\u001b[49m\u001b[43mpath\u001b[49m\u001b[43m,\u001b[49m\u001b[43mdelimiter\u001b[49m\u001b[43m=\u001b[49m\u001b[33;43m\"\u001b[39;49m\u001b[33;43m;\u001b[39;49m\u001b[33;43m\"\u001b[39;49m\u001b[43m,\u001b[49m\u001b[43m \u001b[49m\u001b[43mon_bad_lines\u001b[49m\u001b[43m=\u001b[49m\u001b[33;43m\"\u001b[39;49m\u001b[33;43mskip\u001b[39;49m\u001b[33;43m\"\u001b[39;49m\u001b[43m,\u001b[49m\u001b[43m \u001b[49m\u001b[43mlow_memory\u001b[49m\u001b[43m=\u001b[49m\u001b[38;5;28;43;01mFalse\u001b[39;49;00m\u001b[43m)\u001b[49m\n",
      "\u001b[36mFile \u001b[39m\u001b[32m/opt/anaconda3/envs/MDA/lib/python3.13/site-packages/pandas/io/parsers/readers.py:1026\u001b[39m, in \u001b[36mread_csv\u001b[39m\u001b[34m(filepath_or_buffer, sep, delimiter, header, names, index_col, usecols, dtype, engine, converters, true_values, false_values, skipinitialspace, skiprows, skipfooter, nrows, na_values, keep_default_na, na_filter, verbose, skip_blank_lines, parse_dates, infer_datetime_format, keep_date_col, date_parser, date_format, dayfirst, cache_dates, iterator, chunksize, compression, thousands, decimal, lineterminator, quotechar, quoting, doublequote, escapechar, comment, encoding, encoding_errors, dialect, on_bad_lines, delim_whitespace, low_memory, memory_map, float_precision, storage_options, dtype_backend)\u001b[39m\n\u001b[32m   1013\u001b[39m kwds_defaults = _refine_defaults_read(\n\u001b[32m   1014\u001b[39m     dialect,\n\u001b[32m   1015\u001b[39m     delimiter,\n\u001b[32m   (...)\u001b[39m\u001b[32m   1022\u001b[39m     dtype_backend=dtype_backend,\n\u001b[32m   1023\u001b[39m )\n\u001b[32m   1024\u001b[39m kwds.update(kwds_defaults)\n\u001b[32m-> \u001b[39m\u001b[32m1026\u001b[39m \u001b[38;5;28;01mreturn\u001b[39;00m \u001b[43m_read\u001b[49m\u001b[43m(\u001b[49m\u001b[43mfilepath_or_buffer\u001b[49m\u001b[43m,\u001b[49m\u001b[43m \u001b[49m\u001b[43mkwds\u001b[49m\u001b[43m)\u001b[49m\n",
      "\u001b[36mFile \u001b[39m\u001b[32m/opt/anaconda3/envs/MDA/lib/python3.13/site-packages/pandas/io/parsers/readers.py:620\u001b[39m, in \u001b[36m_read\u001b[39m\u001b[34m(filepath_or_buffer, kwds)\u001b[39m\n\u001b[32m    617\u001b[39m _validate_names(kwds.get(\u001b[33m\"\u001b[39m\u001b[33mnames\u001b[39m\u001b[33m\"\u001b[39m, \u001b[38;5;28;01mNone\u001b[39;00m))\n\u001b[32m    619\u001b[39m \u001b[38;5;66;03m# Create the parser.\u001b[39;00m\n\u001b[32m--> \u001b[39m\u001b[32m620\u001b[39m parser = \u001b[43mTextFileReader\u001b[49m\u001b[43m(\u001b[49m\u001b[43mfilepath_or_buffer\u001b[49m\u001b[43m,\u001b[49m\u001b[43m \u001b[49m\u001b[43m*\u001b[49m\u001b[43m*\u001b[49m\u001b[43mkwds\u001b[49m\u001b[43m)\u001b[49m\n\u001b[32m    622\u001b[39m \u001b[38;5;28;01mif\u001b[39;00m chunksize \u001b[38;5;129;01mor\u001b[39;00m iterator:\n\u001b[32m    623\u001b[39m     \u001b[38;5;28;01mreturn\u001b[39;00m parser\n",
      "\u001b[36mFile \u001b[39m\u001b[32m/opt/anaconda3/envs/MDA/lib/python3.13/site-packages/pandas/io/parsers/readers.py:1620\u001b[39m, in \u001b[36mTextFileReader.__init__\u001b[39m\u001b[34m(self, f, engine, **kwds)\u001b[39m\n\u001b[32m   1617\u001b[39m     \u001b[38;5;28mself\u001b[39m.options[\u001b[33m\"\u001b[39m\u001b[33mhas_index_names\u001b[39m\u001b[33m\"\u001b[39m] = kwds[\u001b[33m\"\u001b[39m\u001b[33mhas_index_names\u001b[39m\u001b[33m\"\u001b[39m]\n\u001b[32m   1619\u001b[39m \u001b[38;5;28mself\u001b[39m.handles: IOHandles | \u001b[38;5;28;01mNone\u001b[39;00m = \u001b[38;5;28;01mNone\u001b[39;00m\n\u001b[32m-> \u001b[39m\u001b[32m1620\u001b[39m \u001b[38;5;28mself\u001b[39m._engine = \u001b[38;5;28;43mself\u001b[39;49m\u001b[43m.\u001b[49m\u001b[43m_make_engine\u001b[49m\u001b[43m(\u001b[49m\u001b[43mf\u001b[49m\u001b[43m,\u001b[49m\u001b[43m \u001b[49m\u001b[38;5;28;43mself\u001b[39;49m\u001b[43m.\u001b[49m\u001b[43mengine\u001b[49m\u001b[43m)\u001b[49m\n",
      "\u001b[36mFile \u001b[39m\u001b[32m/opt/anaconda3/envs/MDA/lib/python3.13/site-packages/pandas/io/parsers/readers.py:1880\u001b[39m, in \u001b[36mTextFileReader._make_engine\u001b[39m\u001b[34m(self, f, engine)\u001b[39m\n\u001b[32m   1878\u001b[39m     \u001b[38;5;28;01mif\u001b[39;00m \u001b[33m\"\u001b[39m\u001b[33mb\u001b[39m\u001b[33m\"\u001b[39m \u001b[38;5;129;01mnot\u001b[39;00m \u001b[38;5;129;01min\u001b[39;00m mode:\n\u001b[32m   1879\u001b[39m         mode += \u001b[33m\"\u001b[39m\u001b[33mb\u001b[39m\u001b[33m\"\u001b[39m\n\u001b[32m-> \u001b[39m\u001b[32m1880\u001b[39m \u001b[38;5;28mself\u001b[39m.handles = \u001b[43mget_handle\u001b[49m\u001b[43m(\u001b[49m\n\u001b[32m   1881\u001b[39m \u001b[43m    \u001b[49m\u001b[43mf\u001b[49m\u001b[43m,\u001b[49m\n\u001b[32m   1882\u001b[39m \u001b[43m    \u001b[49m\u001b[43mmode\u001b[49m\u001b[43m,\u001b[49m\n\u001b[32m   1883\u001b[39m \u001b[43m    \u001b[49m\u001b[43mencoding\u001b[49m\u001b[43m=\u001b[49m\u001b[38;5;28;43mself\u001b[39;49m\u001b[43m.\u001b[49m\u001b[43moptions\u001b[49m\u001b[43m.\u001b[49m\u001b[43mget\u001b[49m\u001b[43m(\u001b[49m\u001b[33;43m\"\u001b[39;49m\u001b[33;43mencoding\u001b[39;49m\u001b[33;43m\"\u001b[39;49m\u001b[43m,\u001b[49m\u001b[43m \u001b[49m\u001b[38;5;28;43;01mNone\u001b[39;49;00m\u001b[43m)\u001b[49m\u001b[43m,\u001b[49m\n\u001b[32m   1884\u001b[39m \u001b[43m    \u001b[49m\u001b[43mcompression\u001b[49m\u001b[43m=\u001b[49m\u001b[38;5;28;43mself\u001b[39;49m\u001b[43m.\u001b[49m\u001b[43moptions\u001b[49m\u001b[43m.\u001b[49m\u001b[43mget\u001b[49m\u001b[43m(\u001b[49m\u001b[33;43m\"\u001b[39;49m\u001b[33;43mcompression\u001b[39;49m\u001b[33;43m\"\u001b[39;49m\u001b[43m,\u001b[49m\u001b[43m \u001b[49m\u001b[38;5;28;43;01mNone\u001b[39;49;00m\u001b[43m)\u001b[49m\u001b[43m,\u001b[49m\n\u001b[32m   1885\u001b[39m \u001b[43m    \u001b[49m\u001b[43mmemory_map\u001b[49m\u001b[43m=\u001b[49m\u001b[38;5;28;43mself\u001b[39;49m\u001b[43m.\u001b[49m\u001b[43moptions\u001b[49m\u001b[43m.\u001b[49m\u001b[43mget\u001b[49m\u001b[43m(\u001b[49m\u001b[33;43m\"\u001b[39;49m\u001b[33;43mmemory_map\u001b[39;49m\u001b[33;43m\"\u001b[39;49m\u001b[43m,\u001b[49m\u001b[43m \u001b[49m\u001b[38;5;28;43;01mFalse\u001b[39;49;00m\u001b[43m)\u001b[49m\u001b[43m,\u001b[49m\n\u001b[32m   1886\u001b[39m \u001b[43m    \u001b[49m\u001b[43mis_text\u001b[49m\u001b[43m=\u001b[49m\u001b[43mis_text\u001b[49m\u001b[43m,\u001b[49m\n\u001b[32m   1887\u001b[39m \u001b[43m    \u001b[49m\u001b[43merrors\u001b[49m\u001b[43m=\u001b[49m\u001b[38;5;28;43mself\u001b[39;49m\u001b[43m.\u001b[49m\u001b[43moptions\u001b[49m\u001b[43m.\u001b[49m\u001b[43mget\u001b[49m\u001b[43m(\u001b[49m\u001b[33;43m\"\u001b[39;49m\u001b[33;43mencoding_errors\u001b[39;49m\u001b[33;43m\"\u001b[39;49m\u001b[43m,\u001b[49m\u001b[43m \u001b[49m\u001b[33;43m\"\u001b[39;49m\u001b[33;43mstrict\u001b[39;49m\u001b[33;43m\"\u001b[39;49m\u001b[43m)\u001b[49m\u001b[43m,\u001b[49m\n\u001b[32m   1888\u001b[39m \u001b[43m    \u001b[49m\u001b[43mstorage_options\u001b[49m\u001b[43m=\u001b[49m\u001b[38;5;28;43mself\u001b[39;49m\u001b[43m.\u001b[49m\u001b[43moptions\u001b[49m\u001b[43m.\u001b[49m\u001b[43mget\u001b[49m\u001b[43m(\u001b[49m\u001b[33;43m\"\u001b[39;49m\u001b[33;43mstorage_options\u001b[39;49m\u001b[33;43m\"\u001b[39;49m\u001b[43m,\u001b[49m\u001b[43m \u001b[49m\u001b[38;5;28;43;01mNone\u001b[39;49;00m\u001b[43m)\u001b[49m\u001b[43m,\u001b[49m\n\u001b[32m   1889\u001b[39m \u001b[43m\u001b[49m\u001b[43m)\u001b[49m\n\u001b[32m   1890\u001b[39m \u001b[38;5;28;01massert\u001b[39;00m \u001b[38;5;28mself\u001b[39m.handles \u001b[38;5;129;01mis\u001b[39;00m \u001b[38;5;129;01mnot\u001b[39;00m \u001b[38;5;28;01mNone\u001b[39;00m\n\u001b[32m   1891\u001b[39m f = \u001b[38;5;28mself\u001b[39m.handles.handle\n",
      "\u001b[36mFile \u001b[39m\u001b[32m/opt/anaconda3/envs/MDA/lib/python3.13/site-packages/pandas/io/common.py:873\u001b[39m, in \u001b[36mget_handle\u001b[39m\u001b[34m(path_or_buf, mode, encoding, compression, memory_map, is_text, errors, storage_options)\u001b[39m\n\u001b[32m    868\u001b[39m \u001b[38;5;28;01melif\u001b[39;00m \u001b[38;5;28misinstance\u001b[39m(handle, \u001b[38;5;28mstr\u001b[39m):\n\u001b[32m    869\u001b[39m     \u001b[38;5;66;03m# Check whether the filename is to be opened in binary mode.\u001b[39;00m\n\u001b[32m    870\u001b[39m     \u001b[38;5;66;03m# Binary mode does not support 'encoding' and 'newline'.\u001b[39;00m\n\u001b[32m    871\u001b[39m     \u001b[38;5;28;01mif\u001b[39;00m ioargs.encoding \u001b[38;5;129;01mand\u001b[39;00m \u001b[33m\"\u001b[39m\u001b[33mb\u001b[39m\u001b[33m\"\u001b[39m \u001b[38;5;129;01mnot\u001b[39;00m \u001b[38;5;129;01min\u001b[39;00m ioargs.mode:\n\u001b[32m    872\u001b[39m         \u001b[38;5;66;03m# Encoding\u001b[39;00m\n\u001b[32m--> \u001b[39m\u001b[32m873\u001b[39m         handle = \u001b[38;5;28;43mopen\u001b[39;49m\u001b[43m(\u001b[49m\n\u001b[32m    874\u001b[39m \u001b[43m            \u001b[49m\u001b[43mhandle\u001b[49m\u001b[43m,\u001b[49m\n\u001b[32m    875\u001b[39m \u001b[43m            \u001b[49m\u001b[43mioargs\u001b[49m\u001b[43m.\u001b[49m\u001b[43mmode\u001b[49m\u001b[43m,\u001b[49m\n\u001b[32m    876\u001b[39m \u001b[43m            \u001b[49m\u001b[43mencoding\u001b[49m\u001b[43m=\u001b[49m\u001b[43mioargs\u001b[49m\u001b[43m.\u001b[49m\u001b[43mencoding\u001b[49m\u001b[43m,\u001b[49m\n\u001b[32m    877\u001b[39m \u001b[43m            \u001b[49m\u001b[43merrors\u001b[49m\u001b[43m=\u001b[49m\u001b[43merrors\u001b[49m\u001b[43m,\u001b[49m\n\u001b[32m    878\u001b[39m \u001b[43m            \u001b[49m\u001b[43mnewline\u001b[49m\u001b[43m=\u001b[49m\u001b[33;43m\"\u001b[39;49m\u001b[33;43m\"\u001b[39;49m\u001b[43m,\u001b[49m\n\u001b[32m    879\u001b[39m \u001b[43m        \u001b[49m\u001b[43m)\u001b[49m\n\u001b[32m    880\u001b[39m     \u001b[38;5;28;01melse\u001b[39;00m:\n\u001b[32m    881\u001b[39m         \u001b[38;5;66;03m# Binary mode\u001b[39;00m\n\u001b[32m    882\u001b[39m         handle = \u001b[38;5;28mopen\u001b[39m(handle, ioargs.mode)\n",
      "\u001b[31mFileNotFoundError\u001b[39m: [Errno 2] No such file or directory: 'C:/Users/gebruiker/Downloads/projectPublications.csv'"
     ]
    }
   ],
   "source": [
    "path = \"C:/Users/gebruiker/Downloads/projectPublications.csv\"\n",
    "test = pd.read_csv(path,delimiter=\";\", on_bad_lines=\"skip\", low_memory=False)"
   ]
  },
  {
   "cell_type": "markdown",
   "metadata": {},
   "source": [
    "## Network Analysis"
   ]
  },
  {
   "cell_type": "code",
   "execution_count": 17,
   "metadata": {},
   "outputs": [],
   "source": [
    "import pandas as pd\n",
    "import itertools\n",
    "from collections import Counter\n",
    "\n",
    "# Stap 1: per projectID, verzamel unieke landen\n",
    "project_countries = df2020_organization.groupby('projectID')['country'].apply(lambda x: set(x))\n",
    "\n",
    "# Stap 2: genereer voor elk project alle unieke landenkoppels\n",
    "country_pairs = []\n",
    "\n",
    "for countries in project_countries:\n",
    "    if len(countries) > 1:\n",
    "        pairs = itertools.combinations(sorted(countries), 2)\n",
    "        country_pairs.extend(pairs)\n",
    "\n",
    "# Stap 3: tel hoe vaak elk koppel voorkomt\n",
    "pair_counts = Counter(country_pairs)\n",
    "\n",
    "# Stap 4: maak een dataframe of matrix met deze counts\n",
    "countries = sorted(df2020_organization['country'].unique())\n",
    "network_df = pd.DataFrame(0, index=countries, columns=countries)\n",
    "\n",
    "# Vul de matrix\n",
    "for (country1, country2), count in pair_counts.items():\n",
    "    network_df.at[country1, country2] = count\n",
    "    network_df.at[country2, country1] = count  # symmetrisch\n",
    "\n",
    "# Optional: je kunt ook de diagonalen invullen met zelfde-land-samenwerkingen als je dat wilt\n",
    "network_df.to_csv('landen_samenwerking_matrix.csv')"
   ]
  },
  {
   "cell_type": "code",
   "execution_count": 20,
   "metadata": {},
   "outputs": [],
   "source": [
    "import numpy as np"
   ]
  },
  {
   "cell_type": "code",
   "execution_count": 23,
   "metadata": {},
   "outputs": [],
   "source": [
    "totals = network_df.sum(axis=1)\n",
    "\n",
    "# Genormaliseerde matrix\n",
    "network_norm = pd.DataFrame(0.0, index=network_df.index, columns=network_df.columns)\n",
    "\n",
    "for i in range(len(network_df)):\n",
    "    for j in range(len(network_df)):\n",
    "        if i != j:\n",
    "            val = network_df.iloc[i, j]\n",
    "            total_i = totals.iloc[i]\n",
    "            total_j = totals.iloc[j]\n",
    "            network_norm.iloc[i, j] = val / (total_i + total_j)"
   ]
  },
  {
   "cell_type": "code",
   "execution_count": 25,
   "metadata": {},
   "outputs": [
    {
     "name": "stdout",
     "output_type": "stream",
     "text": [
      "          AE        AF        AI        AL        AM        AO        AR  \\\n",
      "AE  0.000000  0.047243  0.047243  0.047243  0.047243  0.047243  0.047243   \n",
      "AF  0.047243  0.000000  0.047243  0.047243  0.047243  0.047243  0.047243   \n",
      "AI  0.047243  0.047243  0.000000  0.047243  0.047243  0.047243  0.047243   \n",
      "AL  0.047243  0.047243  0.047243  0.000000  0.041129  0.047243  0.047243   \n",
      "AM  0.047243  0.047243  0.047243  0.041129  0.000000  0.047243  0.046375   \n",
      "..       ...       ...       ...       ...       ...       ...       ...   \n",
      "YE  0.047243  0.047243  0.047243  0.047243  0.047243  0.047243  0.047243   \n",
      "ZA  0.047243  0.047243  0.047243  0.046839  0.047243  0.046676  0.043618   \n",
      "ZM  0.047243  0.047243  0.047243  0.047243  0.047243  0.047243  0.047243   \n",
      "ZW  0.047243  0.047243  0.047243  0.047243  0.047243  0.047243  0.047243   \n",
      "ZZ  0.047243  0.047243  0.047243  0.047243  0.047243  0.047243  0.047243   \n",
      "\n",
      "          AT        AU        AZ  ...        UZ        VG        VN        WF  \\\n",
      "AE  0.047243  0.047243  0.047243  ...  0.047243  0.047243  0.047243  0.047243   \n",
      "AF  0.047195  0.047243  0.047243  ...  0.047243  0.047243  0.047243  0.047243   \n",
      "AI  0.047243  0.047243  0.047243  ...  0.047243  0.047243  0.047243  0.047243   \n",
      "AL  0.046372  0.045125  0.042172  ...  0.047243  0.047243  0.047243  0.047243   \n",
      "AM  0.046685  0.047243  0.038484  ...  0.047243  0.047243  0.047243  0.047243   \n",
      "..       ...       ...       ...  ...       ...       ...       ...       ...   \n",
      "YE  0.047243  0.047243  0.047243  ...  0.047243  0.047243  0.047243  0.047243   \n",
      "ZA  0.045318  0.041419  0.046251  ...  0.047243  0.047243  0.047243  0.047243   \n",
      "ZM  0.047101  0.047243  0.047243  ...  0.047243  0.047243  0.047243  0.047243   \n",
      "ZW  0.047148  0.047243  0.047243  ...  0.047243  0.047243  0.047243  0.047243   \n",
      "ZZ  0.047243  0.047243  0.047243  ...  0.047243  0.047243  0.047243  0.047243   \n",
      "\n",
      "          XK        YE        ZA        ZM        ZW        ZZ  \n",
      "AE  0.047243  0.047243  0.047243  0.047243  0.047243  0.047243  \n",
      "AF  0.047243  0.047243  0.047243  0.047243  0.047243  0.047243  \n",
      "AI  0.047243  0.047243  0.047243  0.047243  0.047243  0.047243  \n",
      "AL  0.041712  0.047243  0.046839  0.047243  0.047243  0.047243  \n",
      "AM  0.047243  0.047243  0.047243  0.047243  0.047243  0.047243  \n",
      "..       ...       ...       ...       ...       ...       ...  \n",
      "YE  0.047243  0.000000  0.047243  0.047243  0.047243  0.047243  \n",
      "ZA  0.046726  0.047243  0.000000  0.045101  0.045578  0.047243  \n",
      "ZM  0.047243  0.047243  0.045101  0.000000  0.035048  0.047243  \n",
      "ZW  0.047243  0.047243  0.045578  0.035048  0.000000  0.047243  \n",
      "ZZ  0.042061  0.047243  0.047243  0.047243  0.047243  0.000000  \n",
      "\n",
      "[167 rows x 167 columns]\n"
     ]
    }
   ],
   "source": [
    "max_val = network_norm.values.max()\n",
    "distance_matrix = max_val - network_norm\n",
    "np.fill_diagonal(distance_matrix.values, 0)\n",
    "print(distance_matrix)"
   ]
  },
  {
   "cell_type": "code",
   "execution_count": 34,
   "metadata": {},
   "outputs": [
    {
     "name": "stdout",
     "output_type": "stream",
     "text": [
      "Collecting scikit-learn\n",
      "  Downloading scikit_learn-1.6.1-cp312-cp312-win_amd64.whl.metadata (15 kB)\n",
      "Requirement already satisfied: numpy>=1.19.5 in c:\\users\\gebruiker\\anaconda3\\envs\\mda\\lib\\site-packages (from scikit-learn) (2.2.5)\n",
      "Collecting scipy>=1.6.0 (from scikit-learn)\n",
      "  Downloading scipy-1.15.3-cp312-cp312-win_amd64.whl.metadata (60 kB)\n",
      "Collecting joblib>=1.2.0 (from scikit-learn)\n",
      "  Downloading joblib-1.5.0-py3-none-any.whl.metadata (5.6 kB)\n",
      "Collecting threadpoolctl>=3.1.0 (from scikit-learn)\n",
      "  Downloading threadpoolctl-3.6.0-py3-none-any.whl.metadata (13 kB)\n",
      "Downloading scikit_learn-1.6.1-cp312-cp312-win_amd64.whl (11.1 MB)\n",
      "   ---------------------------------------- 0.0/11.1 MB ? eta -:--:--\n",
      "   ----- ---------------------------------- 1.6/11.1 MB 9.3 MB/s eta 0:00:02\n",
      "   ------------ --------------------------- 3.4/11.1 MB 8.7 MB/s eta 0:00:01\n",
      "   ------------------ --------------------- 5.2/11.1 MB 8.4 MB/s eta 0:00:01\n",
      "   -------------------------- ------------- 7.3/11.1 MB 8.9 MB/s eta 0:00:01\n",
      "   --------------------------------- ------ 9.2/11.1 MB 8.9 MB/s eta 0:00:01\n",
      "   ---------------------------------------  11.0/11.1 MB 9.2 MB/s eta 0:00:01\n",
      "   ---------------------------------------- 11.1/11.1 MB 8.8 MB/s eta 0:00:00\n",
      "Downloading joblib-1.5.0-py3-none-any.whl (307 kB)\n",
      "Downloading scipy-1.15.3-cp312-cp312-win_amd64.whl (41.0 MB)\n",
      "   ---------------------------------------- 0.0/41.0 MB ? eta -:--:--\n",
      "   -- ------------------------------------- 2.1/41.0 MB 10.7 MB/s eta 0:00:04\n",
      "   --- ------------------------------------ 3.9/41.0 MB 11.2 MB/s eta 0:00:04\n",
      "   ----- ---------------------------------- 5.2/41.0 MB 8.6 MB/s eta 0:00:05\n",
      "   ------ --------------------------------- 6.6/41.0 MB 7.7 MB/s eta 0:00:05\n",
      "   -------- ------------------------------- 8.4/41.0 MB 8.1 MB/s eta 0:00:05\n",
      "   --------- ------------------------------ 10.0/41.0 MB 7.9 MB/s eta 0:00:04\n",
      "   ----------- ---------------------------- 11.8/41.0 MB 8.0 MB/s eta 0:00:04\n",
      "   ------------ --------------------------- 13.1/41.0 MB 7.9 MB/s eta 0:00:04\n",
      "   -------------- ------------------------- 14.7/41.0 MB 7.6 MB/s eta 0:00:04\n",
      "   --------------- ------------------------ 16.0/41.0 MB 7.6 MB/s eta 0:00:04\n",
      "   ---------------- ----------------------- 16.5/41.0 MB 7.0 MB/s eta 0:00:04\n",
      "   ----------------- ---------------------- 17.8/41.0 MB 7.1 MB/s eta 0:00:04\n",
      "   ------------------ --------------------- 19.4/41.0 MB 6.9 MB/s eta 0:00:04\n",
      "   -------------------- ------------------- 21.5/41.0 MB 7.2 MB/s eta 0:00:03\n",
      "   ---------------------- ----------------- 23.3/41.0 MB 7.2 MB/s eta 0:00:03\n",
      "   ------------------------ --------------- 24.6/41.0 MB 7.2 MB/s eta 0:00:03\n",
      "   ------------------------- -------------- 26.2/41.0 MB 7.3 MB/s eta 0:00:03\n",
      "   --------------------------- ------------ 27.8/41.0 MB 7.2 MB/s eta 0:00:02\n",
      "   ---------------------------- ----------- 29.6/41.0 MB 7.3 MB/s eta 0:00:02\n",
      "   ------------------------------ --------- 31.5/41.0 MB 7.3 MB/s eta 0:00:02\n",
      "   -------------------------------- ------- 33.3/41.0 MB 7.4 MB/s eta 0:00:02\n",
      "   ---------------------------------- ----- 35.1/41.0 MB 7.4 MB/s eta 0:00:01\n",
      "   ----------------------------------- ---- 36.2/41.0 MB 7.3 MB/s eta 0:00:01\n",
      "   ------------------------------------ --- 37.7/41.0 MB 7.4 MB/s eta 0:00:01\n",
      "   ------------------------------------- -- 38.5/41.0 MB 7.2 MB/s eta 0:00:01\n",
      "   ---------------------------------------  40.1/41.0 MB 7.2 MB/s eta 0:00:01\n",
      "   ---------------------------------------  40.9/41.0 MB 7.0 MB/s eta 0:00:01\n",
      "   ---------------------------------------- 41.0/41.0 MB 6.9 MB/s eta 0:00:00\n",
      "Downloading threadpoolctl-3.6.0-py3-none-any.whl (18 kB)\n",
      "Installing collected packages: threadpoolctl, scipy, joblib, scikit-learn\n",
      "\n",
      "   ---------- ----------------------------- 1/4 [scipy]\n",
      "   ---------- ----------------------------- 1/4 [scipy]\n",
      "   ---------- ----------------------------- 1/4 [scipy]\n",
      "   ---------- ----------------------------- 1/4 [scipy]\n",
      "   ---------- ----------------------------- 1/4 [scipy]\n",
      "   ---------- ----------------------------- 1/4 [scipy]\n",
      "   ---------- ----------------------------- 1/4 [scipy]\n",
      "   ---------- ----------------------------- 1/4 [scipy]\n",
      "   ---------- ----------------------------- 1/4 [scipy]\n",
      "   ---------- ----------------------------- 1/4 [scipy]\n",
      "   ---------- ----------------------------- 1/4 [scipy]\n",
      "   ---------- ----------------------------- 1/4 [scipy]\n",
      "   ---------- ----------------------------- 1/4 [scipy]\n",
      "   ---------- ----------------------------- 1/4 [scipy]\n",
      "   ---------- ----------------------------- 1/4 [scipy]\n",
      "   ---------- ----------------------------- 1/4 [scipy]\n",
      "   ---------- ----------------------------- 1/4 [scipy]\n",
      "   ---------- ----------------------------- 1/4 [scipy]\n",
      "   ---------- ----------------------------- 1/4 [scipy]\n",
      "   ---------- ----------------------------- 1/4 [scipy]\n",
      "   ---------- ----------------------------- 1/4 [scipy]\n",
      "   ---------- ----------------------------- 1/4 [scipy]\n",
      "   ---------- ----------------------------- 1/4 [scipy]\n",
      "   ---------- ----------------------------- 1/4 [scipy]\n",
      "   ---------- ----------------------------- 1/4 [scipy]\n",
      "   ---------- ----------------------------- 1/4 [scipy]\n",
      "   ---------- ----------------------------- 1/4 [scipy]\n",
      "   ---------- ----------------------------- 1/4 [scipy]\n",
      "   ---------- ----------------------------- 1/4 [scipy]\n",
      "   ---------- ----------------------------- 1/4 [scipy]\n",
      "   ---------- ----------------------------- 1/4 [scipy]\n",
      "   ---------- ----------------------------- 1/4 [scipy]\n",
      "   ---------- ----------------------------- 1/4 [scipy]\n",
      "   ---------- ----------------------------- 1/4 [scipy]\n",
      "   ---------- ----------------------------- 1/4 [scipy]\n",
      "   ---------- ----------------------------- 1/4 [scipy]\n",
      "   ---------- ----------------------------- 1/4 [scipy]\n",
      "   ---------- ----------------------------- 1/4 [scipy]\n",
      "   ---------- ----------------------------- 1/4 [scipy]\n",
      "   ---------- ----------------------------- 1/4 [scipy]\n",
      "   ---------- ----------------------------- 1/4 [scipy]\n",
      "   ---------- ----------------------------- 1/4 [scipy]\n",
      "   ---------- ----------------------------- 1/4 [scipy]\n",
      "   ---------- ----------------------------- 1/4 [scipy]\n",
      "   ---------- ----------------------------- 1/4 [scipy]\n",
      "   ---------- ----------------------------- 1/4 [scipy]\n",
      "   ---------- ----------------------------- 1/4 [scipy]\n",
      "   ---------- ----------------------------- 1/4 [scipy]\n",
      "   ---------- ----------------------------- 1/4 [scipy]\n",
      "   ---------- ----------------------------- 1/4 [scipy]\n",
      "   ---------- ----------------------------- 1/4 [scipy]\n",
      "   ---------- ----------------------------- 1/4 [scipy]\n",
      "   ---------- ----------------------------- 1/4 [scipy]\n",
      "   ---------- ----------------------------- 1/4 [scipy]\n",
      "   ---------- ----------------------------- 1/4 [scipy]\n",
      "   ---------- ----------------------------- 1/4 [scipy]\n",
      "   ---------- ----------------------------- 1/4 [scipy]\n",
      "   ---------- ----------------------------- 1/4 [scipy]\n",
      "   ---------- ----------------------------- 1/4 [scipy]\n",
      "   ---------- ----------------------------- 1/4 [scipy]\n",
      "   ---------- ----------------------------- 1/4 [scipy]\n",
      "   ---------- ----------------------------- 1/4 [scipy]\n",
      "   ---------- ----------------------------- 1/4 [scipy]\n",
      "   ---------- ----------------------------- 1/4 [scipy]\n",
      "   -------------------- ------------------- 2/4 [joblib]\n",
      "   -------------------- ------------------- 2/4 [joblib]\n",
      "   -------------------- ------------------- 2/4 [joblib]\n",
      "   -------------------- ------------------- 2/4 [joblib]\n",
      "   ------------------------------ --------- 3/4 [scikit-learn]\n",
      "   ------------------------------ --------- 3/4 [scikit-learn]\n",
      "   ------------------------------ --------- 3/4 [scikit-learn]\n",
      "   ------------------------------ --------- 3/4 [scikit-learn]\n",
      "   ------------------------------ --------- 3/4 [scikit-learn]\n",
      "   ------------------------------ --------- 3/4 [scikit-learn]\n",
      "   ------------------------------ --------- 3/4 [scikit-learn]\n",
      "   ------------------------------ --------- 3/4 [scikit-learn]\n",
      "   ------------------------------ --------- 3/4 [scikit-learn]\n",
      "   ------------------------------ --------- 3/4 [scikit-learn]\n",
      "   ------------------------------ --------- 3/4 [scikit-learn]\n",
      "   ------------------------------ --------- 3/4 [scikit-learn]\n",
      "   ------------------------------ --------- 3/4 [scikit-learn]\n",
      "   ------------------------------ --------- 3/4 [scikit-learn]\n",
      "   ------------------------------ --------- 3/4 [scikit-learn]\n",
      "   ------------------------------ --------- 3/4 [scikit-learn]\n",
      "   ------------------------------ --------- 3/4 [scikit-learn]\n",
      "   ------------------------------ --------- 3/4 [scikit-learn]\n",
      "   ------------------------------ --------- 3/4 [scikit-learn]\n",
      "   ------------------------------ --------- 3/4 [scikit-learn]\n",
      "   ------------------------------ --------- 3/4 [scikit-learn]\n",
      "   ------------------------------ --------- 3/4 [scikit-learn]\n",
      "   ------------------------------ --------- 3/4 [scikit-learn]\n",
      "   ------------------------------ --------- 3/4 [scikit-learn]\n",
      "   ------------------------------ --------- 3/4 [scikit-learn]\n",
      "   ------------------------------ --------- 3/4 [scikit-learn]\n",
      "   ------------------------------ --------- 3/4 [scikit-learn]\n",
      "   ------------------------------ --------- 3/4 [scikit-learn]\n",
      "   ------------------------------ --------- 3/4 [scikit-learn]\n",
      "   ------------------------------ --------- 3/4 [scikit-learn]\n",
      "   ------------------------------ --------- 3/4 [scikit-learn]\n",
      "   ------------------------------ --------- 3/4 [scikit-learn]\n",
      "   ------------------------------ --------- 3/4 [scikit-learn]\n",
      "   ------------------------------ --------- 3/4 [scikit-learn]\n",
      "   ------------------------------ --------- 3/4 [scikit-learn]\n",
      "   ---------------------------------------- 4/4 [scikit-learn]\n",
      "\n",
      "Successfully installed joblib-1.5.0 scikit-learn-1.6.1 scipy-1.15.3 threadpoolctl-3.6.0\n"
     ]
    }
   ],
   "source": [
    "!pip install scikit-learn"
   ]
  },
  {
   "cell_type": "code",
   "execution_count": null,
   "metadata": {},
   "outputs": [],
   "source": [
    "# Stap 1: embedded data maken\n",
    "embedder = SpectralEmbedding(n_components=2, affinity='precomputed')\n",
    "X_embedded = embedder.fit_transform(network_norm)"
   ]
  },
  {
   "cell_type": "code",
   "execution_count": null,
   "metadata": {},
   "outputs": [],
   "source": [
    "from sklearn.manifold import SpectralEmbedding\n",
    "from sklearn.pipeline import Pipeline\n",
    "from sklearn.cluster import KMeans\n",
    "\n",
    "# Stap 2: clustering via pipeline (indien gewenst)\n",
    "pipeline = Pipeline([\n",
    "    ('kmeans', KMeans(n_clusters=15, random_state=42))\n",
    "])\n",
    "\n",
    "labels = pipeline.fit_predict(X_embedded)"
   ]
  },
  {
   "cell_type": "code",
   "execution_count": 80,
   "metadata": {},
   "outputs": [
    {
     "data": {
      "application/vnd.plotly.v1+json": {
       "config": {
        "plotlyServerURL": "https://plot.ly"
       },
       "data": [
        {
         "coloraxis": "coloraxis",
         "geo": "geo",
         "hovertemplate": "<b>%{hovertext}</b><br><br>iso_alpha=%{location}<br>cluster=%{z}<extra></extra>",
         "hovertext": [
          "AE",
          "AF",
          "AI",
          "AL",
          "AM",
          "AO",
          "AR",
          "AT",
          "AU",
          "AZ",
          "BA",
          "BD",
          "BE",
          "BF",
          "BG",
          "BH",
          "BI",
          "BJ",
          "BO",
          "BQ",
          "BR",
          "BW",
          "BY",
          "BZ",
          "CA",
          "CD",
          "CG",
          "CH",
          "CI",
          "CL",
          "CM",
          "CN",
          "CO",
          "CR",
          "CU",
          "CV",
          "CY",
          "CZ",
          "DE",
          "DJ",
          "DK",
          "DO",
          "DZ",
          "EC",
          "EE",
          "EG",
          "EL",
          "ES",
          "ET",
          "FI",
          "FO",
          "FR",
          "GA",
          "GD",
          "GE",
          "GH",
          "GI",
          "GL",
          "GT",
          "HK",
          "HN",
          "HR",
          "HU",
          "ID",
          "IE",
          "IL",
          "IN",
          "IQ",
          "IR",
          "IS",
          "IT",
          "JE",
          "JM",
          "JO",
          "JP",
          "KE",
          "KG",
          "KH",
          "KR",
          "KW",
          "KZ",
          "LB",
          "LI",
          "LK",
          "LR",
          "LS",
          "LT",
          "LU",
          "LV",
          "LY",
          "MA",
          "MC",
          "MD",
          "ME",
          "MG",
          "MH",
          "MK",
          "ML",
          "MM",
          "MN",
          "MR",
          "MT",
          "MU",
          "MV",
          "MW",
          "MX",
          "MY",
          "MZ",
          "NC",
          "NE",
          "NG",
          "NI",
          "NL",
          "NO",
          "NP",
          "NZ",
          "OM",
          "PA",
          "PE",
          "PF",
          "PH",
          "PK",
          "PL",
          "PS",
          "PT",
          "PY",
          "QA",
          "RO",
          "RS",
          "RU",
          "RW",
          "SA",
          "SC",
          "SD",
          "SE",
          "SG",
          "SI",
          "SK",
          "SL",
          "SN",
          "SR",
          "SX",
          "SZ",
          "TD",
          "TG",
          "TH",
          "TJ",
          "TM",
          "TN",
          "TR",
          "TW",
          "TZ",
          "UA",
          "UG",
          "UK",
          "US",
          "UY",
          "UZ",
          "VG",
          "VN",
          "WF",
          "XK",
          "YE",
          "ZA",
          "ZM",
          "ZW",
          "ZZ"
         ],
         "locations": [
          "ARE",
          "AFG",
          "AIA",
          "ALB",
          "ARM",
          "AGO",
          "ARG",
          "AUT",
          "AUS",
          "AZE",
          "BIH",
          "BGD",
          "BEL",
          "BFA",
          "BGR",
          "BHR",
          "BDI",
          "BEN",
          "BOL",
          "BES",
          "BRA",
          "BWA",
          "BLR",
          "BLZ",
          "CAN",
          "COD",
          "COG",
          "CHE",
          "CIV",
          "CHL",
          "CMR",
          "CHN",
          "COL",
          "CRI",
          "CUB",
          "CPV",
          "CYP",
          "CZE",
          "DEU",
          "DJI",
          "DNK",
          "DOM",
          "DZA",
          "ECU",
          "EST",
          "EGY",
          null,
          "ESP",
          "ETH",
          "FIN",
          "FRO",
          "FRA",
          "GAB",
          "GRD",
          "GEO",
          "GHA",
          "GIB",
          "GRL",
          "GTM",
          "HKG",
          "HND",
          "HRV",
          "HUN",
          "IDN",
          "IRL",
          "ISR",
          "IND",
          "IRQ",
          "IRN",
          "ISL",
          "ITA",
          "JEY",
          "JAM",
          "JOR",
          "JPN",
          "KEN",
          "KGZ",
          "KHM",
          "KOR",
          "KWT",
          "KAZ",
          "LBN",
          "LIE",
          "LKA",
          "LBR",
          "LSO",
          "LTU",
          "LUX",
          "LVA",
          "LBY",
          "MAR",
          "MCO",
          "MDA",
          "MNE",
          "MDG",
          "MHL",
          "MKD",
          "MLI",
          "MMR",
          "MNG",
          "MRT",
          "MLT",
          "MUS",
          "MDV",
          "MWI",
          "MEX",
          "MYS",
          "MOZ",
          "NCL",
          "NER",
          "NGA",
          "NIC",
          "NLD",
          "NOR",
          "NPL",
          "NZL",
          "OMN",
          "PAN",
          "PER",
          "PYF",
          "PHL",
          "PAK",
          "POL",
          "PSE",
          "PRT",
          "PRY",
          "QAT",
          "ROU",
          "SRB",
          "RUS",
          "RWA",
          "SAU",
          "SYC",
          "SDN",
          "SWE",
          "SGP",
          "SVN",
          "SVK",
          "SLE",
          "SEN",
          "SUR",
          "SXM",
          "SWZ",
          "TCD",
          "TGO",
          "THA",
          "TJK",
          "TKM",
          "TUN",
          "TUR",
          "TWN",
          "TZA",
          "UKR",
          "UGA",
          null,
          "USA",
          "URY",
          "UZB",
          "VGB",
          "VNM",
          "WLF",
          null,
          "YEM",
          "ZAF",
          "ZMB",
          "ZWE",
          null
         ],
         "name": "",
         "type": "choropleth",
         "z": {
          "bdata": "AAAAAAQAAAAAAAAACAAAAAgAAAAEAAAADQAAAAAAAAAAAAAACAAAAAgAAAAFAAAADgAAAAQAAAAAAAAAAgAAAAwAAAAEAAAACwAAAAEAAAAIAAAABAAAAAgAAAANAAAABgAAAAQAAAAFAAAADgAAAAQAAAANAAAABAAAAAYAAAANAAAABQAAAAsAAAAEAAAAAAAAAAAAAAAOAAAABAAAAAkAAAAAAAAABAAAAAUAAAAAAAAABQAAAAAAAAAOAAAABAAAAA4AAAAIAAAADgAAAAUAAAALAAAACAAAAAsAAAAIAAAAAAAAAA0AAAAAAAAABAAAAAoAAAAAAAAADQAAAAAAAAAAAAAACAAAAAUAAAAFAAAABgAAAA4AAAAAAAAABQAAAAUAAAAAAAAACwAAAAwAAAALAAAACAAAAAAAAAAHAAAABQAAAAAAAAAMAAAAAAAAAAwAAAAAAAAAAAAAAAAAAAALAAAACwAAAAAAAAAIAAAACAAAAAQAAAAAAAAACAAAAAQAAAAFAAAABQAAAAQAAAAAAAAADAAAAAAAAAAEAAAABQAAAA0AAAAEAAAACwAAAAQAAAAEAAAACwAAAA4AAAAOAAAABAAAAAgAAAACAAAACwAAAAUAAAALAAAABQAAAAQAAAAAAAAABQAAAAAAAAAFAAAABQAAAA4AAAAAAAAAAAAAAAQAAAADAAAABAAAAAwAAAAOAAAACwAAAAkAAAAAAAAABAAAAAsAAAALAAAAAQAAAAwAAAAMAAAABAAAAAUAAAAHAAAABwAAAAUAAAAJAAAACAAAAAQAAAAAAAAABAAAAA4AAAAAAAAABQAAAAcAAAAOAAAABQAAAAAAAAAFAAAABAAAAA0AAAAEAAAADAAAAAUAAAA=",
          "dtype": "i4"
         }
        }
       ],
       "layout": {
        "coloraxis": {
         "colorbar": {
          "title": {
           "text": "cluster"
          }
         },
         "colorscale": [
          [
           0,
           "rgb(141,211,199)"
          ],
          [
           0.09090909090909091,
           "rgb(255,255,179)"
          ],
          [
           0.18181818181818182,
           "rgb(190,186,218)"
          ],
          [
           0.2727272727272727,
           "rgb(251,128,114)"
          ],
          [
           0.36363636363636365,
           "rgb(128,177,211)"
          ],
          [
           0.45454545454545453,
           "rgb(253,180,98)"
          ],
          [
           0.5454545454545454,
           "rgb(179,222,105)"
          ],
          [
           0.6363636363636364,
           "rgb(252,205,229)"
          ],
          [
           0.7272727272727273,
           "rgb(217,217,217)"
          ],
          [
           0.8181818181818182,
           "rgb(188,128,189)"
          ],
          [
           0.9090909090909091,
           "rgb(204,235,197)"
          ],
          [
           1,
           "rgb(255,237,111)"
          ]
         ]
        },
        "geo": {
         "center": {},
         "coastlinecolor": "Gray",
         "countrycolor": "LightGray",
         "domain": {
          "x": [
           0,
           1
          ],
          "y": [
           0,
           1
          ]
         },
         "projection": {
          "type": "natural earth"
         },
         "showcoastlines": true,
         "showcountries": true
        },
        "legend": {
         "tracegroupgap": 0
        },
        "margin": {
         "b": 0,
         "l": 0,
         "r": 0,
         "t": 50
        },
        "template": {
         "data": {
          "bar": [
           {
            "error_x": {
             "color": "#2a3f5f"
            },
            "error_y": {
             "color": "#2a3f5f"
            },
            "marker": {
             "line": {
              "color": "#E5ECF6",
              "width": 0.5
             },
             "pattern": {
              "fillmode": "overlay",
              "size": 10,
              "solidity": 0.2
             }
            },
            "type": "bar"
           }
          ],
          "barpolar": [
           {
            "marker": {
             "line": {
              "color": "#E5ECF6",
              "width": 0.5
             },
             "pattern": {
              "fillmode": "overlay",
              "size": 10,
              "solidity": 0.2
             }
            },
            "type": "barpolar"
           }
          ],
          "carpet": [
           {
            "aaxis": {
             "endlinecolor": "#2a3f5f",
             "gridcolor": "white",
             "linecolor": "white",
             "minorgridcolor": "white",
             "startlinecolor": "#2a3f5f"
            },
            "baxis": {
             "endlinecolor": "#2a3f5f",
             "gridcolor": "white",
             "linecolor": "white",
             "minorgridcolor": "white",
             "startlinecolor": "#2a3f5f"
            },
            "type": "carpet"
           }
          ],
          "choropleth": [
           {
            "colorbar": {
             "outlinewidth": 0,
             "ticks": ""
            },
            "type": "choropleth"
           }
          ],
          "contour": [
           {
            "colorbar": {
             "outlinewidth": 0,
             "ticks": ""
            },
            "colorscale": [
             [
              0,
              "#0d0887"
             ],
             [
              0.1111111111111111,
              "#46039f"
             ],
             [
              0.2222222222222222,
              "#7201a8"
             ],
             [
              0.3333333333333333,
              "#9c179e"
             ],
             [
              0.4444444444444444,
              "#bd3786"
             ],
             [
              0.5555555555555556,
              "#d8576b"
             ],
             [
              0.6666666666666666,
              "#ed7953"
             ],
             [
              0.7777777777777778,
              "#fb9f3a"
             ],
             [
              0.8888888888888888,
              "#fdca26"
             ],
             [
              1,
              "#f0f921"
             ]
            ],
            "type": "contour"
           }
          ],
          "contourcarpet": [
           {
            "colorbar": {
             "outlinewidth": 0,
             "ticks": ""
            },
            "type": "contourcarpet"
           }
          ],
          "heatmap": [
           {
            "colorbar": {
             "outlinewidth": 0,
             "ticks": ""
            },
            "colorscale": [
             [
              0,
              "#0d0887"
             ],
             [
              0.1111111111111111,
              "#46039f"
             ],
             [
              0.2222222222222222,
              "#7201a8"
             ],
             [
              0.3333333333333333,
              "#9c179e"
             ],
             [
              0.4444444444444444,
              "#bd3786"
             ],
             [
              0.5555555555555556,
              "#d8576b"
             ],
             [
              0.6666666666666666,
              "#ed7953"
             ],
             [
              0.7777777777777778,
              "#fb9f3a"
             ],
             [
              0.8888888888888888,
              "#fdca26"
             ],
             [
              1,
              "#f0f921"
             ]
            ],
            "type": "heatmap"
           }
          ],
          "histogram": [
           {
            "marker": {
             "pattern": {
              "fillmode": "overlay",
              "size": 10,
              "solidity": 0.2
             }
            },
            "type": "histogram"
           }
          ],
          "histogram2d": [
           {
            "colorbar": {
             "outlinewidth": 0,
             "ticks": ""
            },
            "colorscale": [
             [
              0,
              "#0d0887"
             ],
             [
              0.1111111111111111,
              "#46039f"
             ],
             [
              0.2222222222222222,
              "#7201a8"
             ],
             [
              0.3333333333333333,
              "#9c179e"
             ],
             [
              0.4444444444444444,
              "#bd3786"
             ],
             [
              0.5555555555555556,
              "#d8576b"
             ],
             [
              0.6666666666666666,
              "#ed7953"
             ],
             [
              0.7777777777777778,
              "#fb9f3a"
             ],
             [
              0.8888888888888888,
              "#fdca26"
             ],
             [
              1,
              "#f0f921"
             ]
            ],
            "type": "histogram2d"
           }
          ],
          "histogram2dcontour": [
           {
            "colorbar": {
             "outlinewidth": 0,
             "ticks": ""
            },
            "colorscale": [
             [
              0,
              "#0d0887"
             ],
             [
              0.1111111111111111,
              "#46039f"
             ],
             [
              0.2222222222222222,
              "#7201a8"
             ],
             [
              0.3333333333333333,
              "#9c179e"
             ],
             [
              0.4444444444444444,
              "#bd3786"
             ],
             [
              0.5555555555555556,
              "#d8576b"
             ],
             [
              0.6666666666666666,
              "#ed7953"
             ],
             [
              0.7777777777777778,
              "#fb9f3a"
             ],
             [
              0.8888888888888888,
              "#fdca26"
             ],
             [
              1,
              "#f0f921"
             ]
            ],
            "type": "histogram2dcontour"
           }
          ],
          "mesh3d": [
           {
            "colorbar": {
             "outlinewidth": 0,
             "ticks": ""
            },
            "type": "mesh3d"
           }
          ],
          "parcoords": [
           {
            "line": {
             "colorbar": {
              "outlinewidth": 0,
              "ticks": ""
             }
            },
            "type": "parcoords"
           }
          ],
          "pie": [
           {
            "automargin": true,
            "type": "pie"
           }
          ],
          "scatter": [
           {
            "fillpattern": {
             "fillmode": "overlay",
             "size": 10,
             "solidity": 0.2
            },
            "type": "scatter"
           }
          ],
          "scatter3d": [
           {
            "line": {
             "colorbar": {
              "outlinewidth": 0,
              "ticks": ""
             }
            },
            "marker": {
             "colorbar": {
              "outlinewidth": 0,
              "ticks": ""
             }
            },
            "type": "scatter3d"
           }
          ],
          "scattercarpet": [
           {
            "marker": {
             "colorbar": {
              "outlinewidth": 0,
              "ticks": ""
             }
            },
            "type": "scattercarpet"
           }
          ],
          "scattergeo": [
           {
            "marker": {
             "colorbar": {
              "outlinewidth": 0,
              "ticks": ""
             }
            },
            "type": "scattergeo"
           }
          ],
          "scattergl": [
           {
            "marker": {
             "colorbar": {
              "outlinewidth": 0,
              "ticks": ""
             }
            },
            "type": "scattergl"
           }
          ],
          "scattermap": [
           {
            "marker": {
             "colorbar": {
              "outlinewidth": 0,
              "ticks": ""
             }
            },
            "type": "scattermap"
           }
          ],
          "scattermapbox": [
           {
            "marker": {
             "colorbar": {
              "outlinewidth": 0,
              "ticks": ""
             }
            },
            "type": "scattermapbox"
           }
          ],
          "scatterpolar": [
           {
            "marker": {
             "colorbar": {
              "outlinewidth": 0,
              "ticks": ""
             }
            },
            "type": "scatterpolar"
           }
          ],
          "scatterpolargl": [
           {
            "marker": {
             "colorbar": {
              "outlinewidth": 0,
              "ticks": ""
             }
            },
            "type": "scatterpolargl"
           }
          ],
          "scatterternary": [
           {
            "marker": {
             "colorbar": {
              "outlinewidth": 0,
              "ticks": ""
             }
            },
            "type": "scatterternary"
           }
          ],
          "surface": [
           {
            "colorbar": {
             "outlinewidth": 0,
             "ticks": ""
            },
            "colorscale": [
             [
              0,
              "#0d0887"
             ],
             [
              0.1111111111111111,
              "#46039f"
             ],
             [
              0.2222222222222222,
              "#7201a8"
             ],
             [
              0.3333333333333333,
              "#9c179e"
             ],
             [
              0.4444444444444444,
              "#bd3786"
             ],
             [
              0.5555555555555556,
              "#d8576b"
             ],
             [
              0.6666666666666666,
              "#ed7953"
             ],
             [
              0.7777777777777778,
              "#fb9f3a"
             ],
             [
              0.8888888888888888,
              "#fdca26"
             ],
             [
              1,
              "#f0f921"
             ]
            ],
            "type": "surface"
           }
          ],
          "table": [
           {
            "cells": {
             "fill": {
              "color": "#EBF0F8"
             },
             "line": {
              "color": "white"
             }
            },
            "header": {
             "fill": {
              "color": "#C8D4E3"
             },
             "line": {
              "color": "white"
             }
            },
            "type": "table"
           }
          ]
         },
         "layout": {
          "annotationdefaults": {
           "arrowcolor": "#2a3f5f",
           "arrowhead": 0,
           "arrowwidth": 1
          },
          "autotypenumbers": "strict",
          "coloraxis": {
           "colorbar": {
            "outlinewidth": 0,
            "ticks": ""
           }
          },
          "colorscale": {
           "diverging": [
            [
             0,
             "#8e0152"
            ],
            [
             0.1,
             "#c51b7d"
            ],
            [
             0.2,
             "#de77ae"
            ],
            [
             0.3,
             "#f1b6da"
            ],
            [
             0.4,
             "#fde0ef"
            ],
            [
             0.5,
             "#f7f7f7"
            ],
            [
             0.6,
             "#e6f5d0"
            ],
            [
             0.7,
             "#b8e186"
            ],
            [
             0.8,
             "#7fbc41"
            ],
            [
             0.9,
             "#4d9221"
            ],
            [
             1,
             "#276419"
            ]
           ],
           "sequential": [
            [
             0,
             "#0d0887"
            ],
            [
             0.1111111111111111,
             "#46039f"
            ],
            [
             0.2222222222222222,
             "#7201a8"
            ],
            [
             0.3333333333333333,
             "#9c179e"
            ],
            [
             0.4444444444444444,
             "#bd3786"
            ],
            [
             0.5555555555555556,
             "#d8576b"
            ],
            [
             0.6666666666666666,
             "#ed7953"
            ],
            [
             0.7777777777777778,
             "#fb9f3a"
            ],
            [
             0.8888888888888888,
             "#fdca26"
            ],
            [
             1,
             "#f0f921"
            ]
           ],
           "sequentialminus": [
            [
             0,
             "#0d0887"
            ],
            [
             0.1111111111111111,
             "#46039f"
            ],
            [
             0.2222222222222222,
             "#7201a8"
            ],
            [
             0.3333333333333333,
             "#9c179e"
            ],
            [
             0.4444444444444444,
             "#bd3786"
            ],
            [
             0.5555555555555556,
             "#d8576b"
            ],
            [
             0.6666666666666666,
             "#ed7953"
            ],
            [
             0.7777777777777778,
             "#fb9f3a"
            ],
            [
             0.8888888888888888,
             "#fdca26"
            ],
            [
             1,
             "#f0f921"
            ]
           ]
          },
          "colorway": [
           "#636efa",
           "#EF553B",
           "#00cc96",
           "#ab63fa",
           "#FFA15A",
           "#19d3f3",
           "#FF6692",
           "#B6E880",
           "#FF97FF",
           "#FECB52"
          ],
          "font": {
           "color": "#2a3f5f"
          },
          "geo": {
           "bgcolor": "white",
           "lakecolor": "white",
           "landcolor": "#E5ECF6",
           "showlakes": true,
           "showland": true,
           "subunitcolor": "white"
          },
          "hoverlabel": {
           "align": "left"
          },
          "hovermode": "closest",
          "mapbox": {
           "style": "light"
          },
          "paper_bgcolor": "white",
          "plot_bgcolor": "#E5ECF6",
          "polar": {
           "angularaxis": {
            "gridcolor": "white",
            "linecolor": "white",
            "ticks": ""
           },
           "bgcolor": "#E5ECF6",
           "radialaxis": {
            "gridcolor": "white",
            "linecolor": "white",
            "ticks": ""
           }
          },
          "scene": {
           "xaxis": {
            "backgroundcolor": "#E5ECF6",
            "gridcolor": "white",
            "gridwidth": 2,
            "linecolor": "white",
            "showbackground": true,
            "ticks": "",
            "zerolinecolor": "white"
           },
           "yaxis": {
            "backgroundcolor": "#E5ECF6",
            "gridcolor": "white",
            "gridwidth": 2,
            "linecolor": "white",
            "showbackground": true,
            "ticks": "",
            "zerolinecolor": "white"
           },
           "zaxis": {
            "backgroundcolor": "#E5ECF6",
            "gridcolor": "white",
            "gridwidth": 2,
            "linecolor": "white",
            "showbackground": true,
            "ticks": "",
            "zerolinecolor": "white"
           }
          },
          "shapedefaults": {
           "line": {
            "color": "#2a3f5f"
           }
          },
          "ternary": {
           "aaxis": {
            "gridcolor": "white",
            "linecolor": "white",
            "ticks": ""
           },
           "baxis": {
            "gridcolor": "white",
            "linecolor": "white",
            "ticks": ""
           },
           "bgcolor": "#E5ECF6",
           "caxis": {
            "gridcolor": "white",
            "linecolor": "white",
            "ticks": ""
           }
          },
          "title": {
           "x": 0.05
          },
          "xaxis": {
           "automargin": true,
           "gridcolor": "white",
           "linecolor": "white",
           "ticks": "",
           "title": {
            "standoff": 15
           },
           "zerolinecolor": "white",
           "zerolinewidth": 2
          },
          "yaxis": {
           "automargin": true,
           "gridcolor": "white",
           "linecolor": "white",
           "ticks": "",
           "title": {
            "standoff": 15
           },
           "zerolinecolor": "white",
           "zerolinewidth": 2
          }
         }
        },
        "title": {
         "text": "Clustering van landen op basis van samenwerking"
        }
       }
      }
     },
     "metadata": {},
     "output_type": "display_data"
    }
   ],
   "source": [
    "import plotly.express as px\n",
    "import pycountry\n",
    "import pandas as pd\n",
    "\n",
    "# Helper: ISO2 → ISO3\n",
    "def iso2_to_iso3(code):\n",
    "    try:\n",
    "        return pycountry.countries.get(alpha_2=code).alpha_3\n",
    "    except:\n",
    "        return None\n",
    "\n",
    "# Maak dataframe met landen en clusters\n",
    "df_map = pd.DataFrame({\n",
    "    'country': countries,         # ISO2-code (bv. 'BE', 'FR', ...)\n",
    "    'cluster': labels\n",
    "})\n",
    "\n",
    "# Zet om naar ISO3 voor Plotly\n",
    "df_map['iso_alpha'] = df_map['country'].apply(iso2_to_iso3)\n",
    "\n",
    "# Plot interactieve wereldkaart\n",
    "fig = px.choropleth(\n",
    "    df_map,\n",
    "    locations='iso_alpha',\n",
    "    color='cluster',\n",
    "    hover_name='country',\n",
    "    color_continuous_scale=px.colors.qualitative.Set3,  # Mooie discrete kleuren\n",
    "    projection='natural earth',\n",
    "    title='Clustering van landen op basis van samenwerking'\n",
    ")\n",
    "\n",
    "fig.update_geos(\n",
    "    showcountries=True,\n",
    "    countrycolor=\"LightGray\",\n",
    "    showcoastlines=True,\n",
    "    coastlinecolor=\"Gray\"\n",
    ")\n",
    "fig.update_layout(margin={\"r\":0,\"t\":50,\"l\":0,\"b\":0})\n",
    "fig.show()"
   ]
  },
  {
   "cell_type": "code",
   "execution_count": 61,
   "metadata": {},
   "outputs": [
    {
     "name": "stdout",
     "output_type": "stream",
     "text": [
      "20\n",
      "20\n",
      "2535\n"
     ]
    }
   ],
   "source": [
    "print(network_df.loc['RU','US'])\n",
    "print(network_df.loc['CA','IS'])\n",
    "print(network_df.loc['BE','FR'])"
   ]
  },
  {
   "cell_type": "code",
   "execution_count": 73,
   "metadata": {},
   "outputs": [],
   "source": [
    "# Maak DataFrame met landen en clusters\n",
    "KMeans_result = pd.DataFrame({\n",
    "    'country': distance_matrix.index,  # ISO2 codes zoals 'BE', 'DE'\n",
    "    'cluster': KMeanslabels\n",
    "})\n",
    "\n",
    "# Zet om naar ISO3 voor Plotly\n",
    "KMeans_result['iso_alpha'] = KMeans_result['country'].apply(iso2_to_iso3)\n",
    "\n",
    "# Verwijder landen zonder geldige ISO3-code\n",
    "KMeans_result = KMeans_result[KMeans_result['iso_alpha'].notnull()]\n",
    "\n",
    "fig = px.choropleth(\n",
    "    KMeans_result,\n",
    "    locations='iso_alpha',\n",
    "    color='cluster',\n",
    "    hover_name='country',\n",
    "    color_continuous_scale=px.colors.qualitative.Set3,\n",
    "    projection='natural earth',\n",
    "    title='KMeans clustering van landen op basis van samenwerking'\n",
    ")\n",
    "\n",
    "fig.update_geos(\n",
    "    showcountries=True,\n",
    "    countrycolor=\"LightGray\",\n",
    "    showcoastlines=True,\n",
    "    coastlinecolor=\"Gray\"\n",
    ")\n",
    "fig.update_layout(margin={\"r\":0,\"t\":50,\"l\":0,\"b\":0})\n",
    "fig.show()\n"
   ]
  },
  {
   "cell_type": "code",
   "execution_count": null,
   "metadata": {},
   "outputs": [],
   "source": [
    "from sklearn.cluster import SpectralClustering\n",
    "spectral = SpectralClustering(n_clusters=10,\n",
    "        assign_labels='discretize',\n",
    "        random_state=42, affinity = 'precomputed').fit(network_norm)\n",
    "spectral_labels = spectral.labels_"
   ]
  },
  {
   "cell_type": "code",
   "execution_count": null,
   "metadata": {},
   "outputs": [],
   "source": [
    "def iso2_to_iso3(code):\n",
    "    try:\n",
    "        return pycountry.countries.get(alpha_2=code).alpha_3\n",
    "    except:\n",
    "        return None\n",
    "\n",
    "# Maak dataframe met landen en clusters\n",
    "df_map = cluster_result.copy()\n",
    "df_map.rename(columns={'Land': 'country', 'Cluster': 'cluster'}, inplace=True)\n",
    "\n",
    "\n",
    "# Zet om naar ISO3 voor Plotly\n",
    "spectral_result['iso_alpha'] = spectral_result['country'].apply(iso2_to_iso3)\n",
    "\n",
    "# Verwijder landen zonder geldige ISO3-code\n",
    "spectral_result = spectral_result[spectral_result['iso_alpha'].notnull()]\n",
    "\n",
    "fig = px.choropleth(\n",
    "    spectral_result,\n",
    "    locations='iso_alpha',\n",
    "    color='cluster',\n",
    "    hover_name='country',\n",
    "    color_continuous_scale=px.colors.qualitative.Set3,\n",
    "    projection='natural earth',\n",
    "    title='KMeans clustering van landen op basis van samenwerking'\n",
    ")\n",
    "\n",
    "# Stap 4: maak een dataframe of matrix met deze counts\n",
    "countries = sorted(df2020_organization['country'].unique())\n",
    "network_df = pd.DataFrame(0, index=countries, columns=countries)\n",
    "\n",
    "# Vul de matrix\n",
    "for (country1, country2), count in pair_counts.items():\n",
    "    network_df.at[country1, country2] = count\n",
    "    network_df.at[country2, country1] = count  # symmetrisch\n",
    "\n",
    "# Optional: je kunt ook de diagonalen invullen met zelfde-land-samenwerkingen als je dat wilt\n",
    "network_df.to_csv('landen_samenwerking_matrix.csv')"
   ]
  }
 ],
 "metadata": {
  "kernelspec": {
   "display_name": "MDAnew",
   "language": "python",
   "name": "python3"
  },
  "language_info": {
   "codemirror_mode": {
    "name": "ipython",
    "version": 3
   },
   "file_extension": ".py",
   "mimetype": "text/x-python",
   "name": "python",
   "nbconvert_exporter": "python",
   "pygments_lexer": "ipython3",
   "version": "3.10.16"
  }
 },
 "nbformat": 4,
 "nbformat_minor": 2
}
