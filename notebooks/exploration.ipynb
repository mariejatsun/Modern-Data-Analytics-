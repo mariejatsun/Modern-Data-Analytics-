{
 "cells": [
  {
   "cell_type": "code",
   "execution_count": 2,
   "id": "3b43bb96",
   "metadata": {},
   "outputs": [],
   "source": [
    "# Import packages\n",
    "import pandas as pd\n",
    "import numpy as np\n",
    "import itertools\n",
    "from collections import Counter\n",
    "\n",
    "# Plots\n",
    "import matplotlib.pyplot as plt\n",
    "import pycountry\n",
    "from countryinfo import CountryInfo\n",
    "import plotly.express as px\n",
    "import plotly.graph_objects as go\n",
    "from ipywidgets import Dropdown, Output, VBox, Checkbox, HBox, Layout, IntRangeSlider, ToggleButtons\n",
    "from IPython.display import display, HTML\n",
    "\n",
    "# Clustering\n",
    "import hdbscan\n",
    "from scipy.cluster.hierarchy import dendrogram, linkage\n",
    "from scipy.spatial.distance import squareform\n",
    "from sklearn.cluster import KMeans, HDBSCAN, AgglomerativeClustering\n",
    "from sklearn.metrics import silhouette_score, silhouette_samples\n",
    "import seaborn as sns"
   ]
  },
  {
   "cell_type": "markdown",
   "id": "5cb7f1f8",
   "metadata": {},
   "source": [
    "# Check for Missing Values and Duplicates"
   ]
  },
  {
   "cell_type": "code",
   "execution_count": 3,
   "id": "16d8bb3b",
   "metadata": {},
   "outputs": [],
   "source": [
    "# Paths 2020 and 2024\n",
    "csv_path2020_euroSciVoc = \"../data/cordis-h2020projects-csv/euroSciVoc.csv\"\n",
    "csv_path2020_organization = \"../data/cordis-h2020projects-csv/organization.csv\"\n",
    "csv_path2020_project = \"../data/cordis-h2020projects-csv/project.csv\"\n",
    "csv_path2020_publication = \"../data/cordis-h2020projects-csv/projectPublications2020.csv\"\n",
    "csv_path2020_publication_citation = \"../data/cordis-h2020projects-csv/updated_publications_with_citations_2020.csv\"\n",
    "\n",
    "csv_path2024_euroSciVoc = \"../data/cordis-HORIZONprojects-csv/euroSciVoc.csv\"\n",
    "csv_path2024_organization = \"../data/cordis-HORIZONprojects-csv/organization.csv\"\n",
    "csv_path2024_project = \"../data/cordis-HORIZONprojects-csv/project.csv\"\n",
    "csv_path2024_publication = \"../data/cordis-HORIZONprojects-csv/projectPublications2024.csv\"\n",
    "csv_path2024_publication_citation = \"../data/cordis-HORIZONprojects-csv/updated_publications_with_citations_2024.csv\"\n"
   ]
  },
  {
   "cell_type": "code",
   "execution_count": 5,
   "id": "1f1b529f",
   "metadata": {},
   "outputs": [],
   "source": [
    "## for horizon 2020 MISSING VALUES AND DUPLICATES\n",
    "\n",
    "# Dataframes inlezen\n",
    "df2020_euroSciVoc = pd.read_csv(csv_path2020_euroSciVoc, delimiter=\";\", on_bad_lines=\"skip\", low_memory=False)\n",
    "df2020_organization = pd.read_csv(csv_path2020_organization, delimiter=\";\", on_bad_lines=\"skip\", low_memory=False)\n",
    "df2020_project = pd.read_csv(csv_path2020_project, delimiter=\";\", on_bad_lines=\"skip\", low_memory=False)\n",
    "df2020_publication = pd.read_csv(csv_path2020_publication,delimiter=\";\", on_bad_lines=\"skip\", low_memory=False)\n",
    "df2020_publication_citation = pd.read_csv(csv_path2020_publication_citation, delimiter=\",\", on_bad_lines=\"skip\", low_memory=False)\n",
    "\n",
    "# Verplichte kolommen per dataframe\n",
    "cleaning_specs = {\n",
    "    \"df2020_project\": [\"id\", \"title\", \"startDate\", \"ecMaxContribution\"],\n",
    "    \"df2020_organization\": [\"projectID\", \"organisationID\", \"role\", \"country\", \"ecContribution\"],\n",
    "    \"df2020_euroSciVoc\": [\"projectID\"],\n",
    "    \"df2020_publication\": [\"projectID\", \"doi\"],\n",
    "    #\"df2020_publication_citation\": [\"doi\", \"title\", \"publishedYear\", \"citation_count\"]\n",
    "}\n",
    "\n",
    "# Loop over alle dataframes en pas cleaning toe\n",
    "for name, required_cols in cleaning_specs.items():\n",
    "    df = globals()[name]\n",
    "    df.drop_duplicates(inplace=True)\n",
    "    df.dropna(subset=required_cols, inplace=True)\n"
   ]
  },
  {
   "cell_type": "code",
   "execution_count": 6,
   "id": "c2c57d2c",
   "metadata": {},
   "outputs": [],
   "source": [
    "\n",
    "## for horizon 2024\n",
    "# Dataframes inlezen\n",
    "df2024_euroSciVoc = pd.read_csv(csv_path2024_euroSciVoc, delimiter=\";\", on_bad_lines=\"skip\", low_memory=False)\n",
    "df2024_organization = pd.read_csv(csv_path2024_organization, delimiter=\";\", on_bad_lines=\"skip\", low_memory=False)\n",
    "df2024_project = pd.read_csv(csv_path2024_project, delimiter=\";\", on_bad_lines=\"skip\", low_memory=False)\n",
    "df2024_publication=pd.read_csv(csv_path2024_publication,  delimiter=\";\", on_bad_lines=\"skip\", low_memory=False)\n",
    "df2024_publication_citation = pd.read_csv(csv_path2024_publication_citation, delimiter=\",\", on_bad_lines=\"skip\", low_memory=False)\n",
    "\n",
    "# Vereiste kolommen per df2024_... bestand\n",
    "cleaning_specs_2024 = {\n",
    "    \"df2024_project\": [\"id\", \"title\", \"startDate\", \"ecMaxContribution\"],\n",
    "    \"df2024_organization\": [\"projectID\", \"organisationID\", \"role\", \"country\", \"ecContribution\"],\n",
    "    \"df2024_euroSciVoc\": [\"projectID\"],\n",
    "    \"df2024_publication\": [\"projectID\", \"doi\"],\n",
    "    \"df2024_publication_citation\": [\"doi\", \"title\", \"publishedYear\", \"citation_count\"]\n",
    "}\n",
    "\n",
    "# Loop door elke dataframe en pas cleaning toe\n",
    "for name, required_cols in cleaning_specs_2024.items():\n",
    "    df = globals()[name]\n",
    "    df.drop_duplicates(inplace=True)\n",
    "    df.dropna(subset=required_cols, inplace=True)\n",
    "\n",
    "\n"
   ]
  },
  {
   "cell_type": "code",
   "execution_count": 7,
   "id": "0035191a",
   "metadata": {},
   "outputs": [
    {
     "name": "stdout",
     "output_type": "stream",
     "text": [
      "df_project shape: (50315, 21)\n",
      "df_organization shape: (254699, 26)\n",
      "df_euroSciVoc shape: (152982, 6)\n",
      "df_publication shape: (377900, 17)\n",
      "df_publication_citation shape: (375558, 18)\n"
     ]
    }
   ],
   "source": [
    "# Add a 'source' column to each dataframe before concatenation\n",
    "\n",
    "# PROJECT — analysis of time, category, and funding\n",
    "df2020_project['source'] = '2020'\n",
    "df2024_project['source'] = '2024'\n",
    "df_project = pd.concat([df2020_project, df2024_project], ignore_index=True)\n",
    "\n",
    "# ORGANIZATION — funding and coordinator roles per country\n",
    "df2020_organization['source'] = '2020'\n",
    "df2024_organization['source'] = '2024'\n",
    "df_organization = pd.concat([df2020_organization, df2024_organization], ignore_index=True)\n",
    "\n",
    "# EUROSCIVOC — linking projects to categories\n",
    "df2020_euroSciVoc['source'] = '2020'\n",
    "df2024_euroSciVoc['source'] = '2024'\n",
    "df_euroSciVoc = pd.concat([df2020_euroSciVoc, df2024_euroSciVoc], ignore_index=True)\n",
    "\n",
    "# PUBLICATION — project-related research output\n",
    "df2020_publication['source'] = '2020'\n",
    "df2024_publication['source'] = '2024'\n",
    "df_publication = pd.concat([df2020_publication, df2024_publication], ignore_index=True)\n",
    "\n",
    "# PUBLICATION CITATION — citation data for publications\n",
    "df2020_publication_citation['source'] = '2020'\n",
    "df2024_publication_citation['source'] = '2024'\n",
    "df_publication_citation = pd.concat([df2020_publication_citation.drop_duplicates(), df2024_publication_citation.drop_duplicates()], ignore_index=True)\n",
    "\n",
    "# (Optional) Print shapes to confirm\n",
    "print(\"df_project shape:\", df_project.shape)\n",
    "print(\"df_organization shape:\", df_organization.shape)\n",
    "print(\"df_euroSciVoc shape:\", df_euroSciVoc.shape)\n",
    "print(\"df_publication shape:\", df_publication.shape)\n",
    "print(\"df_publication_citation shape:\", df_publication_citation.shape)"
   ]
  },
  {
   "cell_type": "markdown",
   "id": "18eaf2fb",
   "metadata": {},
   "source": [
    "# Analyse of research priorities"
   ]
  },
  {
   "cell_type": "code",
   "execution_count": 10,
   "id": "108ac911",
   "metadata": {},
   "outputs": [
    {
     "name": "stdout",
     "output_type": "stream",
     "text": [
      "\n",
      "Number of projects per category:\n",
      "                   category source  count\n",
      "           natural sciences   2020  48421\n",
      " engineering and technology   2020  25267\n",
      "           natural sciences   2024  18075\n",
      "medical and health sciences   2020  17468\n",
      "            social sciences   2020  16024\n",
      " engineering and technology   2024   6680\n",
      "medical and health sciences   2024   5985\n",
      "            social sciences   2024   5027\n",
      "                 humanities   2020   4028\n",
      "      agricultural sciences   2020   2985\n",
      "                 humanities   2024   1739\n",
      "      agricultural sciences   2024   1283\n",
      "                   category  project_count  Year\n",
      " engineering and technology            351  2014\n",
      "           natural sciences            213  2014\n",
      "            social sciences            165  2014\n",
      "medical and health sciences            127  2014\n",
      "      agricultural sciences             24  2014\n",
      "                 humanities              6  2014\n",
      "           natural sciences           7656  2015\n",
      " engineering and technology           4255  2015\n",
      "medical and health sciences           2624  2015\n",
      "            social sciences           2464  2015\n",
      "                 humanities            453  2015\n",
      "      agricultural sciences            442  2015\n",
      "           natural sciences           7827  2016\n",
      " engineering and technology           4258  2016\n",
      "medical and health sciences           2724  2016\n",
      "            social sciences           2641  2016\n",
      "                 humanities            623  2016\n",
      "      agricultural sciences            420  2016\n",
      "           natural sciences           7273  2017\n",
      " engineering and technology           4327  2017\n",
      "medical and health sciences           2719  2017\n",
      "            social sciences           2692  2017\n",
      "                 humanities            531  2017\n",
      "      agricultural sciences            420  2017\n",
      "           natural sciences           6576  2018\n",
      " engineering and technology           3720  2018\n",
      "medical and health sciences           2453  2018\n",
      "            social sciences           2262  2018\n",
      "                 humanities            510  2018\n",
      "      agricultural sciences            480  2018\n",
      "           natural sciences           6387  2019\n",
      " engineering and technology           3515  2019\n",
      "medical and health sciences           2661  2019\n",
      "            social sciences           2179  2019\n",
      "                 humanities            544  2019\n",
      "      agricultural sciences            462  2019\n",
      "           natural sciences           5475  2020\n",
      " engineering and technology           2390  2020\n",
      "medical and health sciences           1993  2020\n",
      "            social sciences           1539  2020\n",
      "                 humanities            480  2020\n",
      "      agricultural sciences            328  2020\n",
      "           natural sciences           5478  2021\n",
      " engineering and technology           1944  2021\n",
      "medical and health sciences           1782  2021\n",
      "            social sciences           1577  2021\n",
      "                 humanities            588  2021\n",
      "      agricultural sciences            315  2021\n",
      "           natural sciences           4919  2022\n",
      " engineering and technology           1900  2022\n",
      "medical and health sciences           1691  2022\n",
      "            social sciences           1484  2022\n",
      "                 humanities            522  2022\n",
      "      agricultural sciences            363  2022\n",
      "           natural sciences           6143  2023\n",
      " engineering and technology           2266  2023\n",
      "medical and health sciences           2071  2023\n",
      "            social sciences           1619  2023\n",
      "                 humanities            594  2023\n",
      "      agricultural sciences            410  2023\n",
      "           natural sciences           5958  2024\n",
      " engineering and technology           2173  2024\n",
      "medical and health sciences           1887  2024\n",
      "            social sciences           1624  2024\n",
      "                 humanities            547  2024\n",
      "      agricultural sciences            428  2024\n",
      "           natural sciences           2155  2025\n",
      "medical and health sciences            616  2025\n",
      " engineering and technology            590  2025\n",
      "            social sciences            582  2025\n",
      "                 humanities            270  2025\n",
      "      agricultural sciences            149  2025\n",
      "medical and health sciences              2  2026\n",
      "            social sciences              1  2026\n"
     ]
    }
   ],
   "source": [
    "# Extract category from the concatenated dataframe\n",
    "df_euroSciVoc['category'] = df_euroSciVoc['euroSciVocPath'].str.split('/').str[1]\n",
    "# Count rows per category in the concatenated dataframe\n",
    "category_counts = df_euroSciVoc[['category','source']].value_counts().reset_index()\n",
    "# Choose column names\n",
    "category_counts.columns = ['category', 'source', 'count']\n",
    "\n",
    "df_project['startYear'] = pd.to_datetime(df_project['startDate'], errors='coerce').dt.year\n",
    "df_project_cat = df_euroSciVoc.merge(df_project, left_on='projectID', right_on='id')\n",
    "\n",
    "\n",
    "# Count projects per category per year\n",
    "category_per_year = df_project_cat.groupby(['startYear', 'category']).size().reset_index(name='project_count')\n",
    "\n",
    "# Fix year column format\n",
    "category_per_year['Year'] = category_per_year['startYear'].astype('Int64')\n",
    "category_per_year = category_per_year.drop(columns='startYear')\n",
    "\n",
    "\n",
    "# Print \n",
    "print(\"\\nNumber of projects per category:\")\n",
    "print(category_counts.to_string(index=False))\n",
    "\n",
    "# Print\n",
    "print(category_per_year.sort_values(['Year', 'project_count'], ascending=[True, False]).to_string(index=False))\n",
    "\n",
    "df_organization['year'] = pd.to_datetime(df_organization['projectID'].map(\n",
    "    df_project.set_index('id')['startDate']\n",
    "), errors='coerce').dt.year\n",
    "available_years = sorted(df_organization['year'].dropna().unique().astype(int))\n",
    "\n",
    "df_project['startYear'] = pd.to_datetime(df_project['startDate'], errors='coerce').dt.year\n",
    "df_organization['year'] = df_organization['projectID'].map(df_project.set_index('id')['startYear'])\n",
    "\n",
    "category_per_year.to_csv(\"../data/category_per_year.csv\", index = False)\n"
   ]
  },
  {
   "cell_type": "code",
   "execution_count": 11,
   "id": "bbfc8ec0",
   "metadata": {},
   "outputs": [],
   "source": [
    "# Prepare data: count projects per category per year\n",
    "category_counts = (\n",
    "    df_project_cat.groupby(['startYear', 'category'])\n",
    "    .size()\n",
    "    .reset_index(name='project_count')\n",
    "    .dropna(subset=['startYear', 'category'])\n",
    ")\n",
    "\n",
    "# Get available years\n",
    "years = sorted(category_counts['startYear'].dropna().unique())\n",
    "# Alle categorieën\n",
    "categories = sorted(category_per_year['category'].dropna().unique())\n",
    "\n",
    "# Group by country and sum contributions\n",
    "funding = df_organization.groupby('country')[['ecContribution', 'netEcContribution']].sum().reset_index()\n",
    "funding.to_csv(\"../data/merged_funding.csv\", index=False)\n"
   ]
  },
  {
   "cell_type": "code",
   "execution_count": 12,
   "id": "2794ec54",
   "metadata": {},
   "outputs": [],
   "source": [
    "df_publication_citation['projectID'] = pd.to_numeric(df_publication_citation['projectID'], errors='coerce')\n",
    "df_euroSciVoc['projectID'] = df_euroSciVoc['projectID']\n",
    "# Merge publications with project categories\n",
    "df_pubs_cat = pd.merge(df_publication_citation, df_euroSciVoc[['projectID', 'category']], on='projectID', how='left')\n",
    "\n",
    "# Use publishedYear as 'Year'\n",
    "df_pubs_cat['Year'] = pd.to_numeric(df_pubs_cat['publishedYear'], errors='coerce').astype('Int64')\n",
    "\n",
    "# Prepare data: count publications and sum citations per category per year\n",
    "category_year_stats = (\n",
    "    df_pubs_cat\n",
    "    .groupby(['category', 'Year'])\n",
    "    .agg(\n",
    "        publication_count=('id', 'count'),\n",
    "        total_citations=('citation_count', 'sum')\n",
    "    )\n",
    "    .reset_index()\n",
    ")\n",
    "\n",
    "# Prepare data: sum citations per category per year\n",
    "citations_per_topic_year = (\n",
    "    df_pubs_cat\n",
    "    .groupby(['Year', 'category'])\n",
    "    .agg(total_citations=('citation_count', 'sum'))\n",
    "    .reset_index()\n",
    ")"
   ]
  },
  {
   "cell_type": "code",
   "execution_count": 13,
   "id": "480be2d0",
   "metadata": {},
   "outputs": [
    {
     "data": {
      "application/vnd.jupyter.widget-view+json": {
       "model_id": "9a7eb862d5844c5ea38b4342d31dffd5",
       "version_major": 2,
       "version_minor": 0
      },
      "text/plain": [
       "VBox(children=(Dropdown(description='Year:', options=(np.int32(2014), np.int32(2015), np.int32(2016), np.int32…"
      ]
     },
     "metadata": {},
     "output_type": "display_data"
    }
   ],
   "source": [
    "dropdown_year = Dropdown(\n",
    "    options=years,\n",
    "    value=years[0] if years else None,\n",
    "    description='Year:'\n",
    ")\n",
    "\n",
    "out_pie = Output()\n",
    "\n",
    "def plot_pie(selected_year):\n",
    "    data = category_counts[category_counts['startYear'] == selected_year]\n",
    "    if data.empty:\n",
    "        return None\n",
    "    fig = px.pie(\n",
    "        data,\n",
    "        names='category',\n",
    "        values='project_count',\n",
    "        title=f'Project Distribution by Research Category ({selected_year})',\n",
    "        hole=0.3\n",
    "    )\n",
    "    fig.update_traces(textinfo='percent+label')\n",
    "    return fig\n",
    "\n",
    "def update_pie(change):\n",
    "    with out_pie:\n",
    "        out_pie.clear_output(wait=True)\n",
    "        fig = plot_pie(change['new'])\n",
    "        if fig:\n",
    "            display(fig)\n",
    "        else:\n",
    "            print(\"No data for this year.\")\n",
    "\n",
    "dropdown_year.observe(update_pie, names='value')\n",
    "\n",
    "display(VBox([dropdown_year, out_pie]))\n",
    "\n",
    "# Initial plot\n",
    "with out_pie:\n",
    "    fig = plot_pie(dropdown_year.value)\n",
    "    if fig:\n",
    "        display(fig)\n",
    "    else:\n",
    "        print(\"No data for this year.\")"
   ]
  },
  {
   "cell_type": "code",
   "execution_count": 14,
   "id": "1300b8b8",
   "metadata": {},
   "outputs": [
    {
     "data": {
      "application/vnd.jupyter.widget-view+json": {
       "model_id": "0ff6505c3f9545f69e9883ff8ccc4a63",
       "version_major": 2,
       "version_minor": 0
      },
      "text/plain": [
       "VBox(children=(Dropdown(description='Categorie:', index=1, options=('agricultural sciences', 'engineering and …"
      ]
     },
     "metadata": {},
     "output_type": "display_data"
    }
   ],
   "source": [
    "# Output-widget\n",
    "out = Output()\n",
    "\n",
    "# Dropdown-widget\n",
    "dropdown = Dropdown(\n",
    "    options=categories,\n",
    "    value='engineering and technology',\n",
    "    description='Categorie:'\n",
    ")\n",
    "\n",
    "# Plotfunctie\n",
    "def create_plot(selected_cat):\n",
    "    data = category_per_year[category_per_year['category'] == selected_cat]\n",
    "    fig = px.line(\n",
    "        data,\n",
    "        x='Year',\n",
    "        y='project_count',\n",
    "        markers=True,\n",
    "        title=f'{selected_cat.capitalize()} Projects Over Time',\n",
    "        labels={'project_count': 'Number of Projects'}\n",
    "    )\n",
    "    fig.update_layout(\n",
    "        height=500,\n",
    "        margin={\"r\": 0, \"t\": 50, \"l\": 0, \"b\": 0}\n",
    "    )\n",
    "    return fig\n",
    "\n",
    "# Update-functie\n",
    "def update_plot(change):\n",
    "    with out:\n",
    "        out.clear_output(wait=True)\n",
    "        selected = change['new']\n",
    "        fig = create_plot(selected)\n",
    "        display(fig)\n",
    "\n",
    "# Koppel de update-functie aan dropdown\n",
    "dropdown.observe(update_plot, names='value')\n",
    "\n",
    "# UI tonen\n",
    "display(VBox([dropdown, out]))\n",
    "\n",
    "# Initieel plot weergeven\n",
    "with out:\n",
    "    fig = create_plot(dropdown.value)\n",
    "    display(fig)\n"
   ]
  },
  {
   "cell_type": "markdown",
   "id": "c56ba2cb",
   "metadata": {},
   "source": [
    "# Contribution maps"
   ]
  },
  {
   "cell_type": "code",
   "execution_count": 24,
   "id": "044cb9a9",
   "metadata": {},
   "outputs": [],
   "source": [
    "# ISO2 naar ISO3\n",
    "def convert_iso2_to_iso3(iso2_code):\n",
    "    try:\n",
    "        return pycountry.countries.get(alpha_2=iso2_code).alpha_3\n",
    "    except:\n",
    "        return None\n"
   ]
  },
  {
   "cell_type": "code",
   "execution_count": 25,
   "id": "6e142134",
   "metadata": {},
   "outputs": [
    {
     "data": {
      "application/vnd.jupyter.widget-view+json": {
       "model_id": "07008c8719c34ca4a5d6a226084f7bcf",
       "version_major": 2,
       "version_minor": 0
      },
      "text/plain": [
       "VBox(children=(IntRangeSlider(value=(2014, 2026), continuous_update=False, description='Years:', max=2026, min…"
      ]
     },
     "metadata": {},
     "output_type": "display_data"
    }
   ],
   "source": [
    "\n",
    "# Kaartfunctie\n",
    "def create_map(data, funding_column):\n",
    "    data = data.copy()\n",
    "    data[\"iso_alpha\"] = data[\"country\"].apply(convert_iso2_to_iso3)\n",
    "    fig = px.scatter_geo(\n",
    "        data,\n",
    "        locations=\"iso_alpha\",\n",
    "        locationmode=\"ISO-3\",\n",
    "        size=funding_column,\n",
    "        hover_name=\"country\",\n",
    "        projection=\"natural earth\",\n",
    "        title=f\"Funding Levels\",\n",
    "        size_max=50\n",
    "    )\n",
    "    fig.update_geos(\n",
    "        showcountries=True,\n",
    "        countrycolor=\"LightGray\",\n",
    "        showcoastlines=True,\n",
    "        coastlinecolor=\"LightGray\",\n",
    "    )\n",
    "    fig.update_layout(\n",
    "        margin={\"r\": 0, \"t\": 50, \"l\": 0, \"b\": 0},\n",
    "        height=600,\n",
    "    )\n",
    "    return fig\n",
    "\n",
    "# Output-widget\n",
    "out = Output()\n",
    "\n",
    "# Range sliders for year selection\n",
    "year_range = IntRangeSlider(\n",
    "    value=[min(available_years), max(available_years)],\n",
    "    min=min(available_years),\n",
    "    max=max(available_years),\n",
    "    step=1,\n",
    "    description='Years:',\n",
    "    continuous_update=False\n",
    ")\n",
    "\n",
    "def update_map(change=None):\n",
    "    with out:\n",
    "        out.clear_output(wait=True)\n",
    "        start_year, end_year = year_range.value\n",
    "        contrib_type = 'netEcContribution'\n",
    "\n",
    "        # Filter organizations by project start year\n",
    "        orgs = df_organization[\n",
    "            (df_organization['year'] >= start_year) &\n",
    "            (df_organization['year'] <= end_year)\n",
    "        ]\n",
    "\n",
    "        # Group by country and sum contributions\n",
    "        funding = orgs.groupby('country')[contrib_type].sum().reset_index()\n",
    "        funding.columns = ['country', f'{contrib_type}_sum']\n",
    "        if funding.empty:\n",
    "            print(\"No data for selected period.\")\n",
    "            return\n",
    "        fig = create_map(funding, f'{contrib_type}_sum')\n",
    "        fig.update_layout(title=f\"Net EC Contribution {start_year}-{end_year}\")\n",
    "        display(fig)\n",
    "\n",
    "year_range.observe(update_map, names='value')\n",
    "\n",
    "display(VBox([year_range, out]))\n",
    "\n",
    "update_map()"
   ]
  },
  {
   "cell_type": "markdown",
   "id": "c137f215",
   "metadata": {},
   "source": [
    "## Network analysis"
   ]
  },
  {
   "cell_type": "code",
   "execution_count": 26,
   "id": "3c8f44a4",
   "metadata": {},
   "outputs": [],
   "source": [
    "\n",
    "def country_network_matrices(df, id_col='projectID', country_col='country'):\n",
    "    \"\"\"\n",
    "    Build:\n",
    "      • network_df  : symmetric country‑by‑country co‑operation counts\n",
    "      • distance_df : 1 – 1/n transformation of network_df\n",
    "      • norm_df     : distance_df normalised by row+column totals\n",
    "    Returns the three dataframes in that order.\n",
    "    \"\"\"\n",
    "\n",
    "    # ── 1. Project‑country incidence matrix (binary) ────────────────────────────\n",
    "    incidence = (df[[id_col, country_col]]\n",
    "                 .drop_duplicates()              # one flag per project–country\n",
    "                 .assign(val=1)\n",
    "                 .pivot(index=id_col, columns=country_col, values='val')\n",
    "                 .fillna(0)\n",
    "                 .astype(int))\n",
    "\n",
    "    # ── 2. Co‑operation counts between countries (adjacency) ───────────────────\n",
    "    network_df = incidence.T @ incidence          # matrix multiplication\n",
    "    np.fill_diagonal(network_df.values, 0)        # remove self‑loops\n",
    "    network_df = network_df.astype(int)\n",
    "\n",
    "    # ── 3. Distance matrix: linear with max collaborations ─────────────────────\n",
    "    INF = 1e3  # a large number to represent no collaboration\n",
    "    with np.errstate(divide='ignore', invalid='ignore'):\n",
    "        distance_arr = 1 / network_df.values\n",
    "        distance_arr[network_df.values == 0] = INF  # Set distance to 1 if no collaboration\n",
    "    dissimilarity_df = pd.DataFrame(distance_arr, index=network_df.index, columns=network_df.columns)\n",
    "\n",
    "    return network_df, dissimilarity_df\n"
   ]
  },
  {
   "cell_type": "code",
   "execution_count": 27,
   "id": "cc6e2aac",
   "metadata": {},
   "outputs": [],
   "source": [
    "\n",
    "def country_network_matrices_maxcollab(df, id_col='projectID', country_col='country'):\n",
    "    \"\"\"\n",
    "    Build:\n",
    "      • network_df  : symmetric country‑by‑country co‑operation counts\n",
    "      • distance_df : 1 – 1/n transformation of network_df\n",
    "      • norm_df     : distance_df normalised by row+column totals\n",
    "    Returns the three dataframes in that order.\n",
    "    \"\"\"\n",
    "\n",
    "    # ── 1. Project‑country incidence matrix (binary) ────────────────────────────\n",
    "    incidence = (df[[id_col, country_col]]\n",
    "                 .drop_duplicates()              # one flag per project–country\n",
    "                 .assign(val=1)\n",
    "                 .pivot(index=id_col, columns=country_col, values='val')\n",
    "                 .fillna(0)\n",
    "                 .astype(int))\n",
    "\n",
    "    # ── 2. Co‑operation counts between countries (adjacency) ───────────────────\n",
    "    network_df = incidence.T @ incidence          # matrix multiplication\n",
    "    np.fill_diagonal(network_df.values, 0)        # remove self‑loops\n",
    "    network_df = network_df.astype(int)\n",
    "\n",
    "    # ── 3. Distance matrix: linear with max collaborations ─────────────────────\n",
    "    max_collab = network_df.values.max()\n",
    "    INF = 1e3  # a large number to represent no collaboration\n",
    "    if max_collab == 0:\n",
    "        Exception(\"No collaborations found in the data.\")\n",
    "    else:\n",
    "        dissimilarity_df = (max_collab - network_df + 1) / max_collab # +1 to avoid 0 dissimilarity between distinct countries\n",
    "        dissimilarity_df[network_df.values == 0] = INF  # Set to 2 if no collaboration\n",
    "\n",
    "    return network_df, dissimilarity_df\n"
   ]
  },
  {
   "cell_type": "code",
   "execution_count": 28,
   "id": "559851bd",
   "metadata": {},
   "outputs": [],
   "source": [
    "def country_network_matrices_nonisolated(df, id_col='projectID', country_col='country'):\n",
    "    \"\"\"\n",
    "    Build:\n",
    "      • network_df  : symmetric country‑by‑country co‑operation counts (no isolated countries)\n",
    "      • distance_df : 1 + 1/n transformation of network_df (no isolated countries)\n",
    "    Returns the two dataframes in that order.\n",
    "    \"\"\"\n",
    "\n",
    "    # 1. Project‑country incidence matrix (binary)\n",
    "    incidence = (df[[id_col, country_col]]\n",
    "                 .drop_duplicates()\n",
    "                 .assign(val=1)\n",
    "                 .pivot(index=id_col, columns=country_col, values='val')\n",
    "                 .fillna(0)\n",
    "                 .astype(int))\n",
    "\n",
    "    # 2. Co‑operation counts between countries (adjacency)\n",
    "    network_df = incidence.T @ incidence\n",
    "    np.fill_diagonal(network_df.values, 0)\n",
    "    network_df = network_df.astype(int)\n",
    "\n",
    "    # Remove countries (rows/cols) with only zeros\n",
    "    nonisolated = (network_df.sum(axis=0) > 0) | (network_df.sum(axis=1) > 0)\n",
    "    network_df = network_df.loc[nonisolated, nonisolated]\n",
    "\n",
    "    # 3. Distance matrix: 1/(1+n), handle n=0\n",
    "    INF = 1e3  # a large number to represent no collaboration\n",
    "    with np.errstate(divide='ignore', invalid='ignore'):\n",
    "        distance_arr = 1 / (network_df.values)\n",
    "        distance_arr[network_df.values == 0] = INF  # Set distance to 1 if no collaboration\n",
    "    dissimilarity_df = pd.DataFrame(distance_arr, index=network_df.index, columns=network_df.columns)\n",
    "\n",
    "    return network_df, dissimilarity_df"
   ]
  },
  {
   "cell_type": "code",
   "execution_count": 29,
   "id": "00eceb68",
   "metadata": {},
   "outputs": [],
   "source": [
    "def country_network_matrices_nonisolated_maxcollab(df, id_col='projectID', country_col='country'):\n",
    "    \"\"\"\n",
    "    Build:\n",
    "      • network_df  : symmetric country‑by‑country co‑operation counts (no isolated countries)\n",
    "      • distance_df : (max_collab - n + 1) / max_collab, but set to 2 if no collaboration\n",
    "    Returns the two dataframes in that order.\n",
    "    \"\"\"\n",
    "\n",
    "    # 1. Project‑country incidence matrix (binary)\n",
    "    incidence = (df[[id_col, country_col]]\n",
    "                 .drop_duplicates()\n",
    "                 \n",
    "                 .assign(val=1)\n",
    "                 .pivot(index=id_col, columns=country_col, values='val')\n",
    "                 .fillna(0)\n",
    "                 .astype(int))\n",
    "\n",
    "    # 2. Co‑operation counts between countries (adjacency)\n",
    "    network_df = incidence.T @ incidence\n",
    "    np.fill_diagonal(network_df.values, 0)\n",
    "    network_df = network_df.astype(int)\n",
    "\n",
    "    # Remove countries (rows/cols) with only zeros\n",
    "    nonisolated = (network_df.sum(axis=0) > 0) | (network_df.sum(axis=1) > 0)\n",
    "    network_df = network_df.loc[nonisolated, nonisolated]\n",
    "\n",
    "    # 3. Distance matrix: (max_collab - n + 1) / max_collab, set to 2 if n==0\n",
    "    INF = 1e3  # a large number to represent no collaboration\n",
    "    max_collab = network_df.values.max()\n",
    "    if max_collab == 0:\n",
    "        raise Exception(\"No collaborations found in the data.\")\n",
    "    else:\n",
    "        dissimilarity_arr = (max_collab - network_df.values + 1) / max_collab\n",
    "        dissimilarity_arr[network_df.values == 0] = INF  # Set to 2 if no collaboration\n",
    "        dissimilarity_df = pd.DataFrame(dissimilarity_arr, index=network_df.index, columns=network_df.columns)\n",
    "\n",
    "    return network_df, dissimilarity_df"
   ]
  },
  {
   "cell_type": "code",
   "execution_count": 30,
   "id": "e8d8b717",
   "metadata": {},
   "outputs": [
    {
     "data": {
      "image/png": "[encoded data removed]",
      "text/plain": [
       "<Figure size 800x500 with 1 Axes>"
      ]
     },
     "metadata": {},
     "output_type": "display_data"
    },
    {
     "data": {
      "image/png": "[encoded data removed]",
      "text/plain": [
       "<Figure size 800x500 with 1 Axes>"
      ]
     },
     "metadata": {},
     "output_type": "display_data"
    },
    {
     "data": {
      "image/png": "[encoded data removed]",
      "text/plain": [
       "<Figure size 800x500 with 1 Axes>"
      ]
     },
     "metadata": {},
     "output_type": "display_data"
    },
    {
     "data": {
      "image/png": "[encoded data removed]",
      "text/plain": [
       "<Figure size 800x500 with 1 Axes>"
      ]
     },
     "metadata": {},
     "output_type": "display_data"
    }
   ],
   "source": [
    "def plot_distance_histogram(distance_func, df, title):\n",
    "    INF = 1e3  # a large number to represent no collaboration\n",
    "    _, dissimilarity_df = distance_func(df)\n",
    "    distances = dissimilarity_df.values\n",
    "    off_diag_distances = distances[~np.eye(distances.shape[0], dtype=bool)]\n",
    "    off_diag_distances = off_diag_distances[off_diag_distances != INF]\n",
    "    plt.figure(figsize=(8, 5))\n",
    "    plt.hist(off_diag_distances, bins=30, color='skyblue', edgecolor='black')\n",
    "    plt.title(title)\n",
    "    plt.xlabel('Distance')\n",
    "    plt.ylabel('Frequency')\n",
    "    plt.tight_layout()\n",
    "    plt.show()\n",
    "\n",
    "# List of (function, title) pairs\n",
    "distance_metrics = [\n",
    "    (country_network_matrices, \"Distribution of Country Pairwise Distances (1/n)\"),\n",
    "    (country_network_matrices_maxcollab, \"Distribution of Country Pairwise Distances (max-collab linear)\"),\n",
    "    (country_network_matrices_nonisolated, \"Distribution of Country Pairwise Distances (1/(1+n), non-isolated)\"),\n",
    "    (country_network_matrices_nonisolated_maxcollab, \"Distribution of Country Pairwise Distances (max-collab linear, non-isolated)\")\n",
    "]\n",
    "\n",
    "for func, title in distance_metrics:\n",
    "    plot_distance_histogram(func, df_organization, title)\n"
   ]
  },
  {
   "cell_type": "code",
   "execution_count": 31,
   "id": "70db11d7",
   "metadata": {},
   "outputs": [],
   "source": [
    "def plot_silhouette_for_year(selected_year, min_k=2, max_k=10):\n",
    "    # Filter organizations for the selected year\n",
    "    project_ids = df_project[df_project['startYear'] == selected_year]['id']\n",
    "    df_filtered_org = df_organization[df_organization['projectID'].isin(project_ids)]\n",
    "    if df_filtered_org.empty:\n",
    "        print(\"No projects found for the selected year.\")\n",
    "        return\n",
    "\n",
    "    _, dissimilarity_df = country_network_matrices_nonisolated(df_filtered_org)\n",
    "    X = dissimilarity_df.values\n",
    "\n",
    "    silhouette_avgs = []\n",
    "    Ks = range(min_k, min(max_k, len(X)))\n",
    "    for k in Ks:\n",
    "        kmeans = KMeans(n_clusters=k, n_init=\"auto\", random_state=42)\n",
    "        labels = kmeans.fit_predict(X)\n",
    "        if len(set(labels)) == 1:\n",
    "            silhouette_avgs.append(-1)\n",
    "        else:\n",
    "            score = silhouette_score(X, labels, metric='euclidean')\n",
    "            silhouette_avgs.append(score)\n",
    "\n",
    "    plt.figure(figsize=(7, 4))\n",
    "    plt.plot(Ks, silhouette_avgs, marker='o')\n",
    "    plt.title(f'Silhouette Score per K (year={selected_year})')\n",
    "    plt.xlabel('Number of clusters (K)')\n",
    "    plt.ylabel('Average silhouette score')\n",
    "    plt.grid(True)\n",
    "    plt.show()\n",
    "\n",
    "    # Optional: Silhouette plot for the best K\n",
    "    best_k = Ks[np.argmax(silhouette_avgs)]\n",
    "    kmeans = KMeans(n_clusters=best_k, n_init=\"auto\", random_state=42)\n",
    "    labels = kmeans.fit_predict(X)\n",
    "    sample_silhouette_values = silhouette_samples(X, labels)\n",
    "    y_lower = 10\n",
    "    plt.figure(figsize=(7, 5))\n",
    "    for i in range(best_k):\n",
    "        ith_cluster_silhouette_values = sample_silhouette_values[labels == i]\n",
    "        ith_cluster_silhouette_values.sort()\n",
    "        size_cluster_i = ith_cluster_silhouette_values.shape[0]\n",
    "        y_upper = y_lower + size_cluster_i\n",
    "        plt.fill_betweenx(np.arange(y_lower, y_upper),\n",
    "                          0, ith_cluster_silhouette_values)\n",
    "        plt.text(-0.05, y_lower + 0.5 * size_cluster_i, str(i))\n",
    "        y_lower = y_upper + 10\n",
    "    plt.title(f'Silhouette Plot for K={best_k} (year={selected_year})')\n",
    "    plt.xlabel('Silhouette coefficient values')\n",
    "    plt.ylabel('Cluster')\n",
    "    plt.axvline(x=np.mean(sample_silhouette_values), color=\"red\", linestyle=\"--\")\n",
    "    plt.show()\n",
    "    print(f\"Best K: {best_k} (highest average silhouette score: {max(silhouette_avgs):.3f})\")"
   ]
  },
  {
   "cell_type": "code",
   "execution_count": 32,
   "id": "b69bf42d",
   "metadata": {},
   "outputs": [
    {
     "data": {
      "image/png": "[encoded data removed]",
      "text/plain": [
       "<Figure size 700x400 with 1 Axes>"
      ]
     },
     "metadata": {},
     "output_type": "display_data"
    },
    {
     "data": {
      "image/png": "[encoded data removed]",
      "text/plain": [
       "<Figure size 700x500 with 1 Axes>"
      ]
     },
     "metadata": {},
     "output_type": "display_data"
    },
    {
     "name": "stdout",
     "output_type": "stream",
     "text": [
      "Best K: 2 (highest average silhouette score: 0.265)\n"
     ]
    }
   ],
   "source": [
    "# Example: for year 2019\n",
    "plot_silhouette_for_year(2019, min_k=2, max_k=8)"
   ]
  },
  {
   "cell_type": "markdown",
   "id": "4c337ec7",
   "metadata": {},
   "source": [
    "Clustering: K-Means, HDBScan, Agglomerative"
   ]
  },
  {
   "cell_type": "code",
   "execution_count": 33,
   "id": "7bbb7754",
   "metadata": {},
   "outputs": [],
   "source": [
    "selected_year = 2017\n",
    "network_df, dissimilarity_df = country_network_matrices_nonisolated(df_organization[df_organization['year']==selected_year])"
   ]
  },
  {
   "cell_type": "code",
   "execution_count": 34,
   "id": "b9604098",
   "metadata": {},
   "outputs": [
    {
     "data": {
      "image/png": "[encoded data removed]",
      "text/plain": [
       "<Figure size 640x480 with 2 Axes>"
      ]
     },
     "metadata": {},
     "output_type": "display_data"
    }
   ],
   "source": [
    "# HDBSCAN expects a condensed distance matrix\n",
    "\n",
    "clusterer = hdbscan.HDBSCAN(metric='precomputed', min_cluster_size=2)\n",
    "clusterer.fit(dissimilarity_df.values)\n",
    "\n",
    "# Plot the condensed tree (dendrogram-like)\n",
    "clusterer.condensed_tree_.plot(select_clusters=True, selection_palette=sns.color_palette())\n",
    "plt.title(f'HDBSCAN Condensed Tree {selected_year}')\n",
    "plt.tight_layout()\n",
    "plt.show()"
   ]
  },
  {
   "cell_type": "code",
   "execution_count": 35,
   "id": "927567dd",
   "metadata": {},
   "outputs": [
    {
     "data": {
      "image/png": "[encoded data removed]",
      "text/plain": [
       "<Figure size 1000x500 with 1 Axes>"
      ]
     },
     "metadata": {},
     "output_type": "display_data"
    }
   ],
   "source": [
    "# Prepare dissimilarity matrix for the selected year\n",
    "project_ids = df_project[df_project['startYear'] == selected_year]['id']\n",
    "df_filtered_org = df_organization[df_organization['projectID'].isin(project_ids)]\n",
    "_, dissimilarity_df = country_network_matrices_nonisolated(df_filtered_org)\n",
    "\n",
    "# Convert to condensed distance matrix for linkage\n",
    "dissimilarity_condensed = squareform(dissimilarity_df.values, checks=False)\n",
    "Z = linkage(dissimilarity_condensed, method='average')\n",
    "\n",
    "plt.figure(figsize=(10, 5))\n",
    "dendrogram(Z, labels=dissimilarity_df.index.tolist(), leaf_rotation=90)\n",
    "plt.title(f'Agglomerative Clustering Dendrogram ({selected_year})')\n",
    "plt.xlabel('Country')\n",
    "plt.ylabel('Distance')\n",
    "plt.tight_layout()\n",
    "plt.show()"
   ]
  },
  {
   "cell_type": "code",
   "execution_count": 37,
   "id": "758587cf",
   "metadata": {},
   "outputs": [
    {
     "data": {
      "application/vnd.jupyter.widget-view+json": {
       "model_id": "51098cc4293b4ebda4e94a1d07308bc3",
       "version_major": 2,
       "version_minor": 0
      },
      "text/plain": [
       "VBox(children=(Dropdown(description='Starting Year:', options=(np.int64(2014), np.int64(2015), np.int64(2016),…"
      ]
     },
     "metadata": {},
     "output_type": "display_data"
    }
   ],
   "source": [
    "\n",
    "\n",
    "# Clusteringfunctie\n",
    "def cluster_dataframe(dissimilarity_df: pd.DataFrame, algo, name: str) -> pd.DataFrame:\n",
    "    if getattr(algo, \"metric\", None) == \"precomputed\" or getattr(algo, \"affinity\", \"\") == \"precomputed\":\n",
    "        algo.fit(dissimilarity_df)\n",
    "    else:\n",
    "        algo.fit(dissimilarity_df.values)\n",
    "\n",
    "    return (\n",
    "        pd.DataFrame({\n",
    "            \"country\": dissimilarity_df.index,\n",
    "            \"cluster\": algo.labels_.astype(str)\n",
    "        })\n",
    "        .assign(iso_alpha=lambda df: df[\"country\"].map(iso2_to_iso3))\n",
    "        .dropna(subset=[\"iso_alpha\"])\n",
    "    )\n",
    "\n",
    "# Plotfunctie\n",
    "def cluster_map(df: pd.DataFrame, title: str) -> px.choropleth:\n",
    "    fig = px.choropleth(\n",
    "        df,\n",
    "        locations=\"iso_alpha\",\n",
    "        color=\"cluster\",\n",
    "        hover_name=\"country\",\n",
    "        color_discrete_sequence=px.colors.qualitative.Set3,\n",
    "        projection=\"natural earth\",\n",
    "        title=title\n",
    "    )\n",
    "    fig.update_geos(showcountries=True, countrycolor=\"LightGray\",\n",
    "                    showcoastlines=True, coastlinecolor=\"Gray\")\n",
    "    fig.update_layout(margin=dict(r=0, l=0, t=50, b=0))\n",
    "    return fig\n",
    "\n",
    "# Kernfunctie: clustering voor één jaar en methode\n",
    "def cluster_projects_for_year(selected_year: int, method: str) -> list:\n",
    "    df_project['startDate'] = pd.to_datetime(df_project['startDate'], errors='coerce')\n",
    "    project_ids = df_project[df_project['startDate'].dt.year == selected_year]['id']\n",
    "    df_filtered_org = df_organization[df_organization['projectID'].isin(project_ids)]\n",
    "\n",
    "    if df_filtered_org.empty:\n",
    "        return []\n",
    "\n",
    "    _, dissimilarity_df = country_network_matrices(df_filtered_org)\n",
    "\n",
    "    clusterers = {\n",
    "        \"K-means\":   KMeans(n_clusters=5, n_init=\"auto\", random_state=42),\n",
    "        \"HDBSCAN\":   hdbscan.HDBSCAN(metric='precomputed', min_cluster_size=2),\n",
    "        \"Agglomerative\": AgglomerativeClustering(n_clusters=5, metric=\"precomputed\", linkage=\"single\"),\n",
    "    }\n",
    "\n",
    "    figs = []\n",
    "    if method in clusterers:\n",
    "        algo = clusterers[method]\n",
    "        input_matrix = 1/dissimilarity_df if method == \"Spectral\" else dissimilarity_df\n",
    "        df_clustered = cluster_dataframe(input_matrix, algo, method)\n",
    "        fig = cluster_map(df_clustered, f\"{method} clustering — international cooperation ({selected_year})\")\n",
    "        figs.append(fig)\n",
    "    return figs\n",
    "\n",
    "# Unieke jaartallen ophalen\n",
    "df_combined = df_project.copy()\n",
    "df_combined['startDate'] = pd.to_datetime(df_combined['startDate'], errors='coerce')\n",
    "available_years = sorted(df_combined['startDate'].dt.year.dropna().unique().astype(int))\n",
    "\n",
    "# UI: dropdowns + output\n",
    "dropdown_year = Dropdown(\n",
    "    options=available_years,\n",
    "    value=available_years[0],\n",
    "    description='Starting Year:'\n",
    ")\n",
    "\n",
    "dropdown_method = Dropdown(\n",
    "    options=['K-means', 'HDBSCAN', 'Agglomerative'],\n",
    "    value='K-means',\n",
    "    description='Method:'\n",
    ")\n",
    "\n",
    "out = Output()\n",
    "\n",
    "def update_plot(change=None):\n",
    "    with out:\n",
    "        out.clear_output(wait=True)\n",
    "        year = dropdown_year.value\n",
    "        method = dropdown_method.value\n",
    "        figs = cluster_projects_for_year(year, method)\n",
    "        if figs:\n",
    "            for fig in figs:\n",
    "                display(HTML(fig.to_html(include_plotlyjs='cdn')))\n",
    "        else:\n",
    "            print(\"No projects found for the selected year or method.\")\n",
    "\n",
    "dropdown_year.observe(update_plot, names='value')\n",
    "dropdown_method.observe(update_plot, names='value')\n",
    "\n",
    "display(VBox([dropdown_year, dropdown_method, out]))\n",
    "\n",
    "with out:\n",
    "    initial_figs = cluster_projects_for_year(dropdown_year.value, dropdown_method.value)\n",
    "    for fig in initial_figs:\n",
    "        display(HTML(fig.to_html(include_plotlyjs='cdn')))"
   ]
  },
  {
   "cell_type": "code",
   "execution_count": 38,
   "id": "60c25db4",
   "metadata": {},
   "outputs": [
    {
     "data": {
      "application/vnd.plotly.v1+json": {
       "config": {
        "plotlyServerURL": "https://plot.ly"
       },
       "data": [
        {
         "colorscale": [
          [
           0,
           "rgb(141,211,199)"
          ],
          [
           1,
           "rgb(141,211,199)"
          ]
         ],
         "geo": "geo",
         "hovertemplate": "<b>%{hovertext}</b><br><br>cluster=2<br>iso_alpha=%{location}<extra></extra>",
         "hovertext": [
          "AE",
          "AF",
          "AI",
          "AO",
          "AW",
          "BH",
          "BI",
          "BO",
          "BQ",
          "BZ",
          "CG",
          "CU",
          "DO",
          "GA",
          "GD",
          "GI",
          "GM",
          "GN",
          "GW",
          "HN",
          "HT",
          "IR",
          "JE",
          "JM",
          "KH",
          "KW",
          "KZ",
          "LI",
          "LK",
          "LR",
          "LS",
          "LY",
          "MC",
          "MH",
          "MM",
          "MN",
          "MV",
          "NE",
          "NI",
          "NP",
          "OM",
          "PA",
          "PF",
          "PG",
          "PY",
          "QA",
          "SA",
          "SC",
          "SG",
          "SL",
          "SR",
          "SX",
          "SZ",
          "TD",
          "TJ",
          "TM",
          "UZ",
          "VE",
          "VG",
          "WF",
          "YE",
          "ZW"
         ],
         "locations": [
          "ARE",
          "AFG",
          "AIA",
          "AGO",
          "ABW",
          "BHR",
          "BDI",
          "BOL",
          "BES",
          "BLZ",
          "COG",
          "CUB",
          "DOM",
          "GAB",
          "GRD",
          "GIB",
          "GMB",
          "GIN",
          "GNB",
          "HND",
          "HTI",
          "IRN",
          "JEY",
          "JAM",
          "KHM",
          "KWT",
          "KAZ",
          "LIE",
          "LKA",
          "LBR",
          "LSO",
          "LBY",
          "MCO",
          "MHL",
          "MMR",
          "MNG",
          "MDV",
          "NER",
          "NIC",
          "NPL",
          "OMN",
          "PAN",
          "PYF",
          "PNG",
          "PRY",
          "QAT",
          "SAU",
          "SYC",
          "SGP",
          "SLE",
          "SUR",
          "SXM",
          "SWZ",
          "TCD",
          "TJK",
          "TKM",
          "UZB",
          "VEN",
          "VGB",
          "WLF",
          "YEM",
          "ZWE"
         ],
         "name": "2",
         "showlegend": true,
         "showscale": false,
         "type": "choropleth",
         "z": [
          1,
          1,
          1,
          1,
          1,
          1,
          1,
          1,
          1,
          1,
          1,
          1,
          1,
          1,
          1,
          1,
          1,
          1,
          1,
          1,
          1,
          1,
          1,
          1,
          1,
          1,
          1,
          1,
          1,
          1,
          1,
          1,
          1,
          1,
          1,
          1,
          1,
          1,
          1,
          1,
          1,
          1,
          1,
          1,
          1,
          1,
          1,
          1,
          1,
          1,
          1,
          1,
          1,
          1,
          1,
          1,
          1,
          1,
          1,
          1,
          1,
          1
         ]
        },
        {
         "colorscale": [
          [
           0,
           "rgb(255,255,179)"
          ],
          [
           1,
           "rgb(255,255,179)"
          ]
         ],
         "geo": "geo",
         "hovertemplate": "<b>%{hovertext}</b><br><br>cluster=4<br>iso_alpha=%{location}<extra></extra>",
         "hovertext": [
          "AL",
          "AM",
          "AZ",
          "BA",
          "BY",
          "CA",
          "FO",
          "GE",
          "IQ",
          "IS",
          "JO",
          "LB",
          "LT",
          "LU",
          "LV",
          "MD",
          "ME",
          "MK",
          "MT",
          "PS",
          "RU",
          "UA"
         ],
         "locations": [
          "ALB",
          "ARM",
          "AZE",
          "BIH",
          "BLR",
          "CAN",
          "FRO",
          "GEO",
          "IRQ",
          "ISL",
          "JOR",
          "LBN",
          "LTU",
          "LUX",
          "LVA",
          "MDA",
          "MNE",
          "MKD",
          "MLT",
          "PSE",
          "RUS",
          "UKR"
         ],
         "name": "4",
         "showlegend": true,
         "showscale": false,
         "type": "choropleth",
         "z": [
          1,
          1,
          1,
          1,
          1,
          1,
          1,
          1,
          1,
          1,
          1,
          1,
          1,
          1,
          1,
          1,
          1,
          1,
          1,
          1,
          1,
          1
         ]
        },
        {
         "colorscale": [
          [
           0,
           "rgb(190,186,218)"
          ],
          [
           1,
           "rgb(190,186,218)"
          ]
         ],
         "geo": "geo",
         "hovertemplate": "<b>%{hovertext}</b><br><br>cluster=3<br>iso_alpha=%{location}<extra></extra>",
         "hovertext": [
          "AR",
          "AU",
          "BD",
          "BR",
          "CL",
          "CN",
          "CO",
          "CR",
          "EC",
          "GL",
          "GT",
          "HK",
          "ID",
          "IN",
          "JP",
          "KG",
          "KR",
          "MX",
          "MY",
          "NC",
          "NZ",
          "PE",
          "PH",
          "TH",
          "TW",
          "UY",
          "VN"
         ],
         "locations": [
          "ARG",
          "AUS",
          "BGD",
          "BRA",
          "CHL",
          "CHN",
          "COL",
          "CRI",
          "ECU",
          "GRL",
          "GTM",
          "HKG",
          "IDN",
          "IND",
          "JPN",
          "KGZ",
          "KOR",
          "MEX",
          "MYS",
          "NCL",
          "NZL",
          "PER",
          "PHL",
          "THA",
          "TWN",
          "URY",
          "VNM"
         ],
         "name": "3",
         "showlegend": true,
         "showscale": false,
         "type": "choropleth",
         "z": [
          1,
          1,
          1,
          1,
          1,
          1,
          1,
          1,
          1,
          1,
          1,
          1,
          1,
          1,
          1,
          1,
          1,
          1,
          1,
          1,
          1,
          1,
          1,
          1,
          1,
          1,
          1
         ]
        },
        {
         "colorscale": [
          [
           0,
           "rgb(251,128,114)"
          ],
          [
           1,
           "rgb(251,128,114)"
          ]
         ],
         "geo": "geo",
         "hovertemplate": "<b>%{hovertext}</b><br><br>cluster=0<br>iso_alpha=%{location}<extra></extra>",
         "hovertext": [
          "AT",
          "BE",
          "BG",
          "CH",
          "CY",
          "CZ",
          "DE",
          "DK",
          "EE",
          "ES",
          "FI",
          "FR",
          "GH",
          "HR",
          "HU",
          "IE",
          "IL",
          "IT",
          "KE",
          "MA",
          "NL",
          "NO",
          "PL",
          "PT",
          "RO",
          "RS",
          "SE",
          "SI",
          "SK",
          "TN",
          "TR",
          "US",
          "ZA"
         ],
         "locations": [
          "AUT",
          "BEL",
          "BGR",
          "CHE",
          "CYP",
          "CZE",
          "DEU",
          "DNK",
          "EST",
          "ESP",
          "FIN",
          "FRA",
          "GHA",
          "HRV",
          "HUN",
          "IRL",
          "ISR",
          "ITA",
          "KEN",
          "MAR",
          "NLD",
          "NOR",
          "POL",
          "PRT",
          "ROU",
          "SRB",
          "SWE",
          "SVN",
          "SVK",
          "TUN",
          "TUR",
          "USA",
          "ZAF"
         ],
         "name": "0",
         "showlegend": true,
         "showscale": false,
         "type": "choropleth",
         "z": [
          1,
          1,
          1,
          1,
          1,
          1,
          1,
          1,
          1,
          1,
          1,
          1,
          1,
          1,
          1,
          1,
          1,
          1,
          1,
          1,
          1,
          1,
          1,
          1,
          1,
          1,
          1,
          1,
          1,
          1,
          1,
          1,
          1
         ]
        },
        {
         "colorscale": [
          [
           0,
           "rgb(128,177,211)"
          ],
          [
           1,
           "rgb(128,177,211)"
          ]
         ],
         "geo": "geo",
         "hovertemplate": "<b>%{hovertext}</b><br><br>cluster=1<br>iso_alpha=%{location}<extra></extra>",
         "hovertext": [
          "BF",
          "BJ",
          "BW",
          "CD",
          "CI",
          "CM",
          "CV",
          "DJ",
          "DZ",
          "EG",
          "ET",
          "MG",
          "ML",
          "MR",
          "MU",
          "MW",
          "MZ",
          "NG",
          "PK",
          "RW",
          "SD",
          "SN",
          "TG",
          "TZ",
          "UG",
          "ZM"
         ],
         "locations": [
          "BFA",
          "BEN",
          "BWA",
          "COD",
          "CIV",
          "CMR",
          "CPV",
          "DJI",
          "DZA",
          "EGY",
          "ETH",
          "MDG",
          "MLI",
          "MRT",
          "MUS",
          "MWI",
          "MOZ",
          "NGA",
          "PAK",
          "RWA",
          "SDN",
          "SEN",
          "TGO",
          "TZA",
          "UGA",
          "ZMB"
         ],
         "name": "1",
         "showlegend": true,
         "showscale": false,
         "type": "choropleth",
         "z": [
          1,
          1,
          1,
          1,
          1,
          1,
          1,
          1,
          1,
          1,
          1,
          1,
          1,
          1,
          1,
          1,
          1,
          1,
          1,
          1,
          1,
          1,
          1,
          1,
          1,
          1
         ]
        }
       ],
       "layout": {
        "geo": {
         "center": {},
         "coastlinecolor": "Gray",
         "countrycolor": "LightGray",
         "domain": {
          "x": [
           0,
           1
          ],
          "y": [
           0,
           1
          ]
         },
         "projection": {
          "type": "natural earth"
         },
         "showcoastlines": true,
         "showcountries": true
        },
        "legend": {
         "title": {
          "text": "cluster"
         },
         "tracegroupgap": 0
        },
        "margin": {
         "b": 0,
         "l": 0,
         "r": 0,
         "t": 50
        },
        "template": {
         "data": {
          "bar": [
           {
            "error_x": {
             "color": "#2a3f5f"
            },
            "error_y": {
             "color": "#2a3f5f"
            },
            "marker": {
             "line": {
              "color": "#E5ECF6",
              "width": 0.5
             },
             "pattern": {
              "fillmode": "overlay",
              "size": 10,
              "solidity": 0.2
             }
            },
            "type": "bar"
           }
          ],
          "barpolar": [
           {
            "marker": {
             "line": {
              "color": "#E5ECF6",
              "width": 0.5
             },
             "pattern": {
              "fillmode": "overlay",
              "size": 10,
              "solidity": 0.2
             }
            },
            "type": "barpolar"
           }
          ],
          "carpet": [
           {
            "aaxis": {
             "endlinecolor": "#2a3f5f",
             "gridcolor": "white",
             "linecolor": "white",
             "minorgridcolor": "white",
             "startlinecolor": "#2a3f5f"
            },
            "baxis": {
             "endlinecolor": "#2a3f5f",
             "gridcolor": "white",
             "linecolor": "white",
             "minorgridcolor": "white",
             "startlinecolor": "#2a3f5f"
            },
            "type": "carpet"
           }
          ],
          "choropleth": [
           {
            "colorbar": {
             "outlinewidth": 0,
             "ticks": ""
            },
            "type": "choropleth"
           }
          ],
          "contour": [
           {
            "colorbar": {
             "outlinewidth": 0,
             "ticks": ""
            },
            "colorscale": [
             [
              0,
              "#0d0887"
             ],
             [
              0.1111111111111111,
              "#46039f"
             ],
             [
              0.2222222222222222,
              "#7201a8"
             ],
             [
              0.3333333333333333,
              "#9c179e"
             ],
             [
              0.4444444444444444,
              "#bd3786"
             ],
             [
              0.5555555555555556,
              "#d8576b"
             ],
             [
              0.6666666666666666,
              "#ed7953"
             ],
             [
              0.7777777777777778,
              "#fb9f3a"
             ],
             [
              0.8888888888888888,
              "#fdca26"
             ],
             [
              1,
              "#f0f921"
             ]
            ],
            "type": "contour"
           }
          ],
          "contourcarpet": [
           {
            "colorbar": {
             "outlinewidth": 0,
             "ticks": ""
            },
            "type": "contourcarpet"
           }
          ],
          "heatmap": [
           {
            "colorbar": {
             "outlinewidth": 0,
             "ticks": ""
            },
            "colorscale": [
             [
              0,
              "#0d0887"
             ],
             [
              0.1111111111111111,
              "#46039f"
             ],
             [
              0.2222222222222222,
              "#7201a8"
             ],
             [
              0.3333333333333333,
              "#9c179e"
             ],
             [
              0.4444444444444444,
              "#bd3786"
             ],
             [
              0.5555555555555556,
              "#d8576b"
             ],
             [
              0.6666666666666666,
              "#ed7953"
             ],
             [
              0.7777777777777778,
              "#fb9f3a"
             ],
             [
              0.8888888888888888,
              "#fdca26"
             ],
             [
              1,
              "#f0f921"
             ]
            ],
            "type": "heatmap"
           }
          ],
          "histogram": [
           {
            "marker": {
             "pattern": {
              "fillmode": "overlay",
              "size": 10,
              "solidity": 0.2
             }
            },
            "type": "histogram"
           }
          ],
          "histogram2d": [
           {
            "colorbar": {
             "outlinewidth": 0,
             "ticks": ""
            },
            "colorscale": [
             [
              0,
              "#0d0887"
             ],
             [
              0.1111111111111111,
              "#46039f"
             ],
             [
              0.2222222222222222,
              "#7201a8"
             ],
             [
              0.3333333333333333,
              "#9c179e"
             ],
             [
              0.4444444444444444,
              "#bd3786"
             ],
             [
              0.5555555555555556,
              "#d8576b"
             ],
             [
              0.6666666666666666,
              "#ed7953"
             ],
             [
              0.7777777777777778,
              "#fb9f3a"
             ],
             [
              0.8888888888888888,
              "#fdca26"
             ],
             [
              1,
              "#f0f921"
             ]
            ],
            "type": "histogram2d"
           }
          ],
          "histogram2dcontour": [
           {
            "colorbar": {
             "outlinewidth": 0,
             "ticks": ""
            },
            "colorscale": [
             [
              0,
              "#0d0887"
             ],
             [
              0.1111111111111111,
              "#46039f"
             ],
             [
              0.2222222222222222,
              "#7201a8"
             ],
             [
              0.3333333333333333,
              "#9c179e"
             ],
             [
              0.4444444444444444,
              "#bd3786"
             ],
             [
              0.5555555555555556,
              "#d8576b"
             ],
             [
              0.6666666666666666,
              "#ed7953"
             ],
             [
              0.7777777777777778,
              "#fb9f3a"
             ],
             [
              0.8888888888888888,
              "#fdca26"
             ],
             [
              1,
              "#f0f921"
             ]
            ],
            "type": "histogram2dcontour"
           }
          ],
          "mesh3d": [
           {
            "colorbar": {
             "outlinewidth": 0,
             "ticks": ""
            },
            "type": "mesh3d"
           }
          ],
          "parcoords": [
           {
            "line": {
             "colorbar": {
              "outlinewidth": 0,
              "ticks": ""
             }
            },
            "type": "parcoords"
           }
          ],
          "pie": [
           {
            "automargin": true,
            "type": "pie"
           }
          ],
          "scatter": [
           {
            "fillpattern": {
             "fillmode": "overlay",
             "size": 10,
             "solidity": 0.2
            },
            "type": "scatter"
           }
          ],
          "scatter3d": [
           {
            "line": {
             "colorbar": {
              "outlinewidth": 0,
              "ticks": ""
             }
            },
            "marker": {
             "colorbar": {
              "outlinewidth": 0,
              "ticks": ""
             }
            },
            "type": "scatter3d"
           }
          ],
          "scattercarpet": [
           {
            "marker": {
             "colorbar": {
              "outlinewidth": 0,
              "ticks": ""
             }
            },
            "type": "scattercarpet"
           }
          ],
          "scattergeo": [
           {
            "marker": {
             "colorbar": {
              "outlinewidth": 0,
              "ticks": ""
             }
            },
            "type": "scattergeo"
           }
          ],
          "scattergl": [
           {
            "marker": {
             "colorbar": {
              "outlinewidth": 0,
              "ticks": ""
             }
            },
            "type": "scattergl"
           }
          ],
          "scattermap": [
           {
            "marker": {
             "colorbar": {
              "outlinewidth": 0,
              "ticks": ""
             }
            },
            "type": "scattermap"
           }
          ],
          "scattermapbox": [
           {
            "marker": {
             "colorbar": {
              "outlinewidth": 0,
              "ticks": ""
             }
            },
            "type": "scattermapbox"
           }
          ],
          "scatterpolar": [
           {
            "marker": {
             "colorbar": {
              "outlinewidth": 0,
              "ticks": ""
             }
            },
            "type": "scatterpolar"
           }
          ],
          "scatterpolargl": [
           {
            "marker": {
             "colorbar": {
              "outlinewidth": 0,
              "ticks": ""
             }
            },
            "type": "scatterpolargl"
           }
          ],
          "scatterternary": [
           {
            "marker": {
             "colorbar": {
              "outlinewidth": 0,
              "ticks": ""
             }
            },
            "type": "scatterternary"
           }
          ],
          "surface": [
           {
            "colorbar": {
             "outlinewidth": 0,
             "ticks": ""
            },
            "colorscale": [
             [
              0,
              "#0d0887"
             ],
             [
              0.1111111111111111,
              "#46039f"
             ],
             [
              0.2222222222222222,
              "#7201a8"
             ],
             [
              0.3333333333333333,
              "#9c179e"
             ],
             [
              0.4444444444444444,
              "#bd3786"
             ],
             [
              0.5555555555555556,
              "#d8576b"
             ],
             [
              0.6666666666666666,
              "#ed7953"
             ],
             [
              0.7777777777777778,
              "#fb9f3a"
             ],
             [
              0.8888888888888888,
              "#fdca26"
             ],
             [
              1,
              "#f0f921"
             ]
            ],
            "type": "surface"
           }
          ],
          "table": [
           {
            "cells": {
             "fill": {
              "color": "#EBF0F8"
             },
             "line": {
              "color": "white"
             }
            },
            "header": {
             "fill": {
              "color": "#C8D4E3"
             },
             "line": {
              "color": "white"
             }
            },
            "type": "table"
           }
          ]
         },
         "layout": {
          "annotationdefaults": {
           "arrowcolor": "#2a3f5f",
           "arrowhead": 0,
           "arrowwidth": 1
          },
          "autotypenumbers": "strict",
          "coloraxis": {
           "colorbar": {
            "outlinewidth": 0,
            "ticks": ""
           }
          },
          "colorscale": {
           "diverging": [
            [
             0,
             "#8e0152"
            ],
            [
             0.1,
             "#c51b7d"
            ],
            [
             0.2,
             "#de77ae"
            ],
            [
             0.3,
             "#f1b6da"
            ],
            [
             0.4,
             "#fde0ef"
            ],
            [
             0.5,
             "#f7f7f7"
            ],
            [
             0.6,
             "#e6f5d0"
            ],
            [
             0.7,
             "#b8e186"
            ],
            [
             0.8,
             "#7fbc41"
            ],
            [
             0.9,
             "#4d9221"
            ],
            [
             1,
             "#276419"
            ]
           ],
           "sequential": [
            [
             0,
             "#0d0887"
            ],
            [
             0.1111111111111111,
             "#46039f"
            ],
            [
             0.2222222222222222,
             "#7201a8"
            ],
            [
             0.3333333333333333,
             "#9c179e"
            ],
            [
             0.4444444444444444,
             "#bd3786"
            ],
            [
             0.5555555555555556,
             "#d8576b"
            ],
            [
             0.6666666666666666,
             "#ed7953"
            ],
            [
             0.7777777777777778,
             "#fb9f3a"
            ],
            [
             0.8888888888888888,
             "#fdca26"
            ],
            [
             1,
             "#f0f921"
            ]
           ],
           "sequentialminus": [
            [
             0,
             "#0d0887"
            ],
            [
             0.1111111111111111,
             "#46039f"
            ],
            [
             0.2222222222222222,
             "#7201a8"
            ],
            [
             0.3333333333333333,
             "#9c179e"
            ],
            [
             0.4444444444444444,
             "#bd3786"
            ],
            [
             0.5555555555555556,
             "#d8576b"
            ],
            [
             0.6666666666666666,
             "#ed7953"
            ],
            [
             0.7777777777777778,
             "#fb9f3a"
            ],
            [
             0.8888888888888888,
             "#fdca26"
            ],
            [
             1,
             "#f0f921"
            ]
           ]
          },
          "colorway": [
           "#636efa",
           "#EF553B",
           "#00cc96",
           "#ab63fa",
           "#FFA15A",
           "#19d3f3",
           "#FF6692",
           "#B6E880",
           "#FF97FF",
           "#FECB52"
          ],
          "font": {
           "color": "#2a3f5f"
          },
          "geo": {
           "bgcolor": "white",
           "lakecolor": "white",
           "landcolor": "#E5ECF6",
           "showlakes": true,
           "showland": true,
           "subunitcolor": "white"
          },
          "hoverlabel": {
           "align": "left"
          },
          "hovermode": "closest",
          "mapbox": {
           "style": "light"
          },
          "paper_bgcolor": "white",
          "plot_bgcolor": "#E5ECF6",
          "polar": {
           "angularaxis": {
            "gridcolor": "white",
            "linecolor": "white",
            "ticks": ""
           },
           "bgcolor": "#E5ECF6",
           "radialaxis": {
            "gridcolor": "white",
            "linecolor": "white",
            "ticks": ""
           }
          },
          "scene": {
           "xaxis": {
            "backgroundcolor": "#E5ECF6",
            "gridcolor": "white",
            "gridwidth": 2,
            "linecolor": "white",
            "showbackground": true,
            "ticks": "",
            "zerolinecolor": "white"
           },
           "yaxis": {
            "backgroundcolor": "#E5ECF6",
            "gridcolor": "white",
            "gridwidth": 2,
            "linecolor": "white",
            "showbackground": true,
            "ticks": "",
            "zerolinecolor": "white"
           },
           "zaxis": {
            "backgroundcolor": "#E5ECF6",
            "gridcolor": "white",
            "gridwidth": 2,
            "linecolor": "white",
            "showbackground": true,
            "ticks": "",
            "zerolinecolor": "white"
           }
          },
          "shapedefaults": {
           "line": {
            "color": "#2a3f5f"
           }
          },
          "ternary": {
           "aaxis": {
            "gridcolor": "white",
            "linecolor": "white",
            "ticks": ""
           },
           "baxis": {
            "gridcolor": "white",
            "linecolor": "white",
            "ticks": ""
           },
           "bgcolor": "#E5ECF6",
           "caxis": {
            "gridcolor": "white",
            "linecolor": "white",
            "ticks": ""
           }
          },
          "title": {
           "x": 0.05
          },
          "xaxis": {
           "automargin": true,
           "gridcolor": "white",
           "linecolor": "white",
           "ticks": "",
           "title": {
            "standoff": 15
           },
           "zerolinecolor": "white",
           "zerolinewidth": 2
          },
          "yaxis": {
           "automargin": true,
           "gridcolor": "white",
           "linecolor": "white",
           "ticks": "",
           "title": {
            "standoff": 15
           },
           "zerolinecolor": "white",
           "zerolinewidth": 2
          }
         }
        },
        "title": {
         "text": "K-means clustering — international cooperation (all years)"
        }
       }
      }
     },
     "metadata": {},
     "output_type": "display_data"
    }
   ],
   "source": [
    "# 1. Prepare the full network matrix for all years\n",
    "network_df, dissimilarity_df = country_network_matrices(df_organization)\n",
    "\n",
    "# 2. Run K-means clustering (choose K, e.g., 5)\n",
    "kmeans = KMeans(n_clusters=5, n_init=\"auto\", random_state=42)\n",
    "labels = kmeans.fit_predict(dissimilarity_df.values)\n",
    "\n",
    "# 3. Prepare a DataFrame with country, cluster, and ISO3 code for plotting\n",
    "\n",
    "clusters_df = pd.DataFrame({\n",
    "    \"country\": dissimilarity_df.index,\n",
    "    \"cluster\": labels.astype(str)\n",
    "})\n",
    "clusters_df[\"iso_alpha\"] = clusters_df[\"country\"].map(iso2_to_iso3)\n",
    "clusters_df = clusters_df.dropna(subset=[\"iso_alpha\"])\n",
    "\n",
    "# 4. (Optional) Plot the clusters on a map\n",
    "fig = px.choropleth(\n",
    "    clusters_df,\n",
    "    locations=\"iso_alpha\",\n",
    "    color=\"cluster\",\n",
    "    hover_name=\"country\",\n",
    "    color_discrete_sequence=px.colors.qualitative.Set3,\n",
    "    projection=\"natural earth\",\n",
    "    title=\"K-means clustering — international cooperation (all years)\"\n",
    ")\n",
    "fig.update_geos(showcountries=True, countrycolor=\"LightGray\",\n",
    "                showcoastlines=True, coastlinecolor=\"Gray\")\n",
    "fig.update_layout(margin=dict(r=0, l=0, t=50, b=0))\n",
    "fig.show()\n",
    "\n",
    "# Save the network DataFrame to a CSV file\n",
    "network_df.to_csv(\"../data/network_df.csv\", index=True)\n",
    "# Save the clusters DataFrame to a CSV file\n",
    "clusters_df.to_csv(\"../data/clusters_df.csv\", index=False)"
   ]
  },
  {
   "cell_type": "markdown",
   "id": "4c6bfe61",
   "metadata": {},
   "source": [
    "## Network analysis"
   ]
  },
  {
   "cell_type": "code",
   "execution_count": 39,
   "id": "831d08e6",
   "metadata": {},
   "outputs": [],
   "source": [
    "def get_lat_lon_from_iso2(iso2):\n",
    "    try:\n",
    "        info = CountryInfo(iso2)\n",
    "        latlng = info.latlng()\n",
    "        if latlng and len(latlng) == 2:\n",
    "            return latlng[0], latlng[1]\n",
    "    except Exception:\n",
    "        pass\n",
    "    return None, None"
   ]
  },
  {
   "cell_type": "code",
   "execution_count": null,
   "id": "af7b4281",
   "metadata": {},
   "outputs": [
    {
     "data": {
      "application/vnd.jupyter.widget-view+json": {
       "model_id": "6482ffe30db1455fb30b38ff39e3c212",
       "version_major": 2,
       "version_minor": 0
      },
      "text/plain": [
       "VBox(children=(IntRangeSlider(value=(2014, 2026), continuous_update=False, description='Years:', max=2026, min…"
      ]
     },
     "metadata": {},
     "output_type": "display_data"
    }
   ],
   "source": [
    "from ipywidgets import Dropdown, Output, VBox, IntRangeSlider\n",
    "from IPython.display import display\n",
    "import plotly.graph_objects as go\n",
    "\n",
    "def get_lat_lon_from_iso2(iso2):\n",
    "    try:\n",
    "        info = CountryInfo(iso2)\n",
    "        latlng = info.latlng()\n",
    "        if latlng and len(latlng) == 2:\n",
    "            return latlng[0], latlng[1]\n",
    "    except Exception:\n",
    "        pass\n",
    "    return None, None\n",
    "\n",
    "# Year range slider\n",
    "year_range = IntRangeSlider(\n",
    "    value=[years[0], years[-1]],\n",
    "    min=years[0],\n",
    "    max=years[-1],\n",
    "    step=1,\n",
    "    description='Years:',\n",
    "    continuous_update=False\n",
    ")\n",
    "\n",
    "dropdown_cluster = Dropdown(description='Cluster:')\n",
    "out_links = Output()\n",
    "\n",
    "def update_cluster_network(*args):\n",
    "    start_year, end_year = year_range.value\n",
    "    # Filter projects and organizations by year range\n",
    "    project_ids = df_project[(df_project['startYear'] >= start_year) & (df_project['startYear'] <= end_year)]['id']\n",
    "    df_filtered_org = df_organization[df_organization['projectID'].isin(project_ids)]\n",
    "\n",
    "    if df_filtered_org.empty:\n",
    "        with out_links:\n",
    "            out_links.clear_output()\n",
    "            print(\"No data for selected period.\")\n",
    "        dropdown_cluster.options = []\n",
    "        return\n",
    "\n",
    "    # Recompute network and clusters for selected years\n",
    "    network_df, dissimilarity_df = country_network_matrices(df_filtered_org)\n",
    "    clusters_df = cluster_dataframe(dissimilarity_df, KMeans(n_clusters=5, n_init=\"auto\", random_state=42), \"K-means\")\n",
    "\n",
    "    # Update cluster dropdown options\n",
    "    cluster_options = sorted(clusters_df['cluster'].unique())\n",
    "    dropdown_cluster.options = cluster_options\n",
    "    dropdown_cluster.value = cluster_options[0] if cluster_options else None\n",
    "\n",
    "    def plot_cluster_links(selected_cluster):\n",
    "        with out_links:\n",
    "            out_links.clear_output(wait=True)\n",
    "            countries = clusters_df[clusters_df['cluster'] == selected_cluster]['country'].tolist()\n",
    "            if len(countries) < 2:\n",
    "                print(\"Not enough countries in this cluster to show links.\")\n",
    "                return\n",
    "\n",
    "            coords = {}\n",
    "            for c in countries:\n",
    "                lat, lon = get_lat_lon_from_iso2(c)\n",
    "                if lat is not None and lon is not None:\n",
    "                    coords[c] = (lat, lon)\n",
    "            valid_countries = [c for c in countries if c in coords]\n",
    "\n",
    "            lines = []\n",
    "            weights = []\n",
    "            for i, c1 in enumerate(valid_countries):\n",
    "                for j, c2 in enumerate(valid_countries):\n",
    "                    if j <= i:\n",
    "                        continue\n",
    "                    weight = network_df.loc[c1, c2]\n",
    "                    if weight > 0:\n",
    "                        lines.append({\n",
    "                            'from': c1,\n",
    "                            'to': c2,\n",
    "                            'weight': weight,\n",
    "                            'from_lat': coords[c1][0],\n",
    "                            'from_lon': coords[c1][1],\n",
    "                            'to_lat': coords[c2][0],\n",
    "                            'to_lon': coords[c2][1],\n",
    "                        })\n",
    "                        weights.append(weight)\n",
    "\n",
    "            lats = [coords[c][0] for c in valid_countries]\n",
    "            lons = [coords[c][1] for c in valid_countries]\n",
    "            names = [c for c in valid_countries]\n",
    "\n",
    "            fig = go.Figure()\n",
    "\n",
    "            # Color lines by weight using red with varying alpha (transparency)\n",
    "            if lines:\n",
    "                min_w, max_w = min(weights), max(weights)\n",
    "\n",
    "                def get_rgba(val):\n",
    "                    # Normalize weight to [0, 1]\n",
    "                    if max_w == min_w:\n",
    "                        t = 1.0\n",
    "                    else:\n",
    "                        t = (val - min_w) / (max_w - min_w)\n",
    "                    # Red color, alpha from 0.1 (almost transparent) to 1 (opaque)\n",
    "                    alpha = 0.1 + 0.9 * t\n",
    "                    return f'rgba(220, 20, 60, {alpha:.2f})'  # Crimson red\n",
    "\n",
    "                for link in lines:\n",
    "                    color = get_rgba(link['weight'])\n",
    "                    fig.add_trace(go.Scattergeo(\n",
    "                        lon=[link['from_lon'], link['to_lon']],\n",
    "                        lat=[link['from_lat'], link['to_lat']],\n",
    "                        mode='lines',\n",
    "                        line=dict(width=3, color=color),\n",
    "                        opacity=1.0,  # Opacity handled by RGBA\n",
    "                        showlegend=False,\n",
    "                        hoverinfo='text',\n",
    "                        text=f\"{link['from']}–{link['to']}: {link['weight']}\"\n",
    "                    ))\n",
    "\n",
    "            fig.add_trace(go.Scattergeo(\n",
    "                lon=lons,\n",
    "                lat=lats,\n",
    "                mode='markers+text',\n",
    "                marker=dict(size=10, color='blue'),\n",
    "                text=names,\n",
    "                textposition=\"top center\",\n",
    "                hoverinfo='text'\n",
    "            ))\n",
    "            fig.update_geos(\n",
    "                showcountries=True,\n",
    "                countrycolor=\"LightGray\",\n",
    "                showcoastlines=True,\n",
    "                coastlinecolor=\"Gray\",\n",
    "                projection_type=\"natural earth\"\n",
    "            )\n",
    "            fig.update_layout(\n",
    "                title=f\"Collaboration Links in Cluster {selected_cluster} ({start_year}-{end_year})\",\n",
    "                height=600,\n",
    "                margin=dict(r=0, l=0, t=50, b=0)\n",
    "            )\n",
    "            display(fig)\n",
    "\n",
    "    dropdown_cluster.observe(lambda change: plot_cluster_links(change['new']), names='value')\n",
    "    if dropdown_cluster.value is not None:\n",
    "        plot_cluster_links(dropdown_cluster.value)\n",
    "    else:\n",
    "        with out_links:\n",
    "            out_links.clear_output()\n",
    "            print(\"No clusters for selected period.\")\n",
    "\n",
    "# Observe year slider\n",
    "year_range.observe(update_cluster_network, names='value')\n",
    "\n",
    "# Initial UI\n",
    "display(VBox([year_range, dropdown_cluster, out_links]))\n",
    "update_cluster_network()"
   ]
  },
  {
   "cell_type": "markdown",
   "id": "4219c233",
   "metadata": {},
   "source": [
    "## Research Impact"
   ]
  },
  {
   "cell_type": "code",
   "execution_count": null,
   "id": "9ed6ea9a",
   "metadata": {},
   "outputs": [
    {
     "data": {
      "application/vnd.jupyter.widget-view+json": {
       "model_id": "bb2dbbf68fe049049bddacbb052ba89c",
       "version_major": 2,
       "version_minor": 0
      },
      "text/plain": [
       "VBox(children=(Dropdown(description='Categorie:', options=('agricultural sciences', 'engineering and technolog…"
      ]
     },
     "metadata": {},
     "output_type": "display_data"
    }
   ],
   "source": [
    "# Widget output\n",
    "out = Output()\n",
    "\n",
    "# All categories\n",
    "categories = sorted(category_year_stats['category'].dropna().unique())\n",
    "\n",
    "# Dropdown widget\n",
    "dropdown = Dropdown(\n",
    "    options=categories,\n",
    "    value=categories[0] if categories else None,\n",
    "    description='Categorie:'\n",
    ")\n",
    "\n",
    "# Plot function\n",
    "def create_plot(selected_cat):\n",
    "    data = category_year_stats[category_year_stats['category'] == selected_cat]\n",
    "    fig = px.line(\n",
    "        data,\n",
    "        x='Year',\n",
    "        y='publication_count',\n",
    "        markers=True,\n",
    "        title=f'{selected_cat.capitalize()} Publications Over Time',\n",
    "        labels={'publication_count': 'Number of Publications'}\n",
    "    )\n",
    "    # Add citations as secondary y-axis\n",
    "    fig.add_bar(\n",
    "        x=data['Year'],\n",
    "        y=data['total_citations'],\n",
    "        name='Total Citations',\n",
    "        yaxis='y2',\n",
    "        marker_color='orange',\n",
    "        opacity=0.5\n",
    "    )\n",
    "    fig.update_layout(\n",
    "        height=500,\n",
    "        margin={\"r\": 0, \"t\": 50, \"l\": 0, \"b\": 0},\n",
    "        yaxis=dict(title='Number of Publications'),\n",
    "        yaxis2=dict(\n",
    "            title='Total Citations',\n",
    "            overlaying='y',\n",
    "            side='right'\n",
    "        ),\n",
    "        legend=dict(x=0.01, y=0.99)\n",
    "    )\n",
    "    return fig\n",
    "\n",
    "# Update function\n",
    "def update_plot(change):\n",
    "    with out:\n",
    "        out.clear_output(wait=True)\n",
    "        selected = change['new']\n",
    "        fig = create_plot(selected)\n",
    "        display(fig)\n",
    "\n",
    "# Link update function to dropdown\n",
    "dropdown.observe(update_plot, names='value')\n",
    "\n",
    "# Show UI\n",
    "display(VBox([dropdown, out]))\n",
    "\n",
    "# Initial plot\n",
    "with out:\n",
    "    if categories:\n",
    "        fig = create_plot(dropdown.value)\n",
    "        display(fig)\n",
    "    else:\n",
    "        print(\"No categories available.\")"
   ]
  },
  {
   "cell_type": "code",
   "execution_count": 45,
   "id": "169c2f50",
   "metadata": {},
   "outputs": [
    {
     "data": {
      "application/vnd.jupyter.widget-view+json": {
       "model_id": "50168f6a4d814f5d89133126910f3723",
       "version_major": 2,
       "version_minor": 0
      },
      "text/plain": [
       "VBox(children=(Dropdown(description='Year:', options=(np.int32(2014), np.int32(2015), np.int32(2016), np.int32…"
      ]
     },
     "metadata": {},
     "output_type": "display_data"
    }
   ],
   "source": [
    "# Dropdown for year selection\n",
    "dropdown_year = Dropdown(\n",
    "    options=years,\n",
    "    value=years[0] if years else None,\n",
    "    description='Year:'\n",
    ")\n",
    "\n",
    "out_pie = Output()\n",
    "\n",
    "def plot_pie(selected_year):\n",
    "    data = citations_per_topic_year[citations_per_topic_year['Year'] == selected_year]\n",
    "    if data.empty:\n",
    "        fig = None\n",
    "    else:\n",
    "        fig = px.pie(\n",
    "            data,\n",
    "            names='category',\n",
    "            values='total_citations',\n",
    "            title=f'Citations by Research Topic in {selected_year}',\n",
    "            hole=0.3\n",
    "        )\n",
    "        fig.update_traces(textinfo='percent+label')\n",
    "    return fig\n",
    "\n",
    "def update_pie(change):\n",
    "    with out_pie:\n",
    "        out_pie.clear_output(wait=True)\n",
    "        fig = plot_pie(change['new'])\n",
    "        if fig:\n",
    "            display(fig)\n",
    "        else:\n",
    "            print(\"No data for this year.\")\n",
    "\n",
    "dropdown_year.observe(update_pie, names='value')\n",
    "\n",
    "display(VBox([dropdown_year, out_pie]))\n",
    "\n",
    "# Initial plot\n",
    "with out_pie:\n",
    "    fig = plot_pie(dropdown_year.value)\n",
    "    if fig:\n",
    "        display(fig)\n",
    "    else:\n",
    "        print(\"No data for this year.\")"
   ]
  }
 ],
 "metadata": {
  "kernelspec": {
   "display_name": "MDAnew",
   "language": "python",
   "name": "python3"
  },
  "language_info": {
   "codemirror_mode": {
    "name": "ipython",
    "version": 3
   },
   "file_extension": ".py",
   "mimetype": "text/x-python",
   "name": "python",
   "nbconvert_exporter": "python",
   "pygments_lexer": "ipython3",
   "version": "3.10.16"
  }
 },
 "nbformat": 4,
 "nbformat_minor": 5
}
